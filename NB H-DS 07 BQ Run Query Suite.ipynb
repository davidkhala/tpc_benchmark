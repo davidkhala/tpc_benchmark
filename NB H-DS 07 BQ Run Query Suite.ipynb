{
 "cells": [
  {
   "cell_type": "markdown",
   "metadata": {},
   "source": [
    "## TPC Query Execution - BIGQUERY"
   ]
  },
  {
   "cell_type": "code",
   "execution_count": 1,
   "metadata": {},
   "outputs": [],
   "source": [
    "import config, bq"
   ]
  },
  {
   "cell_type": "markdown",
   "metadata": {},
   "source": [
    "Set variables"
   ]
  },
  {
   "cell_type": "code",
   "execution_count": 2,
   "metadata": {
    "pycharm": {
     "name": "#%%\n"
    }
   },
   "outputs": [],
   "source": [
    "test = \"ds\"\n",
    "scale = 1\n",
    "description = \"query_tests\"\n",
    "project = \"tpc-benchmarking-9432\"\n",
    "qual = None\n",
    "db_name = \"bq\""
   ]
  },
  {
   "cell_type": "markdown",
   "metadata": {},
   "source": [
    "Generate project specific variables"
   ]
  },
  {
   "cell_type": "code",
   "execution_count": 3,
   "metadata": {
    "pycharm": {
     "name": "#%%\n"
    }
   },
   "outputs": [],
   "source": [
    "tpl_dir = f\"{config.fp_query_templates}{config.sep}{db_name}_{test}\"\n",
    "dataset = f\"{test}_{scale}GB_01\""
   ]
  },
  {
   "cell_type": "code",
   "execution_count": 4,
   "metadata": {},
   "outputs": [],
   "source": [
    "dataset = \"ds_1GB_qual\""
   ]
  },
  {
   "cell_type": "markdown",
   "metadata": {},
   "source": [
    "Sequence as accending through all available"
   ]
  },
  {
   "cell_type": "code",
   "execution_count": 5,
   "metadata": {},
   "outputs": [],
   "source": [
    "query_sequence = list(range(1,23))\n",
    "if test == \"ds\":\n",
    "    query_sequence = list(range(1,99))"
   ]
  },
  {
   "cell_type": "markdown",
   "metadata": {},
   "source": [
    "If needed, override sequence to evaluage a single query"
   ]
  },
  {
   "cell_type": "raw",
   "metadata": {},
   "source": [
    "query_sequence = 1\n",
    "description = f\"{query_sequence}_query_test\"\n",
    "query_sequence = [query_sequence]\n",
    "save = True"
   ]
  },
  {
   "cell_type": "markdown",
   "metadata": {},
   "source": [
    "Run query sequence"
   ]
  },
  {
   "cell_type": "code",
   "execution_count": 26,
   "metadata": {},
   "outputs": [
    {
     "name": "stdout",
     "output_type": "stream",
     "text": [
      "===============\n",
      "START QUERY: 8\n",
      "TPC-DS dsqgen parameters\n",
      "========================\n",
      "command & kwargs: ['./dsqgen', '-VERBOSE', '-SCALE', '1', '-RNGSEED', '13', '-TEMPLATE', 'query8.tpl', '-FILTER', '-DIALECT', 'sqlserver_bq', '-DIRECTORY', '/home/colin/code/bq_snowflake_benchmark/tpl/bq_ds']\n",
      "cwd: /home/colin/code/bq_snowflake_benchmark/ds/v2.11.0rc2/tools\n",
      "\n",
      "Query Statistics\n",
      "================\n",
      "Total Time Elapsed: 0:00:01.499000\n",
      "Bytes Processed: 69633611\n",
      "Bytes Billed: 70254592\n",
      "\n",
      "Result:\n",
      "=======\n",
      "  s_store_name          f0_\n",
      "0        ation -11083526.13\n",
      "1         eing -10837429.31\n",
      "2          ese -11375251.58\n",
      "\n",
      "QUERY EXECUTED\n",
      "==============\n",
      "\n",
      "select  s_store_name\n",
      "      ,sum(ss_net_profit)\n",
      " from store_sales\n",
      "     ,date_dim\n",
      "     ,store,\n",
      "     (select ca_zip\n",
      "     from (\n",
      "      SELECT substr(ca_zip,1,5) ca_zip\n",
      "      FROM customer_address\n",
      "      WHERE substr(ca_zip,1,5) IN (\n",
      "                          '16970','14591','31741','99320','80090','42967',\n",
      "                          '20993','92431','62505','69423','75664',\n",
      "                          '34264','75797','75529','43832','36609',\n",
      "                          '80681','89508','50834','93957','27705',\n",
      "                          '81475','69270','22450','89916','42458',\n",
      "                          '86641','14439','14998','29531','18145',\n",
      "                          '68557','14716','69371','48137','94642',\n",
      "                          '12188','26115','17354','50086','74631',\n",
      "                          '35734','64851','31181','46506','48575',\n",
      "                          '99525','54963','43818','14035','45082',\n",
      "                          '85678','19275','94819','46427','52045',\n",
      "                          '67527','68432','93774','92645','10270',\n",
      "                          '48777','12836','18958','98317','18026',\n",
      "                          '32687','76546','83201','44130','81993',\n",
      "                          '22166','20244','99064','50979','15901',\n",
      "                          '55506','74393','67322','15228','35340',\n",
      "                          '47576','68434','95338','24605','66386',\n",
      "                          '68543','77343','79100','62575','47504',\n",
      "                          '83659','48978','36595','16382','93537',\n",
      "                          '18246','67912','36754','52638','87632',\n",
      "                          '18425','87635','40036','28523','36126',\n",
      "                          '25427','11162','56167','91489','21838',\n",
      "                          '18181','11157','54159','27271','75405',\n",
      "                          '78553','97894','69894','61710','59734',\n",
      "                          '97770','61246','85870','83136','37981',\n",
      "                          '24706','20155','65785','57919','33130',\n",
      "                          '10570','38999','93448','60025','71439',\n",
      "                          '59692','67610','22195','76652','56142',\n",
      "                          '11168','55722','63759','61260','25457',\n",
      "                          '66549','56907','84415','83520','92071',\n",
      "                          '30745','51445','83358','10315','28430',\n",
      "                          '90567','16037','49724','70095','78659',\n",
      "                          '71666','57335','25932','78095','62816',\n",
      "                          '71673','72158','76995','28708','40363',\n",
      "                          '90006','19880','86301','41973','62417',\n",
      "                          '23729','18005','34066','33911','91418',\n",
      "                          '14138','36767','88244','73034','53712',\n",
      "                          '14558','21986','27159','33740','20476',\n",
      "                          '93703','89027','82426','44681','60395',\n",
      "                          '21077','79398','97032','23460','68639',\n",
      "                          '62013','85957','16550','89880','16168',\n",
      "                          '67002','15873','51051','73927','41006',\n",
      "                          '99021','56828','62908','28083','43216',\n",
      "                          '83035','49034','73314','80121','63088',\n",
      "                          '42403','52054','20877','37069','63962',\n",
      "                          '14351','82128','32069','41797','75746',\n",
      "                          '57164','40891','33146','14465','11451',\n",
      "                          '50998','35961','54341','74116','69408',\n",
      "                          '17344','61595','64767','90917','68233',\n",
      "                          '18849','22386','37908','61128','28330',\n",
      "                          '69295','44035','27715','10536','45564',\n",
      "                          '13915','55328','91801','57713','27625',\n",
      "                          '24622','83425','16368','90255','78724',\n",
      "                          '59543','64100','45900','31685','31358',\n",
      "                          '74376','32777','54388','10348','66821',\n",
      "                          '39955','61171','64350','93108','25445',\n",
      "                          '80395','17939','86734','91612','32484',\n",
      "                          '38078','57838','91527','62103','80248',\n",
      "                          '19384','17426','13243','84871','35038',\n",
      "                          '62756','90011','12799','10819','67867',\n",
      "                          '24365','37716','55583','50201','45724',\n",
      "                          '70263','15411','58418','39633','34471',\n",
      "                          '46280','29256','22186','54899','76452',\n",
      "                          '61995','44950','83386','97866','54661',\n",
      "                          '59053','62076','33096','13366','92025',\n",
      "                          '63469','57520','27991','93410','81845',\n",
      "                          '59959','28408','66718','32321','60467',\n",
      "                          '92509','31945','39308','45905','72065',\n",
      "                          '91010','19619','26276','42866','20166',\n",
      "                          '12380','22979','70868','17761','13419',\n",
      "                          '55257','76475','64868','97865','15274',\n",
      "                          '14961','16135','83716','36529','21944',\n",
      "                          '32062','56400','32783','53008','47803',\n",
      "                          '17349','73806','60867','15980','42582',\n",
      "                          '90105','38891','27006','10514','92145',\n",
      "                          '77456','22856','42380','23894','58886',\n",
      "                          '82017','58721','90138','56103','48354',\n",
      "                          '62707','15151','66707','41286','26772',\n",
      "                          '63532','22805','28740','86822','39261',\n",
      "                          '34141','44908','57509','55042')\n",
      "     intersect distinct\n",
      "      select ca_zip\n",
      "      from (SELECT substr(ca_zip,1,5) ca_zip,count(*) cnt\n",
      "            FROM customer_address, customer\n",
      "            WHERE ca_address_sk = c_current_addr_sk and\n",
      "                  c_preferred_cust_flag='Y'\n",
      "            group by ca_zip\n",
      "            having count(*) > 10)A1)A2) V1\n",
      " where ss_store_sk = s_store_sk\n",
      "  and ss_sold_date_sk = d_date_sk\n",
      "  and d_qoy = 1 and d_year = 2002\n",
      "  and (substr(s_zip,1,2) = substr(V1.ca_zip,1,2))\n",
      " group by s_store_name\n",
      " order by s_store_name\n",
      " limit 100;\n",
      "\n",
      "\n",
      "\n",
      "----------------------------------------\n",
      "Total Time Elapsed: 0:00:01.499000\n",
      "Bytes Processed: 69633611\n",
      "Bytes Billed: 70254592\n",
      "----------------------------------------\n",
      "QUERY: 8\n",
      "=========\n",
      "\n",
      "Sequence Done: True\n",
      "=======================\n"
     ]
    }
   ],
   "source": [
    "query_sequence = 8\n",
    "description = f\"{query_sequence}_query_test\"\n",
    "query_sequence = [query_sequence]\n",
    "save = True\n",
    "\n",
    "seq_done = bq.query_seq(desc=description,\n",
    "                        test=test,\n",
    "                        seq=query_sequence,\n",
    "                        templates_dir=tpl_dir,\n",
    "                        scale=scale,\n",
    "                        project=project,\n",
    "                        dataset=dataset,\n",
    "                        qual=qual,\n",
    "                        dry_run=False,\n",
    "                        use_cache=False,\n",
    "                        save=save,\n",
    "                        verbose=True,\n",
    "                        verbose_iter=True,\n",
    "                        verbose_query=True\n",
    "                        )\n",
    "print(\"Sequence Done:\", seq_done)\n",
    "print(\"=======================\")"
   ]
  },
  {
   "cell_type": "code",
   "execution_count": null,
   "metadata": {},
   "outputs": [],
   "source": [
    "break"
   ]
  },
  {
   "cell_type": "markdown",
   "metadata": {},
   "source": [
    "Stream sequence is 1 through 20 for both TPC-H and TPC-DS"
   ]
  },
  {
   "cell_type": "code",
   "execution_count": null,
   "metadata": {},
   "outputs": [],
   "source": [
    "stream_sequence = range(20)"
   ]
  },
  {
   "cell_type": "markdown",
   "metadata": {},
   "source": [
    "If needed, override sequence for single query"
   ]
  },
  {
   "cell_type": "code",
   "execution_count": null,
   "metadata": {},
   "outputs": [],
   "source": [
    "stream_sequence = 1\n",
    "stream_sequence = [stream_sequence]"
   ]
  },
  {
   "cell_type": "code",
   "execution_count": null,
   "metadata": {},
   "outputs": [],
   "source": [
    "seq_done = bq.stream_seq(desc=description,\n",
    "                         test=test,\n",
    "                         seq=stream_sequence,\n",
    "                         templates_dir=tpl_dir,\n",
    "                         scale=scale,\n",
    "                         project=project,\n",
    "                         dataset=dataset,\n",
    "                         qual=qual,\n",
    "                         dry_run=False,\n",
    "                         use_cache=False,\n",
    "                         verbose=False,\n",
    "                         verbose_iter=True,\n",
    "                         verbose_query=True \n",
    "                        )\n",
    "print(\"Sequence Done:\", seq_done)"
   ]
  },
  {
   "cell_type": "code",
   "execution_count": null,
   "metadata": {},
   "outputs": [],
   "source": []
  }
 ],
 "metadata": {
  "kernelspec": {
   "display_name": "Python 3",
   "language": "python",
   "name": "python3"
  },
  "language_info": {
   "codemirror_mode": {
    "name": "ipython",
    "version": 3
   },
   "file_extension": ".py",
   "mimetype": "text/x-python",
   "name": "python",
   "nbconvert_exporter": "python",
   "pygments_lexer": "ipython3",
   "version": "3.8.2"
  }
 },
 "nbformat": 4,
 "nbformat_minor": 4
}
