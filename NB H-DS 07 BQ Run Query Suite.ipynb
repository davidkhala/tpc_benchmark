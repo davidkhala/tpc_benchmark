{
 "cells": [
  {
   "cell_type": "markdown",
   "metadata": {},
   "source": [
    "## TPC Query Execution - BIGQUERY"
   ]
  },
  {
   "cell_type": "code",
   "execution_count": 1,
   "metadata": {},
   "outputs": [],
   "source": [
    "import config, bq"
   ]
  },
  {
   "cell_type": "markdown",
   "metadata": {},
   "source": [
    "Set variables"
   ]
  },
  {
   "cell_type": "code",
   "execution_count": 2,
   "metadata": {
    "pycharm": {
     "name": "#%%\n"
    }
   },
   "outputs": [],
   "source": [
    "test = \"h\"\n",
    "scale = 1\n",
    "description = \"query_tests\"\n",
    "project = \"tpc-benchmarking-9432\"\n",
    "qual = None\n",
    "db_name = \"bq\""
   ]
  },
  {
   "cell_type": "markdown",
   "metadata": {},
   "source": [
    "Generate project specific variables"
   ]
  },
  {
   "cell_type": "code",
   "execution_count": 3,
   "metadata": {
    "pycharm": {
     "name": "#%%\n"
    }
   },
   "outputs": [],
   "source": [
    "tpl_dir = f\"{config.fp_query_templates}{config.sep}{db_name}_{test}\"\n",
    "dataset = f\"{test}_{scale}GB_01\""
   ]
  },
  {
   "cell_type": "code",
   "execution_count": 4,
   "metadata": {},
   "outputs": [],
   "source": [
    "dataset = \"h_1GB_qual\""
   ]
  },
  {
   "cell_type": "markdown",
   "metadata": {},
   "source": [
    "Sequence as accending through all available"
   ]
  },
  {
   "cell_type": "code",
   "execution_count": 5,
   "metadata": {},
   "outputs": [],
   "source": [
    "query_sequence = list(range(1,23))\n",
    "if test == \"ds\":\n",
    "    query_sequence = list(range(1,99))"
   ]
  },
  {
   "cell_type": "markdown",
   "metadata": {},
   "source": [
    "If needed, override sequence to evaluage a single query"
   ]
  },
  {
   "cell_type": "code",
   "execution_count": 6,
   "metadata": {},
   "outputs": [],
   "source": [
    "query_sequence = 1\n",
    "description = \"01_query_test\"\n",
    "query_sequence = [query_sequence]"
   ]
  },
  {
   "cell_type": "markdown",
   "metadata": {},
   "source": [
    "Run query sequence"
   ]
  },
  {
   "cell_type": "code",
   "execution_count": 10,
   "metadata": {},
   "outputs": [
    {
     "name": "stdout",
     "output_type": "stream",
     "text": [
      "===============\n",
      "START QUERY: 1\n",
      "TPC-H qgen parameters\n",
      "=====================\n",
      "cmd & kwargs: ['./qgen', '-r', '13', '-s', '1', '-x', '1']\n",
      "path_dir: None\n",
      "templates_dir: /home/colin/code/bq_snowflake_benchmark/tpl/bq_h\n",
      "cwd: /home/colin/code/bq_snowflake_benchmark/h/2.18.0_rc2/dbgen\n",
      "\n",
      "Query Statistics\n",
      "================\n",
      "Total Time Elapsed: 0:00:02.255000\n",
      "Bytes Processed: 276055890\n",
      "Bytes Billed: 276824064\n",
      "\n",
      "Result:\n",
      "=======\n",
      "  l_returnflag l_linestatus     sum_qty  sum_base_price  sum_disc_price  \\\n",
      "0            A            F  37734107.0    5.658655e+10    5.375826e+10   \n",
      "1            N            F    991417.0    1.487505e+09    1.413082e+09   \n",
      "2            N            O  73808911.0    1.107010e+11    1.051674e+11   \n",
      "3            R            F  37719753.0    5.656804e+10    5.374129e+10   \n",
      "\n",
      "     sum_charge    avg_qty     avg_price  avg_disc  count_order  \n",
      "0  5.590907e+10  25.522006  38273.129735  0.049985      1478493  \n",
      "1  1.469649e+09  25.516472  38284.467761  0.050093        38854  \n",
      "2  1.093780e+11  25.501666  38248.222960  0.049997      2894278  \n",
      "3  5.588962e+10  25.505794  38250.854626  0.050009      1478870  \n",
      "\n",
      "QUERY EXECUTED\n",
      "==============\n",
      "select\n",
      "\tl_returnflag,\n",
      "\tl_linestatus,\n",
      "\tsum(l_quantity) as sum_qty,\n",
      "\tsum(l_extendedprice) as sum_base_price,\n",
      "\tsum(l_extendedprice * (1 - l_discount)) as sum_disc_price,\n",
      "\tsum(l_extendedprice * (1 - l_discount) * (1 + l_tax)) as sum_charge,\n",
      "\tavg(l_quantity) as avg_qty,\n",
      "\tavg(l_extendedprice) as avg_price,\n",
      "\tavg(l_discount) as avg_disc,\n",
      "\tcount(*) as count_order\n",
      "from\n",
      "\tlineitem\n",
      "where\n",
      "\tl_shipdate <= date_sub(cast('1998-12-01' as date), interval '103' day)\n",
      "group by\n",
      "\tl_returnflag,\n",
      "\tl_linestatus\n",
      "order by\n",
      "\tl_returnflag,\n",
      "\tl_linestatus\n",
      ";\n",
      "\n",
      "----------------------------------------\n",
      "Total Time Elapsed: 0:00:02.255000\n",
      "Bytes Processed: 276055890\n",
      "Bytes Billed: 276824064\n",
      "----------------------------------------\n",
      "QUERY: 1\n",
      "=========\n",
      "\n",
      "Sequence Done: True\n",
      "=======================\n"
     ]
    }
   ],
   "source": [
    "seq_done = bq.query_seq(desc=description,\n",
    "                        test=test,\n",
    "                        seq=query_sequence,\n",
    "                        templates_dir=tpl_dir,\n",
    "                        scale=scale,\n",
    "                        project=project,\n",
    "                        dataset=dataset,\n",
    "                        qual=qual,\n",
    "                        dry_run=False,\n",
    "                        use_cache=False,\n",
    "                        save=True,\n",
    "                        verbose=True,\n",
    "                        verbose_iter=True,\n",
    "                        verbose_query=True\n",
    "                        )\n",
    "print(\"Sequence Done:\", seq_done)\n",
    "print(\"=======================\")"
   ]
  },
  {
   "cell_type": "code",
   "execution_count": 8,
   "metadata": {},
   "outputs": [
    {
     "ename": "SyntaxError",
     "evalue": "'break' outside loop (<ipython-input-8-6aaf1f276005>, line 1)",
     "output_type": "error",
     "traceback": [
      "\u001b[0;36m  File \u001b[0;32m\"<ipython-input-8-6aaf1f276005>\"\u001b[0;36m, line \u001b[0;32m1\u001b[0m\n\u001b[0;31m    break\u001b[0m\n\u001b[0m    ^\u001b[0m\n\u001b[0;31mSyntaxError\u001b[0m\u001b[0;31m:\u001b[0m 'break' outside loop\n"
     ]
    }
   ],
   "source": [
    "break"
   ]
  },
  {
   "cell_type": "markdown",
   "metadata": {},
   "source": [
    "Stream sequence is 1 through 20 for both TPC-H and TPC-DS"
   ]
  },
  {
   "cell_type": "code",
   "execution_count": null,
   "metadata": {},
   "outputs": [],
   "source": [
    "stream_sequence = range(20)"
   ]
  },
  {
   "cell_type": "markdown",
   "metadata": {},
   "source": [
    "If needed, override sequence for single query"
   ]
  },
  {
   "cell_type": "code",
   "execution_count": null,
   "metadata": {},
   "outputs": [],
   "source": [
    "stream_sequence = 1\n",
    "stream_sequence = [stream_sequence]"
   ]
  },
  {
   "cell_type": "code",
   "execution_count": null,
   "metadata": {},
   "outputs": [],
   "source": [
    "seq_done = bq.stream_seq(desc=description,\n",
    "                         test=test,\n",
    "                         seq=stream_sequence,\n",
    "                         templates_dir=tpl_dir,\n",
    "                         scale=scale,\n",
    "                         project=project,\n",
    "                         dataset=dataset,\n",
    "                         qual=qual,\n",
    "                         dry_run=False,\n",
    "                         use_cache=False,\n",
    "                         verbose=False,\n",
    "                         verbose_iter=True,\n",
    "                         verbose_query=True \n",
    "                        )\n",
    "print(\"Sequence Done:\", seq_done)"
   ]
  },
  {
   "cell_type": "code",
   "execution_count": null,
   "metadata": {},
   "outputs": [],
   "source": []
  }
 ],
 "metadata": {
  "kernelspec": {
   "display_name": "Python 3",
   "language": "python",
   "name": "python3"
  },
  "language_info": {
   "codemirror_mode": {
    "name": "ipython",
    "version": 3
   },
   "file_extension": ".py",
   "mimetype": "text/x-python",
   "name": "python",
   "nbconvert_exporter": "python",
   "pygments_lexer": "ipython3",
   "version": "3.8.2"
  }
 },
 "nbformat": 4,
 "nbformat_minor": 4
}
