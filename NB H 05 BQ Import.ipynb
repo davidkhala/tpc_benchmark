{
 "cells": [
  {
   "cell_type": "markdown",
   "metadata": {},
   "source": [
    "## TPC-H BigQuery Import  \n",
    "Import data from GCS to a previously created BigQuery dataset"
   ]
  },
  {
   "cell_type": "code",
   "execution_count": 1,
   "metadata": {},
   "outputs": [],
   "source": [
    "import config, schema, bq, load"
   ]
  },
  {
   "cell_type": "code",
   "execution_count": 2,
   "metadata": {},
   "outputs": [],
   "source": [
    "import pandas as pd\n",
    "import matplotlib.pyplot as plt"
   ]
  },
  {
   "cell_type": "code",
   "execution_count": 3,
   "metadata": {},
   "outputs": [],
   "source": [
    "pd.set_option(\"display.max_rows\", 1000)\n",
    "pd.options.display.float_format = '{:.2f}'.format"
   ]
  },
  {
   "cell_type": "raw",
   "metadata": {},
   "source": [
    "from importlib import reload"
   ]
  },
  {
   "cell_type": "markdown",
   "metadata": {},
   "source": [
    "### I. TPC-H 1GB - basic, no config"
   ]
  },
  {
   "cell_type": "code",
   "execution_count": 4,
   "metadata": {},
   "outputs": [],
   "source": [
    "dataset_name = 'h_1GB_qual'"
   ]
  },
  {
   "cell_type": "code",
   "execution_count": 5,
   "metadata": {},
   "outputs": [],
   "source": [
    "ddl_filepath = config.fp_schema + config.sep + \"bq_h.ddl\""
   ]
  },
  {
   "cell_type": "raw",
   "metadata": {},
   "source": [
    "schema.rewrite_h_basic(filepath_out=ddl_filepath,\n",
    "                       dataset_name=dataset_name)"
   ]
  },
  {
   "cell_type": "code",
   "execution_count": 6,
   "metadata": {},
   "outputs": [
    {
     "data": {
      "text/plain": [
       "Dataset(DatasetReference('tpc-benchmarking-9432', 'h_1GB_qual'))"
      ]
     },
     "execution_count": 6,
     "metadata": {},
     "output_type": "execute_result"
    }
   ],
   "source": [
    "bq.create_dataset(dataset_name=dataset_name)"
   ]
  },
  {
   "cell_type": "code",
   "execution_count": 7,
   "metadata": {},
   "outputs": [],
   "source": [
    "bq.create_schema(schema_file=ddl_filepath, dataset=dataset_name)"
   ]
  },
  {
   "cell_type": "raw",
   "metadata": {},
   "source": [
    "# set n to about 5, high numbers run afoul of BQ's upload limits\n",
    "# i.e. 403 - rateLimitExceeded\n",
    "# https://cloud.google.com/bigquery/docs/error-messages\n",
    "# TODO: Pooled Upload is DOUBLE uploaded files...\n",
    "# but order matters so revert to sequential BQUpload class for now...\n",
    "u = load.BQPooledUpload(dataset_name=dataset_name,\n",
    "                        test=\"h\", scale=1, n=5)\n",
    "u.verbose = True"
   ]
  },
  {
   "cell_type": "raw",
   "metadata": {},
   "source": [
    "x = u.chunk_df()"
   ]
  },
  {
   "cell_type": "raw",
   "metadata": {},
   "source": [
    "for y in x:\n",
    "    print(y.chunk_name)\n",
    "    print(len(y.chunk_name))"
   ]
  },
  {
   "cell_type": "code",
   "execution_count": 8,
   "metadata": {},
   "outputs": [],
   "source": [
    "u = load.BQUpload(dataset_name=dataset_name,\n",
    "                  test=\"h\", scale=1)\n",
    "u.verbose = True\n",
    "u.inventory_bucket()\n",
    "u.subset_df()"
   ]
  },
  {
   "cell_type": "code",
   "execution_count": 9,
   "metadata": {},
   "outputs": [
    {
     "data": {
      "text/html": [
       "<div>\n",
       "<style scoped>\n",
       "    .dataframe tbody tr th:only-of-type {\n",
       "        vertical-align: middle;\n",
       "    }\n",
       "\n",
       "    .dataframe tbody tr th {\n",
       "        vertical-align: top;\n",
       "    }\n",
       "\n",
       "    .dataframe thead th {\n",
       "        text-align: right;\n",
       "    }\n",
       "</style>\n",
       "<table border=\"1\" class=\"dataframe\">\n",
       "  <thead>\n",
       "    <tr style=\"text-align: right;\">\n",
       "      <th></th>\n",
       "      <th>chunk_name</th>\n",
       "      <th>url</th>\n",
       "      <th>size_bytes</th>\n",
       "      <th>uri</th>\n",
       "      <th>test</th>\n",
       "      <th>scale</th>\n",
       "      <th>table</th>\n",
       "      <th>n</th>\n",
       "      <th>t0</th>\n",
       "      <th>t1</th>\n",
       "      <th>done</th>\n",
       "    </tr>\n",
       "  </thead>\n",
       "  <tbody>\n",
       "    <tr>\n",
       "      <th>672</th>\n",
       "      <td>h_1GB_customer.tbl</td>\n",
       "      <td>https://storage.googleapis.com/tpc-benchmark-5...</td>\n",
       "      <td>24196144</td>\n",
       "      <td>gs://tpc-benchmark-5947/h_1GB_customer.tbl</td>\n",
       "      <td>h</td>\n",
       "      <td>1GB</td>\n",
       "      <td>customer</td>\n",
       "      <td>1</td>\n",
       "      <td></td>\n",
       "      <td></td>\n",
       "      <td></td>\n",
       "    </tr>\n",
       "    <tr>\n",
       "      <th>673</th>\n",
       "      <td>h_1GB_lineitem.tbl</td>\n",
       "      <td>https://storage.googleapis.com/tpc-benchmark-5...</td>\n",
       "      <td>753862072</td>\n",
       "      <td>gs://tpc-benchmark-5947/h_1GB_lineitem.tbl</td>\n",
       "      <td>h</td>\n",
       "      <td>1GB</td>\n",
       "      <td>lineitem</td>\n",
       "      <td>1</td>\n",
       "      <td></td>\n",
       "      <td></td>\n",
       "      <td></td>\n",
       "    </tr>\n",
       "    <tr>\n",
       "      <th>674</th>\n",
       "      <td>h_1GB_nation.tbl</td>\n",
       "      <td>https://storage.googleapis.com/tpc-benchmark-5...</td>\n",
       "      <td>2199</td>\n",
       "      <td>gs://tpc-benchmark-5947/h_1GB_nation.tbl</td>\n",
       "      <td>h</td>\n",
       "      <td>1GB</td>\n",
       "      <td>nation</td>\n",
       "      <td>1</td>\n",
       "      <td></td>\n",
       "      <td></td>\n",
       "      <td></td>\n",
       "    </tr>\n",
       "    <tr>\n",
       "      <th>675</th>\n",
       "      <td>h_1GB_orders.tbl</td>\n",
       "      <td>https://storage.googleapis.com/tpc-benchmark-5...</td>\n",
       "      <td>170452161</td>\n",
       "      <td>gs://tpc-benchmark-5947/h_1GB_orders.tbl</td>\n",
       "      <td>h</td>\n",
       "      <td>1GB</td>\n",
       "      <td>orders</td>\n",
       "      <td>1</td>\n",
       "      <td></td>\n",
       "      <td></td>\n",
       "      <td></td>\n",
       "    </tr>\n",
       "    <tr>\n",
       "      <th>676</th>\n",
       "      <td>h_1GB_part.tbl</td>\n",
       "      <td>https://storage.googleapis.com/tpc-benchmark-5...</td>\n",
       "      <td>23935125</td>\n",
       "      <td>gs://tpc-benchmark-5947/h_1GB_part.tbl</td>\n",
       "      <td>h</td>\n",
       "      <td>1GB</td>\n",
       "      <td>part</td>\n",
       "      <td>1</td>\n",
       "      <td></td>\n",
       "      <td></td>\n",
       "      <td></td>\n",
       "    </tr>\n",
       "    <tr>\n",
       "      <th>677</th>\n",
       "      <td>h_1GB_partsupp.tbl</td>\n",
       "      <td>https://storage.googleapis.com/tpc-benchmark-5...</td>\n",
       "      <td>118184616</td>\n",
       "      <td>gs://tpc-benchmark-5947/h_1GB_partsupp.tbl</td>\n",
       "      <td>h</td>\n",
       "      <td>1GB</td>\n",
       "      <td>partsupp</td>\n",
       "      <td>1</td>\n",
       "      <td></td>\n",
       "      <td></td>\n",
       "      <td></td>\n",
       "    </tr>\n",
       "    <tr>\n",
       "      <th>678</th>\n",
       "      <td>h_1GB_region.tbl</td>\n",
       "      <td>https://storage.googleapis.com/tpc-benchmark-5...</td>\n",
       "      <td>384</td>\n",
       "      <td>gs://tpc-benchmark-5947/h_1GB_region.tbl</td>\n",
       "      <td>h</td>\n",
       "      <td>1GB</td>\n",
       "      <td>region</td>\n",
       "      <td>1</td>\n",
       "      <td></td>\n",
       "      <td></td>\n",
       "      <td></td>\n",
       "    </tr>\n",
       "    <tr>\n",
       "      <th>679</th>\n",
       "      <td>h_1GB_supplier.tbl</td>\n",
       "      <td>https://storage.googleapis.com/tpc-benchmark-5...</td>\n",
       "      <td>1399184</td>\n",
       "      <td>gs://tpc-benchmark-5947/h_1GB_supplier.tbl</td>\n",
       "      <td>h</td>\n",
       "      <td>1GB</td>\n",
       "      <td>supplier</td>\n",
       "      <td>1</td>\n",
       "      <td></td>\n",
       "      <td></td>\n",
       "      <td></td>\n",
       "    </tr>\n",
       "  </tbody>\n",
       "</table>\n",
       "</div>"
      ],
      "text/plain": [
       "             chunk_name                                                url  \\\n",
       "672  h_1GB_customer.tbl  https://storage.googleapis.com/tpc-benchmark-5...   \n",
       "673  h_1GB_lineitem.tbl  https://storage.googleapis.com/tpc-benchmark-5...   \n",
       "674    h_1GB_nation.tbl  https://storage.googleapis.com/tpc-benchmark-5...   \n",
       "675    h_1GB_orders.tbl  https://storage.googleapis.com/tpc-benchmark-5...   \n",
       "676      h_1GB_part.tbl  https://storage.googleapis.com/tpc-benchmark-5...   \n",
       "677  h_1GB_partsupp.tbl  https://storage.googleapis.com/tpc-benchmark-5...   \n",
       "678    h_1GB_region.tbl  https://storage.googleapis.com/tpc-benchmark-5...   \n",
       "679  h_1GB_supplier.tbl  https://storage.googleapis.com/tpc-benchmark-5...   \n",
       "\n",
       "     size_bytes                                         uri test scale  \\\n",
       "672    24196144  gs://tpc-benchmark-5947/h_1GB_customer.tbl    h   1GB   \n",
       "673   753862072  gs://tpc-benchmark-5947/h_1GB_lineitem.tbl    h   1GB   \n",
       "674        2199    gs://tpc-benchmark-5947/h_1GB_nation.tbl    h   1GB   \n",
       "675   170452161    gs://tpc-benchmark-5947/h_1GB_orders.tbl    h   1GB   \n",
       "676    23935125      gs://tpc-benchmark-5947/h_1GB_part.tbl    h   1GB   \n",
       "677   118184616  gs://tpc-benchmark-5947/h_1GB_partsupp.tbl    h   1GB   \n",
       "678         384    gs://tpc-benchmark-5947/h_1GB_region.tbl    h   1GB   \n",
       "679     1399184  gs://tpc-benchmark-5947/h_1GB_supplier.tbl    h   1GB   \n",
       "\n",
       "        table  n t0 t1 done  \n",
       "672  customer  1             \n",
       "673  lineitem  1             \n",
       "674    nation  1             \n",
       "675    orders  1             \n",
       "676      part  1             \n",
       "677  partsupp  1             \n",
       "678    region  1             \n",
       "679  supplier  1             "
      ]
     },
     "execution_count": 9,
     "metadata": {},
     "output_type": "execute_result"
    }
   ],
   "source": [
    "u.df"
   ]
  },
  {
   "cell_type": "code",
   "execution_count": 10,
   "metadata": {},
   "outputs": [
    {
     "name": "stdout",
     "output_type": "stream",
     "text": [
      "Starting job b7824fb1-dc13-4d12-b2bc-70524a0cfc7f\n",
      "Job finished.\n",
      "Loading: h_1GB_customer.tbl\n",
      "t0: 2020-04-24 00:51:41.694800\n",
      "t1: 2020-04-24 00:51:54.376038\n",
      "Done: True\n",
      "------------------------------\n",
      "Starting job 63e8cc94-0c1c-4391-8939-5ee519783625\n",
      "Job finished.\n",
      "Loading: h_1GB_customer.tbl\n",
      "t0: 2020-04-24 00:51:54.379419\n",
      "t1: 2020-04-24 00:52:06.050868\n",
      "Done: True\n",
      "------------------------------\n",
      "Starting job ec5e1fec-5f1b-4d0d-9a22-836c802c52ad\n",
      "Job finished.\n",
      "Loading: h_1GB_lineitem.tbl\n",
      "t0: 2020-04-24 00:52:06.052814\n",
      "t1: 2020-04-24 00:54:31.866787\n",
      "Done: True\n",
      "------------------------------\n",
      "Starting job f089aaa6-cf69-4456-a23a-661b17e9fdd5\n",
      "Job finished.\n",
      "Loading: h_1GB_nation.tbl\n",
      "t0: 2020-04-24 00:54:31.867967\n",
      "t1: 2020-04-24 00:54:35.077363\n",
      "Done: True\n",
      "------------------------------\n",
      "Starting job d484b6b7-f348-4b8f-bdcd-e445368be484\n",
      "Job finished.\n",
      "Loading: h_1GB_orders.tbl\n",
      "t0: 2020-04-24 00:54:35.080429\n",
      "t1: 2020-04-24 00:55:28.395543\n",
      "Done: True\n",
      "------------------------------\n",
      "Starting job 664be31c-167e-4ace-b964-a94f5e47f9b4\n",
      "Job finished.\n",
      "Loading: h_1GB_part.tbl\n",
      "t0: 2020-04-24 00:55:28.397734\n",
      "t1: 2020-04-24 00:55:47.028137\n",
      "Done: True\n",
      "------------------------------\n",
      "Starting job 5d799a97-5516-4240-99da-75bcea8a5836\n",
      "Job finished.\n",
      "Loading: h_1GB_partsupp.tbl\n",
      "t0: 2020-04-24 00:55:47.029862\n",
      "t1: 2020-04-24 00:56:19.606744\n",
      "Done: True\n",
      "------------------------------\n",
      "Starting job 12423e5d-5a73-4d12-b191-9e9a4885a9dd\n",
      "Job finished.\n",
      "Loading: h_1GB_region.tbl\n",
      "t0: 2020-04-24 00:56:19.608669\n",
      "t1: 2020-04-24 00:56:22.247492\n",
      "Done: True\n",
      "------------------------------\n",
      "Starting job 499c782b-4c10-4e78-a04a-8584db485fef\n",
      "Job finished.\n",
      "Loading: h_1GB_supplier.tbl\n",
      "t0: 2020-04-24 00:56:22.248519\n",
      "t1: 2020-04-24 00:56:28.082240\n",
      "Done: True\n",
      "------------------------------\n"
     ]
    }
   ],
   "source": [
    "results = u.upload()"
   ]
  },
  {
   "cell_type": "code",
   "execution_count": 11,
   "metadata": {},
   "outputs": [
    {
     "data": {
      "text/html": [
       "<div>\n",
       "<style scoped>\n",
       "    .dataframe tbody tr th:only-of-type {\n",
       "        vertical-align: middle;\n",
       "    }\n",
       "\n",
       "    .dataframe tbody tr th {\n",
       "        vertical-align: top;\n",
       "    }\n",
       "\n",
       "    .dataframe thead th {\n",
       "        text-align: right;\n",
       "    }\n",
       "</style>\n",
       "<table border=\"1\" class=\"dataframe\">\n",
       "  <thead>\n",
       "    <tr style=\"text-align: right;\">\n",
       "      <th></th>\n",
       "      <th>chunk_name</th>\n",
       "      <th>url</th>\n",
       "      <th>size_bytes</th>\n",
       "      <th>uri</th>\n",
       "      <th>test</th>\n",
       "      <th>scale</th>\n",
       "      <th>table</th>\n",
       "      <th>n</th>\n",
       "      <th>t0</th>\n",
       "      <th>t1</th>\n",
       "      <th>done</th>\n",
       "      <th>dt</th>\n",
       "      <th>dt_s</th>\n",
       "      <th>size_megabytes</th>\n",
       "      <th>size_gigabytes</th>\n",
       "      <th>MB/s</th>\n",
       "      <th>GB/s</th>\n",
       "    </tr>\n",
       "  </thead>\n",
       "  <tbody>\n",
       "    <tr>\n",
       "      <th>672</th>\n",
       "      <td>h_1GB_customer.tbl</td>\n",
       "      <td>https://storage.googleapis.com/tpc-benchmark-5...</td>\n",
       "      <td>24196144</td>\n",
       "      <td>gs://tpc-benchmark-5947/h_1GB_customer.tbl</td>\n",
       "      <td>h</td>\n",
       "      <td>1GB</td>\n",
       "      <td>customer</td>\n",
       "      <td>1</td>\n",
       "      <td>2020-04-24 00:51:54.379419</td>\n",
       "      <td>2020-04-24 00:52:06.050868</td>\n",
       "      <td>True</td>\n",
       "      <td>00:00:11.671449</td>\n",
       "      <td>11.67</td>\n",
       "      <td>23.08</td>\n",
       "      <td>0.02</td>\n",
       "      <td>1.98</td>\n",
       "      <td>0.00</td>\n",
       "    </tr>\n",
       "    <tr>\n",
       "      <th>673</th>\n",
       "      <td>h_1GB_lineitem.tbl</td>\n",
       "      <td>https://storage.googleapis.com/tpc-benchmark-5...</td>\n",
       "      <td>753862072</td>\n",
       "      <td>gs://tpc-benchmark-5947/h_1GB_lineitem.tbl</td>\n",
       "      <td>h</td>\n",
       "      <td>1GB</td>\n",
       "      <td>lineitem</td>\n",
       "      <td>1</td>\n",
       "      <td>2020-04-24 00:52:06.052814</td>\n",
       "      <td>2020-04-24 00:54:31.866787</td>\n",
       "      <td>True</td>\n",
       "      <td>00:02:25.813973</td>\n",
       "      <td>145.81</td>\n",
       "      <td>718.94</td>\n",
       "      <td>0.75</td>\n",
       "      <td>4.93</td>\n",
       "      <td>0.01</td>\n",
       "    </tr>\n",
       "    <tr>\n",
       "      <th>674</th>\n",
       "      <td>h_1GB_nation.tbl</td>\n",
       "      <td>https://storage.googleapis.com/tpc-benchmark-5...</td>\n",
       "      <td>2199</td>\n",
       "      <td>gs://tpc-benchmark-5947/h_1GB_nation.tbl</td>\n",
       "      <td>h</td>\n",
       "      <td>1GB</td>\n",
       "      <td>nation</td>\n",
       "      <td>1</td>\n",
       "      <td>2020-04-24 00:54:31.867967</td>\n",
       "      <td>2020-04-24 00:54:35.077363</td>\n",
       "      <td>True</td>\n",
       "      <td>00:00:03.209396</td>\n",
       "      <td>3.21</td>\n",
       "      <td>0.00</td>\n",
       "      <td>0.00</td>\n",
       "      <td>0.00</td>\n",
       "      <td>0.00</td>\n",
       "    </tr>\n",
       "    <tr>\n",
       "      <th>675</th>\n",
       "      <td>h_1GB_orders.tbl</td>\n",
       "      <td>https://storage.googleapis.com/tpc-benchmark-5...</td>\n",
       "      <td>170452161</td>\n",
       "      <td>gs://tpc-benchmark-5947/h_1GB_orders.tbl</td>\n",
       "      <td>h</td>\n",
       "      <td>1GB</td>\n",
       "      <td>orders</td>\n",
       "      <td>1</td>\n",
       "      <td>2020-04-24 00:54:35.080429</td>\n",
       "      <td>2020-04-24 00:55:28.395543</td>\n",
       "      <td>True</td>\n",
       "      <td>00:00:53.315114</td>\n",
       "      <td>53.32</td>\n",
       "      <td>162.56</td>\n",
       "      <td>0.17</td>\n",
       "      <td>3.05</td>\n",
       "      <td>0.00</td>\n",
       "    </tr>\n",
       "    <tr>\n",
       "      <th>676</th>\n",
       "      <td>h_1GB_part.tbl</td>\n",
       "      <td>https://storage.googleapis.com/tpc-benchmark-5...</td>\n",
       "      <td>23935125</td>\n",
       "      <td>gs://tpc-benchmark-5947/h_1GB_part.tbl</td>\n",
       "      <td>h</td>\n",
       "      <td>1GB</td>\n",
       "      <td>part</td>\n",
       "      <td>1</td>\n",
       "      <td>2020-04-24 00:55:28.397734</td>\n",
       "      <td>2020-04-24 00:55:47.028137</td>\n",
       "      <td>True</td>\n",
       "      <td>00:00:18.630403</td>\n",
       "      <td>18.63</td>\n",
       "      <td>22.83</td>\n",
       "      <td>0.02</td>\n",
       "      <td>1.23</td>\n",
       "      <td>0.00</td>\n",
       "    </tr>\n",
       "    <tr>\n",
       "      <th>677</th>\n",
       "      <td>h_1GB_partsupp.tbl</td>\n",
       "      <td>https://storage.googleapis.com/tpc-benchmark-5...</td>\n",
       "      <td>118184616</td>\n",
       "      <td>gs://tpc-benchmark-5947/h_1GB_partsupp.tbl</td>\n",
       "      <td>h</td>\n",
       "      <td>1GB</td>\n",
       "      <td>partsupp</td>\n",
       "      <td>1</td>\n",
       "      <td>2020-04-24 00:55:47.029862</td>\n",
       "      <td>2020-04-24 00:56:19.606744</td>\n",
       "      <td>True</td>\n",
       "      <td>00:00:32.576882</td>\n",
       "      <td>32.58</td>\n",
       "      <td>112.71</td>\n",
       "      <td>0.12</td>\n",
       "      <td>3.46</td>\n",
       "      <td>0.00</td>\n",
       "    </tr>\n",
       "    <tr>\n",
       "      <th>678</th>\n",
       "      <td>h_1GB_region.tbl</td>\n",
       "      <td>https://storage.googleapis.com/tpc-benchmark-5...</td>\n",
       "      <td>384</td>\n",
       "      <td>gs://tpc-benchmark-5947/h_1GB_region.tbl</td>\n",
       "      <td>h</td>\n",
       "      <td>1GB</td>\n",
       "      <td>region</td>\n",
       "      <td>1</td>\n",
       "      <td>2020-04-24 00:56:19.608669</td>\n",
       "      <td>2020-04-24 00:56:22.247492</td>\n",
       "      <td>True</td>\n",
       "      <td>00:00:02.638823</td>\n",
       "      <td>2.64</td>\n",
       "      <td>0.00</td>\n",
       "      <td>0.00</td>\n",
       "      <td>0.00</td>\n",
       "      <td>0.00</td>\n",
       "    </tr>\n",
       "    <tr>\n",
       "      <th>679</th>\n",
       "      <td>h_1GB_supplier.tbl</td>\n",
       "      <td>https://storage.googleapis.com/tpc-benchmark-5...</td>\n",
       "      <td>1399184</td>\n",
       "      <td>gs://tpc-benchmark-5947/h_1GB_supplier.tbl</td>\n",
       "      <td>h</td>\n",
       "      <td>1GB</td>\n",
       "      <td>supplier</td>\n",
       "      <td>1</td>\n",
       "      <td>2020-04-24 00:56:22.248519</td>\n",
       "      <td>2020-04-24 00:56:28.082240</td>\n",
       "      <td>True</td>\n",
       "      <td>00:00:05.833721</td>\n",
       "      <td>5.83</td>\n",
       "      <td>1.33</td>\n",
       "      <td>0.00</td>\n",
       "      <td>0.23</td>\n",
       "      <td>0.00</td>\n",
       "    </tr>\n",
       "  </tbody>\n",
       "</table>\n",
       "</div>"
      ],
      "text/plain": [
       "             chunk_name                                                url  \\\n",
       "672  h_1GB_customer.tbl  https://storage.googleapis.com/tpc-benchmark-5...   \n",
       "673  h_1GB_lineitem.tbl  https://storage.googleapis.com/tpc-benchmark-5...   \n",
       "674    h_1GB_nation.tbl  https://storage.googleapis.com/tpc-benchmark-5...   \n",
       "675    h_1GB_orders.tbl  https://storage.googleapis.com/tpc-benchmark-5...   \n",
       "676      h_1GB_part.tbl  https://storage.googleapis.com/tpc-benchmark-5...   \n",
       "677  h_1GB_partsupp.tbl  https://storage.googleapis.com/tpc-benchmark-5...   \n",
       "678    h_1GB_region.tbl  https://storage.googleapis.com/tpc-benchmark-5...   \n",
       "679  h_1GB_supplier.tbl  https://storage.googleapis.com/tpc-benchmark-5...   \n",
       "\n",
       "     size_bytes                                         uri test scale  \\\n",
       "672    24196144  gs://tpc-benchmark-5947/h_1GB_customer.tbl    h   1GB   \n",
       "673   753862072  gs://tpc-benchmark-5947/h_1GB_lineitem.tbl    h   1GB   \n",
       "674        2199    gs://tpc-benchmark-5947/h_1GB_nation.tbl    h   1GB   \n",
       "675   170452161    gs://tpc-benchmark-5947/h_1GB_orders.tbl    h   1GB   \n",
       "676    23935125      gs://tpc-benchmark-5947/h_1GB_part.tbl    h   1GB   \n",
       "677   118184616  gs://tpc-benchmark-5947/h_1GB_partsupp.tbl    h   1GB   \n",
       "678         384    gs://tpc-benchmark-5947/h_1GB_region.tbl    h   1GB   \n",
       "679     1399184  gs://tpc-benchmark-5947/h_1GB_supplier.tbl    h   1GB   \n",
       "\n",
       "        table  n                         t0                         t1  done  \\\n",
       "672  customer  1 2020-04-24 00:51:54.379419 2020-04-24 00:52:06.050868  True   \n",
       "673  lineitem  1 2020-04-24 00:52:06.052814 2020-04-24 00:54:31.866787  True   \n",
       "674    nation  1 2020-04-24 00:54:31.867967 2020-04-24 00:54:35.077363  True   \n",
       "675    orders  1 2020-04-24 00:54:35.080429 2020-04-24 00:55:28.395543  True   \n",
       "676      part  1 2020-04-24 00:55:28.397734 2020-04-24 00:55:47.028137  True   \n",
       "677  partsupp  1 2020-04-24 00:55:47.029862 2020-04-24 00:56:19.606744  True   \n",
       "678    region  1 2020-04-24 00:56:19.608669 2020-04-24 00:56:22.247492  True   \n",
       "679  supplier  1 2020-04-24 00:56:22.248519 2020-04-24 00:56:28.082240  True   \n",
       "\n",
       "                 dt   dt_s  size_megabytes  size_gigabytes  MB/s  GB/s  \n",
       "672 00:00:11.671449  11.67           23.08            0.02  1.98  0.00  \n",
       "673 00:02:25.813973 145.81          718.94            0.75  4.93  0.01  \n",
       "674 00:00:03.209396   3.21            0.00            0.00  0.00  0.00  \n",
       "675 00:00:53.315114  53.32          162.56            0.17  3.05  0.00  \n",
       "676 00:00:18.630403  18.63           22.83            0.02  1.23  0.00  \n",
       "677 00:00:32.576882  32.58          112.71            0.12  3.46  0.00  \n",
       "678 00:00:02.638823   2.64            0.00            0.00  0.00  0.00  \n",
       "679 00:00:05.833721   5.83            1.33            0.00  0.23  0.00  "
      ]
     },
     "execution_count": 11,
     "metadata": {},
     "output_type": "execute_result"
    }
   ],
   "source": [
    "u.df"
   ]
  },
  {
   "cell_type": "code",
   "execution_count": null,
   "metadata": {},
   "outputs": [],
   "source": [
    "# TODO: remake Pooled Upload to break tables out to individual threads and upload sequentially from there"
   ]
  },
  {
   "cell_type": "raw",
   "metadata": {},
   "source": [
    "a = list(results)\n",
    "a"
   ]
  },
  {
   "cell_type": "raw",
   "metadata": {},
   "source": [
    "plt.plot(u.df.index, \"-k\");"
   ]
  },
  {
   "cell_type": "raw",
   "metadata": {},
   "source": [
    "for _df in u.up_data:\n",
    "    plt.plot(_df.index, \"-k\")\n",
    "plt.show()"
   ]
  },
  {
   "cell_type": "code",
   "execution_count": null,
   "metadata": {},
   "outputs": [],
   "source": [
    "dfx = pd.concat(u.up_data)\n",
    "dfx.sort_index(inplace=True)"
   ]
  },
  {
   "cell_type": "code",
   "execution_count": null,
   "metadata": {},
   "outputs": [],
   "source": [
    "plt.plot(u.df.index, '+',\n",
    "         markersize=10, \n",
    "         markerfacecolor=None,\n",
    "         markeredgecolor='blue');\n",
    "plt.plot(dfx.index, 'x',\n",
    "         markersize=10, \n",
    "         markerfacecolor=None,\n",
    "         markeredgecolor='green');"
   ]
  },
  {
   "cell_type": "code",
   "execution_count": null,
   "metadata": {},
   "outputs": [],
   "source": [
    "dfx[[\"chunk_name\", \"size_bytes\", \"table\", \"done\", \"MB/s\"]]"
   ]
  },
  {
   "cell_type": "markdown",
   "metadata": {},
   "source": [
    "### II. TPC-H 2GB - basic, no config"
   ]
  },
  {
   "cell_type": "code",
   "execution_count": null,
   "metadata": {},
   "outputs": [],
   "source": [
    "break"
   ]
  },
  {
   "cell_type": "code",
   "execution_count": null,
   "metadata": {},
   "outputs": [],
   "source": []
  },
  {
   "cell_type": "raw",
   "metadata": {},
   "source": []
  },
  {
   "cell_type": "raw",
   "metadata": {},
   "source": [
    "dataset_name = 'h_2GB_1_basic'"
   ]
  },
  {
   "cell_type": "raw",
   "metadata": {},
   "source": [
    "ddl_filepath = config.fp_h_output + config.sep + dataset_name + \".ddl\""
   ]
  },
  {
   "cell_type": "raw",
   "metadata": {},
   "source": [
    "schema.rewrite_h_basic(filepath_out=ddl_filepath,\n",
    "                       dataset_name=dataset_name)"
   ]
  },
  {
   "cell_type": "raw",
   "metadata": {},
   "source": [
    "bq.create_dataset(dataset_name=dataset_name)"
   ]
  },
  {
   "cell_type": "code",
   "execution_count": null,
   "metadata": {},
   "outputs": [],
   "source": [
    "bq.create_schema(schema_file=ddl_filepath)"
   ]
  },
  {
   "cell_type": "code",
   "execution_count": null,
   "metadata": {},
   "outputs": [],
   "source": [
    "# set n to about 5, high numbers run afoul of BQ's upload limits\n",
    "# i.e. 403 - rateLimitExceeded\n",
    "# https://cloud.google.com/bigquery/docs/error-messages\n",
    "u = load.BQPooledUpload(dataset_name=dataset_name,\n",
    "                        test=\"h\", scale=2, n=5)\n",
    "u.verbose = True"
   ]
  },
  {
   "cell_type": "raw",
   "metadata": {},
   "source": [
    "u.df"
   ]
  },
  {
   "cell_type": "code",
   "execution_count": null,
   "metadata": {},
   "outputs": [],
   "source": [
    "results = u.pipeline()"
   ]
  },
  {
   "cell_type": "code",
   "execution_count": null,
   "metadata": {},
   "outputs": [],
   "source": [
    "a = list(results)\n",
    "a"
   ]
  },
  {
   "cell_type": "code",
   "execution_count": null,
   "metadata": {},
   "outputs": [],
   "source": [
    "dfx = pd.concat(u.up_data)\n",
    "dfx.sort_index(inplace=True)"
   ]
  },
  {
   "cell_type": "code",
   "execution_count": null,
   "metadata": {},
   "outputs": [],
   "source": [
    "plt.plot(u.df.index, '+',\n",
    "         markersize=10, \n",
    "         markerfacecolor=None,\n",
    "         markeredgecolor='blue');\n",
    "plt.plot(dfx.index, 'x',\n",
    "         markersize=10, \n",
    "         markerfacecolor=None,\n",
    "         markeredgecolor='green');"
   ]
  },
  {
   "cell_type": "code",
   "execution_count": null,
   "metadata": {},
   "outputs": [],
   "source": [
    "dfx[[\"chunk_name\", \"size_bytes\", \"table\", \"done\", \"MB/s\"]]"
   ]
  },
  {
   "cell_type": "code",
   "execution_count": null,
   "metadata": {},
   "outputs": [],
   "source": [
    "break"
   ]
  },
  {
   "cell_type": "markdown",
   "metadata": {},
   "source": [
    "### II. Validate Data Uploaded  "
   ]
  },
  {
   "cell_type": "code",
   "execution_count": null,
   "metadata": {},
   "outputs": [],
   "source": [
    "reload(load)\n",
    "valid_up = load.BQUpload(dataset_name=dataset_name, \n",
    "                        test=\"h\", \n",
    "                        scale=1)"
   ]
  },
  {
   "cell_type": "code",
   "execution_count": null,
   "metadata": {},
   "outputs": [],
   "source": [
    "valid_up.inventory_bucket()"
   ]
  },
  {
   "cell_type": "code",
   "execution_count": null,
   "metadata": {},
   "outputs": [],
   "source": [
    "valid_up.compile_df()"
   ]
  },
  {
   "cell_type": "code",
   "execution_count": null,
   "metadata": {},
   "outputs": [],
   "source": [
    "valid_up.inventory_data"
   ]
  },
  {
   "cell_type": "code",
   "execution_count": null,
   "metadata": {},
   "outputs": [],
   "source": []
  }
 ],
 "metadata": {
  "kernelspec": {
   "display_name": "Python 3",
   "language": "python",
   "name": "python3"
  },
  "language_info": {
   "codemirror_mode": {
    "name": "ipython",
    "version": 3
   },
   "file_extension": ".py",
   "mimetype": "text/x-python",
   "name": "python",
   "nbconvert_exporter": "python",
   "pygments_lexer": "ipython3",
   "version": "3.8.2"
  }
 },
 "nbformat": 4,
 "nbformat_minor": 4
}
