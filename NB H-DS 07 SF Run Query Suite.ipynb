{
 "cells": [
  {
   "cell_type": "markdown",
   "metadata": {},
   "source": [
    "## TPC Query Execution - SNOWFLAKE"
   ]
  },
  {
   "cell_type": "code",
   "execution_count": null,
   "metadata": {
    "pycharm": {
     "name": "#%%\n"
    }
   },
   "outputs": [],
   "source": [
    "import config, sf_dev, tools"
   ]
  },
  {
   "cell_type": "markdown",
   "metadata": {},
   "source": [
    "Set variables"
   ]
  },
  {
   "cell_type": "code",
   "execution_count": null,
   "metadata": {
    "pycharm": {
     "name": "#%%\n"
    }
   },
   "outputs": [],
   "source": [
    "# set variables\n",
    "test = \"ds\"\n",
    "\n",
    "scale = 1\n",
    "\n",
    "project = \"tpc-benchmarking-9432\"\n",
    "\n",
    "db_name = \"sf\"\n",
    "\n",
    "description = \"stream_01_test\"\n",
    "\n",
    "save = True\n",
    "\n",
    "qual = False"
   ]
  },
  {
   "cell_type": "markdown",
   "metadata": {},
   "source": [
    "Generate project specific variables"
   ]
  },
  {
   "cell_type": "code",
   "execution_count": null,
   "metadata": {
    "pycharm": {
     "name": "#%%\n"
    }
   },
   "outputs": [],
   "source": [
    "tpl_dir = f\"{config.fp_query_templates}{config.sep}{db_name}_{test}\"\n",
    "dataset = f\"{test}_{scale}GB_01\""
   ]
  },
  {
   "cell_type": "code",
   "execution_count": null,
   "metadata": {},
   "outputs": [],
   "source": [
    "dataset"
   ]
  },
  {
   "cell_type": "markdown",
   "metadata": {},
   "source": [
    "Sequence as accending through all available"
   ]
  },
  {
   "cell_type": "code",
   "execution_count": null,
   "metadata": {},
   "outputs": [],
   "source": [
    "query_sequence = list(range(1,23))\n",
    "if test == \"ds\":\n",
    "    query_sequence = list(range(1,99))"
   ]
  },
  {
   "cell_type": "markdown",
   "metadata": {},
   "source": [
    "Sequence as specified by TPC"
   ]
  },
  {
   "cell_type": "code",
   "execution_count": null,
   "metadata": {},
   "outputs": [],
   "source": [
    "df_seq = tools.parse_ds_seq_stream()"
   ]
  },
  {
   "cell_type": "raw",
   "metadata": {},
   "source": [
    "df_seq = tools.parse_h_stream_seq()"
   ]
  },
  {
   "cell_type": "code",
   "execution_count": null,
   "metadata": {},
   "outputs": [],
   "source": [
    "query_sequence = df_seq.loc[0].values"
   ]
  },
  {
   "cell_type": "markdown",
   "metadata": {},
   "source": [
    "If needed, override sequence to evaluage a single query"
   ]
  },
  {
   "cell_type": "code",
   "execution_count": null,
   "metadata": {},
   "outputs": [],
   "source": [
    "query_sequence = 7\n",
    "description = f\"{query_sequence}_query_test\"\n",
    "query_sequence = [query_sequence]\n",
    "save = False"
   ]
  },
  {
   "cell_type": "code",
   "execution_count": null,
   "metadata": {},
   "outputs": [],
   "source": [
    "query_sequence"
   ]
  },
  {
   "cell_type": "markdown",
   "metadata": {},
   "source": [
    "Run query sequence"
   ]
  },
  {
   "cell_type": "code",
   "execution_count": null,
   "metadata": {},
   "outputs": [],
   "source": [
    "result ="
   ]
  },
  {
   "cell_type": "raw",
   "metadata": {
    "pycharm": {
     "name": "#%%\n"
    }
   },
   "source": [
    "seq_done = sf_dev.query_seq(desc=description,\n",
    "                            test=test,\n",
    "                            seq=query_sequence,\n",
    "                            templates_dir=tpl_dir,\n",
    "                            scale=scale,\n",
    "                            project=project,\n",
    "                            dataset=dataset,\n",
    "                            qual=qual,\n",
    "                            dry_run=False,\n",
    "                            use_cache=False,\n",
    "                            save=save,\n",
    "                            verbose=True,\n",
    "                            verbose_iter=True,\n",
    "                            verbose_query=True\n",
    "                            )\n",
    "print(\"Sequence Done:\", seq_done)\n",
    "print(\"=======================\")"
   ]
  },
  {
   "cell_type": "raw",
   "metadata": {},
   "source": [
    "break"
   ]
  },
  {
   "cell_type": "markdown",
   "metadata": {},
   "source": [
    "Stream sequence is 1 through 20 for both TPC-H and TPC-DS"
   ]
  },
  {
   "cell_type": "raw",
   "metadata": {},
   "source": [
    "stream_sequence = range(20)"
   ]
  },
  {
   "cell_type": "markdown",
   "metadata": {},
   "source": [
    "If needed, override sequence for single query"
   ]
  },
  {
   "cell_type": "raw",
   "metadata": {},
   "source": [
    "stream_sequence = 1\n",
    "stream_sequence = [stream_sequence]"
   ]
  },
  {
   "cell_type": "raw",
   "metadata": {
    "pycharm": {
     "name": "#%%\n"
    }
   },
   "source": [
    "seq_done = sf_dev.stream_seq(desc=description,\n",
    "                             test=test,\n",
    "                             seq=stream_sequence,\n",
    "                             templates_dir=tpl_dir,\n",
    "                             scale=scale,\n",
    "                             project=project,\n",
    "                             dataset=dataset,\n",
    "                             qual=qual,\n",
    "                             dry_run=False,\n",
    "                             use_cache=False,\n",
    "                             verbose=False,\n",
    "                             verbose_iter=True\n",
    "                             )\n",
    "print(\"Sequence Done:\", seq_done)"
   ]
  }
 ],
 "metadata": {
  "kernelspec": {
   "display_name": "Python 3",
   "language": "python",
   "name": "python3"
  },
  "language_info": {
   "codemirror_mode": {
    "name": "ipython",
    "version": 3
   },
   "file_extension": ".py",
   "mimetype": "text/x-python",
   "name": "python",
   "nbconvert_exporter": "python",
   "pygments_lexer": "ipython3",
   "version": "3.8.2"
  }
 },
 "nbformat": 4,
 "nbformat_minor": 4
}
