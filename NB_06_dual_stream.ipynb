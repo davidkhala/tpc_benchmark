{
 "cells": [
  {
   "cell_type": "code",
   "execution_count": 1,
   "metadata": {},
   "outputs": [],
   "source": [
    "import pandas as pd\n",
    "import numpy as np\n",
    "import matplotlib.pyplot as plt\n",
    "\n",
    "import sfa, bqa, tools, qc, config\n",
    "\n",
    "from importlib import reload\n",
    "\n",
    "pd.options.display.max_rows = 999\n",
    "pd.options.display.max_columns = 999"
   ]
  },
  {
   "cell_type": "code",
   "execution_count": 2,
   "metadata": {},
   "outputs": [],
   "source": [
    "query_n = 70\n",
    "\n",
    "test = \"ds\"\n",
    "scale = 1\n",
    "cid = \"01\"\n",
    "stream_n = 1\n",
    "desc = f\"qc_query_{query_n}\"\n",
    "seq_id = \"NA\"\n",
    "verbose = False\n",
    "verbose_query = False\n",
    "qual = None\n",
    "save = True\n",
    "verbose_iter = False"
   ]
  },
  {
   "cell_type": "code",
   "execution_count": 3,
   "metadata": {},
   "outputs": [
    {
     "name": "stdout",
     "output_type": "stream",
     "text": [
      "Result Folder Name:\n",
      "/home/colin/code/bq_snowflake_benchmark/results/bqsf_ds_01_results-ds_100GB_05-qc_query_70-2020-05-28_09:53:29.294666\n"
     ]
    }
   ],
   "source": [
    "shared_timestamp = pd.Timestamp.now()  # \"UTC\"\n",
    "shared_timestamp = str(shared_timestamp).replace(\" \", \"_\")\n",
    "\n",
    "results_dir, _ = tools.make_name(db=\"bqsf\", test=test, cid=cid, kind=\"results\",\n",
    "                                 datasource=\"ds_100GB_05\", desc=desc, ext=\"\", \n",
    "                                 timestamp=shared_timestamp)\n",
    "print(\"Result Folder Name:\")\n",
    "print(results_dir)"
   ]
  },
  {
   "cell_type": "code",
   "execution_count": 4,
   "metadata": {},
   "outputs": [],
   "source": [
    "#seq = tools.tpc_stream(test=test, n=stream_n)\n",
    "seq = [query_n]\n",
    "skip = []\n",
    "for sk in skip:\n",
    "    seq.remove(sk)"
   ]
  },
  {
   "cell_type": "code",
   "execution_count": 5,
   "metadata": {
    "pycharm": {
     "name": "#%%\n"
    }
   },
   "outputs": [
    {
     "name": "stdout",
     "output_type": "stream",
     "text": [
      "Using database: ds_1GB_01\n",
      "\n",
      "========================================\n",
      "Query Stream Done!\n",
      "Total Time Elapsed: 0 days 00:00:02.473990\n",
      "\n"
     ]
    }
   ],
   "source": [
    "reload(sfa)\n",
    "sf = sfa.SFTPC(test=test,\n",
    "               scale=scale,\n",
    "               cid=cid,\n",
    "               warehouse=\"TEST9000\",\n",
    "               desc=desc,\n",
    "               verbose=verbose,\n",
    "               verbose_query=verbose_query)\n",
    "\n",
    "print('Using database:', sf.database)\n",
    "\n",
    "sf.timestamp = shared_timestamp\n",
    "sf.results_dir = results_dir\n",
    "\n",
    "sf.connect()\n",
    "sf.query_seq(seq=seq, seq_id=seq_id, qual=qual, save=save, verbose_iter=verbose_iter)\n",
    "sf.close()\n",
    "\n",
    "sf_results_csv_fp = sf.results_csv_fp"
   ]
  },
  {
   "cell_type": "code",
   "execution_count": 6,
   "metadata": {},
   "outputs": [
    {
     "name": "stdout",
     "output_type": "stream",
     "text": [
      "\n",
      "========================================\n",
      "Query Stream Done!\n",
      "Total Time Elapsed: 0 days 00:00:02.903184\n",
      "\n"
     ]
    }
   ],
   "source": [
    "bq = bqa.BQTPC(test=test,\n",
    "               scale=scale,\n",
    "               cid=cid,\n",
    "               desc=desc,\n",
    "               verbose_query=verbose_query, verbose=verbose)\n",
    "\n",
    "bq.timestamp = shared_timestamp\n",
    "bq.results_dir = results_dir\n",
    "\n",
    "bq.query_seq(seq, seq_id=seq_id, qual=qual, save=save, verbose_iter=verbose_iter)\n",
    "\n",
    "bq_results_csv_fp = bq.results_csv_fp"
   ]
  },
  {
   "cell_type": "code",
   "execution_count": 7,
   "metadata": {},
   "outputs": [
    {
     "name": "stdout",
     "output_type": "stream",
     "text": [
      "['/home/colin/code/bq_snowflake_benchmark/results/bqsf_ds_01_results-ds_100GB_05-qc_query_70-2020-05-28_09:53:29.294666/query_result_sf_70.csv']\n"
     ]
    }
   ],
   "source": [
    "df, result = qc.compare_results(results_dir)"
   ]
  },
  {
   "cell_type": "code",
   "execution_count": 8,
   "metadata": {},
   "outputs": [
    {
     "data": {
      "text/html": [
       "<div>\n",
       "<style scoped>\n",
       "    .dataframe tbody tr th:only-of-type {\n",
       "        vertical-align: middle;\n",
       "    }\n",
       "\n",
       "    .dataframe tbody tr th {\n",
       "        vertical-align: top;\n",
       "    }\n",
       "\n",
       "    .dataframe thead th {\n",
       "        text-align: right;\n",
       "    }\n",
       "</style>\n",
       "<table border=\"1\" class=\"dataframe\">\n",
       "  <thead>\n",
       "    <tr style=\"text-align: right;\">\n",
       "      <th></th>\n",
       "      <th>fp_bq</th>\n",
       "      <th>q_bq</th>\n",
       "      <th>fp_sf</th>\n",
       "      <th>q_sf</th>\n",
       "    </tr>\n",
       "  </thead>\n",
       "  <tbody>\n",
       "    <tr>\n",
       "      <th>1</th>\n",
       "      <td>/home/colin/code/bq_snowflake_benchmark/result...</td>\n",
       "      <td>70</td>\n",
       "      <td>/home/colin/code/bq_snowflake_benchmark/result...</td>\n",
       "      <td>70</td>\n",
       "    </tr>\n",
       "  </tbody>\n",
       "</table>\n",
       "</div>"
      ],
      "text/plain": [
       "                                               fp_bq  q_bq  \\\n",
       "1  /home/colin/code/bq_snowflake_benchmark/result...    70   \n",
       "\n",
       "                                               fp_sf  q_sf  \n",
       "1  /home/colin/code/bq_snowflake_benchmark/result...    70  "
      ]
     },
     "execution_count": 8,
     "metadata": {},
     "output_type": "execute_result"
    }
   ],
   "source": [
    "df"
   ]
  },
  {
   "cell_type": "markdown",
   "metadata": {},
   "source": [
    "### RESULTS SHOULD BE True if matched!"
   ]
  },
  {
   "cell_type": "code",
   "execution_count": 9,
   "metadata": {},
   "outputs": [
    {
     "data": {
      "text/plain": [
       "[70]"
      ]
     },
     "execution_count": 9,
     "metadata": {},
     "output_type": "execute_result"
    }
   ],
   "source": [
    "seq"
   ]
  },
  {
   "cell_type": "code",
   "execution_count": 10,
   "metadata": {},
   "outputs": [
    {
     "data": {
      "text/plain": [
       "1    False\n",
       "dtype: bool"
      ]
     },
     "execution_count": 10,
     "metadata": {},
     "output_type": "execute_result"
    }
   ],
   "source": [
    "result"
   ]
  },
  {
   "cell_type": "code",
   "execution_count": 13,
   "metadata": {},
   "outputs": [
    {
     "data": {
      "text/plain": [
       "pandas.core.series.Series"
      ]
     },
     "execution_count": 13,
     "metadata": {},
     "output_type": "execute_result"
    }
   ],
   "source": [
    "type(result)"
   ]
  },
  {
   "cell_type": "code",
   "execution_count": 17,
   "metadata": {},
   "outputs": [
    {
     "data": {
      "text/plain": [
       "False"
      ]
     },
     "execution_count": 17,
     "metadata": {},
     "output_type": "execute_result"
    }
   ],
   "source": [
    "result[1]"
   ]
  },
  {
   "cell_type": "code",
   "execution_count": 11,
   "metadata": {},
   "outputs": [],
   "source": [
    "if len(df) == 1:\n",
    "    n = 1"
   ]
  },
  {
   "cell_type": "code",
   "execution_count": 12,
   "metadata": {},
   "outputs": [
    {
     "name": "stdout",
     "output_type": "stream",
     "text": [
      "BQ:\n",
      "     total_sum s_state           s_county  rank_within_parent\n",
      "0 -436455561.1      TN  Williamson County                   1\n",
      "----------------------------------------\n",
      "SF:\n",
      "     total_sum  s_state           s_county  lochierarchy  rank_within_parent\n",
      "0 -436455561.1 -9999.99           -9999.99             2                   1\n",
      "1 -436455561.1       TN           -9999.99             1                   1\n",
      "2 -436455561.1       TN  Williamson County             0                   1\n",
      "========================================\n",
      "BQ:\n",
      "Empty DataFrame\n",
      "Columns: [total_sum, s_state, s_county, rank_within_parent]\n",
      "Index: []\n",
      "----------------------------------------\n",
      "SF:\n",
      "Empty DataFrame\n",
      "Columns: [total_sum, s_state, s_county, lochierarchy, rank_within_parent]\n",
      "Index: []\n",
      "========================================\n",
      "BQ:\n",
      "     total_sum s_state           s_county  rank_within_parent\n",
      "0 -436455561.1      TN  Williamson County                   1\n",
      "----------------------------------------\n",
      "SF:\n",
      "     total_sum  s_state           s_county  lochierarchy  rank_within_parent\n",
      "0 -436455561.1 -9999.99           -9999.99             2                   1\n",
      "1 -436455561.1       TN           -9999.99             1                   1\n",
      "2 -436455561.1       TN  Williamson County             0                   1\n",
      "========================================\n",
      "   lochierarchy  rank_within_parent  s_county  s_state  total_sum\n",
      "0         False                True     False    False       True\n",
      "1         False               False     False    False      False\n",
      "2         False               False     False    False      False\n"
     ]
    }
   ],
   "source": [
    "d1, d2 = qc.print_head(df=df, n=n, n0=24, n1=28)"
   ]
  },
  {
   "cell_type": "raw",
   "metadata": {},
   "source": [
    "d1"
   ]
  },
  {
   "cell_type": "raw",
   "metadata": {},
   "source": [
    "d2"
   ]
  },
  {
   "cell_type": "raw",
   "metadata": {},
   "source": [
    "d1.head()"
   ]
  },
  {
   "cell_type": "raw",
   "metadata": {},
   "source": [
    "d2.head()"
   ]
  },
  {
   "cell_type": "raw",
   "metadata": {},
   "source": [
    "d1.tail(10)"
   ]
  },
  {
   "cell_type": "raw",
   "metadata": {},
   "source": [
    "d2.tail(10)"
   ]
  },
  {
   "cell_type": "code",
   "execution_count": null,
   "metadata": {},
   "outputs": [],
   "source": []
  }
 ],
 "metadata": {
  "kernelspec": {
   "display_name": "Python 3",
   "language": "python",
   "name": "python3"
  },
  "language_info": {
   "codemirror_mode": {
    "name": "ipython",
    "version": 3
   },
   "file_extension": ".py",
   "mimetype": "text/x-python",
   "name": "python",
   "nbconvert_exporter": "python",
   "pygments_lexer": "ipython3",
   "version": "3.7.7"
  }
 },
 "nbformat": 4,
 "nbformat_minor": 4
}
