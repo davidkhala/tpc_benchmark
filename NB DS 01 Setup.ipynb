{
 "cells": [
  {
   "cell_type": "markdown",
   "metadata": {},
   "source": [
    "## TPC-DS Setup  \n",
    "Create folder structure, download zip files and compile source"
   ]
  },
  {
   "cell_type": "code",
   "execution_count": 1,
   "metadata": {},
   "outputs": [],
   "source": [
    "import ds_setup, tools"
   ]
  },
  {
   "cell_type": "markdown",
   "metadata": {},
   "source": [
    "#### I. Make Project Files"
   ]
  },
  {
   "cell_type": "code",
   "execution_count": 2,
   "metadata": {},
   "outputs": [],
   "source": [
    "tools.make_directories()"
   ]
  },
  {
   "cell_type": "markdown",
   "metadata": {},
   "source": [
    "#### II. Download TPC-DS Binaries from GCS  "
   ]
  },
  {
   "cell_type": "code",
   "execution_count": 3,
   "metadata": {},
   "outputs": [
    {
     "name": "stdout",
     "output_type": "stream",
     "text": [
      "Client created using default project: tpc-benchmarking-9432\n"
     ]
    },
    {
     "data": {
      "text/plain": [
       "'/Users/daurentatubaev/work/sadasystems/bq_snowflake_benchmark/download/tpc-ds_v2.11.0rc2.zip'"
      ]
     },
     "execution_count": 3,
     "metadata": {},
     "output_type": "execute_result"
    }
   ],
   "source": [
    "ds_setup.download_zip()"
   ]
  },
  {
   "cell_type": "markdown",
   "metadata": {},
   "source": [
    "#### III. Unzip and Rename Source Files"
   ]
  },
  {
   "cell_type": "code",
   "execution_count": 4,
   "metadata": {},
   "outputs": [],
   "source": [
    "ds_setup.extract_zip()"
   ]
  },
  {
   "cell_type": "markdown",
   "metadata": {},
   "source": [
    "#### IV. Compile TPC-DS Binaries  "
   ]
  },
  {
   "cell_type": "code",
   "execution_count": 5,
   "metadata": {},
   "outputs": [],
   "source": [
    "stdout, stderr = ds_setup.make_tpcds(verbose=False)"
   ]
  },
  {
   "cell_type": "code",
   "execution_count": 6,
   "metadata": {},
   "outputs": [
    {
     "name": "stdout",
     "output_type": "stream",
     "text": [
      "ctags address.c build_support.c date.c decimal.c dist.c driver.c error_msg.c expr.c genrand.c grammar_support.c join.c list.c load.c misc.c nulls.c parallel.c permute.c pricing.c print.c r_params.c StringBuffer.c tdef_functions.c tdefs.c text.c scd.c scaling.c release.c scd.c sparse.c porting.c validate.c dcgram.c dcomp.c grammar.c  s_brand.c s_customer_address.c scaling.c s_call_center.c s_catalog.c s_catalog_order.c s_catalog_order_lineitem.c s_catalog_page.c s_catalog_promotional_item.c s_catalog_returns.c s_category.c s_class.c s_company.c s_customer.c s_division.c s_inventory.c s_item.c s_manager.c s_manufacturer.c s_market.c s_pline.c s_product.c s_promotion.c s_purchase.c s_reason.c s_store.c s_store_promotional_item.c s_store_returns.c s_subcategory.c s_subclass.c s_warehouse.c s_web_order.c s_web_order_lineitem.c s_web_page.c s_web_promotinal_item.c s_web_returns.c s_web_site.c s_zip_to_gmt.c w_call_center.c w_catalog_page.c w_catalog_returns.c w_catalog_sales.c w_customer_address.c w_customer.c w_customer_demographics.c w_datetbl.c w_household_demographics.c w_income_band.c w_inventory.c w_item.c w_promotion.c w_reason.c w_ship_mode.c w_store.c w_store_returns.c w_store_sales.c w_timetbl.c w_warehouse.c w_web_page.c w_web_returns.c w_web_sales.c w_web_site.c dbgen_version.c tokenizer.l substitution.c QgenMain.c qgen.y query_handler.c eval.c keywords.c mkheader.c checksum.c 2> /dev/null\n",
      "date > .ctags_updated\n",
      "gcc -D_FILE_OFFSET_BITS=64 -D_LARGEFILE_SOURCE -DYYDEBUG  -DLINUX -g -Wall   -c -o mkheader.o mkheader.c\n",
      "\n",
      "========================================\n",
      "In file included from mkheader.c:37:\n",
      "./porting.h:46:10: fatal error: 'values.h' file not found\n",
      "#include <values.h>\n",
      "         ^~~~~~~~~~\n",
      "1 error generated.\n",
      "make: *** [mkheader.o] Error 1\n",
      "\n"
     ]
    }
   ],
   "source": [
    "print(stdout)\n",
    "print(\"=\"*40)\n",
    "print(stderr)"
   ]
  },
  {
   "cell_type": "code",
   "execution_count": null,
   "metadata": {},
   "outputs": [],
   "source": []
  },
  {
   "cell_type": "code",
   "execution_count": null,
   "metadata": {},
   "outputs": [],
   "source": []
  }
 ],
 "metadata": {
  "kernelspec": {
   "display_name": "Python 3",
   "language": "python",
   "name": "python3"
  },
  "language_info": {
   "codemirror_mode": {
    "name": "ipython",
    "version": 3
   },
   "file_extension": ".py",
   "mimetype": "text/x-python",
   "name": "python",
   "nbconvert_exporter": "python",
   "pygments_lexer": "ipython3",
   "version": "3.7.7"
  }
 },
 "nbformat": 4,
 "nbformat_minor": 4
}
