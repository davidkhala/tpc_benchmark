{
 "cells": [
  {
   "cell_type": "code",
   "execution_count": 62,
   "metadata": {},
   "outputs": [],
   "source": [
    "import pandas as pd\n",
    "\n",
    "pd.options.display.max_rows = 999\n",
    "pd.options.display.max_columns = 999\n",
    "pd.set_option('precision', 7)"
   ]
  },
  {
   "cell_type": "code",
   "execution_count": 63,
   "metadata": {},
   "outputs": [],
   "source": [
    "%store -r dfsf7\n",
    "%store -r dfbq7"
   ]
  },
  {
   "cell_type": "code",
   "execution_count": 66,
   "metadata": {},
   "outputs": [
    {
     "data": {
      "text/html": [
       "<div>\n",
       "<style scoped>\n",
       "    .dataframe tbody tr th:only-of-type {\n",
       "        vertical-align: middle;\n",
       "    }\n",
       "\n",
       "    .dataframe tbody tr th {\n",
       "        vertical-align: top;\n",
       "    }\n",
       "\n",
       "    .dataframe thead th {\n",
       "        text-align: right;\n",
       "    }\n",
       "</style>\n",
       "<table border=\"1\" class=\"dataframe\">\n",
       "  <thead>\n",
       "    <tr style=\"text-align: right;\">\n",
       "      <th></th>\n",
       "      <th>I_ITEM_ID</th>\n",
       "      <th>AGG1</th>\n",
       "      <th>AGG2</th>\n",
       "      <th>AGG3</th>\n",
       "      <th>AGG4</th>\n",
       "    </tr>\n",
       "  </thead>\n",
       "  <tbody>\n",
       "    <tr>\n",
       "      <th>24</th>\n",
       "      <td>AAAAAAAAAAMCAAAA</td>\n",
       "      <td>38.000000</td>\n",
       "      <td>86.38000000</td>\n",
       "      <td>0E-8</td>\n",
       "      <td>9.50000000</td>\n",
       "    </tr>\n",
       "    <tr>\n",
       "      <th>25</th>\n",
       "      <td>AAAAAAAAAANAAAAA</td>\n",
       "      <td>41.666667</td>\n",
       "      <td>126.09000000</td>\n",
       "      <td>19.15333333</td>\n",
       "      <td>47.18000000</td>\n",
       "    </tr>\n",
       "    <tr>\n",
       "      <th>26</th>\n",
       "      <td>AAAAAAAAAANBAAAA</td>\n",
       "      <td>46.750000</td>\n",
       "      <td>60.92250000</td>\n",
       "      <td>153.99500000</td>\n",
       "      <td>23.70250000</td>\n",
       "    </tr>\n",
       "    <tr>\n",
       "      <th>27</th>\n",
       "      <td>AAAAAAAAAANDAAAA</td>\n",
       "      <td>18.500000</td>\n",
       "      <td>47.64500000</td>\n",
       "      <td>0E-8</td>\n",
       "      <td>14.75500000</td>\n",
       "    </tr>\n",
       "    <tr>\n",
       "      <th>28</th>\n",
       "      <td>AAAAAAAAAAOCAAAA</td>\n",
       "      <td>67.000000</td>\n",
       "      <td>114.95500000</td>\n",
       "      <td>0E-8</td>\n",
       "      <td>18.60000000</td>\n",
       "    </tr>\n",
       "  </tbody>\n",
       "</table>\n",
       "</div>"
      ],
      "text/plain": [
       "           I_ITEM_ID       AGG1          AGG2          AGG3         AGG4\n",
       "24  AAAAAAAAAAMCAAAA  38.000000   86.38000000          0E-8   9.50000000\n",
       "25  AAAAAAAAAANAAAAA  41.666667  126.09000000   19.15333333  47.18000000\n",
       "26  AAAAAAAAAANBAAAA  46.750000   60.92250000  153.99500000  23.70250000\n",
       "27  AAAAAAAAAANDAAAA  18.500000   47.64500000          0E-8  14.75500000\n",
       "28  AAAAAAAAAAOCAAAA  67.000000  114.95500000          0E-8  18.60000000"
      ]
     },
     "execution_count": 66,
     "metadata": {},
     "output_type": "execute_result"
    }
   ],
   "source": [
    "dfsf7.loc[24:28]"
   ]
  },
  {
   "cell_type": "code",
   "execution_count": 67,
   "metadata": {},
   "outputs": [
    {
     "data": {
      "text/html": [
       "<div>\n",
       "<style scoped>\n",
       "    .dataframe tbody tr th:only-of-type {\n",
       "        vertical-align: middle;\n",
       "    }\n",
       "\n",
       "    .dataframe tbody tr th {\n",
       "        vertical-align: top;\n",
       "    }\n",
       "\n",
       "    .dataframe thead th {\n",
       "        text-align: right;\n",
       "    }\n",
       "</style>\n",
       "<table border=\"1\" class=\"dataframe\">\n",
       "  <thead>\n",
       "    <tr style=\"text-align: right;\">\n",
       "      <th></th>\n",
       "      <th>i_item_id</th>\n",
       "      <th>agg1</th>\n",
       "      <th>agg2</th>\n",
       "      <th>agg3</th>\n",
       "      <th>agg4</th>\n",
       "    </tr>\n",
       "  </thead>\n",
       "  <tbody>\n",
       "    <tr>\n",
       "      <th>24</th>\n",
       "      <td>AAAAAAAAAAMCAAAA</td>\n",
       "      <td>38.0000000</td>\n",
       "      <td>86.3800</td>\n",
       "      <td>0.0000000</td>\n",
       "      <td>9.5000</td>\n",
       "    </tr>\n",
       "    <tr>\n",
       "      <th>25</th>\n",
       "      <td>AAAAAAAAAANAAAAA</td>\n",
       "      <td>41.6666667</td>\n",
       "      <td>126.0900</td>\n",
       "      <td>19.1533333</td>\n",
       "      <td>47.1800</td>\n",
       "    </tr>\n",
       "    <tr>\n",
       "      <th>26</th>\n",
       "      <td>AAAAAAAAAANBAAAA</td>\n",
       "      <td>46.7500000</td>\n",
       "      <td>60.9225</td>\n",
       "      <td>153.9950000</td>\n",
       "      <td>23.7025</td>\n",
       "    </tr>\n",
       "    <tr>\n",
       "      <th>27</th>\n",
       "      <td>AAAAAAAAAANDAAAA</td>\n",
       "      <td>18.5000000</td>\n",
       "      <td>47.6450</td>\n",
       "      <td>0.0000000</td>\n",
       "      <td>14.7550</td>\n",
       "    </tr>\n",
       "    <tr>\n",
       "      <th>28</th>\n",
       "      <td>AAAAAAAAAAOCAAAA</td>\n",
       "      <td>67.0000000</td>\n",
       "      <td>114.9550</td>\n",
       "      <td>0.0000000</td>\n",
       "      <td>18.6000</td>\n",
       "    </tr>\n",
       "  </tbody>\n",
       "</table>\n",
       "</div>"
      ],
      "text/plain": [
       "           i_item_id        agg1      agg2         agg3     agg4\n",
       "24  AAAAAAAAAAMCAAAA  38.0000000   86.3800    0.0000000   9.5000\n",
       "25  AAAAAAAAAANAAAAA  41.6666667  126.0900   19.1533333  47.1800\n",
       "26  AAAAAAAAAANBAAAA  46.7500000   60.9225  153.9950000  23.7025\n",
       "27  AAAAAAAAAANDAAAA  18.5000000   47.6450    0.0000000  14.7550\n",
       "28  AAAAAAAAAAOCAAAA  67.0000000  114.9550    0.0000000  18.6000"
      ]
     },
     "execution_count": 67,
     "metadata": {},
     "output_type": "execute_result"
    }
   ],
   "source": [
    "dfbq7.loc[24:28]"
   ]
  },
  {
   "cell_type": "code",
   "execution_count": 68,
   "metadata": {},
   "outputs": [
    {
     "data": {
      "text/plain": [
       "I_ITEM_ID    object\n",
       "AGG1         object\n",
       "AGG2         object\n",
       "AGG3         object\n",
       "AGG4         object\n",
       "dtype: object"
      ]
     },
     "execution_count": 68,
     "metadata": {},
     "output_type": "execute_result"
    }
   ],
   "source": [
    "dfsf7.dtypes"
   ]
  },
  {
   "cell_type": "code",
   "execution_count": 69,
   "metadata": {},
   "outputs": [
    {
     "data": {
      "text/plain": [
       "i_item_id     object\n",
       "agg1         float64\n",
       "agg2         float64\n",
       "agg3         float64\n",
       "agg4         float64\n",
       "dtype: object"
      ]
     },
     "execution_count": 69,
     "metadata": {},
     "output_type": "execute_result"
    }
   ],
   "source": [
    "dfbq7.dtypes"
   ]
  },
  {
   "cell_type": "code",
   "execution_count": 70,
   "metadata": {},
   "outputs": [],
   "source": [
    "import tools"
   ]
  },
  {
   "cell_type": "code",
   "execution_count": 71,
   "metadata": {},
   "outputs": [],
   "source": [
    "dfsf7c = tools.to_consistent(dfsf7)\n",
    "dfbq7c = tools.to_consistent(dfbq7)"
   ]
  },
  {
   "cell_type": "code",
   "execution_count": null,
   "metadata": {},
   "outputs": [],
   "source": []
  },
  {
   "cell_type": "code",
   "execution_count": 87,
   "metadata": {},
   "outputs": [
    {
     "data": {
      "text/html": [
       "<div>\n",
       "<style scoped>\n",
       "    .dataframe tbody tr th:only-of-type {\n",
       "        vertical-align: middle;\n",
       "    }\n",
       "\n",
       "    .dataframe tbody tr th {\n",
       "        vertical-align: top;\n",
       "    }\n",
       "\n",
       "    .dataframe thead th {\n",
       "        text-align: right;\n",
       "    }\n",
       "</style>\n",
       "<table border=\"1\" class=\"dataframe\">\n",
       "  <thead>\n",
       "    <tr style=\"text-align: right;\">\n",
       "      <th></th>\n",
       "      <th>i_item_id</th>\n",
       "      <th>agg1</th>\n",
       "      <th>agg2</th>\n",
       "      <th>agg3</th>\n",
       "      <th>agg4</th>\n",
       "    </tr>\n",
       "  </thead>\n",
       "  <tbody>\n",
       "    <tr>\n",
       "      <th>24</th>\n",
       "      <td>AAAAAAAAAAMCAAAA</td>\n",
       "      <td>38.000000</td>\n",
       "      <td>86.3800</td>\n",
       "      <td>0.0000000</td>\n",
       "      <td>9.5000</td>\n",
       "    </tr>\n",
       "    <tr>\n",
       "      <th>25</th>\n",
       "      <td>AAAAAAAAAANAAAAA</td>\n",
       "      <td>41.666667</td>\n",
       "      <td>126.0900</td>\n",
       "      <td>19.1533333</td>\n",
       "      <td>47.1800</td>\n",
       "    </tr>\n",
       "    <tr>\n",
       "      <th>26</th>\n",
       "      <td>AAAAAAAAAANBAAAA</td>\n",
       "      <td>46.750000</td>\n",
       "      <td>60.9225</td>\n",
       "      <td>153.9950000</td>\n",
       "      <td>23.7025</td>\n",
       "    </tr>\n",
       "    <tr>\n",
       "      <th>27</th>\n",
       "      <td>AAAAAAAAAANDAAAA</td>\n",
       "      <td>18.500000</td>\n",
       "      <td>47.6450</td>\n",
       "      <td>0.0000000</td>\n",
       "      <td>14.7550</td>\n",
       "    </tr>\n",
       "    <tr>\n",
       "      <th>28</th>\n",
       "      <td>AAAAAAAAAAOCAAAA</td>\n",
       "      <td>67.000000</td>\n",
       "      <td>114.9550</td>\n",
       "      <td>0.0000000</td>\n",
       "      <td>18.6000</td>\n",
       "    </tr>\n",
       "  </tbody>\n",
       "</table>\n",
       "</div>"
      ],
      "text/plain": [
       "           i_item_id       agg1      agg2         agg3     agg4\n",
       "24  AAAAAAAAAAMCAAAA  38.000000   86.3800    0.0000000   9.5000\n",
       "25  AAAAAAAAAANAAAAA  41.666667  126.0900   19.1533333  47.1800\n",
       "26  AAAAAAAAAANBAAAA  46.750000   60.9225  153.9950000  23.7025\n",
       "27  AAAAAAAAAANDAAAA  18.500000   47.6450    0.0000000  14.7550\n",
       "28  AAAAAAAAAAOCAAAA  67.000000  114.9550    0.0000000  18.6000"
      ]
     },
     "execution_count": 87,
     "metadata": {},
     "output_type": "execute_result"
    }
   ],
   "source": [
    "dfsf7c.loc[24:28]"
   ]
  },
  {
   "cell_type": "code",
   "execution_count": 88,
   "metadata": {},
   "outputs": [
    {
     "data": {
      "text/html": [
       "<div>\n",
       "<style scoped>\n",
       "    .dataframe tbody tr th:only-of-type {\n",
       "        vertical-align: middle;\n",
       "    }\n",
       "\n",
       "    .dataframe tbody tr th {\n",
       "        vertical-align: top;\n",
       "    }\n",
       "\n",
       "    .dataframe thead th {\n",
       "        text-align: right;\n",
       "    }\n",
       "</style>\n",
       "<table border=\"1\" class=\"dataframe\">\n",
       "  <thead>\n",
       "    <tr style=\"text-align: right;\">\n",
       "      <th></th>\n",
       "      <th>i_item_id</th>\n",
       "      <th>agg1</th>\n",
       "      <th>agg2</th>\n",
       "      <th>agg3</th>\n",
       "      <th>agg4</th>\n",
       "    </tr>\n",
       "  </thead>\n",
       "  <tbody>\n",
       "    <tr>\n",
       "      <th>24</th>\n",
       "      <td>AAAAAAAAAAMCAAAA</td>\n",
       "      <td>38.0000000</td>\n",
       "      <td>86.3800</td>\n",
       "      <td>0.0000000</td>\n",
       "      <td>9.5000</td>\n",
       "    </tr>\n",
       "    <tr>\n",
       "      <th>25</th>\n",
       "      <td>AAAAAAAAAANAAAAA</td>\n",
       "      <td>41.6666667</td>\n",
       "      <td>126.0900</td>\n",
       "      <td>19.1533333</td>\n",
       "      <td>47.1800</td>\n",
       "    </tr>\n",
       "    <tr>\n",
       "      <th>26</th>\n",
       "      <td>AAAAAAAAAANBAAAA</td>\n",
       "      <td>46.7500000</td>\n",
       "      <td>60.9225</td>\n",
       "      <td>153.9950000</td>\n",
       "      <td>23.7025</td>\n",
       "    </tr>\n",
       "    <tr>\n",
       "      <th>27</th>\n",
       "      <td>AAAAAAAAAANDAAAA</td>\n",
       "      <td>18.5000000</td>\n",
       "      <td>47.6450</td>\n",
       "      <td>0.0000000</td>\n",
       "      <td>14.7550</td>\n",
       "    </tr>\n",
       "    <tr>\n",
       "      <th>28</th>\n",
       "      <td>AAAAAAAAAAOCAAAA</td>\n",
       "      <td>67.0000000</td>\n",
       "      <td>114.9550</td>\n",
       "      <td>0.0000000</td>\n",
       "      <td>18.6000</td>\n",
       "    </tr>\n",
       "  </tbody>\n",
       "</table>\n",
       "</div>"
      ],
      "text/plain": [
       "           i_item_id        agg1      agg2         agg3     agg4\n",
       "24  AAAAAAAAAAMCAAAA  38.0000000   86.3800    0.0000000   9.5000\n",
       "25  AAAAAAAAAANAAAAA  41.6666667  126.0900   19.1533333  47.1800\n",
       "26  AAAAAAAAAANBAAAA  46.7500000   60.9225  153.9950000  23.7025\n",
       "27  AAAAAAAAAANDAAAA  18.5000000   47.6450    0.0000000  14.7550\n",
       "28  AAAAAAAAAAOCAAAA  67.0000000  114.9550    0.0000000  18.6000"
      ]
     },
     "execution_count": 88,
     "metadata": {},
     "output_type": "execute_result"
    }
   ],
   "source": [
    "dfbq7c.loc[24:28]"
   ]
  },
  {
   "cell_type": "code",
   "execution_count": 74,
   "metadata": {},
   "outputs": [
    {
     "data": {
      "text/plain": [
       "False"
      ]
     },
     "execution_count": 74,
     "metadata": {},
     "output_type": "execute_result"
    }
   ],
   "source": [
    "dfsf7c.equals(dfbq7c)"
   ]
  },
  {
   "cell_type": "code",
   "execution_count": 75,
   "metadata": {},
   "outputs": [],
   "source": [
    "from pandas.testing import assert_frame_equal"
   ]
  },
  {
   "cell_type": "code",
   "execution_count": 76,
   "metadata": {},
   "outputs": [],
   "source": [
    "def equals(df1, df2):\n",
    "    try:\n",
    "        assert_frame_equal(df1, df2, check_names=False)\n",
    "        return True\n",
    "    except AssertionError:\n",
    "        return False"
   ]
  },
  {
   "cell_type": "code",
   "execution_count": 77,
   "metadata": {},
   "outputs": [],
   "source": [
    "assert_frame_equal(dfbq7c, dfsf7c)"
   ]
  },
  {
   "cell_type": "code",
   "execution_count": 78,
   "metadata": {},
   "outputs": [
    {
     "data": {
      "text/plain": [
       "True"
      ]
     },
     "execution_count": 78,
     "metadata": {},
     "output_type": "execute_result"
    }
   ],
   "source": [
    "equals(dfsf7c, dfbq7c)"
   ]
  },
  {
   "cell_type": "code",
   "execution_count": 79,
   "metadata": {},
   "outputs": [
    {
     "data": {
      "text/html": [
       "<div>\n",
       "<style scoped>\n",
       "    .dataframe tbody tr th:only-of-type {\n",
       "        vertical-align: middle;\n",
       "    }\n",
       "\n",
       "    .dataframe tbody tr th {\n",
       "        vertical-align: top;\n",
       "    }\n",
       "\n",
       "    .dataframe thead th {\n",
       "        text-align: right;\n",
       "    }\n",
       "</style>\n",
       "<table border=\"1\" class=\"dataframe\">\n",
       "  <thead>\n",
       "    <tr style=\"text-align: right;\">\n",
       "      <th></th>\n",
       "      <th>i_item_id</th>\n",
       "      <th>agg1</th>\n",
       "      <th>agg2</th>\n",
       "      <th>agg3</th>\n",
       "      <th>agg4</th>\n",
       "    </tr>\n",
       "  </thead>\n",
       "  <tbody>\n",
       "    <tr>\n",
       "      <th>0</th>\n",
       "      <td>True</td>\n",
       "      <td>True</td>\n",
       "      <td>True</td>\n",
       "      <td>True</td>\n",
       "      <td>True</td>\n",
       "    </tr>\n",
       "    <tr>\n",
       "      <th>1</th>\n",
       "      <td>True</td>\n",
       "      <td>True</td>\n",
       "      <td>True</td>\n",
       "      <td>True</td>\n",
       "      <td>True</td>\n",
       "    </tr>\n",
       "    <tr>\n",
       "      <th>2</th>\n",
       "      <td>True</td>\n",
       "      <td>True</td>\n",
       "      <td>True</td>\n",
       "      <td>True</td>\n",
       "      <td>True</td>\n",
       "    </tr>\n",
       "    <tr>\n",
       "      <th>3</th>\n",
       "      <td>True</td>\n",
       "      <td>True</td>\n",
       "      <td>False</td>\n",
       "      <td>False</td>\n",
       "      <td>True</td>\n",
       "    </tr>\n",
       "    <tr>\n",
       "      <th>4</th>\n",
       "      <td>True</td>\n",
       "      <td>True</td>\n",
       "      <td>True</td>\n",
       "      <td>True</td>\n",
       "      <td>True</td>\n",
       "    </tr>\n",
       "    <tr>\n",
       "      <th>5</th>\n",
       "      <td>True</td>\n",
       "      <td>True</td>\n",
       "      <td>True</td>\n",
       "      <td>True</td>\n",
       "      <td>True</td>\n",
       "    </tr>\n",
       "  </tbody>\n",
       "</table>\n",
       "</div>"
      ],
      "text/plain": [
       "   i_item_id  agg1   agg2   agg3  agg4\n",
       "0       True  True   True   True  True\n",
       "1       True  True   True   True  True\n",
       "2       True  True   True   True  True\n",
       "3       True  True  False  False  True\n",
       "4       True  True   True   True  True\n",
       "5       True  True   True   True  True"
      ]
     },
     "execution_count": 79,
     "metadata": {},
     "output_type": "execute_result"
    }
   ],
   "source": [
    "eq = dfsf7c.eq(dfbq7c)\n",
    "eq.loc[0:5]"
   ]
  },
  {
   "cell_type": "code",
   "execution_count": 80,
   "metadata": {},
   "outputs": [
    {
     "data": {
      "text/plain": [
       "i_item_id    AAAAAAAAAABBAAAA\n",
       "agg1                       91\n",
       "agg2                      NaN\n",
       "agg3                      NaN\n",
       "agg4                     3.13\n",
       "Name: 3, dtype: object"
      ]
     },
     "execution_count": 80,
     "metadata": {},
     "output_type": "execute_result"
    }
   ],
   "source": [
    "dfbq7c.loc[3]"
   ]
  },
  {
   "cell_type": "code",
   "execution_count": 81,
   "metadata": {},
   "outputs": [
    {
     "data": {
      "text/plain": [
       "i_item_id    AAAAAAAAAABBAAAA\n",
       "agg1                       91\n",
       "agg2                      NaN\n",
       "agg3                      NaN\n",
       "agg4                     3.13\n",
       "Name: 3, dtype: object"
      ]
     },
     "execution_count": 81,
     "metadata": {},
     "output_type": "execute_result"
    }
   ],
   "source": [
    "dfsf7c.loc[3]"
   ]
  },
  {
   "cell_type": "code",
   "execution_count": 82,
   "metadata": {},
   "outputs": [
    {
     "data": {
      "text/plain": [
       "i_item_id     True\n",
       "agg1          True\n",
       "agg2         False\n",
       "agg3         False\n",
       "agg4          True\n",
       "Name: 3, dtype: bool"
      ]
     },
     "execution_count": 82,
     "metadata": {},
     "output_type": "execute_result"
    }
   ],
   "source": [
    "dfbq7c.loc[3] == dfsf7c.loc[3]"
   ]
  },
  {
   "cell_type": "code",
   "execution_count": 83,
   "metadata": {},
   "outputs": [
    {
     "data": {
      "text/plain": [
       "numpy.float64"
      ]
     },
     "execution_count": 83,
     "metadata": {},
     "output_type": "execute_result"
    }
   ],
   "source": [
    "type(dfbq7c.loc[3, \"agg2\"])"
   ]
  },
  {
   "cell_type": "code",
   "execution_count": 84,
   "metadata": {},
   "outputs": [
    {
     "data": {
      "text/plain": [
       "numpy.float64"
      ]
     },
     "execution_count": 84,
     "metadata": {},
     "output_type": "execute_result"
    }
   ],
   "source": [
    "type(dfsf7c.loc[3, \"agg2\"])"
   ]
  },
  {
   "cell_type": "code",
   "execution_count": 85,
   "metadata": {},
   "outputs": [],
   "source": [
    "import numpy as np"
   ]
  },
  {
   "cell_type": "code",
   "execution_count": 86,
   "metadata": {},
   "outputs": [
    {
     "data": {
      "text/plain": [
       "True"
      ]
     },
     "execution_count": 86,
     "metadata": {},
     "output_type": "execute_result"
    }
   ],
   "source": [
    "pd.isnull(dfbq7c.loc[3, \"agg2\"])"
   ]
  },
  {
   "cell_type": "code",
   "execution_count": null,
   "metadata": {},
   "outputs": [],
   "source": []
  }
 ],
 "metadata": {
  "kernelspec": {
   "display_name": "Python 3",
   "language": "python",
   "name": "python3"
  },
  "language_info": {
   "codemirror_mode": {
    "name": "ipython",
    "version": 3
   },
   "file_extension": ".py",
   "mimetype": "text/x-python",
   "name": "python",
   "nbconvert_exporter": "python",
   "pygments_lexer": "ipython3",
   "version": "3.7.7"
  }
 },
 "nbformat": 4,
 "nbformat_minor": 4
}
