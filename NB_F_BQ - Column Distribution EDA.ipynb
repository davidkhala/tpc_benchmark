{
 "cells": [
  {
   "cell_type": "code",
   "execution_count": 1,
   "metadata": {},
   "outputs": [],
   "source": [
    "import warnings\n",
    "warnings.simplefilter(action='ignore', category=FutureWarning)\n",
    "\n",
    "import pandas as pd\n",
    "import matplotlib.pyplot as plt\n",
    "\n",
    "import seaborn as sns\n",
    "\n",
    "pd.options.display.max_rows = 999\n",
    "pd.options.display.max_columns = 999"
   ]
  },
  {
   "cell_type": "code",
   "execution_count": 2,
   "metadata": {},
   "outputs": [],
   "source": [
    "import config, tools, poor_security, bq_tpc"
   ]
  },
  {
   "cell_type": "markdown",
   "metadata": {},
   "source": [
    "### Partition and cluster based on time  \n",
    "The goal is to partition and cluster the database by day. Below, we'll count the values within each column and see where things should be partitioned."
   ]
  },
  {
   "cell_type": "code",
   "execution_count": 3,
   "metadata": {
    "pycharm": {
     "name": "#%%\n"
    }
   },
   "outputs": [
    {
     "name": "stdout",
     "output_type": "stream",
     "text": [
      "BigQuery configuration\n",
      "=======================\n",
      "Service Account:  bq-476262002685@bigquery-encryption.iam.gserviceaccount.com\n",
      "\n"
     ]
    }
   ],
   "source": [
    "bq = bq_tpc.BQTPC(test=\"ds\",\n",
    "                  scale=100,\n",
    "                  cid=\"01F\",\n",
    "                  desc=\"dev-debug-01\",\n",
    "                  verbose=True,\n",
    "                  verbose_query=False)"
   ]
  },
  {
   "cell_type": "markdown",
   "metadata": {},
   "source": [
    "#### 1. Helper Functions"
   ]
  },
  {
   "cell_type": "code",
   "execution_count": 4,
   "metadata": {},
   "outputs": [],
   "source": [
    "def count(table, column, distinct=False):\n",
    "    if distinct:\n",
    "        distinct = \"DISTINCT \"\n",
    "    else:\n",
    "        distinct = \"\"\n",
    "    query_text = \"SELECT COUNT({}{}) as r1 FROM {};\".format(distinct, table, column)\n",
    "    return bq.query(query_text=query_text)"
   ]
  },
  {
   "cell_type": "code",
   "execution_count": 5,
   "metadata": {},
   "outputs": [],
   "source": [
    "def groupby_count(table, column):\n",
    "    query_text = \"\"\"\n",
    "SELECT\n",
    "  cr_returned_date_sk,\n",
    "  COUNT(cr_returned_date_sk) as count\n",
    "FROM `tpc-benchmarking-9432.ds_100GB_01F.catalog_returns`\n",
    "GROUP BY\n",
    "  cr_returned_date_sk;\n",
    "\"\"\"\n"
   ]
  },
  {
   "cell_type": "code",
   "execution_count": 6,
   "metadata": {},
   "outputs": [],
   "source": [
    "def get_column(table, column):\n",
    "    query_text = f\"SELECT {column} FROM {table};\"\n",
    "    query_result = bq.query(query_text=query_text)\n",
    "    return query_result.to_dataframe()"
   ]
  },
  {
   "cell_type": "code",
   "execution_count": 7,
   "metadata": {},
   "outputs": [],
   "source": [
    "def get_table(table):\n",
    "    query_text = F\"SELECT * from {table}\"\n",
    "    query_result = bq.query(query_text=query_text)\n",
    "    return query_result.to_dataframe()"
   ]
  },
  {
   "cell_type": "code",
   "execution_count": 8,
   "metadata": {},
   "outputs": [],
   "source": [
    "def get_max(table, column):\n",
    "    query_text = f\"SELECT MAX({column}) FROM {table};\"\n",
    "    query_result = bq.query(query_text=query_text)\n",
    "    return list(query_result.result())[0][0]"
   ]
  },
  {
   "cell_type": "code",
   "execution_count": 9,
   "metadata": {},
   "outputs": [],
   "source": [
    "def get_min(table, column):\n",
    "    query_text = f\"SELECT MIN({column}) FROM {table};\"\n",
    "    query_result = bq.query(query_text=query_text)\n",
    "    return list(query_result.result())[0][0]"
   ]
  },
  {
   "cell_type": "markdown",
   "metadata": {},
   "source": [
    "#### 2. EDA on TPC-DS  \n",
    "\n",
    "Loading the 100 GB TPC scale factor data into BigQuery with partitioning or clustering strategy, these are the largest tables (other tables are in the MB range):\n",
    "\n",
    "| table           | date column         | GB    |\n",
    "| --------------- | ------------------- | ----- |\n",
    "| catalog_returns | cr_returned_date_sk | 2.85  |\n",
    "| catalog_sales   | cs_sold_date_sk     | 36.32 |\n",
    "| inventory       | inv_date_sk         | 11.75 |\n",
    "| store_returns   | sr_returned_date_sk | 4.16  |\n",
    "| store_sales     | ss_solid_date_sk    | 47.32 |\n",
    "| web_returns     | wr_returned_date_sk | 1.23  |\n",
    "| web_sales       | ws_sold_date_sk     | 18.23 |\n",
    "\n",
    "Additionally, for the date columns in these tables, we have the following attributes:\n",
    "1. All are TPC-DS type `identifier`\n",
    "2. All are BigQuery type `integer`\n",
    "3. All have a foreign key of `d_date_sk` in the `date_dim` table"
   ]
  },
  {
   "cell_type": "code",
   "execution_count": 10,
   "metadata": {},
   "outputs": [],
   "source": [
    "df_dd = get_table(\"date_dim\")"
   ]
  },
  {
   "cell_type": "code",
   "execution_count": 11,
   "metadata": {},
   "outputs": [
    {
     "data": {
      "text/html": [
       "<div>\n",
       "<style scoped>\n",
       "    .dataframe tbody tr th:only-of-type {\n",
       "        vertical-align: middle;\n",
       "    }\n",
       "\n",
       "    .dataframe tbody tr th {\n",
       "        vertical-align: top;\n",
       "    }\n",
       "\n",
       "    .dataframe thead th {\n",
       "        text-align: right;\n",
       "    }\n",
       "</style>\n",
       "<table border=\"1\" class=\"dataframe\">\n",
       "  <thead>\n",
       "    <tr style=\"text-align: right;\">\n",
       "      <th></th>\n",
       "      <th>d_date_sk</th>\n",
       "      <th>d_date_id</th>\n",
       "      <th>d_date</th>\n",
       "      <th>d_month_seq</th>\n",
       "      <th>d_week_seq</th>\n",
       "      <th>d_quarter_seq</th>\n",
       "      <th>d_year</th>\n",
       "      <th>d_dow</th>\n",
       "      <th>d_moy</th>\n",
       "      <th>d_dom</th>\n",
       "      <th>d_qoy</th>\n",
       "      <th>d_fy_year</th>\n",
       "      <th>d_fy_quarter_seq</th>\n",
       "      <th>d_fy_week_seq</th>\n",
       "      <th>d_day_name</th>\n",
       "      <th>d_quarter_name</th>\n",
       "      <th>d_holiday</th>\n",
       "      <th>d_weekend</th>\n",
       "      <th>d_following_holiday</th>\n",
       "      <th>d_first_dom</th>\n",
       "      <th>d_last_dom</th>\n",
       "      <th>d_same_day_ly</th>\n",
       "      <th>d_same_day_lq</th>\n",
       "      <th>d_current_day</th>\n",
       "      <th>d_current_week</th>\n",
       "      <th>d_current_month</th>\n",
       "      <th>d_current_quarter</th>\n",
       "      <th>d_current_year</th>\n",
       "    </tr>\n",
       "  </thead>\n",
       "  <tbody>\n",
       "    <tr>\n",
       "      <th>0</th>\n",
       "      <td>2425867</td>\n",
       "      <td>AAAAAAAALAEAFCAA</td>\n",
       "      <td>1929-09-12</td>\n",
       "      <td>356</td>\n",
       "      <td>1550</td>\n",
       "      <td>120</td>\n",
       "      <td>1929</td>\n",
       "      <td>4</td>\n",
       "      <td>9</td>\n",
       "      <td>12</td>\n",
       "      <td>3</td>\n",
       "      <td>1929</td>\n",
       "      <td>120</td>\n",
       "      <td>1550</td>\n",
       "      <td>Thursday</td>\n",
       "      <td>1929Q3</td>\n",
       "      <td>N</td>\n",
       "      <td>N</td>\n",
       "      <td>N</td>\n",
       "      <td>2425856</td>\n",
       "      <td>2426098</td>\n",
       "      <td>2425502</td>\n",
       "      <td>2425776</td>\n",
       "      <td>N</td>\n",
       "      <td>N</td>\n",
       "      <td>N</td>\n",
       "      <td>N</td>\n",
       "      <td>N</td>\n",
       "    </tr>\n",
       "    <tr>\n",
       "      <th>1</th>\n",
       "      <td>2425871</td>\n",
       "      <td>AAAAAAAAPAEAFCAA</td>\n",
       "      <td>1929-09-16</td>\n",
       "      <td>356</td>\n",
       "      <td>1550</td>\n",
       "      <td>120</td>\n",
       "      <td>1929</td>\n",
       "      <td>1</td>\n",
       "      <td>9</td>\n",
       "      <td>16</td>\n",
       "      <td>3</td>\n",
       "      <td>1929</td>\n",
       "      <td>120</td>\n",
       "      <td>1550</td>\n",
       "      <td>Monday</td>\n",
       "      <td>1929Q3</td>\n",
       "      <td>N</td>\n",
       "      <td>N</td>\n",
       "      <td>N</td>\n",
       "      <td>2425856</td>\n",
       "      <td>2426098</td>\n",
       "      <td>2425506</td>\n",
       "      <td>2425780</td>\n",
       "      <td>N</td>\n",
       "      <td>N</td>\n",
       "      <td>N</td>\n",
       "      <td>N</td>\n",
       "      <td>N</td>\n",
       "    </tr>\n",
       "    <tr>\n",
       "      <th>2</th>\n",
       "      <td>2425870</td>\n",
       "      <td>AAAAAAAAOAEAFCAA</td>\n",
       "      <td>1929-09-15</td>\n",
       "      <td>356</td>\n",
       "      <td>1550</td>\n",
       "      <td>120</td>\n",
       "      <td>1929</td>\n",
       "      <td>0</td>\n",
       "      <td>9</td>\n",
       "      <td>15</td>\n",
       "      <td>3</td>\n",
       "      <td>1929</td>\n",
       "      <td>120</td>\n",
       "      <td>1550</td>\n",
       "      <td>Sunday</td>\n",
       "      <td>1929Q3</td>\n",
       "      <td>N</td>\n",
       "      <td>N</td>\n",
       "      <td>N</td>\n",
       "      <td>2425856</td>\n",
       "      <td>2426098</td>\n",
       "      <td>2425505</td>\n",
       "      <td>2425779</td>\n",
       "      <td>N</td>\n",
       "      <td>N</td>\n",
       "      <td>N</td>\n",
       "      <td>N</td>\n",
       "      <td>N</td>\n",
       "    </tr>\n",
       "    <tr>\n",
       "      <th>3</th>\n",
       "      <td>2425866</td>\n",
       "      <td>AAAAAAAAKAEAFCAA</td>\n",
       "      <td>1929-09-11</td>\n",
       "      <td>356</td>\n",
       "      <td>1550</td>\n",
       "      <td>120</td>\n",
       "      <td>1929</td>\n",
       "      <td>3</td>\n",
       "      <td>9</td>\n",
       "      <td>11</td>\n",
       "      <td>3</td>\n",
       "      <td>1929</td>\n",
       "      <td>120</td>\n",
       "      <td>1550</td>\n",
       "      <td>Wednesday</td>\n",
       "      <td>1929Q3</td>\n",
       "      <td>N</td>\n",
       "      <td>N</td>\n",
       "      <td>N</td>\n",
       "      <td>2425856</td>\n",
       "      <td>2426098</td>\n",
       "      <td>2425501</td>\n",
       "      <td>2425775</td>\n",
       "      <td>N</td>\n",
       "      <td>N</td>\n",
       "      <td>N</td>\n",
       "      <td>N</td>\n",
       "      <td>N</td>\n",
       "    </tr>\n",
       "    <tr>\n",
       "      <th>4</th>\n",
       "      <td>2425865</td>\n",
       "      <td>AAAAAAAAJAEAFCAA</td>\n",
       "      <td>1929-09-10</td>\n",
       "      <td>356</td>\n",
       "      <td>1550</td>\n",
       "      <td>120</td>\n",
       "      <td>1929</td>\n",
       "      <td>2</td>\n",
       "      <td>9</td>\n",
       "      <td>10</td>\n",
       "      <td>3</td>\n",
       "      <td>1929</td>\n",
       "      <td>120</td>\n",
       "      <td>1550</td>\n",
       "      <td>Tuesday</td>\n",
       "      <td>1929Q3</td>\n",
       "      <td>N</td>\n",
       "      <td>N</td>\n",
       "      <td>N</td>\n",
       "      <td>2425856</td>\n",
       "      <td>2426098</td>\n",
       "      <td>2425500</td>\n",
       "      <td>2425774</td>\n",
       "      <td>N</td>\n",
       "      <td>N</td>\n",
       "      <td>N</td>\n",
       "      <td>N</td>\n",
       "      <td>N</td>\n",
       "    </tr>\n",
       "  </tbody>\n",
       "</table>\n",
       "</div>"
      ],
      "text/plain": [
       "   d_date_sk         d_date_id      d_date  d_month_seq  d_week_seq  \\\n",
       "0    2425867  AAAAAAAALAEAFCAA  1929-09-12          356        1550   \n",
       "1    2425871  AAAAAAAAPAEAFCAA  1929-09-16          356        1550   \n",
       "2    2425870  AAAAAAAAOAEAFCAA  1929-09-15          356        1550   \n",
       "3    2425866  AAAAAAAAKAEAFCAA  1929-09-11          356        1550   \n",
       "4    2425865  AAAAAAAAJAEAFCAA  1929-09-10          356        1550   \n",
       "\n",
       "   d_quarter_seq  d_year  d_dow  d_moy  d_dom  d_qoy  d_fy_year  \\\n",
       "0            120    1929      4      9     12      3       1929   \n",
       "1            120    1929      1      9     16      3       1929   \n",
       "2            120    1929      0      9     15      3       1929   \n",
       "3            120    1929      3      9     11      3       1929   \n",
       "4            120    1929      2      9     10      3       1929   \n",
       "\n",
       "   d_fy_quarter_seq  d_fy_week_seq d_day_name d_quarter_name d_holiday  \\\n",
       "0               120           1550   Thursday         1929Q3         N   \n",
       "1               120           1550     Monday         1929Q3         N   \n",
       "2               120           1550     Sunday         1929Q3         N   \n",
       "3               120           1550  Wednesday         1929Q3         N   \n",
       "4               120           1550    Tuesday         1929Q3         N   \n",
       "\n",
       "  d_weekend d_following_holiday  d_first_dom  d_last_dom  d_same_day_ly  \\\n",
       "0         N                   N      2425856     2426098        2425502   \n",
       "1         N                   N      2425856     2426098        2425506   \n",
       "2         N                   N      2425856     2426098        2425505   \n",
       "3         N                   N      2425856     2426098        2425501   \n",
       "4         N                   N      2425856     2426098        2425500   \n",
       "\n",
       "   d_same_day_lq d_current_day d_current_week d_current_month  \\\n",
       "0        2425776             N              N               N   \n",
       "1        2425780             N              N               N   \n",
       "2        2425779             N              N               N   \n",
       "3        2425775             N              N               N   \n",
       "4        2425774             N              N               N   \n",
       "\n",
       "  d_current_quarter d_current_year  \n",
       "0                 N              N  \n",
       "1                 N              N  \n",
       "2                 N              N  \n",
       "3                 N              N  \n",
       "4                 N              N  "
      ]
     },
     "execution_count": 11,
     "metadata": {},
     "output_type": "execute_result"
    }
   ],
   "source": [
    "df_dd.head()"
   ]
  },
  {
   "cell_type": "markdown",
   "metadata": {},
   "source": [
    "Here, we can see the records are not in chronological order (nor do they need to be)"
   ]
  },
  {
   "cell_type": "code",
   "execution_count": 12,
   "metadata": {},
   "outputs": [
    {
     "data": {
      "text/plain": [
       "d_date_sk               int64\n",
       "d_date_id              object\n",
       "d_date                 object\n",
       "d_month_seq             int64\n",
       "d_week_seq              int64\n",
       "d_quarter_seq           int64\n",
       "d_year                  int64\n",
       "d_dow                   int64\n",
       "d_moy                   int64\n",
       "d_dom                   int64\n",
       "d_qoy                   int64\n",
       "d_fy_year               int64\n",
       "d_fy_quarter_seq        int64\n",
       "d_fy_week_seq           int64\n",
       "d_day_name             object\n",
       "d_quarter_name         object\n",
       "d_holiday              object\n",
       "d_weekend              object\n",
       "d_following_holiday    object\n",
       "d_first_dom             int64\n",
       "d_last_dom              int64\n",
       "d_same_day_ly           int64\n",
       "d_same_day_lq           int64\n",
       "d_current_day          object\n",
       "d_current_week         object\n",
       "d_current_month        object\n",
       "d_current_quarter      object\n",
       "d_current_year         object\n",
       "dtype: object"
      ]
     },
     "execution_count": 12,
     "metadata": {},
     "output_type": "execute_result"
    }
   ],
   "source": [
    "df_dd.dtypes"
   ]
  },
  {
   "cell_type": "code",
   "execution_count": 13,
   "metadata": {},
   "outputs": [],
   "source": [
    "df_dd.sort_values(by=[\"d_year\", \"d_moy\", \"d_dom\"], inplace=True)\n",
    "df_dd.reset_index(inplace=True, drop=True)"
   ]
  },
  {
   "cell_type": "code",
   "execution_count": 14,
   "metadata": {},
   "outputs": [
    {
     "data": {
      "text/html": [
       "<div>\n",
       "<style scoped>\n",
       "    .dataframe tbody tr th:only-of-type {\n",
       "        vertical-align: middle;\n",
       "    }\n",
       "\n",
       "    .dataframe tbody tr th {\n",
       "        vertical-align: top;\n",
       "    }\n",
       "\n",
       "    .dataframe thead th {\n",
       "        text-align: right;\n",
       "    }\n",
       "</style>\n",
       "<table border=\"1\" class=\"dataframe\">\n",
       "  <thead>\n",
       "    <tr style=\"text-align: right;\">\n",
       "      <th></th>\n",
       "      <th>d_date_sk</th>\n",
       "      <th>d_date_id</th>\n",
       "      <th>d_date</th>\n",
       "      <th>d_month_seq</th>\n",
       "      <th>d_week_seq</th>\n",
       "      <th>d_quarter_seq</th>\n",
       "      <th>d_year</th>\n",
       "      <th>d_dow</th>\n",
       "      <th>d_moy</th>\n",
       "      <th>d_dom</th>\n",
       "      <th>d_qoy</th>\n",
       "      <th>d_fy_year</th>\n",
       "      <th>d_fy_quarter_seq</th>\n",
       "      <th>d_fy_week_seq</th>\n",
       "      <th>d_day_name</th>\n",
       "      <th>d_quarter_name</th>\n",
       "      <th>d_holiday</th>\n",
       "      <th>d_weekend</th>\n",
       "      <th>d_following_holiday</th>\n",
       "      <th>d_first_dom</th>\n",
       "      <th>d_last_dom</th>\n",
       "      <th>d_same_day_ly</th>\n",
       "      <th>d_same_day_lq</th>\n",
       "      <th>d_current_day</th>\n",
       "      <th>d_current_week</th>\n",
       "      <th>d_current_month</th>\n",
       "      <th>d_current_quarter</th>\n",
       "      <th>d_current_year</th>\n",
       "    </tr>\n",
       "  </thead>\n",
       "  <tbody>\n",
       "    <tr>\n",
       "      <th>0</th>\n",
       "      <td>2415022</td>\n",
       "      <td>AAAAAAAAOKJNECAA</td>\n",
       "      <td>1900-01-02</td>\n",
       "      <td>0</td>\n",
       "      <td>1</td>\n",
       "      <td>1</td>\n",
       "      <td>1900</td>\n",
       "      <td>1</td>\n",
       "      <td>1</td>\n",
       "      <td>2</td>\n",
       "      <td>1</td>\n",
       "      <td>1900</td>\n",
       "      <td>1</td>\n",
       "      <td>1</td>\n",
       "      <td>Monday</td>\n",
       "      <td>1900Q1</td>\n",
       "      <td>N</td>\n",
       "      <td>N</td>\n",
       "      <td>Y</td>\n",
       "      <td>2415021</td>\n",
       "      <td>2415020</td>\n",
       "      <td>2414657</td>\n",
       "      <td>2414930</td>\n",
       "      <td>N</td>\n",
       "      <td>N</td>\n",
       "      <td>N</td>\n",
       "      <td>N</td>\n",
       "      <td>N</td>\n",
       "    </tr>\n",
       "    <tr>\n",
       "      <th>1</th>\n",
       "      <td>2415023</td>\n",
       "      <td>AAAAAAAAPKJNECAA</td>\n",
       "      <td>1900-01-03</td>\n",
       "      <td>0</td>\n",
       "      <td>1</td>\n",
       "      <td>1</td>\n",
       "      <td>1900</td>\n",
       "      <td>2</td>\n",
       "      <td>1</td>\n",
       "      <td>3</td>\n",
       "      <td>1</td>\n",
       "      <td>1900</td>\n",
       "      <td>1</td>\n",
       "      <td>1</td>\n",
       "      <td>Tuesday</td>\n",
       "      <td>1900Q1</td>\n",
       "      <td>N</td>\n",
       "      <td>N</td>\n",
       "      <td>N</td>\n",
       "      <td>2415021</td>\n",
       "      <td>2415020</td>\n",
       "      <td>2414658</td>\n",
       "      <td>2414931</td>\n",
       "      <td>N</td>\n",
       "      <td>N</td>\n",
       "      <td>N</td>\n",
       "      <td>N</td>\n",
       "      <td>N</td>\n",
       "    </tr>\n",
       "    <tr>\n",
       "      <th>2</th>\n",
       "      <td>2415024</td>\n",
       "      <td>AAAAAAAAALJNECAA</td>\n",
       "      <td>1900-01-04</td>\n",
       "      <td>0</td>\n",
       "      <td>1</td>\n",
       "      <td>1</td>\n",
       "      <td>1900</td>\n",
       "      <td>3</td>\n",
       "      <td>1</td>\n",
       "      <td>4</td>\n",
       "      <td>1</td>\n",
       "      <td>1900</td>\n",
       "      <td>1</td>\n",
       "      <td>1</td>\n",
       "      <td>Wednesday</td>\n",
       "      <td>1900Q1</td>\n",
       "      <td>N</td>\n",
       "      <td>N</td>\n",
       "      <td>N</td>\n",
       "      <td>2415021</td>\n",
       "      <td>2415020</td>\n",
       "      <td>2414659</td>\n",
       "      <td>2414932</td>\n",
       "      <td>N</td>\n",
       "      <td>N</td>\n",
       "      <td>N</td>\n",
       "      <td>N</td>\n",
       "      <td>N</td>\n",
       "    </tr>\n",
       "    <tr>\n",
       "      <th>3</th>\n",
       "      <td>2415025</td>\n",
       "      <td>AAAAAAAABLJNECAA</td>\n",
       "      <td>1900-01-05</td>\n",
       "      <td>0</td>\n",
       "      <td>1</td>\n",
       "      <td>1</td>\n",
       "      <td>1900</td>\n",
       "      <td>4</td>\n",
       "      <td>1</td>\n",
       "      <td>5</td>\n",
       "      <td>1</td>\n",
       "      <td>1900</td>\n",
       "      <td>1</td>\n",
       "      <td>1</td>\n",
       "      <td>Thursday</td>\n",
       "      <td>1900Q1</td>\n",
       "      <td>N</td>\n",
       "      <td>N</td>\n",
       "      <td>N</td>\n",
       "      <td>2415021</td>\n",
       "      <td>2415020</td>\n",
       "      <td>2414660</td>\n",
       "      <td>2414933</td>\n",
       "      <td>N</td>\n",
       "      <td>N</td>\n",
       "      <td>N</td>\n",
       "      <td>N</td>\n",
       "      <td>N</td>\n",
       "    </tr>\n",
       "    <tr>\n",
       "      <th>4</th>\n",
       "      <td>2415026</td>\n",
       "      <td>AAAAAAAACLJNECAA</td>\n",
       "      <td>1900-01-06</td>\n",
       "      <td>0</td>\n",
       "      <td>1</td>\n",
       "      <td>1</td>\n",
       "      <td>1900</td>\n",
       "      <td>5</td>\n",
       "      <td>1</td>\n",
       "      <td>6</td>\n",
       "      <td>1</td>\n",
       "      <td>1900</td>\n",
       "      <td>1</td>\n",
       "      <td>1</td>\n",
       "      <td>Friday</td>\n",
       "      <td>1900Q1</td>\n",
       "      <td>N</td>\n",
       "      <td>Y</td>\n",
       "      <td>N</td>\n",
       "      <td>2415021</td>\n",
       "      <td>2415020</td>\n",
       "      <td>2414661</td>\n",
       "      <td>2414934</td>\n",
       "      <td>N</td>\n",
       "      <td>N</td>\n",
       "      <td>N</td>\n",
       "      <td>N</td>\n",
       "      <td>N</td>\n",
       "    </tr>\n",
       "  </tbody>\n",
       "</table>\n",
       "</div>"
      ],
      "text/plain": [
       "   d_date_sk         d_date_id      d_date  d_month_seq  d_week_seq  \\\n",
       "0    2415022  AAAAAAAAOKJNECAA  1900-01-02            0           1   \n",
       "1    2415023  AAAAAAAAPKJNECAA  1900-01-03            0           1   \n",
       "2    2415024  AAAAAAAAALJNECAA  1900-01-04            0           1   \n",
       "3    2415025  AAAAAAAABLJNECAA  1900-01-05            0           1   \n",
       "4    2415026  AAAAAAAACLJNECAA  1900-01-06            0           1   \n",
       "\n",
       "   d_quarter_seq  d_year  d_dow  d_moy  d_dom  d_qoy  d_fy_year  \\\n",
       "0              1    1900      1      1      2      1       1900   \n",
       "1              1    1900      2      1      3      1       1900   \n",
       "2              1    1900      3      1      4      1       1900   \n",
       "3              1    1900      4      1      5      1       1900   \n",
       "4              1    1900      5      1      6      1       1900   \n",
       "\n",
       "   d_fy_quarter_seq  d_fy_week_seq d_day_name d_quarter_name d_holiday  \\\n",
       "0                 1              1     Monday         1900Q1         N   \n",
       "1                 1              1    Tuesday         1900Q1         N   \n",
       "2                 1              1  Wednesday         1900Q1         N   \n",
       "3                 1              1   Thursday         1900Q1         N   \n",
       "4                 1              1     Friday         1900Q1         N   \n",
       "\n",
       "  d_weekend d_following_holiday  d_first_dom  d_last_dom  d_same_day_ly  \\\n",
       "0         N                   Y      2415021     2415020        2414657   \n",
       "1         N                   N      2415021     2415020        2414658   \n",
       "2         N                   N      2415021     2415020        2414659   \n",
       "3         N                   N      2415021     2415020        2414660   \n",
       "4         Y                   N      2415021     2415020        2414661   \n",
       "\n",
       "   d_same_day_lq d_current_day d_current_week d_current_month  \\\n",
       "0        2414930             N              N               N   \n",
       "1        2414931             N              N               N   \n",
       "2        2414932             N              N               N   \n",
       "3        2414933             N              N               N   \n",
       "4        2414934             N              N               N   \n",
       "\n",
       "  d_current_quarter d_current_year  \n",
       "0                 N              N  \n",
       "1                 N              N  \n",
       "2                 N              N  \n",
       "3                 N              N  \n",
       "4                 N              N  "
      ]
     },
     "execution_count": 14,
     "metadata": {},
     "output_type": "execute_result"
    }
   ],
   "source": [
    "df_dd.head()"
   ]
  },
  {
   "cell_type": "code",
   "execution_count": 15,
   "metadata": {},
   "outputs": [
    {
     "data": {
      "text/html": [
       "<div>\n",
       "<style scoped>\n",
       "    .dataframe tbody tr th:only-of-type {\n",
       "        vertical-align: middle;\n",
       "    }\n",
       "\n",
       "    .dataframe tbody tr th {\n",
       "        vertical-align: top;\n",
       "    }\n",
       "\n",
       "    .dataframe thead th {\n",
       "        text-align: right;\n",
       "    }\n",
       "</style>\n",
       "<table border=\"1\" class=\"dataframe\">\n",
       "  <thead>\n",
       "    <tr style=\"text-align: right;\">\n",
       "      <th></th>\n",
       "      <th>d_date_sk</th>\n",
       "      <th>d_date_id</th>\n",
       "      <th>d_date</th>\n",
       "      <th>d_month_seq</th>\n",
       "      <th>d_week_seq</th>\n",
       "      <th>d_quarter_seq</th>\n",
       "      <th>d_year</th>\n",
       "      <th>d_dow</th>\n",
       "      <th>d_moy</th>\n",
       "      <th>d_dom</th>\n",
       "      <th>d_qoy</th>\n",
       "      <th>d_fy_year</th>\n",
       "      <th>d_fy_quarter_seq</th>\n",
       "      <th>d_fy_week_seq</th>\n",
       "      <th>d_day_name</th>\n",
       "      <th>d_quarter_name</th>\n",
       "      <th>d_holiday</th>\n",
       "      <th>d_weekend</th>\n",
       "      <th>d_following_holiday</th>\n",
       "      <th>d_first_dom</th>\n",
       "      <th>d_last_dom</th>\n",
       "      <th>d_same_day_ly</th>\n",
       "      <th>d_same_day_lq</th>\n",
       "      <th>d_current_day</th>\n",
       "      <th>d_current_week</th>\n",
       "      <th>d_current_month</th>\n",
       "      <th>d_current_quarter</th>\n",
       "      <th>d_current_year</th>\n",
       "    </tr>\n",
       "  </thead>\n",
       "  <tbody>\n",
       "    <tr>\n",
       "      <th>73044</th>\n",
       "      <td>2488066</td>\n",
       "      <td>AAAAAAAACAHPFCAA</td>\n",
       "      <td>2099-12-28</td>\n",
       "      <td>2399</td>\n",
       "      <td>10435</td>\n",
       "      <td>801</td>\n",
       "      <td>2099</td>\n",
       "      <td>1</td>\n",
       "      <td>12</td>\n",
       "      <td>28</td>\n",
       "      <td>4</td>\n",
       "      <td>2099</td>\n",
       "      <td>801</td>\n",
       "      <td>10435</td>\n",
       "      <td>Monday</td>\n",
       "      <td>2099Q4</td>\n",
       "      <td>N</td>\n",
       "      <td>N</td>\n",
       "      <td>N</td>\n",
       "      <td>2488039</td>\n",
       "      <td>2488372</td>\n",
       "      <td>2487701</td>\n",
       "      <td>2487974</td>\n",
       "      <td>N</td>\n",
       "      <td>N</td>\n",
       "      <td>N</td>\n",
       "      <td>N</td>\n",
       "      <td>N</td>\n",
       "    </tr>\n",
       "    <tr>\n",
       "      <th>73045</th>\n",
       "      <td>2488067</td>\n",
       "      <td>AAAAAAAADAHPFCAA</td>\n",
       "      <td>2099-12-29</td>\n",
       "      <td>2399</td>\n",
       "      <td>10436</td>\n",
       "      <td>801</td>\n",
       "      <td>2099</td>\n",
       "      <td>2</td>\n",
       "      <td>12</td>\n",
       "      <td>29</td>\n",
       "      <td>4</td>\n",
       "      <td>2099</td>\n",
       "      <td>801</td>\n",
       "      <td>10436</td>\n",
       "      <td>Tuesday</td>\n",
       "      <td>2099Q4</td>\n",
       "      <td>N</td>\n",
       "      <td>N</td>\n",
       "      <td>N</td>\n",
       "      <td>2488039</td>\n",
       "      <td>2488372</td>\n",
       "      <td>2487702</td>\n",
       "      <td>2487975</td>\n",
       "      <td>N</td>\n",
       "      <td>N</td>\n",
       "      <td>N</td>\n",
       "      <td>N</td>\n",
       "      <td>N</td>\n",
       "    </tr>\n",
       "    <tr>\n",
       "      <th>73046</th>\n",
       "      <td>2488068</td>\n",
       "      <td>AAAAAAAAEAHPFCAA</td>\n",
       "      <td>2099-12-30</td>\n",
       "      <td>2399</td>\n",
       "      <td>10436</td>\n",
       "      <td>801</td>\n",
       "      <td>2099</td>\n",
       "      <td>3</td>\n",
       "      <td>12</td>\n",
       "      <td>30</td>\n",
       "      <td>4</td>\n",
       "      <td>2099</td>\n",
       "      <td>801</td>\n",
       "      <td>10436</td>\n",
       "      <td>Wednesday</td>\n",
       "      <td>2099Q4</td>\n",
       "      <td>N</td>\n",
       "      <td>N</td>\n",
       "      <td>N</td>\n",
       "      <td>2488039</td>\n",
       "      <td>2488372</td>\n",
       "      <td>2487703</td>\n",
       "      <td>2487976</td>\n",
       "      <td>N</td>\n",
       "      <td>N</td>\n",
       "      <td>N</td>\n",
       "      <td>N</td>\n",
       "      <td>N</td>\n",
       "    </tr>\n",
       "    <tr>\n",
       "      <th>73047</th>\n",
       "      <td>2488069</td>\n",
       "      <td>AAAAAAAAFAHPFCAA</td>\n",
       "      <td>2099-12-31</td>\n",
       "      <td>2399</td>\n",
       "      <td>10436</td>\n",
       "      <td>801</td>\n",
       "      <td>2099</td>\n",
       "      <td>4</td>\n",
       "      <td>12</td>\n",
       "      <td>31</td>\n",
       "      <td>4</td>\n",
       "      <td>2099</td>\n",
       "      <td>801</td>\n",
       "      <td>10436</td>\n",
       "      <td>Thursday</td>\n",
       "      <td>2099Q4</td>\n",
       "      <td>N</td>\n",
       "      <td>N</td>\n",
       "      <td>N</td>\n",
       "      <td>2488039</td>\n",
       "      <td>2488372</td>\n",
       "      <td>2487704</td>\n",
       "      <td>2487977</td>\n",
       "      <td>N</td>\n",
       "      <td>N</td>\n",
       "      <td>N</td>\n",
       "      <td>N</td>\n",
       "      <td>N</td>\n",
       "    </tr>\n",
       "    <tr>\n",
       "      <th>73048</th>\n",
       "      <td>2488070</td>\n",
       "      <td>AAAAAAAAGAHPFCAA</td>\n",
       "      <td>2100-01-01</td>\n",
       "      <td>2400</td>\n",
       "      <td>10436</td>\n",
       "      <td>801</td>\n",
       "      <td>2100</td>\n",
       "      <td>4</td>\n",
       "      <td>1</td>\n",
       "      <td>1</td>\n",
       "      <td>1</td>\n",
       "      <td>2100</td>\n",
       "      <td>801</td>\n",
       "      <td>10436</td>\n",
       "      <td>Thursday</td>\n",
       "      <td>2100Q1</td>\n",
       "      <td>Y</td>\n",
       "      <td>N</td>\n",
       "      <td>N</td>\n",
       "      <td>2488070</td>\n",
       "      <td>2488069</td>\n",
       "      <td>2487705</td>\n",
       "      <td>2487978</td>\n",
       "      <td>N</td>\n",
       "      <td>N</td>\n",
       "      <td>N</td>\n",
       "      <td>N</td>\n",
       "      <td>N</td>\n",
       "    </tr>\n",
       "  </tbody>\n",
       "</table>\n",
       "</div>"
      ],
      "text/plain": [
       "       d_date_sk         d_date_id      d_date  d_month_seq  d_week_seq  \\\n",
       "73044    2488066  AAAAAAAACAHPFCAA  2099-12-28         2399       10435   \n",
       "73045    2488067  AAAAAAAADAHPFCAA  2099-12-29         2399       10436   \n",
       "73046    2488068  AAAAAAAAEAHPFCAA  2099-12-30         2399       10436   \n",
       "73047    2488069  AAAAAAAAFAHPFCAA  2099-12-31         2399       10436   \n",
       "73048    2488070  AAAAAAAAGAHPFCAA  2100-01-01         2400       10436   \n",
       "\n",
       "       d_quarter_seq  d_year  d_dow  d_moy  d_dom  d_qoy  d_fy_year  \\\n",
       "73044            801    2099      1     12     28      4       2099   \n",
       "73045            801    2099      2     12     29      4       2099   \n",
       "73046            801    2099      3     12     30      4       2099   \n",
       "73047            801    2099      4     12     31      4       2099   \n",
       "73048            801    2100      4      1      1      1       2100   \n",
       "\n",
       "       d_fy_quarter_seq  d_fy_week_seq d_day_name d_quarter_name d_holiday  \\\n",
       "73044               801          10435     Monday         2099Q4         N   \n",
       "73045               801          10436    Tuesday         2099Q4         N   \n",
       "73046               801          10436  Wednesday         2099Q4         N   \n",
       "73047               801          10436   Thursday         2099Q4         N   \n",
       "73048               801          10436   Thursday         2100Q1         Y   \n",
       "\n",
       "      d_weekend d_following_holiday  d_first_dom  d_last_dom  d_same_day_ly  \\\n",
       "73044         N                   N      2488039     2488372        2487701   \n",
       "73045         N                   N      2488039     2488372        2487702   \n",
       "73046         N                   N      2488039     2488372        2487703   \n",
       "73047         N                   N      2488039     2488372        2487704   \n",
       "73048         N                   N      2488070     2488069        2487705   \n",
       "\n",
       "       d_same_day_lq d_current_day d_current_week d_current_month  \\\n",
       "73044        2487974             N              N               N   \n",
       "73045        2487975             N              N               N   \n",
       "73046        2487976             N              N               N   \n",
       "73047        2487977             N              N               N   \n",
       "73048        2487978             N              N               N   \n",
       "\n",
       "      d_current_quarter d_current_year  \n",
       "73044                 N              N  \n",
       "73045                 N              N  \n",
       "73046                 N              N  \n",
       "73047                 N              N  \n",
       "73048                 N              N  "
      ]
     },
     "execution_count": 15,
     "metadata": {},
     "output_type": "execute_result"
    }
   ],
   "source": [
    "df_dd.tail()"
   ]
  },
  {
   "cell_type": "code",
   "execution_count": 16,
   "metadata": {},
   "outputs": [
    {
     "data": {
      "image/png": "[encoded data removed]",
      "text/plain": [
       "<Figure size 432x288 with 1 Axes>"
      ]
     },
     "metadata": {
      "needs_background": "light"
     },
     "output_type": "display_data"
    }
   ],
   "source": [
    "df_dd.d_date_sk.plot();"
   ]
  },
  {
   "cell_type": "code",
   "execution_count": 17,
   "metadata": {},
   "outputs": [
    {
     "data": {
      "text/plain": [
       "((73049,), 2415022, 2488070)"
      ]
     },
     "execution_count": 17,
     "metadata": {},
     "output_type": "execute_result"
    }
   ],
   "source": [
    "df_dd.d_date_sk.shape, df_dd.d_date_sk.min(), df_dd.d_date_sk.max()"
   ]
  },
  {
   "cell_type": "markdown",
   "metadata": {},
   "source": [
    "So we can conclude there are at most 73,049 dates that the database can hold, ranging from 01-01-1900 to 01-01-2100 and each of those dates can be represented by a single integer starting at 2415022 and ending with 2488070."
   ]
  },
  {
   "cell_type": "markdown",
   "metadata": {},
   "source": [
    "### 3. Try calculating a partition strategy  \n",
    "Look at `catalog_returns` table, `cr_returned_date_sk` column"
   ]
  },
  {
   "cell_type": "code",
   "execution_count": 18,
   "metadata": {},
   "outputs": [],
   "source": [
    "table = \"`tpc-benchmarking-9432.ds_100GB_01F.catalog_returns`\"\n",
    "column = \"cr_returned_date_sk\"\n",
    "df = get_column(table=table, column=column)"
   ]
  },
  {
   "cell_type": "markdown",
   "metadata": {},
   "source": [
    "See how many rows are in the table"
   ]
  },
  {
   "cell_type": "code",
   "execution_count": 19,
   "metadata": {},
   "outputs": [
    {
     "data": {
      "text/plain": [
       "(14402438, 1)"
      ]
     },
     "execution_count": 19,
     "metadata": {},
     "output_type": "execute_result"
    }
   ],
   "source": [
    "df.shape"
   ]
  },
  {
   "cell_type": "code",
   "execution_count": 20,
   "metadata": {},
   "outputs": [
    {
     "data": {
      "text/html": [
       "<div>\n",
       "<style scoped>\n",
       "    .dataframe tbody tr th:only-of-type {\n",
       "        vertical-align: middle;\n",
       "    }\n",
       "\n",
       "    .dataframe tbody tr th {\n",
       "        vertical-align: top;\n",
       "    }\n",
       "\n",
       "    .dataframe thead th {\n",
       "        text-align: right;\n",
       "    }\n",
       "</style>\n",
       "<table border=\"1\" class=\"dataframe\">\n",
       "  <thead>\n",
       "    <tr style=\"text-align: right;\">\n",
       "      <th></th>\n",
       "      <th>cr_returned_date_sk</th>\n",
       "    </tr>\n",
       "  </thead>\n",
       "  <tbody>\n",
       "    <tr>\n",
       "      <th>0</th>\n",
       "      <td>2452353</td>\n",
       "    </tr>\n",
       "    <tr>\n",
       "      <th>1</th>\n",
       "      <td>2451406</td>\n",
       "    </tr>\n",
       "    <tr>\n",
       "      <th>2</th>\n",
       "      <td>2451106</td>\n",
       "    </tr>\n",
       "    <tr>\n",
       "      <th>3</th>\n",
       "      <td>2451929</td>\n",
       "    </tr>\n",
       "    <tr>\n",
       "      <th>4</th>\n",
       "      <td>2451767</td>\n",
       "    </tr>\n",
       "  </tbody>\n",
       "</table>\n",
       "</div>"
      ],
      "text/plain": [
       "   cr_returned_date_sk\n",
       "0              2452353\n",
       "1              2451406\n",
       "2              2451106\n",
       "3              2451929\n",
       "4              2451767"
      ]
     },
     "execution_count": 20,
     "metadata": {},
     "output_type": "execute_result"
    }
   ],
   "source": [
    "df.head()"
   ]
  },
  {
   "cell_type": "code",
   "execution_count": 21,
   "metadata": {},
   "outputs": [
    {
     "data": {
      "text/html": [
       "<div>\n",
       "<style scoped>\n",
       "    .dataframe tbody tr th:only-of-type {\n",
       "        vertical-align: middle;\n",
       "    }\n",
       "\n",
       "    .dataframe tbody tr th {\n",
       "        vertical-align: top;\n",
       "    }\n",
       "\n",
       "    .dataframe thead th {\n",
       "        text-align: right;\n",
       "    }\n",
       "</style>\n",
       "<table border=\"1\" class=\"dataframe\">\n",
       "  <thead>\n",
       "    <tr style=\"text-align: right;\">\n",
       "      <th></th>\n",
       "      <th>cr_returned_date_sk</th>\n",
       "    </tr>\n",
       "  </thead>\n",
       "  <tbody>\n",
       "    <tr>\n",
       "      <th>14402433</th>\n",
       "      <td>2451628</td>\n",
       "    </tr>\n",
       "    <tr>\n",
       "      <th>14402434</th>\n",
       "      <td>2451036</td>\n",
       "    </tr>\n",
       "    <tr>\n",
       "      <th>14402435</th>\n",
       "      <td>2451793</td>\n",
       "    </tr>\n",
       "    <tr>\n",
       "      <th>14402436</th>\n",
       "      <td>2452216</td>\n",
       "    </tr>\n",
       "    <tr>\n",
       "      <th>14402437</th>\n",
       "      <td>2452096</td>\n",
       "    </tr>\n",
       "  </tbody>\n",
       "</table>\n",
       "</div>"
      ],
      "text/plain": [
       "          cr_returned_date_sk\n",
       "14402433              2451628\n",
       "14402434              2451036\n",
       "14402435              2451793\n",
       "14402436              2452216\n",
       "14402437              2452096"
      ]
     },
     "execution_count": 21,
     "metadata": {},
     "output_type": "execute_result"
    }
   ],
   "source": [
    "df.tail()"
   ]
  },
  {
   "cell_type": "markdown",
   "metadata": {},
   "source": [
    "Plot the count for each unique `cr_returned_date_sk` value"
   ]
  },
  {
   "cell_type": "code",
   "execution_count": 22,
   "metadata": {},
   "outputs": [],
   "source": [
    "df_vc = df.cr_returned_date_sk.value_counts(sort=True)\n",
    "df_vc.sort_index(inplace=True)\n",
    "df_vc = pd.DataFrame({\"d_date\":df_vc.index, \"counts\":df_vc.values})"
   ]
  },
  {
   "cell_type": "code",
   "execution_count": 23,
   "metadata": {},
   "outputs": [
    {
     "data": {
      "text/html": [
       "<div>\n",
       "<style scoped>\n",
       "    .dataframe tbody tr th:only-of-type {\n",
       "        vertical-align: middle;\n",
       "    }\n",
       "\n",
       "    .dataframe tbody tr th {\n",
       "        vertical-align: top;\n",
       "    }\n",
       "\n",
       "    .dataframe thead th {\n",
       "        text-align: right;\n",
       "    }\n",
       "</style>\n",
       "<table border=\"1\" class=\"dataframe\">\n",
       "  <thead>\n",
       "    <tr style=\"text-align: right;\">\n",
       "      <th></th>\n",
       "      <th>d_date</th>\n",
       "      <th>counts</th>\n",
       "    </tr>\n",
       "  </thead>\n",
       "  <tbody>\n",
       "    <tr>\n",
       "      <th>0</th>\n",
       "      <td>2450821</td>\n",
       "      <td>1</td>\n",
       "    </tr>\n",
       "    <tr>\n",
       "      <th>1</th>\n",
       "      <td>2450823</td>\n",
       "      <td>3</td>\n",
       "    </tr>\n",
       "    <tr>\n",
       "      <th>2</th>\n",
       "      <td>2450824</td>\n",
       "      <td>2</td>\n",
       "    </tr>\n",
       "    <tr>\n",
       "      <th>3</th>\n",
       "      <td>2450825</td>\n",
       "      <td>3</td>\n",
       "    </tr>\n",
       "    <tr>\n",
       "      <th>4</th>\n",
       "      <td>2450826</td>\n",
       "      <td>4</td>\n",
       "    </tr>\n",
       "  </tbody>\n",
       "</table>\n",
       "</div>"
      ],
      "text/plain": [
       "    d_date  counts\n",
       "0  2450821       1\n",
       "1  2450823       3\n",
       "2  2450824       2\n",
       "3  2450825       3\n",
       "4  2450826       4"
      ]
     },
     "execution_count": 23,
     "metadata": {},
     "output_type": "execute_result"
    }
   ],
   "source": [
    "df_vc.iloc[0:5]"
   ]
  },
  {
   "cell_type": "code",
   "execution_count": 24,
   "metadata": {},
   "outputs": [
    {
     "data": {
      "text/html": [
       "<div>\n",
       "<style scoped>\n",
       "    .dataframe tbody tr th:only-of-type {\n",
       "        vertical-align: middle;\n",
       "    }\n",
       "\n",
       "    .dataframe tbody tr th {\n",
       "        vertical-align: top;\n",
       "    }\n",
       "\n",
       "    .dataframe thead th {\n",
       "        text-align: right;\n",
       "    }\n",
       "</style>\n",
       "<table border=\"1\" class=\"dataframe\">\n",
       "  <thead>\n",
       "    <tr style=\"text-align: right;\">\n",
       "      <th></th>\n",
       "      <th>d_date</th>\n",
       "      <th>counts</th>\n",
       "    </tr>\n",
       "  </thead>\n",
       "  <tbody>\n",
       "    <tr>\n",
       "      <th>2096</th>\n",
       "      <td>2452918</td>\n",
       "      <td>11</td>\n",
       "    </tr>\n",
       "    <tr>\n",
       "      <th>2097</th>\n",
       "      <td>2452919</td>\n",
       "      <td>6</td>\n",
       "    </tr>\n",
       "    <tr>\n",
       "      <th>2098</th>\n",
       "      <td>2452920</td>\n",
       "      <td>4</td>\n",
       "    </tr>\n",
       "    <tr>\n",
       "      <th>2099</th>\n",
       "      <td>2452921</td>\n",
       "      <td>2</td>\n",
       "    </tr>\n",
       "    <tr>\n",
       "      <th>2100</th>\n",
       "      <td>2452922</td>\n",
       "      <td>1</td>\n",
       "    </tr>\n",
       "  </tbody>\n",
       "</table>\n",
       "</div>"
      ],
      "text/plain": [
       "       d_date  counts\n",
       "2096  2452918      11\n",
       "2097  2452919       6\n",
       "2098  2452920       4\n",
       "2099  2452921       2\n",
       "2100  2452922       1"
      ]
     },
     "execution_count": 24,
     "metadata": {},
     "output_type": "execute_result"
    }
   ],
   "source": [
    "df_vc.iloc[-5:]"
   ]
  },
  {
   "cell_type": "code",
   "execution_count": 25,
   "metadata": {},
   "outputs": [
    {
     "data": {
      "text/html": [
       "<div>\n",
       "<style scoped>\n",
       "    .dataframe tbody tr th:only-of-type {\n",
       "        vertical-align: middle;\n",
       "    }\n",
       "\n",
       "    .dataframe tbody tr th {\n",
       "        vertical-align: top;\n",
       "    }\n",
       "\n",
       "    .dataframe thead th {\n",
       "        text-align: right;\n",
       "    }\n",
       "</style>\n",
       "<table border=\"1\" class=\"dataframe\">\n",
       "  <thead>\n",
       "    <tr style=\"text-align: right;\">\n",
       "      <th></th>\n",
       "      <th>d_date</th>\n",
       "      <th>counts</th>\n",
       "    </tr>\n",
       "  </thead>\n",
       "  <tbody>\n",
       "    <tr>\n",
       "      <th>800</th>\n",
       "      <td>2451622</td>\n",
       "      <td>10999</td>\n",
       "    </tr>\n",
       "    <tr>\n",
       "      <th>801</th>\n",
       "      <td>2451623</td>\n",
       "      <td>10732</td>\n",
       "    </tr>\n",
       "    <tr>\n",
       "      <th>802</th>\n",
       "      <td>2451624</td>\n",
       "      <td>10875</td>\n",
       "    </tr>\n",
       "    <tr>\n",
       "      <th>803</th>\n",
       "      <td>2451625</td>\n",
       "      <td>10839</td>\n",
       "    </tr>\n",
       "    <tr>\n",
       "      <th>804</th>\n",
       "      <td>2451626</td>\n",
       "      <td>10834</td>\n",
       "    </tr>\n",
       "    <tr>\n",
       "      <th>805</th>\n",
       "      <td>2451627</td>\n",
       "      <td>10940</td>\n",
       "    </tr>\n",
       "    <tr>\n",
       "      <th>806</th>\n",
       "      <td>2451628</td>\n",
       "      <td>10784</td>\n",
       "    </tr>\n",
       "    <tr>\n",
       "      <th>807</th>\n",
       "      <td>2451629</td>\n",
       "      <td>10785</td>\n",
       "    </tr>\n",
       "    <tr>\n",
       "      <th>808</th>\n",
       "      <td>2451630</td>\n",
       "      <td>10799</td>\n",
       "    </tr>\n",
       "    <tr>\n",
       "      <th>809</th>\n",
       "      <td>2451631</td>\n",
       "      <td>10758</td>\n",
       "    </tr>\n",
       "  </tbody>\n",
       "</table>\n",
       "</div>"
      ],
      "text/plain": [
       "      d_date  counts\n",
       "800  2451622   10999\n",
       "801  2451623   10732\n",
       "802  2451624   10875\n",
       "803  2451625   10839\n",
       "804  2451626   10834\n",
       "805  2451627   10940\n",
       "806  2451628   10784\n",
       "807  2451629   10785\n",
       "808  2451630   10799\n",
       "809  2451631   10758"
      ]
     },
     "execution_count": 25,
     "metadata": {},
     "output_type": "execute_result"
    }
   ],
   "source": [
    "df_vc.iloc[800:810]"
   ]
  },
  {
   "cell_type": "markdown",
   "metadata": {},
   "source": [
    "Let's plot what these sections look like to get a better idea of the distribution of dates in the table."
   ]
  },
  {
   "cell_type": "code",
   "execution_count": 26,
   "metadata": {},
   "outputs": [
    {
     "data": {
      "image/png": "[encoded data removed]",
      "text/plain": [
       "<Figure size 432x288 with 1 Axes>"
      ]
     },
     "metadata": {
      "needs_background": "light"
     },
     "output_type": "display_data"
    }
   ],
   "source": [
    "subsets = [df_vc, df_vc.iloc[0:100], df_vc.iloc[-100:], df_vc.iloc[750:850]]\n",
    "ax = None\n",
    "for data in subsets:\n",
    "    ax = data.plot(x=\"d_date\", marker=\".\", legend=False, ax=ax)"
   ]
  },
  {
   "cell_type": "code",
   "execution_count": 27,
   "metadata": {},
   "outputs": [
    {
     "data": {
      "text/html": [
       "<div>\n",
       "<style scoped>\n",
       "    .dataframe tbody tr th:only-of-type {\n",
       "        vertical-align: middle;\n",
       "    }\n",
       "\n",
       "    .dataframe tbody tr th {\n",
       "        vertical-align: top;\n",
       "    }\n",
       "\n",
       "    .dataframe thead th {\n",
       "        text-align: right;\n",
       "    }\n",
       "</style>\n",
       "<table border=\"1\" class=\"dataframe\">\n",
       "  <thead>\n",
       "    <tr style=\"text-align: right;\">\n",
       "      <th></th>\n",
       "      <th>d_date_sk</th>\n",
       "      <th>d_date_id</th>\n",
       "      <th>d_date</th>\n",
       "      <th>d_month_seq</th>\n",
       "      <th>d_week_seq</th>\n",
       "      <th>d_quarter_seq</th>\n",
       "      <th>d_year</th>\n",
       "      <th>d_dow</th>\n",
       "      <th>d_moy</th>\n",
       "      <th>d_dom</th>\n",
       "      <th>d_qoy</th>\n",
       "      <th>d_fy_year</th>\n",
       "      <th>d_fy_quarter_seq</th>\n",
       "      <th>d_fy_week_seq</th>\n",
       "      <th>d_day_name</th>\n",
       "      <th>d_quarter_name</th>\n",
       "      <th>d_holiday</th>\n",
       "      <th>d_weekend</th>\n",
       "      <th>d_following_holiday</th>\n",
       "      <th>d_first_dom</th>\n",
       "      <th>d_last_dom</th>\n",
       "      <th>d_same_day_ly</th>\n",
       "      <th>d_same_day_lq</th>\n",
       "      <th>d_current_day</th>\n",
       "      <th>d_current_week</th>\n",
       "      <th>d_current_month</th>\n",
       "      <th>d_current_quarter</th>\n",
       "      <th>d_current_year</th>\n",
       "    </tr>\n",
       "  </thead>\n",
       "  <tbody>\n",
       "    <tr>\n",
       "      <th>0</th>\n",
       "      <td>2415022</td>\n",
       "      <td>AAAAAAAAOKJNECAA</td>\n",
       "      <td>1900-01-02</td>\n",
       "      <td>0</td>\n",
       "      <td>1</td>\n",
       "      <td>1</td>\n",
       "      <td>1900</td>\n",
       "      <td>1</td>\n",
       "      <td>1</td>\n",
       "      <td>2</td>\n",
       "      <td>1</td>\n",
       "      <td>1900</td>\n",
       "      <td>1</td>\n",
       "      <td>1</td>\n",
       "      <td>Monday</td>\n",
       "      <td>1900Q1</td>\n",
       "      <td>N</td>\n",
       "      <td>N</td>\n",
       "      <td>Y</td>\n",
       "      <td>2415021</td>\n",
       "      <td>2415020</td>\n",
       "      <td>2414657</td>\n",
       "      <td>2414930</td>\n",
       "      <td>N</td>\n",
       "      <td>N</td>\n",
       "      <td>N</td>\n",
       "      <td>N</td>\n",
       "      <td>N</td>\n",
       "    </tr>\n",
       "    <tr>\n",
       "      <th>1</th>\n",
       "      <td>2415023</td>\n",
       "      <td>AAAAAAAAPKJNECAA</td>\n",
       "      <td>1900-01-03</td>\n",
       "      <td>0</td>\n",
       "      <td>1</td>\n",
       "      <td>1</td>\n",
       "      <td>1900</td>\n",
       "      <td>2</td>\n",
       "      <td>1</td>\n",
       "      <td>3</td>\n",
       "      <td>1</td>\n",
       "      <td>1900</td>\n",
       "      <td>1</td>\n",
       "      <td>1</td>\n",
       "      <td>Tuesday</td>\n",
       "      <td>1900Q1</td>\n",
       "      <td>N</td>\n",
       "      <td>N</td>\n",
       "      <td>N</td>\n",
       "      <td>2415021</td>\n",
       "      <td>2415020</td>\n",
       "      <td>2414658</td>\n",
       "      <td>2414931</td>\n",
       "      <td>N</td>\n",
       "      <td>N</td>\n",
       "      <td>N</td>\n",
       "      <td>N</td>\n",
       "      <td>N</td>\n",
       "    </tr>\n",
       "    <tr>\n",
       "      <th>2</th>\n",
       "      <td>2415024</td>\n",
       "      <td>AAAAAAAAALJNECAA</td>\n",
       "      <td>1900-01-04</td>\n",
       "      <td>0</td>\n",
       "      <td>1</td>\n",
       "      <td>1</td>\n",
       "      <td>1900</td>\n",
       "      <td>3</td>\n",
       "      <td>1</td>\n",
       "      <td>4</td>\n",
       "      <td>1</td>\n",
       "      <td>1900</td>\n",
       "      <td>1</td>\n",
       "      <td>1</td>\n",
       "      <td>Wednesday</td>\n",
       "      <td>1900Q1</td>\n",
       "      <td>N</td>\n",
       "      <td>N</td>\n",
       "      <td>N</td>\n",
       "      <td>2415021</td>\n",
       "      <td>2415020</td>\n",
       "      <td>2414659</td>\n",
       "      <td>2414932</td>\n",
       "      <td>N</td>\n",
       "      <td>N</td>\n",
       "      <td>N</td>\n",
       "      <td>N</td>\n",
       "      <td>N</td>\n",
       "    </tr>\n",
       "    <tr>\n",
       "      <th>3</th>\n",
       "      <td>2415025</td>\n",
       "      <td>AAAAAAAABLJNECAA</td>\n",
       "      <td>1900-01-05</td>\n",
       "      <td>0</td>\n",
       "      <td>1</td>\n",
       "      <td>1</td>\n",
       "      <td>1900</td>\n",
       "      <td>4</td>\n",
       "      <td>1</td>\n",
       "      <td>5</td>\n",
       "      <td>1</td>\n",
       "      <td>1900</td>\n",
       "      <td>1</td>\n",
       "      <td>1</td>\n",
       "      <td>Thursday</td>\n",
       "      <td>1900Q1</td>\n",
       "      <td>N</td>\n",
       "      <td>N</td>\n",
       "      <td>N</td>\n",
       "      <td>2415021</td>\n",
       "      <td>2415020</td>\n",
       "      <td>2414660</td>\n",
       "      <td>2414933</td>\n",
       "      <td>N</td>\n",
       "      <td>N</td>\n",
       "      <td>N</td>\n",
       "      <td>N</td>\n",
       "      <td>N</td>\n",
       "    </tr>\n",
       "    <tr>\n",
       "      <th>4</th>\n",
       "      <td>2415026</td>\n",
       "      <td>AAAAAAAACLJNECAA</td>\n",
       "      <td>1900-01-06</td>\n",
       "      <td>0</td>\n",
       "      <td>1</td>\n",
       "      <td>1</td>\n",
       "      <td>1900</td>\n",
       "      <td>5</td>\n",
       "      <td>1</td>\n",
       "      <td>6</td>\n",
       "      <td>1</td>\n",
       "      <td>1900</td>\n",
       "      <td>1</td>\n",
       "      <td>1</td>\n",
       "      <td>Friday</td>\n",
       "      <td>1900Q1</td>\n",
       "      <td>N</td>\n",
       "      <td>Y</td>\n",
       "      <td>N</td>\n",
       "      <td>2415021</td>\n",
       "      <td>2415020</td>\n",
       "      <td>2414661</td>\n",
       "      <td>2414934</td>\n",
       "      <td>N</td>\n",
       "      <td>N</td>\n",
       "      <td>N</td>\n",
       "      <td>N</td>\n",
       "      <td>N</td>\n",
       "    </tr>\n",
       "  </tbody>\n",
       "</table>\n",
       "</div>"
      ],
      "text/plain": [
       "   d_date_sk         d_date_id      d_date  d_month_seq  d_week_seq  \\\n",
       "0    2415022  AAAAAAAAOKJNECAA  1900-01-02            0           1   \n",
       "1    2415023  AAAAAAAAPKJNECAA  1900-01-03            0           1   \n",
       "2    2415024  AAAAAAAAALJNECAA  1900-01-04            0           1   \n",
       "3    2415025  AAAAAAAABLJNECAA  1900-01-05            0           1   \n",
       "4    2415026  AAAAAAAACLJNECAA  1900-01-06            0           1   \n",
       "\n",
       "   d_quarter_seq  d_year  d_dow  d_moy  d_dom  d_qoy  d_fy_year  \\\n",
       "0              1    1900      1      1      2      1       1900   \n",
       "1              1    1900      2      1      3      1       1900   \n",
       "2              1    1900      3      1      4      1       1900   \n",
       "3              1    1900      4      1      5      1       1900   \n",
       "4              1    1900      5      1      6      1       1900   \n",
       "\n",
       "   d_fy_quarter_seq  d_fy_week_seq d_day_name d_quarter_name d_holiday  \\\n",
       "0                 1              1     Monday         1900Q1         N   \n",
       "1                 1              1    Tuesday         1900Q1         N   \n",
       "2                 1              1  Wednesday         1900Q1         N   \n",
       "3                 1              1   Thursday         1900Q1         N   \n",
       "4                 1              1     Friday         1900Q1         N   \n",
       "\n",
       "  d_weekend d_following_holiday  d_first_dom  d_last_dom  d_same_day_ly  \\\n",
       "0         N                   Y      2415021     2415020        2414657   \n",
       "1         N                   N      2415021     2415020        2414658   \n",
       "2         N                   N      2415021     2415020        2414659   \n",
       "3         N                   N      2415021     2415020        2414660   \n",
       "4         Y                   N      2415021     2415020        2414661   \n",
       "\n",
       "   d_same_day_lq d_current_day d_current_week d_current_month  \\\n",
       "0        2414930             N              N               N   \n",
       "1        2414931             N              N               N   \n",
       "2        2414932             N              N               N   \n",
       "3        2414933             N              N               N   \n",
       "4        2414934             N              N               N   \n",
       "\n",
       "  d_current_quarter d_current_year  \n",
       "0                 N              N  \n",
       "1                 N              N  \n",
       "2                 N              N  \n",
       "3                 N              N  \n",
       "4                 N              N  "
      ]
     },
     "execution_count": 27,
     "metadata": {},
     "output_type": "execute_result"
    }
   ],
   "source": [
    "df_dd.head()"
   ]
  },
  {
   "cell_type": "code",
   "execution_count": 28,
   "metadata": {},
   "outputs": [],
   "source": [
    "df_date_mapper = df_dd[[\"d_date_sk\", \"d_date\"]].copy()"
   ]
  },
  {
   "cell_type": "code",
   "execution_count": 29,
   "metadata": {},
   "outputs": [],
   "source": [
    "df_date_mapper[\"datetime64_ns\"] = pd.to_datetime(df_date_mapper.d_date)"
   ]
  },
  {
   "cell_type": "code",
   "execution_count": 30,
   "metadata": {},
   "outputs": [
    {
     "data": {
      "text/html": [
       "<div>\n",
       "<style scoped>\n",
       "    .dataframe tbody tr th:only-of-type {\n",
       "        vertical-align: middle;\n",
       "    }\n",
       "\n",
       "    .dataframe tbody tr th {\n",
       "        vertical-align: top;\n",
       "    }\n",
       "\n",
       "    .dataframe thead th {\n",
       "        text-align: right;\n",
       "    }\n",
       "</style>\n",
       "<table border=\"1\" class=\"dataframe\">\n",
       "  <thead>\n",
       "    <tr style=\"text-align: right;\">\n",
       "      <th></th>\n",
       "      <th>d_date_sk</th>\n",
       "      <th>d_date</th>\n",
       "      <th>datetime64_ns</th>\n",
       "    </tr>\n",
       "  </thead>\n",
       "  <tbody>\n",
       "    <tr>\n",
       "      <th>0</th>\n",
       "      <td>2415022</td>\n",
       "      <td>1900-01-02</td>\n",
       "      <td>1900-01-02</td>\n",
       "    </tr>\n",
       "    <tr>\n",
       "      <th>1</th>\n",
       "      <td>2415023</td>\n",
       "      <td>1900-01-03</td>\n",
       "      <td>1900-01-03</td>\n",
       "    </tr>\n",
       "    <tr>\n",
       "      <th>2</th>\n",
       "      <td>2415024</td>\n",
       "      <td>1900-01-04</td>\n",
       "      <td>1900-01-04</td>\n",
       "    </tr>\n",
       "    <tr>\n",
       "      <th>3</th>\n",
       "      <td>2415025</td>\n",
       "      <td>1900-01-05</td>\n",
       "      <td>1900-01-05</td>\n",
       "    </tr>\n",
       "    <tr>\n",
       "      <th>4</th>\n",
       "      <td>2415026</td>\n",
       "      <td>1900-01-06</td>\n",
       "      <td>1900-01-06</td>\n",
       "    </tr>\n",
       "    <tr>\n",
       "      <th>...</th>\n",
       "      <td>...</td>\n",
       "      <td>...</td>\n",
       "      <td>...</td>\n",
       "    </tr>\n",
       "    <tr>\n",
       "      <th>73044</th>\n",
       "      <td>2488066</td>\n",
       "      <td>2099-12-28</td>\n",
       "      <td>2099-12-28</td>\n",
       "    </tr>\n",
       "    <tr>\n",
       "      <th>73045</th>\n",
       "      <td>2488067</td>\n",
       "      <td>2099-12-29</td>\n",
       "      <td>2099-12-29</td>\n",
       "    </tr>\n",
       "    <tr>\n",
       "      <th>73046</th>\n",
       "      <td>2488068</td>\n",
       "      <td>2099-12-30</td>\n",
       "      <td>2099-12-30</td>\n",
       "    </tr>\n",
       "    <tr>\n",
       "      <th>73047</th>\n",
       "      <td>2488069</td>\n",
       "      <td>2099-12-31</td>\n",
       "      <td>2099-12-31</td>\n",
       "    </tr>\n",
       "    <tr>\n",
       "      <th>73048</th>\n",
       "      <td>2488070</td>\n",
       "      <td>2100-01-01</td>\n",
       "      <td>2100-01-01</td>\n",
       "    </tr>\n",
       "  </tbody>\n",
       "</table>\n",
       "<p>73049 rows × 3 columns</p>\n",
       "</div>"
      ],
      "text/plain": [
       "       d_date_sk      d_date datetime64_ns\n",
       "0        2415022  1900-01-02    1900-01-02\n",
       "1        2415023  1900-01-03    1900-01-03\n",
       "2        2415024  1900-01-04    1900-01-04\n",
       "3        2415025  1900-01-05    1900-01-05\n",
       "4        2415026  1900-01-06    1900-01-06\n",
       "...          ...         ...           ...\n",
       "73044    2488066  2099-12-28    2099-12-28\n",
       "73045    2488067  2099-12-29    2099-12-29\n",
       "73046    2488068  2099-12-30    2099-12-30\n",
       "73047    2488069  2099-12-31    2099-12-31\n",
       "73048    2488070  2100-01-01    2100-01-01\n",
       "\n",
       "[73049 rows x 3 columns]"
      ]
     },
     "execution_count": 30,
     "metadata": {},
     "output_type": "execute_result"
    }
   ],
   "source": [
    "df_date_mapper"
   ]
  },
  {
   "cell_type": "code",
   "execution_count": 31,
   "metadata": {},
   "outputs": [
    {
     "data": {
      "text/plain": [
       "array([2415022, 2415023, 2415024, ..., 2488068, 2488069, 2488070])"
      ]
     },
     "execution_count": 31,
     "metadata": {},
     "output_type": "execute_result"
    }
   ],
   "source": [
    "df_date_mapper.d_date_sk.values"
   ]
  },
  {
   "cell_type": "code",
   "execution_count": 32,
   "metadata": {},
   "outputs": [
    {
     "data": {
      "text/plain": [
       "array(['1900-01-02T00:00:00.000000000', '1900-01-03T00:00:00.000000000',\n",
       "       '1900-01-04T00:00:00.000000000', ...,\n",
       "       '2099-12-30T00:00:00.000000000', '2099-12-31T00:00:00.000000000',\n",
       "       '2100-01-01T00:00:00.000000000'], dtype='datetime64[ns]')"
      ]
     },
     "execution_count": 32,
     "metadata": {},
     "output_type": "execute_result"
    }
   ],
   "source": [
    "df_date_mapper.datetime64_ns.values"
   ]
  },
  {
   "cell_type": "code",
   "execution_count": 33,
   "metadata": {},
   "outputs": [],
   "source": [
    "date_mapper = dict(zip(df_date_mapper.d_date_sk.values,\n",
    "                       df_date_mapper.datetime64_ns))"
   ]
  },
  {
   "cell_type": "code",
   "execution_count": 34,
   "metadata": {},
   "outputs": [],
   "source": [
    "df_vc[\"datetime64_ns\"] = df_vc.d_date.apply(lambda x: date_mapper[x])"
   ]
  },
  {
   "cell_type": "code",
   "execution_count": 35,
   "metadata": {},
   "outputs": [
    {
     "data": {
      "text/html": [
       "<div>\n",
       "<style scoped>\n",
       "    .dataframe tbody tr th:only-of-type {\n",
       "        vertical-align: middle;\n",
       "    }\n",
       "\n",
       "    .dataframe tbody tr th {\n",
       "        vertical-align: top;\n",
       "    }\n",
       "\n",
       "    .dataframe thead th {\n",
       "        text-align: right;\n",
       "    }\n",
       "</style>\n",
       "<table border=\"1\" class=\"dataframe\">\n",
       "  <thead>\n",
       "    <tr style=\"text-align: right;\">\n",
       "      <th></th>\n",
       "      <th>d_date</th>\n",
       "      <th>counts</th>\n",
       "      <th>datetime64_ns</th>\n",
       "    </tr>\n",
       "  </thead>\n",
       "  <tbody>\n",
       "    <tr>\n",
       "      <th>0</th>\n",
       "      <td>2450821</td>\n",
       "      <td>1</td>\n",
       "      <td>1998-01-07</td>\n",
       "    </tr>\n",
       "    <tr>\n",
       "      <th>1</th>\n",
       "      <td>2450823</td>\n",
       "      <td>3</td>\n",
       "      <td>1998-01-09</td>\n",
       "    </tr>\n",
       "    <tr>\n",
       "      <th>2</th>\n",
       "      <td>2450824</td>\n",
       "      <td>2</td>\n",
       "      <td>1998-01-10</td>\n",
       "    </tr>\n",
       "    <tr>\n",
       "      <th>3</th>\n",
       "      <td>2450825</td>\n",
       "      <td>3</td>\n",
       "      <td>1998-01-11</td>\n",
       "    </tr>\n",
       "    <tr>\n",
       "      <th>4</th>\n",
       "      <td>2450826</td>\n",
       "      <td>4</td>\n",
       "      <td>1998-01-12</td>\n",
       "    </tr>\n",
       "  </tbody>\n",
       "</table>\n",
       "</div>"
      ],
      "text/plain": [
       "    d_date  counts datetime64_ns\n",
       "0  2450821       1    1998-01-07\n",
       "1  2450823       3    1998-01-09\n",
       "2  2450824       2    1998-01-10\n",
       "3  2450825       3    1998-01-11\n",
       "4  2450826       4    1998-01-12"
      ]
     },
     "execution_count": 35,
     "metadata": {},
     "output_type": "execute_result"
    }
   ],
   "source": [
    "df_vc.head()"
   ]
  },
  {
   "cell_type": "code",
   "execution_count": 36,
   "metadata": {},
   "outputs": [
    {
     "data": {
      "image/png": "[encoded data removed]",
      "text/plain": [
       "<Figure size 864x432 with 1 Axes>"
      ]
     },
     "metadata": {
      "needs_background": "light"
     },
     "output_type": "display_data"
    }
   ],
   "source": [
    "ax = df_vc[[\"datetime64_ns\", \"counts\"]].plot(x=\"datetime64_ns\", legend=False, figsize=(12,6));\n",
    "ax.set_title('TPC-DS Column: catalog_returns.cr_returned_date_sk', fontsize=16);"
   ]
  },
  {
   "cell_type": "code",
   "execution_count": 37,
   "metadata": {},
   "outputs": [
    {
     "data": {
      "image/png": "[encoded data removed]",
      "text/plain": [
       "<Figure size 432x288 with 1 Axes>"
      ]
     },
     "metadata": {
      "needs_background": "light"
     },
     "output_type": "display_data"
    },
    {
     "data": {
      "image/png": "[encoded data removed]",
      "text/plain": [
       "<Figure size 432x288 with 1 Axes>"
      ]
     },
     "metadata": {
      "needs_background": "light"
     },
     "output_type": "display_data"
    },
    {
     "data": {
      "image/png": "[encoded data removed]",
      "text/plain": [
       "<Figure size 432x288 with 1 Axes>"
      ]
     },
     "metadata": {
      "needs_background": "light"
     },
     "output_type": "display_data"
    },
    {
     "data": {
      "image/png": "[encoded data removed]",
      "text/plain": [
       "<Figure size 432x288 with 1 Axes>"
      ]
     },
     "metadata": {
      "needs_background": "light"
     },
     "output_type": "display_data"
    },
    {
     "data": {
      "image/png": "[encoded data removed]",
      "text/plain": [
       "<Figure size 432x288 with 1 Axes>"
      ]
     },
     "metadata": {
      "needs_background": "light"
     },
     "output_type": "display_data"
    },
    {
     "data": {
      "image/png": "[encoded data removed]",
      "text/plain": [
       "<Figure size 432x288 with 1 Axes>"
      ]
     },
     "metadata": {
      "needs_background": "light"
     },
     "output_type": "display_data"
    }
   ],
   "source": [
    "for y in df_vc.datetime64_ns.dt.year.unique():\n",
    "    df_vc.loc[df_vc.datetime64_ns.dt.year == y, [\"datetime64_ns\", \"counts\"]].plot(x=\"datetime64_ns\",\n",
    "                                                                                  legend=False)"
   ]
  },
  {
   "cell_type": "code",
   "execution_count": 38,
   "metadata": {},
   "outputs": [],
   "source": [
    "df_vc[\"month\"] = df_vc.datetime64_ns.dt.month"
   ]
  },
  {
   "cell_type": "code",
   "execution_count": 39,
   "metadata": {},
   "outputs": [
    {
     "data": {
      "image/png": "[encoded data removed]",
      "text/plain": [
       "<Figure size 432x288 with 1 Axes>"
      ]
     },
     "metadata": {
      "needs_background": "light"
     },
     "output_type": "display_data"
    }
   ],
   "source": [
    "_df_vc = df_vc.groupby(by=\"month\").sum()\n",
    "_df_vc.reset_index(inplace=True)\n",
    "_df_vc[[\"counts\", \"month\"]].plot(x=\"month\", marker=\"x\", legend=False);"
   ]
  },
  {
   "cell_type": "code",
   "execution_count": 40,
   "metadata": {},
   "outputs": [
    {
     "data": {
      "text/plain": [
       "((2101, 4), 0, 2100)"
      ]
     },
     "execution_count": 40,
     "metadata": {},
     "output_type": "execute_result"
    }
   ],
   "source": [
    "df_vc.shape, df_vc.index.min(), df_vc.index.max()"
   ]
  },
  {
   "cell_type": "markdown",
   "metadata": {},
   "source": [
    "It looks like 2101 partitions, with a span of 1 (which links to 1 day)"
   ]
  },
  {
   "cell_type": "markdown",
   "metadata": {},
   "source": [
    "Prototype partition statement"
   ]
  },
  {
   "cell_type": "code",
   "execution_count": 41,
   "metadata": {},
   "outputs": [
    {
     "data": {
      "text/plain": [
       "'PARTITION BY RANGE_BUCKET(cr_returned_date_sk, GENERATE_ARRAY(2450821, 2452922, 1))'"
      ]
     },
     "execution_count": 41,
     "metadata": {},
     "output_type": "execute_result"
    }
   ],
   "source": [
    "f\"PARTITION BY RANGE_BUCKET(cr_returned_date_sk, GENERATE_ARRAY({int(df.cr_returned_date_sk.min())}, {df.cr_returned_date_sk.max()}, 1))\""
   ]
  },
  {
   "cell_type": "markdown",
   "metadata": {},
   "source": [
    "### 4. TPC-DS Automate Partition specification"
   ]
  },
  {
   "cell_type": "code",
   "execution_count": 42,
   "metadata": {},
   "outputs": [
    {
     "data": {
      "text/plain": [
       "[('catalog_returns', 'cr_returned_date_sk'),\n",
       " ('catalog_sales', 'cs_sold_date_sk'),\n",
       " ('inventory', 'inv_date_sk'),\n",
       " ('store_returns', 'sr_returned_date_sk'),\n",
       " ('store_sales', 'ss_sold_date_sk'),\n",
       " ('web_returns', 'wr_returned_date_sk'),\n",
       " ('web_sales', 'ws_sold_date_sk')]"
      ]
     },
     "execution_count": 42,
     "metadata": {},
     "output_type": "execute_result"
    }
   ],
   "source": [
    "ds_table_columns = [('catalog_returns', 'cr_returned_date_sk'),\n",
    "                 ('catalog_sales', 'cs_sold_date_sk'),\n",
    "                 ('inventory', 'inv_date_sk'),\n",
    "                 ('store_returns', 'sr_returned_date_sk'),\n",
    "                 ('store_sales', 'ss_sold_date_sk'),\n",
    "                 ('web_returns', 'wr_returned_date_sk'),\n",
    "                 ('web_sales', 'ws_sold_date_sk')]\n",
    "ds_table_columns"
   ]
  },
  {
   "cell_type": "code",
   "execution_count": 45,
   "metadata": {},
   "outputs": [
    {
     "name": "stdout",
     "output_type": "stream",
     "text": [
      "Working on Table and Column:\n",
      "`tpc-benchmarking-9432.ds_100GB_01F`.catalog_returns cr_returned_date_sk\n",
      "\n",
      "Partitioning SQL:\n",
      "\n",
      "PARTITION BY RANGE_BUCKET(cr_returned_date_sk, GENERATE_ARRAY(2450821, 2452922, 1))\n",
      "\n",
      "----------------------------------------\n",
      "Working on Table and Column:\n",
      "`tpc-benchmarking-9432.ds_100GB_01F`.catalog_sales cs_sold_date_sk\n",
      "\n",
      "Partitioning SQL:\n",
      "\n",
      "PARTITION BY RANGE_BUCKET(cs_sold_date_sk, GENERATE_ARRAY(2450815, 2452654, 1))\n",
      "\n",
      "----------------------------------------\n",
      "Working on Table and Column:\n",
      "`tpc-benchmarking-9432.ds_100GB_01F`.inventory inv_date_sk\n",
      "\n",
      "Partitioning SQL:\n",
      "\n",
      "PARTITION BY RANGE_BUCKET(inv_date_sk, GENERATE_ARRAY(2450815, 2452635, 1))\n",
      "\n",
      "----------------------------------------\n",
      "Working on Table and Column:\n",
      "`tpc-benchmarking-9432.ds_100GB_01F`.store_returns sr_returned_date_sk\n",
      "\n",
      "Partitioning SQL:\n",
      "\n",
      "PARTITION BY RANGE_BUCKET(sr_returned_date_sk, GENERATE_ARRAY(2450820, 2452822, 1))\n",
      "\n",
      "----------------------------------------\n",
      "Working on Table and Column:\n",
      "`tpc-benchmarking-9432.ds_100GB_01F`.store_sales ss_sold_date_sk\n",
      "\n",
      "Partitioning SQL:\n",
      "\n",
      "PARTITION BY RANGE_BUCKET(ss_sold_date_sk, GENERATE_ARRAY(2450816, 2452642, 1))\n",
      "\n",
      "----------------------------------------\n",
      "Working on Table and Column:\n",
      "`tpc-benchmarking-9432.ds_100GB_01F`.web_returns wr_returned_date_sk\n",
      "\n",
      "Partitioning SQL:\n",
      "\n",
      "PARTITION BY RANGE_BUCKET(wr_returned_date_sk, GENERATE_ARRAY(2450820, 2453001, 1))\n",
      "\n",
      "----------------------------------------\n",
      "Working on Table and Column:\n",
      "`tpc-benchmarking-9432.ds_100GB_01F`.web_sales ws_sold_date_sk\n",
      "\n",
      "Partitioning SQL:\n",
      "\n",
      "PARTITION BY RANGE_BUCKET(ws_sold_date_sk, GENERATE_ARRAY(2450816, 2452642, 1))\n",
      "\n",
      "----------------------------------------\n"
     ]
    }
   ],
   "source": [
    "query_list = []\n",
    "for table, column in ds_table_columns:\n",
    "    \n",
    "    table = table = \"`tpc-benchmarking-9432.ds_100GB_01F`.\" + table\n",
    "    print(\"Working on Table and Column:\")\n",
    "    print(table, column)\n",
    "    print()\n",
    "    \n",
    "    r_max = get_max(table, column)\n",
    "    r_min = get_min(table, column)\n",
    "    \n",
    "    #df_table = get_column(table=table, column=column)\n",
    "    \n",
    "    #print(df_table.dtypes)\n",
    "    #print(\"*\"*20)\n",
    "    \n",
    "    #df_vc = df_table[column].value_counts(sort=True)\n",
    "    #df_vc.sort_index(inplace=True)\n",
    "    #df_vc = pd.DataFrame({\"d_date\":df_vc.index, \"counts\":df_vc.values})\n",
    "    \n",
    "    #ax = df_vc[[\"d_date\", \"counts\"]].plot(x=\"d_date\", legend=False, figsize=(12,6))\n",
    "    #ax.set_title(f\"TPC-DS 100GB Column: {table}.column\", fontsize=16)\n",
    "    #plt.show();\n",
    "    \n",
    "    print(\"Partitioning SQL:\")\n",
    "    query_text = f\"PARTITION BY RANGE_BUCKET({column}, GENERATE_ARRAY({int(r_min)}, {int(r_max)}, 1))\"\n",
    "    query_list.append([table, column, query_text])\n",
    "    print()\n",
    "    print(query_text)\n",
    "    print()\n",
    "    print(\"-\"*40)"
   ]
  },
  {
   "cell_type": "code",
   "execution_count": 46,
   "metadata": {},
   "outputs": [
    {
     "data": {
      "text/plain": [
       "[['`tpc-benchmarking-9432.ds_100GB_01F`.catalog_returns',\n",
       "  'cr_returned_date_sk',\n",
       "  'PARTITION BY RANGE_BUCKET(cr_returned_date_sk, GENERATE_ARRAY(2450821, 2452922, 1))'],\n",
       " ['`tpc-benchmarking-9432.ds_100GB_01F`.catalog_sales',\n",
       "  'cs_sold_date_sk',\n",
       "  'PARTITION BY RANGE_BUCKET(cs_sold_date_sk, GENERATE_ARRAY(2450815, 2452654, 1))'],\n",
       " ['`tpc-benchmarking-9432.ds_100GB_01F`.inventory',\n",
       "  'inv_date_sk',\n",
       "  'PARTITION BY RANGE_BUCKET(inv_date_sk, GENERATE_ARRAY(2450815, 2452635, 1))'],\n",
       " ['`tpc-benchmarking-9432.ds_100GB_01F`.store_returns',\n",
       "  'sr_returned_date_sk',\n",
       "  'PARTITION BY RANGE_BUCKET(sr_returned_date_sk, GENERATE_ARRAY(2450820, 2452822, 1))'],\n",
       " ['`tpc-benchmarking-9432.ds_100GB_01F`.store_sales',\n",
       "  'ss_sold_date_sk',\n",
       "  'PARTITION BY RANGE_BUCKET(ss_sold_date_sk, GENERATE_ARRAY(2450816, 2452642, 1))'],\n",
       " ['`tpc-benchmarking-9432.ds_100GB_01F`.web_returns',\n",
       "  'wr_returned_date_sk',\n",
       "  'PARTITION BY RANGE_BUCKET(wr_returned_date_sk, GENERATE_ARRAY(2450820, 2453001, 1))'],\n",
       " ['`tpc-benchmarking-9432.ds_100GB_01F`.web_sales',\n",
       "  'ws_sold_date_sk',\n",
       "  'PARTITION BY RANGE_BUCKET(ws_sold_date_sk, GENERATE_ARRAY(2450816, 2452642, 1))']]"
      ]
     },
     "execution_count": 46,
     "metadata": {},
     "output_type": "execute_result"
    }
   ],
   "source": [
    "query_list"
   ]
  },
  {
   "cell_type": "markdown",
   "metadata": {},
   "source": [
    "### 5. TPC-H Partitioning  \n",
    "\n",
    "Loading the 100 GB TPC scale factor data into BigQuery without any partitioning or clustering strategy, these are the largest tables with DATE type columns:\n",
    "\n",
    "For the date columns in these tables, we have the following attributes:\n",
    "1. All are TPC-H type `Date`\n",
    "2. All are BigQuery type `Date`\n",
    "\n",
    "Given the existing `Date` types in BigQuery with the default loading, the partitioning is straightforward:  \n",
    "\n",
    "| table    | date column | GB    | Partition Strategy               |\n",
    "| -------- | ----------- | ----- | -------------------------------- |\n",
    "| lineitem | l_shipdate  | 79.79 | `PARTITION BY DATE(l_shipdate)`  |\n",
    "| orders   | o_orderdate | 16.89 | `PARTITION BY DATE(o_orderdate)` |"
   ]
  },
  {
   "cell_type": "code",
   "execution_count": null,
   "metadata": {},
   "outputs": [],
   "source": []
  }
 ],
 "metadata": {
  "kernelspec": {
   "display_name": "Python 3",
   "language": "python",
   "name": "python3"
  },
  "language_info": {
   "codemirror_mode": {
    "name": "ipython",
    "version": 3
   },
   "file_extension": ".py",
   "mimetype": "text/x-python",
   "name": "python",
   "nbconvert_exporter": "python",
   "pygments_lexer": "ipython3",
   "version": "3.8.2"
  }
 },
 "nbformat": 4,
 "nbformat_minor": 4
}
