{
 "cells": [
  {
   "cell_type": "markdown",
   "metadata": {},
   "source": [
    "## TPC-DS Query Execution"
   ]
  },
  {
   "cell_type": "code",
   "execution_count": 1,
   "metadata": {},
   "outputs": [],
   "source": [
    "import config, ds_bq"
   ]
  },
  {
   "cell_type": "code",
   "execution_count": 2,
   "metadata": {},
   "outputs": [],
   "source": [
    "from importlib import reload"
   ]
  },
  {
   "cell_type": "code",
   "execution_count": 3,
   "metadata": {},
   "outputs": [],
   "source": [
    "project = \"tpc-benchmarking-9432\"\n",
    "dataset = \"ds_1GB_qual\""
   ]
  },
  {
   "cell_type": "code",
   "execution_count": 4,
   "metadata": {},
   "outputs": [
    {
     "data": {
      "text/plain": [
       "'/home/colin/code/bq_snowflake_benchmark/tpl/bq_ds'"
      ]
     },
     "execution_count": 4,
     "metadata": {},
     "output_type": "execute_result"
    }
   ],
   "source": [
    "tpl_dir = config.fp_query_templates + config.sep + \"bq_ds\"\n",
    "tpl_dir"
   ]
  },
  {
   "cell_type": "markdown",
   "metadata": {},
   "source": [
    "#### 1. Run single query in BQ Syntax"
   ]
  },
  {
   "cell_type": "code",
   "execution_count": 6,
   "metadata": {},
   "outputs": [
    {
     "name": "stdout",
     "output_type": "stream",
     "text": [
      "========================================\n",
      "TPC-DS dsqgen parameters\n",
      "------------------------\n",
      "command & kwargs: ['./dsqgen', '-VERBOSE', '-SCALE', '1', '-QUALIFY', '-RNGSEED', '13', '-TEMPLATE', 'query1.tpl', '-FILTER', '-DIALECT', 'sqlserver_bq', '-DIRECTORY', '/home/colin/code/bq_snowflake_benchmark/tpl/bq_ds']\n",
      "cwd: /home/colin/code/bq_snowflake_benchmark/ds/v2.11.0rc2/tools\n",
      "\n",
      "Standard Out:\n",
      "=============\n",
      "\n",
      "with customer_total_return as\n",
      "(select sr_customer_sk as ctr_customer_sk\n",
      ",sr_store_sk as ctr_store_sk\n",
      ",sum(SR_RETURN_AMT) as ctr_total_return\n",
      "from store_returns\n",
      ",date_dim\n",
      "where sr_returned_date_sk = d_date_sk\n",
      "and d_year =1998\n",
      "group by sr_customer_sk\n",
      ",sr_store_sk)\n",
      " select  c_customer_id\n",
      "from customer_total_return ctr1\n",
      ",store\n",
      ",customer\n",
      "where ctr1.ctr_total_return > (select avg(ctr_total_return)*1.2\n",
      "from customer_total_return ctr2\n",
      "where ctr1.ctr_store_sk = ctr2.ctr_store_sk)\n",
      "and s_store_sk = ctr1.ctr_store_sk\n",
      "and s_state = 'TN'\n",
      "and ctr1.ctr_customer_sk = c_customer_sk\n",
      "order by c_customer_id\n",
      "limit 100;\n",
      "\n",
      "\n",
      "\n",
      "Error Out\n",
      "=========\n",
      "qgen2 Query Generator (Version 2.11.0)\n",
      "Copyright Transaction Processing Performance Council (TPC) 2001 - 2019\n",
      "Warning: This scale factor is valid for QUALIFICATION ONLY\n",
      "Parsed 1 templates\n",
      "\n",
      "Total Time Elapsed: 0:00:01.226000\n",
      "Bytes Processed: 12694664\n",
      "Bytes Billed: 41943040\n",
      "Head of Result:\n",
      "      c_customer_id\n",
      "0  AAAAAAAAAAADAAAA\n",
      "1  AAAAAAAAAABABAAA\n",
      "2  AAAAAAAAAABABAAA\n",
      "3  AAAAAAAAAABBBAAA\n",
      "4  AAAAAAAAAABLAAAA\n"
     ]
    }
   ],
   "source": [
    "reload(ds_bq)\n",
    "project = \"tpc-benchmarking-9432\"\n",
    "dataset = \"ds_1GB_qual\"\n",
    "\n",
    "(t0, t1, \n",
    " bytes_processed, \n",
    " bytes_billed, df) = ds_bq.query_n(n=1,\n",
    "                                   project=project,\n",
    "                                   dataset=dataset,\n",
    "                                   scale=1,\n",
    "                                   template_dir=tpl_dir,\n",
    "                                   qual=True,\n",
    "                                   verbose=True\n",
    "                                   )"
   ]
  },
  {
   "cell_type": "markdown",
   "metadata": {},
   "source": [
    "#### 2. Run stream permutation order of querys in BQ Syntax"
   ]
  },
  {
   "cell_type": "raw",
   "metadata": {},
   "source": [
    "p = 1"
   ]
  },
  {
   "cell_type": "raw",
   "metadata": {},
   "source": [
    "(t0, t1, \n",
    " bytes_processed, \n",
    " bytes_billed, df) = h_bq.stream_p(p=p,\n",
    "                                   project=project,\n",
    "                                   dataset=dataset,\n",
    "                                   scale=1,\n",
    "                                   template_dir=tpl_dir,\n",
    "                                   qual=True,\n",
    "                                   verbose=True\n",
    "                                   )"
   ]
  },
  {
   "cell_type": "raw",
   "metadata": {},
   "source": []
  }
 ],
 "metadata": {
  "kernelspec": {
   "display_name": "Python 3",
   "language": "python",
   "name": "python3"
  },
  "language_info": {
   "codemirror_mode": {
    "name": "ipython",
    "version": 3
   },
   "file_extension": ".py",
   "mimetype": "text/x-python",
   "name": "python",
   "nbconvert_exporter": "python",
   "pygments_lexer": "ipython3",
   "version": "3.8.2"
  }
 },
 "nbformat": 4,
 "nbformat_minor": 4
}
