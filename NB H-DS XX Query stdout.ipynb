{
 "cells": [
  {
   "cell_type": "markdown",
   "metadata": {},
   "source": [
    "### TPC-DS and TPC-H Query Stream Generation  \n",
    "Use dsqgen and qgen to compile SQL for a target system.  "
   ]
  },
  {
   "cell_type": "code",
   "execution_count": 1,
   "metadata": {},
   "outputs": [],
   "source": [
    "import config, ds_setup, h_setup"
   ]
  },
  {
   "cell_type": "code",
   "execution_count": 2,
   "metadata": {},
   "outputs": [],
   "source": [
    "from importlib import reload"
   ]
  },
  {
   "cell_type": "markdown",
   "metadata": {},
   "source": [
    "#### 1. TPC-DS Single Query Generation  "
   ]
  },
  {
   "cell_type": "code",
   "execution_count": 10,
   "metadata": {},
   "outputs": [
    {
     "name": "stdout",
     "output_type": "stream",
     "text": [
      "TPC-DS dsqgen parameters\n",
      "========================\n",
      "command & kwargs: ['./dsqgen', '-VERBOSE', '-SCALE', '100', '-RNGSEED', '13', '-TEMPLATE', 'query3.tpl', '-FILTER', '-DIALECT', 'sqlserver_tpc', '-DIRECTORY', '/home/colin/code/bq_snowflake_benchmark/tpl/sf_ds']\n",
      "cwd: /home/colin/code/bq_snowflake_benchmark/ds/v2.11.0rc2/tools\n",
      "\n",
      "QUERY TEXT\n",
      "==========\n",
      "\n",
      "select  dt.d_year \n",
      "       ,item.i_brand_id brand_id \n",
      "       ,item.i_brand brand\n",
      "       ,sum(ss_ext_discount_amt) sum_agg\n",
      " from  date_dim dt \n",
      "      ,store_sales\n",
      "      ,item\n",
      " where dt.d_date_sk = store_sales.ss_sold_date_sk\n",
      "   and store_sales.ss_item_sk = item.i_item_sk\n",
      "   and item.i_manufact_id = 492\n",
      "   and dt.d_moy=11\n",
      " group by dt.d_year\n",
      "      ,item.i_brand\n",
      "      ,item.i_brand_id\n",
      " order by dt.d_year\n",
      "         ,sum_agg desc\n",
      "         ,brand_id\n",
      " limit 100;\n",
      "\n",
      "\n",
      "\n"
     ]
    }
   ],
   "source": [
    "n = 3\n",
    "scale = 100\n",
    "#tpl_dir = config.fp_query_templates + config.sep + \"bq_ds\"\n",
    "tpl_dir = config.fp_query_templates + config.sep + \"sf_ds\"\n",
    "\n",
    "qual = None\n",
    "\n",
    "query_text = ds_setup.qgen_template(n=n,\n",
    "                                    dialect=\"sqlserver_tpc\",\n",
    "                                    templates_dir=tpl_dir,\n",
    "                                    scale=scale,\n",
    "                                    qual=qual,\n",
    "                                    verbose=True)\n",
    "print(\"QUERY TEXT\")\n",
    "print(\"==========\")\n",
    "print(query_text)"
   ]
  },
  {
   "cell_type": "code",
   "execution_count": 11,
   "metadata": {},
   "outputs": [
    {
     "name": "stdout",
     "output_type": "stream",
     "text": [
      "TPC-DS dsqgen parameters\n",
      "========================\n",
      "command & kwargs: ['./dsqgen', '-VERBOSE', '-SCALE', '100', '-RNGSEED', '13', '-TEMPLATE', 'query3.tpl', '-FILTER', '-DIALECT', 'sqlserver_bq', '-DIRECTORY', '/home/colin/code/bq_snowflake_benchmark/tpl/bq_ds']\n",
      "cwd: /home/colin/code/bq_snowflake_benchmark/ds/v2.11.0rc2/tools\n",
      "\n",
      "QUERY TEXT\n",
      "==========\n",
      "\n",
      "select  dt.d_year \n",
      "       ,item.i_brand_id brand_id \n",
      "       ,item.i_brand brand\n",
      "       ,sum(ss_ext_discount_amt) sum_agg\n",
      " from  date_dim dt \n",
      "      ,store_sales\n",
      "      ,item\n",
      " where dt.d_date_sk = store_sales.ss_sold_date_sk\n",
      "   and store_sales.ss_item_sk = item.i_item_sk\n",
      "   and item.i_manufact_id = 492\n",
      "   and dt.d_moy=11\n",
      " group by dt.d_year\n",
      "      ,item.i_brand\n",
      "      ,item.i_brand_id\n",
      " order by dt.d_year\n",
      "         ,sum_agg desc\n",
      "         ,brand_id\n",
      " limit 100;\n",
      "\n",
      "\n",
      "\n"
     ]
    }
   ],
   "source": [
    "n = 3\n",
    "scale = 100\n",
    "tpl_dir = config.fp_query_templates + config.sep + \"bq_ds\"\n",
    "qual = None\n",
    "\n",
    "query_text = ds_setup.qgen_template(n=n,\n",
    "                                    dialect=\"sqlserver_bq\",\n",
    "                                    templates_dir=tpl_dir,\n",
    "                                    scale=scale,\n",
    "                                    qual=qual,\n",
    "                                    verbose=True)\n",
    "print(\"QUERY TEXT\")\n",
    "print(\"==========\")\n",
    "print(query_text)"
   ]
  },
  {
   "cell_type": "markdown",
   "metadata": {},
   "source": [
    "#### 2. TPC-DS Query Stream Generation  "
   ]
  },
  {
   "cell_type": "raw",
   "metadata": {},
   "source": [
    "n = 3\n",
    "scale = 100\n",
    "qual = None\n",
    "tpl_dir = config.fp_query_templates + config.sep + \"bq_ds\"\n",
    "\n",
    "query_text = ds_setup.qgen_stream(n=n,\n",
    "                                  templates_dir=tpl_dir,\n",
    "                                  scale=scale,\n",
    "                                  #dialect=\"sqlserver_bq\",\n",
    "                                  qual=qual,\n",
    "                                  verbose=True)\n",
    "print(\"QUERY STREAM TEXT\")\n",
    "print(\"=================\")\n",
    "print(query_text)"
   ]
  },
  {
   "cell_type": "markdown",
   "metadata": {},
   "source": [
    "#### 3. TPC-H Single Query Generation"
   ]
  },
  {
   "cell_type": "code",
   "execution_count": 23,
   "metadata": {},
   "outputs": [
    {
     "name": "stdout",
     "output_type": "stream",
     "text": [
      "TPC-H qgen parameters\n",
      "=====================\n",
      "cmd & kwargs: ['./qgen', '-r', '13', '-s', '100', '-x', '3']\n",
      "path_dir: None\n",
      "templates_dir: /home/colin/code/bq_snowflake_benchmark/tpl/bq_h\n",
      "cwd: /home/colin/code/bq_snowflake_benchmark/h/2.18.0_rc2/dbgen\n",
      "\n",
      "QUERY TEXT\n",
      "==========\n",
      "select\n",
      "\tl_orderkey,\n",
      "\tsum(l_extendedprice * (1 - l_discount)) as revenue,\n",
      "\to_orderdate,\n",
      "\to_shippriority\n",
      "from\n",
      "\tcustomer,\n",
      "\torders,\n",
      "\tlineitem\n",
      "where\n",
      "\tc_mktsegment = 'MACHINERY'\n",
      "\tand c_custkey = o_custkey\n",
      "\tand l_orderkey = o_orderkey\n",
      "\tand o_orderdate < date '1995-03-29'\n",
      "\tand l_shipdate > date '1995-03-29'\n",
      "group by\n",
      "\tl_orderkey,\n",
      "\to_orderdate,\n",
      "\to_shippriority\n",
      "order by\n",
      "\trevenue desc,\n",
      "\to_orderdate;\n",
      "limit 10\n",
      "\n"
     ]
    }
   ],
   "source": [
    "n = 3\n",
    "scale = 100\n",
    "tpl_dir = config.fp_query_templates + config.sep + \"bq_h\"\n",
    "\n",
    "query_text = h_setup.qgen_template(n=n,\n",
    "                                   templates_dir=tpl_dir,\n",
    "                                   scale=scale,\n",
    "                                   qual=None,\n",
    "                                   verbose=True)\n",
    "print(\"QUERY TEXT\")\n",
    "print(\"==========\")\n",
    "print(query_text)"
   ]
  },
  {
   "cell_type": "code",
   "execution_count": 22,
   "metadata": {},
   "outputs": [
    {
     "name": "stdout",
     "output_type": "stream",
     "text": [
      "TPC-H qgen parameters\n",
      "=====================\n",
      "cmd & kwargs: ['./qgen', '-r', '13', '-s', '100', '-x', '3']\n",
      "path_dir: None\n",
      "templates_dir: /home/colin/code/bq_snowflake_benchmark/tpl/sf_h\n",
      "cwd: /home/colin/code/bq_snowflake_benchmark/h/2.18.0_rc2/dbgen\n",
      "\n",
      "QUERY TEXT\n",
      "==========\n",
      "select\n",
      "\tl_orderkey,\n",
      "\tsum(l_extendedprice * (1 - l_discount)) as revenue,\n",
      "\to_orderdate,\n",
      "\to_shippriority\n",
      "from\n",
      "\tcustomer,\n",
      "\torders,\n",
      "\tlineitem\n",
      "where\n",
      "\tc_mktsegment = 'MACHINERY'\n",
      "\tand c_custkey = o_custkey\n",
      "\tand l_orderkey = o_orderkey\n",
      "\tand o_orderdate < date '1995-03-29'\n",
      "\tand l_shipdate > date '1995-03-29'\n",
      "group by\n",
      "\tl_orderkey,\n",
      "\to_orderdate,\n",
      "\to_shippriority\n",
      "order by\n",
      "\trevenue desc,\n",
      "\to_orderdate\n",
      "limit 10\n",
      "\n"
     ]
    }
   ],
   "source": [
    "n = 3\n",
    "scale = 100\n",
    "tpl_dir = config.fp_query_templates + config.sep + \"sf_h\"\n",
    "\n",
    "query_text = h_setup.qgen_template(n=n,\n",
    "                                   templates_dir=tpl_dir,\n",
    "                                   scale=scale,\n",
    "                                   qual=None,\n",
    "                                   verbose=True)\n",
    "print(\"QUERY TEXT\")\n",
    "print(\"==========\")\n",
    "print(query_text)"
   ]
  },
  {
   "cell_type": "markdown",
   "metadata": {},
   "source": [
    "#### 4. TPC-H Query Stream Generation  "
   ]
  },
  {
   "cell_type": "raw",
   "metadata": {},
   "source": [
    "p = 5\n",
    "scale = 100\n",
    "qual = None\n",
    "tpl_dir = config.fp_query_templates + config.sep + \"bq_h\"\n",
    "\n",
    "query_text = h_setup.qgen_stream(p=p,\n",
    "                                 templates_dir=tpl_dir,\n",
    "                                 scale=scale,\n",
    "                                 qual=qual,\n",
    "                                 verbose=True)\n",
    "print(\"QUERY STREAM TEXT\")\n",
    "print(\"=================\")\n",
    "print(query_text)"
   ]
  },
  {
   "cell_type": "code",
   "execution_count": null,
   "metadata": {},
   "outputs": [],
   "source": []
  }
 ],
 "metadata": {
  "kernelspec": {
   "display_name": "Python 3",
   "language": "python",
   "name": "python3"
  },
  "language_info": {
   "codemirror_mode": {
    "name": "ipython",
    "version": 3
   },
   "file_extension": ".py",
   "mimetype": "text/x-python",
   "name": "python",
   "nbconvert_exporter": "python",
   "pygments_lexer": "ipython3",
   "version": "3.8.2"
  }
 },
 "nbformat": 4,
 "nbformat_minor": 4
}
