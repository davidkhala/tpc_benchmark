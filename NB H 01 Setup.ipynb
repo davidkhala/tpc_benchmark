{
 "cells": [
  {
   "cell_type": "markdown",
   "metadata": {},
   "source": [
    "## TPC-H Setup  \n",
    "Create folder structure, download zip files and compile source"
   ]
  },
  {
   "cell_type": "code",
   "execution_count": 1,
   "metadata": {},
   "outputs": [],
   "source": [
    "import h_setup, config, tools"
   ]
  },
  {
   "cell_type": "markdown",
   "metadata": {},
   "source": [
    "#### I. Make Project Files"
   ]
  },
  {
   "cell_type": "code",
   "execution_count": 2,
   "metadata": {},
   "outputs": [],
   "source": [
    "tools.make_directories()"
   ]
  },
  {
   "cell_type": "markdown",
   "metadata": {},
   "source": [
    "#### II. Download TPC-H Binaries from GCS  "
   ]
  },
  {
   "cell_type": "code",
   "execution_count": 3,
   "metadata": {},
   "outputs": [
    {
     "name": "stdout",
     "output_type": "stream",
     "text": [
      "Client created using default project: tpc-benchmarking-9432\n"
     ]
    },
    {
     "data": {
      "text/plain": [
       "'/home/vagrant/bq_snowflake_benchmark/download/tpc-h_2.18.0_rc2.zip'"
      ]
     },
     "execution_count": 3,
     "metadata": {},
     "output_type": "execute_result"
    }
   ],
   "source": [
    "h_setup.download_zip()"
   ]
  },
  {
   "cell_type": "markdown",
   "metadata": {},
   "source": [
    "#### III. Unzip and Rename Source Files"
   ]
  },
  {
   "cell_type": "code",
   "execution_count": 4,
   "metadata": {},
   "outputs": [],
   "source": [
    "h_setup.extract_zip()"
   ]
  },
  {
   "cell_type": "markdown",
   "metadata": {},
   "source": [
    "#### IV. Modify TPC-H source  \n",
    "This is to supress trailing delimiter output in the generated data.  BigQuery does not support CSV formatting with a trailing delimiter.  \n",
    "\n",
    "Other options would be to post-process the entire text file, but at larger scale factors this would require problematic amounts of time and compute.  The schema could be modified include an extra null column on each table, then all those tables dropped.  TPC-DS dsdgen has a command line switch that implements this functionality as shipped so it's clearly needed."
   ]
  },
  {
   "cell_type": "code",
   "execution_count": 5,
   "metadata": {},
   "outputs": [],
   "source": [
    "h_setup.modify_dbgen_source(verbose=False)"
   ]
  },
  {
   "cell_type": "markdown",
   "metadata": {},
   "source": [
    "#### V. Compile TPC-H Binaries"
   ]
  },
  {
   "cell_type": "code",
   "execution_count": 6,
   "metadata": {},
   "outputs": [],
   "source": [
    "h_setup.create_makefile()"
   ]
  },
  {
   "cell_type": "code",
   "execution_count": 7,
   "metadata": {},
   "outputs": [
    {
     "name": "stdout",
     "output_type": "stream",
     "text": [
      "gcc -g -DDBNAME=\\\"dss\\\" -DLINUX -DSQLSERVER -DTPCH -DRNG_TEST -D_FILE_OFFSET_BITS=64    -c -o build.o build.c\n",
      "gcc -g -DDBNAME=\\\"dss\\\" -DLINUX -DSQLSERVER -DTPCH -DRNG_TEST -D_FILE_OFFSET_BITS=64    -c -o driver.o driver.c\n",
      "gcc -g -DDBNAME=\\\"dss\\\" -DLINUX -DSQLSERVER -DTPCH -DRNG_TEST -D_FILE_OFFSET_BITS=64    -c -o bm_utils.o bm_utils.c\n",
      "gcc -g -DDBNAME=\\\"dss\\\" -DLINUX -DSQLSERVER -DTPCH -DRNG_TEST -D_FILE_OFFSET_BITS=64    -c -o rnd.o rnd.c\n",
      "gcc -g -DDBNAME=\\\"dss\\\" -DLINUX -DSQLSERVER -DTPCH -DRNG_TEST -D_FILE_OFFSET_BITS=64    -c -o print.o print.c\n",
      "gcc -g -DDBNAME=\\\"dss\\\" -DLINUX -DSQLSERVER -DTPCH -DRNG_TEST -D_FILE_OFFSET_BITS=64    -c -o load_stub.o load_stub.c\n",
      "gcc -g -DDBNAME=\\\"dss\\\" -DLINUX -DSQLSERVER -DTPCH -DRNG_TEST -D_FILE_OFFSET_BITS=64    -c -o bcd2.o bcd2.c\n",
      "gcc -g -DDBNAME=\\\"dss\\\" -DLINUX -DSQLSERVER -DTPCH -DRNG_TEST -D_FILE_OFFSET_BITS=64    -c -o speed_seed.o speed_seed.c\n",
      "gcc -g -DDBNAME=\\\"dss\\\" -DLINUX -DSQLSERVER -DTPCH -DRNG_TEST -D_FILE_OFFSET_BITS=64    -c -o text.o text.c\n",
      "gcc -g -DDBNAME=\\\"dss\\\" -DLINUX -DSQLSERVER -DTPCH -DRNG_TEST -D_FILE_OFFSET_BITS=64    -c -o permute.o permute.c\n",
      "gcc -g -DDBNAME=\\\"dss\\\" -DLINUX -DSQLSERVER -DTPCH -DRNG_TEST -D_FILE_OFFSET_BITS=64    -c -o rng64.o rng64.c\n",
      "gcc -g -DDBNAME=\\\"dss\\\" -DLINUX -DSQLSERVER -DTPCH -DRNG_TEST -D_FILE_OFFSET_BITS=64  -O -o dbgen build.o driver.o bm_utils.o rnd.o print.o load_stub.o bcd2.o speed_seed.o text.o permute.o rng64.o -lm\n",
      "gcc -g -DDBNAME=\\\"dss\\\" -DLINUX -DSQLSERVER -DTPCH -DRNG_TEST -D_FILE_OFFSET_BITS=64    -c -o qgen.o qgen.c\n",
      "gcc -g -DDBNAME=\\\"dss\\\" -DLINUX -DSQLSERVER -DTPCH -DRNG_TEST -D_FILE_OFFSET_BITS=64    -c -o varsub.o varsub.c\n",
      "gcc -g -DDBNAME=\\\"dss\\\" -DLINUX -DSQLSERVER -DTPCH -DRNG_TEST -D_FILE_OFFSET_BITS=64  -O -o qgen build.o bm_utils.o qgen.o rnd.o varsub.o text.o bcd2.o permute.o speed_seed.o rng64.o -lm\n",
      "\n",
      "In file included from build.c:45:0:\n",
      "build.c: In function ‘mk_time’:\n",
      "dss.h:488:14: warning: format ‘%d’ expects argument of type ‘int’, but argument 3 has type ‘long int’ [-Wformat=]\n",
      " sprintf(tgt, \"19%02d-%02d-%02d\", yr, mn, dy)\n",
      "              ^\n",
      "build.c:420:2: note: in expansion of macro ‘PR_DATE’\n",
      "  PR_DATE(t->alpha, y, m,\n",
      "  ^~~~~~~\n",
      "dss.h:488:14: warning: format ‘%d’ expects argument of type ‘int’, but argument 4 has type ‘long int’ [-Wformat=]\n",
      " sprintf(tgt, \"19%02d-%02d-%02d\", yr, mn, dy)\n",
      "              ^\n",
      "build.c:420:2: note: in expansion of macro ‘PR_DATE’\n",
      "  PR_DATE(t->alpha, y, m,\n",
      "  ^~~~~~~\n",
      "dss.h:488:14: warning: format ‘%d’ expects argument of type ‘int’, but argument 5 has type ‘long int’ [-Wformat=]\n",
      " sprintf(tgt, \"19%02d-%02d-%02d\", yr, mn, dy)\n",
      "              ^\n",
      "build.c:420:2: note: in expansion of macro ‘PR_DATE’\n",
      "  PR_DATE(t->alpha, y, m,\n",
      "  ^~~~~~~\n",
      "driver.c: In function ‘gen_tbl’:\n",
      "driver.c:368:41: warning: format ‘%ld’ expects argument of type ‘long int’, but argument 3 has type ‘long long int’ [-Wformat=]\n",
      "    printf(\"\\nSeeds for %s at rowcount %ld\\n\", tdefs[tnum].comment, i);\n",
      "                                       ~~^\n",
      "                                       %lld\n",
      "driver.c: In function ‘partial’:\n",
      "driver.c:428:53: warning: format ‘%d’ expects argument of type ‘int’, but argument 4 has type ‘long int’ [-Wformat=]\n",
      "   fprintf (stderr, \"\\tStarting to load stage %d of %d for %s...\",\n",
      "                                                    ~^\n",
      "                                                    %ld\n",
      "driver.c: In function ‘main’:\n",
      "driver.c:754:31: warning: format ‘%d’ expects argument of type ‘int’, but argument 3 has type ‘long int’ [-Wformat=]\n",
      "     \"Generating update pair #%d for %s\",\n",
      "                              ~^\n",
      "                              %ld\n",
      "     upd_num + 1, tdefs[ORDER_LINE].comment);\n",
      "     ~~~~~~~~~~~                \n",
      "rnd.c: In function ‘row_stop’:\n",
      "rnd.c:131:55: warning: format ‘%d’ expects argument of type ‘int’, but argument 4 has type ‘long long int’ [-Wformat=]\n",
      "     fprintf(stderr, \"\\nSEED CHANGE: seed[%d].usage = %d\\n\",\n",
      "                                                      ~^\n",
      "                                                      %lld\n",
      "      i, Seed[i].usage);\n",
      "         ~~~~~~~~~~~~~                                  \n",
      "rnd.c: In function ‘dump_seeds’:\n",
      "rnd.c:154:17: warning: format ‘%ld’ expects argument of type ‘long int’, but argument 3 has type ‘long long int’ [-Wformat=]\n",
      "    printf(\"%d(%ld):\\t%ld\\n\", i, Seed[i].nCalls, Seed[i].value);\n",
      "               ~~^               ~~~~~~~~~~~~~~\n",
      "               %lld\n",
      "rnd.c:154:24: warning: format ‘%ld’ expects argument of type ‘long int’, but argument 4 has type ‘long long int’ [-Wformat=]\n",
      "    printf(\"%d(%ld):\\t%ld\\n\", i, Seed[i].nCalls, Seed[i].value);\n",
      "                      ~~^                        ~~~~~~~~~~~~~\n",
      "                      %lld\n",
      "print.c: In function ‘dbg_print’:\n",
      "print.c:138:22: warning: format ‘%ld’ expects argument of type ‘long int’, but argument 3 has type ‘int’ [-Wformat=]\n",
      "   fprintf(target, \"%ld.%02ld\", dollars, cents);\n",
      "                    ~~^\n",
      "                    %d\n",
      "print.c:138:28: warning: format ‘%ld’ expects argument of type ‘long int’, but argument 4 has type ‘int’ [-Wformat=]\n",
      "   fprintf(target, \"%ld.%02ld\", dollars, cents);\n",
      "                        ~~~~^\n",
      "                        %02d\n",
      "qgen.c: In function ‘main’:\n",
      "qgen.c:456:34: warning: format ‘%d’ expects argument of type ‘int’, but argument 3 has type ‘long int’ [-Wformat=]\n",
      "                 sprintf(qname, \"%d\", SEQUENCE(snum, atoi(av[i])));\n",
      "                                 ~^\n",
      "                                 %ld\n",
      "qgen.c:463:34: warning: format ‘%d’ expects argument of type ‘int’, but argument 3 has type ‘long int’ [-Wformat=]\n",
      "                 sprintf(qname, \"%d\", SEQUENCE(snum, i));\n",
      "                                 ~^\n",
      "                                 %ld\n",
      "\n"
     ]
    }
   ],
   "source": [
    "stdout, stderr = h_setup.make_tpch(verbose=True)"
   ]
  },
  {
   "cell_type": "code",
   "execution_count": 8,
   "metadata": {},
   "outputs": [
    {
     "name": "stdout",
     "output_type": "stream",
     "text": [
      "gcc -g -DDBNAME=\\\"dss\\\" -DLINUX -DSQLSERVER -DTPCH -DRNG_TEST -D_FILE_OFFSET_BITS=64    -c -o build.o build.c\n",
      "gcc -g -DDBNAME=\\\"dss\\\" -DLINUX -DSQLSERVER -DTPCH -DRNG_TEST -D_FILE_OFFSET_BITS=64    -c -o driver.o driver.c\n",
      "gcc -g -DDBNAME=\\\"dss\\\" -DLINUX -DSQLSERVER -DTPCH -DRNG_TEST -D_FILE_OFFSET_BITS=64    -c -o bm_utils.o bm_utils.c\n",
      "gcc -g -DDBNAME=\\\"dss\\\" -DLINUX -DSQLSERVER -DTPCH -DRNG_TEST -D_FILE_OFFSET_BITS=64    -c -o rnd.o rnd.c\n",
      "gcc -g -DDBNAME=\\\"dss\\\" -DLINUX -DSQLSERVER -DTPCH -DRNG_TEST -D_FILE_OFFSET_BITS=64    -c -o print.o print.c\n",
      "gcc -g -DDBNAME=\\\"dss\\\" -DLINUX -DSQLSERVER -DTPCH -DRNG_TEST -D_FILE_OFFSET_BITS=64    -c -o load_stub.o load_stub.c\n",
      "gcc -g -DDBNAME=\\\"dss\\\" -DLINUX -DSQLSERVER -DTPCH -DRNG_TEST -D_FILE_OFFSET_BITS=64    -c -o bcd2.o bcd2.c\n",
      "gcc -g -DDBNAME=\\\"dss\\\" -DLINUX -DSQLSERVER -DTPCH -DRNG_TEST -D_FILE_OFFSET_BITS=64    -c -o speed_seed.o speed_seed.c\n",
      "gcc -g -DDBNAME=\\\"dss\\\" -DLINUX -DSQLSERVER -DTPCH -DRNG_TEST -D_FILE_OFFSET_BITS=64    -c -o text.o text.c\n",
      "gcc -g -DDBNAME=\\\"dss\\\" -DLINUX -DSQLSERVER -DTPCH -DRNG_TEST -D_FILE_OFFSET_BITS=64    -c -o permute.o permute.c\n",
      "gcc -g -DDBNAME=\\\"dss\\\" -DLINUX -DSQLSERVER -DTPCH -DRNG_TEST -D_FILE_OFFSET_BITS=64    -c -o rng64.o rng64.c\n",
      "gcc -g -DDBNAME=\\\"dss\\\" -DLINUX -DSQLSERVER -DTPCH -DRNG_TEST -D_FILE_OFFSET_BITS=64  -O -o dbgen build.o driver.o bm_utils.o rnd.o print.o load_stub.o bcd2.o speed_seed.o text.o permute.o rng64.o -lm\n",
      "gcc -g -DDBNAME=\\\"dss\\\" -DLINUX -DSQLSERVER -DTPCH -DRNG_TEST -D_FILE_OFFSET_BITS=64    -c -o qgen.o qgen.c\n",
      "gcc -g -DDBNAME=\\\"dss\\\" -DLINUX -DSQLSERVER -DTPCH -DRNG_TEST -D_FILE_OFFSET_BITS=64    -c -o varsub.o varsub.c\n",
      "gcc -g -DDBNAME=\\\"dss\\\" -DLINUX -DSQLSERVER -DTPCH -DRNG_TEST -D_FILE_OFFSET_BITS=64  -O -o qgen build.o bm_utils.o qgen.o rnd.o varsub.o text.o bcd2.o permute.o speed_seed.o rng64.o -lm\n",
      "\n",
      "========================================\n",
      "In file included from build.c:45:0:\n",
      "build.c: In function ‘mk_time’:\n",
      "dss.h:488:14: warning: format ‘%d’ expects argument of type ‘int’, but argument 3 has type ‘long int’ [-Wformat=]\n",
      " sprintf(tgt, \"19%02d-%02d-%02d\", yr, mn, dy)\n",
      "              ^\n",
      "build.c:420:2: note: in expansion of macro ‘PR_DATE’\n",
      "  PR_DATE(t->alpha, y, m,\n",
      "  ^~~~~~~\n",
      "dss.h:488:14: warning: format ‘%d’ expects argument of type ‘int’, but argument 4 has type ‘long int’ [-Wformat=]\n",
      " sprintf(tgt, \"19%02d-%02d-%02d\", yr, mn, dy)\n",
      "              ^\n",
      "build.c:420:2: note: in expansion of macro ‘PR_DATE’\n",
      "  PR_DATE(t->alpha, y, m,\n",
      "  ^~~~~~~\n",
      "dss.h:488:14: warning: format ‘%d’ expects argument of type ‘int’, but argument 5 has type ‘long int’ [-Wformat=]\n",
      " sprintf(tgt, \"19%02d-%02d-%02d\", yr, mn, dy)\n",
      "              ^\n",
      "build.c:420:2: note: in expansion of macro ‘PR_DATE’\n",
      "  PR_DATE(t->alpha, y, m,\n",
      "  ^~~~~~~\n",
      "driver.c: In function ‘gen_tbl’:\n",
      "driver.c:368:41: warning: format ‘%ld’ expects argument of type ‘long int’, but argument 3 has type ‘long long int’ [-Wformat=]\n",
      "    printf(\"\\nSeeds for %s at rowcount %ld\\n\", tdefs[tnum].comment, i);\n",
      "                                       ~~^\n",
      "                                       %lld\n",
      "driver.c: In function ‘partial’:\n",
      "driver.c:428:53: warning: format ‘%d’ expects argument of type ‘int’, but argument 4 has type ‘long int’ [-Wformat=]\n",
      "   fprintf (stderr, \"\\tStarting to load stage %d of %d for %s...\",\n",
      "                                                    ~^\n",
      "                                                    %ld\n",
      "driver.c: In function ‘main’:\n",
      "driver.c:754:31: warning: format ‘%d’ expects argument of type ‘int’, but argument 3 has type ‘long int’ [-Wformat=]\n",
      "     \"Generating update pair #%d for %s\",\n",
      "                              ~^\n",
      "                              %ld\n",
      "     upd_num + 1, tdefs[ORDER_LINE].comment);\n",
      "     ~~~~~~~~~~~                \n",
      "rnd.c: In function ‘row_stop’:\n",
      "rnd.c:131:55: warning: format ‘%d’ expects argument of type ‘int’, but argument 4 has type ‘long long int’ [-Wformat=]\n",
      "     fprintf(stderr, \"\\nSEED CHANGE: seed[%d].usage = %d\\n\",\n",
      "                                                      ~^\n",
      "                                                      %lld\n",
      "      i, Seed[i].usage);\n",
      "         ~~~~~~~~~~~~~                                  \n",
      "rnd.c: In function ‘dump_seeds’:\n",
      "rnd.c:154:17: warning: format ‘%ld’ expects argument of type ‘long int’, but argument 3 has type ‘long long int’ [-Wformat=]\n",
      "    printf(\"%d(%ld):\\t%ld\\n\", i, Seed[i].nCalls, Seed[i].value);\n",
      "               ~~^               ~~~~~~~~~~~~~~\n",
      "               %lld\n",
      "rnd.c:154:24: warning: format ‘%ld’ expects argument of type ‘long int’, but argument 4 has type ‘long long int’ [-Wformat=]\n",
      "    printf(\"%d(%ld):\\t%ld\\n\", i, Seed[i].nCalls, Seed[i].value);\n",
      "                      ~~^                        ~~~~~~~~~~~~~\n",
      "                      %lld\n",
      "print.c: In function ‘dbg_print’:\n",
      "print.c:138:22: warning: format ‘%ld’ expects argument of type ‘long int’, but argument 3 has type ‘int’ [-Wformat=]\n",
      "   fprintf(target, \"%ld.%02ld\", dollars, cents);\n",
      "                    ~~^\n",
      "                    %d\n",
      "print.c:138:28: warning: format ‘%ld’ expects argument of type ‘long int’, but argument 4 has type ‘int’ [-Wformat=]\n",
      "   fprintf(target, \"%ld.%02ld\", dollars, cents);\n",
      "                        ~~~~^\n",
      "                        %02d\n",
      "qgen.c: In function ‘main’:\n",
      "qgen.c:456:34: warning: format ‘%d’ expects argument of type ‘int’, but argument 3 has type ‘long int’ [-Wformat=]\n",
      "                 sprintf(qname, \"%d\", SEQUENCE(snum, atoi(av[i])));\n",
      "                                 ~^\n",
      "                                 %ld\n",
      "qgen.c:463:34: warning: format ‘%d’ expects argument of type ‘int’, but argument 3 has type ‘long int’ [-Wformat=]\n",
      "                 sprintf(qname, \"%d\", SEQUENCE(snum, i));\n",
      "                                 ~^\n",
      "                                 %ld\n",
      "\n"
     ]
    }
   ],
   "source": [
    "print(stdout)\n",
    "print(\"=\"*40)\n",
    "print(stderr)"
   ]
  },
  {
   "cell_type": "code",
   "execution_count": null,
   "metadata": {},
   "outputs": [],
   "source": []
  },
  {
   "cell_type": "code",
   "execution_count": null,
   "metadata": {},
   "outputs": [],
   "source": []
  }
 ],
 "metadata": {
  "kernelspec": {
   "display_name": "Python 3",
   "language": "python",
   "name": "python3"
  },
  "language_info": {
   "codemirror_mode": {
    "name": "ipython",
    "version": 3
   },
   "file_extension": ".py",
   "mimetype": "text/x-python",
   "name": "python",
   "nbconvert_exporter": "python",
   "pygments_lexer": "ipython3",
   "version": "3.7.6"
  }
 },
 "nbformat": 4,
 "nbformat_minor": 4
}