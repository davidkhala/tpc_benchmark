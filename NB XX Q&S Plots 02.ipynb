{
 "cells": [
  {
   "cell_type": "markdown",
   "metadata": {},
   "source": [
    "### TPC Benchmarking  \n",
    "Results Plotting  "
   ]
  },
  {
   "cell_type": "code",
   "execution_count": 1,
   "metadata": {},
   "outputs": [],
   "source": [
    "import glob\n",
    "import numpy as np\n",
    "import pandas as pd\n",
    "import matplotlib.pyplot as plt\n",
    "import seaborn as sns\n",
    "from datetime import datetime\n",
    "\n",
    "sns.set_context(\"notebook\", font_scale=1.0, rc={\"lines.linewidth\": 1.0})\n",
    "\n",
    "import config"
   ]
  },
  {
   "cell_type": "code",
   "execution_count": 3,
   "metadata": {},
   "outputs": [],
   "source": [
    "test = \"TPC-DS\"\n",
    "scale_factor = \"1\""
   ]
  },
  {
   "cell_type": "raw",
   "metadata": {},
   "source": [
    "fps = config.fp_results + config.sep + \"tpc-h_single_queries\"\n",
    "fps"
   ]
  },
  {
   "cell_type": "code",
   "execution_count": 4,
   "metadata": {},
   "outputs": [
    {
     "data": {
      "text/plain": [
       "'/home/colin/code/bq_snowflake_benchmark/results/auto_co_01'"
      ]
     },
     "execution_count": 4,
     "metadata": {},
     "output_type": "execute_result"
    }
   ],
   "source": [
    "fps = config.fp_results + config.sep + \"auto_co_01\"\n",
    "fps"
   ]
  },
  {
   "cell_type": "code",
   "execution_count": 5,
   "metadata": {},
   "outputs": [],
   "source": [
    "fps_results = glob.glob(fps + \"/*_*_results*\")"
   ]
  },
  {
   "cell_type": "code",
   "execution_count": 6,
   "metadata": {},
   "outputs": [],
   "source": [
    "fps_time = glob.glob(fps + \"/*_*_times*\")"
   ]
  },
  {
   "cell_type": "code",
   "execution_count": 18,
   "metadata": {},
   "outputs": [],
   "source": [
    "d = []\n",
    "for fp in fps_time:\n",
    "    df = pd.read_csv(fp, index_col=None, header=0)\n",
    "    d.append(df)\n",
    "\n",
    "df = pd.concat(d, axis=0, ignore_index=True)"
   ]
  },
  {
   "cell_type": "code",
   "execution_count": 19,
   "metadata": {},
   "outputs": [
    {
     "data": {
      "text/plain": [
       "'/'"
      ]
     },
     "execution_count": 19,
     "metadata": {},
     "output_type": "execute_result"
    }
   ],
   "source": [
    "fps[0]"
   ]
  },
  {
   "cell_type": "code",
   "execution_count": 20,
   "metadata": {},
   "outputs": [],
   "source": [
    "if \"query\" in fps_time[0]:\n",
    "    x_type = \"query_n\"\n",
    "else:\n",
    "    x_type = \"stream_p\""
   ]
  },
  {
   "cell_type": "code",
   "execution_count": 30,
   "metadata": {},
   "outputs": [],
   "source": [
    "x_type = \"query_n\""
   ]
  },
  {
   "cell_type": "raw",
   "metadata": {},
   "source": [
    "def ts_converter(t_str):\n",
    "    try:\n",
    "        float(t_str)\n",
    "        return pd.to_datetime(datetime.fromtimestamp(t_str))\n",
    "    except:\n",
    "        return pd.to_datetime(t_str)"
   ]
  },
  {
   "cell_type": "raw",
   "metadata": {},
   "source": [
    "def parse(fp, x_type):\n",
    "    x_type = {\"q\":\"query_n\", \"s\":\"stream_p\"}[x_type]\n",
    "    df = pd.read_csv(fp)\n",
    "    #df.t0 = pd.to_datetime(df.t0)\n",
    "    #df.t1 = pd.to_datetime(df.t1)\n",
    "    df.t0 = df.t0.apply(ts_converter)\n",
    "    df.t1 = df.t1.apply(ts_converter)\n",
    "    df[\"dt\"] = df.t1 - df.t0\n",
    "    df[\"dt_s\"] = df.dt.dt.total_seconds()\n",
    "    return df"
   ]
  },
  {
   "cell_type": "raw",
   "metadata": {},
   "source": [
    "df = pd.DataFrame(None)\n",
    "for _fp in fps:\n",
    "    _df = parse(fpb + _fp, \"q\")\n",
    "    df = pd.concat([df, _df])"
   ]
  },
  {
   "cell_type": "code",
   "execution_count": 21,
   "metadata": {},
   "outputs": [
    {
     "data": {
      "text/plain": [
       "db           object\n",
       "test         object\n",
       "scale         int64\n",
       "source       object\n",
       "cid           int64\n",
       "desc         object\n",
       "query_n       int64\n",
       "seq_id       object\n",
       "driver_t0    object\n",
       "driver_t1    object\n",
       "qid          object\n",
       "dtype: object"
      ]
     },
     "execution_count": 21,
     "metadata": {},
     "output_type": "execute_result"
    }
   ],
   "source": [
    "df.dtypes"
   ]
  },
  {
   "cell_type": "code",
   "execution_count": 22,
   "metadata": {},
   "outputs": [
    {
     "data": {
      "text/html": [
       "<div>\n",
       "<style scoped>\n",
       "    .dataframe tbody tr th:only-of-type {\n",
       "        vertical-align: middle;\n",
       "    }\n",
       "\n",
       "    .dataframe tbody tr th {\n",
       "        vertical-align: top;\n",
       "    }\n",
       "\n",
       "    .dataframe thead th {\n",
       "        text-align: right;\n",
       "    }\n",
       "</style>\n",
       "<table border=\"1\" class=\"dataframe\">\n",
       "  <thead>\n",
       "    <tr style=\"text-align: right;\">\n",
       "      <th></th>\n",
       "      <th>db</th>\n",
       "      <th>test</th>\n",
       "      <th>scale</th>\n",
       "      <th>source</th>\n",
       "      <th>cid</th>\n",
       "      <th>desc</th>\n",
       "      <th>query_n</th>\n",
       "      <th>seq_id</th>\n",
       "      <th>driver_t0</th>\n",
       "      <th>driver_t1</th>\n",
       "      <th>qid</th>\n",
       "    </tr>\n",
       "  </thead>\n",
       "  <tbody>\n",
       "    <tr>\n",
       "      <th>0</th>\n",
       "      <td>bq</td>\n",
       "      <td>ds</td>\n",
       "      <td>1</td>\n",
       "      <td>ds_1GB_01</td>\n",
       "      <td>1</td>\n",
       "      <td>dev_test_02</td>\n",
       "      <td>83</td>\n",
       "      <td>t2</td>\n",
       "      <td>2020-05-15 18:08:41.642849+00:00</td>\n",
       "      <td>2020-05-15 18:08:44.811780+00:00</td>\n",
       "      <td>1a720dfc-5592-4bc1-a591-246b56ee508a</td>\n",
       "    </tr>\n",
       "    <tr>\n",
       "      <th>1</th>\n",
       "      <td>bq</td>\n",
       "      <td>ds</td>\n",
       "      <td>1</td>\n",
       "      <td>ds_1GB_01</td>\n",
       "      <td>1</td>\n",
       "      <td>dev_test_02</td>\n",
       "      <td>32</td>\n",
       "      <td>t2</td>\n",
       "      <td>2020-05-15 18:08:46.457610+00:00</td>\n",
       "      <td>2020-05-15 18:08:46.865178+00:00</td>\n",
       "      <td>92f4c096-78c3-412f-bc2b-951fd6bca754</td>\n",
       "    </tr>\n",
       "    <tr>\n",
       "      <th>2</th>\n",
       "      <td>bq</td>\n",
       "      <td>ds</td>\n",
       "      <td>1</td>\n",
       "      <td>ds_1GB_01</td>\n",
       "      <td>1</td>\n",
       "      <td>dev_test_02</td>\n",
       "      <td>30</td>\n",
       "      <td>t2</td>\n",
       "      <td>2020-05-15 18:08:49.008972+00:00</td>\n",
       "      <td>2020-05-15 18:08:49.315195+00:00</td>\n",
       "      <td>afa52701-f3cb-4676-81fb-e148d8c08334</td>\n",
       "    </tr>\n",
       "    <tr>\n",
       "      <th>3</th>\n",
       "      <td>bq</td>\n",
       "      <td>ds</td>\n",
       "      <td>1</td>\n",
       "      <td>ds_1GB_01</td>\n",
       "      <td>1</td>\n",
       "      <td>dev_test_02</td>\n",
       "      <td>92</td>\n",
       "      <td>t2</td>\n",
       "      <td>2020-05-15 18:08:51.182875+00:00</td>\n",
       "      <td>2020-05-15 18:08:51.686158+00:00</td>\n",
       "      <td>d4ce96e3-fc64-420b-82fc-f042f00f919b</td>\n",
       "    </tr>\n",
       "    <tr>\n",
       "      <th>4</th>\n",
       "      <td>bq</td>\n",
       "      <td>ds</td>\n",
       "      <td>1</td>\n",
       "      <td>ds_1GB_01</td>\n",
       "      <td>1</td>\n",
       "      <td>dev_test_02</td>\n",
       "      <td>66</td>\n",
       "      <td>t2</td>\n",
       "      <td>2020-05-15 18:08:53.009965+00:00</td>\n",
       "      <td>2020-05-15 18:08:53.619894+00:00</td>\n",
       "      <td>ee18c586-ff13-477e-a72b-5299b8348330</td>\n",
       "    </tr>\n",
       "  </tbody>\n",
       "</table>\n",
       "</div>"
      ],
      "text/plain": [
       "   db test  scale     source  cid         desc  query_n seq_id  \\\n",
       "0  bq   ds      1  ds_1GB_01    1  dev_test_02       83     t2   \n",
       "1  bq   ds      1  ds_1GB_01    1  dev_test_02       32     t2   \n",
       "2  bq   ds      1  ds_1GB_01    1  dev_test_02       30     t2   \n",
       "3  bq   ds      1  ds_1GB_01    1  dev_test_02       92     t2   \n",
       "4  bq   ds      1  ds_1GB_01    1  dev_test_02       66     t2   \n",
       "\n",
       "                          driver_t0                         driver_t1  \\\n",
       "0  2020-05-15 18:08:41.642849+00:00  2020-05-15 18:08:44.811780+00:00   \n",
       "1  2020-05-15 18:08:46.457610+00:00  2020-05-15 18:08:46.865178+00:00   \n",
       "2  2020-05-15 18:08:49.008972+00:00  2020-05-15 18:08:49.315195+00:00   \n",
       "3  2020-05-15 18:08:51.182875+00:00  2020-05-15 18:08:51.686158+00:00   \n",
       "4  2020-05-15 18:08:53.009965+00:00  2020-05-15 18:08:53.619894+00:00   \n",
       "\n",
       "                                    qid  \n",
       "0  1a720dfc-5592-4bc1-a591-246b56ee508a  \n",
       "1  92f4c096-78c3-412f-bc2b-951fd6bca754  \n",
       "2  afa52701-f3cb-4676-81fb-e148d8c08334  \n",
       "3  d4ce96e3-fc64-420b-82fc-f042f00f919b  \n",
       "4  ee18c586-ff13-477e-a72b-5299b8348330  "
      ]
     },
     "execution_count": 22,
     "metadata": {},
     "output_type": "execute_result"
    }
   ],
   "source": [
    "df.head()"
   ]
  },
  {
   "cell_type": "code",
   "execution_count": 23,
   "metadata": {},
   "outputs": [],
   "source": [
    "df = df.sort_values(by=\"source\")"
   ]
  },
  {
   "cell_type": "code",
   "execution_count": null,
   "metadata": {},
   "outputs": [],
   "source": []
  },
  {
   "cell_type": "code",
   "execution_count": 24,
   "metadata": {},
   "outputs": [],
   "source": [
    "df[\"description\"] = df.db + \"_\" + df.desc"
   ]
  },
  {
   "cell_type": "code",
   "execution_count": null,
   "metadata": {},
   "outputs": [],
   "source": []
  },
  {
   "cell_type": "code",
   "execution_count": 26,
   "metadata": {},
   "outputs": [],
   "source": [
    "df.driver_t0 = pd.to_datetime(df.driver_t0)\n",
    "df.driver_t1 = pd.to_datetime(df.driver_t1)\n",
    "\n",
    "df[\"dt\"] = df.driver_t1 - df.driver_t0\n",
    "df[\"dt_s\"] = df.dt.dt.total_seconds()"
   ]
  },
  {
   "cell_type": "code",
   "execution_count": 27,
   "metadata": {},
   "outputs": [
    {
     "data": {
      "text/html": [
       "<div>\n",
       "<style scoped>\n",
       "    .dataframe tbody tr th:only-of-type {\n",
       "        vertical-align: middle;\n",
       "    }\n",
       "\n",
       "    .dataframe tbody tr th {\n",
       "        vertical-align: top;\n",
       "    }\n",
       "\n",
       "    .dataframe thead th {\n",
       "        text-align: right;\n",
       "    }\n",
       "</style>\n",
       "<table border=\"1\" class=\"dataframe\">\n",
       "  <thead>\n",
       "    <tr style=\"text-align: right;\">\n",
       "      <th></th>\n",
       "      <th>db</th>\n",
       "      <th>test</th>\n",
       "      <th>scale</th>\n",
       "      <th>source</th>\n",
       "      <th>cid</th>\n",
       "      <th>desc</th>\n",
       "      <th>query_n</th>\n",
       "      <th>seq_id</th>\n",
       "      <th>driver_t0</th>\n",
       "      <th>driver_t1</th>\n",
       "      <th>qid</th>\n",
       "      <th>description</th>\n",
       "      <th>dt</th>\n",
       "      <th>dt_s</th>\n",
       "    </tr>\n",
       "  </thead>\n",
       "  <tbody>\n",
       "    <tr>\n",
       "      <th>123</th>\n",
       "      <td>sf</td>\n",
       "      <td>ds</td>\n",
       "      <td>1</td>\n",
       "      <td>ds_1GB_01</td>\n",
       "      <td>1</td>\n",
       "      <td>dev_test_02</td>\n",
       "      <td>8</td>\n",
       "      <td>t2</td>\n",
       "      <td>2020-05-15 18:06:20.664541+00:00</td>\n",
       "      <td>2020-05-15 18:06:21.362545+00:00</td>\n",
       "      <td>01943f5e-021a-dc0d-0009-c08300033776</td>\n",
       "      <td>sf_dev_test_02</td>\n",
       "      <td>00:00:00.698004</td>\n",
       "      <td>0.698004</td>\n",
       "    </tr>\n",
       "    <tr>\n",
       "      <th>124</th>\n",
       "      <td>sf</td>\n",
       "      <td>ds</td>\n",
       "      <td>1</td>\n",
       "      <td>ds_1GB_01</td>\n",
       "      <td>1</td>\n",
       "      <td>dev_test_02</td>\n",
       "      <td>14</td>\n",
       "      <td>t2</td>\n",
       "      <td>2020-05-15 18:06:22.031006+00:00</td>\n",
       "      <td>2020-05-15 18:06:27.603753+00:00</td>\n",
       "      <td>01943f5e-02cd-b3d7-0009-c0830003174e</td>\n",
       "      <td>sf_dev_test_02</td>\n",
       "      <td>00:00:05.572747</td>\n",
       "      <td>5.572747</td>\n",
       "    </tr>\n",
       "    <tr>\n",
       "      <th>125</th>\n",
       "      <td>sf</td>\n",
       "      <td>ds</td>\n",
       "      <td>1</td>\n",
       "      <td>ds_1GB_01</td>\n",
       "      <td>1</td>\n",
       "      <td>dev_test_02</td>\n",
       "      <td>50</td>\n",
       "      <td>t2</td>\n",
       "      <td>2020-05-15 18:06:28.256541+00:00</td>\n",
       "      <td>2020-05-15 18:06:30.490503+00:00</td>\n",
       "      <td>01943f5e-02b4-87d3-0009-c08300031752</td>\n",
       "      <td>sf_dev_test_02</td>\n",
       "      <td>00:00:02.233962</td>\n",
       "      <td>2.233962</td>\n",
       "    </tr>\n",
       "    <tr>\n",
       "      <th>126</th>\n",
       "      <td>sf</td>\n",
       "      <td>ds</td>\n",
       "      <td>1</td>\n",
       "      <td>ds_1GB_01</td>\n",
       "      <td>1</td>\n",
       "      <td>dev_test_02</td>\n",
       "      <td>52</td>\n",
       "      <td>t2</td>\n",
       "      <td>2020-05-15 18:06:30.885617+00:00</td>\n",
       "      <td>2020-05-15 18:06:31.282960+00:00</td>\n",
       "      <td>01943f5e-029a-8662-0009-c0830003377a</td>\n",
       "      <td>sf_dev_test_02</td>\n",
       "      <td>00:00:00.397343</td>\n",
       "      <td>0.397343</td>\n",
       "    </tr>\n",
       "    <tr>\n",
       "      <th>127</th>\n",
       "      <td>sf</td>\n",
       "      <td>ds</td>\n",
       "      <td>1</td>\n",
       "      <td>ds_1GB_01</td>\n",
       "      <td>1</td>\n",
       "      <td>dev_test_02</td>\n",
       "      <td>81</td>\n",
       "      <td>t2</td>\n",
       "      <td>2020-05-15 18:06:31.756302+00:00</td>\n",
       "      <td>2020-05-15 18:06:32.613990+00:00</td>\n",
       "      <td>01943f5e-0256-5621-0009-c0830003175e</td>\n",
       "      <td>sf_dev_test_02</td>\n",
       "      <td>00:00:00.857688</td>\n",
       "      <td>0.857688</td>\n",
       "    </tr>\n",
       "  </tbody>\n",
       "</table>\n",
       "</div>"
      ],
      "text/plain": [
       "     db test  scale     source  cid         desc  query_n seq_id  \\\n",
       "123  sf   ds      1  ds_1GB_01    1  dev_test_02        8     t2   \n",
       "124  sf   ds      1  ds_1GB_01    1  dev_test_02       14     t2   \n",
       "125  sf   ds      1  ds_1GB_01    1  dev_test_02       50     t2   \n",
       "126  sf   ds      1  ds_1GB_01    1  dev_test_02       52     t2   \n",
       "127  sf   ds      1  ds_1GB_01    1  dev_test_02       81     t2   \n",
       "\n",
       "                           driver_t0                        driver_t1  \\\n",
       "123 2020-05-15 18:06:20.664541+00:00 2020-05-15 18:06:21.362545+00:00   \n",
       "124 2020-05-15 18:06:22.031006+00:00 2020-05-15 18:06:27.603753+00:00   \n",
       "125 2020-05-15 18:06:28.256541+00:00 2020-05-15 18:06:30.490503+00:00   \n",
       "126 2020-05-15 18:06:30.885617+00:00 2020-05-15 18:06:31.282960+00:00   \n",
       "127 2020-05-15 18:06:31.756302+00:00 2020-05-15 18:06:32.613990+00:00   \n",
       "\n",
       "                                      qid     description              dt  \\\n",
       "123  01943f5e-021a-dc0d-0009-c08300033776  sf_dev_test_02 00:00:00.698004   \n",
       "124  01943f5e-02cd-b3d7-0009-c0830003174e  sf_dev_test_02 00:00:05.572747   \n",
       "125  01943f5e-02b4-87d3-0009-c08300031752  sf_dev_test_02 00:00:02.233962   \n",
       "126  01943f5e-029a-8662-0009-c0830003377a  sf_dev_test_02 00:00:00.397343   \n",
       "127  01943f5e-0256-5621-0009-c0830003175e  sf_dev_test_02 00:00:00.857688   \n",
       "\n",
       "         dt_s  \n",
       "123  0.698004  \n",
       "124  5.572747  \n",
       "125  2.233962  \n",
       "126  0.397343  \n",
       "127  0.857688  "
      ]
     },
     "execution_count": 27,
     "metadata": {},
     "output_type": "execute_result"
    }
   ],
   "source": [
    "df[df.db == \"sf\"].head()"
   ]
  },
  {
   "cell_type": "code",
   "execution_count": 28,
   "metadata": {},
   "outputs": [
    {
     "data": {
      "text/html": [
       "<div>\n",
       "<style scoped>\n",
       "    .dataframe tbody tr th:only-of-type {\n",
       "        vertical-align: middle;\n",
       "    }\n",
       "\n",
       "    .dataframe tbody tr th {\n",
       "        vertical-align: top;\n",
       "    }\n",
       "\n",
       "    .dataframe thead th {\n",
       "        text-align: right;\n",
       "    }\n",
       "</style>\n",
       "<table border=\"1\" class=\"dataframe\">\n",
       "  <thead>\n",
       "    <tr style=\"text-align: right;\">\n",
       "      <th></th>\n",
       "      <th>db</th>\n",
       "      <th>test</th>\n",
       "      <th>scale</th>\n",
       "      <th>source</th>\n",
       "      <th>cid</th>\n",
       "      <th>desc</th>\n",
       "      <th>query_n</th>\n",
       "      <th>seq_id</th>\n",
       "      <th>driver_t0</th>\n",
       "      <th>driver_t1</th>\n",
       "      <th>qid</th>\n",
       "      <th>description</th>\n",
       "      <th>dt</th>\n",
       "      <th>dt_s</th>\n",
       "    </tr>\n",
       "  </thead>\n",
       "  <tbody>\n",
       "    <tr>\n",
       "      <th>0</th>\n",
       "      <td>bq</td>\n",
       "      <td>ds</td>\n",
       "      <td>1</td>\n",
       "      <td>ds_1GB_01</td>\n",
       "      <td>1</td>\n",
       "      <td>dev_test_02</td>\n",
       "      <td>83</td>\n",
       "      <td>t2</td>\n",
       "      <td>2020-05-15 18:08:41.642849+00:00</td>\n",
       "      <td>2020-05-15 18:08:44.811780+00:00</td>\n",
       "      <td>1a720dfc-5592-4bc1-a591-246b56ee508a</td>\n",
       "      <td>bq_dev_test_02</td>\n",
       "      <td>00:00:03.168931</td>\n",
       "      <td>3.168931</td>\n",
       "    </tr>\n",
       "    <tr>\n",
       "      <th>96</th>\n",
       "      <td>bq</td>\n",
       "      <td>ds</td>\n",
       "      <td>1</td>\n",
       "      <td>ds_1GB_01</td>\n",
       "      <td>1</td>\n",
       "      <td>dev_test_02</td>\n",
       "      <td>74</td>\n",
       "      <td>t2</td>\n",
       "      <td>2020-05-15 18:13:48.359162+00:00</td>\n",
       "      <td>2020-05-15 18:13:48.667098+00:00</td>\n",
       "      <td>76c41268-c32a-48db-b6f9-e085fa92ecd4</td>\n",
       "      <td>bq_dev_test_02</td>\n",
       "      <td>00:00:00.307936</td>\n",
       "      <td>0.307936</td>\n",
       "    </tr>\n",
       "    <tr>\n",
       "      <th>95</th>\n",
       "      <td>bq</td>\n",
       "      <td>ds</td>\n",
       "      <td>1</td>\n",
       "      <td>ds_1GB_01</td>\n",
       "      <td>1</td>\n",
       "      <td>dev_test_02</td>\n",
       "      <td>42</td>\n",
       "      <td>t2</td>\n",
       "      <td>2020-05-15 18:13:46.721235+00:00</td>\n",
       "      <td>2020-05-15 18:13:47.096762+00:00</td>\n",
       "      <td>aa813dc4-77a5-40e1-8384-f60e6a2465de</td>\n",
       "      <td>bq_dev_test_02</td>\n",
       "      <td>00:00:00.375527</td>\n",
       "      <td>0.375527</td>\n",
       "    </tr>\n",
       "    <tr>\n",
       "      <th>26</th>\n",
       "      <td>bq</td>\n",
       "      <td>ds</td>\n",
       "      <td>1</td>\n",
       "      <td>ds_1GB_01</td>\n",
       "      <td>1</td>\n",
       "      <td>dev_test_02</td>\n",
       "      <td>8</td>\n",
       "      <td>t2</td>\n",
       "      <td>2020-05-15 18:09:53.314500+00:00</td>\n",
       "      <td>2020-05-15 18:09:53.679164+00:00</td>\n",
       "      <td>9c5355aa-2e4d-42ef-ac2b-d5ef546182ba</td>\n",
       "      <td>bq_dev_test_02</td>\n",
       "      <td>00:00:00.364664</td>\n",
       "      <td>0.364664</td>\n",
       "    </tr>\n",
       "    <tr>\n",
       "      <th>27</th>\n",
       "      <td>bq</td>\n",
       "      <td>ds</td>\n",
       "      <td>1</td>\n",
       "      <td>ds_1GB_01</td>\n",
       "      <td>1</td>\n",
       "      <td>dev_test_02</td>\n",
       "      <td>14</td>\n",
       "      <td>t2</td>\n",
       "      <td>2020-05-15 18:09:55.308733+00:00</td>\n",
       "      <td>2020-05-15 18:09:55.674277+00:00</td>\n",
       "      <td>258206cb-0959-4b9f-9918-e299cf5c0f67</td>\n",
       "      <td>bq_dev_test_02</td>\n",
       "      <td>00:00:00.365544</td>\n",
       "      <td>0.365544</td>\n",
       "    </tr>\n",
       "  </tbody>\n",
       "</table>\n",
       "</div>"
      ],
      "text/plain": [
       "    db test  scale     source  cid         desc  query_n seq_id  \\\n",
       "0   bq   ds      1  ds_1GB_01    1  dev_test_02       83     t2   \n",
       "96  bq   ds      1  ds_1GB_01    1  dev_test_02       74     t2   \n",
       "95  bq   ds      1  ds_1GB_01    1  dev_test_02       42     t2   \n",
       "26  bq   ds      1  ds_1GB_01    1  dev_test_02        8     t2   \n",
       "27  bq   ds      1  ds_1GB_01    1  dev_test_02       14     t2   \n",
       "\n",
       "                          driver_t0                        driver_t1  \\\n",
       "0  2020-05-15 18:08:41.642849+00:00 2020-05-15 18:08:44.811780+00:00   \n",
       "96 2020-05-15 18:13:48.359162+00:00 2020-05-15 18:13:48.667098+00:00   \n",
       "95 2020-05-15 18:13:46.721235+00:00 2020-05-15 18:13:47.096762+00:00   \n",
       "26 2020-05-15 18:09:53.314500+00:00 2020-05-15 18:09:53.679164+00:00   \n",
       "27 2020-05-15 18:09:55.308733+00:00 2020-05-15 18:09:55.674277+00:00   \n",
       "\n",
       "                                     qid     description              dt  \\\n",
       "0   1a720dfc-5592-4bc1-a591-246b56ee508a  bq_dev_test_02 00:00:03.168931   \n",
       "96  76c41268-c32a-48db-b6f9-e085fa92ecd4  bq_dev_test_02 00:00:00.307936   \n",
       "95  aa813dc4-77a5-40e1-8384-f60e6a2465de  bq_dev_test_02 00:00:00.375527   \n",
       "26  9c5355aa-2e4d-42ef-ac2b-d5ef546182ba  bq_dev_test_02 00:00:00.364664   \n",
       "27  258206cb-0959-4b9f-9918-e299cf5c0f67  bq_dev_test_02 00:00:00.365544   \n",
       "\n",
       "        dt_s  \n",
       "0   3.168931  \n",
       "96  0.307936  \n",
       "95  0.375527  \n",
       "26  0.364664  \n",
       "27  0.365544  "
      ]
     },
     "execution_count": 28,
     "metadata": {},
     "output_type": "execute_result"
    }
   ],
   "source": [
    "df[df.db == \"bq\"].head()"
   ]
  },
  {
   "cell_type": "code",
   "execution_count": 32,
   "metadata": {},
   "outputs": [],
   "source": [
    "dfp_dt = df.pivot(index=x_type, columns=\"db\", values=\"dt_s\")\n",
    "#dfp_bp = df.pivot(index=x_type, columns=\"db\", values=\"bytes_processed\")"
   ]
  },
  {
   "cell_type": "code",
   "execution_count": 33,
   "metadata": {},
   "outputs": [],
   "source": [
    "def bytes_to_TebiByte(b):\n",
    "    return b / 1099511627776"
   ]
  },
  {
   "cell_type": "raw",
   "metadata": {},
   "source": [
    "dfp_bp = dfp_bp.apply(bytes_to_TebiByte)"
   ]
  },
  {
   "cell_type": "markdown",
   "metadata": {},
   "source": [
    "### Plot Results"
   ]
  },
  {
   "cell_type": "code",
   "execution_count": 35,
   "metadata": {},
   "outputs": [],
   "source": [
    "sns.set_style(\"darkgrid\", {\"xtick.bottom\":True})"
   ]
  },
  {
   "cell_type": "code",
   "execution_count": 36,
   "metadata": {},
   "outputs": [],
   "source": [
    "flatui = [\"#9b59b6\", \"#3498db\", \"#95a5a6\", \"#e74c3c\", \"#34495e\", \"#2ecc71\"]\n",
    "set2 = sns.color_palette(\"Set2\", 8)\n",
    "hls = sns.hls_palette(n_colors=12)"
   ]
  },
  {
   "cell_type": "code",
   "execution_count": 39,
   "metadata": {},
   "outputs": [
    {
     "name": "stdout",
     "output_type": "stream",
     "text": [
      "\n"
     ]
    },
    {
     "data": {
      "image/png": "[encoded data removed]",
      "text/plain": [
       "<Figure size 2160x576 with 2 Axes>"
      ]
     },
     "metadata": {},
     "output_type": "display_data"
    }
   ],
   "source": [
    "plot_name = \"{}_{}GB_{}_comparison.png\".format(test, scale_factor, x_type)\n",
    "\n",
    "# invert bytes processed for plotting\n",
    "#_dfp_bp = dfp_bp.copy() * -1\n",
    "color_palette = hls\n",
    "fig, (ax1, ax2) = plt.subplots(2, 1)\n",
    "ax1 = dfp_dt.plot.bar(ax=ax1, legend=False, color=color_palette)\n",
    "#ax2 = _dfp_bp.plot.bar(ax=ax2, legend=False, color=color_palette);\n",
    "\n",
    "# set the figure size BEFORE adjusting ticks\n",
    "fig.set_size_inches(30, 8, forward=True)\n",
    "\n",
    "handles, labels = ax1.get_legend_handles_labels()\n",
    "\n",
    "ax1.set_ylabel(\"Time in Seconds\")\n",
    "ax1.set_xlabel(None)\n",
    "ax1_xticklabels = ax1.get_xticklabels()\n",
    "ax1.set_xticklabels(labels=[])\n",
    "\n",
    "#ax2.set_ylabel(\"TiB Processed\")\n",
    "#ax2.set_xlabel(\"Query Number\")\n",
    "#ticks =  ax2.get_yticks()\n",
    "#ticks = [\"{:01.3f}\".format(abs(tick)) for tick in ticks]\n",
    "#ax2.set_yticklabels(ticks);\n",
    "#ax2.xaxis.tick_top()\n",
    "\n",
    "#plt.subplots_adjust(hspace=0.11)\n",
    "#plt.subplots_adjust(right=0.79)\n",
    "\n",
    "fig.legend(handles, labels, loc=\"right\")\n",
    "#fig.legend(handles, labels, loc=\"lower center\")\n",
    "plt.savefig(config.fp_plots + config.sep + plot_name, bbox_to_anchor='tight')\n",
    "print();"
   ]
  },
  {
   "cell_type": "raw",
   "metadata": {},
   "source": [
    "plot_name = \"{}_{}GB_{}_comparison.png\".format(test, scale_factor, x_type)\n",
    "\n",
    "# invert bytes processed for plotting\n",
    "_dfp_bp = dfp_bp.copy() * -1\n",
    "color_palette = hls\n",
    "fig, (ax1, ax2) = plt.subplots(2, 1)\n",
    "ax1 = dfp_dt.plot.bar(ax=ax1, legend=False, color=color_palette)\n",
    "ax2 = _dfp_bp.plot.bar(ax=ax2, legend=False, color=color_palette);\n",
    "\n",
    "# set the figure size BEFORE adjusting ticks\n",
    "fig.set_size_inches(30, 8, forward=True)\n",
    "\n",
    "handles, labels = ax1.get_legend_handles_labels()\n",
    "\n",
    "ax1.set_ylabel(\"Time in Seconds\")\n",
    "ax1.set_xlabel(None)\n",
    "ax1_xticklabels = ax1.get_xticklabels()\n",
    "ax1.set_xticklabels(labels=[])\n",
    "\n",
    "ax2.set_ylabel(\"TiB Processed\")\n",
    "ax2.set_xlabel(\"Query Number\")\n",
    "ticks =  ax2.get_yticks()\n",
    "ticks = [\"{:01.3f}\".format(abs(tick)) for tick in ticks]\n",
    "ax2.set_yticklabels(ticks);\n",
    "ax2.xaxis.tick_top()\n",
    "\n",
    "#plt.subplots_adjust(hspace=0.11)\n",
    "#plt.subplots_adjust(right=0.79)\n",
    "\n",
    "fig.legend(handles, labels, loc=\"right\")\n",
    "#fig.legend(handles, labels, loc=\"lower center\")\n",
    "plt.savefig(config.fp_plots + config.sep + plot_name, bbox_to_anchor='tight')\n",
    "print();"
   ]
  },
  {
   "cell_type": "code",
   "execution_count": 21,
   "metadata": {},
   "outputs": [
    {
     "data": {
      "text/plain": [
       "db\n",
       "bq    56.206000\n",
       "sf    28.677865\n",
       "dtype: float64"
      ]
     },
     "execution_count": 21,
     "metadata": {},
     "output_type": "execute_result"
    }
   ],
   "source": [
    "dfp_dt.sum()"
   ]
  },
  {
   "cell_type": "code",
   "execution_count": 22,
   "metadata": {},
   "outputs": [
    {
     "data": {
      "text/plain": [
       "db\n",
       "bq    3.759623e-03\n",
       "sf   -2.000888e-11\n",
       "dtype: float64"
      ]
     },
     "execution_count": 22,
     "metadata": {},
     "output_type": "execute_result"
    }
   ],
   "source": [
    "dfp_bp.sum()"
   ]
  },
  {
   "cell_type": "code",
   "execution_count": 23,
   "metadata": {},
   "outputs": [
    {
     "data": {
      "text/plain": [
       "db\n",
       "bq    1.879812e-02\n",
       "sf   -1.000444e-10\n",
       "dtype: float64"
      ]
     },
     "execution_count": 23,
     "metadata": {},
     "output_type": "execute_result"
    }
   ],
   "source": [
    "dfp_bp.sum() * 5"
   ]
  },
  {
   "cell_type": "code",
   "execution_count": null,
   "metadata": {},
   "outputs": [],
   "source": []
  }
 ],
 "metadata": {
  "kernelspec": {
   "display_name": "Python 3",
   "language": "python",
   "name": "python3"
  },
  "language_info": {
   "codemirror_mode": {
    "name": "ipython",
    "version": 3
   },
   "file_extension": ".py",
   "mimetype": "text/x-python",
   "name": "python",
   "nbconvert_exporter": "python",
   "pygments_lexer": "ipython3",
   "version": "3.7.7"
  }
 },
 "nbformat": 4,
 "nbformat_minor": 4
}
