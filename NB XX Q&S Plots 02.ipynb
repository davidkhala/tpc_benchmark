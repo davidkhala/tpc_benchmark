{
 "cells": [
  {
   "cell_type": "markdown",
   "metadata": {},
   "source": [
    "### TPC Benchmarking  \n",
    "Results Plotting  "
   ]
  },
  {
   "cell_type": "code",
   "execution_count": 13,
   "metadata": {},
   "outputs": [],
   "source": [
    "import glob\n",
    "import numpy as np\n",
    "import pandas as pd\n",
    "import matplotlib.pyplot as plt\n",
    "import seaborn as sns\n",
    "from datetime import datetime\n",
    "\n",
    "sns.set_context(\"notebook\", font_scale=1.0, rc={\"lines.linewidth\": 1.0})\n",
    "\n",
    "import config"
   ]
  },
  {
   "cell_type": "code",
   "execution_count": 14,
   "metadata": {},
   "outputs": [],
   "source": [
    "test = \"TPC-H\"\n",
    "scale_factor = \"100\""
   ]
  },
  {
   "cell_type": "code",
   "execution_count": 15,
   "metadata": {},
   "outputs": [
    {
     "data": {
      "text/plain": [
       "'/home/colin/code/bq_snowflake_benchmark/results/tpc-h_single_queries'"
      ]
     },
     "execution_count": 15,
     "metadata": {},
     "output_type": "execute_result"
    }
   ],
   "source": [
    "fps = config.fp_results + config.sep + \"tpc-h_single_queries\"\n",
    "fps"
   ]
  },
  {
   "cell_type": "code",
   "execution_count": 16,
   "metadata": {},
   "outputs": [],
   "source": [
    "fps_results = glob.glob(fps + \"/*_*_results*\")"
   ]
  },
  {
   "cell_type": "code",
   "execution_count": 17,
   "metadata": {},
   "outputs": [],
   "source": [
    "fps_time = glob.glob(fps + \"/*_*_times*\")"
   ]
  },
  {
   "cell_type": "code",
   "execution_count": 18,
   "metadata": {},
   "outputs": [],
   "source": [
    "d = []\n",
    "for fp in fps_time:\n",
    "    df = pd.read_csv(fp, index_col=None, header=0)\n",
    "    d.append(df)\n",
    "\n",
    "df = pd.concat(d, axis=0, ignore_index=True)"
   ]
  },
  {
   "cell_type": "code",
   "execution_count": 27,
   "metadata": {},
   "outputs": [
    {
     "data": {
      "text/plain": [
       "'/'"
      ]
     },
     "execution_count": 27,
     "metadata": {},
     "output_type": "execute_result"
    }
   ],
   "source": [
    "fps[0]"
   ]
  },
  {
   "cell_type": "code",
   "execution_count": 28,
   "metadata": {},
   "outputs": [],
   "source": [
    "if \"query\" in fps_time[0]:\n",
    "    x_type = \"query_n\"\n",
    "else:\n",
    "    x_type = \"stream_p\""
   ]
  },
  {
   "cell_type": "raw",
   "metadata": {},
   "source": [
    "def ts_converter(t_str):\n",
    "    try:\n",
    "        float(t_str)\n",
    "        return pd.to_datetime(datetime.fromtimestamp(t_str))\n",
    "    except:\n",
    "        return pd.to_datetime(t_str)"
   ]
  },
  {
   "cell_type": "raw",
   "metadata": {},
   "source": [
    "def parse(fp, x_type):\n",
    "    x_type = {\"q\":\"query_n\", \"s\":\"stream_p\"}[x_type]\n",
    "    df = pd.read_csv(fp)\n",
    "    #df.t0 = pd.to_datetime(df.t0)\n",
    "    #df.t1 = pd.to_datetime(df.t1)\n",
    "    df.t0 = df.t0.apply(ts_converter)\n",
    "    df.t1 = df.t1.apply(ts_converter)\n",
    "    df[\"dt\"] = df.t1 - df.t0\n",
    "    df[\"dt_s\"] = df.dt.dt.total_seconds()\n",
    "    return df"
   ]
  },
  {
   "cell_type": "raw",
   "metadata": {},
   "source": [
    "df = pd.DataFrame(None)\n",
    "for _fp in fps:\n",
    "    _df = parse(fpb + _fp, \"q\")\n",
    "    df = pd.concat([df, _df])"
   ]
  },
  {
   "cell_type": "code",
   "execution_count": 29,
   "metadata": {},
   "outputs": [
    {
     "data": {
      "text/html": [
       "<div>\n",
       "<style scoped>\n",
       "    .dataframe tbody tr th:only-of-type {\n",
       "        vertical-align: middle;\n",
       "    }\n",
       "\n",
       "    .dataframe tbody tr th {\n",
       "        vertical-align: top;\n",
       "    }\n",
       "\n",
       "    .dataframe thead th {\n",
       "        text-align: right;\n",
       "    }\n",
       "</style>\n",
       "<table border=\"1\" class=\"dataframe\">\n",
       "  <thead>\n",
       "    <tr style=\"text-align: right;\">\n",
       "      <th></th>\n",
       "      <th>db</th>\n",
       "      <th>test</th>\n",
       "      <th>scale</th>\n",
       "      <th>bq_dataset</th>\n",
       "      <th>desc</th>\n",
       "      <th>query_n</th>\n",
       "      <th>t0</th>\n",
       "      <th>t1</th>\n",
       "      <th>bytes_processed</th>\n",
       "      <th>bytes_billed</th>\n",
       "      <th>query_plan</th>\n",
       "      <th>cost</th>\n",
       "      <th>description</th>\n",
       "    </tr>\n",
       "  </thead>\n",
       "  <tbody>\n",
       "    <tr>\n",
       "      <th>0</th>\n",
       "      <td>bq</td>\n",
       "      <td>h</td>\n",
       "      <td>1</td>\n",
       "      <td>h_1GB_qual</td>\n",
       "      <td>5_query_test</td>\n",
       "      <td>5</td>\n",
       "      <td>2020-05-05 05:33:07.557000+00:00</td>\n",
       "      <td>2020-05-05 05:33:09.660000+00:00</td>\n",
       "      <td>230599591</td>\n",
       "      <td>230686720.0</td>\n",
       "      <td>{0: {'_properties': {'name': 'S00: Input', 'id...</td>\n",
       "      <td>NaN</td>\n",
       "      <td>bq_5_query_test</td>\n",
       "    </tr>\n",
       "    <tr>\n",
       "      <th>24</th>\n",
       "      <td>sf</td>\n",
       "      <td>h</td>\n",
       "      <td>1</td>\n",
       "      <td>h_1GB_qual</td>\n",
       "      <td>22_query_test</td>\n",
       "      <td>22</td>\n",
       "      <td>2020-05-04 23:02:39.233505</td>\n",
       "      <td>2020-05-04 23:02:40.541613</td>\n",
       "      <td>-1</td>\n",
       "      <td>NaN</td>\n",
       "      <td>NaN</td>\n",
       "      <td>0.00073254</td>\n",
       "      <td>sf_22_query_test</td>\n",
       "    </tr>\n",
       "    <tr>\n",
       "      <th>25</th>\n",
       "      <td>sf</td>\n",
       "      <td>h</td>\n",
       "      <td>1</td>\n",
       "      <td>h_1GB_qual</td>\n",
       "      <td>9_query_test</td>\n",
       "      <td>9</td>\n",
       "      <td>2020-05-04 22:35:47.733515</td>\n",
       "      <td>2020-05-04 22:35:49.474829</td>\n",
       "      <td>-1</td>\n",
       "      <td>NaN</td>\n",
       "      <td>NaN</td>\n",
       "      <td>0 days 00:00:00.000975135</td>\n",
       "      <td>sf_9_query_test</td>\n",
       "    </tr>\n",
       "    <tr>\n",
       "      <th>26</th>\n",
       "      <td>sf</td>\n",
       "      <td>h</td>\n",
       "      <td>1</td>\n",
       "      <td>h_1GB_qual</td>\n",
       "      <td>4_query_test</td>\n",
       "      <td>4</td>\n",
       "      <td>2020-05-04 22:32:57.088020</td>\n",
       "      <td>2020-05-04 22:32:57.843877</td>\n",
       "      <td>-1</td>\n",
       "      <td>NaN</td>\n",
       "      <td>NaN</td>\n",
       "      <td>0 days 00:00:00.000423279</td>\n",
       "      <td>sf_4_query_test</td>\n",
       "    </tr>\n",
       "    <tr>\n",
       "      <th>27</th>\n",
       "      <td>bq</td>\n",
       "      <td>h</td>\n",
       "      <td>1</td>\n",
       "      <td>h_1GB_qual</td>\n",
       "      <td>2_query_test</td>\n",
       "      <td>2</td>\n",
       "      <td>2020-05-05 05:32:13.064000+00:00</td>\n",
       "      <td>2020-05-05 05:32:14.562000+00:00</td>\n",
       "      <td>31646123</td>\n",
       "      <td>52428800.0</td>\n",
       "      <td>{0: {'_properties': {'name': 'S00: Input', 'id...</td>\n",
       "      <td>NaN</td>\n",
       "      <td>bq_2_query_test</td>\n",
       "    </tr>\n",
       "  </tbody>\n",
       "</table>\n",
       "</div>"
      ],
      "text/plain": [
       "    db test  scale  bq_dataset           desc  query_n  \\\n",
       "0   bq    h      1  h_1GB_qual   5_query_test        5   \n",
       "24  sf    h      1  h_1GB_qual  22_query_test       22   \n",
       "25  sf    h      1  h_1GB_qual   9_query_test        9   \n",
       "26  sf    h      1  h_1GB_qual   4_query_test        4   \n",
       "27  bq    h      1  h_1GB_qual   2_query_test        2   \n",
       "\n",
       "                                  t0                                t1  \\\n",
       "0   2020-05-05 05:33:07.557000+00:00  2020-05-05 05:33:09.660000+00:00   \n",
       "24        2020-05-04 23:02:39.233505        2020-05-04 23:02:40.541613   \n",
       "25        2020-05-04 22:35:47.733515        2020-05-04 22:35:49.474829   \n",
       "26        2020-05-04 22:32:57.088020        2020-05-04 22:32:57.843877   \n",
       "27  2020-05-05 05:32:13.064000+00:00  2020-05-05 05:32:14.562000+00:00   \n",
       "\n",
       "    bytes_processed  bytes_billed  \\\n",
       "0         230599591   230686720.0   \n",
       "24               -1           NaN   \n",
       "25               -1           NaN   \n",
       "26               -1           NaN   \n",
       "27         31646123    52428800.0   \n",
       "\n",
       "                                           query_plan  \\\n",
       "0   {0: {'_properties': {'name': 'S00: Input', 'id...   \n",
       "24                                                NaN   \n",
       "25                                                NaN   \n",
       "26                                                NaN   \n",
       "27  {0: {'_properties': {'name': 'S00: Input', 'id...   \n",
       "\n",
       "                         cost       description  \n",
       "0                         NaN   bq_5_query_test  \n",
       "24                 0.00073254  sf_22_query_test  \n",
       "25  0 days 00:00:00.000975135   sf_9_query_test  \n",
       "26  0 days 00:00:00.000423279   sf_4_query_test  \n",
       "27                        NaN   bq_2_query_test  "
      ]
     },
     "execution_count": 29,
     "metadata": {},
     "output_type": "execute_result"
    }
   ],
   "source": [
    "df.head()"
   ]
  },
  {
   "cell_type": "code",
   "execution_count": 30,
   "metadata": {},
   "outputs": [],
   "source": [
    "df = df.sort_values(by=\"bq_dataset\")"
   ]
  },
  {
   "cell_type": "code",
   "execution_count": null,
   "metadata": {},
   "outputs": [],
   "source": []
  },
  {
   "cell_type": "code",
   "execution_count": 31,
   "metadata": {},
   "outputs": [],
   "source": [
    "df[\"description\"] = df.db + \"_\" + df.desc"
   ]
  },
  {
   "cell_type": "code",
   "execution_count": null,
   "metadata": {},
   "outputs": [],
   "source": []
  },
  {
   "cell_type": "code",
   "execution_count": 36,
   "metadata": {},
   "outputs": [],
   "source": [
    "df.t0 = pd.to_datetime(df.t0)\n",
    "df.t1 = pd.to_datetime(df.t1)\n",
    "\n",
    "df[\"dt\"] = df.t1 - df.t0\n",
    "df[\"dt_s\"] = df.dt.dt.total_seconds()"
   ]
  },
  {
   "cell_type": "code",
   "execution_count": 37,
   "metadata": {},
   "outputs": [
    {
     "data": {
      "text/html": [
       "<div>\n",
       "<style scoped>\n",
       "    .dataframe tbody tr th:only-of-type {\n",
       "        vertical-align: middle;\n",
       "    }\n",
       "\n",
       "    .dataframe tbody tr th {\n",
       "        vertical-align: top;\n",
       "    }\n",
       "\n",
       "    .dataframe thead th {\n",
       "        text-align: right;\n",
       "    }\n",
       "</style>\n",
       "<table border=\"1\" class=\"dataframe\">\n",
       "  <thead>\n",
       "    <tr style=\"text-align: right;\">\n",
       "      <th></th>\n",
       "      <th>db</th>\n",
       "      <th>test</th>\n",
       "      <th>scale</th>\n",
       "      <th>bq_dataset</th>\n",
       "      <th>desc</th>\n",
       "      <th>query_n</th>\n",
       "      <th>t0</th>\n",
       "      <th>t1</th>\n",
       "      <th>bytes_processed</th>\n",
       "      <th>bytes_billed</th>\n",
       "      <th>query_plan</th>\n",
       "      <th>cost</th>\n",
       "      <th>description</th>\n",
       "      <th>dt</th>\n",
       "      <th>dt_s</th>\n",
       "    </tr>\n",
       "  </thead>\n",
       "  <tbody>\n",
       "    <tr>\n",
       "      <th>2</th>\n",
       "      <td>sf</td>\n",
       "      <td>h</td>\n",
       "      <td>1</td>\n",
       "      <td>h_1GB_qual</td>\n",
       "      <td>11_query_test</td>\n",
       "      <td>11</td>\n",
       "      <td>2020-05-04 22:37:18.167193</td>\n",
       "      <td>2020-05-04 22:37:19.293976</td>\n",
       "      <td>-1</td>\n",
       "      <td>NaN</td>\n",
       "      <td>NaN</td>\n",
       "      <td>0 days 00:00:00.000630998</td>\n",
       "      <td>sf_11_query_test</td>\n",
       "      <td>00:00:01.126783</td>\n",
       "      <td>1.126783</td>\n",
       "    </tr>\n",
       "    <tr>\n",
       "      <th>3</th>\n",
       "      <td>sf</td>\n",
       "      <td>h</td>\n",
       "      <td>1</td>\n",
       "      <td>h_1GB_qual</td>\n",
       "      <td>12_query_test</td>\n",
       "      <td>12</td>\n",
       "      <td>2020-05-04 23:19:54.268891</td>\n",
       "      <td>2020-05-04 23:19:55.338336</td>\n",
       "      <td>-1</td>\n",
       "      <td>NaN</td>\n",
       "      <td>NaN</td>\n",
       "      <td>0.000598889</td>\n",
       "      <td>sf_12_query_test</td>\n",
       "      <td>00:00:01.069445</td>\n",
       "      <td>1.069445</td>\n",
       "    </tr>\n",
       "    <tr>\n",
       "      <th>5</th>\n",
       "      <td>sf</td>\n",
       "      <td>h</td>\n",
       "      <td>1</td>\n",
       "      <td>h_1GB_qual</td>\n",
       "      <td>2_query_test</td>\n",
       "      <td>2</td>\n",
       "      <td>2020-05-04 22:32:16.730582</td>\n",
       "      <td>2020-05-04 22:32:19.244290</td>\n",
       "      <td>-1</td>\n",
       "      <td>NaN</td>\n",
       "      <td>NaN</td>\n",
       "      <td>0 days 00:00:00.001407676</td>\n",
       "      <td>sf_2_query_test</td>\n",
       "      <td>00:00:02.513708</td>\n",
       "      <td>2.513708</td>\n",
       "    </tr>\n",
       "    <tr>\n",
       "      <th>7</th>\n",
       "      <td>sf</td>\n",
       "      <td>h</td>\n",
       "      <td>1</td>\n",
       "      <td>h_1GB_qual</td>\n",
       "      <td>19_query_test</td>\n",
       "      <td>19</td>\n",
       "      <td>2020-05-04 22:59:21.977675</td>\n",
       "      <td>2020-05-04 22:59:23.514955</td>\n",
       "      <td>-1</td>\n",
       "      <td>NaN</td>\n",
       "      <td>NaN</td>\n",
       "      <td>0.000860877</td>\n",
       "      <td>sf_19_query_test</td>\n",
       "      <td>00:00:01.537280</td>\n",
       "      <td>1.537280</td>\n",
       "    </tr>\n",
       "    <tr>\n",
       "      <th>8</th>\n",
       "      <td>sf</td>\n",
       "      <td>h</td>\n",
       "      <td>1</td>\n",
       "      <td>h_1GB_qual</td>\n",
       "      <td>5_query_test</td>\n",
       "      <td>5</td>\n",
       "      <td>2020-05-04 22:33:11.345287</td>\n",
       "      <td>2020-05-04 22:33:12.565355</td>\n",
       "      <td>-1</td>\n",
       "      <td>NaN</td>\n",
       "      <td>NaN</td>\n",
       "      <td>0 days 00:00:00.000683238</td>\n",
       "      <td>sf_5_query_test</td>\n",
       "      <td>00:00:01.220068</td>\n",
       "      <td>1.220068</td>\n",
       "    </tr>\n",
       "  </tbody>\n",
       "</table>\n",
       "</div>"
      ],
      "text/plain": [
       "   db test  scale  bq_dataset           desc  query_n  \\\n",
       "2  sf    h      1  h_1GB_qual  11_query_test       11   \n",
       "3  sf    h      1  h_1GB_qual  12_query_test       12   \n",
       "5  sf    h      1  h_1GB_qual   2_query_test        2   \n",
       "7  sf    h      1  h_1GB_qual  19_query_test       19   \n",
       "8  sf    h      1  h_1GB_qual   5_query_test        5   \n",
       "\n",
       "                           t0                          t1  bytes_processed  \\\n",
       "2  2020-05-04 22:37:18.167193  2020-05-04 22:37:19.293976               -1   \n",
       "3  2020-05-04 23:19:54.268891  2020-05-04 23:19:55.338336               -1   \n",
       "5  2020-05-04 22:32:16.730582  2020-05-04 22:32:19.244290               -1   \n",
       "7  2020-05-04 22:59:21.977675  2020-05-04 22:59:23.514955               -1   \n",
       "8  2020-05-04 22:33:11.345287  2020-05-04 22:33:12.565355               -1   \n",
       "\n",
       "   bytes_billed query_plan                       cost       description  \\\n",
       "2           NaN        NaN  0 days 00:00:00.000630998  sf_11_query_test   \n",
       "3           NaN        NaN                0.000598889  sf_12_query_test   \n",
       "5           NaN        NaN  0 days 00:00:00.001407676   sf_2_query_test   \n",
       "7           NaN        NaN                0.000860877  sf_19_query_test   \n",
       "8           NaN        NaN  0 days 00:00:00.000683238   sf_5_query_test   \n",
       "\n",
       "               dt      dt_s  \n",
       "2 00:00:01.126783  1.126783  \n",
       "3 00:00:01.069445  1.069445  \n",
       "5 00:00:02.513708  2.513708  \n",
       "7 00:00:01.537280  1.537280  \n",
       "8 00:00:01.220068  1.220068  "
      ]
     },
     "execution_count": 37,
     "metadata": {},
     "output_type": "execute_result"
    }
   ],
   "source": [
    "df[df.db == \"sf\"].head()"
   ]
  },
  {
   "cell_type": "code",
   "execution_count": 38,
   "metadata": {},
   "outputs": [
    {
     "data": {
      "text/html": [
       "<div>\n",
       "<style scoped>\n",
       "    .dataframe tbody tr th:only-of-type {\n",
       "        vertical-align: middle;\n",
       "    }\n",
       "\n",
       "    .dataframe tbody tr th {\n",
       "        vertical-align: top;\n",
       "    }\n",
       "\n",
       "    .dataframe thead th {\n",
       "        text-align: right;\n",
       "    }\n",
       "</style>\n",
       "<table border=\"1\" class=\"dataframe\">\n",
       "  <thead>\n",
       "    <tr style=\"text-align: right;\">\n",
       "      <th></th>\n",
       "      <th>db</th>\n",
       "      <th>test</th>\n",
       "      <th>scale</th>\n",
       "      <th>bq_dataset</th>\n",
       "      <th>desc</th>\n",
       "      <th>query_n</th>\n",
       "      <th>t0</th>\n",
       "      <th>t1</th>\n",
       "      <th>bytes_processed</th>\n",
       "      <th>bytes_billed</th>\n",
       "      <th>query_plan</th>\n",
       "      <th>cost</th>\n",
       "      <th>description</th>\n",
       "      <th>dt</th>\n",
       "      <th>dt_s</th>\n",
       "    </tr>\n",
       "  </thead>\n",
       "  <tbody>\n",
       "    <tr>\n",
       "      <th>0</th>\n",
       "      <td>bq</td>\n",
       "      <td>h</td>\n",
       "      <td>1</td>\n",
       "      <td>h_1GB_qual</td>\n",
       "      <td>5_query_test</td>\n",
       "      <td>5</td>\n",
       "      <td>2020-05-05 05:33:07.557000+00:00</td>\n",
       "      <td>2020-05-05 05:33:09.660000+00:00</td>\n",
       "      <td>230599591</td>\n",
       "      <td>230686720.0</td>\n",
       "      <td>{0: {'_properties': {'name': 'S00: Input', 'id...</td>\n",
       "      <td>NaN</td>\n",
       "      <td>bq_5_query_test</td>\n",
       "      <td>00:00:02.103000</td>\n",
       "      <td>2.103</td>\n",
       "    </tr>\n",
       "    <tr>\n",
       "      <th>4</th>\n",
       "      <td>bq</td>\n",
       "      <td>h</td>\n",
       "      <td>1</td>\n",
       "      <td>h_1GB_qual</td>\n",
       "      <td>10_query_test</td>\n",
       "      <td>10</td>\n",
       "      <td>2020-05-05 05:36:37.404000+00:00</td>\n",
       "      <td>2020-05-05 05:36:40.336000+00:00</td>\n",
       "      <td>222417387</td>\n",
       "      <td>223346688.0</td>\n",
       "      <td>{0: {'_properties': {'name': 'S00: Input', 'id...</td>\n",
       "      <td>NaN</td>\n",
       "      <td>bq_10_query_test</td>\n",
       "      <td>00:00:02.932000</td>\n",
       "      <td>2.932</td>\n",
       "    </tr>\n",
       "    <tr>\n",
       "      <th>6</th>\n",
       "      <td>bq</td>\n",
       "      <td>h</td>\n",
       "      <td>1</td>\n",
       "      <td>h_1GB_qual</td>\n",
       "      <td>14_query_test</td>\n",
       "      <td>14</td>\n",
       "      <td>2020-05-05 05:39:46.499000+00:00</td>\n",
       "      <td>2020-05-05 05:39:47.564000+00:00</td>\n",
       "      <td>198158826</td>\n",
       "      <td>198180864.0</td>\n",
       "      <td>{0: {'_properties': {'name': 'S00: Input', 'id...</td>\n",
       "      <td>NaN</td>\n",
       "      <td>bq_14_query_test</td>\n",
       "      <td>00:00:01.065000</td>\n",
       "      <td>1.065</td>\n",
       "    </tr>\n",
       "    <tr>\n",
       "      <th>9</th>\n",
       "      <td>bq</td>\n",
       "      <td>h</td>\n",
       "      <td>1</td>\n",
       "      <td>h_1GB_qual</td>\n",
       "      <td>6_query_test</td>\n",
       "      <td>6</td>\n",
       "      <td>2020-05-05 05:33:18.877000+00:00</td>\n",
       "      <td>2020-05-05 05:33:19.813000+00:00</td>\n",
       "      <td>192038880</td>\n",
       "      <td>192937984.0</td>\n",
       "      <td>{0: {'_properties': {'name': 'S00: Input', 'id...</td>\n",
       "      <td>NaN</td>\n",
       "      <td>bq_6_query_test</td>\n",
       "      <td>00:00:00.936000</td>\n",
       "      <td>0.936</td>\n",
       "    </tr>\n",
       "    <tr>\n",
       "      <th>10</th>\n",
       "      <td>bq</td>\n",
       "      <td>h</td>\n",
       "      <td>1</td>\n",
       "      <td>h_1GB_qual</td>\n",
       "      <td>15_query_test</td>\n",
       "      <td>15</td>\n",
       "      <td>2020-05-05 05:55:40.977000+00:00</td>\n",
       "      <td>2020-05-05 05:55:44.123000+00:00</td>\n",
       "      <td>192758651</td>\n",
       "      <td>192937984.0</td>\n",
       "      <td>{}</td>\n",
       "      <td>NaN</td>\n",
       "      <td>bq_15_query_test</td>\n",
       "      <td>00:00:03.146000</td>\n",
       "      <td>3.146</td>\n",
       "    </tr>\n",
       "  </tbody>\n",
       "</table>\n",
       "</div>"
      ],
      "text/plain": [
       "    db test  scale  bq_dataset           desc  query_n  \\\n",
       "0   bq    h      1  h_1GB_qual   5_query_test        5   \n",
       "4   bq    h      1  h_1GB_qual  10_query_test       10   \n",
       "6   bq    h      1  h_1GB_qual  14_query_test       14   \n",
       "9   bq    h      1  h_1GB_qual   6_query_test        6   \n",
       "10  bq    h      1  h_1GB_qual  15_query_test       15   \n",
       "\n",
       "                                  t0                                t1  \\\n",
       "0   2020-05-05 05:33:07.557000+00:00  2020-05-05 05:33:09.660000+00:00   \n",
       "4   2020-05-05 05:36:37.404000+00:00  2020-05-05 05:36:40.336000+00:00   \n",
       "6   2020-05-05 05:39:46.499000+00:00  2020-05-05 05:39:47.564000+00:00   \n",
       "9   2020-05-05 05:33:18.877000+00:00  2020-05-05 05:33:19.813000+00:00   \n",
       "10  2020-05-05 05:55:40.977000+00:00  2020-05-05 05:55:44.123000+00:00   \n",
       "\n",
       "    bytes_processed  bytes_billed  \\\n",
       "0         230599591   230686720.0   \n",
       "4         222417387   223346688.0   \n",
       "6         198158826   198180864.0   \n",
       "9         192038880   192937984.0   \n",
       "10        192758651   192937984.0   \n",
       "\n",
       "                                           query_plan cost       description  \\\n",
       "0   {0: {'_properties': {'name': 'S00: Input', 'id...  NaN   bq_5_query_test   \n",
       "4   {0: {'_properties': {'name': 'S00: Input', 'id...  NaN  bq_10_query_test   \n",
       "6   {0: {'_properties': {'name': 'S00: Input', 'id...  NaN  bq_14_query_test   \n",
       "9   {0: {'_properties': {'name': 'S00: Input', 'id...  NaN   bq_6_query_test   \n",
       "10                                                 {}  NaN  bq_15_query_test   \n",
       "\n",
       "                dt   dt_s  \n",
       "0  00:00:02.103000  2.103  \n",
       "4  00:00:02.932000  2.932  \n",
       "6  00:00:01.065000  1.065  \n",
       "9  00:00:00.936000  0.936  \n",
       "10 00:00:03.146000  3.146  "
      ]
     },
     "execution_count": 38,
     "metadata": {},
     "output_type": "execute_result"
    }
   ],
   "source": [
    "df[df.db == \"bq\"].head()"
   ]
  },
  {
   "cell_type": "code",
   "execution_count": 49,
   "metadata": {},
   "outputs": [],
   "source": [
    "dfp_dt = df.pivot(index=x_type, columns=\"db\", values=\"dt_s\")\n",
    "dfp_bp = df.pivot(index=x_type, columns=\"db\", values=\"bytes_processed\")"
   ]
  },
  {
   "cell_type": "code",
   "execution_count": 50,
   "metadata": {},
   "outputs": [],
   "source": [
    "def bytes_to_TebiByte(b):\n",
    "    return b / 1099511627776"
   ]
  },
  {
   "cell_type": "code",
   "execution_count": 51,
   "metadata": {},
   "outputs": [],
   "source": [
    "dfp_bp = dfp_bp.apply(bytes_to_TebiByte)"
   ]
  },
  {
   "cell_type": "markdown",
   "metadata": {},
   "source": [
    "### Plot Results"
   ]
  },
  {
   "cell_type": "code",
   "execution_count": 52,
   "metadata": {},
   "outputs": [],
   "source": [
    "sns.set_style(\"darkgrid\", {\"xtick.bottom\":True})"
   ]
  },
  {
   "cell_type": "code",
   "execution_count": 53,
   "metadata": {},
   "outputs": [],
   "source": [
    "flatui = [\"#9b59b6\", \"#3498db\", \"#95a5a6\", \"#e74c3c\", \"#34495e\", \"#2ecc71\"]\n",
    "set2 = sns.color_palette(\"Set2\", 8)\n",
    "hls = sns.hls_palette(n_colors=12)"
   ]
  },
  {
   "cell_type": "code",
   "execution_count": 54,
   "metadata": {},
   "outputs": [
    {
     "name": "stdout",
     "output_type": "stream",
     "text": [
      "\n"
     ]
    },
    {
     "data": {
      "image/png": "[encoded data removed]",
      "text/plain": [
       "<Figure size 720x576 with 2 Axes>"
      ]
     },
     "metadata": {},
     "output_type": "display_data"
    }
   ],
   "source": [
    "plot_name = \"{}_{}GB_{}_comparison.png\".format(test, scale_factor, x_type)\n",
    "\n",
    "# invert bytes processed for plotting\n",
    "_dfp_bp = dfp_bp.copy() * -1\n",
    "color_palette = hls\n",
    "fig, (ax1, ax2) = plt.subplots(2, 1)\n",
    "ax1 = dfp_dt.plot.bar(ax=ax1, legend=False, color=color_palette)\n",
    "ax2 = _dfp_bp.plot.bar(ax=ax2, legend=False, color=color_palette);\n",
    "\n",
    "# set the figure size BEFORE adjusting ticks\n",
    "fig.set_size_inches(10, 8, forward=True)\n",
    "\n",
    "handles, labels = ax1.get_legend_handles_labels()\n",
    "\n",
    "ax1.set_ylabel(\"Time in Seconds\")\n",
    "ax1.set_xlabel(None)\n",
    "ax1_xticklabels = ax1.get_xticklabels()\n",
    "ax1.set_xticklabels(labels=[])\n",
    "\n",
    "ax2.set_ylabel(\"TiB Processed\")\n",
    "ax2.set_xlabel(\"Query Number\")\n",
    "ticks =  ax2.get_yticks()\n",
    "ticks = [\"{:01.3f}\".format(abs(tick)) for tick in ticks]\n",
    "ax2.set_yticklabels(ticks);\n",
    "ax2.xaxis.tick_top()\n",
    "\n",
    "#plt.subplots_adjust(hspace=0.11)\n",
    "#plt.subplots_adjust(right=0.79)\n",
    "\n",
    "fig.legend(handles, labels, loc=\"right\")\n",
    "#fig.legend(handles, labels, loc=\"lower center\")\n",
    "plt.savefig(config.fp_plots + config.sep + plot_name, bbox_to_anchor='tight')\n",
    "print();"
   ]
  },
  {
   "cell_type": "code",
   "execution_count": 55,
   "metadata": {},
   "outputs": [
    {
     "data": {
      "text/plain": [
       "db\n",
       "bq    56.206000\n",
       "sf    28.677865\n",
       "dtype: float64"
      ]
     },
     "execution_count": 55,
     "metadata": {},
     "output_type": "execute_result"
    }
   ],
   "source": [
    "dfp_dt.sum()"
   ]
  },
  {
   "cell_type": "code",
   "execution_count": null,
   "metadata": {},
   "outputs": [],
   "source": [
    "dfp_bp.sum()"
   ]
  },
  {
   "cell_type": "code",
   "execution_count": null,
   "metadata": {},
   "outputs": [],
   "source": [
    "dfp_bp.sum() * 5"
   ]
  },
  {
   "cell_type": "code",
   "execution_count": null,
   "metadata": {},
   "outputs": [],
   "source": []
  }
 ],
 "metadata": {
  "kernelspec": {
   "display_name": "Python 3",
   "language": "python",
   "name": "python3"
  },
  "language_info": {
   "codemirror_mode": {
    "name": "ipython",
    "version": 3
   },
   "file_extension": ".py",
   "mimetype": "text/x-python",
   "name": "python",
   "nbconvert_exporter": "python",
   "pygments_lexer": "ipython3",
   "version": "3.8.2"
  }
 },
 "nbformat": 4,
 "nbformat_minor": 4
}
