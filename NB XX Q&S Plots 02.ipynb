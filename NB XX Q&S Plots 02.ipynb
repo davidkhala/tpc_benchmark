{
 "cells": [
  {
   "cell_type": "markdown",
   "metadata": {},
   "source": [
    "### TPC Benchmarking  \n",
    "Results Plotting  "
   ]
  },
  {
   "cell_type": "code",
   "execution_count": 1,
   "metadata": {},
   "outputs": [],
   "source": [
    "import glob\n",
    "import numpy as np\n",
    "import pandas as pd\n",
    "import matplotlib.pyplot as plt\n",
    "import seaborn as sns\n",
    "from datetime import datetime\n",
    "\n",
    "sns.set_context(\"notebook\", font_scale=1.0, rc={\"lines.linewidth\": 1.0})\n",
    "\n",
    "import config"
   ]
  },
  {
   "cell_type": "code",
   "execution_count": 24,
   "metadata": {},
   "outputs": [],
   "source": [
    "test = \"TPC-DS\"\n",
    "scale_factor = \"100\""
   ]
  },
  {
   "cell_type": "raw",
   "metadata": {},
   "source": [
    "fps = config.fp_results + config.sep + \"tpc-h_single_queries\"\n",
    "fps"
   ]
  },
  {
   "cell_type": "code",
   "execution_count": 25,
   "metadata": {},
   "outputs": [
    {
     "data": {
      "text/plain": [
       "'/home/colin/code/bq_snowflake_benchmark/results/tpc-ds_single_queries'"
      ]
     },
     "execution_count": 25,
     "metadata": {},
     "output_type": "execute_result"
    }
   ],
   "source": [
    "fps = config.fp_results + config.sep + \"tpc-ds_single_queries\"\n",
    "fps"
   ]
  },
  {
   "cell_type": "code",
   "execution_count": 26,
   "metadata": {},
   "outputs": [],
   "source": [
    "fps_results = glob.glob(fps + \"/*_*_results*\")"
   ]
  },
  {
   "cell_type": "code",
   "execution_count": 27,
   "metadata": {},
   "outputs": [],
   "source": [
    "fps_time = glob.glob(fps + \"/*_*_times*\")"
   ]
  },
  {
   "cell_type": "code",
   "execution_count": 28,
   "metadata": {},
   "outputs": [],
   "source": [
    "d = []\n",
    "for fp in fps_time:\n",
    "    df = pd.read_csv(fp, index_col=None, header=0)\n",
    "    d.append(df)\n",
    "\n",
    "df = pd.concat(d, axis=0, ignore_index=True)"
   ]
  },
  {
   "cell_type": "code",
   "execution_count": 29,
   "metadata": {},
   "outputs": [
    {
     "data": {
      "text/plain": [
       "'/'"
      ]
     },
     "execution_count": 29,
     "metadata": {},
     "output_type": "execute_result"
    }
   ],
   "source": [
    "fps[0]"
   ]
  },
  {
   "cell_type": "code",
   "execution_count": 30,
   "metadata": {},
   "outputs": [],
   "source": [
    "if \"query\" in fps_time[0]:\n",
    "    x_type = \"query_n\"\n",
    "else:\n",
    "    x_type = \"stream_p\""
   ]
  },
  {
   "cell_type": "raw",
   "metadata": {},
   "source": [
    "def ts_converter(t_str):\n",
    "    try:\n",
    "        float(t_str)\n",
    "        return pd.to_datetime(datetime.fromtimestamp(t_str))\n",
    "    except:\n",
    "        return pd.to_datetime(t_str)"
   ]
  },
  {
   "cell_type": "raw",
   "metadata": {},
   "source": [
    "def parse(fp, x_type):\n",
    "    x_type = {\"q\":\"query_n\", \"s\":\"stream_p\"}[x_type]\n",
    "    df = pd.read_csv(fp)\n",
    "    #df.t0 = pd.to_datetime(df.t0)\n",
    "    #df.t1 = pd.to_datetime(df.t1)\n",
    "    df.t0 = df.t0.apply(ts_converter)\n",
    "    df.t1 = df.t1.apply(ts_converter)\n",
    "    df[\"dt\"] = df.t1 - df.t0\n",
    "    df[\"dt_s\"] = df.dt.dt.total_seconds()\n",
    "    return df"
   ]
  },
  {
   "cell_type": "raw",
   "metadata": {},
   "source": [
    "df = pd.DataFrame(None)\n",
    "for _fp in fps:\n",
    "    _df = parse(fpb + _fp, \"q\")\n",
    "    df = pd.concat([df, _df])"
   ]
  },
  {
   "cell_type": "code",
   "execution_count": 31,
   "metadata": {},
   "outputs": [
    {
     "data": {
      "text/html": [
       "<div>\n",
       "<style scoped>\n",
       "    .dataframe tbody tr th:only-of-type {\n",
       "        vertical-align: middle;\n",
       "    }\n",
       "\n",
       "    .dataframe tbody tr th {\n",
       "        vertical-align: top;\n",
       "    }\n",
       "\n",
       "    .dataframe thead th {\n",
       "        text-align: right;\n",
       "    }\n",
       "</style>\n",
       "<table border=\"1\" class=\"dataframe\">\n",
       "  <thead>\n",
       "    <tr style=\"text-align: right;\">\n",
       "      <th></th>\n",
       "      <th>db</th>\n",
       "      <th>test</th>\n",
       "      <th>scale</th>\n",
       "      <th>bq_dataset</th>\n",
       "      <th>desc</th>\n",
       "      <th>query_n</th>\n",
       "      <th>t0</th>\n",
       "      <th>t1</th>\n",
       "      <th>bytes_processed</th>\n",
       "      <th>bytes_billed</th>\n",
       "      <th>query_plan</th>\n",
       "      <th>cost</th>\n",
       "    </tr>\n",
       "  </thead>\n",
       "  <tbody>\n",
       "    <tr>\n",
       "      <th>0</th>\n",
       "      <td>bq</td>\n",
       "      <td>ds</td>\n",
       "      <td>100</td>\n",
       "      <td>ds_1GB_01</td>\n",
       "      <td>stream_01_test</td>\n",
       "      <td>96</td>\n",
       "      <td>2020-05-08 00:23:51.114000+00:00</td>\n",
       "      <td>2020-05-08 00:23:52.203000+00:00</td>\n",
       "      <td>68235614</td>\n",
       "      <td>69206016.0</td>\n",
       "      <td>{0: {'_properties': {'name': 'S00: Input', 'id...</td>\n",
       "      <td>NaN</td>\n",
       "    </tr>\n",
       "    <tr>\n",
       "      <th>1</th>\n",
       "      <td>bq</td>\n",
       "      <td>ds</td>\n",
       "      <td>100</td>\n",
       "      <td>ds_1GB_01</td>\n",
       "      <td>stream_01_test</td>\n",
       "      <td>7</td>\n",
       "      <td>2020-05-08 00:23:54.616000+00:00</td>\n",
       "      <td>2020-05-08 00:23:56.672000+00:00</td>\n",
       "      <td>227931059</td>\n",
       "      <td>228589568.0</td>\n",
       "      <td>{0: {'_properties': {'name': 'S00: Input', 'id...</td>\n",
       "      <td>NaN</td>\n",
       "    </tr>\n",
       "    <tr>\n",
       "      <th>2</th>\n",
       "      <td>bq</td>\n",
       "      <td>ds</td>\n",
       "      <td>100</td>\n",
       "      <td>ds_1GB_01</td>\n",
       "      <td>stream_01_test</td>\n",
       "      <td>75</td>\n",
       "      <td>2020-05-08 00:23:58.144000+00:00</td>\n",
       "      <td>2020-05-08 00:24:01.554000+00:00</td>\n",
       "      <td>216333580</td>\n",
       "      <td>217055232.0</td>\n",
       "      <td>{0: {'_properties': {'name': 'S00: Input', 'id...</td>\n",
       "      <td>NaN</td>\n",
       "    </tr>\n",
       "    <tr>\n",
       "      <th>3</th>\n",
       "      <td>bq</td>\n",
       "      <td>ds</td>\n",
       "      <td>100</td>\n",
       "      <td>ds_1GB_01</td>\n",
       "      <td>stream_01_test</td>\n",
       "      <td>44</td>\n",
       "      <td>2020-05-08 00:24:03.190000+00:00</td>\n",
       "      <td>2020-05-08 00:24:03.967000+00:00</td>\n",
       "      <td>89618261</td>\n",
       "      <td>90177536.0</td>\n",
       "      <td>{0: {'_properties': {'name': 'S00: Input', 'id...</td>\n",
       "      <td>NaN</td>\n",
       "    </tr>\n",
       "    <tr>\n",
       "      <th>4</th>\n",
       "      <td>bq</td>\n",
       "      <td>ds</td>\n",
       "      <td>100</td>\n",
       "      <td>ds_1GB_01</td>\n",
       "      <td>stream_01_test</td>\n",
       "      <td>39</td>\n",
       "      <td>2020-05-08 00:24:05.256000+00:00</td>\n",
       "      <td>2020-05-08 00:24:15.420000+00:00</td>\n",
       "      <td>746066432</td>\n",
       "      <td>746586112.0</td>\n",
       "      <td>{}</td>\n",
       "      <td>NaN</td>\n",
       "    </tr>\n",
       "  </tbody>\n",
       "</table>\n",
       "</div>"
      ],
      "text/plain": [
       "   db test  scale bq_dataset            desc  query_n  \\\n",
       "0  bq   ds    100  ds_1GB_01  stream_01_test       96   \n",
       "1  bq   ds    100  ds_1GB_01  stream_01_test        7   \n",
       "2  bq   ds    100  ds_1GB_01  stream_01_test       75   \n",
       "3  bq   ds    100  ds_1GB_01  stream_01_test       44   \n",
       "4  bq   ds    100  ds_1GB_01  stream_01_test       39   \n",
       "\n",
       "                                 t0                                t1  \\\n",
       "0  2020-05-08 00:23:51.114000+00:00  2020-05-08 00:23:52.203000+00:00   \n",
       "1  2020-05-08 00:23:54.616000+00:00  2020-05-08 00:23:56.672000+00:00   \n",
       "2  2020-05-08 00:23:58.144000+00:00  2020-05-08 00:24:01.554000+00:00   \n",
       "3  2020-05-08 00:24:03.190000+00:00  2020-05-08 00:24:03.967000+00:00   \n",
       "4  2020-05-08 00:24:05.256000+00:00  2020-05-08 00:24:15.420000+00:00   \n",
       "\n",
       "   bytes_processed  bytes_billed  \\\n",
       "0         68235614    69206016.0   \n",
       "1        227931059   228589568.0   \n",
       "2        216333580   217055232.0   \n",
       "3         89618261    90177536.0   \n",
       "4        746066432   746586112.0   \n",
       "\n",
       "                                          query_plan  cost  \n",
       "0  {0: {'_properties': {'name': 'S00: Input', 'id...   NaN  \n",
       "1  {0: {'_properties': {'name': 'S00: Input', 'id...   NaN  \n",
       "2  {0: {'_properties': {'name': 'S00: Input', 'id...   NaN  \n",
       "3  {0: {'_properties': {'name': 'S00: Input', 'id...   NaN  \n",
       "4                                                 {}   NaN  "
      ]
     },
     "execution_count": 31,
     "metadata": {},
     "output_type": "execute_result"
    }
   ],
   "source": [
    "df.head()"
   ]
  },
  {
   "cell_type": "code",
   "execution_count": 32,
   "metadata": {},
   "outputs": [],
   "source": [
    "df = df.sort_values(by=\"bq_dataset\")"
   ]
  },
  {
   "cell_type": "code",
   "execution_count": null,
   "metadata": {},
   "outputs": [],
   "source": []
  },
  {
   "cell_type": "code",
   "execution_count": 33,
   "metadata": {},
   "outputs": [],
   "source": [
    "df[\"description\"] = df.db + \"_\" + df.desc"
   ]
  },
  {
   "cell_type": "code",
   "execution_count": null,
   "metadata": {},
   "outputs": [],
   "source": []
  },
  {
   "cell_type": "code",
   "execution_count": 34,
   "metadata": {},
   "outputs": [],
   "source": [
    "df.t0 = pd.to_datetime(df.t0)\n",
    "df.t1 = pd.to_datetime(df.t1)\n",
    "\n",
    "df[\"dt\"] = df.t1 - df.t0\n",
    "df[\"dt_s\"] = df.dt.dt.total_seconds()"
   ]
  },
  {
   "cell_type": "code",
   "execution_count": 35,
   "metadata": {},
   "outputs": [
    {
     "data": {
      "text/html": [
       "<div>\n",
       "<style scoped>\n",
       "    .dataframe tbody tr th:only-of-type {\n",
       "        vertical-align: middle;\n",
       "    }\n",
       "\n",
       "    .dataframe tbody tr th {\n",
       "        vertical-align: top;\n",
       "    }\n",
       "\n",
       "    .dataframe thead th {\n",
       "        text-align: right;\n",
       "    }\n",
       "</style>\n",
       "<table border=\"1\" class=\"dataframe\">\n",
       "  <thead>\n",
       "    <tr style=\"text-align: right;\">\n",
       "      <th></th>\n",
       "      <th>db</th>\n",
       "      <th>test</th>\n",
       "      <th>scale</th>\n",
       "      <th>bq_dataset</th>\n",
       "      <th>desc</th>\n",
       "      <th>query_n</th>\n",
       "      <th>t0</th>\n",
       "      <th>t1</th>\n",
       "      <th>bytes_processed</th>\n",
       "      <th>bytes_billed</th>\n",
       "      <th>query_plan</th>\n",
       "      <th>cost</th>\n",
       "      <th>description</th>\n",
       "      <th>dt</th>\n",
       "      <th>dt_s</th>\n",
       "    </tr>\n",
       "  </thead>\n",
       "  <tbody>\n",
       "    <tr>\n",
       "      <th>197</th>\n",
       "      <td>sf</td>\n",
       "      <td>ds</td>\n",
       "      <td>100</td>\n",
       "      <td>ds_100GB_01</td>\n",
       "      <td>stream_01_test</td>\n",
       "      <td>76</td>\n",
       "      <td>2020-05-07 17:32:01.270439</td>\n",
       "      <td>2020-05-07 17:32:01.490344</td>\n",
       "      <td>-1</td>\n",
       "      <td>NaN</td>\n",
       "      <td>NaN</td>\n",
       "      <td>0.000123</td>\n",
       "      <td>sf_stream_01_test</td>\n",
       "      <td>00:00:00.219905</td>\n",
       "      <td>0.219905</td>\n",
       "    </tr>\n",
       "    <tr>\n",
       "      <th>125</th>\n",
       "      <td>sf</td>\n",
       "      <td>ds</td>\n",
       "      <td>100</td>\n",
       "      <td>ds_100GB_01</td>\n",
       "      <td>stream_01_test</td>\n",
       "      <td>63</td>\n",
       "      <td>2020-05-07 17:30:48.425815</td>\n",
       "      <td>2020-05-07 17:30:48.577248</td>\n",
       "      <td>-1</td>\n",
       "      <td>NaN</td>\n",
       "      <td>NaN</td>\n",
       "      <td>0.000085</td>\n",
       "      <td>sf_stream_01_test</td>\n",
       "      <td>00:00:00.151433</td>\n",
       "      <td>0.151433</td>\n",
       "    </tr>\n",
       "    <tr>\n",
       "      <th>126</th>\n",
       "      <td>sf</td>\n",
       "      <td>ds</td>\n",
       "      <td>100</td>\n",
       "      <td>ds_100GB_01</td>\n",
       "      <td>stream_01_test</td>\n",
       "      <td>69</td>\n",
       "      <td>2020-05-07 17:30:48.660981</td>\n",
       "      <td>2020-05-07 17:30:49.319833</td>\n",
       "      <td>-1</td>\n",
       "      <td>NaN</td>\n",
       "      <td>NaN</td>\n",
       "      <td>0.000369</td>\n",
       "      <td>sf_stream_01_test</td>\n",
       "      <td>00:00:00.658852</td>\n",
       "      <td>0.658852</td>\n",
       "    </tr>\n",
       "    <tr>\n",
       "      <th>127</th>\n",
       "      <td>sf</td>\n",
       "      <td>ds</td>\n",
       "      <td>100</td>\n",
       "      <td>ds_100GB_01</td>\n",
       "      <td>stream_01_test</td>\n",
       "      <td>60</td>\n",
       "      <td>2020-05-07 17:30:49.446311</td>\n",
       "      <td>2020-05-07 17:30:49.727847</td>\n",
       "      <td>-1</td>\n",
       "      <td>NaN</td>\n",
       "      <td>NaN</td>\n",
       "      <td>0.000158</td>\n",
       "      <td>sf_stream_01_test</td>\n",
       "      <td>00:00:00.281536</td>\n",
       "      <td>0.281536</td>\n",
       "    </tr>\n",
       "    <tr>\n",
       "      <th>128</th>\n",
       "      <td>sf</td>\n",
       "      <td>ds</td>\n",
       "      <td>100</td>\n",
       "      <td>ds_100GB_01</td>\n",
       "      <td>stream_01_test</td>\n",
       "      <td>59</td>\n",
       "      <td>2020-05-07 17:30:49.813184</td>\n",
       "      <td>2020-05-07 17:30:49.967080</td>\n",
       "      <td>-1</td>\n",
       "      <td>NaN</td>\n",
       "      <td>NaN</td>\n",
       "      <td>0.000086</td>\n",
       "      <td>sf_stream_01_test</td>\n",
       "      <td>00:00:00.153896</td>\n",
       "      <td>0.153896</td>\n",
       "    </tr>\n",
       "  </tbody>\n",
       "</table>\n",
       "</div>"
      ],
      "text/plain": [
       "     db test  scale   bq_dataset            desc  query_n  \\\n",
       "197  sf   ds    100  ds_100GB_01  stream_01_test       76   \n",
       "125  sf   ds    100  ds_100GB_01  stream_01_test       63   \n",
       "126  sf   ds    100  ds_100GB_01  stream_01_test       69   \n",
       "127  sf   ds    100  ds_100GB_01  stream_01_test       60   \n",
       "128  sf   ds    100  ds_100GB_01  stream_01_test       59   \n",
       "\n",
       "                             t0                          t1  bytes_processed  \\\n",
       "197  2020-05-07 17:32:01.270439  2020-05-07 17:32:01.490344               -1   \n",
       "125  2020-05-07 17:30:48.425815  2020-05-07 17:30:48.577248               -1   \n",
       "126  2020-05-07 17:30:48.660981  2020-05-07 17:30:49.319833               -1   \n",
       "127  2020-05-07 17:30:49.446311  2020-05-07 17:30:49.727847               -1   \n",
       "128  2020-05-07 17:30:49.813184  2020-05-07 17:30:49.967080               -1   \n",
       "\n",
       "     bytes_billed query_plan      cost        description              dt  \\\n",
       "197           NaN        NaN  0.000123  sf_stream_01_test 00:00:00.219905   \n",
       "125           NaN        NaN  0.000085  sf_stream_01_test 00:00:00.151433   \n",
       "126           NaN        NaN  0.000369  sf_stream_01_test 00:00:00.658852   \n",
       "127           NaN        NaN  0.000158  sf_stream_01_test 00:00:00.281536   \n",
       "128           NaN        NaN  0.000086  sf_stream_01_test 00:00:00.153896   \n",
       "\n",
       "         dt_s  \n",
       "197  0.219905  \n",
       "125  0.151433  \n",
       "126  0.658852  \n",
       "127  0.281536  \n",
       "128  0.153896  "
      ]
     },
     "execution_count": 35,
     "metadata": {},
     "output_type": "execute_result"
    }
   ],
   "source": [
    "df[df.db == \"sf\"].head()"
   ]
  },
  {
   "cell_type": "code",
   "execution_count": 36,
   "metadata": {},
   "outputs": [
    {
     "data": {
      "text/html": [
       "<div>\n",
       "<style scoped>\n",
       "    .dataframe tbody tr th:only-of-type {\n",
       "        vertical-align: middle;\n",
       "    }\n",
       "\n",
       "    .dataframe tbody tr th {\n",
       "        vertical-align: top;\n",
       "    }\n",
       "\n",
       "    .dataframe thead th {\n",
       "        text-align: right;\n",
       "    }\n",
       "</style>\n",
       "<table border=\"1\" class=\"dataframe\">\n",
       "  <thead>\n",
       "    <tr style=\"text-align: right;\">\n",
       "      <th></th>\n",
       "      <th>db</th>\n",
       "      <th>test</th>\n",
       "      <th>scale</th>\n",
       "      <th>bq_dataset</th>\n",
       "      <th>desc</th>\n",
       "      <th>query_n</th>\n",
       "      <th>t0</th>\n",
       "      <th>t1</th>\n",
       "      <th>bytes_processed</th>\n",
       "      <th>bytes_billed</th>\n",
       "      <th>query_plan</th>\n",
       "      <th>cost</th>\n",
       "      <th>description</th>\n",
       "      <th>dt</th>\n",
       "      <th>dt_s</th>\n",
       "    </tr>\n",
       "  </thead>\n",
       "  <tbody>\n",
       "    <tr>\n",
       "      <th>0</th>\n",
       "      <td>bq</td>\n",
       "      <td>ds</td>\n",
       "      <td>100</td>\n",
       "      <td>ds_1GB_01</td>\n",
       "      <td>stream_01_test</td>\n",
       "      <td>96</td>\n",
       "      <td>2020-05-08 00:23:51.114000+00:00</td>\n",
       "      <td>2020-05-08 00:23:52.203000+00:00</td>\n",
       "      <td>68235614</td>\n",
       "      <td>69206016.0</td>\n",
       "      <td>{0: {'_properties': {'name': 'S00: Input', 'id...</td>\n",
       "      <td>NaN</td>\n",
       "      <td>bq_stream_01_test</td>\n",
       "      <td>00:00:01.089000</td>\n",
       "      <td>1.089</td>\n",
       "    </tr>\n",
       "    <tr>\n",
       "      <th>96</th>\n",
       "      <td>bq</td>\n",
       "      <td>ds</td>\n",
       "      <td>100</td>\n",
       "      <td>ds_1GB_01</td>\n",
       "      <td>stream_01_test</td>\n",
       "      <td>61</td>\n",
       "      <td>2020-05-08 00:31:19.696000+00:00</td>\n",
       "      <td>2020-05-08 00:31:21.404000+00:00</td>\n",
       "      <td>137577653</td>\n",
       "      <td>138412032.0</td>\n",
       "      <td>{0: {'_properties': {'name': 'S00: Input', 'id...</td>\n",
       "      <td>NaN</td>\n",
       "      <td>bq_stream_01_test</td>\n",
       "      <td>00:00:01.708000</td>\n",
       "      <td>1.708</td>\n",
       "    </tr>\n",
       "    <tr>\n",
       "      <th>26</th>\n",
       "      <td>bq</td>\n",
       "      <td>ds</td>\n",
       "      <td>100</td>\n",
       "      <td>ds_1GB_01</td>\n",
       "      <td>stream_01_test</td>\n",
       "      <td>63</td>\n",
       "      <td>2020-05-08 00:26:00.454000+00:00</td>\n",
       "      <td>2020-05-08 00:26:01.607000+00:00</td>\n",
       "      <td>91792663</td>\n",
       "      <td>92274688.0</td>\n",
       "      <td>{0: {'_properties': {'name': 'S00: Input', 'id...</td>\n",
       "      <td>NaN</td>\n",
       "      <td>bq_stream_01_test</td>\n",
       "      <td>00:00:01.153000</td>\n",
       "      <td>1.153</td>\n",
       "    </tr>\n",
       "    <tr>\n",
       "      <th>27</th>\n",
       "      <td>bq</td>\n",
       "      <td>ds</td>\n",
       "      <td>100</td>\n",
       "      <td>ds_1GB_01</td>\n",
       "      <td>stream_01_test</td>\n",
       "      <td>69</td>\n",
       "      <td>2020-05-08 00:26:02.624000+00:00</td>\n",
       "      <td>2020-05-08 00:26:05.463000+00:00</td>\n",
       "      <td>164974180</td>\n",
       "      <td>165675008.0</td>\n",
       "      <td>{0: {'_properties': {'name': 'S00: Input', 'id...</td>\n",
       "      <td>NaN</td>\n",
       "      <td>bq_stream_01_test</td>\n",
       "      <td>00:00:02.839000</td>\n",
       "      <td>2.839</td>\n",
       "    </tr>\n",
       "    <tr>\n",
       "      <th>28</th>\n",
       "      <td>bq</td>\n",
       "      <td>ds</td>\n",
       "      <td>100</td>\n",
       "      <td>ds_1GB_01</td>\n",
       "      <td>stream_01_test</td>\n",
       "      <td>60</td>\n",
       "      <td>2020-05-08 00:26:06.732000+00:00</td>\n",
       "      <td>2020-05-08 00:26:08.168000+00:00</td>\n",
       "      <td>161213300</td>\n",
       "      <td>161480704.0</td>\n",
       "      <td>{0: {'_properties': {'name': 'S00: Input', 'id...</td>\n",
       "      <td>NaN</td>\n",
       "      <td>bq_stream_01_test</td>\n",
       "      <td>00:00:01.436000</td>\n",
       "      <td>1.436</td>\n",
       "    </tr>\n",
       "  </tbody>\n",
       "</table>\n",
       "</div>"
      ],
      "text/plain": [
       "    db test  scale bq_dataset            desc  query_n  \\\n",
       "0   bq   ds    100  ds_1GB_01  stream_01_test       96   \n",
       "96  bq   ds    100  ds_1GB_01  stream_01_test       61   \n",
       "26  bq   ds    100  ds_1GB_01  stream_01_test       63   \n",
       "27  bq   ds    100  ds_1GB_01  stream_01_test       69   \n",
       "28  bq   ds    100  ds_1GB_01  stream_01_test       60   \n",
       "\n",
       "                                  t0                                t1  \\\n",
       "0   2020-05-08 00:23:51.114000+00:00  2020-05-08 00:23:52.203000+00:00   \n",
       "96  2020-05-08 00:31:19.696000+00:00  2020-05-08 00:31:21.404000+00:00   \n",
       "26  2020-05-08 00:26:00.454000+00:00  2020-05-08 00:26:01.607000+00:00   \n",
       "27  2020-05-08 00:26:02.624000+00:00  2020-05-08 00:26:05.463000+00:00   \n",
       "28  2020-05-08 00:26:06.732000+00:00  2020-05-08 00:26:08.168000+00:00   \n",
       "\n",
       "    bytes_processed  bytes_billed  \\\n",
       "0          68235614    69206016.0   \n",
       "96        137577653   138412032.0   \n",
       "26         91792663    92274688.0   \n",
       "27        164974180   165675008.0   \n",
       "28        161213300   161480704.0   \n",
       "\n",
       "                                           query_plan  cost  \\\n",
       "0   {0: {'_properties': {'name': 'S00: Input', 'id...   NaN   \n",
       "96  {0: {'_properties': {'name': 'S00: Input', 'id...   NaN   \n",
       "26  {0: {'_properties': {'name': 'S00: Input', 'id...   NaN   \n",
       "27  {0: {'_properties': {'name': 'S00: Input', 'id...   NaN   \n",
       "28  {0: {'_properties': {'name': 'S00: Input', 'id...   NaN   \n",
       "\n",
       "          description              dt   dt_s  \n",
       "0   bq_stream_01_test 00:00:01.089000  1.089  \n",
       "96  bq_stream_01_test 00:00:01.708000  1.708  \n",
       "26  bq_stream_01_test 00:00:01.153000  1.153  \n",
       "27  bq_stream_01_test 00:00:02.839000  2.839  \n",
       "28  bq_stream_01_test 00:00:01.436000  1.436  "
      ]
     },
     "execution_count": 36,
     "metadata": {},
     "output_type": "execute_result"
    }
   ],
   "source": [
    "df[df.db == \"bq\"].head()"
   ]
  },
  {
   "cell_type": "code",
   "execution_count": 37,
   "metadata": {},
   "outputs": [],
   "source": [
    "dfp_dt = df.pivot(index=x_type, columns=\"db\", values=\"dt_s\")\n",
    "dfp_bp = df.pivot(index=x_type, columns=\"db\", values=\"bytes_processed\")"
   ]
  },
  {
   "cell_type": "code",
   "execution_count": 38,
   "metadata": {},
   "outputs": [],
   "source": [
    "def bytes_to_TebiByte(b):\n",
    "    return b / 1099511627776"
   ]
  },
  {
   "cell_type": "code",
   "execution_count": 39,
   "metadata": {},
   "outputs": [],
   "source": [
    "dfp_bp = dfp_bp.apply(bytes_to_TebiByte)"
   ]
  },
  {
   "cell_type": "markdown",
   "metadata": {},
   "source": [
    "### Plot Results"
   ]
  },
  {
   "cell_type": "code",
   "execution_count": 40,
   "metadata": {},
   "outputs": [],
   "source": [
    "sns.set_style(\"darkgrid\", {\"xtick.bottom\":True})"
   ]
  },
  {
   "cell_type": "code",
   "execution_count": 41,
   "metadata": {},
   "outputs": [],
   "source": [
    "flatui = [\"#9b59b6\", \"#3498db\", \"#95a5a6\", \"#e74c3c\", \"#34495e\", \"#2ecc71\"]\n",
    "set2 = sns.color_palette(\"Set2\", 8)\n",
    "hls = sns.hls_palette(n_colors=12)"
   ]
  },
  {
   "cell_type": "code",
   "execution_count": 44,
   "metadata": {},
   "outputs": [
    {
     "name": "stdout",
     "output_type": "stream",
     "text": [
      "\n"
     ]
    },
    {
     "data": {
      "image/png": "[encoded data removed]",
      "text/plain": [
       "<Figure size 2160x576 with 2 Axes>"
      ]
     },
     "metadata": {},
     "output_type": "display_data"
    }
   ],
   "source": [
    "plot_name = \"{}_{}GB_{}_comparison.png\".format(test, scale_factor, x_type)\n",
    "\n",
    "# invert bytes processed for plotting\n",
    "_dfp_bp = dfp_bp.copy() * -1\n",
    "color_palette = hls\n",
    "fig, (ax1, ax2) = plt.subplots(2, 1)\n",
    "ax1 = dfp_dt.plot.bar(ax=ax1, legend=False, color=color_palette)\n",
    "ax2 = _dfp_bp.plot.bar(ax=ax2, legend=False, color=color_palette);\n",
    "\n",
    "# set the figure size BEFORE adjusting ticks\n",
    "fig.set_size_inches(30, 8, forward=True)\n",
    "\n",
    "handles, labels = ax1.get_legend_handles_labels()\n",
    "\n",
    "ax1.set_ylabel(\"Time in Seconds\")\n",
    "ax1.set_xlabel(None)\n",
    "ax1_xticklabels = ax1.get_xticklabels()\n",
    "ax1.set_xticklabels(labels=[])\n",
    "\n",
    "ax2.set_ylabel(\"TiB Processed\")\n",
    "ax2.set_xlabel(\"Query Number\")\n",
    "ticks =  ax2.get_yticks()\n",
    "ticks = [\"{:01.3f}\".format(abs(tick)) for tick in ticks]\n",
    "ax2.set_yticklabels(ticks);\n",
    "ax2.xaxis.tick_top()\n",
    "\n",
    "#plt.subplots_adjust(hspace=0.11)\n",
    "#plt.subplots_adjust(right=0.79)\n",
    "\n",
    "fig.legend(handles, labels, loc=\"right\")\n",
    "#fig.legend(handles, labels, loc=\"lower center\")\n",
    "plt.savefig(config.fp_plots + config.sep + plot_name, bbox_to_anchor='tight')\n",
    "print();"
   ]
  },
  {
   "cell_type": "code",
   "execution_count": 21,
   "metadata": {},
   "outputs": [
    {
     "data": {
      "text/plain": [
       "db\n",
       "bq    56.206000\n",
       "sf    28.677865\n",
       "dtype: float64"
      ]
     },
     "execution_count": 21,
     "metadata": {},
     "output_type": "execute_result"
    }
   ],
   "source": [
    "dfp_dt.sum()"
   ]
  },
  {
   "cell_type": "code",
   "execution_count": 22,
   "metadata": {},
   "outputs": [
    {
     "data": {
      "text/plain": [
       "db\n",
       "bq    3.759623e-03\n",
       "sf   -2.000888e-11\n",
       "dtype: float64"
      ]
     },
     "execution_count": 22,
     "metadata": {},
     "output_type": "execute_result"
    }
   ],
   "source": [
    "dfp_bp.sum()"
   ]
  },
  {
   "cell_type": "code",
   "execution_count": 23,
   "metadata": {},
   "outputs": [
    {
     "data": {
      "text/plain": [
       "db\n",
       "bq    1.879812e-02\n",
       "sf   -1.000444e-10\n",
       "dtype: float64"
      ]
     },
     "execution_count": 23,
     "metadata": {},
     "output_type": "execute_result"
    }
   ],
   "source": [
    "dfp_bp.sum() * 5"
   ]
  },
  {
   "cell_type": "code",
   "execution_count": null,
   "metadata": {},
   "outputs": [],
   "source": []
  }
 ],
 "metadata": {
  "kernelspec": {
   "display_name": "Python 3",
   "language": "python",
   "name": "python3"
  },
  "language_info": {
   "codemirror_mode": {
    "name": "ipython",
    "version": 3
   },
   "file_extension": ".py",
   "mimetype": "text/x-python",
   "name": "python",
   "nbconvert_exporter": "python",
   "pygments_lexer": "ipython3",
   "version": "3.8.2"
  }
 },
 "nbformat": 4,
 "nbformat_minor": 4
}
