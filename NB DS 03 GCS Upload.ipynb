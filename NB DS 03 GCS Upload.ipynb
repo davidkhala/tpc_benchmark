{
 "cells": [
  {
   "cell_type": "markdown",
   "metadata": {},
   "source": [
    "## TPC-DS Data Upload  \n",
    "Upload locally generated data to Google Cloud Storage"
   ]
  },
  {
   "cell_type": "code",
   "execution_count": 1,
   "metadata": {},
   "outputs": [],
   "source": [
    "from google.cloud import storage"
   ]
  },
  {
   "cell_type": "code",
   "execution_count": 2,
   "metadata": {},
   "outputs": [],
   "source": [
    "import config, gcp_storage"
   ]
  },
  {
   "cell_type": "code",
   "execution_count": 3,
   "metadata": {},
   "outputs": [],
   "source": [
    "gcs_client = storage.Client.from_service_account_json(config.gcp_cred_file)"
   ]
  },
  {
   "cell_type": "code",
   "execution_count": 4,
   "metadata": {},
   "outputs": [
    {
     "data": {
      "text/plain": [
       "'tpc-benchmark-5947'"
      ]
     },
     "execution_count": 4,
     "metadata": {},
     "output_type": "execute_result"
    }
   ],
   "source": [
    "bucket_name = config.gcs_data_bucket\n",
    "bucket_name"
   ]
  },
  {
   "cell_type": "code",
   "execution_count": 5,
   "metadata": {},
   "outputs": [
    {
     "data": {
      "text/plain": [
       "'/home/colin/code/bq_snowflake_benchmark/ds/1GB'"
      ]
     },
     "execution_count": 5,
     "metadata": {},
     "output_type": "execute_result"
    }
   ],
   "source": [
    "local_directory = config.fp_ds_output + config.sep + \"1GB\"\n",
    "local_directory"
   ]
  },
  {
   "cell_type": "raw",
   "metadata": {},
   "source": [
    "local_directory = config.fp_ds_output + config.sep + \"2GB\"\n",
    "local_directory"
   ]
  },
  {
   "cell_type": "code",
   "execution_count": 6,
   "metadata": {},
   "outputs": [],
   "source": [
    "ps = gcp_storage.PooledSync(client=gcs_client,\n",
    "                            bucket_name=bucket_name,\n",
    "                            local_directory=local_directory,\n",
    "                            local_base_directory=config.cwd)"
   ]
  },
  {
   "cell_type": "code",
   "execution_count": 7,
   "metadata": {},
   "outputs": [],
   "source": [
    "ps.pipeline()"
   ]
  },
  {
   "cell_type": "code",
   "execution_count": 8,
   "metadata": {},
   "outputs": [],
   "source": [
    "df1 = gcp_storage.parser(ps.log)"
   ]
  },
  {
   "cell_type": "code",
   "execution_count": 9,
   "metadata": {},
   "outputs": [
    {
     "data": {
      "text/html": [
       "<div>\n",
       "<style scoped>\n",
       "    .dataframe tbody tr th:only-of-type {\n",
       "        vertical-align: middle;\n",
       "    }\n",
       "\n",
       "    .dataframe tbody tr th {\n",
       "        vertical-align: top;\n",
       "    }\n",
       "\n",
       "    .dataframe thead th {\n",
       "        text-align: right;\n",
       "    }\n",
       "</style>\n",
       "<table border=\"1\" class=\"dataframe\">\n",
       "  <thead>\n",
       "    <tr style=\"text-align: right;\">\n",
       "      <th></th>\n",
       "      <th>dt</th>\n",
       "      <th>action</th>\n",
       "      <th>file</th>\n",
       "      <th>chunk_size</th>\n",
       "      <th>http_code</th>\n",
       "      <th>bytes_uploaded</th>\n",
       "      <th>total_bytes</th>\n",
       "      <th>f_size</th>\n",
       "      <th>exception</th>\n",
       "      <th>bucket</th>\n",
       "    </tr>\n",
       "  </thead>\n",
       "  <tbody>\n",
       "    <tr>\n",
       "      <th>0</th>\n",
       "      <td>2020-04-14T20:46:29.642894</td>\n",
       "      <td>start</td>\n",
       "      <td>warehouse_1_12.dat</td>\n",
       "      <td></td>\n",
       "      <td></td>\n",
       "      <td></td>\n",
       "      <td></td>\n",
       "      <td>580</td>\n",
       "      <td></td>\n",
       "      <td>tpc-benchmark-5947</td>\n",
       "    </tr>\n",
       "    <tr>\n",
       "      <th>1</th>\n",
       "      <td>2020-04-14T20:46:29.774942</td>\n",
       "      <td>chunk</td>\n",
       "      <td>warehouse_1_12.dat</td>\n",
       "      <td>262144</td>\n",
       "      <td>200</td>\n",
       "      <td></td>\n",
       "      <td></td>\n",
       "      <td></td>\n",
       "      <td></td>\n",
       "      <td></td>\n",
       "    </tr>\n",
       "    <tr>\n",
       "      <th>2</th>\n",
       "      <td>2020-04-14T20:46:29.774948</td>\n",
       "      <td>done</td>\n",
       "      <td>warehouse_1_12.dat</td>\n",
       "      <td></td>\n",
       "      <td></td>\n",
       "      <td>580</td>\n",
       "      <td>580</td>\n",
       "      <td></td>\n",
       "      <td></td>\n",
       "      <td></td>\n",
       "    </tr>\n",
       "    <tr>\n",
       "      <th>3</th>\n",
       "      <td>2020-04-14T20:46:31.013508</td>\n",
       "      <td>start</td>\n",
       "      <td>household_demographics_1_12.dat</td>\n",
       "      <td></td>\n",
       "      <td></td>\n",
       "      <td></td>\n",
       "      <td></td>\n",
       "      <td>144453</td>\n",
       "      <td></td>\n",
       "      <td>tpc-benchmark-5947</td>\n",
       "    </tr>\n",
       "    <tr>\n",
       "      <th>4</th>\n",
       "      <td>2020-04-14T20:46:33.853985</td>\n",
       "      <td>chunk</td>\n",
       "      <td>household_demographics_1_12.dat</td>\n",
       "      <td>262144</td>\n",
       "      <td>200</td>\n",
       "      <td></td>\n",
       "      <td></td>\n",
       "      <td></td>\n",
       "      <td></td>\n",
       "      <td></td>\n",
       "    </tr>\n",
       "    <tr>\n",
       "      <th>...</th>\n",
       "      <td>...</td>\n",
       "      <td>...</td>\n",
       "      <td>...</td>\n",
       "      <td>...</td>\n",
       "      <td>...</td>\n",
       "      <td>...</td>\n",
       "      <td>...</td>\n",
       "      <td>...</td>\n",
       "      <td>...</td>\n",
       "      <td>...</td>\n",
       "    </tr>\n",
       "    <tr>\n",
       "      <th>4826</th>\n",
       "      <td>2020-04-14T21:15:23.379506</td>\n",
       "      <td>chunk</td>\n",
       "      <td>store_returns_1_12.dat</td>\n",
       "      <td>262144</td>\n",
       "      <td>308</td>\n",
       "      <td></td>\n",
       "      <td></td>\n",
       "      <td></td>\n",
       "      <td></td>\n",
       "      <td></td>\n",
       "    </tr>\n",
       "    <tr>\n",
       "      <th>4827</th>\n",
       "      <td>2020-04-14T21:15:23.777172</td>\n",
       "      <td>chunk</td>\n",
       "      <td>store_returns_1_12.dat</td>\n",
       "      <td>262144</td>\n",
       "      <td>308</td>\n",
       "      <td></td>\n",
       "      <td></td>\n",
       "      <td></td>\n",
       "      <td></td>\n",
       "      <td></td>\n",
       "    </tr>\n",
       "    <tr>\n",
       "      <th>4828</th>\n",
       "      <td>2020-04-14T21:15:24.204728</td>\n",
       "      <td>chunk</td>\n",
       "      <td>store_returns_1_12.dat</td>\n",
       "      <td>262144</td>\n",
       "      <td>308</td>\n",
       "      <td></td>\n",
       "      <td></td>\n",
       "      <td></td>\n",
       "      <td></td>\n",
       "      <td></td>\n",
       "    </tr>\n",
       "    <tr>\n",
       "      <th>4829</th>\n",
       "      <td>2020-04-14T21:15:24.531795</td>\n",
       "      <td>chunk</td>\n",
       "      <td>store_returns_1_12.dat</td>\n",
       "      <td>262144</td>\n",
       "      <td>200</td>\n",
       "      <td></td>\n",
       "      <td></td>\n",
       "      <td></td>\n",
       "      <td></td>\n",
       "      <td></td>\n",
       "    </tr>\n",
       "    <tr>\n",
       "      <th>4830</th>\n",
       "      <td>2020-04-14T21:15:24.531806</td>\n",
       "      <td>done</td>\n",
       "      <td>store_returns_1_12.dat</td>\n",
       "      <td></td>\n",
       "      <td></td>\n",
       "      <td>32422491</td>\n",
       "      <td>32422491</td>\n",
       "      <td></td>\n",
       "      <td></td>\n",
       "      <td></td>\n",
       "    </tr>\n",
       "  </tbody>\n",
       "</table>\n",
       "<p>4831 rows × 10 columns</p>\n",
       "</div>"
      ],
      "text/plain": [
       "                              dt action                             file  \\\n",
       "0     2020-04-14T20:46:29.642894  start               warehouse_1_12.dat   \n",
       "1     2020-04-14T20:46:29.774942  chunk               warehouse_1_12.dat   \n",
       "2     2020-04-14T20:46:29.774948   done               warehouse_1_12.dat   \n",
       "3     2020-04-14T20:46:31.013508  start  household_demographics_1_12.dat   \n",
       "4     2020-04-14T20:46:33.853985  chunk  household_demographics_1_12.dat   \n",
       "...                          ...    ...                              ...   \n",
       "4826  2020-04-14T21:15:23.379506  chunk           store_returns_1_12.dat   \n",
       "4827  2020-04-14T21:15:23.777172  chunk           store_returns_1_12.dat   \n",
       "4828  2020-04-14T21:15:24.204728  chunk           store_returns_1_12.dat   \n",
       "4829  2020-04-14T21:15:24.531795  chunk           store_returns_1_12.dat   \n",
       "4830  2020-04-14T21:15:24.531806   done           store_returns_1_12.dat   \n",
       "\n",
       "     chunk_size http_code bytes_uploaded total_bytes  f_size exception  \\\n",
       "0                                                        580             \n",
       "1        262144       200                                                \n",
       "2                                    580         580                     \n",
       "3                                                     144453             \n",
       "4        262144       200                                                \n",
       "...         ...       ...            ...         ...     ...       ...   \n",
       "4826     262144       308                                                \n",
       "4827     262144       308                                                \n",
       "4828     262144       308                                                \n",
       "4829     262144       200                                                \n",
       "4830                            32422491    32422491                     \n",
       "\n",
       "                  bucket  \n",
       "0     tpc-benchmark-5947  \n",
       "1                         \n",
       "2                         \n",
       "3     tpc-benchmark-5947  \n",
       "4                         \n",
       "...                  ...  \n",
       "4826                      \n",
       "4827                      \n",
       "4828                      \n",
       "4829                      \n",
       "4830                      \n",
       "\n",
       "[4831 rows x 10 columns]"
      ]
     },
     "execution_count": 9,
     "metadata": {},
     "output_type": "execute_result"
    }
   ],
   "source": [
    "df1"
   ]
  },
  {
   "cell_type": "code",
   "execution_count": null,
   "metadata": {},
   "outputs": [],
   "source": []
  }
 ],
 "metadata": {
  "kernelspec": {
   "display_name": "Python 3",
   "language": "python",
   "name": "python3"
  },
  "language_info": {
   "codemirror_mode": {
    "name": "ipython",
    "version": 3
   },
   "file_extension": ".py",
   "mimetype": "text/x-python",
   "name": "python",
   "nbconvert_exporter": "python",
   "pygments_lexer": "ipython3",
   "version": "3.8.2"
  }
 },
 "nbformat": 4,
 "nbformat_minor": 4
}
