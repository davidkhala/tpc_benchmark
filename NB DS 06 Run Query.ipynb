{
 "cells": [
  {
   "cell_type": "markdown",
   "metadata": {},
   "source": [
    "## TPC-DS Query Execution"
   ]
  },
  {
   "cell_type": "code",
   "execution_count": 1,
   "metadata": {},
   "outputs": [],
   "source": [
    "import config, ds_bq"
   ]
  },
  {
   "cell_type": "code",
   "execution_count": 2,
   "metadata": {},
   "outputs": [],
   "source": [
    "from importlib import reload"
   ]
  },
  {
   "cell_type": "markdown",
   "metadata": {},
   "source": [
    "#### 1. Single Query Generation and Evaluation"
   ]
  },
  {
   "cell_type": "code",
   "execution_count": 3,
   "metadata": {},
   "outputs": [
    {
     "name": "stdout",
     "output_type": "stream",
     "text": [
      "TPC-DS dsqgen parameters\n",
      "========================\n",
      "command & kwargs: ['./dsqgen', '-VERBOSE', '-SCALE', '100', '-RNGSEED', '13', '-TEMPLATE', 'query1.tpl', '-FILTER', '-DIALECT', 'sqlserver_bq', '-DIRECTORY', '/home/colin/code/bq_snowflake_benchmark/tpl/bq_ds']\n",
      "cwd: /home/colin/code/bq_snowflake_benchmark/ds/v2.11.0rc2/tools\n",
      "\n",
      "QUERY: 1\n",
      "=========\n",
      "\n",
      "Standard Out:\n",
      "=============\n",
      "\n",
      "with customer_total_return as\n",
      "(select sr_customer_sk as ctr_customer_sk\n",
      ",sr_store_sk as ctr_store_sk\n",
      ",sum(SR_RETURN_AMT) as ctr_total_return\n",
      "from store_returns\n",
      ",date_dim\n",
      "where sr_returned_date_sk = d_date_sk\n",
      "and d_year =1998\n",
      "group by sr_customer_sk\n",
      ",sr_store_sk)\n",
      " select  c_customer_id\n",
      "from customer_total_return ctr1\n",
      ",store\n",
      ",customer\n",
      "where ctr1.ctr_total_return > (select avg(ctr_total_return)*1.2\n",
      "from customer_total_return ctr2\n",
      "where ctr1.ctr_store_sk = ctr2.ctr_store_sk)\n",
      "and s_store_sk = ctr1.ctr_store_sk\n",
      "and s_state = 'AL'\n",
      "and ctr1.ctr_customer_sk = c_customer_sk\n",
      "order by c_customer_id\n",
      "limit 100;\n",
      "\n",
      "\n",
      "\n",
      "\n",
      "Error Out\n",
      "=========\n",
      "qgen2 Query Generator (Version 2.11.0)\n",
      "Copyright Transaction Processing Performance Council (TPC) 2001 - 2019\n",
      "Warning: Selected scale factor is NOT valid for result publication\n",
      "Parsed 1 templates\n",
      "\n",
      "\n",
      "Query Statistics\n",
      "================\n",
      "Total Time Elapsed: 0:00:12.987000\n",
      "Bytes Processed: 942369244\n",
      "Bytes Billed: 942669824\n",
      "\n",
      "Head of Result:\n",
      "===============\n",
      "      c_customer_id\n",
      "0  AAAAAAAAAAAADBAA\n",
      "1  AAAAAAAAAAAAPAAA\n",
      "2  AAAAAAAAAAABLAAA\n",
      "3  AAAAAAAAAAACFBAA\n",
      "4  AAAAAAAAAAACJBAA\n"
     ]
    }
   ],
   "source": [
    "n = 1\n",
    "scale = 100\n",
    "tpl_dir = config.fp_query_templates + config.sep + \"bq_ds\"\n",
    "qual = None\n",
    "\n",
    "project = \"tpc-benchmarking-9432\"\n",
    "dataset = \"ds_100GB_01\"\n",
    "\n",
    "(n, t0, t1, \n",
    " bytes_processed, \n",
    " bytes_billed, \n",
    " query_text, df) = ds_bq.query_n(n=n,\n",
    "                                 template_dir=tpl_dir,\n",
    "                                 scale=scale,\n",
    "                                 qual=qual,\n",
    "                                 project=project,\n",
    "                                 dataset=dataset,\n",
    "                                 verbose=True\n",
    "                                 )"
   ]
  },
  {
   "cell_type": "markdown",
   "metadata": {},
   "source": [
    "#### 2. Run stream permutation order of querys in BQ Syntax"
   ]
  },
  {
   "cell_type": "code",
   "execution_count": 4,
   "metadata": {},
   "outputs": [
    {
     "name": "stdout",
     "output_type": "stream",
     "text": [
      "TPC-DS dsqgen parameters\n",
      "========================\n",
      "command & kwargs: ['./dsqgen', '-VERBOSE', '-OUTPUT_DIR', '/home/colin/code/bq_snowflake_benchmark/ds/temp_queries', '-STREAM', '2', '-INPUT', '/home/colin/code/bq_snowflake_benchmark/tpl/bq_ds/templates.lst', '-SCALE', '100', '-RNGSEED', '13', '-DIALECT', 'sqlserver_tpc', '-DIRECTORY', '/home/colin/code/bq_snowflake_benchmark/tpl/bq_ds']\n",
      "cwd: /home/colin/code/bq_snowflake_benchmark/ds/v2.11.0rc2/tools\n",
      "\n",
      "QUERY STREAM: 1\n",
      "=================\n",
      "\n",
      "Source File\n",
      "===========\n",
      "/home/colin/code/bq_snowflake_benchmark/ds/temp_queries/query_1.sql\n",
      "\n",
      "Standard Out:\n",
      "=============\n",
      "No Standard Output.\n",
      "\n",
      "Error Out\n",
      "=========\n",
      "qgen2 Query Generator (Version 2.11.0)\n",
      "Copyright Transaction Processing Performance Council (TPC) 2001 - 2019\n",
      "Warning: Selected scale factor is NOT valid for result publication\n",
      "Parsed 99 templates\n",
      "\n",
      "\n",
      "Query Statistics\n",
      "================\n",
      "Total Time Elapsed: 0:29:28.411000\n",
      "Bytes Processed: 1098746622044\n",
      "Bytes Billed: 1098801741824\n",
      "\n",
      "Head of Result:\n",
      "===============\n",
      "        customer_id customer_first_name customer_last_name\n",
      "0  AAAAAAAAAAACEAAA                None               None\n",
      "1  AAAAAAAAAAAHBAAA                None               None\n",
      "2  AAAAAAAAAABEDAAA                None               None\n",
      "3  AAAAAAAAAABFDAAA                None               None\n",
      "4  AAAAAAAAAACLEAAA                None               Reis\n"
     ]
    }
   ],
   "source": [
    "p = 1\n",
    "scale = 100\n",
    "tpl_dir = config.fp_query_templates + config.sep + \"bq_ds\"\n",
    "\n",
    "project = \"tpc-benchmarking-9432\"\n",
    "dataset = \"ds_100GB_01\"\n",
    "\n",
    "(p, t0, t1, \n",
    " bytes_processed, bytes_billed, \n",
    " query_text, df) = ds_bq.stream_p(p=p,\n",
    "                                  template_dir=tpl_dir,\n",
    "                                  scale=scale,\n",
    "                                  qual=True,\n",
    "                                  project=project,\n",
    "                                  dataset=dataset,\n",
    "                                  verbose=True\n",
    "                                  )"
   ]
  },
  {
   "cell_type": "code",
   "execution_count": null,
   "metadata": {},
   "outputs": [],
   "source": []
  }
 ],
 "metadata": {
  "kernelspec": {
   "display_name": "Python 3",
   "language": "python",
   "name": "python3"
  },
  "language_info": {
   "codemirror_mode": {
    "name": "ipython",
    "version": 3
   },
   "file_extension": ".py",
   "mimetype": "text/x-python",
   "name": "python",
   "nbconvert_exporter": "python",
   "pygments_lexer": "ipython3",
   "version": "3.8.2"
  }
 },
 "nbformat": 4,
 "nbformat_minor": 4
}
