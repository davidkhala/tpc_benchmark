{
 "cells": [
  {
   "cell_type": "markdown",
   "metadata": {},
   "source": [
    "## TPC-DS Query Generation  "
   ]
  },
  {
   "cell_type": "code",
   "execution_count": 1,
   "metadata": {},
   "outputs": [],
   "source": [
    "import ds_setup, config, tools"
   ]
  },
  {
   "cell_type": "raw",
   "metadata": {},
   "source": [
    "from importlib import reload"
   ]
  },
  {
   "cell_type": "raw",
   "metadata": {},
   "source": [
    "reload(config)\n",
    "reload(ds_setup)\n",
    "reload(tools);"
   ]
  },
  {
   "cell_type": "code",
   "execution_count": 2,
   "metadata": {},
   "outputs": [],
   "source": [
    "tools.make_directories()"
   ]
  },
  {
   "cell_type": "code",
   "execution_count": 3,
   "metadata": {},
   "outputs": [
    {
     "name": "stdout",
     "output_type": "stream",
     "text": [
      "Source directory: /home/colin/code/bq_snowflake_benchmark/ds/v2.11.0rc2/query_templates\n",
      "Moved all files to: /home/colin/code/bq_snowflake_benchmark/tpl/ds_ansi_gen\n",
      "Moved all files to: /home/colin/code/bq_snowflake_benchmark/tpl/ds_bq_gen\n",
      "Moved all files to: /home/colin/code/bq_snowflake_benchmark/tpl/ds_bq\n"
     ]
    }
   ],
   "source": [
    "# this will only copy template files to the destination if the directory doesn't exist\n",
    "ds_setup.copy_tpl(verbose=True)"
   ]
  },
  {
   "cell_type": "markdown",
   "metadata": {},
   "source": [
    "### 00. ANSI Default Queries  \n",
    "This is the default output and will not run correctly on BigQuery or Snowflake.  The reason we generate this output is for future reference when comparing SQL edits and performance.\n",
    "\n",
    "scale factor: 1  \n",
    "dialect: ANSI SQL\n",
    "\n",
    "templates: /tpl/ds_ansi\n",
    "output: /q/ds_00_1GB_default_ansi"
   ]
  },
  {
   "cell_type": "code",
   "execution_count": null,
   "metadata": {},
   "outputs": [],
   "source": [
    "test_name = \"ans_ds_1GB\"\n",
    "input_templates = config.fp_ds_ansi_gen_template_dir\n",
    "input_templates"
   ]
  },
  {
   "cell_type": "code",
   "execution_count": null,
   "metadata": {},
   "outputs": [],
   "source": [
    "output_queries = config.fp_query + config.sep + test_name\n",
    "tools.mkdir_safe(output_queries)\n",
    "output_queries"
   ]
  },
  {
   "cell_type": "code",
   "execution_count": null,
   "metadata": {},
   "outputs": [],
   "source": [
    "std_out, err_out = ds_setup.dsqgen(directory=input_templates,\n",
    "                                   output_dir=output_queries,\n",
    "                                   input=input_templates + config.sep + \"templates.lst\",\n",
    "                                   dialect=\"sqlserver\",\n",
    "                                   scale=1,\n",
    "                                   streams=10,\n",
    "                                   qualify='Y')\n",
    "print(std_out)\n",
    "print(err_out)"
   ]
  },
  {
   "cell_type": "markdown",
   "metadata": {},
   "source": [
    "### 01. BigQuery Qualification Queries  \n",
    "Output a copy of the queries that should run on BigQuery.  Further manual editing will be done to the output because only so much configuration of dsqgen can be done without editing the source templates.  \n",
    "\n",
    "A copy of this output will be made and edited by hand to create the 'validation' queries.\n",
    "These queries will be compared to known results to evaluate if the database has been loaded correctly.\n",
    "\n",
    "scale factor: 1\n",
    "dialect: BigQuery SQL\n",
    "\n",
    "templates: /tpl/ds_bq\n",
    "output: /q/ds_01_1GB_bq_default_validation"
   ]
  },
  {
   "cell_type": "code",
   "execution_count": null,
   "metadata": {},
   "outputs": [],
   "source": [
    "test_name = \"ds_01_1GB_bq_default_qual\"\n",
    "input_templates_bq = config.fp_ds_bq_template_dir\n",
    "input_templates_bq"
   ]
  },
  {
   "cell_type": "markdown",
   "metadata": {},
   "source": [
    "Rewrite the templates, changing ANSI SQL statements to ones that BigQuery needs."
   ]
  },
  {
   "cell_type": "markdown",
   "metadata": {},
   "source": [
    "# HERE"
   ]
  },
  {
   "cell_type": "code",
   "execution_count": null,
   "metadata": {},
   "outputs": [],
   "source": [
    "reload(config)\n",
    "reload(ds_setup)\n",
    "reload(tools);"
   ]
  },
  {
   "cell_type": "code",
   "execution_count": null,
   "metadata": {},
   "outputs": [],
   "source": [
    "ds_setup.tpl_bq_regex(tpl_dir=input_templates_bq, verbose=False)"
   ]
  },
  {
   "cell_type": "markdown",
   "metadata": {},
   "source": [
    "Alter the dsqgen configuration to use \"LIMIT\" instead of \"TOP\" and suppress ending statements."
   ]
  },
  {
   "cell_type": "code",
   "execution_count": null,
   "metadata": {},
   "outputs": [],
   "source": [
    "dialect = ds_setup.sqlserver_bq_defines(input_templates_bq)\n",
    "dialect"
   ]
  },
  {
   "cell_type": "code",
   "execution_count": null,
   "metadata": {},
   "outputs": [],
   "source": [
    "output_queries_01 = config.fp_query + config.sep + test_name\n",
    "tools.mkdir_safe(output_queries_01)\n",
    "output_queries_01"
   ]
  },
  {
   "cell_type": "code",
   "execution_count": null,
   "metadata": {},
   "outputs": [],
   "source": [
    "std_out, err_out = ds_setup.dsqgen(directory=input_templates_bq,\n",
    "                                   output_dir=output_queries_01,\n",
    "                                   input=input_templates + config.sep + \"templates.lst\",\n",
    "                                   dialect=dialect,\n",
    "                                   scale=1,\n",
    "                                   streams=1,\n",
    "                                   qualify=\"Y\")\n",
    "print(std_out)\n",
    "print(err_out)"
   ]
  },
  {
   "cell_type": "code",
   "execution_count": null,
   "metadata": {},
   "outputs": [],
   "source": [
    "break"
   ]
  },
  {
   "cell_type": "markdown",
   "metadata": {},
   "source": [
    "### 02. BigQuery Default Queries  \n",
    "Output a copy of the queries that should run on BigQuery.  Further manual editing will be done to the output because only so much configuration of dsqgen can be done without editing the source templates.  \n",
    "\n",
    "A copy of this output will be made and edited by hand to create the 'naive' queries.\n",
    "\n",
    "scale factor: 1  \n",
    "dialect: BigQuery SQL\n",
    "\n",
    "templates: /tpl/ds_bq\n",
    "output: /q/ds_02_1GB_bq_default"
   ]
  },
  {
   "cell_type": "code",
   "execution_count": null,
   "metadata": {},
   "outputs": [],
   "source": [
    "test_name = \"ds_02_1GB_bq_default\"\n",
    "input_templates = config.fp_ds_bq_template_dir"
   ]
  },
  {
   "cell_type": "code",
   "execution_count": null,
   "metadata": {},
   "outputs": [],
   "source": [
    "# add the _END = \"\" variable to all outputs\n",
    "dialect = ds_setup.sqlserver_bq_defines(input_templates)\n",
    "dialect"
   ]
  },
  {
   "cell_type": "code",
   "execution_count": null,
   "metadata": {},
   "outputs": [],
   "source": [
    "output_queries = config.fp_query + config.sep + test_name\n",
    "tools.mkdir_safe(output_queries)"
   ]
  },
  {
   "cell_type": "code",
   "execution_count": null,
   "metadata": {},
   "outputs": [],
   "source": [
    "std_out, err_out = ds_setup.dsqgen(directory=input_templates,\n",
    "                                   output_dir=output_queries,\n",
    "                                   input=input_templates + config.sep + \"templates.lst\",\n",
    "                                   dialect=dialect,\n",
    "                                   scale=1,\n",
    "                                   streams=10)\n",
    "print(std_out)\n",
    "print(err_out)"
   ]
  },
  {
   "cell_type": "markdown",
   "metadata": {},
   "source": [
    "### 03. BigQuery 1GB Naive Queries"
   ]
  },
  {
   "cell_type": "code",
   "execution_count": null,
   "metadata": {},
   "outputs": [],
   "source": [
    "_root = config.fp_query + config.sep"
   ]
  },
  {
   "cell_type": "code",
   "execution_count": null,
   "metadata": {},
   "outputs": [],
   "source": [
    "tools.mkdir_safe(_root + \"ds_03_1GB_bq_naive\")"
   ]
  },
  {
   "cell_type": "markdown",
   "metadata": {},
   "source": [
    "### 04. BigQuery 1GB Validation Queries"
   ]
  },
  {
   "cell_type": "code",
   "execution_count": null,
   "metadata": {},
   "outputs": [],
   "source": [
    "tools.mkdir_safe(_root + \"ds_04_1GB_bq_validation\")"
   ]
  },
  {
   "cell_type": "markdown",
   "metadata": {},
   "source": [
    "### 05. BigQuery 100GB Naive Queries"
   ]
  },
  {
   "cell_type": "code",
   "execution_count": null,
   "metadata": {},
   "outputs": [],
   "source": [
    "tools.mkdir_safe(_root + \"ds_05_100GB_bq_naive\")"
   ]
  },
  {
   "cell_type": "code",
   "execution_count": null,
   "metadata": {},
   "outputs": [],
   "source": []
  }
 ],
 "metadata": {
  "kernelspec": {
   "display_name": "Python 3",
   "language": "python",
   "name": "python3"
  },
  "language_info": {
   "codemirror_mode": {
    "name": "ipython",
    "version": 3
   },
   "file_extension": ".py",
   "mimetype": "text/x-python",
   "name": "python",
   "nbconvert_exporter": "python",
   "pygments_lexer": "ipython3",
   "version": "3.8.2"
  }
 },
 "nbformat": 4,
 "nbformat_minor": 4
}
