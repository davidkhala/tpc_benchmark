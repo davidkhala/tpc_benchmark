{
 "cells": [
  {
   "cell_type": "code",
   "execution_count": 1,
   "metadata": {},
   "outputs": [],
   "source": [
    "import pandas as pd\n",
    "\n",
    "pd.options.display.max_rows = 999\n",
    "pd.options.display.max_columns = 999"
   ]
  },
  {
   "cell_type": "code",
   "execution_count": 2,
   "metadata": {},
   "outputs": [],
   "source": [
    "import config, sfa, poor_security"
   ]
  },
  {
   "cell_type": "code",
   "execution_count": 3,
   "metadata": {},
   "outputs": [],
   "source": [
    "from importlib import reload"
   ]
  },
  {
   "cell_type": "code",
   "execution_count": 9,
   "metadata": {
    "pycharm": {
     "name": "#%%\n"
    }
   },
   "outputs": [
    {
     "name": "stdout",
     "output_type": "stream",
     "text": [
      "Snowflake configuration\n",
      "=======================\n",
      "Username: colin\n",
      "Account:  wja13212\n",
      "\n",
      "TPC-DS dsqgen parameters\n",
      "========================\n",
      "command & kwargs: ['./dsqgen', '-VERBOSE', '-SCALE', '1', '-RNGSEED', '13', '-TEMPLATE', 'query7.tpl', '-FILTER', '-DIALECT', 'sqlserver_tpc', '-DIRECTORY', '/home/colin/code/bq_snowflake_benchmark/tpl/sf_ds']\n",
      "cwd: /home/colin/code/bq_snowflake_benchmark/ds/v2.11.0rc2/tools\n",
      "\n"
     ]
    }
   ],
   "source": [
    "reload(sfa)\n",
    "sf = sfa.SFTPC(test=\"ds\",\n",
    "               scale=1,\n",
    "               cid=\"01\",\n",
    "               warehouse=\"TEST9000\", \n",
    "               desc=\"dev_test_01\",\n",
    "               verbose=True,\n",
    "               verbose_query=False)\n",
    "\n",
    "sf.connect()\n",
    "\n",
    "t0, t1, query_result, query_text = sf.query_n(n=7, std_out=False)\n",
    "\n",
    "sf.close()\n",
    "df = query_result.fetch_pandas_all()\n",
    "#sf.write_results_csv(df, query_n=7)"
   ]
  },
  {
   "cell_type": "code",
   "execution_count": 10,
   "metadata": {},
   "outputs": [],
   "source": [
    "dfsf7 = df.copy()"
   ]
  },
  {
   "cell_type": "code",
   "execution_count": 11,
   "metadata": {},
   "outputs": [
    {
     "name": "stdout",
     "output_type": "stream",
     "text": [
      "Stored 'dfsf7' (DataFrame)\n"
     ]
    }
   ],
   "source": [
    "%store dfsf7"
   ]
  },
  {
   "cell_type": "code",
   "execution_count": 7,
   "metadata": {},
   "outputs": [
    {
     "ename": "SyntaxError",
     "evalue": "'break' outside loop (<ipython-input-7-6aaf1f276005>, line 4)",
     "output_type": "error",
     "traceback": [
      "\u001b[0;36m  File \u001b[0;32m\"<ipython-input-7-6aaf1f276005>\"\u001b[0;36m, line \u001b[0;32m4\u001b[0m\n\u001b[0;31mSyntaxError\u001b[0m\u001b[0;31m:\u001b[0m 'break' outside loop\n"
     ]
    }
   ],
   "source": [
    "break"
   ]
  },
  {
   "cell_type": "raw",
   "metadata": {
    "pycharm": {
     "name": "#%%\n"
    }
   },
   "source": [
    "sf = sfa.SFTPC(test=\"ds\",\n",
    "               scale=1,\n",
    "               cid=\"01\",\n",
    "               warehouse=\"TEST9000\", \n",
    "               desc=\"dev_test_01\",\n",
    "               verbose=True,\n",
    "               verbose_query=False)\n",
    "\n",
    "sf.connect()\n",
    "\n",
    "sf.query_seq([7],\n",
    "             seq_id=\"t1\", qual=None, save=True, verbose_iter=True)\n",
    "\n",
    "sf.close()"
   ]
  },
  {
   "cell_type": "raw",
   "metadata": {
    "pycharm": {
     "name": "#%%\n"
    }
   },
   "source": [
    "sf = sfa.SFTPC(test=\"ds\",\n",
    "               scale=1,\n",
    "               cid=\"01\",\n",
    "               warehouse=\"TEST9000\", \n",
    "               desc=\"dev_test_01\",\n",
    "               verbose=True,\n",
    "               verbose_query=False)\n",
    "\n",
    "sf.connect()\n",
    "\n",
    "\n",
    "t0, t1, query_result, query_text = sf.query_n(n=39, std_out=True)\n",
    "#sf.query_seq([35],\n",
    "#             seq_id=\"t1\", qual=None, save=True, verbose_iter=True)\n",
    "\n",
    "sf.close()"
   ]
  },
  {
   "cell_type": "raw",
   "metadata": {},
   "source": [
    "x = query_result.fetchmany(200)"
   ]
  },
  {
   "cell_type": "raw",
   "metadata": {},
   "source": [
    "x"
   ]
  },
  {
   "cell_type": "raw",
   "metadata": {},
   "source": [
    "[x[0] for x in query_result.description]"
   ]
  },
  {
   "cell_type": "code",
   "execution_count": null,
   "metadata": {},
   "outputs": [],
   "source": []
  }
 ],
 "metadata": {
  "kernelspec": {
   "display_name": "Python 3",
   "language": "python",
   "name": "python3"
  },
  "language_info": {
   "codemirror_mode": {
    "name": "ipython",
    "version": 3
   },
   "file_extension": ".py",
   "mimetype": "text/x-python",
   "name": "python",
   "nbconvert_exporter": "python",
   "pygments_lexer": "ipython3",
   "version": "3.7.7"
  }
 },
 "nbformat": 4,
 "nbformat_minor": 4
}
