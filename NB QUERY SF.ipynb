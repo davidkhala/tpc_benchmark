{
 "cells": [
  {
   "cell_type": "code",
   "execution_count": 1,
   "metadata": {},
   "outputs": [],
   "source": [
    "import config, sfa, poor_security"
   ]
  },
  {
   "cell_type": "code",
   "execution_count": 2,
   "metadata": {
    "pycharm": {
     "name": "#%%\n"
    }
   },
   "outputs": [
    {
     "name": "stdout",
     "output_type": "stream",
     "text": [
      "Snowflake configuration\n",
      "=======================\n",
      "Username: colin\n",
      "Account:  wja13212\n",
      "\n",
      "TPC-DS dsqgen parameters\n",
      "========================\n",
      "command & kwargs: ['./dsqgen', '-VERBOSE', '-SCALE', '1', '-RNGSEED', '13', '-TEMPLATE', 'query4.tpl', '-FILTER', '-DIALECT', 'sqlserver_tpc', '-DIRECTORY', '/home/colin/code/bq_snowflake_benchmark/tpl/sf_ds']\n",
      "cwd: /home/colin/code/bq_snowflake_benchmark/ds/v2.11.0rc2/tools\n",
      "\n"
     ]
    },
    {
     "data": {
      "text/html": [
       "<div>\n",
       "<style scoped>\n",
       "    .dataframe tbody tr th:only-of-type {\n",
       "        vertical-align: middle;\n",
       "    }\n",
       "\n",
       "    .dataframe tbody tr th {\n",
       "        vertical-align: top;\n",
       "    }\n",
       "\n",
       "    .dataframe thead th {\n",
       "        text-align: right;\n",
       "    }\n",
       "</style>\n",
       "<table border=\"1\" class=\"dataframe\">\n",
       "  <thead>\n",
       "    <tr style=\"text-align: right;\">\n",
       "      <th></th>\n",
       "      <th>CUSTOMER_ID</th>\n",
       "      <th>CUSTOMER_FIRST_NAME</th>\n",
       "      <th>CUSTOMER_LAST_NAME</th>\n",
       "      <th>CUSTOMER_EMAIL_ADDRESS</th>\n",
       "    </tr>\n",
       "  </thead>\n",
       "  <tbody>\n",
       "    <tr>\n",
       "      <th>0</th>\n",
       "      <td>AAAAAAAAHNLKAAAA</td>\n",
       "      <td>Brian</td>\n",
       "      <td>Cruz</td>\n",
       "      <td>Brian.Cruz@i5.edu</td>\n",
       "    </tr>\n",
       "    <tr>\n",
       "      <th>1</th>\n",
       "      <td>AAAAAAAAJOLJAAAA</td>\n",
       "      <td>Debbie</td>\n",
       "      <td>Lawrence</td>\n",
       "      <td>Debbie.Lawrence@G.com</td>\n",
       "    </tr>\n",
       "    <tr>\n",
       "      <th>2</th>\n",
       "      <td>AAAAAAAAODNFAAAA</td>\n",
       "      <td>Kimberly</td>\n",
       "      <td>Paige</td>\n",
       "      <td>Kimberly.Paige@NbfsBa0kRonyegLd.org</td>\n",
       "    </tr>\n",
       "  </tbody>\n",
       "</table>\n",
       "</div>"
      ],
      "text/plain": [
       "        CUSTOMER_ID CUSTOMER_FIRST_NAME CUSTOMER_LAST_NAME  \\\n",
       "0  AAAAAAAAHNLKAAAA               Brian               Cruz   \n",
       "1  AAAAAAAAJOLJAAAA              Debbie           Lawrence   \n",
       "2  AAAAAAAAODNFAAAA            Kimberly              Paige   \n",
       "\n",
       "                CUSTOMER_EMAIL_ADDRESS  \n",
       "0                    Brian.Cruz@i5.edu  \n",
       "1                Debbie.Lawrence@G.com  \n",
       "2  Kimberly.Paige@NbfsBa0kRonyegLd.org  "
      ]
     },
     "execution_count": 2,
     "metadata": {},
     "output_type": "execute_result"
    }
   ],
   "source": [
    "sf = sfa.SFTPC(test=\"ds\",\n",
    "               scale=1,\n",
    "               cid=\"01\",\n",
    "               warehouse=\"TEST9000\", \n",
    "               desc=\"dev_test_01\",\n",
    "               verbose=True,\n",
    "               verbose_query=False)\n",
    "\n",
    "sf.connect()\n",
    "\n",
    "t0, t1, query_result, query_text = sf.query_n(n=4, std_out=False)\n",
    "\n",
    "sf.close()\n",
    "query_result.fetch_pandas_all()"
   ]
  },
  {
   "cell_type": "code",
   "execution_count": 3,
   "metadata": {
    "pycharm": {
     "name": "#%%\n"
    }
   },
   "outputs": [
    {
     "name": "stdout",
     "output_type": "stream",
     "text": [
      "Snowflake configuration\n",
      "=======================\n",
      "Username: colin\n",
      "Account:  wja13212\n",
      "\n",
      "===============\n",
      "START QUERY: 1\n",
      "QUERY Label: ds_1gb_01-1-dev_test_01\n",
      "TPC-DS dsqgen parameters\n",
      "========================\n",
      "command & kwargs: ['./dsqgen', '-VERBOSE', '-SCALE', '1', '-RNGSEED', '13', '-TEMPLATE', 'query1.tpl', '-FILTER', '-DIALECT', 'sqlserver_tpc', '-DIRECTORY', '/home/colin/code/bq_snowflake_benchmark/tpl/sf_ds']\n",
      "cwd: /home/colin/code/bq_snowflake_benchmark/ds/v2.11.0rc2/tools\n",
      "\n",
      "QUERY: 1\n",
      "========================================\n",
      "Query ID: 01943ac2-02f0-820f-0009-c0830002ed92\n",
      "Total Time Elapsed: 0 days 00:00:00.446248\n",
      "----------------------------------------\n",
      "\n",
      "Head of Result:\n",
      "===============\n",
      "      C_CUSTOMER_ID\n",
      "0  AAAAAAAAAAADAAAA\n",
      "1  AAAAAAAAAABABAAA\n",
      "2  AAAAAAAAAABABAAA\n",
      "3  AAAAAAAAAABBBAAA\n",
      "4  AAAAAAAAAABLAAAA\n",
      "\n",
      "===============\n",
      "START QUERY: 2\n",
      "QUERY Label: ds_1gb_01-2-dev_test_01\n",
      "TPC-DS dsqgen parameters\n",
      "========================\n",
      "command & kwargs: ['./dsqgen', '-VERBOSE', '-SCALE', '1', '-RNGSEED', '13', '-TEMPLATE', 'query2.tpl', '-FILTER', '-DIALECT', 'sqlserver_tpc', '-DIRECTORY', '/home/colin/code/bq_snowflake_benchmark/tpl/sf_ds']\n",
      "cwd: /home/colin/code/bq_snowflake_benchmark/ds/v2.11.0rc2/tools\n",
      "\n",
      "QUERY: 2\n",
      "========================================\n",
      "Query ID: 01943ac2-02b6-7000-0009-c0830002fc9e\n",
      "Total Time Elapsed: 0 days 00:00:01.704501\n",
      "----------------------------------------\n",
      "\n",
      "Head of Result:\n",
      "===============\n",
      "   D_WEEK_SEQ1 ROUND(SUN_SALES1/SUN_SALES2,2) ROUND(MON_SALES1/MON_SALES2,2)  \\\n",
      "0         5270                           3.95                           1.54   \n",
      "1         5270                           3.95                           1.54   \n",
      "2         5270                           3.95                           1.54   \n",
      "3         5270                           3.95                           1.54   \n",
      "4         5270                           3.95                           1.54   \n",
      "\n",
      "  ROUND(TUE_SALES1/TUE_SALES2,2) ROUND(WED_SALES1/WED_SALES2,2)  \\\n",
      "0                           2.04                           1.41   \n",
      "1                           2.04                           1.41   \n",
      "2                           2.04                           1.41   \n",
      "3                           2.04                           1.41   \n",
      "4                           2.04                           1.41   \n",
      "\n",
      "  ROUND(THU_SALES1/THU_SALES2,2) ROUND(FRI_SALES1/FRI_SALES2,2)  \\\n",
      "0                           3.50                           3.50   \n",
      "1                           3.50                           3.50   \n",
      "2                           3.50                           3.50   \n",
      "3                           3.50                           3.50   \n",
      "4                           3.50                           3.50   \n",
      "\n",
      "  ROUND(SAT_SALES1/SAT_SALES2,2)  \n",
      "0                           3.41  \n",
      "1                           3.41  \n",
      "2                           3.41  \n",
      "3                           3.41  \n",
      "4                           3.41  \n",
      "\n",
      "Query Sequence Statistics\n",
      "=========================\n",
      "Total Time Elapsed: 0 days 00:00:03.925713\n",
      "\n"
     ]
    }
   ],
   "source": [
    "sf = sfa.SFTPC(test=\"ds\",\n",
    "               scale=1,\n",
    "               cid=\"01\",\n",
    "               warehouse=\"TEST9000\", \n",
    "               desc=\"dev_test_01\",\n",
    "               verbose=True,\n",
    "               verbose_query=False)\n",
    "\n",
    "sf.connect()\n",
    "\n",
    "sf.query_seq([1, 2],\n",
    "             qual=None, save=True, verbose_iter=True)\n",
    "\n",
    "sf.close()"
   ]
  },
  {
   "cell_type": "code",
   "execution_count": null,
   "metadata": {},
   "outputs": [],
   "source": []
  }
 ],
 "metadata": {
  "kernelspec": {
   "display_name": "Python 3",
   "language": "python",
   "name": "python3"
  },
  "language_info": {
   "codemirror_mode": {
    "name": "ipython",
    "version": 3
   },
   "file_extension": ".py",
   "mimetype": "text/x-python",
   "name": "python",
   "nbconvert_exporter": "python",
   "pygments_lexer": "ipython3",
   "version": "3.8.2"
  }
 },
 "nbformat": 4,
 "nbformat_minor": 4
}
