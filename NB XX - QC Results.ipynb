{
 "cells": [
  {
   "cell_type": "code",
   "execution_count": 1,
   "metadata": {},
   "outputs": [],
   "source": [
    "import glob\n",
    "import pandas as pd\n",
    "import numpy as np\n",
    "\n",
    "import matplotlib.pyplot as plt\n",
    "\n",
    "import tools\n",
    "\n",
    "from pandas.testing import assert_frame_equal\n",
    "\n",
    "pd.options.display.max_rows = 999\n",
    "pd.options.display.max_columns = 999"
   ]
  },
  {
   "cell_type": "code",
   "execution_count": 2,
   "metadata": {},
   "outputs": [],
   "source": [
    "results_dir = \"/home/colin/code/bq_snowflake_benchmark/results/bqsf_ds_01_results-ds_100GB_05-dev_test_06-2020-05-27_15:32:23.711930/\""
   ]
  },
  {
   "cell_type": "raw",
   "metadata": {},
   "source": [
    "def splitter(fp):\n",
    "    x = fp.split(\".\")\n",
    "    y = x[-2].split(\"_\")[-1]\n",
    "    return y"
   ]
  },
  {
   "cell_type": "raw",
   "metadata": {},
   "source": [
    "def equals(df1, df2):\n",
    "    try:\n",
    "        assert_frame_equal(df1, df2, check_names=False)\n",
    "        return True\n",
    "    except AssertionError:\n",
    "        return False"
   ]
  },
  {
   "cell_type": "raw",
   "metadata": {},
   "source": [
    "def equals_csv(fp1, fp2):\n",
    "    _df1 = pd.read_csv(fp1)\n",
    "    _df2 = pd.read_csv(fp2)\n",
    "    try:\n",
    "        _df1 = tools.to_consistent(_df1)\n",
    "        _df2 = tools.to_consistent(_df2)\n",
    "        assert_frame_equal(_df1, _df2, \n",
    "                           check_names=False,\n",
    "                           check_exact=False,\n",
    "                           check_less_precise=2)\n",
    "        return True\n",
    "    except AssertionError:\n",
    "        return False"
   ]
  },
  {
   "cell_type": "raw",
   "metadata": {},
   "source": [
    "h = df.apply(lambda r: equals_csv(r.fp_bq, r.fp_sf), axis=1)"
   ]
  },
  {
   "cell_type": "code",
   "execution_count": 3,
   "metadata": {},
   "outputs": [],
   "source": [
    "def splitter(fp):\n",
    "    x = fp.split(\".\")\n",
    "    y = x[-2].split(\"_\")[-1]\n",
    "    return y\n",
    "\n",
    "def equals(df1, df2):\n",
    "    try:\n",
    "        assert_frame_equal(df1, df2, check_names=False)\n",
    "        return True\n",
    "    except AssertionError:\n",
    "        return False\n",
    "    \n",
    "def equals_csv(fp1, fp2):\n",
    "    _df1 = pd.read_csv(fp1)\n",
    "    _df2 = pd.read_csv(fp2)\n",
    "    try:\n",
    "        _df1 = tools.to_consistent(_df1)\n",
    "        _df2 = tools.to_consistent(_df2)\n",
    "        assert_frame_equal(_df1, _df2, \n",
    "                           check_names=False,\n",
    "                           check_exact=False,\n",
    "                           check_less_precise=2)\n",
    "        return True\n",
    "    except AssertionError:\n",
    "        return False\n",
    "\n",
    "def print_head(df, n, n0, n1):\n",
    "    r = df.loc[n]\n",
    "    \n",
    "    df1 = pd.read_csv(r.fp_bq)\n",
    "    df2 = pd.read_csv(r.fp_sf)\n",
    "    df1.fillna(value=-9999, inplace=True)\n",
    "    df2.fillna(value=-9999, inplace=True)\n",
    "    df1.columns = map(str.lower, df1.columns)\n",
    "    df2.columns = map(str.lower, df2.columns)\n",
    "\n",
    "    print(df1.head())\n",
    "    print(\"-\"*40)\n",
    "    print(df2.head())\n",
    "    print(\"-\"*40)\n",
    "\n",
    "    print(\"=\"*40)\n",
    "    print(df1.loc[n0:n1])\n",
    "    print(\"-\"*40)\n",
    "    print(df2.loc[n0:n1])\n",
    "    \n",
    "    print(\"=\"*40)\n",
    "    \n",
    "    print(df1.loc[n0:n1])\n",
    "    print(\"-\"*40)\n",
    "    print(df2.loc[n0:n1])\n",
    "    print(\"-\"*40)\n",
    "    \n",
    "    print(df1.eq(df2))\n",
    "    return df1, df2\n",
    "    \n",
    "def results_qc(results_dir):\n",
    "    \"\"\"Compare the CSV results from a dual SF/BQ query sequence\n",
    "    \n",
    "    Parameters\n",
    "    ----------\n",
    "    results_dir : str, abs path to folder that contains results files\n",
    "    \"\"\"\n",
    "    \n",
    "    fps_query_sf = glob.glob(results_dir + \"query_result_sf*\")\n",
    "    fps_query_bq = glob.glob(results_dir + \"query_result_bq*\")\n",
    "    \n",
    "    dfbq = pd.DataFrame([[fp, int(splitter(fp))] for fp in fps_query_bq],\n",
    "                        columns=[\"fp_bq\", \"q_bq\"])\n",
    "    \n",
    "    dfsf = pd.DataFrame([[fp, int(splitter(fp))] for fp in fps_query_sf],\n",
    "                        columns=[\"fp_sf\", \"q_sf\"])\n",
    "    \n",
    "    dfbq.sort_values(by=\"q_bq\", inplace=True)\n",
    "    dfbq.reset_index(inplace=True, drop=True)\n",
    "    \n",
    "    dfsf.sort_values(by=\"q_sf\", inplace=True)\n",
    "    dfsf.reset_index(inplace=True, drop=True)\n",
    "    \n",
    "    df = pd.concat([dfbq, dfsf], axis=1)\n",
    "    \n",
    "    df.index = df.index + 1\n",
    "    \n",
    "    result = df.apply(lambda r: equals_csv(r.fp_bq, r.fp_sf), axis=1)\n",
    "    \n",
    "    return df, result"
   ]
  },
  {
   "cell_type": "code",
   "execution_count": 4,
   "metadata": {},
   "outputs": [],
   "source": [
    "df, result = results_qc(results_dir)"
   ]
  },
  {
   "cell_type": "code",
   "execution_count": 5,
   "metadata": {},
   "outputs": [
    {
     "data": {
      "text/plain": [
       "1      True\n",
       "2     False\n",
       "3      True\n",
       "4      True\n",
       "5     False\n",
       "6      True\n",
       "7      True\n",
       "8     False\n",
       "9      True\n",
       "10     True\n",
       "11     True\n",
       "12    False\n",
       "dtype: bool"
      ]
     },
     "execution_count": 5,
     "metadata": {},
     "output_type": "execute_result"
    }
   ],
   "source": [
    "result.head(12)"
   ]
  },
  {
   "cell_type": "raw",
   "metadata": {},
   "source": [
    "failed_queries = [n+1 for n,r in enumerate(result) if r == False]"
   ]
  },
  {
   "cell_type": "raw",
   "metadata": {},
   "source": [
    "for n in failed_queries:\n",
    "    print(str(n))"
   ]
  },
  {
   "cell_type": "code",
   "execution_count": 6,
   "metadata": {},
   "outputs": [
    {
     "name": "stdout",
     "output_type": "stream",
     "text": [
      "   d_week_seq1   f0_   f1_   f2_   f3_  f4_  f5_   f6_\n",
      "0         5270  3.95  1.54  2.04  1.41  3.5  3.5  3.41\n",
      "1         5270  3.95  1.54  2.04  1.41  3.5  3.5  3.41\n",
      "2         5270  3.95  1.54  2.04  1.41  3.5  3.5  3.41\n",
      "3         5270  3.95  1.54  2.04  1.41  3.5  3.5  3.41\n",
      "4         5270  3.95  1.54  2.04  1.41  3.5  3.5  3.41\n",
      "----------------------------------------\n",
      "   d_week_seq1   f0_  round(mon_sales1/mon_sales2,2)  \\\n",
      "0         5270  3.95                            1.54   \n",
      "1         5270  3.95                            1.54   \n",
      "2         5270  3.95                            1.54   \n",
      "3         5270  3.95                            1.54   \n",
      "4         5270  3.95                            1.54   \n",
      "\n",
      "   round(tue_sales1/tue_sales2,2)  round(wed_sales1/wed_sales2,2)  \\\n",
      "0                            2.04                            1.41   \n",
      "1                            2.04                            1.41   \n",
      "2                            2.04                            1.41   \n",
      "3                            2.04                            1.41   \n",
      "4                            2.04                            1.41   \n",
      "\n",
      "   round(thu_sales1/thu_sales2,2)  round(fri_sales1/fri_sales2,2)  \\\n",
      "0                             3.5                             3.5   \n",
      "1                             3.5                             3.5   \n",
      "2                             3.5                             3.5   \n",
      "3                             3.5                             3.5   \n",
      "4                             3.5                             3.5   \n",
      "\n",
      "   round(sat_sales1/sat_sales2,2)  \n",
      "0                            3.41  \n",
      "1                            3.41  \n",
      "2                            3.41  \n",
      "3                            3.41  \n",
      "4                            3.41  \n",
      "----------------------------------------\n",
      "========================================\n",
      "    d_week_seq1   f0_   f1_   f2_   f3_  f4_   f5_   f6_\n",
      "24         5271  0.92  0.97  1.08  0.82  0.9  1.05  1.41\n",
      "25         5271  0.92  0.97  1.08  0.82  0.9  1.05  1.41\n",
      "26         5271  0.92  0.97  1.08  0.82  0.9  1.05  1.41\n",
      "27         5271  0.92  0.97  1.08  0.82  0.9  1.05  1.41\n",
      "28         5271  0.92  0.97  1.08  0.82  0.9  1.05  1.41\n",
      "----------------------------------------\n",
      "    d_week_seq1   f0_  round(mon_sales1/mon_sales2,2)  \\\n",
      "24         5271  0.92                            0.97   \n",
      "25         5271  0.92                            0.97   \n",
      "26         5271  0.92                            0.97   \n",
      "27         5271  0.92                            0.97   \n",
      "28         5271  0.92                            0.97   \n",
      "\n",
      "    round(tue_sales1/tue_sales2,2)  round(wed_sales1/wed_sales2,2)  \\\n",
      "24                            1.08                            0.82   \n",
      "25                            1.08                            0.82   \n",
      "26                            1.08                            0.82   \n",
      "27                            1.08                            0.82   \n",
      "28                            1.08                            0.82   \n",
      "\n",
      "    round(thu_sales1/thu_sales2,2)  round(fri_sales1/fri_sales2,2)  \\\n",
      "24                             0.9                            1.05   \n",
      "25                             0.9                            1.05   \n",
      "26                             0.9                            1.05   \n",
      "27                             0.9                            1.05   \n",
      "28                             0.9                            1.05   \n",
      "\n",
      "    round(sat_sales1/sat_sales2,2)  \n",
      "24                            1.41  \n",
      "25                            1.41  \n",
      "26                            1.41  \n",
      "27                            1.41  \n",
      "28                            1.41  \n",
      "========================================\n",
      "    d_week_seq1   f0_   f1_   f2_   f3_  f4_   f5_   f6_\n",
      "24         5271  0.92  0.97  1.08  0.82  0.9  1.05  1.41\n",
      "25         5271  0.92  0.97  1.08  0.82  0.9  1.05  1.41\n",
      "26         5271  0.92  0.97  1.08  0.82  0.9  1.05  1.41\n",
      "27         5271  0.92  0.97  1.08  0.82  0.9  1.05  1.41\n",
      "28         5271  0.92  0.97  1.08  0.82  0.9  1.05  1.41\n",
      "----------------------------------------\n",
      "    d_week_seq1   f0_  round(mon_sales1/mon_sales2,2)  \\\n",
      "24         5271  0.92                            0.97   \n",
      "25         5271  0.92                            0.97   \n",
      "26         5271  0.92                            0.97   \n",
      "27         5271  0.92                            0.97   \n",
      "28         5271  0.92                            0.97   \n",
      "\n",
      "    round(tue_sales1/tue_sales2,2)  round(wed_sales1/wed_sales2,2)  \\\n",
      "24                            1.08                            0.82   \n",
      "25                            1.08                            0.82   \n",
      "26                            1.08                            0.82   \n",
      "27                            1.08                            0.82   \n",
      "28                            1.08                            0.82   \n",
      "\n",
      "    round(thu_sales1/thu_sales2,2)  round(fri_sales1/fri_sales2,2)  \\\n",
      "24                             0.9                            1.05   \n",
      "25                             0.9                            1.05   \n",
      "26                             0.9                            1.05   \n",
      "27                             0.9                            1.05   \n",
      "28                             0.9                            1.05   \n",
      "\n",
      "    round(sat_sales1/sat_sales2,2)  \n",
      "24                            1.41  \n",
      "25                            1.41  \n",
      "26                            1.41  \n",
      "27                            1.41  \n",
      "28                            1.41  \n",
      "----------------------------------------\n",
      "      d_week_seq1   f0_    f1_    f2_    f3_    f4_    f5_    f6_  \\\n",
      "0            True  True  False  False  False  False  False  False   \n",
      "1            True  True  False  False  False  False  False  False   \n",
      "2            True  True  False  False  False  False  False  False   \n",
      "3            True  True  False  False  False  False  False  False   \n",
      "4            True  True  False  False  False  False  False  False   \n",
      "...           ...   ...    ...    ...    ...    ...    ...    ...   \n",
      "2508         True  True  False  False  False  False  False  False   \n",
      "2509         True  True  False  False  False  False  False  False   \n",
      "2510         True  True  False  False  False  False  False  False   \n",
      "2511         True  True  False  False  False  False  False  False   \n",
      "2512         True  True  False  False  False  False  False  False   \n",
      "\n",
      "      round(fri_sales1/fri_sales2,2)  round(mon_sales1/mon_sales2,2)  \\\n",
      "0                              False                           False   \n",
      "1                              False                           False   \n",
      "2                              False                           False   \n",
      "3                              False                           False   \n",
      "4                              False                           False   \n",
      "...                              ...                             ...   \n",
      "2508                           False                           False   \n",
      "2509                           False                           False   \n",
      "2510                           False                           False   \n",
      "2511                           False                           False   \n",
      "2512                           False                           False   \n",
      "\n",
      "      round(sat_sales1/sat_sales2,2)  round(thu_sales1/thu_sales2,2)  \\\n",
      "0                              False                           False   \n",
      "1                              False                           False   \n",
      "2                              False                           False   \n",
      "3                              False                           False   \n",
      "4                              False                           False   \n",
      "...                              ...                             ...   \n",
      "2508                           False                           False   \n",
      "2509                           False                           False   \n",
      "2510                           False                           False   \n",
      "2511                           False                           False   \n",
      "2512                           False                           False   \n",
      "\n",
      "      round(tue_sales1/tue_sales2,2)  round(wed_sales1/wed_sales2,2)  \n",
      "0                              False                           False  \n",
      "1                              False                           False  \n",
      "2                              False                           False  \n",
      "3                              False                           False  \n",
      "4                              False                           False  \n",
      "...                              ...                             ...  \n",
      "2508                           False                           False  \n",
      "2509                           False                           False  \n",
      "2510                           False                           False  \n",
      "2511                           False                           False  \n",
      "2512                           False                           False  \n",
      "\n",
      "[2513 rows x 14 columns]\n"
     ]
    }
   ],
   "source": [
    "d1, d2 = print_head(df=df, n=2, n0=24, n1=28)"
   ]
  },
  {
   "cell_type": "code",
   "execution_count": 7,
   "metadata": {},
   "outputs": [
    {
     "data": {
      "text/plain": [
       "d_week_seq1    5271.00\n",
       "f0_               0.92\n",
       "f1_               0.97\n",
       "f2_               1.08\n",
       "f3_               0.82\n",
       "f4_               0.90\n",
       "f5_               1.05\n",
       "f6_               1.41\n",
       "Name: 26, dtype: float64"
      ]
     },
     "execution_count": 7,
     "metadata": {},
     "output_type": "execute_result"
    }
   ],
   "source": [
    "d1.loc[26]"
   ]
  },
  {
   "cell_type": "code",
   "execution_count": 8,
   "metadata": {},
   "outputs": [
    {
     "data": {
      "text/plain": [
       "d_week_seq1                       5271.00\n",
       "f0_                                  0.92\n",
       "round(mon_sales1/mon_sales2,2)       0.97\n",
       "round(tue_sales1/tue_sales2,2)       1.08\n",
       "round(wed_sales1/wed_sales2,2)       0.82\n",
       "round(thu_sales1/thu_sales2,2)       0.90\n",
       "round(fri_sales1/fri_sales2,2)       1.05\n",
       "round(sat_sales1/sat_sales2,2)       1.41\n",
       "Name: 26, dtype: float64"
      ]
     },
     "execution_count": 8,
     "metadata": {},
     "output_type": "execute_result"
    }
   ],
   "source": [
    "d2.loc[26]"
   ]
  },
  {
   "cell_type": "raw",
   "metadata": {},
   "source": [
    "d1.loc[26, \"agg4\"]"
   ]
  },
  {
   "cell_type": "raw",
   "metadata": {},
   "source": [
    "d2.loc[26, \"agg4\"]"
   ]
  },
  {
   "cell_type": "code",
   "execution_count": null,
   "metadata": {},
   "outputs": [],
   "source": []
  }
 ],
 "metadata": {
  "kernelspec": {
   "display_name": "Python 3",
   "language": "python",
   "name": "python3"
  },
  "language_info": {
   "codemirror_mode": {
    "name": "ipython",
    "version": 3
   },
   "file_extension": ".py",
   "mimetype": "text/x-python",
   "name": "python",
   "nbconvert_exporter": "python",
   "pygments_lexer": "ipython3",
   "version": "3.7.7"
  }
 },
 "nbformat": 4,
 "nbformat_minor": 4
}
