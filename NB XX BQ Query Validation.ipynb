{
 "cells": [
  {
   "cell_type": "markdown",
   "metadata": {},
   "source": [
    "## TPC-DS BQ Query Validation"
   ]
  },
  {
   "cell_type": "code",
   "execution_count": 1,
   "metadata": {},
   "outputs": [],
   "source": [
    "from google.cloud import bigquery"
   ]
  },
  {
   "cell_type": "code",
   "execution_count": 2,
   "metadata": {},
   "outputs": [],
   "source": [
    "import ds_setup, config, tools"
   ]
  },
  {
   "cell_type": "code",
   "execution_count": 3,
   "metadata": {},
   "outputs": [],
   "source": [
    "from importlib import reload"
   ]
  },
  {
   "cell_type": "code",
   "execution_count": 4,
   "metadata": {},
   "outputs": [],
   "source": [
    "client = bigquery.Client.from_service_account_json(config.gcp_cred_file)\n",
    "job_config = bigquery.QueryJobConfig()\n",
    "job_config.default_dataset = \"tpc-benchmarking-9432.ds_1GB_qual\"\n",
    "\n",
    "job_config.dry_run = False         # only approximate the time and cost\n",
    "job_config.use_query_cache = False  # default is True, (try to used cached results)"
   ]
  },
  {
   "cell_type": "code",
   "execution_count": 7,
   "metadata": {},
   "outputs": [
    {
     "data": {
      "text/plain": [
       "'/home/colin/code/bq_snowflake_benchmark/tpl/bq_ds'"
      ]
     },
     "execution_count": 7,
     "metadata": {},
     "output_type": "execute_result"
    }
   ],
   "source": [
    "config.fp_ds_bq_template_dir"
   ]
  },
  {
   "cell_type": "code",
   "execution_count": 10,
   "metadata": {},
   "outputs": [
    {
     "name": "stdout",
     "output_type": "stream",
     "text": [
      "Total Time Elapsed: 0:00:07.300000\n",
      "Bytes Processed: 807940588\n",
      "Bytes Billed: 809500672\n",
      "Head of Result:\n",
      "   w_warehouse_sk  i_item_sk  d_moy    mean       cov  w_warehouse_sk_2  \\\n",
      "0               2       1762      4  245.75  1.571286                 2   \n",
      "1               3       1357      4  165.20  1.877086                 3   \n",
      "2               3       7760      4  172.40  1.589182                 3   \n",
      "3               3      11228      4  248.80  1.690155                 3   \n",
      "4               3      17431      4  202.50  1.558516                 3   \n",
      "\n",
      "   i_item_sk_2  d_moy_2      mean_2     cov_2  \n",
      "0         1762        5  375.000000  1.031116  \n",
      "1         1357        5  212.000000  1.055940  \n",
      "2         7760        5  405.666667  1.064087  \n",
      "3        11228        5  288.000000  1.579861  \n",
      "4        17431        5  325.750000  1.165160  \n"
     ]
    }
   ],
   "source": [
    "n = 39\n",
    "\n",
    "query_text, err_out = ds_setup.qgen_template(n, config.fp_ds_bq_template_dir, scale=1, qual=False)\n",
    "\n",
    "query_job = client.query(query_text, job_config=job_config)\n",
    "\n",
    "result = query_job.result()\n",
    "df = result.to_dataframe()\n",
    "\n",
    "t0 = query_job.started\n",
    "t1 = query_job.ended\n",
    "dt = t1 - t0\n",
    "bytes_processed = query_job.total_bytes_processed\n",
    "bytes_billed = query_job.total_bytes_billed\n",
    "\n",
    "print(\"Total Time Elapsed: {}\".format(dt))\n",
    "print(\"Bytes Processed: {}\".format(bytes_processed))\n",
    "print(\"Bytes Billed: {}\".format(bytes_billed))\n",
    "print(\"Head of Result:\")\n",
    "print(df.head())"
   ]
  },
  {
   "cell_type": "code",
   "execution_count": null,
   "metadata": {},
   "outputs": [],
   "source": []
  },
  {
   "cell_type": "code",
   "execution_count": null,
   "metadata": {},
   "outputs": [],
   "source": [
    "break"
   ]
  },
  {
   "cell_type": "code",
   "execution_count": null,
   "metadata": {},
   "outputs": [],
   "source": [
    "def ds_qgen_stream(tpl_directory, out_directory, scale=1, streams=10):\n",
    "    \"\"\"Generate DS query streams\n",
    "    \n",
    "    Parameters\n",
    "    ----------\n",
    "    tpl_directory : str, absolute path to directory of query templates\n",
    "    out_directory : str, absolute path to directory to output query streams\n",
    "    scale : int, scale factor of db being queried. Defaults to 1.\n",
    "    streams : int, number of query streams to generate. Defaults to 10.\n",
    "    \n",
    "    Returns\n",
    "    -------\n",
    "    str : BigQuery SQL query\n",
    "    \"\"\"\n",
    "    std_out, err_out = ds_setup.dsqgen(directory=tpl_directory,  # the whole directory will be used\n",
    "                                       input=tpl_directory + config.sep + \"templates.lst\",\n",
    "                                       output_dir=out_directory,\n",
    "                                       dialect=\"sqlserver_bq\",\n",
    "                                       scale=scale,\n",
    "                                       streams=streams)\n",
    "    return std_out, err_out"
   ]
  },
  {
   "cell_type": "code",
   "execution_count": null,
   "metadata": {},
   "outputs": [],
   "source": [
    "test_name = \"bq_ds_1GB_01_default\""
   ]
  },
  {
   "cell_type": "code",
   "execution_count": null,
   "metadata": {},
   "outputs": [],
   "source": [
    "tpl_dir = config.fp_ds_bq_template_dir\n",
    "tpl_dir"
   ]
  },
  {
   "cell_type": "code",
   "execution_count": null,
   "metadata": {},
   "outputs": [],
   "source": [
    "out_dir = config.fp_query + config.sep + test_name\n",
    "tools.mkdir_safe(out_dir)\n",
    "out_dir"
   ]
  },
  {
   "cell_type": "code",
   "execution_count": null,
   "metadata": {},
   "outputs": [],
   "source": [
    "std_out, err_out = ds_qgen_stream(tpl_directory=tpl_dir,\n",
    "                                  out_directory=out_dir,\n",
    "                                  scale=1,\n",
    "                                  streams=10)"
   ]
  },
  {
   "cell_type": "code",
   "execution_count": null,
   "metadata": {},
   "outputs": [],
   "source": [
    "std_out"
   ]
  },
  {
   "cell_type": "code",
   "execution_count": null,
   "metadata": {},
   "outputs": [],
   "source": [
    "print(err_out)"
   ]
  },
  {
   "cell_type": "code",
   "execution_count": null,
   "metadata": {},
   "outputs": [],
   "source": [
    "client = bigquery.Client.from_service_account_json(config.gcp_cred_file)\n",
    "job_config = bigquery.QueryJobConfig()\n",
    "job_config.default_dataset = \"tpc-benchmarking-9432.ds_1GB_qual\""
   ]
  },
  {
   "cell_type": "code",
   "execution_count": null,
   "metadata": {},
   "outputs": [],
   "source": [
    "fp = '/home/colin/code/bq_snowflake_benchmark/q/bq_ds_1GB_01_default/query_0.sql'\n",
    "text = open(fp, 'r').read()\n",
    "query_job = client.query(text, job_config=job_config)\n",
    "result = query_job.result()\n",
    "\n",
    "result = query_job.result()\n",
    "\n",
    "list(result)"
   ]
  },
  {
   "cell_type": "code",
   "execution_count": null,
   "metadata": {},
   "outputs": [],
   "source": []
  }
 ],
 "metadata": {
  "kernelspec": {
   "display_name": "Python 3",
   "language": "python",
   "name": "python3"
  },
  "language_info": {
   "codemirror_mode": {
    "name": "ipython",
    "version": 3
   },
   "file_extension": ".py",
   "mimetype": "text/x-python",
   "name": "python",
   "nbconvert_exporter": "python",
   "pygments_lexer": "ipython3",
   "version": "3.8.2"
  }
 },
 "nbformat": 4,
 "nbformat_minor": 4
}
