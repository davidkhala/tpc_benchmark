{
 "cells": [
  {
   "cell_type": "markdown",
   "metadata": {},
   "source": [
    "### TPC-DS and TPC-H Query Stream Generation  \n",
    "Use dsqgen and qgen to compile SQL for a target system.  "
   ]
  },
  {
   "cell_type": "code",
   "execution_count": 1,
   "metadata": {},
   "outputs": [],
   "source": [
    "import config, ds_setup, h_setup"
   ]
  },
  {
   "cell_type": "code",
   "execution_count": 2,
   "metadata": {},
   "outputs": [],
   "source": [
    "from importlib import reload"
   ]
  },
  {
   "cell_type": "markdown",
   "metadata": {},
   "source": [
    "#### 1. TPC-DS Single Query Generation  "
   ]
  },
  {
   "cell_type": "raw",
   "metadata": {},
   "source": [
    "#### SNOWFLAKE\n",
    "\n",
    "n = 1\n",
    "scale = 100\n",
    "#tpl_dir = config.fp_query_templates + config.sep + \"bq_ds\"\n",
    "tpl_dir = config.fp_query_templates + config.sep + \"sf_ds\"\n",
    "\n",
    "qual = None\n",
    "\n",
    "#query_text = ds_setup.qgen_template(n=n,\n",
    "#                                    dialect=\"sqlserver_tpc\",\n",
    "#                                    templates_dir=tpl_dir,\n",
    "#                                    scale=scale,\n",
    "#                                    qual=qual,\n",
    "#                                    verbose=True)\n",
    "\n",
    "std_out, err_out = dsqgen(directory=templates_dir,\n",
    "                          dialect=dialect,\n",
    "                          scale=scale,\n",
    "                          template=\"query{}.tpl\".format(n),\n",
    "                          filter=\"Y\",  # write to std_out\n",
    "                          rngseed=r,\n",
    "                          qualify=qual,\n",
    "                          verbose=verbose\n",
    "                          )\n",
    "\n",
    "print(\"QUERY TEXT\")\n",
    "print(\"==========\")\n",
    "#print(query_text)\n",
    "print(std_out)"
   ]
  },
  {
   "cell_type": "raw",
   "metadata": {},
   "source": [
    "# BIGQUERY\n",
    "\n",
    "n = 1\n",
    "scale = 100\n",
    "tpl_dir = config.fp_query_templates + config.sep + \"bq_ds\"\n",
    "qual = None\n",
    "\n",
    "query_text = ds_setup.qgen_template(n=n,\n",
    "                                    dialect=\"sqlserver_bq\",\n",
    "                                    templates_dir=tpl_dir,\n",
    "                                    scale=scale,\n",
    "                                    qual=qual,\n",
    "                                    verbose=True)\n",
    "print(\"QUERY TEXT\")\n",
    "print(\"==========\")\n",
    "print(query_text)"
   ]
  },
  {
   "cell_type": "markdown",
   "metadata": {},
   "source": [
    "#### 2. TPC-DS Query Stream Generation  "
   ]
  },
  {
   "cell_type": "raw",
   "metadata": {},
   "source": [
    "n = 3\n",
    "scale = 100\n",
    "qual = None\n",
    "tpl_dir = config.fp_query_templates + config.sep + \"bq_ds\"\n",
    "\n",
    "query_text = ds_setup.qgen_stream(n=n,\n",
    "                                  templates_dir=tpl_dir,\n",
    "                                  scale=scale,\n",
    "                                  #dialect=\"sqlserver_bq\",\n",
    "                                  qual=qual,\n",
    "                                  verbose=True)\n",
    "print(\"QUERY STREAM TEXT\")\n",
    "print(\"=================\")\n",
    "print(query_text)"
   ]
  },
  {
   "cell_type": "markdown",
   "metadata": {},
   "source": [
    "#### 3. TPC-H Single Query Generation"
   ]
  },
  {
   "cell_type": "code",
   "execution_count": 3,
   "metadata": {},
   "outputs": [
    {
     "ename": "SyntaxError",
     "evalue": "keyword argument repeated (<ipython-input-3-4fb0a24d60cd>, line 18)",
     "output_type": "error",
     "traceback": [
      "\u001b[0;36m  File \u001b[0;32m\"<ipython-input-3-4fb0a24d60cd>\"\u001b[0;36m, line \u001b[0;32m18\u001b[0m\n\u001b[0;31m    s=1\u001b[0m\n\u001b[0m    ^\u001b[0m\n\u001b[0;31mSyntaxError\u001b[0m\u001b[0;31m:\u001b[0m keyword argument repeated\n"
     ]
    }
   ],
   "source": [
    "n = 3\n",
    "scale = 100\n",
    "tpl_dir = config.fp_query_templates + config.sep + \"bq_h\"\n",
    "\n",
    "#query_text = h_setup.qgen_template(n=n,\n",
    "#                                   templates_dir=tpl_dir,\n",
    "#                                   scale=scale,\n",
    "#                                   qual=None,\n",
    "#                                   verbose=True)\n",
    "\n",
    "std_out, err_out = h_setup.qgen(n=n,\n",
    "                                r=r,\n",
    "                                d=qual,\n",
    "                                s=scale,\n",
    "                                templates_dir=templates_dir,\n",
    "                                verbose=verbose,\n",
    "                                x=True,\n",
    "                                #s=1\n",
    "                                )\n",
    "\n",
    "#print(\"QUERY TEXT\")\n",
    "#print(\"==========\")\n",
    "#print(query_text)\n",
    "print(std_out)\n",
    "print(\"=\"*40)\n",
    "print(err_out)"
   ]
  },
  {
   "cell_type": "code",
   "execution_count": null,
   "metadata": {},
   "outputs": [],
   "source": [
    "n = 3\n",
    "scale = 100\n",
    "tpl_dir = config.fp_query_templates + config.sep + \"sf_h\"\n",
    "\n",
    "query_text = h_setup.qgen_template(n=n,\n",
    "                                   templates_dir=tpl_dir,\n",
    "                                   scale=scale,\n",
    "                                   qual=None,\n",
    "                                   verbose=True)\n",
    "print(\"QUERY TEXT\")\n",
    "print(\"==========\")\n",
    "print(query_text)"
   ]
  },
  {
   "cell_type": "markdown",
   "metadata": {},
   "source": [
    "#### 4. TPC-H Query Stream Generation  "
   ]
  },
  {
   "cell_type": "raw",
   "metadata": {},
   "source": [
    "p = 5\n",
    "scale = 100\n",
    "qual = None\n",
    "tpl_dir = config.fp_query_templates + config.sep + \"bq_h\"\n",
    "\n",
    "query_text = h_setup.qgen_stream(p=p,\n",
    "                                 templates_dir=tpl_dir,\n",
    "                                 scale=scale,\n",
    "                                 qual=qual,\n",
    "                                 verbose=True)\n",
    "print(\"QUERY STREAM TEXT\")\n",
    "print(\"=================\")\n",
    "print(query_text)"
   ]
  },
  {
   "cell_type": "code",
   "execution_count": null,
   "metadata": {},
   "outputs": [],
   "source": []
  }
 ],
 "metadata": {
  "kernelspec": {
   "display_name": "Python 3",
   "language": "python",
   "name": "python3"
  },
  "language_info": {
   "codemirror_mode": {
    "name": "ipython",
    "version": 3
   },
   "file_extension": ".py",
   "mimetype": "text/x-python",
   "name": "python",
   "nbconvert_exporter": "python",
   "pygments_lexer": "ipython3",
   "version": "3.8.2"
  }
 },
 "nbformat": 4,
 "nbformat_minor": 4
}
