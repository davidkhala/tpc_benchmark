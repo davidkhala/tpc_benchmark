{
 "cells": [
  {
   "cell_type": "markdown",
   "metadata": {},
   "source": [
    "### TPC-DS and TPC-H Query Saving\n",
    "Use dsqgen and qgen to compile SQL and save to file.  "
   ]
  },
  {
   "cell_type": "code",
   "execution_count": 1,
   "metadata": {},
   "outputs": [],
   "source": [
    "import config, ds_setup, h_setup"
   ]
  },
  {
   "cell_type": "code",
   "execution_count": 2,
   "metadata": {},
   "outputs": [],
   "source": [
    "from importlib import reload"
   ]
  },
  {
   "cell_type": "markdown",
   "metadata": {},
   "source": [
    "#### 1. TPC-DS Single Query Generation  "
   ]
  },
  {
   "cell_type": "code",
   "execution_count": 13,
   "metadata": {},
   "outputs": [],
   "source": [
    "n = 1\n",
    "scale = 1\n",
    "tpl_name = \"bq_ds\"\n",
    "tpl_dir = config.fp_query_templates + config.sep + tpl_name\n",
    "qual = None"
   ]
  },
  {
   "cell_type": "code",
   "execution_count": 14,
   "metadata": {},
   "outputs": [
    {
     "data": {
      "text/plain": [
       "'/home/colin/code/bq_snowflake_benchmark/q/'"
      ]
     },
     "execution_count": 14,
     "metadata": {},
     "output_type": "execute_result"
    }
   ],
   "source": [
    "out_dir = \"/home/colin/code/bq_snowflake_benchmark/q/\"\n",
    "out_dir"
   ]
  },
  {
   "cell_type": "code",
   "execution_count": 15,
   "metadata": {},
   "outputs": [],
   "source": [
    "verbose_out=False\n",
    "for n in range(1,100):\n",
    "    query_text = ds_setup.qgen_template(n=n,\n",
    "                                        templates_dir=tpl_dir,\n",
    "                                        dialect=\"sqlserver_tpc\",\n",
    "                                        scale=scale,\n",
    "                                        qual=qual,\n",
    "                                        verbose=False)\n",
    "\n",
    "    if verbose_out:\n",
    "        print(\"QUERY {}\".format(n))\n",
    "        print(\"===========\")\n",
    "    fp = out_dir + \"bq_ds_100GB_query_{}.sql\".format(n)\n",
    "    with open(fp, \"w\") as f:\n",
    "        f.write(query_text)"
   ]
  },
  {
   "cell_type": "markdown",
   "metadata": {},
   "source": [
    "#### 2. TPC-DS Query Stream Generation  "
   ]
  },
  {
   "cell_type": "raw",
   "metadata": {},
   "source": [
    "p = 3\n",
    "scale = 100\n",
    "qual = None\n",
    "tpl_dir = config.fp_query_templates + config.sep + \"bq_ds\""
   ]
  },
  {
   "cell_type": "raw",
   "metadata": {},
   "source": [
    "for p in range(1, 15):\n",
    "    query_text = ds_setup.qgen_stream(p=p,\n",
    "                                      templates_dir=tpl_dir,\n",
    "                                      scale=scale,\n",
    "                                      #dialect=\"sqlserver_bq\",\n",
    "                                      qual=qual,\n",
    "                                      verbose=True)\n",
    "    print(\"QUERY STREAM {}\".format(n))\n",
    "    print(\"================\")\n",
    "    fp = out_dir + \"ds_query_stream_{}.sql\".format(n)\n",
    "    with open(fp, \"w\") as f:\n",
    "        f.write(query_text)"
   ]
  },
  {
   "cell_type": "markdown",
   "metadata": {},
   "source": [
    "#### 3. TPC-H Single Query Generation"
   ]
  },
  {
   "cell_type": "code",
   "execution_count": 19,
   "metadata": {},
   "outputs": [],
   "source": [
    "n = 1\n",
    "scale = 100\n",
    "tpl_name = \"sf_h\"\n",
    "#tpl_name = \"ansi_h_gen\"\n",
    "tpl_dir = config.fp_query_templates + config.sep + tpl_name"
   ]
  },
  {
   "cell_type": "code",
   "execution_count": 20,
   "metadata": {},
   "outputs": [],
   "source": [
    "verbose_out = False\n",
    "for n in range(1, 23):\n",
    "    query_text = h_setup.qgen_template(n=n,\n",
    "                                       templates_dir=tpl_dir,\n",
    "                                       scale=scale,\n",
    "                                       qual=None,\n",
    "                                       verbose=False)\n",
    "    if verbose_out:\n",
    "        print(\"QUERY {}\".format(n))\n",
    "        print(\"===========\")\n",
    "    fp = out_dir + f\"{tpl_name}_100GB_query_{n}.sql\"\n",
    "    with open(fp, \"w\") as f:\n",
    "        f.write(query_text)"
   ]
  },
  {
   "cell_type": "markdown",
   "metadata": {},
   "source": [
    "#### 4. TPC-H Query Stream Generation  "
   ]
  },
  {
   "cell_type": "raw",
   "metadata": {},
   "source": [
    "p = 5\n",
    "scale = 100\n",
    "qual = None\n",
    "tpl_dir = config.fp_query_templates + config.sep + \"bq_h\""
   ]
  },
  {
   "cell_type": "raw",
   "metadata": {},
   "source": [
    "for p in range(1, 15):\n",
    "    query_text = h_setup.qgen_stream(p=p,\n",
    "                                     templates_dir=tpl_dir,\n",
    "                                     scale=scale,\n",
    "                                     qual=qual,\n",
    "                                     verbose=True)\n",
    "    print(\"QUERY STREAM {}\".format(n))\n",
    "    print(\"================\")\n",
    "    fp = out_dir + \"h_query_stream_{}.sql\".format(n)\n",
    "    with open(fp, \"w\") as f:\n",
    "        f.write(query_text)"
   ]
  },
  {
   "cell_type": "code",
   "execution_count": null,
   "metadata": {},
   "outputs": [],
   "source": []
  }
 ],
 "metadata": {
  "kernelspec": {
   "display_name": "Python 3",
   "language": "python",
   "name": "python3"
  },
  "language_info": {
   "codemirror_mode": {
    "name": "ipython",
    "version": 3
   },
   "file_extension": ".py",
   "mimetype": "text/x-python",
   "name": "python",
   "nbconvert_exporter": "python",
   "pygments_lexer": "ipython3",
   "version": "3.8.2"
  }
 },
 "nbformat": 4,
 "nbformat_minor": 4
}
