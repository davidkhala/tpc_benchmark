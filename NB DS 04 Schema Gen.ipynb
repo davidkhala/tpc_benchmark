{
 "cells": [
  {
   "cell_type": "markdown",
   "metadata": {},
   "source": [
    "## TPC-DS Schema & Template Generation    \n",
    "Create the DDL Schema files for creating tables in BigQuery and Snowflake"
   ]
  },
  {
   "cell_type": "code",
   "execution_count": null,
   "metadata": {},
   "outputs": [],
   "source": [
    "import config, schema, ds_setup, tools"
   ]
  },
  {
   "cell_type": "markdown",
   "metadata": {},
   "source": [
    "### I. Create Default Schema  \n",
    "This schema only changes from the ANSI the type definitions and removes the `primary key` definitions."
   ]
  },
  {
   "cell_type": "code",
   "execution_count": null,
   "metadata": {},
   "outputs": [],
   "source": [
    "schema_name = 'bq_ds_0'"
   ]
  },
  {
   "cell_type": "code",
   "execution_count": null,
   "metadata": {},
   "outputs": [],
   "source": [
    "schema.rewrite_ds_basic(filepath_out=config.fp_schema + config.sep + schema_name + \".ddl\",\n",
    "                        dataset_name=None, prefix=False)"
   ]
  },
  {
   "cell_type": "code",
   "execution_count": null,
   "metadata": {},
   "outputs": [],
   "source": [
    "schema_name = 'bq_ds_1GB_qual'"
   ]
  },
  {
   "cell_type": "code",
   "execution_count": null,
   "metadata": {},
   "outputs": [],
   "source": [
    "schema.rewrite_ds_basic(filepath_out=config.fp_schema + config.sep + schema_name + \".ddl\",\n",
    "                        dataset_name=None, prefix=False)"
   ]
  },
  {
   "cell_type": "markdown",
   "metadata": {},
   "source": [
    "## II. Copy and Modify Query Templates  "
   ]
  },
  {
   "cell_type": "markdown",
   "metadata": {},
   "source": [
    "Make folders for the new template copies IF they don't already exist."
   ]
  },
  {
   "cell_type": "code",
   "execution_count": null,
   "metadata": {},
   "outputs": [],
   "source": [
    "tools.make_directories()"
   ]
  },
  {
   "cell_type": "markdown",
   "metadata": {},
   "source": [
    "Copy templates to the following folders IF they don't already exist."
   ]
  },
  {
   "cell_type": "code",
   "execution_count": null,
   "metadata": {},
   "outputs": [],
   "source": [
    "# this will only copy template files to the destination if the directory doesn't exist\n",
    "ds_setup.copy_tpl(verbose=True)"
   ]
  },
  {
   "cell_type": "markdown",
   "metadata": {},
   "source": [
    "## III. Modify templates for BQ and SF  \n",
    "The following templates folders:  \n",
    "`/tpl/bq_ds`  \n",
    "`/tpl/sf_ds`  \n",
    "need to be edited from the default ANSI output to make them executable.  Some edits can be automated, the final work must be done manually.  \n",
    "\n",
    "As well, the file `sqlserver.tpl` must be modified for dsqgen to successfully compile the template file."
   ]
  },
  {
   "cell_type": "markdown",
   "metadata": {},
   "source": [
    "### III.A Rewrite the templates\n",
    "Change ANSI SQL statements to ones that BigQuery needs."
   ]
  },
  {
   "cell_type": "code",
   "execution_count": null,
   "metadata": {},
   "outputs": [],
   "source": [
    "input_templates_bq = config.fp_ds_bq_template_dir\n",
    "input_templates_bq"
   ]
  },
  {
   "cell_type": "code",
   "execution_count": null,
   "metadata": {},
   "outputs": [],
   "source": [
    "ds_setup.tpl_bq_regex(tpl_dir=input_templates_bq, verbose=False)"
   ]
  },
  {
   "cell_type": "markdown",
   "metadata": {},
   "source": [
    "### III.B Alter the dsqgen configuration  \n",
    "This changes tp the use of \"LIMIT\" instead of \"TOP\" and suppress ending statements."
   ]
  },
  {
   "cell_type": "code",
   "execution_count": null,
   "metadata": {},
   "outputs": [],
   "source": [
    "dialect = ds_setup.sqlserver_bq_defines(input_templates_bq)\n",
    "dialect"
   ]
  },
  {
   "cell_type": "markdown",
   "metadata": {},
   "source": [
    "Note that the dialect must be specified later when generating the query text."
   ]
  },
  {
   "cell_type": "code",
   "execution_count": null,
   "metadata": {},
   "outputs": [],
   "source": []
  }
 ],
 "metadata": {
  "kernelspec": {
   "display_name": "Python 3",
   "language": "python",
   "name": "python3"
  },
  "language_info": {
   "codemirror_mode": {
    "name": "ipython",
    "version": 3
   },
   "file_extension": ".py",
   "mimetype": "text/x-python",
   "name": "python",
   "nbconvert_exporter": "python",
   "pygments_lexer": "ipython3",
   "version": "3.8.2"
  }
 },
 "nbformat": 4,
 "nbformat_minor": 4
}
