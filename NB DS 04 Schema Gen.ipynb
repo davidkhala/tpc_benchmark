{
 "cells": [
  {
   "cell_type": "markdown",
   "metadata": {},
   "source": [
    "## TPC-DS Schema Generation    \n",
    "Create the DDL Schema files for creating tables in BigQuery and Snowflake"
   ]
  },
  {
   "cell_type": "raw",
   "metadata": {},
   "source": [
    "from google.cloud import bigquery, storage"
   ]
  },
  {
   "cell_type": "code",
   "execution_count": 1,
   "metadata": {},
   "outputs": [],
   "source": [
    "import config, schema, bq, load"
   ]
  },
  {
   "cell_type": "code",
   "execution_count": 2,
   "metadata": {},
   "outputs": [],
   "source": [
    "import pandas as pd\n",
    "import matplotlib.pyplot as plt"
   ]
  },
  {
   "cell_type": "code",
   "execution_count": 3,
   "metadata": {},
   "outputs": [],
   "source": [
    "pd.set_option(\"display.max_rows\", 1000)"
   ]
  },
  {
   "cell_type": "markdown",
   "metadata": {},
   "source": [
    "### I. Create Schema for Upload"
   ]
  },
  {
   "cell_type": "code",
   "execution_count": 4,
   "metadata": {},
   "outputs": [],
   "source": [
    "dataset_name = 'bq_ds_1GB_qual'"
   ]
  },
  {
   "cell_type": "code",
   "execution_count": 5,
   "metadata": {},
   "outputs": [
    {
     "ename": "FileNotFoundError",
     "evalue": "[Errno 2] No such file or directory: '/home/vagrant/bq_snowflake_benchmark/sc/bq_ds_1GB_qual.ddl'",
     "output_type": "error",
     "traceback": [
      "\u001B[0;31m---------------------------------------------------------------------------\u001B[0m",
      "\u001B[0;31mFileNotFoundError\u001B[0m                         Traceback (most recent call last)",
      "\u001B[0;32m<ipython-input-5-33e7ed33629e>\u001B[0m in \u001B[0;36m<module>\u001B[0;34m\u001B[0m\n\u001B[1;32m      1\u001B[0m schema.rewrite_ds_basic(filepath_out=config.fp_schema + config.sep + dataset_name + \".ddl\",\n\u001B[1;32m      2\u001B[0m                         \u001B[0mdataset_name\u001B[0m\u001B[0;34m=\u001B[0m\u001B[0mdataset_name\u001B[0m\u001B[0;34m,\u001B[0m\u001B[0;34m\u001B[0m\u001B[0;34m\u001B[0m\u001B[0m\n\u001B[0;32m----> 3\u001B[0;31m                         prefix=False)\n\u001B[0m",
      "\u001B[0;32m~/bq_snowflake_benchmark/schema.py\u001B[0m in \u001B[0;36mrewrite_ds_basic\u001B[0;34m(filepath_out, dataset_name, prefix)\u001B[0m\n\u001B[1;32m     60\u001B[0m     \u001B[0mtext\u001B[0m \u001B[0;34m=\u001B[0m \u001B[0;34m\"\\n\"\u001B[0m\u001B[0;34m.\u001B[0m\u001B[0mjoin\u001B[0m\u001B[0;34m(\u001B[0m\u001B[0mtext_list_out\u001B[0m\u001B[0;34m)\u001B[0m\u001B[0;34m\u001B[0m\u001B[0;34m\u001B[0m\u001B[0m\n\u001B[1;32m     61\u001B[0m \u001B[0;34m\u001B[0m\u001B[0m\n\u001B[0;32m---> 62\u001B[0;31m     \u001B[0mopen\u001B[0m\u001B[0;34m(\u001B[0m\u001B[0mfilepath_out\u001B[0m\u001B[0;34m,\u001B[0m \u001B[0;34m\"w\"\u001B[0m\u001B[0;34m)\u001B[0m\u001B[0;34m.\u001B[0m\u001B[0mwrite\u001B[0m\u001B[0;34m(\u001B[0m\u001B[0mtext\u001B[0m\u001B[0;34m)\u001B[0m\u001B[0;34m\u001B[0m\u001B[0;34m\u001B[0m\u001B[0m\n\u001B[0m\u001B[1;32m     63\u001B[0m \u001B[0;34m\u001B[0m\u001B[0m\n\u001B[1;32m     64\u001B[0m \u001B[0;34m\u001B[0m\u001B[0m\n",
      "\u001B[0;31mFileNotFoundError\u001B[0m: [Errno 2] No such file or directory: '/home/vagrant/bq_snowflake_benchmark/sc/bq_ds_1GB_qual.ddl'"
     ]
    }
   ],
   "source": [
    "schema.rewrite_ds_basic(filepath_out=config.fp_schema + config.sep + dataset_name + \".ddl\",\n",
    "                        dataset_name=dataset_name,\n",
    "                        prefix=False)"
   ]
  },
  {
   "cell_type": "code",
   "execution_count": null,
   "metadata": {},
   "outputs": [],
   "source": []
  }
 ],
 "metadata": {
  "kernelspec": {
   "display_name": "Python 3",
   "language": "python",
   "name": "python3"
  },
  "language_info": {
   "codemirror_mode": {
    "name": "ipython",
    "version": 3
   },
   "file_extension": ".py",
   "mimetype": "text/x-python",
   "name": "python",
   "nbconvert_exporter": "python",
   "pygments_lexer": "ipython3",
   "version": "3.7.6"
  }
 },
 "nbformat": 4,
 "nbformat_minor": 4
}