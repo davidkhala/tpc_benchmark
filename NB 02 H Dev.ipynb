{
 "cells": [
  {
   "cell_type": "code",
   "execution_count": 1,
   "metadata": {},
   "outputs": [],
   "source": [
    "import h_setup"
   ]
  },
  {
   "cell_type": "code",
   "execution_count": 2,
   "metadata": {},
   "outputs": [],
   "source": [
    "from importlib import reload"
   ]
  },
  {
   "cell_type": "code",
   "execution_count": 78,
   "metadata": {},
   "outputs": [],
   "source": [
    "reload(h_setup)\n",
    "h_setup.make_directories()"
   ]
  },
  {
   "cell_type": "code",
   "execution_count": 14,
   "metadata": {},
   "outputs": [
    {
     "name": "stdout",
     "output_type": "stream",
     "text": [
      "Client created using default project: sada-colin-dietrich\n"
     ]
    },
    {
     "data": {
      "text/plain": [
       "'/home/colin/code/bq_snowflake_benchmark/download/tpc-h_2.18.0_rc2.zip'"
      ]
     },
     "execution_count": 14,
     "metadata": {},
     "output_type": "execute_result"
    }
   ],
   "source": [
    "reload(h_setup)\n",
    "h_setup.download_zip()"
   ]
  },
  {
   "cell_type": "code",
   "execution_count": 15,
   "metadata": {},
   "outputs": [],
   "source": [
    "reload(h_setup)\n",
    "h_setup.extract_zip()"
   ]
  },
  {
   "cell_type": "code",
   "execution_count": 16,
   "metadata": {},
   "outputs": [],
   "source": [
    "import config"
   ]
  },
  {
   "cell_type": "code",
   "execution_count": 17,
   "metadata": {},
   "outputs": [
    {
     "data": {
      "text/plain": [
       "<module 'config' from '/home/colin/code/bq_snowflake_benchmark/config.py'>"
      ]
     },
     "execution_count": 17,
     "metadata": {},
     "output_type": "execute_result"
    }
   ],
   "source": [
    "reload(config)"
   ]
  },
  {
   "cell_type": "code",
   "execution_count": 18,
   "metadata": {},
   "outputs": [],
   "source": [
    "fp = config.fp_h_src + config.sep + \"dbgen\" + config.sep"
   ]
  },
  {
   "cell_type": "code",
   "execution_count": 19,
   "metadata": {},
   "outputs": [
    {
     "data": {
      "text/plain": [
       "'/home/colin/code/bq_snowflake_benchmark/h/2.18.0_rc2/dbgen/'"
      ]
     },
     "execution_count": 19,
     "metadata": {},
     "output_type": "execute_result"
    }
   ],
   "source": [
    "fp"
   ]
  },
  {
   "cell_type": "raw",
   "metadata": {},
   "source": [
    "replacement = {\"CC      =\"  : \"CC       = gcc\",\n",
    "               \"DATABASE=\"  : \"DATABASE = SQLSERVER\",\n",
    "               \"MACHINE =\"  : \"MACHINE  = LINUX\",\n",
    "               \"WORKLOAD =\" : \"WORKLOAD = TPCH\"}\n",
    "\n",
    "replacement = {\"CC      =\"  : \"CC       = {}\".format(config.c_compiler),\n",
    "               \"DATABASE=\"  : \"DATABASE = {}\".format(config.database),\n",
    "               \"MACHINE =\"  : \"MACHINE  = {}\".format(config.machine),\n",
    "               \"WORKLOAD =\" : \"WORKLOAD = {}\".format(config.workload)}\n",
    "\n",
    "verbose = True\n",
    "\n",
    "new_lines = []\n",
    "with open(fp + \"makefile.suite\", \"r\") as f:\n",
    "    for line in f:\n",
    "        line = line.strip()\n",
    "        original = True\n",
    "        for k, v in replacement.items():\n",
    "            if k in line:\n",
    "                if verbose:\n",
    "                    print(\"Makefile.suite:\", line)\n",
    "                    print(\"Replacement:\", v)\n",
    "                    print(\"-\"*20)\n",
    "                new_lines.append(v)\n",
    "                original = False\n",
    "        if original:\n",
    "            new_lines.append(line)\n",
    "                \n",
    "with open(fp + \"makefile\", \"w\") as f:\n",
    "    for line in new_lines:\n",
    "        f.write(line + \"\\n\")"
   ]
  },
  {
   "cell_type": "code",
   "execution_count": 20,
   "metadata": {},
   "outputs": [
    {
     "name": "stdout",
     "output_type": "stream",
     "text": [
      "Makefile.suite: CC      = \n",
      "Replacement: CC       = gcc\n",
      "--------------------\n",
      "Makefile.suite: DATABASE= \n",
      "Replacement: DATABASE = SQLSERVER\n",
      "--------------------\n",
      "Makefile.suite: MACHINE = \n",
      "Replacement: MACHINE  = LINUX\n",
      "--------------------\n",
      "Makefile.suite: WORKLOAD = \n",
      "Replacement: WORKLOAD = TPCH\n",
      "--------------------\n"
     ]
    }
   ],
   "source": [
    "reload(h_setup)\n",
    "h_setup.create_makefile(verbose=True)"
   ]
  },
  {
   "cell_type": "code",
   "execution_count": 21,
   "metadata": {},
   "outputs": [
    {
     "name": "stdout",
     "output_type": "stream",
     "text": [
      "In file included from build.c:45:0:\n",
      "build.c: In function ‘mk_time’:\n",
      "dss.h:488:14: warning: format ‘%d’ expects argument of type ‘int’, but argument 3 has type ‘long int’ [-Wformat=]\n",
      " sprintf(tgt, \"19%02d-%02d-%02d\", yr, mn, dy)\n",
      "              ^\n",
      "build.c:420:2: note: in expansion of macro ‘PR_DATE’\n",
      "  PR_DATE(t->alpha, y, m,\n",
      "  ^~~~~~~\n",
      "dss.h:488:14: warning: format ‘%d’ expects argument of type ‘int’, but argument 4 has type ‘long int’ [-Wformat=]\n",
      " sprintf(tgt, \"19%02d-%02d-%02d\", yr, mn, dy)\n",
      "              ^\n",
      "build.c:420:2: note: in expansion of macro ‘PR_DATE’\n",
      "  PR_DATE(t->alpha, y, m,\n",
      "  ^~~~~~~\n",
      "dss.h:488:14: warning: format ‘%d’ expects argument of type ‘int’, but argument 5 has type ‘long int’ [-Wformat=]\n",
      " sprintf(tgt, \"19%02d-%02d-%02d\", yr, mn, dy)\n",
      "              ^\n",
      "build.c:420:2: note: in expansion of macro ‘PR_DATE’\n",
      "  PR_DATE(t->alpha, y, m,\n",
      "  ^~~~~~~\n",
      "driver.c: In function ‘gen_tbl’:\n",
      "driver.c:368:41: warning: format ‘%ld’ expects argument of type ‘long int’, but argument 3 has type ‘long long int’ [-Wformat=]\n",
      "    printf(\"\\nSeeds for %s at rowcount %ld\\n\", tdefs[tnum].comment, i);\n",
      "                                       ~~^\n",
      "                                       %lld\n",
      "driver.c: In function ‘partial’:\n",
      "driver.c:428:53: warning: format ‘%d’ expects argument of type ‘int’, but argument 4 has type ‘long int’ [-Wformat=]\n",
      "   fprintf (stderr, \"\\tStarting to load stage %d of %d for %s...\",\n",
      "                                                    ~^\n",
      "                                                    %ld\n",
      "driver.c: In function ‘main’:\n",
      "driver.c:754:31: warning: format ‘%d’ expects argument of type ‘int’, but argument 3 has type ‘long int’ [-Wformat=]\n",
      "     \"Generating update pair #%d for %s\",\n",
      "                              ~^\n",
      "                              %ld\n",
      "     upd_num + 1, tdefs[ORDER_LINE].comment);\n",
      "     ~~~~~~~~~~~                \n",
      "bm_utils.c: In function ‘yes_no’:\n",
      "bm_utils.c:158:9: warning: ignoring return value of ‘fgets’, declared with attribute warn_unused_result [-Wunused-result]\n",
      "         fgets(reply, 128, stdin);\n",
      "         ^~~~~~~~~~~~~~~~~~~~~~~~\n",
      "rnd.c: In function ‘row_stop’:\n",
      "rnd.c:131:55: warning: format ‘%d’ expects argument of type ‘int’, but argument 4 has type ‘long long int’ [-Wformat=]\n",
      "     fprintf(stderr, \"\\nSEED CHANGE: seed[%d].usage = %d\\n\",\n",
      "                                                      ~^\n",
      "                                                      %lld\n",
      "      i, Seed[i].usage);\n",
      "         ~~~~~~~~~~~~~                                  \n",
      "rnd.c: In function ‘dump_seeds’:\n",
      "rnd.c:154:17: warning: format ‘%ld’ expects argument of type ‘long int’, but argument 3 has type ‘long long int’ [-Wformat=]\n",
      "    printf(\"%d(%ld):\\t%ld\\n\", i, Seed[i].nCalls, Seed[i].value);\n",
      "               ~~^               ~~~~~~~~~~~~~~\n",
      "               %lld\n",
      "rnd.c:154:24: warning: format ‘%ld’ expects argument of type ‘long int’, but argument 4 has type ‘long long int’ [-Wformat=]\n",
      "    printf(\"%d(%ld):\\t%ld\\n\", i, Seed[i].nCalls, Seed[i].value);\n",
      "                      ~~^                        ~~~~~~~~~~~~~\n",
      "                      %lld\n",
      "print.c: In function ‘dbg_print’:\n",
      "print.c:138:22: warning: format ‘%ld’ expects argument of type ‘long int’, but argument 3 has type ‘int’ [-Wformat=]\n",
      "   fprintf(target, \"%ld.%02ld\", dollars, cents);\n",
      "                    ~~^\n",
      "                    %d\n",
      "print.c:138:28: warning: format ‘%ld’ expects argument of type ‘long int’, but argument 4 has type ‘int’ [-Wformat=]\n",
      "   fprintf(target, \"%ld.%02ld\", dollars, cents);\n",
      "                        ~~~~^\n",
      "                        %02d\n",
      "qgen.c: In function ‘main’:\n",
      "qgen.c:456:34: warning: format ‘%d’ expects argument of type ‘int’, but argument 3 has type ‘long int’ [-Wformat=]\n",
      "                 sprintf(qname, \"%d\", SEQUENCE(snum, atoi(av[i])));\n",
      "                                 ~^\n",
      "                                 %ld\n",
      "qgen.c:463:34: warning: format ‘%d’ expects argument of type ‘int’, but argument 3 has type ‘long int’ [-Wformat=]\n",
      "                 sprintf(qname, \"%d\", SEQUENCE(snum, i));\n",
      "                                 ~^\n",
      "                                 %ld\n",
      "\n",
      "gcc -g -DDBNAME=\\\"dss\\\" -DLINUX -DSQLSERVER -DTPCH -DRNG_TEST -D_FILE_OFFSET_BITS=64  -DNDEBUG -D_FORTIFY_SOURCE=2 -O2 -isystem /home/colin/miniconda3/envs/gcp/include  -c -o build.o build.c\n",
      "gcc -g -DDBNAME=\\\"dss\\\" -DLINUX -DSQLSERVER -DTPCH -DRNG_TEST -D_FILE_OFFSET_BITS=64  -DNDEBUG -D_FORTIFY_SOURCE=2 -O2 -isystem /home/colin/miniconda3/envs/gcp/include  -c -o driver.o driver.c\n",
      "gcc -g -DDBNAME=\\\"dss\\\" -DLINUX -DSQLSERVER -DTPCH -DRNG_TEST -D_FILE_OFFSET_BITS=64  -DNDEBUG -D_FORTIFY_SOURCE=2 -O2 -isystem /home/colin/miniconda3/envs/gcp/include  -c -o bm_utils.o bm_utils.c\n",
      "gcc -g -DDBNAME=\\\"dss\\\" -DLINUX -DSQLSERVER -DTPCH -DRNG_TEST -D_FILE_OFFSET_BITS=64  -DNDEBUG -D_FORTIFY_SOURCE=2 -O2 -isystem /home/colin/miniconda3/envs/gcp/include  -c -o rnd.o rnd.c\n",
      "gcc -g -DDBNAME=\\\"dss\\\" -DLINUX -DSQLSERVER -DTPCH -DRNG_TEST -D_FILE_OFFSET_BITS=64  -DNDEBUG -D_FORTIFY_SOURCE=2 -O2 -isystem /home/colin/miniconda3/envs/gcp/include  -c -o print.o print.c\n",
      "gcc -g -DDBNAME=\\\"dss\\\" -DLINUX -DSQLSERVER -DTPCH -DRNG_TEST -D_FILE_OFFSET_BITS=64  -DNDEBUG -D_FORTIFY_SOURCE=2 -O2 -isystem /home/colin/miniconda3/envs/gcp/include  -c -o load_stub.o load_stub.c\n",
      "gcc -g -DDBNAME=\\\"dss\\\" -DLINUX -DSQLSERVER -DTPCH -DRNG_TEST -D_FILE_OFFSET_BITS=64  -DNDEBUG -D_FORTIFY_SOURCE=2 -O2 -isystem /home/colin/miniconda3/envs/gcp/include  -c -o bcd2.o bcd2.c\n",
      "gcc -g -DDBNAME=\\\"dss\\\" -DLINUX -DSQLSERVER -DTPCH -DRNG_TEST -D_FILE_OFFSET_BITS=64  -DNDEBUG -D_FORTIFY_SOURCE=2 -O2 -isystem /home/colin/miniconda3/envs/gcp/include  -c -o speed_seed.o speed_seed.c\n",
      "gcc -g -DDBNAME=\\\"dss\\\" -DLINUX -DSQLSERVER -DTPCH -DRNG_TEST -D_FILE_OFFSET_BITS=64  -DNDEBUG -D_FORTIFY_SOURCE=2 -O2 -isystem /home/colin/miniconda3/envs/gcp/include  -c -o text.o text.c\n",
      "gcc -g -DDBNAME=\\\"dss\\\" -DLINUX -DSQLSERVER -DTPCH -DRNG_TEST -D_FILE_OFFSET_BITS=64  -DNDEBUG -D_FORTIFY_SOURCE=2 -O2 -isystem /home/colin/miniconda3/envs/gcp/include  -c -o permute.o permute.c\n",
      "gcc -g -DDBNAME=\\\"dss\\\" -DLINUX -DSQLSERVER -DTPCH -DRNG_TEST -D_FILE_OFFSET_BITS=64  -DNDEBUG -D_FORTIFY_SOURCE=2 -O2 -isystem /home/colin/miniconda3/envs/gcp/include  -c -o rng64.o rng64.c\n",
      "gcc -g -DDBNAME=\\\"dss\\\" -DLINUX -DSQLSERVER -DTPCH -DRNG_TEST -D_FILE_OFFSET_BITS=64  -O -o dbgen build.o driver.o bm_utils.o rnd.o print.o load_stub.o bcd2.o speed_seed.o text.o permute.o rng64.o -lm\n",
      "gcc -g -DDBNAME=\\\"dss\\\" -DLINUX -DSQLSERVER -DTPCH -DRNG_TEST -D_FILE_OFFSET_BITS=64  -DNDEBUG -D_FORTIFY_SOURCE=2 -O2 -isystem /home/colin/miniconda3/envs/gcp/include  -c -o qgen.o qgen.c\n",
      "gcc -g -DDBNAME=\\\"dss\\\" -DLINUX -DSQLSERVER -DTPCH -DRNG_TEST -D_FILE_OFFSET_BITS=64  -DNDEBUG -D_FORTIFY_SOURCE=2 -O2 -isystem /home/colin/miniconda3/envs/gcp/include  -c -o varsub.o varsub.c\n",
      "gcc -g -DDBNAME=\\\"dss\\\" -DLINUX -DSQLSERVER -DTPCH -DRNG_TEST -D_FILE_OFFSET_BITS=64  -O -o qgen build.o bm_utils.o qgen.o rnd.o varsub.o text.o bcd2.o permute.o speed_seed.o rng64.o -lm\n",
      "\n"
     ]
    }
   ],
   "source": [
    "reload(h_setup)\n",
    "h_setup.make_tpch()"
   ]
  },
  {
   "cell_type": "code",
   "execution_count": 26,
   "metadata": {},
   "outputs": [],
   "source": [
    "fp = config.fp_h_src + config.sep + \"dbgen\" + config.sep"
   ]
  },
  {
   "cell_type": "code",
   "execution_count": 51,
   "metadata": {},
   "outputs": [
    {
     "data": {
      "text/plain": [
       "'/home/colin/code/bq_snowflake_benchmark/h/2.18.0_rc2/dbgen/'"
      ]
     },
     "execution_count": 51,
     "metadata": {},
     "output_type": "execute_result"
    }
   ],
   "source": [
    "fp"
   ]
  },
  {
   "cell_type": "code",
   "execution_count": 27,
   "metadata": {},
   "outputs": [],
   "source": [
    "import glob"
   ]
  },
  {
   "cell_type": "code",
   "execution_count": 37,
   "metadata": {},
   "outputs": [],
   "source": [
    "files = glob.glob(fp + \"*.tbl*\")"
   ]
  },
  {
   "cell_type": "code",
   "execution_count": 41,
   "metadata": {},
   "outputs": [
    {
     "data": {
      "text/plain": [
       "['/home/colin/code/bq_snowflake_benchmark/h/2.18.0_rc2/dbgen/region.tbl',\n",
       " '/home/colin/code/bq_snowflake_benchmark/h/2.18.0_rc2/dbgen/orders.tbl.1',\n",
       " '/home/colin/code/bq_snowflake_benchmark/h/2.18.0_rc2/dbgen/customer.tbl.2',\n",
       " '/home/colin/code/bq_snowflake_benchmark/h/2.18.0_rc2/dbgen/part.tbl.3',\n",
       " '/home/colin/code/bq_snowflake_benchmark/h/2.18.0_rc2/dbgen/partsupp.tbl.3',\n",
       " '/home/colin/code/bq_snowflake_benchmark/h/2.18.0_rc2/dbgen/part.tbl.2',\n",
       " '/home/colin/code/bq_snowflake_benchmark/h/2.18.0_rc2/dbgen/orders.tbl.2',\n",
       " '/home/colin/code/bq_snowflake_benchmark/h/2.18.0_rc2/dbgen/supplier.tbl.1',\n",
       " '/home/colin/code/bq_snowflake_benchmark/h/2.18.0_rc2/dbgen/partsupp.tbl.1',\n",
       " '/home/colin/code/bq_snowflake_benchmark/h/2.18.0_rc2/dbgen/nation.tbl',\n",
       " '/home/colin/code/bq_snowflake_benchmark/h/2.18.0_rc2/dbgen/orders.tbl.3',\n",
       " '/home/colin/code/bq_snowflake_benchmark/h/2.18.0_rc2/dbgen/lineitem.tbl.3',\n",
       " '/home/colin/code/bq_snowflake_benchmark/h/2.18.0_rc2/dbgen/customer.tbl.3',\n",
       " '/home/colin/code/bq_snowflake_benchmark/h/2.18.0_rc2/dbgen/lineitem.tbl.1',\n",
       " '/home/colin/code/bq_snowflake_benchmark/h/2.18.0_rc2/dbgen/part.tbl.1',\n",
       " '/home/colin/code/bq_snowflake_benchmark/h/2.18.0_rc2/dbgen/customer.tbl.1',\n",
       " '/home/colin/code/bq_snowflake_benchmark/h/2.18.0_rc2/dbgen/supplier.tbl.3',\n",
       " '/home/colin/code/bq_snowflake_benchmark/h/2.18.0_rc2/dbgen/supplier.tbl.2',\n",
       " '/home/colin/code/bq_snowflake_benchmark/h/2.18.0_rc2/dbgen/lineitem.tbl.2',\n",
       " '/home/colin/code/bq_snowflake_benchmark/h/2.18.0_rc2/dbgen/partsupp.tbl.2']"
      ]
     },
     "execution_count": 41,
     "metadata": {},
     "output_type": "execute_result"
    }
   ],
   "source": [
    "files"
   ]
  },
  {
   "cell_type": "code",
   "execution_count": 79,
   "metadata": {},
   "outputs": [],
   "source": [
    "import shutil"
   ]
  },
  {
   "cell_type": "code",
   "execution_count": 83,
   "metadata": {},
   "outputs": [],
   "source": [
    "def move_data(scale, verbose=False):\n",
    "    \"\"\"Move TPC-H dbgen files to output folder\n",
    "    \n",
    "    Parameters\n",
    "    ----------\n",
    "    scale : int, scale factor of generated data in GB\n",
    "    verbose : bool, print debug statements\n",
    "    \"\"\"\n",
    "    source_files = glob.glob(config.fp_h_src + config.sep + \n",
    "                      \"dbgen\" + config.sep + \"*.tbl*\")\n",
    "    dest = config.fp_h_data_out + config.sep + str(scale) + \"GB\"\n",
    "    destination_files = [(dest + config.sep + \n",
    "                          f.split(config.sep)[-1]) for f in source_files]\n",
    "    for s, d in zip(source_files, destination_files):\n",
    "        if verbose:\n",
    "            print(\"Moving: \", s)\n",
    "            print(\"To:     \", d)\n",
    "            print(\"--------\")\n",
    "        shutil.move(s, d)"
   ]
  },
  {
   "cell_type": "code",
   "execution_count": 84,
   "metadata": {},
   "outputs": [],
   "source": [
    "move_data(1)"
   ]
  },
  {
   "cell_type": "code",
   "execution_count": null,
   "metadata": {},
   "outputs": [],
   "source": []
  },
  {
   "cell_type": "code",
   "execution_count": 54,
   "metadata": {},
   "outputs": [
    {
     "data": {
      "text/plain": [
       "['/home/colin/code/bq_snowflake_benchmark/h/2.18.0_rc2/dbgen/region.tbl',\n",
       " '/home/colin/code/bq_snowflake_benchmark/h/2.18.0_rc2/dbgen/orders.tbl.1',\n",
       " '/home/colin/code/bq_snowflake_benchmark/h/2.18.0_rc2/dbgen/customer.tbl.2',\n",
       " '/home/colin/code/bq_snowflake_benchmark/h/2.18.0_rc2/dbgen/part.tbl.3',\n",
       " '/home/colin/code/bq_snowflake_benchmark/h/2.18.0_rc2/dbgen/partsupp.tbl.3',\n",
       " '/home/colin/code/bq_snowflake_benchmark/h/2.18.0_rc2/dbgen/part.tbl.2',\n",
       " '/home/colin/code/bq_snowflake_benchmark/h/2.18.0_rc2/dbgen/orders.tbl.2',\n",
       " '/home/colin/code/bq_snowflake_benchmark/h/2.18.0_rc2/dbgen/supplier.tbl.1',\n",
       " '/home/colin/code/bq_snowflake_benchmark/h/2.18.0_rc2/dbgen/partsupp.tbl.1',\n",
       " '/home/colin/code/bq_snowflake_benchmark/h/2.18.0_rc2/dbgen/nation.tbl',\n",
       " '/home/colin/code/bq_snowflake_benchmark/h/2.18.0_rc2/dbgen/orders.tbl.3',\n",
       " '/home/colin/code/bq_snowflake_benchmark/h/2.18.0_rc2/dbgen/lineitem.tbl.3',\n",
       " '/home/colin/code/bq_snowflake_benchmark/h/2.18.0_rc2/dbgen/customer.tbl.3',\n",
       " '/home/colin/code/bq_snowflake_benchmark/h/2.18.0_rc2/dbgen/lineitem.tbl.1',\n",
       " '/home/colin/code/bq_snowflake_benchmark/h/2.18.0_rc2/dbgen/part.tbl.1',\n",
       " '/home/colin/code/bq_snowflake_benchmark/h/2.18.0_rc2/dbgen/customer.tbl.1',\n",
       " '/home/colin/code/bq_snowflake_benchmark/h/2.18.0_rc2/dbgen/supplier.tbl.3',\n",
       " '/home/colin/code/bq_snowflake_benchmark/h/2.18.0_rc2/dbgen/supplier.tbl.2',\n",
       " '/home/colin/code/bq_snowflake_benchmark/h/2.18.0_rc2/dbgen/lineitem.tbl.2',\n",
       " '/home/colin/code/bq_snowflake_benchmark/h/2.18.0_rc2/dbgen/partsupp.tbl.2']"
      ]
     },
     "execution_count": 54,
     "metadata": {},
     "output_type": "execute_result"
    }
   ],
   "source": [
    "a = []\n",
    "for _x in files:\n",
    "    _x = _x + 55\n",
    "    a.append(_x)\n",
    "a"
   ]
  },
  {
   "cell_type": "raw",
   "metadata": {},
   "source": [
    "import os"
   ]
  },
  {
   "cell_type": "raw",
   "metadata": {},
   "source": [
    "os.path.sep"
   ]
  },
  {
   "cell_type": "raw",
   "metadata": {},
   "source": [
    "[_x.split(os.path.sep)[-1] for _x in files] # extract file name from filepath"
   ]
  },
  {
   "cell_type": "raw",
   "metadata": {},
   "source": [
    "[f.split(os.path.sep)[-1] for f in files if \"orders\" in f]"
   ]
  },
  {
   "cell_type": "raw",
   "metadata": {},
   "source": [
    "for table in [\"region\", \"orders\", \"customer\", \"part\", \n",
    "              \"partsupp\", \"nation\", \"lineitem\", \"supplier\"]:\n",
    "    sub_table = [f for f in files if table in f]\n",
    "    print(table)\n",
    "    print(\"-\"*20)\n",
    "    for item in sub_table:\n",
    "        print(item)\n",
    "    print(\"=\"*20)"
   ]
  },
  {
   "cell_type": "code",
   "execution_count": 74,
   "metadata": {},
   "outputs": [
    {
     "name": "stdout",
     "output_type": "stream",
     "text": [
      "/home/colin/code/bq_snowflake_benchmark/h/2.18.0_rc2/dbgen/region.tbl\n",
      "region\n",
      "/home/colin/code/bq_snowflake_benchmark/h/2.18.0_rc2/dbgen/orders.tbl.1\n",
      "orders\n",
      "/home/colin/code/bq_snowflake_benchmark/h/2.18.0_rc2/dbgen/orders.tbl.2\n",
      "orders\n",
      "/home/colin/code/bq_snowflake_benchmark/h/2.18.0_rc2/dbgen/orders.tbl.3\n",
      "orders\n",
      "/home/colin/code/bq_snowflake_benchmark/h/2.18.0_rc2/dbgen/customer.tbl.2\n",
      "customer\n",
      "/home/colin/code/bq_snowflake_benchmark/h/2.18.0_rc2/dbgen/customer.tbl.3\n",
      "customer\n",
      "/home/colin/code/bq_snowflake_benchmark/h/2.18.0_rc2/dbgen/customer.tbl.1\n",
      "customer\n",
      "/home/colin/code/bq_snowflake_benchmark/h/2.18.0_rc2/dbgen/part.tbl.3\n",
      "part\n",
      "/home/colin/code/bq_snowflake_benchmark/h/2.18.0_rc2/dbgen/partsupp.tbl.3\n",
      "partsupp\n",
      "/home/colin/code/bq_snowflake_benchmark/h/2.18.0_rc2/dbgen/part.tbl.2\n",
      "part\n",
      "/home/colin/code/bq_snowflake_benchmark/h/2.18.0_rc2/dbgen/partsupp.tbl.1\n",
      "partsupp\n",
      "/home/colin/code/bq_snowflake_benchmark/h/2.18.0_rc2/dbgen/part.tbl.1\n",
      "part\n",
      "/home/colin/code/bq_snowflake_benchmark/h/2.18.0_rc2/dbgen/partsupp.tbl.2\n",
      "partsupp\n",
      "/home/colin/code/bq_snowflake_benchmark/h/2.18.0_rc2/dbgen/partsupp.tbl.3\n",
      "partsupp\n",
      "/home/colin/code/bq_snowflake_benchmark/h/2.18.0_rc2/dbgen/partsupp.tbl.1\n",
      "partsupp\n",
      "/home/colin/code/bq_snowflake_benchmark/h/2.18.0_rc2/dbgen/partsupp.tbl.2\n",
      "partsupp\n",
      "/home/colin/code/bq_snowflake_benchmark/h/2.18.0_rc2/dbgen/nation.tbl\n",
      "nation\n",
      "/home/colin/code/bq_snowflake_benchmark/h/2.18.0_rc2/dbgen/lineitem.tbl.3\n",
      "lineitem\n",
      "/home/colin/code/bq_snowflake_benchmark/h/2.18.0_rc2/dbgen/lineitem.tbl.1\n",
      "lineitem\n",
      "/home/colin/code/bq_snowflake_benchmark/h/2.18.0_rc2/dbgen/lineitem.tbl.2\n",
      "lineitem\n",
      "/home/colin/code/bq_snowflake_benchmark/h/2.18.0_rc2/dbgen/supplier.tbl.1\n",
      "supplier\n",
      "/home/colin/code/bq_snowflake_benchmark/h/2.18.0_rc2/dbgen/supplier.tbl.3\n",
      "supplier\n",
      "/home/colin/code/bq_snowflake_benchmark/h/2.18.0_rc2/dbgen/supplier.tbl.2\n",
      "supplier\n"
     ]
    }
   ],
   "source": [
    "for table in [\"region\", \"orders\", \"customer\", \"part\", \n",
    "              \"partsupp\", \"nation\", \"lineitem\", \"supplier\"]:\n",
    "    sub_table = [f for f in files if table in f]\n",
    "    for item in sub_table:\n",
    "        print(item)\n",
    "        print(tools.extract_table_name(os.path.basename(item)))"
   ]
  },
  {
   "cell_type": "code",
   "execution_count": 65,
   "metadata": {},
   "outputs": [],
   "source": [
    "x = \"/home/colin/code/bq_snowflake_benchmark/h/2.18.0_rc2/dbgen/partsupp.tbl.3\""
   ]
  },
  {
   "cell_type": "code",
   "execution_count": 66,
   "metadata": {},
   "outputs": [],
   "source": [
    "y = \"foo_4_5.dat\""
   ]
  },
  {
   "cell_type": "code",
   "execution_count": 70,
   "metadata": {},
   "outputs": [],
   "source": [
    "import os"
   ]
  },
  {
   "cell_type": "code",
   "execution_count": 67,
   "metadata": {},
   "outputs": [],
   "source": [
    "import tools"
   ]
  },
  {
   "cell_type": "code",
   "execution_count": 71,
   "metadata": {},
   "outputs": [
    {
     "name": "stdout",
     "output_type": "stream",
     "text": [
      "partsupp\n",
      "foo\n"
     ]
    }
   ],
   "source": [
    "reload(tools)\n",
    "for n in [x, y]:\n",
    "    print(tools.extract_table_name(os.path.basename(n)))"
   ]
  },
  {
   "cell_type": "code",
   "execution_count": 76,
   "metadata": {},
   "outputs": [
    {
     "data": {
      "text/plain": [
       "'/home/colin/code/bq_snowflake_benchmark/h/output'"
      ]
     },
     "execution_count": 76,
     "metadata": {},
     "output_type": "execute_result"
    }
   ],
   "source": [
    "fout = \"/home/colin/code/bq_snowflake_benchmark/h/output\"\n",
    "fout"
   ]
  },
  {
   "cell_type": "code",
   "execution_count": 77,
   "metadata": {},
   "outputs": [
    {
     "name": "stdout",
     "output_type": "stream",
     "text": [
      "==============================================\n",
      "/home/colin/code/bq_snowflake_benchmark/h/output\n",
      "==============================================\n",
      "File                    Size        Line Count\n",
      "==============================================\n",
      "region.tbl             0.000 MB              5\n",
      "orders.tbl.1         581.283 MB        5000000\n",
      "customer.tbl.2        81.505 MB         500000\n",
      "part.tbl.3            81.481 MB         666668\n",
      "partsupp.tbl.3       402.986 MB        2666672\n",
      "part.tbl.2            81.151 MB         666666\n",
      "orders.tbl.2         583.923 MB        5000000\n",
      "supplier.tbl.1         4.720 MB          33333\n",
      "partsupp.tbl.1       400.058 MB        2666664\n",
      "nation.tbl             0.002 MB             25\n",
      "orders.tbl.3         583.989 MB        5000000\n",
      "lineitem.tbl.3      2594.896 MB       19989588\n",
      "customer.tbl.3        81.961 MB         500000\n",
      "lineitem.tbl.1      2584.399 MB       19994609\n",
      "part.tbl.1            80.704 MB         666666\n",
      "customer.tbl.1        81.382 MB         500000\n",
      "supplier.tbl.3         4.725 MB          33334\n",
      "supplier.tbl.2         4.731 MB          33333\n",
      "lineitem.tbl.2      2596.432 MB       20001855\n",
      "partsupp.tbl.2       401.806 MB        2666664\n",
      "==============================================\n",
      "Total Size:           11.232 GB\n",
      "==============================================\n",
      "\n"
     ]
    }
   ],
   "source": [
    "reload(tools)\n",
    "tools.print_inventory(fout)"
   ]
  },
  {
   "cell_type": "code",
   "execution_count": null,
   "metadata": {},
   "outputs": [],
   "source": []
  }
 ],
 "metadata": {
  "kernelspec": {
   "display_name": "Python 3",
   "language": "python",
   "name": "python3"
  },
  "language_info": {
   "codemirror_mode": {
    "name": "ipython",
    "version": 3
   },
   "file_extension": ".py",
   "mimetype": "text/x-python",
   "name": "python",
   "nbconvert_exporter": "python",
   "pygments_lexer": "ipython3",
   "version": "3.6.10"
  }
 },
 "nbformat": 4,
 "nbformat_minor": 4
}
