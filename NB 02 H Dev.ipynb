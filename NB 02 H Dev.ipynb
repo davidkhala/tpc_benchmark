{
 "cells": [
  {
   "cell_type": "code",
   "execution_count": 1,
   "metadata": {},
   "outputs": [],
   "source": [
    "import tpch_setup"
   ]
  },
  {
   "cell_type": "code",
   "execution_count": 2,
   "metadata": {},
   "outputs": [],
   "source": [
    "from importlib import reload"
   ]
  },
  {
   "cell_type": "code",
   "execution_count": 3,
   "metadata": {},
   "outputs": [],
   "source": [
    "reload(tpch_setup)\n",
    "tpch_setup.make_directories()"
   ]
  },
  {
   "cell_type": "code",
   "execution_count": 4,
   "metadata": {},
   "outputs": [
    {
     "name": "stdout",
     "output_type": "stream",
     "text": [
      "Client created using default project: sada-colin-dietrich\n"
     ]
    },
    {
     "data": {
      "text/plain": [
       "'/home/colin/code/bq_snowflake_benchmark/download/tpc-h_2.18.0_rc2.zip'"
      ]
     },
     "execution_count": 4,
     "metadata": {},
     "output_type": "execute_result"
    }
   ],
   "source": [
    "reload(tpch_setup)\n",
    "tpch_setup.download_zip()"
   ]
  },
  {
   "cell_type": "code",
   "execution_count": 5,
   "metadata": {},
   "outputs": [],
   "source": [
    "reload(tpch_setup)\n",
    "tpch_setup.extract_zip()"
   ]
  },
  {
   "cell_type": "code",
   "execution_count": 6,
   "metadata": {},
   "outputs": [],
   "source": [
    "import config"
   ]
  },
  {
   "cell_type": "code",
   "execution_count": 7,
   "metadata": {},
   "outputs": [
    {
     "data": {
      "text/plain": [
       "<module 'config' from '/home/colin/code/bq_snowflake_benchmark/config.py'>"
      ]
     },
     "execution_count": 7,
     "metadata": {},
     "output_type": "execute_result"
    }
   ],
   "source": [
    "reload(config)"
   ]
  },
  {
   "cell_type": "code",
   "execution_count": 8,
   "metadata": {},
   "outputs": [],
   "source": [
    "fp = config.fp_h_src + config.sep + \"dbgen\" + config.sep"
   ]
  },
  {
   "cell_type": "code",
   "execution_count": 9,
   "metadata": {},
   "outputs": [
    {
     "data": {
      "text/plain": [
       "'/home/colin/code/bq_snowflake_benchmark/h/2.18.0_rc2/dbgen/'"
      ]
     },
     "execution_count": 9,
     "metadata": {},
     "output_type": "execute_result"
    }
   ],
   "source": [
    "fp"
   ]
  },
  {
   "cell_type": "raw",
   "metadata": {},
   "source": [
    "replacement = {\"CC      =\"  : \"CC       = gcc\",\n",
    "               \"DATABASE=\"  : \"DATABASE = SQLSERVER\",\n",
    "               \"MACHINE =\"  : \"MACHINE  = LINUX\",\n",
    "               \"WORKLOAD =\" : \"WORKLOAD = TPCH\"}\n",
    "\n",
    "replacement = {\"CC      =\"  : \"CC       = {}\".format(config.c_compiler),\n",
    "               \"DATABASE=\"  : \"DATABASE = {}\".format(config.database),\n",
    "               \"MACHINE =\"  : \"MACHINE  = {}\".format(config.machine),\n",
    "               \"WORKLOAD =\" : \"WORKLOAD = {}\".format(config.workload)}\n",
    "\n",
    "verbose = True\n",
    "\n",
    "new_lines = []\n",
    "with open(fp + \"makefile.suite\", \"r\") as f:\n",
    "    for line in f:\n",
    "        line = line.strip()\n",
    "        original = True\n",
    "        for k, v in replacement.items():\n",
    "            if k in line:\n",
    "                if verbose:\n",
    "                    print(\"Makefile.suite:\", line)\n",
    "                    print(\"Replacement:\", v)\n",
    "                    print(\"-\"*20)\n",
    "                new_lines.append(v)\n",
    "                original = False\n",
    "        if original:\n",
    "            new_lines.append(line)\n",
    "                \n",
    "with open(fp + \"makefile\", \"w\") as f:\n",
    "    for line in new_lines:\n",
    "        f.write(line + \"\\n\")"
   ]
  },
  {
   "cell_type": "code",
   "execution_count": 16,
   "metadata": {},
   "outputs": [
    {
     "name": "stdout",
     "output_type": "stream",
     "text": [
      "Makefile.suite: CC      = \n",
      "Replacement: CC       = gcc\n",
      "--------------------\n",
      "Makefile.suite: DATABASE= \n",
      "Replacement: DATABASE = SQLSERVER\n",
      "--------------------\n",
      "Makefile.suite: MACHINE = \n",
      "Replacement: MACHINE  = LINUX\n",
      "--------------------\n",
      "Makefile.suite: WORKLOAD = \n",
      "Replacement: WORKLOAD = TPCH\n",
      "--------------------\n"
     ]
    }
   ],
   "source": [
    "reload(tpch_setup)\n",
    "tpch_setup.create_makefile()"
   ]
  },
  {
   "cell_type": "code",
   "execution_count": 17,
   "metadata": {},
   "outputs": [
    {
     "name": "stdout",
     "output_type": "stream",
     "text": [
      "In file included from build.c:45:0:\n",
      "build.c: In function ‘mk_time’:\n",
      "dss.h:488:14: warning: format ‘%d’ expects argument of type ‘int’, but argument 3 has type ‘long int’ [-Wformat=]\n",
      " sprintf(tgt, \"19%02d-%02d-%02d\", yr, mn, dy)\n",
      "              ^\n",
      "build.c:420:2: note: in expansion of macro ‘PR_DATE’\n",
      "  PR_DATE(t->alpha, y, m,\n",
      "  ^~~~~~~\n",
      "dss.h:488:14: warning: format ‘%d’ expects argument of type ‘int’, but argument 4 has type ‘long int’ [-Wformat=]\n",
      " sprintf(tgt, \"19%02d-%02d-%02d\", yr, mn, dy)\n",
      "              ^\n",
      "build.c:420:2: note: in expansion of macro ‘PR_DATE’\n",
      "  PR_DATE(t->alpha, y, m,\n",
      "  ^~~~~~~\n",
      "dss.h:488:14: warning: format ‘%d’ expects argument of type ‘int’, but argument 5 has type ‘long int’ [-Wformat=]\n",
      " sprintf(tgt, \"19%02d-%02d-%02d\", yr, mn, dy)\n",
      "              ^\n",
      "build.c:420:2: note: in expansion of macro ‘PR_DATE’\n",
      "  PR_DATE(t->alpha, y, m,\n",
      "  ^~~~~~~\n",
      "driver.c: In function ‘gen_tbl’:\n",
      "driver.c:368:41: warning: format ‘%ld’ expects argument of type ‘long int’, but argument 3 has type ‘long long int’ [-Wformat=]\n",
      "    printf(\"\\nSeeds for %s at rowcount %ld\\n\", tdefs[tnum].comment, i);\n",
      "                                       ~~^\n",
      "                                       %lld\n",
      "driver.c: In function ‘partial’:\n",
      "driver.c:428:53: warning: format ‘%d’ expects argument of type ‘int’, but argument 4 has type ‘long int’ [-Wformat=]\n",
      "   fprintf (stderr, \"\\tStarting to load stage %d of %d for %s...\",\n",
      "                                                    ~^\n",
      "                                                    %ld\n",
      "driver.c: In function ‘main’:\n",
      "driver.c:754:31: warning: format ‘%d’ expects argument of type ‘int’, but argument 3 has type ‘long int’ [-Wformat=]\n",
      "     \"Generating update pair #%d for %s\",\n",
      "                              ~^\n",
      "                              %ld\n",
      "     upd_num + 1, tdefs[ORDER_LINE].comment);\n",
      "     ~~~~~~~~~~~                \n",
      "bm_utils.c: In function ‘yes_no’:\n",
      "bm_utils.c:158:9: warning: ignoring return value of ‘fgets’, declared with attribute warn_unused_result [-Wunused-result]\n",
      "         fgets(reply, 128, stdin);\n",
      "         ^~~~~~~~~~~~~~~~~~~~~~~~\n",
      "rnd.c: In function ‘row_stop’:\n",
      "rnd.c:131:55: warning: format ‘%d’ expects argument of type ‘int’, but argument 4 has type ‘long long int’ [-Wformat=]\n",
      "     fprintf(stderr, \"\\nSEED CHANGE: seed[%d].usage = %d\\n\",\n",
      "                                                      ~^\n",
      "                                                      %lld\n",
      "      i, Seed[i].usage);\n",
      "         ~~~~~~~~~~~~~                                  \n",
      "rnd.c: In function ‘dump_seeds’:\n",
      "rnd.c:154:17: warning: format ‘%ld’ expects argument of type ‘long int’, but argument 3 has type ‘long long int’ [-Wformat=]\n",
      "    printf(\"%d(%ld):\\t%ld\\n\", i, Seed[i].nCalls, Seed[i].value);\n",
      "               ~~^               ~~~~~~~~~~~~~~\n",
      "               %lld\n",
      "rnd.c:154:24: warning: format ‘%ld’ expects argument of type ‘long int’, but argument 4 has type ‘long long int’ [-Wformat=]\n",
      "    printf(\"%d(%ld):\\t%ld\\n\", i, Seed[i].nCalls, Seed[i].value);\n",
      "                      ~~^                        ~~~~~~~~~~~~~\n",
      "                      %lld\n",
      "print.c: In function ‘dbg_print’:\n",
      "print.c:138:22: warning: format ‘%ld’ expects argument of type ‘long int’, but argument 3 has type ‘int’ [-Wformat=]\n",
      "   fprintf(target, \"%ld.%02ld\", dollars, cents);\n",
      "                    ~~^\n",
      "                    %d\n",
      "print.c:138:28: warning: format ‘%ld’ expects argument of type ‘long int’, but argument 4 has type ‘int’ [-Wformat=]\n",
      "   fprintf(target, \"%ld.%02ld\", dollars, cents);\n",
      "                        ~~~~^\n",
      "                        %02d\n",
      "qgen.c: In function ‘main’:\n",
      "qgen.c:456:34: warning: format ‘%d’ expects argument of type ‘int’, but argument 3 has type ‘long int’ [-Wformat=]\n",
      "                 sprintf(qname, \"%d\", SEQUENCE(snum, atoi(av[i])));\n",
      "                                 ~^\n",
      "                                 %ld\n",
      "qgen.c:463:34: warning: format ‘%d’ expects argument of type ‘int’, but argument 3 has type ‘long int’ [-Wformat=]\n",
      "                 sprintf(qname, \"%d\", SEQUENCE(snum, i));\n",
      "                                 ~^\n",
      "                                 %ld\n",
      "\n",
      "gcc -g -DDBNAME=\\\"dss\\\" -DLINUX -DSQLSERVER -DTPCH -DRNG_TEST -D_FILE_OFFSET_BITS=64  -DNDEBUG -D_FORTIFY_SOURCE=2 -O2 -isystem /home/colin/miniconda3/envs/gcp/include  -c -o build.o build.c\n",
      "gcc -g -DDBNAME=\\\"dss\\\" -DLINUX -DSQLSERVER -DTPCH -DRNG_TEST -D_FILE_OFFSET_BITS=64  -DNDEBUG -D_FORTIFY_SOURCE=2 -O2 -isystem /home/colin/miniconda3/envs/gcp/include  -c -o driver.o driver.c\n",
      "gcc -g -DDBNAME=\\\"dss\\\" -DLINUX -DSQLSERVER -DTPCH -DRNG_TEST -D_FILE_OFFSET_BITS=64  -DNDEBUG -D_FORTIFY_SOURCE=2 -O2 -isystem /home/colin/miniconda3/envs/gcp/include  -c -o bm_utils.o bm_utils.c\n",
      "gcc -g -DDBNAME=\\\"dss\\\" -DLINUX -DSQLSERVER -DTPCH -DRNG_TEST -D_FILE_OFFSET_BITS=64  -DNDEBUG -D_FORTIFY_SOURCE=2 -O2 -isystem /home/colin/miniconda3/envs/gcp/include  -c -o rnd.o rnd.c\n",
      "gcc -g -DDBNAME=\\\"dss\\\" -DLINUX -DSQLSERVER -DTPCH -DRNG_TEST -D_FILE_OFFSET_BITS=64  -DNDEBUG -D_FORTIFY_SOURCE=2 -O2 -isystem /home/colin/miniconda3/envs/gcp/include  -c -o print.o print.c\n",
      "gcc -g -DDBNAME=\\\"dss\\\" -DLINUX -DSQLSERVER -DTPCH -DRNG_TEST -D_FILE_OFFSET_BITS=64  -DNDEBUG -D_FORTIFY_SOURCE=2 -O2 -isystem /home/colin/miniconda3/envs/gcp/include  -c -o load_stub.o load_stub.c\n",
      "gcc -g -DDBNAME=\\\"dss\\\" -DLINUX -DSQLSERVER -DTPCH -DRNG_TEST -D_FILE_OFFSET_BITS=64  -DNDEBUG -D_FORTIFY_SOURCE=2 -O2 -isystem /home/colin/miniconda3/envs/gcp/include  -c -o bcd2.o bcd2.c\n",
      "gcc -g -DDBNAME=\\\"dss\\\" -DLINUX -DSQLSERVER -DTPCH -DRNG_TEST -D_FILE_OFFSET_BITS=64  -DNDEBUG -D_FORTIFY_SOURCE=2 -O2 -isystem /home/colin/miniconda3/envs/gcp/include  -c -o speed_seed.o speed_seed.c\n",
      "gcc -g -DDBNAME=\\\"dss\\\" -DLINUX -DSQLSERVER -DTPCH -DRNG_TEST -D_FILE_OFFSET_BITS=64  -DNDEBUG -D_FORTIFY_SOURCE=2 -O2 -isystem /home/colin/miniconda3/envs/gcp/include  -c -o text.o text.c\n",
      "gcc -g -DDBNAME=\\\"dss\\\" -DLINUX -DSQLSERVER -DTPCH -DRNG_TEST -D_FILE_OFFSET_BITS=64  -DNDEBUG -D_FORTIFY_SOURCE=2 -O2 -isystem /home/colin/miniconda3/envs/gcp/include  -c -o permute.o permute.c\n",
      "gcc -g -DDBNAME=\\\"dss\\\" -DLINUX -DSQLSERVER -DTPCH -DRNG_TEST -D_FILE_OFFSET_BITS=64  -DNDEBUG -D_FORTIFY_SOURCE=2 -O2 -isystem /home/colin/miniconda3/envs/gcp/include  -c -o rng64.o rng64.c\n",
      "gcc -g -DDBNAME=\\\"dss\\\" -DLINUX -DSQLSERVER -DTPCH -DRNG_TEST -D_FILE_OFFSET_BITS=64  -O -o dbgen build.o driver.o bm_utils.o rnd.o print.o load_stub.o bcd2.o speed_seed.o text.o permute.o rng64.o -lm\n",
      "gcc -g -DDBNAME=\\\"dss\\\" -DLINUX -DSQLSERVER -DTPCH -DRNG_TEST -D_FILE_OFFSET_BITS=64  -DNDEBUG -D_FORTIFY_SOURCE=2 -O2 -isystem /home/colin/miniconda3/envs/gcp/include  -c -o qgen.o qgen.c\n",
      "gcc -g -DDBNAME=\\\"dss\\\" -DLINUX -DSQLSERVER -DTPCH -DRNG_TEST -D_FILE_OFFSET_BITS=64  -DNDEBUG -D_FORTIFY_SOURCE=2 -O2 -isystem /home/colin/miniconda3/envs/gcp/include  -c -o varsub.o varsub.c\n",
      "gcc -g -DDBNAME=\\\"dss\\\" -DLINUX -DSQLSERVER -DTPCH -DRNG_TEST -D_FILE_OFFSET_BITS=64  -O -o qgen build.o bm_utils.o qgen.o rnd.o varsub.o text.o bcd2.o permute.o speed_seed.o rng64.o -lm\n",
      "\n"
     ]
    }
   ],
   "source": [
    "reload(tpch_setup)\n",
    "tpch_setup.make_tpch()"
   ]
  },
  {
   "cell_type": "code",
   "execution_count": 14,
   "metadata": {},
   "outputs": [
    {
     "data": {
      "text/plain": [
       "'/home/colin/code/bq_snowflake_benchmark/h/2.18.0_rc2/dbgen'"
      ]
     },
     "execution_count": 14,
     "metadata": {},
     "output_type": "execute_result"
    }
   ],
   "source": [
    "config.fp_h_src + config.sep + \"dbgen\""
   ]
  },
  {
   "cell_type": "code",
   "execution_count": null,
   "metadata": {},
   "outputs": [],
   "source": []
  }
 ],
 "metadata": {
  "kernelspec": {
   "display_name": "Python 3",
   "language": "python",
   "name": "python3"
  },
  "language_info": {
   "codemirror_mode": {
    "name": "ipython",
    "version": 3
   },
   "file_extension": ".py",
   "mimetype": "text/x-python",
   "name": "python",
   "nbconvert_exporter": "python",
   "pygments_lexer": "ipython3",
   "version": "3.6.10"
  }
 },
 "nbformat": 4,
 "nbformat_minor": 4
}
