{
 "cells": [
  {
   "cell_type": "markdown",
   "metadata": {},
   "source": [
    "## TPC-H Schema Generation  \n",
    "Generate schemas for tests using TPC-H data."
   ]
  },
  {
   "cell_type": "code",
   "execution_count": null,
   "metadata": {},
   "outputs": [],
   "source": [
    "import schema, config"
   ]
  },
  {
   "cell_type": "raw",
   "metadata": {},
   "source": [
    "from importlib import reload"
   ]
  },
  {
   "cell_type": "markdown",
   "metadata": {},
   "source": [
    "#### I. Rewrite ANSI SQL table schema for BigQuery  \n",
    "This is the 'naive' or a basic translation of the TPC-H schema as specified in `dbgen/dss.ddl`  \n",
    "\n",
    "Type conversions were done as follows:  \n",
    "\n",
    "| TPC-DS ANSI SQL | BigQuery SQL |\n",
    "| --------------- | ------------ |\n",
    "| decimal         | FLOAT64      |  \n",
    "| integer         | INT64        |  \n",
    "| char(N)         | STRING       |  \n",
    "| varchar(N)      | STRING       |\n",
    "| time            | TIME         |  \n",
    "| date            | DATE         |  "
   ]
  },
  {
   "cell_type": "code",
   "execution_count": null,
   "metadata": {},
   "outputs": [],
   "source": [
    "config.test_schema_bq"
   ]
  },
  {
   "cell_type": "code",
   "execution_count": null,
   "metadata": {},
   "outputs": [],
   "source": [
    "# ex_h_1 = dataset \"h_basic\"\n",
    "schema.rewrite_ds_basic(filepath_out=config.h_schema_bq_basic_filepath, \n",
    "                        dataset_name=\"h_basic\")"
   ]
  },
  {
   "cell_type": "code",
   "execution_count": null,
   "metadata": {},
   "outputs": [],
   "source": []
  }
 ],
 "metadata": {
  "kernelspec": {
   "display_name": "Python 3",
   "language": "python",
   "name": "python3"
  },
  "language_info": {
   "codemirror_mode": {
    "name": "ipython",
    "version": 3
   },
   "file_extension": ".py",
   "mimetype": "text/x-python",
   "name": "python",
   "nbconvert_exporter": "python",
   "pygments_lexer": "ipython3",
   "version": "3.6.10"
  }
 },
 "nbformat": 4,
 "nbformat_minor": 4
}
