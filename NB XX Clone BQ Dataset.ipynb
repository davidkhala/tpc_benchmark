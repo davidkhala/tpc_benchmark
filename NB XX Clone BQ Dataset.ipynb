{
 "cells": [
  {
   "cell_type": "markdown",
   "metadata": {},
   "source": [
    "#### Table Replication  \n",
    "Use predefined SQL table copies to partion and cluster new tables"
   ]
  },
  {
   "cell_type": "code",
   "execution_count": 1,
   "metadata": {},
   "outputs": [],
   "source": [
    "import bq, config, sfa\n",
    "from google.cloud import bigquery"
   ]
  },
  {
   "cell_type": "code",
   "execution_count": 10,
   "metadata": {},
   "outputs": [],
   "source": [
    "from importlib import reload"
   ]
  },
  {
   "cell_type": "code",
   "execution_count": 2,
   "metadata": {},
   "outputs": [],
   "source": [
    "project = \"tpc-benchmarking-9432\""
   ]
  },
  {
   "cell_type": "code",
   "execution_count": 3,
   "metadata": {},
   "outputs": [],
   "source": [
    "fp_schema = config.fp_schema + config.sep + \"ds_01A.sql\""
   ]
  },
  {
   "cell_type": "code",
   "execution_count": 4,
   "metadata": {},
   "outputs": [],
   "source": [
    "source_dataset = \"ds_1GB_01\"\n",
    "destination_dataset = \"ds_1GB_03\""
   ]
  },
  {
   "cell_type": "code",
   "execution_count": null,
   "metadata": {},
   "outputs": [],
   "source": []
  },
  {
   "cell_type": "code",
   "execution_count": 5,
   "metadata": {},
   "outputs": [],
   "source": [
    "sf = sfa.SFTPC(test=\"ds\",\n",
    "               scale=100,\n",
    "               cid=\"\",\n",
    "               warehouse=\"TEST9000\", \n",
    "               desc=\"dev_clone_test_1\",\n",
    "               verbose=True,\n",
    "               verbose_query=False)"
   ]
  },
  {
   "cell_type": "code",
   "execution_count": 8,
   "metadata": {},
   "outputs": [],
   "source": [
    "sf.database = \"DS_100GB\""
   ]
  },
  {
   "cell_type": "code",
   "execution_count": 23,
   "metadata": {},
   "outputs": [
    {
     "name": "stdout",
     "output_type": "stream",
     "text": [
      "Snowflake configuration\n",
      "=======================\n",
      "Username: colin\n",
      "Account:  wja13212\n",
      "\n",
      "019468bf-026f-2ad5-0009-c083000469da\n"
     ]
    }
   ],
   "source": [
    "reload(sfa)\n",
    "sf = sfa.SFTPC(test=\"ds\",\n",
    "               scale=100,\n",
    "               cid=\"0X\",\n",
    "               warehouse=\"TEST9000\", \n",
    "               desc=\"dev_clone_test_1\",\n",
    "               verbose=True,\n",
    "               verbose_query=False)\n",
    "sf.database = \"DS_100GB_0X\"\n",
    "sf.connect()\n",
    "\n",
    "query_result = sf.copy(\"DS_100GB_01\")\n",
    "print(query_result.sfqid)\n",
    "\n",
    "sf.close()"
   ]
  },
  {
   "cell_type": "code",
   "execution_count": 16,
   "metadata": {},
   "outputs": [
    {
     "data": {
      "text/plain": [
       "<snowflake.connector.cursor.SnowflakeCursor at 0x7fae51525e10>"
      ]
     },
     "execution_count": 16,
     "metadata": {},
     "output_type": "execute_result"
    }
   ],
   "source": [
    "query_result"
   ]
  },
  {
   "cell_type": "code",
   "execution_count": 20,
   "metadata": {},
   "outputs": [
    {
     "data": {
      "text/plain": [
       "'01946798-0291-a6c8-0009-c08300048366'"
      ]
     },
     "execution_count": 20,
     "metadata": {},
     "output_type": "execute_result"
    }
   ],
   "source": [
    "query_result.sfqid"
   ]
  },
  {
   "cell_type": "code",
   "execution_count": null,
   "metadata": {},
   "outputs": [],
   "source": [
    "def create_table_remix(fp_schema, source, destination, dot=False):\n",
    "    \n",
    "    if dot:\n",
    "        source = source + \".\"\n",
    "        destination = destination + \".\"\n",
    "    \n",
    "    with open(fp_schema, \"r\") as f:\n",
    "        query_text = f.read()\n",
    "    query_text = query_text.replace(\"_source_table.\", source)\n",
    "    query_text = query_text.replace(\"_destination_table.\", destination)\n",
    "    return query_text"
   ]
  },
  {
   "cell_type": "code",
   "execution_count": null,
   "metadata": {},
   "outputs": [],
   "source": [
    "query_text = create_table_remix(fp_schema=fp_schema,\n",
    "                                source=source_dataset,\n",
    "                                destination=destination_dataset,\n",
    "                                dot=True)"
   ]
  },
  {
   "cell_type": "code",
   "execution_count": null,
   "metadata": {},
   "outputs": [],
   "source": [
    "print(query_text[0:200])"
   ]
  },
  {
   "cell_type": "code",
   "execution_count": null,
   "metadata": {},
   "outputs": [],
   "source": [
    "query_text = create_table_remix(fp_schema=fp_schema,\n",
    "                                source=\"\",\n",
    "                                destination=\"\",\n",
    "                                dot=False)"
   ]
  },
  {
   "cell_type": "code",
   "execution_count": null,
   "metadata": {},
   "outputs": [],
   "source": [
    "print(query_text[0:200])"
   ]
  },
  {
   "cell_type": "code",
   "execution_count": null,
   "metadata": {},
   "outputs": [],
   "source": [
    "bq.create_dataset(destination_dataset)"
   ]
  },
  {
   "cell_type": "code",
   "execution_count": null,
   "metadata": {},
   "outputs": [],
   "source": [
    "%%time\n",
    "query_job = bq.query(query_text=query_text,\n",
    "                     project=project,\n",
    "                     dataset=destination_dataset,\n",
    "                     dry_run=False,\n",
    "                     use_cache=False)\n",
    "query_job.result()"
   ]
  },
  {
   "cell_type": "code",
   "execution_count": null,
   "metadata": {},
   "outputs": [],
   "source": []
  }
 ],
 "metadata": {
  "kernelspec": {
   "display_name": "Python 3",
   "language": "python",
   "name": "python3"
  },
  "language_info": {
   "codemirror_mode": {
    "name": "ipython",
    "version": 3
   },
   "file_extension": ".py",
   "mimetype": "text/x-python",
   "name": "python",
   "nbconvert_exporter": "python",
   "pygments_lexer": "ipython3",
   "version": "3.7.7"
  }
 },
 "nbformat": 4,
 "nbformat_minor": 4
}
