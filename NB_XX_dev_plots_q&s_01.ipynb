{
 "cells": [
  {
   "cell_type": "markdown",
   "metadata": {},
   "source": [
    "### TPC Benchmarking  \n",
    "Results Plotting  "
   ]
  },
  {
   "cell_type": "code",
   "execution_count": 1,
   "metadata": {},
   "outputs": [],
   "source": [
    "import numpy as np\n",
    "import pandas as pd\n",
    "import matplotlib.pyplot as plt\n",
    "import seaborn as sns\n",
    "from datetime import datetime\n",
    "\n",
    "sns.set_context(\"notebook\", font_scale=1.0, rc={\"lines.linewidth\": 1.0})\n",
    "\n",
    "import config"
   ]
  },
  {
   "cell_type": "code",
   "execution_count": 2,
   "metadata": {},
   "outputs": [],
   "source": [
    "fpb = \"/home/colin/data/tpc_logs/\""
   ]
  },
  {
   "cell_type": "code",
   "execution_count": 3,
   "metadata": {},
   "outputs": [],
   "source": [
    "test = \"TPC-H\"\n",
    "scale_factor = \"100\""
   ]
  },
  {
   "cell_type": "code",
   "execution_count": 22,
   "metadata": {},
   "outputs": [],
   "source": [
    "# H 100GB Scale Factor Queries\n",
    "fps = [\"bq_h_query_times-100GB-h_100GB_01-default-2020-05-01 09:54:14.099669.csv\",\n",
    "       \"bq_h_query_times-100GB-h_100GB_02-partition by time-2020-05-01 23:23:17.050195.csv\",\n",
    "       \"bq_h_query_times-100GB-h_100GB_03-partition by time & int range-2020-05-01 23:48:05.744723.csv\",\n",
    "       \"bq_h_query_times-100GB-h_100GB_04-cluster & partition by time & int range-2020-05-02 00:12:02.612155.csv\",\n",
    "       \"sf_h_query_times-h_100GB_01-default_A-20200503-222731.csv\",\n",
    "       \"sf_h_query_times-h_100GB_01-default_B-20200504-060728.csv\",\n",
    "       \"sf_h_query_times-h_100GB_01-default_C-20200504-062614.csv\",\n",
    "       \"sf_h_query_times-h_100GB_01-default_D-manual.csv\"\n",
    "      ]"
   ]
  },
  {
   "cell_type": "raw",
   "metadata": {},
   "source": [
    "# H 1000GB Scale Factor Queries\n",
    "fps = [\"bq_h_query_times-1000GB-h_1000GB_01-default-2020-05-02 23:29:25.606185.csv\",\n",
    "       \"bq_h_query_times-1000GB-h_1000GB_02-partition by time-2020-05-02 23:47:47.417348.csv\",\n",
    "       \"bq_h_query_times-1000GB-h_1000GB_03-partition by time & int range-2020-05-02 23:47:54.588857.csv\",\n",
    "       \"bq_h_query_times-1000GB-h_1000GB_04-cluster & partition by time & int range-2020-05-02 23:48:16.094408.csv\"\n",
    "]"
   ]
  },
  {
   "cell_type": "raw",
   "metadata": {},
   "source": [
    "# H 1000GB Scale Factor Streams\n",
    "fps = [\"bq_h_stream_times-1000GB-h_1000GB_01-default-2020-05-03 00:14:10.536374.csv\",\n",
    "       \"bq_h_stream_times-1000GB-h_1000GB_02-partition by time-2020-05-03 00:36:16.856349.csv\",\n",
    "       \"bq_h_stream_times-1000GB-h_1000GB_03-partition by time & int range-2020-05-03 00:33:58.589667.csv\",\n",
    "       \"bq_h_stream_times-1000GB-h_1000GB_04-cluster & partition by time & int range-2020-05-03 00:34:34.837891.csv\"\n",
    "      ]"
   ]
  },
  {
   "cell_type": "raw",
   "metadata": {},
   "source": [
    "# DS 100GB Scale Factor Queries\n",
    "fps = [\n",
    "       \"sf_ds_query_times-ds_100GB_01-default-20200503-223155.csv\"]"
   ]
  },
  {
   "cell_type": "raw",
   "metadata": {},
   "source": [
    "# type of test being plotted, choose one.\n",
    "x_type = \"query_n\"\n",
    "#x_type = \"stream_p\""
   ]
  },
  {
   "cell_type": "code",
   "execution_count": 23,
   "metadata": {},
   "outputs": [],
   "source": [
    "if \"query\" in fps[0]:\n",
    "    x_type = \"query_n\"\n",
    "else:\n",
    "    x_type = \"stream_p\""
   ]
  },
  {
   "cell_type": "code",
   "execution_count": 24,
   "metadata": {},
   "outputs": [],
   "source": [
    "def ts_converter(t_str):\n",
    "    try:\n",
    "        float(t_str)\n",
    "        return pd.to_datetime(datetime.fromtimestamp(t_str))\n",
    "    except:\n",
    "        return pd.to_datetime(t_str)"
   ]
  },
  {
   "cell_type": "code",
   "execution_count": 25,
   "metadata": {},
   "outputs": [],
   "source": [
    "def parse(fp, x_type):\n",
    "    x_type = {\"q\":\"query_n\", \"s\":\"stream_p\"}[x_type]\n",
    "    df = pd.read_csv(fp)\n",
    "    #df.t0 = pd.to_datetime(df.t0)\n",
    "    #df.t1 = pd.to_datetime(df.t1)\n",
    "    df.t0 = df.t0.apply(ts_converter)\n",
    "    df.t1 = df.t1.apply(ts_converter)\n",
    "    df[\"dt\"] = df.t1 - df.t0\n",
    "    df[\"dt_s\"] = df.dt.dt.total_seconds()\n",
    "    return df"
   ]
  },
  {
   "cell_type": "code",
   "execution_count": 26,
   "metadata": {},
   "outputs": [],
   "source": [
    "df = pd.DataFrame(None)\n",
    "for _fp in fps:\n",
    "    _df = parse(fpb + _fp, \"q\")\n",
    "    df = pd.concat([df, _df])"
   ]
  },
  {
   "cell_type": "code",
   "execution_count": 27,
   "metadata": {},
   "outputs": [],
   "source": [
    "df = df.sort_values(by=\"bq_dataset\")"
   ]
  },
  {
   "cell_type": "code",
   "execution_count": 28,
   "metadata": {},
   "outputs": [],
   "source": [
    "df[\"description\"] = df.db + \"_\" + df.desc"
   ]
  },
  {
   "cell_type": "code",
   "execution_count": null,
   "metadata": {},
   "outputs": [],
   "source": []
  },
  {
   "cell_type": "code",
   "execution_count": null,
   "metadata": {},
   "outputs": [],
   "source": []
  },
  {
   "cell_type": "code",
   "execution_count": 29,
   "metadata": {},
   "outputs": [
    {
     "data": {
      "text/html": [
       "<div>\n",
       "<style scoped>\n",
       "    .dataframe tbody tr th:only-of-type {\n",
       "        vertical-align: middle;\n",
       "    }\n",
       "\n",
       "    .dataframe tbody tr th {\n",
       "        vertical-align: top;\n",
       "    }\n",
       "\n",
       "    .dataframe thead th {\n",
       "        text-align: right;\n",
       "    }\n",
       "</style>\n",
       "<table border=\"1\" class=\"dataframe\">\n",
       "  <thead>\n",
       "    <tr style=\"text-align: right;\">\n",
       "      <th></th>\n",
       "      <th>db</th>\n",
       "      <th>test</th>\n",
       "      <th>scale</th>\n",
       "      <th>bq_dataset</th>\n",
       "      <th>desc</th>\n",
       "      <th>query_n</th>\n",
       "      <th>t0</th>\n",
       "      <th>t1</th>\n",
       "      <th>bytes_processed</th>\n",
       "      <th>bytes_billed</th>\n",
       "      <th>dt</th>\n",
       "      <th>dt_s</th>\n",
       "      <th>query_plan</th>\n",
       "      <th>cost</th>\n",
       "      <th>description</th>\n",
       "    </tr>\n",
       "  </thead>\n",
       "  <tbody>\n",
       "    <tr>\n",
       "      <th>9</th>\n",
       "      <td>sf</td>\n",
       "      <td>h</td>\n",
       "      <td>100</td>\n",
       "      <td>h_100GB_01</td>\n",
       "      <td>01 default B</td>\n",
       "      <td>10</td>\n",
       "      <td>2020-05-04 06:06:36.127713</td>\n",
       "      <td>2020-05-04 06:06:42.675496</td>\n",
       "      <td>-1</td>\n",
       "      <td>NaN</td>\n",
       "      <td>00:00:06.547783</td>\n",
       "      <td>6.547783</td>\n",
       "      <td>NaN</td>\n",
       "      <td>0.003667</td>\n",
       "      <td>sf_01 default B</td>\n",
       "    </tr>\n",
       "    <tr>\n",
       "      <th>8</th>\n",
       "      <td>sf</td>\n",
       "      <td>h</td>\n",
       "      <td>100</td>\n",
       "      <td>h_100GB_01</td>\n",
       "      <td>01 default B</td>\n",
       "      <td>9</td>\n",
       "      <td>2020-05-04 06:06:24.455642</td>\n",
       "      <td>2020-05-04 06:06:36.117559</td>\n",
       "      <td>-1</td>\n",
       "      <td>NaN</td>\n",
       "      <td>00:00:11.661917</td>\n",
       "      <td>11.661917</td>\n",
       "      <td>NaN</td>\n",
       "      <td>0.006531</td>\n",
       "      <td>sf_01 default B</td>\n",
       "    </tr>\n",
       "    <tr>\n",
       "      <th>7</th>\n",
       "      <td>sf</td>\n",
       "      <td>h</td>\n",
       "      <td>100</td>\n",
       "      <td>h_100GB_01</td>\n",
       "      <td>01 default B</td>\n",
       "      <td>8</td>\n",
       "      <td>2020-05-04 06:06:20.570056</td>\n",
       "      <td>2020-05-04 06:06:24.448250</td>\n",
       "      <td>-1</td>\n",
       "      <td>NaN</td>\n",
       "      <td>00:00:03.878194</td>\n",
       "      <td>3.878194</td>\n",
       "      <td>NaN</td>\n",
       "      <td>0.002172</td>\n",
       "      <td>sf_01 default B</td>\n",
       "    </tr>\n",
       "    <tr>\n",
       "      <th>6</th>\n",
       "      <td>sf</td>\n",
       "      <td>h</td>\n",
       "      <td>100</td>\n",
       "      <td>h_100GB_01</td>\n",
       "      <td>01 default B</td>\n",
       "      <td>7</td>\n",
       "      <td>2020-05-04 06:06:12.401466</td>\n",
       "      <td>2020-05-04 06:06:20.562500</td>\n",
       "      <td>-1</td>\n",
       "      <td>NaN</td>\n",
       "      <td>00:00:08.161034</td>\n",
       "      <td>8.161034</td>\n",
       "      <td>NaN</td>\n",
       "      <td>0.004570</td>\n",
       "      <td>sf_01 default B</td>\n",
       "    </tr>\n",
       "    <tr>\n",
       "      <th>5</th>\n",
       "      <td>sf</td>\n",
       "      <td>h</td>\n",
       "      <td>100</td>\n",
       "      <td>h_100GB_01</td>\n",
       "      <td>01 default B</td>\n",
       "      <td>6</td>\n",
       "      <td>2020-05-04 06:06:11.553088</td>\n",
       "      <td>2020-05-04 06:06:12.394160</td>\n",
       "      <td>-1</td>\n",
       "      <td>NaN</td>\n",
       "      <td>00:00:00.841072</td>\n",
       "      <td>0.841072</td>\n",
       "      <td>NaN</td>\n",
       "      <td>0.000471</td>\n",
       "      <td>sf_01 default B</td>\n",
       "    </tr>\n",
       "  </tbody>\n",
       "</table>\n",
       "</div>"
      ],
      "text/plain": [
       "   db test  scale  bq_dataset          desc  query_n  \\\n",
       "9  sf    h    100  h_100GB_01  01 default B       10   \n",
       "8  sf    h    100  h_100GB_01  01 default B        9   \n",
       "7  sf    h    100  h_100GB_01  01 default B        8   \n",
       "6  sf    h    100  h_100GB_01  01 default B        7   \n",
       "5  sf    h    100  h_100GB_01  01 default B        6   \n",
       "\n",
       "                           t0                          t1  bytes_processed  \\\n",
       "9  2020-05-04 06:06:36.127713  2020-05-04 06:06:42.675496               -1   \n",
       "8  2020-05-04 06:06:24.455642  2020-05-04 06:06:36.117559               -1   \n",
       "7  2020-05-04 06:06:20.570056  2020-05-04 06:06:24.448250               -1   \n",
       "6  2020-05-04 06:06:12.401466  2020-05-04 06:06:20.562500               -1   \n",
       "5  2020-05-04 06:06:11.553088  2020-05-04 06:06:12.394160               -1   \n",
       "\n",
       "   bytes_billed              dt       dt_s query_plan      cost  \\\n",
       "9           NaN 00:00:06.547783   6.547783        NaN  0.003667   \n",
       "8           NaN 00:00:11.661917  11.661917        NaN  0.006531   \n",
       "7           NaN 00:00:03.878194   3.878194        NaN  0.002172   \n",
       "6           NaN 00:00:08.161034   8.161034        NaN  0.004570   \n",
       "5           NaN 00:00:00.841072   0.841072        NaN  0.000471   \n",
       "\n",
       "       description  \n",
       "9  sf_01 default B  \n",
       "8  sf_01 default B  \n",
       "7  sf_01 default B  \n",
       "6  sf_01 default B  \n",
       "5  sf_01 default B  "
      ]
     },
     "execution_count": 29,
     "metadata": {},
     "output_type": "execute_result"
    }
   ],
   "source": [
    "df[df.db == \"sf\"].head()"
   ]
  },
  {
   "cell_type": "code",
   "execution_count": 30,
   "metadata": {},
   "outputs": [
    {
     "data": {
      "text/html": [
       "<div>\n",
       "<style scoped>\n",
       "    .dataframe tbody tr th:only-of-type {\n",
       "        vertical-align: middle;\n",
       "    }\n",
       "\n",
       "    .dataframe tbody tr th {\n",
       "        vertical-align: top;\n",
       "    }\n",
       "\n",
       "    .dataframe thead th {\n",
       "        text-align: right;\n",
       "    }\n",
       "</style>\n",
       "<table border=\"1\" class=\"dataframe\">\n",
       "  <thead>\n",
       "    <tr style=\"text-align: right;\">\n",
       "      <th></th>\n",
       "      <th>db</th>\n",
       "      <th>test</th>\n",
       "      <th>scale</th>\n",
       "      <th>bq_dataset</th>\n",
       "      <th>desc</th>\n",
       "      <th>query_n</th>\n",
       "      <th>t0</th>\n",
       "      <th>t1</th>\n",
       "      <th>bytes_processed</th>\n",
       "      <th>bytes_billed</th>\n",
       "      <th>dt</th>\n",
       "      <th>dt_s</th>\n",
       "      <th>query_plan</th>\n",
       "      <th>cost</th>\n",
       "      <th>description</th>\n",
       "    </tr>\n",
       "  </thead>\n",
       "  <tbody>\n",
       "    <tr>\n",
       "      <th>0</th>\n",
       "      <td>bq</td>\n",
       "      <td>h</td>\n",
       "      <td>100</td>\n",
       "      <td>h_100GB_01</td>\n",
       "      <td>01 default</td>\n",
       "      <td>1</td>\n",
       "      <td>2020-05-01 16:51:09.886000+00:00</td>\n",
       "      <td>2020-05-01 16:51:12.352000+00:00</td>\n",
       "      <td>27601743492</td>\n",
       "      <td>2.760271e+10</td>\n",
       "      <td>00:00:02.466000</td>\n",
       "      <td>2.466</td>\n",
       "      <td>NaN</td>\n",
       "      <td>NaN</td>\n",
       "      <td>bq_01 default</td>\n",
       "    </tr>\n",
       "    <tr>\n",
       "      <th>21</th>\n",
       "      <td>bq</td>\n",
       "      <td>h</td>\n",
       "      <td>100</td>\n",
       "      <td>h_100GB_01</td>\n",
       "      <td>01 default</td>\n",
       "      <td>22</td>\n",
       "      <td>2020-05-01 16:54:10.426000+00:00</td>\n",
       "      <td>2020-05-01 16:54:13.231000+00:00</td>\n",
       "      <td>1695000000</td>\n",
       "      <td>1.695547e+09</td>\n",
       "      <td>00:00:02.805000</td>\n",
       "      <td>2.805</td>\n",
       "      <td>NaN</td>\n",
       "      <td>NaN</td>\n",
       "      <td>bq_01 default</td>\n",
       "    </tr>\n",
       "    <tr>\n",
       "      <th>20</th>\n",
       "      <td>bq</td>\n",
       "      <td>h</td>\n",
       "      <td>100</td>\n",
       "      <td>h_100GB_01</td>\n",
       "      <td>01 default</td>\n",
       "      <td>21</td>\n",
       "      <td>2020-05-01 16:53:52.484000+00:00</td>\n",
       "      <td>2020-05-01 16:54:08.952000+00:00</td>\n",
       "      <td>20887213291</td>\n",
       "      <td>2.088763e+10</td>\n",
       "      <td>00:00:16.468000</td>\n",
       "      <td>16.468</td>\n",
       "      <td>NaN</td>\n",
       "      <td>NaN</td>\n",
       "      <td>bq_01 default</td>\n",
       "    </tr>\n",
       "    <tr>\n",
       "      <th>19</th>\n",
       "      <td>bq</td>\n",
       "      <td>h</td>\n",
       "      <td>100</td>\n",
       "      <td>h_100GB_01</td>\n",
       "      <td>01 default</td>\n",
       "      <td>20</td>\n",
       "      <td>2020-05-01 16:53:46.434000+00:00</td>\n",
       "      <td>2020-05-01 16:53:50.397000+00:00</td>\n",
       "      <td>22039194456</td>\n",
       "      <td>2.204002e+10</td>\n",
       "      <td>00:00:03.963000</td>\n",
       "      <td>3.963</td>\n",
       "      <td>NaN</td>\n",
       "      <td>NaN</td>\n",
       "      <td>bq_01 default</td>\n",
       "    </tr>\n",
       "    <tr>\n",
       "      <th>18</th>\n",
       "      <td>bq</td>\n",
       "      <td>h</td>\n",
       "      <td>100</td>\n",
       "      <td>h_100GB_01</td>\n",
       "      <td>01 default</td>\n",
       "      <td>19</td>\n",
       "      <td>2020-05-01 16:53:44.106000+00:00</td>\n",
       "      <td>2020-05-01 16:53:45.277000+00:00</td>\n",
       "      <td>32084756573</td>\n",
       "      <td>3.208538e+10</td>\n",
       "      <td>00:00:01.171000</td>\n",
       "      <td>1.171</td>\n",
       "      <td>NaN</td>\n",
       "      <td>NaN</td>\n",
       "      <td>bq_01 default</td>\n",
       "    </tr>\n",
       "  </tbody>\n",
       "</table>\n",
       "</div>"
      ],
      "text/plain": [
       "    db test  scale  bq_dataset        desc  query_n  \\\n",
       "0   bq    h    100  h_100GB_01  01 default        1   \n",
       "21  bq    h    100  h_100GB_01  01 default       22   \n",
       "20  bq    h    100  h_100GB_01  01 default       21   \n",
       "19  bq    h    100  h_100GB_01  01 default       20   \n",
       "18  bq    h    100  h_100GB_01  01 default       19   \n",
       "\n",
       "                                  t0                                t1  \\\n",
       "0   2020-05-01 16:51:09.886000+00:00  2020-05-01 16:51:12.352000+00:00   \n",
       "21  2020-05-01 16:54:10.426000+00:00  2020-05-01 16:54:13.231000+00:00   \n",
       "20  2020-05-01 16:53:52.484000+00:00  2020-05-01 16:54:08.952000+00:00   \n",
       "19  2020-05-01 16:53:46.434000+00:00  2020-05-01 16:53:50.397000+00:00   \n",
       "18  2020-05-01 16:53:44.106000+00:00  2020-05-01 16:53:45.277000+00:00   \n",
       "\n",
       "    bytes_processed  bytes_billed              dt    dt_s query_plan  cost  \\\n",
       "0       27601743492  2.760271e+10 00:00:02.466000   2.466        NaN   NaN   \n",
       "21       1695000000  1.695547e+09 00:00:02.805000   2.805        NaN   NaN   \n",
       "20      20887213291  2.088763e+10 00:00:16.468000  16.468        NaN   NaN   \n",
       "19      22039194456  2.204002e+10 00:00:03.963000   3.963        NaN   NaN   \n",
       "18      32084756573  3.208538e+10 00:00:01.171000   1.171        NaN   NaN   \n",
       "\n",
       "      description  \n",
       "0   bq_01 default  \n",
       "21  bq_01 default  \n",
       "20  bq_01 default  \n",
       "19  bq_01 default  \n",
       "18  bq_01 default  "
      ]
     },
     "execution_count": 30,
     "metadata": {},
     "output_type": "execute_result"
    }
   ],
   "source": [
    "df[df.db == \"bq\"].head()"
   ]
  },
  {
   "cell_type": "code",
   "execution_count": 31,
   "metadata": {},
   "outputs": [],
   "source": [
    "dfp_dt = df.pivot(index=x_type, columns=\"description\", values=\"dt_s\")\n",
    "dfp_bp = df.pivot(index=x_type, columns=\"description\", values=\"bytes_processed\")"
   ]
  },
  {
   "cell_type": "code",
   "execution_count": 32,
   "metadata": {},
   "outputs": [],
   "source": [
    "def bytes_to_TebiByte(b):\n",
    "    return b / 1099511627776"
   ]
  },
  {
   "cell_type": "code",
   "execution_count": 33,
   "metadata": {},
   "outputs": [],
   "source": [
    "dfp_bp = dfp_bp.apply(bytes_to_TebiByte)"
   ]
  },
  {
   "cell_type": "markdown",
   "metadata": {},
   "source": [
    "### Plot Results"
   ]
  },
  {
   "cell_type": "code",
   "execution_count": 34,
   "metadata": {},
   "outputs": [],
   "source": [
    "sns.set_style(\"darkgrid\", {\"xtick.bottom\":True})"
   ]
  },
  {
   "cell_type": "code",
   "execution_count": 35,
   "metadata": {},
   "outputs": [],
   "source": [
    "flatui = [\"#9b59b6\", \"#3498db\", \"#95a5a6\", \"#e74c3c\", \"#34495e\", \"#2ecc71\"]\n",
    "set2 = sns.color_palette(\"Set2\", 8)\n",
    "hls = sns.hls_palette(n_colors=12)"
   ]
  },
  {
   "cell_type": "code",
   "execution_count": 36,
   "metadata": {},
   "outputs": [
    {
     "name": "stdout",
     "output_type": "stream",
     "text": [
      "\n"
     ]
    },
    {
     "data": {
      "image/png": "[encoded data removed]",
      "text/plain": [
       "<Figure size 2016x756 with 2 Axes>"
      ]
     },
     "metadata": {},
     "output_type": "display_data"
    }
   ],
   "source": [
    "plot_name = \"{}_{}GB_{}_comparison.png\".format(test, scale_factor, x_type)\n",
    "\n",
    "# invert bytes processed for plotting\n",
    "_dfp_bp = dfp_bp.copy() * -1\n",
    "color_palette = hls\n",
    "fig, (ax1, ax2) = plt.subplots(2, 1)\n",
    "ax1 = dfp_dt.plot.bar(ax=ax1, legend=False, color=color_palette)\n",
    "ax2 = _dfp_bp.plot.bar(ax=ax2, legend=False, color=color_palette);\n",
    "\n",
    "# set the figure size BEFORE adjusting ticks\n",
    "fig.set_size_inches(28, 10.5, forward=True)\n",
    "\n",
    "handles, labels = ax1.get_legend_handles_labels()\n",
    "\n",
    "ax1.set_ylabel(\"Time in Seconds\")\n",
    "ax1.set_xlabel(None)\n",
    "ax1_xticklabels = ax1.get_xticklabels()\n",
    "ax1.set_xticklabels(labels=[])\n",
    "\n",
    "ax2.set_ylabel(\"TiB Processed\")\n",
    "ax2.set_xlabel(\"Query Number\")\n",
    "ticks =  ax2.get_yticks()\n",
    "ticks = [\"{:01.3f}\".format(abs(tick)) for tick in ticks]\n",
    "ax2.set_yticklabels(ticks);\n",
    "ax2.xaxis.tick_top()\n",
    "\n",
    "plt.subplots_adjust(hspace=0.11)\n",
    "plt.subplots_adjust(right=0.79)\n",
    "\n",
    "fig.legend(handles, labels, loc=\"right\")\n",
    "#fig.legend(handles, labels, loc=\"lower center\")\n",
    "plt.savefig(config.fp_plots + config.sep + plot_name, bbox_to_anchor='tight')\n",
    "print();"
   ]
  },
  {
   "cell_type": "code",
   "execution_count": 19,
   "metadata": {},
   "outputs": [
    {
     "data": {
      "text/plain": [
       "description\n",
       "bq_01 default                                    146.489000\n",
       "bq_02 partition by time                          199.327000\n",
       "bq_03 partition by time & int range              191.272000\n",
       "bq_04 cluster & partition by time & int range    177.795000\n",
       "sf_01 default A                                   10.196106\n",
       "sf_01 default B                                  104.172527\n",
       "sf_01 default C                                   15.815140\n",
       "dtype: float64"
      ]
     },
     "execution_count": 19,
     "metadata": {},
     "output_type": "execute_result"
    }
   ],
   "source": [
    "dfp_dt.sum()"
   ]
  },
  {
   "cell_type": "code",
   "execution_count": 20,
   "metadata": {},
   "outputs": [
    {
     "data": {
      "text/plain": [
       "description\n",
       "bq_01 default                                    3.759159e-01\n",
       "bq_02 partition by time                          2.745481e-01\n",
       "bq_03 partition by time & int range              2.723794e-01\n",
       "bq_04 cluster & partition by time & int range    2.475311e-01\n",
       "sf_01 default A                                 -2.000888e-11\n",
       "sf_01 default B                                 -2.000888e-11\n",
       "sf_01 default C                                 -2.000888e-11\n",
       "dtype: float64"
      ]
     },
     "execution_count": 20,
     "metadata": {},
     "output_type": "execute_result"
    }
   ],
   "source": [
    "dfp_bp.sum()"
   ]
  },
  {
   "cell_type": "code",
   "execution_count": 21,
   "metadata": {},
   "outputs": [
    {
     "data": {
      "text/plain": [
       "description\n",
       "bq_01 default                                    1.879580e+00\n",
       "bq_02 partition by time                          1.372741e+00\n",
       "bq_03 partition by time & int range              1.361897e+00\n",
       "bq_04 cluster & partition by time & int range    1.237656e+00\n",
       "sf_01 default A                                 -1.000444e-10\n",
       "sf_01 default B                                 -1.000444e-10\n",
       "sf_01 default C                                 -1.000444e-10\n",
       "dtype: float64"
      ]
     },
     "execution_count": 21,
     "metadata": {},
     "output_type": "execute_result"
    }
   ],
   "source": [
    "dfp_bp.sum() * 5"
   ]
  },
  {
   "cell_type": "code",
   "execution_count": null,
   "metadata": {},
   "outputs": [],
   "source": []
  }
 ],
 "metadata": {
  "kernelspec": {
   "display_name": "Python 3",
   "language": "python",
   "name": "python3"
  },
  "language_info": {
   "codemirror_mode": {
    "name": "ipython",
    "version": 3
   },
   "file_extension": ".py",
   "mimetype": "text/x-python",
   "name": "python",
   "nbconvert_exporter": "python",
   "pygments_lexer": "ipython3",
   "version": "3.7.7"
  }
 },
 "nbformat": 4,
 "nbformat_minor": 4
}
