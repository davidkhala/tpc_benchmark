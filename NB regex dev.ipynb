{
 "cells": [
  {
   "cell_type": "code",
   "execution_count": 36,
   "metadata": {},
   "outputs": [],
   "source": [
    "import re\n",
    "import string"
   ]
  },
  {
   "cell_type": "code",
   "execution_count": 4,
   "metadata": {},
   "outputs": [],
   "source": [
    "import config, tools"
   ]
  },
  {
   "cell_type": "code",
   "execution_count": 23,
   "metadata": {},
   "outputs": [],
   "source": [
    "dtype_mapper = {r' UNION\\n': r' UNION ALL\\n',\n",
    "                r' AS DECIMAL\\(\\d+,\\d+\\)\\)': r'',\n",
    "                #r'CAST\\(': r'',\n",
    "                r' union\\n': r' union all\\n',\n",
    "                r' as decimal\\(\\d+,\\d+\\)\\)': r'',\n",
    "                #r'cast\\(': r'',\n",
    "                r' as decimal\\(\\d+,\\d+\\) ': r'',\n",
    "                r'cast\\((\\w+)\\)': r''\n",
    "                }"
   ]
  },
  {
   "cell_type": "code",
   "execution_count": 84,
   "metadata": {},
   "outputs": [],
   "source": [
    "x = \"\"\"\n",
    "select  ss_store_sk as store_sk,\n",
    "            ss_sold_date_sk  as date_sk,\n",
    "            ss_ext_sales_price as sales_price,\n",
    "            ss_net_profit as profit,\n",
    "            cast(0 as decimal(7,2)) as return_amt,\n",
    "            cast(0 as decimal(7,2)) as net_loss\n",
    "    select sr_store_sk as store_sk,\n",
    "           sr_returned_date_sk as date_sk,\n",
    "           cast(0 as decimal(7,2)) as sales_price,\n",
    "           cast(0 as decimal(7,2)) as profit,\n",
    "           sr_return_amt as return_amt,\n",
    " where date_sk = d_date_sk\n",
    "       and d_date between cast('[SALES_DATE]' as date) \n",
    "                  and (cast('[SALES_DATE]' as date) +  14 days)\n",
    "       and store_sk = s_store_sk\n",
    "\"\"\""
   ]
  },
  {
   "cell_type": "code",
   "execution_count": 85,
   "metadata": {},
   "outputs": [
    {
     "name": "stdout",
     "output_type": "stream",
     "text": [
      "\n",
      "select  ss_store_sk as store_sk,\n",
      "            ss_sold_date_sk  as date_sk,\n",
      "            ss_ext_sales_price as sales_price,\n",
      "            ss_net_profit as profit,\n",
      "            cast(0 as decimal(7,2)) as return_amt,\n",
      "            cast(0 as decimal(7,2)) as net_loss\n",
      "    select sr_store_sk as store_sk,\n",
      "           sr_returned_date_sk as date_sk,\n",
      "           cast(0 as decimal(7,2)) as sales_price,\n",
      "           cast(0 as decimal(7,2)) as profit,\n",
      "           sr_return_amt as return_amt,\n",
      " where date_sk = d_date_sk\n",
      "       and d_date between cast('[SALES_DATE]' as date) \n",
      "                  and (cast('[SALES_DATE]' as date) +  14 days)\n",
      "       and store_sk = s_store_sk\n",
      "\n"
     ]
    }
   ],
   "source": [
    "print(x)"
   ]
  },
  {
   "cell_type": "code",
   "execution_count": 86,
   "metadata": {},
   "outputs": [
    {
     "name": "stdout",
     "output_type": "stream",
     "text": [
      "\n",
      "select  ss_store_sk as store_sk,\n",
      "            ss_sold_date_sk  as date_sk,\n",
      "            ss_ext_sales_price as sales_price,\n",
      "            ss_net_profit as profit,\n",
      "            cast(0 as return_amt,\n",
      "            cast(0 as net_loss\n",
      "    select sr_store_sk as store_sk,\n",
      "           sr_returned_date_sk as date_sk,\n",
      "           cast(0 as sales_price,\n",
      "           cast(0 as profit,\n",
      "           sr_return_amt as return_amt,\n",
      " where date_sk = d_date_sk\n",
      "       and d_date between cast('[SALES_DATE]' as date) \n",
      "                  and (cast('[SALES_DATE]' as date) +  14 days)\n",
      "       and store_sk = s_store_sk\n",
      "\n"
     ]
    }
   ],
   "source": [
    "r = tools.regex_replace(x, replace_mapper=dtype_mapper)\n",
    "print(r)"
   ]
  },
  {
   "cell_type": "code",
   "execution_count": 38,
   "metadata": {},
   "outputs": [
    {
     "data": {
      "text/plain": [
       "\"abcdefghijklmnopqrstuvwxyz0123456789!#$%&'*+-.^_`|~:\""
      ]
     },
     "execution_count": 38,
     "metadata": {},
     "output_type": "execute_result"
    }
   ],
   "source": [
    "legal_chars = string.ascii_lowercase + string.digits + \"!#$%&'*+-.^_`|~:\"\n",
    "legal_chars"
   ]
  },
  {
   "cell_type": "code",
   "execution_count": 99,
   "metadata": {},
   "outputs": [
    {
     "name": "stdout",
     "output_type": "stream",
     "text": [
      "\n",
      "select  ss_store_sk as store_sk,\n",
      "            ss_sold_date_sk  as date_sk,\n",
      "            ss_ext_sales_price as sales_price,\n",
      "            ss_net_profit as profit,\n",
      "            cast(0 as float64) as return_amt,\n",
      "            cast(0 as float64) as net_loss\n",
      "    select sr_store_sk as store_sk,\n",
      "           sr_returned_date_sk as date_sk,\n",
      "           cast(0 as float64) as sales_price,\n",
      "           cast(0 as float64) as profit,\n",
      "           sr_return_amt as return_amt,\n",
      " where date_sk = d_date_sk\n",
      "       and d_date between cast('[SALES_DATE]' as date) \n",
      "                  and (cast('[SALES_DATE]' as date) +  14 days)\n",
      "       and store_sk = s_store_sk\n",
      "\n"
     ]
    }
   ],
   "source": [
    "dtype_mapper = {r' UNION\\n': r' UNION ALL\\n',\n",
    "                r' union\\n': r' union all\\n',\n",
    "\n",
    "                #r' as decimal\\(\\d+,\\d+\\)\\) ': r'',\n",
    "                }\n",
    "r = tools.regex_replace(x, replace_mapper=dtype_mapper)\n",
    "print(r)"
   ]
  },
  {
   "cell_type": "code",
   "execution_count": 89,
   "metadata": {},
   "outputs": [
    {
     "name": "stdout",
     "output_type": "stream",
     "text": [
      "\n",
      "select  ss_store_sk as store_sk,\n",
      "            ss_sold_date_sk  as date_sk,\n",
      "            ss_ext_sales_price as sales_price,\n",
      "            ss_net_profit as profit,\n",
      "            cast(0 as decimal(7,2)) as return_amt,\n",
      "            cast(0 as decimal(7,2)) as net_loss\n",
      "    select sr_store_sk as store_sk,\n",
      "           sr_returned_date_sk as date_sk,\n",
      "           cast(0 as decimal(7,2)) as sales_price,\n",
      "           cast(0 as decimal(7,2)) as profit,\n",
      "           sr_return_amt as return_amt,\n",
      " where date_sk = d_date_sk\n",
      "       and d_date between cast('[SALES_DATE]' as date) \n",
      "                  and (cast('[SALES_DATE]' as date) +  14 days)\n",
      "       and store_sk = s_store_sk\n",
      "\n"
     ]
    }
   ],
   "source": [
    "print(x)"
   ]
  },
  {
   "cell_type": "code",
   "execution_count": 87,
   "metadata": {},
   "outputs": [
    {
     "data": {
      "text/plain": [
       "[\"cast('[SALES_DATE]' as date)\", \"cast('[SALES_DATE]' as date)\"]"
      ]
     },
     "execution_count": 87,
     "metadata": {},
     "output_type": "execute_result"
    }
   ],
   "source": [
    "re.findall(r'cast\\(.*?as date\\)', x)"
   ]
  },
  {
   "cell_type": "code",
   "execution_count": 66,
   "metadata": {},
   "outputs": [
    {
     "name": "stdout",
     "output_type": "stream",
     "text": [
      "<re.Match object; span=(54, 82), match=\"cast('[SALES_DATE]' as date)\">\n"
     ]
    }
   ],
   "source": [
    "p = re.search(r'cast\\(.*?\\)', x)\n",
    "print(p)"
   ]
  },
  {
   "cell_type": "code",
   "execution_count": 67,
   "metadata": {},
   "outputs": [
    {
     "data": {
      "text/plain": [
       "\"cast('[SALES_DATE]' as date)\""
      ]
     },
     "execution_count": 67,
     "metadata": {},
     "output_type": "execute_result"
    }
   ],
   "source": [
    "p.group(0)"
   ]
  },
  {
   "cell_type": "code",
   "execution_count": 68,
   "metadata": {},
   "outputs": [
    {
     "name": "stdout",
     "output_type": "stream",
     "text": [
      "None\n"
     ]
    }
   ],
   "source": [
    "p = re.match(r'cast\\(.*?\\)', x)\n",
    "print(p)"
   ]
  },
  {
   "cell_type": "code",
   "execution_count": 92,
   "metadata": {},
   "outputs": [
    {
     "name": "stdout",
     "output_type": "stream",
     "text": [
      "  \n",
      "  select  ss_store_sk as store_sk,\n",
      "              ss_sold_date_sk  as date_sk,\n",
      "              ss_ext_sales_price as sales_price,\n",
      "              ss_net_profit as profit,\n",
      "              cast(0 as decimal(7,2)) as return_amt,\n",
      "              cast(0 as decimal(7,2)) as net_loss\n",
      "      select sr_store_sk as store_sk,\n",
      "             sr_returned_date_sk as date_sk,\n",
      "             cast(0 as decimal(7,2)) as sales_price,\n",
      "             cast(0 as decimal(7,2)) as profit,\n",
      "             sr_return_amt as return_amt,\n",
      "   where date_sk = d_date_sk\n",
      "X        and d_date between cast('[SALES_DATE]' as date) \n",
      "26 54\n",
      "'[SALES_DATE]' \n",
      "X                   and (cast('[SALES_DATE]' as date) +  14 days)\n",
      "23 51\n",
      "'[SALES_DATE]' \n",
      "         and store_sk = s_store_sk\n",
      "  \n"
     ]
    }
   ],
   "source": [
    "for line in x.split(\"\\n\"):\n",
    "    #print(\"X\", line)\n",
    "    p = re.search(r'cast\\(.*?as date\\)', line)\n",
    "    #print(p)\n",
    "    if p is not None:\n",
    "        print(\"X\", line)\n",
    "        print(p.start(), p.end())\n",
    "        print(line[p.start()+5:p.end()-8])\n",
    "    else:\n",
    "        print(\" \", line)"
   ]
  },
  {
   "cell_type": "code",
   "execution_count": 98,
   "metadata": {},
   "outputs": [
    {
     "name": "stdout",
     "output_type": "stream",
     "text": [
      "  \n",
      "  select  ss_store_sk as store_sk,\n",
      "              ss_sold_date_sk  as date_sk,\n",
      "              ss_ext_sales_price as sales_price,\n",
      "              ss_net_profit as profit,\n",
      "              cast(0 as decimal(7,2)) as return_amt,\n",
      "              cast(0 as decimal(7,2)) as net_loss\n",
      "      select sr_store_sk as store_sk,\n",
      "             sr_returned_date_sk as date_sk,\n",
      "             cast(0 as decimal(7,2)) as sales_price,\n",
      "             cast(0 as decimal(7,2)) as profit,\n",
      "             sr_return_amt as return_amt,\n",
      "   where date_sk = d_date_sk\n",
      "         and d_date between cast('[SALES_DATE]' as date) \n",
      "                    and (cast('[SALES_DATE]' as date) +  14 days)\n",
      "         and store_sk = s_store_sk\n",
      "  \n"
     ]
    }
   ],
   "source": [
    "for line in x.split(\"\\n\"):\n",
    "    #print(\"X\", line)\n",
    "    p = re.search(r'cast\\(*as decimal\\(*\\)\\)\\)', line)\n",
    "    #print(p)\n",
    "    if p is not None:\n",
    "        print(\"X\", line)\n",
    "        print(p.start(), p.end())\n",
    "        print(line[p.start()+5:p.end()-8])\n",
    "    else:\n",
    "        print(\" \", line)"
   ]
  },
  {
   "cell_type": "code",
   "execution_count": null,
   "metadata": {},
   "outputs": [],
   "source": []
  }
 ],
 "metadata": {
  "kernelspec": {
   "display_name": "Python 3",
   "language": "python",
   "name": "python3"
  },
  "language_info": {
   "codemirror_mode": {
    "name": "ipython",
    "version": 3
   },
   "file_extension": ".py",
   "mimetype": "text/x-python",
   "name": "python",
   "nbconvert_exporter": "python",
   "pygments_lexer": "ipython3",
   "version": "3.8.2"
  }
 },
 "nbformat": 4,
 "nbformat_minor": 4
}
