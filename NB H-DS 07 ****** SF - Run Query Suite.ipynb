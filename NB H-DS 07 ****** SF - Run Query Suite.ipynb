{
 "cells": [
  {
   "cell_type": "markdown",
   "metadata": {},
   "source": [
    "## TPC H-DS Query Execution"
   ]
  },
  {
   "cell_type": "code",
   "execution_count": null,
   "metadata": {
    "pycharm": {
     "name": "#%%\n"
    }
   },
   "outputs": [],
   "source": [
    "import config, logging, sf_dev"
   ]
  },
  {
   "cell_type": "markdown",
   "metadata": {},
   "source": [
    "#### 1. Single Query Generation and Evaluation"
   ]
  },
  {
   "cell_type": "code",
   "execution_count": null,
   "metadata": {
    "pycharm": {
     "name": "#%%\n"
    }
   },
   "outputs": [],
   "source": [
    "# set variables\n",
    "test = \"h\"\n",
    "scale = 100\n",
    "project = \"tpc-benchmarking-9432\"\n",
    "qual = None\n",
    "db_name = \"sf\""
   ]
  },
  {
   "cell_type": "code",
   "execution_count": null,
   "metadata": {
    "pycharm": {
     "name": "#%%\n"
    }
   },
   "outputs": [],
   "source": [
    "# generate variables\n",
    "\n",
    "tpl_dir = f\"{config.fp_query_templates}{config.sep}{db_name}_{test}\"\n",
    "dataset = f\"{test}_{scale}GB_01\"\n",
    "query_sequence = list(range(1,23))\n",
    "if test == \"ds\":\n",
    "    query_sequence = list(range(1,99))"
   ]
  },
  {
   "cell_type": "code",
   "execution_count": null,
   "metadata": {
    "pycharm": {
     "name": "#%%\n"
    }
   },
   "outputs": [],
   "source": [
    "print(query_sequence[:5])\n",
    "print(query_sequence[-5:])"
   ]
  },
  {
   "cell_type": "code",
   "execution_count": null,
   "metadata": {
    "pycharm": {
     "name": "#%%\n"
    }
   },
   "outputs": [],
   "source": [
    "# run queries\n",
    "name = \"query\"\n",
    "seq_done = sf_dev.query_seq(name=name,\n",
    "                        test=test,\n",
    "                        seq=query_sequence,\n",
    "                        templates_dir=tpl_dir,\n",
    "                        scale=scale,\n",
    "                        project=project,\n",
    "                        dataset=dataset,\n",
    "                        qual=qual,\n",
    "                        dry_run=False,\n",
    "                        use_cache=False,\n",
    "                        verbose=True,\n",
    "                        verbose_iter=True\n",
    "                        )\n",
    "print(\"Sequence Done:\", seq_done)\n",
    "print(\"=======================\")"
   ]
  },
  {
   "cell_type": "markdown",
   "metadata": {},
   "source": [
    "#### 2. Run stream permutation order of querys in SF Syntax"
   ]
  },
  {
   "cell_type": "code",
   "execution_count": null,
   "metadata": {
    "pycharm": {
     "name": "#%%\n"
    }
   },
   "outputs": [],
   "source": [
    "stream_sequence = list(range(1,16))"
   ]
  },
  {
   "cell_type": "code",
   "execution_count": null,
   "metadata": {
    "pycharm": {
     "name": "#%%\n"
    }
   },
   "outputs": [],
   "source": [
    "name = \"stream\"\n",
    "seq_done = sf_dev.stream_seq(name=name,\n",
    "                         test=test,\n",
    "                         seq=stream_sequence,\n",
    "                         templates_dir=tpl_dir,\n",
    "                         scale=scale,\n",
    "                         project=project,\n",
    "                         dataset=dataset,\n",
    "                         qual=qual,\n",
    "                         dry_run=False,\n",
    "                         use_cache=False,\n",
    "                         verbose=False,\n",
    "                         verbose_iter=True\n",
    "                         )\n",
    "print(\"Sequence Done:\", seq_done)"
   ]
  },
  {
   "cell_type": "code",
   "execution_count": null,
   "metadata": {
    "pycharm": {
     "name": "#%%\n"
    }
   },
   "outputs": [],
   "source": []
  },
  {
   "cell_type": "code",
   "execution_count": null,
   "metadata": {
    "pycharm": {
     "name": "#%%\n"
    }
   },
   "outputs": [],
   "source": []
  },
  {
   "cell_type": "code",
   "execution_count": null,
   "metadata": {},
   "outputs": [],
   "source": []
  }
 ],
 "metadata": {
  "kernelspec": {
   "display_name": "Python 3",
   "language": "python",
   "name": "python3"
  },
  "language_info": {
   "codemirror_mode": {
    "name": "ipython",
    "version": 3
   },
   "file_extension": ".py",
   "mimetype": "text/x-python",
   "name": "python",
   "nbconvert_exporter": "python",
   "pygments_lexer": "ipython3",
   "version": "3.7.6"
  }
 },
 "nbformat": 4,
 "nbformat_minor": 4
}