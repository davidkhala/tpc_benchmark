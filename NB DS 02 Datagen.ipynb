{
 "cells": [
  {
   "cell_type": "markdown",
   "metadata": {},
   "source": [
    "## TPC-DS Data Generation  \n",
    "Generate Test Data for TPC-H"
   ]
  },
  {
   "cell_type": "code",
   "execution_count": 1,
   "metadata": {},
   "outputs": [],
   "source": [
    "import ds_setup, config, tools"
   ]
  },
  {
   "cell_type": "markdown",
   "metadata": {},
   "source": [
    "### Data at Scale Factors  \n",
    "This work explores performance at 3 TPC scale factors, 100GB, 1TB and 10TB.  1GB is used as a pipeline validation dataset.  Uncomment and run once each.  Target location is set with `config.fp_h_data_out`"
   ]
  },
  {
   "cell_type": "code",
   "execution_count": 2,
   "metadata": {},
   "outputs": [],
   "source": [
    "# 1 GB\n",
    "stdout, stderr = ds_setup.run_dsdgen(scale=1)"
   ]
  },
  {
   "cell_type": "raw",
   "metadata": {},
   "source": [
    "# 2 GB\n",
    "stdout, stderr = ds_setup.run_dsdgen(scale=2)"
   ]
  },
  {
   "cell_type": "raw",
   "metadata": {},
   "source": [
    "# 100 GB\n",
    "stdout, stderr = h_setup.run_dbgen(scale=100)"
   ]
  },
  {
   "cell_type": "raw",
   "metadata": {},
   "source": [
    "# 1 TB\n",
    "stdout, stderr = h_setup.run_dbgen(scale=1000)"
   ]
  },
  {
   "cell_type": "raw",
   "metadata": {},
   "source": [
    "# 10 TB\n",
    "stdout, stderr = h_setup.run_dbgen(scale=10000)"
   ]
  },
  {
   "cell_type": "code",
   "execution_count": 3,
   "metadata": {},
   "outputs": [
    {
     "name": "stdout",
     "output_type": "stream",
     "text": [
      "\n",
      "========================================\n",
      "dsdgen Population Generator (Version 2.11.0)\n",
      "Copyright Transaction Processing Performance Council (TPC) 2001 - 2019\n",
      "Warning: This scale factor is valid for QUALIFICATION ONLY\n",
      "dsdgen Population Generator (Version 2.11.0)\n",
      "Copyright Transaction Processing Performance Council (TPC) 2001 - 2019\n",
      "Warning: This scale factor is valid for QUALIFICATION ONLY\n",
      "dsdgen Population Generator (Version 2.11.0)\n",
      "Copyright Transaction Processing Performance Council (TPC) 2001 - 2019\n",
      "Warning: This scale factor is valid for QUALIFICATION ONLY\n",
      "dsdgen Population Generator (Version 2.11.0)\n",
      "Copyright Transaction Processing Performance Council (TPC) 2001 - 2019\n",
      "Warning: This scale factor is valid for QUALIFICATION ONLY\n",
      "dsdgen Population Generator (Version 2.11.0)\n",
      "Copyright Transaction Processing Performance Council (TPC) 2001 - 2019\n",
      "Warning: This scale factor is valid for QUALIFICATION ONLY\n",
      "dsdgen Population Generator (Version 2.11.0)\n",
      "Copyright Transaction Processing Performance Council (TPC) 2001 - 2019\n",
      "Warning: This scale factor is valid for QUALIFICATION ONLY\n",
      "dsdgen Population Generator (Version 2.11.0)\n",
      "Copyright Transaction Processing Performance Council (TPC) 2001 - 2019\n",
      "Warning: This scale factor is valid for QUALIFICATION ONLY\n",
      "dsdgen Population Generator (Version 2.11.0)\n",
      "Copyright Transaction Processing Performance Council (TPC) 2001 - 2019\n",
      "Warning: This scale factor is valid for QUALIFICATION ONLY\n",
      "dsdgen Population Generator (Version 2.11.0)\n",
      "Copyright Transaction Processing Performance Council (TPC) 2001 - 2019\n",
      "Warning: This scale factor is valid for QUALIFICATION ONLY\n",
      "dsdgen Population Generator (Version 2.11.0)\n",
      "Copyright Transaction Processing Performance Council (TPC) 2001 - 2019\n",
      "Warning: This scale factor is valid for QUALIFICATION ONLY\n",
      "dsdgen Population Generator (Version 2.11.0)\n",
      "Copyright Transaction Processing Performance Council (TPC) 2001 - 2019\n",
      "Warning: This scale factor is valid for QUALIFICATION ONLY\n",
      "dsdgen Population Generator (Version 2.11.0)\n",
      "Copyright Transaction Processing Performance Council (TPC) 2001 - 2019\n",
      "Warning: This scale factor is valid for QUALIFICATION ONLY\n",
      "\n"
     ]
    }
   ],
   "source": [
    "print(stdout)\n",
    "print(\"=\"*40)\n",
    "print(stderr)"
   ]
  },
  {
   "cell_type": "code",
   "execution_count": null,
   "metadata": {},
   "outputs": [],
   "source": []
  }
 ],
 "metadata": {
  "kernelspec": {
   "display_name": "Python 3",
   "language": "python",
   "name": "python3"
  },
  "language_info": {
   "codemirror_mode": {
    "name": "ipython",
    "version": 3
   },
   "file_extension": ".py",
   "mimetype": "text/x-python",
   "name": "python",
   "nbconvert_exporter": "python",
   "pygments_lexer": "ipython3",
   "version": "3.8.2"
  }
 },
 "nbformat": 4,
 "nbformat_minor": 4
}
