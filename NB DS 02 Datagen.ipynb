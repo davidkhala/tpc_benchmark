{
 "cells": [
  {
   "cell_type": "markdown",
   "metadata": {},
   "source": [
    "## TPC-DS Data Generation  \n",
    "### Data at Scale Factors  \n",
    "This project explores performance at 3 TPC scale factors: 100GB, 1TB and 10TB.  Additionally, 1GB is used as a validation/qualification dataset.  \n",
    "\n",
    "Target data output location is set with `config.fp_h_output` and `config.fp_ds_output` and will be in subfolders `1GB` etc.  \n",
    "\n",
    "Scale factor is specified in GB, thus the allowed values for `scale` are `1, 100, 1000, 10000`"
   ]
  },
  {
   "cell_type": "raw",
   "metadata": {},
   "source": [
    "import pandas as pd"
   ]
  },
  {
   "cell_type": "raw",
   "metadata": {},
   "source": [
    "pd.set_option(\"display.max_rows\", 1000)\n",
    "pd.options.display.float_format = '{:.2f}'.format"
   ]
  },
  {
   "cell_type": "code",
   "execution_count": 1,
   "metadata": {},
   "outputs": [],
   "source": [
    "import ds_setup"
   ]
  },
  {
   "cell_type": "markdown",
   "metadata": {},
   "source": [
    "### Generation Variables"
   ]
  },
  {
   "cell_type": "code",
   "execution_count": 2,
   "metadata": {},
   "outputs": [],
   "source": [
    "scale = 1"
   ]
  },
  {
   "cell_type": "code",
   "execution_count": 3,
   "metadata": {},
   "outputs": [],
   "source": [
    "cpu_n = None  # None will use all available cpus"
   ]
  },
  {
   "cell_type": "code",
   "execution_count": null,
   "metadata": {},
   "outputs": [],
   "source": []
  },
  {
   "cell_type": "code",
   "execution_count": 4,
   "metadata": {},
   "outputs": [],
   "source": [
    "dg = ds_setup.DGenPool(scale=scale, n=cpu_n)"
   ]
  },
  {
   "cell_type": "code",
   "execution_count": 5,
   "metadata": {},
   "outputs": [
    {
     "name": "stdout",
     "output_type": "stream",
     "text": [
      "Executor Results:\n",
      "[1, 2, 3, 4, 5, 6, 7, 8, 9, 10, 11, 12, 13, 14, 15, 16, 17, 18, 19, 20, 21, 22, 23, 24, 25, 26, 27, 28, 29, 30, 31, 32, 33, 34, 35, 36, 37, 38, 39, 40, 41, 42, 43, 44, 45, 46, 47, 48, 49, 50, 51, 52, 53, 54, 55, 56, 57, 58, 59, 60, 61, 62, 63, 64, 65, 66, 67, 68, 69, 70, 71, 72, 73, 74, 75, 76, 77, 78, 79, 80, 81, 82, 83, 84, 85, 86, 87, 88, 89, 90, 91, 92, 93, 94, 95, 96]\n",
      "CPU times: user 268 ms, sys: 1.37 s, total: 1.64 s\n",
      "Wall time: 1min 27s\n"
     ]
    }
   ],
   "source": [
    "%%time\n",
    "r = dg.generate()\n",
    "print(\"Executor Results:\")\n",
    "print(list(r))"
   ]
  },
  {
   "cell_type": "code",
   "execution_count": 6,
   "metadata": {},
   "outputs": [],
   "source": [
    "dg.save_results()"
   ]
  },
  {
   "cell_type": "code",
   "execution_count": 7,
   "metadata": {},
   "outputs": [
    {
     "data": {
      "text/html": [
       "<div>\n",
       "<style scoped>\n",
       "    .dataframe tbody tr th:only-of-type {\n",
       "        vertical-align: middle;\n",
       "    }\n",
       "\n",
       "    .dataframe tbody tr th {\n",
       "        vertical-align: top;\n",
       "    }\n",
       "\n",
       "    .dataframe thead th {\n",
       "        text-align: right;\n",
       "    }\n",
       "</style>\n",
       "<table border=\"1\" class=\"dataframe\">\n",
       "  <thead>\n",
       "    <tr style=\"text-align: right;\">\n",
       "      <th></th>\n",
       "      <th>test</th>\n",
       "      <th>scale</th>\n",
       "      <th>status</th>\n",
       "      <th>child</th>\n",
       "      <th>parallel</th>\n",
       "      <th>t0</th>\n",
       "      <th>t1</th>\n",
       "      <th>stdout</th>\n",
       "      <th>stderr</th>\n",
       "    </tr>\n",
       "  </thead>\n",
       "  <tbody>\n",
       "    <tr>\n",
       "      <th>0</th>\n",
       "      <td>h</td>\n",
       "      <td>1</td>\n",
       "      <td>start</td>\n",
       "      <td>1</td>\n",
       "      <td>96</td>\n",
       "      <td>2020-04-26 19:47:07.957632</td>\n",
       "      <td></td>\n",
       "      <td></td>\n",
       "      <td></td>\n",
       "    </tr>\n",
       "    <tr>\n",
       "      <th>1</th>\n",
       "      <td>h</td>\n",
       "      <td>1</td>\n",
       "      <td>start</td>\n",
       "      <td>2</td>\n",
       "      <td>96</td>\n",
       "      <td>2020-04-26 19:47:07.965289</td>\n",
       "      <td></td>\n",
       "      <td></td>\n",
       "      <td></td>\n",
       "    </tr>\n",
       "    <tr>\n",
       "      <th>2</th>\n",
       "      <td>h</td>\n",
       "      <td>1</td>\n",
       "      <td>start</td>\n",
       "      <td>3</td>\n",
       "      <td>96</td>\n",
       "      <td>2020-04-26 19:47:07.974813</td>\n",
       "      <td></td>\n",
       "      <td></td>\n",
       "      <td></td>\n",
       "    </tr>\n",
       "    <tr>\n",
       "      <th>3</th>\n",
       "      <td>h</td>\n",
       "      <td>1</td>\n",
       "      <td>start</td>\n",
       "      <td>4</td>\n",
       "      <td>96</td>\n",
       "      <td>2020-04-26 19:47:07.975247</td>\n",
       "      <td></td>\n",
       "      <td></td>\n",
       "      <td></td>\n",
       "    </tr>\n",
       "    <tr>\n",
       "      <th>4</th>\n",
       "      <td>h</td>\n",
       "      <td>1</td>\n",
       "      <td>start</td>\n",
       "      <td>5</td>\n",
       "      <td>96</td>\n",
       "      <td>2020-04-26 19:47:07.975684</td>\n",
       "      <td></td>\n",
       "      <td></td>\n",
       "      <td></td>\n",
       "    </tr>\n",
       "    <tr>\n",
       "      <th>...</th>\n",
       "      <td>...</td>\n",
       "      <td>...</td>\n",
       "      <td>...</td>\n",
       "      <td>...</td>\n",
       "      <td>...</td>\n",
       "      <td>...</td>\n",
       "      <td>...</td>\n",
       "      <td>...</td>\n",
       "      <td>...</td>\n",
       "    </tr>\n",
       "    <tr>\n",
       "      <th>187</th>\n",
       "      <td>ds</td>\n",
       "      <td>1</td>\n",
       "      <td>end</td>\n",
       "      <td>81</td>\n",
       "      <td>96</td>\n",
       "      <td>2020-04-26 19:47:09.019348</td>\n",
       "      <td>2020-04-26 19:47:14.955976</td>\n",
       "      <td></td>\n",
       "      <td>dsdgen Population Generator (Version 2.11.0)\\n...</td>\n",
       "    </tr>\n",
       "    <tr>\n",
       "      <th>188</th>\n",
       "      <td>ds</td>\n",
       "      <td>1</td>\n",
       "      <td>end</td>\n",
       "      <td>84</td>\n",
       "      <td>96</td>\n",
       "      <td>2020-04-26 19:47:09.086404</td>\n",
       "      <td>2020-04-26 19:47:14.957576</td>\n",
       "      <td></td>\n",
       "      <td>dsdgen Population Generator (Version 2.11.0)\\n...</td>\n",
       "    </tr>\n",
       "    <tr>\n",
       "      <th>189</th>\n",
       "      <td>ds</td>\n",
       "      <td>1</td>\n",
       "      <td>end</td>\n",
       "      <td>93</td>\n",
       "      <td>96</td>\n",
       "      <td>2020-04-26 19:47:09.330624</td>\n",
       "      <td>2020-04-26 19:47:14.962786</td>\n",
       "      <td></td>\n",
       "      <td>dsdgen Population Generator (Version 2.11.0)\\n...</td>\n",
       "    </tr>\n",
       "    <tr>\n",
       "      <th>190</th>\n",
       "      <td>ds</td>\n",
       "      <td>1</td>\n",
       "      <td>end</td>\n",
       "      <td>85</td>\n",
       "      <td>96</td>\n",
       "      <td>2020-04-26 19:47:09.107114</td>\n",
       "      <td>2020-04-26 19:47:14.964884</td>\n",
       "      <td></td>\n",
       "      <td>dsdgen Population Generator (Version 2.11.0)\\n...</td>\n",
       "    </tr>\n",
       "    <tr>\n",
       "      <th>191</th>\n",
       "      <td>ds</td>\n",
       "      <td>1</td>\n",
       "      <td>end</td>\n",
       "      <td>1</td>\n",
       "      <td>96</td>\n",
       "      <td>2020-04-26 19:47:07.957632</td>\n",
       "      <td>2020-04-26 19:48:35.509338</td>\n",
       "      <td></td>\n",
       "      <td>dsdgen Population Generator (Version 2.11.0)\\n...</td>\n",
       "    </tr>\n",
       "  </tbody>\n",
       "</table>\n",
       "<p>192 rows × 9 columns</p>\n",
       "</div>"
      ],
      "text/plain": [
       "    test scale status  child  parallel                          t0  \\\n",
       "0      h     1  start      1        96  2020-04-26 19:47:07.957632   \n",
       "1      h     1  start      2        96  2020-04-26 19:47:07.965289   \n",
       "2      h     1  start      3        96  2020-04-26 19:47:07.974813   \n",
       "3      h     1  start      4        96  2020-04-26 19:47:07.975247   \n",
       "4      h     1  start      5        96  2020-04-26 19:47:07.975684   \n",
       "..   ...   ...    ...    ...       ...                         ...   \n",
       "187   ds     1    end     81        96  2020-04-26 19:47:09.019348   \n",
       "188   ds     1    end     84        96  2020-04-26 19:47:09.086404   \n",
       "189   ds     1    end     93        96  2020-04-26 19:47:09.330624   \n",
       "190   ds     1    end     85        96  2020-04-26 19:47:09.107114   \n",
       "191   ds     1    end      1        96  2020-04-26 19:47:07.957632   \n",
       "\n",
       "                             t1 stdout  \\\n",
       "0                                        \n",
       "1                                        \n",
       "2                                        \n",
       "3                                        \n",
       "4                                        \n",
       "..                          ...    ...   \n",
       "187  2020-04-26 19:47:14.955976          \n",
       "188  2020-04-26 19:47:14.957576          \n",
       "189  2020-04-26 19:47:14.962786          \n",
       "190  2020-04-26 19:47:14.964884          \n",
       "191  2020-04-26 19:48:35.509338          \n",
       "\n",
       "                                                stderr  \n",
       "0                                                       \n",
       "1                                                       \n",
       "2                                                       \n",
       "3                                                       \n",
       "4                                                       \n",
       "..                                                 ...  \n",
       "187  dsdgen Population Generator (Version 2.11.0)\\n...  \n",
       "188  dsdgen Population Generator (Version 2.11.0)\\n...  \n",
       "189  dsdgen Population Generator (Version 2.11.0)\\n...  \n",
       "190  dsdgen Population Generator (Version 2.11.0)\\n...  \n",
       "191  dsdgen Population Generator (Version 2.11.0)\\n...  \n",
       "\n",
       "[192 rows x 9 columns]"
      ]
     },
     "execution_count": 7,
     "metadata": {},
     "output_type": "execute_result"
    }
   ],
   "source": [
    "dg.dfr"
   ]
  }
 ],
 "metadata": {
  "kernelspec": {
   "display_name": "Python 3",
   "language": "python",
   "name": "python3"
  },
  "language_info": {
   "codemirror_mode": {
    "name": "ipython",
    "version": 3
   },
   "file_extension": ".py",
   "mimetype": "text/x-python",
   "name": "python",
   "nbconvert_exporter": "python",
   "pygments_lexer": "ipython3",
   "version": "3.7.7"
  }
 },
 "nbformat": 4,
 "nbformat_minor": 4
}
