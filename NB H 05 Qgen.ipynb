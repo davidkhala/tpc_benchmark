{
 "cells": [
  {
   "cell_type": "markdown",
   "metadata": {},
   "source": [
    "## TPC-H Query Generation  "
   ]
  },
  {
   "cell_type": "markdown",
   "metadata": {},
   "source": [
    "1. Where is the pre-sales technical qualification\n",
    "2. What are our project management proceedures\n",
    "3. What are our client-facing communication proceedures"
   ]
  },
  {
   "cell_type": "markdown",
   "metadata": {},
   "source": [
    "1. fix sqlserver.tpl with define _END = \"\";\n",
    "2. add output target\n",
    "3. generate individual queries\n",
    "4. compile query sequence from individual queries"
   ]
  },
  {
   "cell_type": "code",
   "execution_count": 1,
   "metadata": {},
   "outputs": [],
   "source": [
    "import h_setup, config"
   ]
  },
  {
   "cell_type": "code",
   "execution_count": 2,
   "metadata": {},
   "outputs": [
    {
     "name": "stdout",
     "output_type": "stream",
     "text": [
      "Standard Out:\n",
      "=============\n",
      "-- using 1587355642 as a seed to the RNG\n",
      "\r\n",
      "\r\n",
      "select\r\n",
      "\tn_name,\r\n",
      "\tsum(l_extendedprice * (1 - l_discount)) as revenue\r\n",
      "from\r\n",
      "\tcustomer,\r\n",
      "\torders,\r\n",
      "\tlineitem,\r\n",
      "\tsupplier,\r\n",
      "\tnation,\r\n",
      "\tregion\r\n",
      "where\r\n",
      "\tc_custkey = o_custkey\r\n",
      "\tand l_orderkey = o_orderkey\r\n",
      "\tand l_suppkey = s_suppkey\r\n",
      "\tand c_nationkey = s_nationkey\r\n",
      "\tand s_nationkey = n_nationkey\r\n",
      "\tand n_regionkey = r_regionkey\r\n",
      "\tand r_name = 'EUROPE'\r\n",
      "\tand o_orderdate >= date '1997-01-01'\r\n",
      "\tand o_orderdate < date '1997-01-01' + interval '1' year\r\n",
      "group by\r\n",
      "\tn_name\r\n",
      "order by\r\n",
      "\trevenue desc;\r\n",
      "set rowcount -1\n",
      "go\n",
      "\n",
      "\n"
     ]
    }
   ],
   "source": [
    "    std_out, err_out = h_setup.run_qgen(5, scale=1, seed=None, verbose=True)"
   ]
  },
  {
   "cell_type": "code",
   "execution_count": 3,
   "metadata": {},
   "outputs": [
    {
     "name": "stdout",
     "output_type": "stream",
     "text": [
      "select\n",
      "\tn_name,\n",
      "\tsum(l_extendedprice * (1 - l_discount)) as revenue\n",
      "from\n",
      "\tcustomer,\n",
      "\torders,\n",
      "\tlineitem,\n",
      "\tsupplier,\n",
      "\tnation,\n",
      "\tregion\n",
      "where\n",
      "\tc_custkey = o_custkey\n",
      "\tand l_orderkey = o_orderkey\n",
      "\tand l_suppkey = s_suppkey\n",
      "\tand c_nationkey = s_nationkey\n",
      "\tand s_nationkey = n_nationkey\n",
      "\tand n_regionkey = r_regionkey\n",
      "\tand r_name = 'EUROPE'\n",
      "\tand o_orderdate >= date '1997-01-01'\n",
      "\tand o_orderdate < date '1997-01-01' + interval '1' year\n",
      "group by\n",
      "\tn_name\n",
      "order by\n",
      "\trevenue desc;\n",
      "set rowcount -1\n",
      "go\n",
      "\n",
      "\n"
     ]
    }
   ],
   "source": [
    "print(std_out)"
   ]
  },
  {
   "cell_type": "code",
   "execution_count": null,
   "outputs": [],
   "source": [],
   "metadata": {
    "collapsed": false,
    "pycharm": {
     "name": "#%%\n"
    }
   }
  },
  {
   "cell_type": "code",
   "execution_count": null,
   "outputs": [],
   "source": [],
   "metadata": {
    "collapsed": false,
    "pycharm": {
     "name": "#%%\n"
    }
   }
  },
  {
   "cell_type": "code",
   "execution_count": null,
   "outputs": [],
   "source": [],
   "metadata": {
    "collapsed": false,
    "pycharm": {
     "name": "#%%\n"
    }
   }
  },
  {
   "cell_type": "code",
   "execution_count": null,
   "metadata": {},
   "outputs": [],
   "source": []
  },
  {
   "cell_type": "code",
   "execution_count": null,
   "metadata": {},
   "outputs": [],
   "source": []
  }
 ],
 "metadata": {
  "kernelspec": {
   "display_name": "Python 3",
   "language": "python",
   "name": "python3"
  },
  "language_info": {
   "codemirror_mode": {
    "name": "ipython",
    "version": 3
   },
   "file_extension": ".py",
   "mimetype": "text/x-python",
   "name": "python",
   "nbconvert_exporter": "python",
   "pygments_lexer": "ipython3",
   "version": "3.7.6"
  }
 },
 "nbformat": 4,
 "nbformat_minor": 4
}