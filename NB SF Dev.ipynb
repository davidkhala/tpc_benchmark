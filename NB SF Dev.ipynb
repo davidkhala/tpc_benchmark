{
 "cells": [
  {
   "cell_type": "markdown",
   "metadata": {},
   "source": [
    "## Snowflake Python Connector Dev  \n",
    "https://docs.snowflake.com/en/user-guide/python-connector-example.html#creating-a-database-schema-and-warehouse  \n"
   ]
  },
  {
   "cell_type": "code",
   "execution_count": null,
   "metadata": {},
   "outputs": [],
   "source": [
    "import snowflake.connector"
   ]
  },
  {
   "cell_type": "raw",
   "metadata": {},
   "source": [
    "login_name = \"SADACRDIETRICH\"\n",
    "login_password = \"lX*pRk1DN4%3otv\"\n",
    "account = \"cga76042\""
   ]
  },
  {
   "cell_type": "code",
   "execution_count": null,
   "metadata": {},
   "outputs": [],
   "source": [
    "login_name = \"tpcuser\"\n",
    "login_password = \"adK=@Eeura0V0jy\"\n",
    "account = \"cga76042\""
   ]
  },
  {
   "cell_type": "code",
   "execution_count": null,
   "metadata": {},
   "outputs": [],
   "source": [
    "# Gets the version\n",
    "ctx = snowflake.connector.connect(\n",
    "    user=login_name,\n",
    "    password=login_password,\n",
    "    account=account\n",
    "    )\n",
    "cs = ctx.cursor()\n",
    "try:\n",
    "    cs.execute(\"SELECT current_version()\")\n",
    "    one_row = cs.fetchone()\n",
    "    print(one_row[0])\n",
    "finally:\n",
    "    cs.close()\n",
    "ctx.close()"
   ]
  },
  {
   "cell_type": "code",
   "execution_count": null,
   "metadata": {},
   "outputs": [],
   "source": [
    "# Gets the version\n",
    "conn = snowflake.connector.connect(user=login_name,\n",
    "                                   password=login_password,\n",
    "                                   account=account)\n",
    "#cs = ctx.cursor()\n",
    "try:\n",
    "    conn.cursor().execute(\"CREATE WAREHOUSE IF NOT EXISTS tiny_warehouse_mg\")\n",
    "    conn.cursor().execute(\"CREATE DATABASE IF NOT EXISTS testdb_mg\")\n",
    "    conn.cursor().execute(\"USE DATABASE testdb_mg\")\n",
    "    conn.cursor().execute(\"CREATE SCHEMA IF NOT EXISTS testschema_mg\")\n",
    "    \n",
    "    #cs.execute(\"SELECT current_version()\")\n",
    "    #one_row = cs.fetchone()\n",
    "    #print(one_row[0])\n",
    "finally:\n",
    "    cs.close()\n",
    "ctx.close()"
   ]
  },
  {
   "cell_type": "code",
   "execution_count": null,
   "metadata": {},
   "outputs": [],
   "source": [
    "# Gets the version\n",
    "conn = snowflake.connector.connect(user=login_name,\n",
    "                                   password=login_password,\n",
    "                                   account=account)\n",
    "#cs = ctx.cursor()\n",
    "try:\n",
    "    conn.cursor().execute(\"USE WAREHOUSE tiny_warehouse_mg\")\n",
    "    conn.cursor().execute(\"USE DATABASE testdb_mg\")\n",
    "    conn.cursor().execute(\"USE SCHEMA testdb_mg.testschema_mg\")\n",
    "    #cs.execute(\"SELECT current_version()\")\n",
    "    #one_row = cs.fetchone()\n",
    "    #print(one_row[0])\n",
    "finally:\n",
    "    cs.close()\n",
    "ctx.close()"
   ]
  },
  {
   "cell_type": "code",
   "execution_count": null,
   "metadata": {},
   "outputs": [],
   "source": [
    "# Gets the version\n",
    "conn = snowflake.connector.connect(user=login_name,\n",
    "                                   password=login_password,\n",
    "                                   account=account)\n",
    "#cs = ctx.cursor()\n",
    "try:\n",
    "    conn.cursor().execute(\"USE WAREHOUSE tiny_warehouse_mg\")\n",
    "    conn.cursor().execute(\"USE DATABASE testdb_mg\")\n",
    "    conn.cursor().execute(\"USE SCHEMA testdb_mg.testschema_mg\")\n",
    "    \n",
    "    conn.cursor().execute(\n",
    "        \"CREATE OR REPLACE TABLE \"\n",
    "        \"test_table(col1 integer, col2 string)\")\n",
    "\n",
    "    conn.cursor().execute(\n",
    "        \"INSERT INTO test_table(col1, col2) VALUES \" + \n",
    "        \"    (123, 'test string1'), \" + \n",
    "        \"    (456, 'test string2')\")\n",
    "finally:\n",
    "    cs.close()\n",
    "ctx.close()"
   ]
  },
  {
   "cell_type": "code",
   "execution_count": null,
   "metadata": {},
   "outputs": [],
   "source": []
  }
 ],
 "metadata": {
  "kernelspec": {
   "display_name": "Python 3",
   "language": "python",
   "name": "python3"
  },
  "language_info": {
   "codemirror_mode": {
    "name": "ipython",
    "version": 3
   },
   "file_extension": ".py",
   "mimetype": "text/x-python",
   "name": "python",
   "nbconvert_exporter": "python",
   "pygments_lexer": "ipython3",
   "version": "3.8.2"
  }
 },
 "nbformat": 4,
 "nbformat_minor": 4
}
