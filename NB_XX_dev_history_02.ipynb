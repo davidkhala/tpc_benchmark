{
 "cells": [
  {
   "cell_type": "markdown",
   "metadata": {},
   "source": [
    "### TPC Benchmarking  \n",
    "Results Plotting  "
   ]
  },
  {
   "cell_type": "code",
   "execution_count": 1,
   "metadata": {},
   "outputs": [],
   "source": [
    "import os\n",
    "import glob\n",
    "import numpy as np\n",
    "import pandas as pd\n",
    "import matplotlib.pyplot as plt\n",
    "import seaborn as sns\n",
    "from datetime import datetime\n",
    "\n",
    "sns.set_context(\"notebook\", font_scale=1.0, rc={\"lines.linewidth\": 1.0})\n",
    "\n",
    "pd.options.display.max_rows = 999\n",
    "pd.options.display.max_columns = 999\n",
    "\n",
    "import config, sfa, bqa, tools"
   ]
  },
  {
   "cell_type": "code",
   "execution_count": 2,
   "metadata": {},
   "outputs": [],
   "source": [
    "from importlib import reload"
   ]
  },
  {
   "cell_type": "code",
   "execution_count": 3,
   "metadata": {},
   "outputs": [],
   "source": [
    "results_dir = \"/home/colin/code/bq_snowflake_benchmark/results/bqsf_ds_01_results-ds_1GB_01-dev_test_04-2020-05-21_19:04:08.344863/\""
   ]
  },
  {
   "cell_type": "code",
   "execution_count": 4,
   "metadata": {},
   "outputs": [],
   "source": [
    "def exp_log_t0(results_dir):\n",
    "    \"\"\"Get query history for experiment\"\"\"\n",
    "    fps_time = glob.glob(results_dir + \"/*_*_times*\")\n",
    "    source_csv = {k:v for k,v in zip([os.path.basename(x)[:2] for x in fps_time], fps_time)}\n",
    "    dfsf = pd.read_csv(source_csv[\"sf\"])\n",
    "    dfbq = pd.read_csv(source_csv[\"bq\"])\n",
    "    df = pd.concat([dfsf, dfbq])\n",
    "    t0 = df.driver_t0.min()\n",
    "    return t0"
   ]
  },
  {
   "cell_type": "code",
   "execution_count": 5,
   "metadata": {},
   "outputs": [
    {
     "data": {
      "text/plain": [
       "'2020-05-22 02:04:12.238239+00:00'"
      ]
     },
     "execution_count": 5,
     "metadata": {},
     "output_type": "execute_result"
    }
   ],
   "source": [
    "t0 = exp_log_t0(results_dir)\n",
    "t0"
   ]
  },
  {
   "cell_type": "code",
   "execution_count": 6,
   "metadata": {},
   "outputs": [
    {
     "data": {
      "text/plain": [
       "Timedelta('0 days 00:20:00')"
      ]
     },
     "execution_count": 6,
     "metadata": {},
     "output_type": "execute_result"
    }
   ],
   "source": [
    "t_buffer = pd.Timedelta(\"20 minutes\")\n",
    "t_buffer"
   ]
  },
  {
   "cell_type": "code",
   "execution_count": 7,
   "metadata": {},
   "outputs": [],
   "source": [
    "reload(sfa)\n",
    "sf = sfa.SFTPC(test=\"ds\",\n",
    "               scale=1,\n",
    "               cid=\"01\",\n",
    "               warehouse=\"TEST9000\",\n",
    "               desc=\"query_history\",\n",
    "               verbose=False,\n",
    "               verbose_query=False)\n",
    "sf.connect()\n",
    "df_sf_history_sq, qid_sf = sf.query_history(t0=pd.to_datetime(t0) - t_buffer,\n",
    "                                            t1=pd.Timestamp.now())\n",
    "\n",
    "sf.close()"
   ]
  },
  {
   "cell_type": "code",
   "execution_count": 8,
   "metadata": {},
   "outputs": [
    {
     "name": "stdout",
     "output_type": "stream",
     "text": [
      "Stored 'df_sf_history_sq' (DataFrame)\n"
     ]
    }
   ],
   "source": [
    "%store df_sf_history_sq"
   ]
  },
  {
   "cell_type": "code",
   "execution_count": 9,
   "metadata": {},
   "outputs": [],
   "source": [
    "reload(sfa)\n",
    "sf = sfa.AU(warehouse=\"TEST9000\")\n",
    "sf.connect()\n",
    "\n",
    "df_sf_history_av, qid_sf = sf.query_history_view(t0=pd.to_datetime(t0) - t_buffer,\n",
    "                                                 t1=pd.Timestamp.now())\n",
    "\n",
    "sf.close()"
   ]
  },
  {
   "cell_type": "code",
   "execution_count": 10,
   "metadata": {},
   "outputs": [
    {
     "name": "stdout",
     "output_type": "stream",
     "text": [
      "Stored 'df_sf_history_av' (DataFrame)\n"
     ]
    }
   ],
   "source": [
    "%store df_sf_history_av"
   ]
  },
  {
   "cell_type": "raw",
   "metadata": {},
   "source": [
    "df_sf_history_av.dtypes"
   ]
  },
  {
   "cell_type": "code",
   "execution_count": 11,
   "metadata": {},
   "outputs": [],
   "source": [
    "df_sf_history_av.to_csv(results_dir + config.sep + \"sf_query_history.csv\")"
   ]
  },
  {
   "cell_type": "code",
   "execution_count": 12,
   "metadata": {},
   "outputs": [
    {
     "name": "stdout",
     "output_type": "stream",
     "text": [
      "QUERY TEXT\n",
      "==========\n",
      "select * from `region-us`.INFORMATION_SCHEMA.JOBS_BY_PROJECT where job_type = 'QUERY' and end_time between '2020-05-22 01:44:12' AND '2020-05-21 19:20:05'\n",
      "\n"
     ]
    }
   ],
   "source": [
    "reload(bqa)\n",
    "bq = bqa.BQTPC(test=\"ds\",\n",
    "               scale=1,\n",
    "               cid=\"01\",\n",
    "               desc=\"query_history\",\n",
    "               verbose=False,\n",
    "               verbose_query=True)\n",
    "\n",
    "df_bq_history, qid_bq = bq.query_history(t0=pd.to_datetime(t0) - t_buffer,\n",
    "                                         t1=pd.Timestamp.now())"
   ]
  },
  {
   "cell_type": "code",
   "execution_count": 13,
   "metadata": {},
   "outputs": [
    {
     "name": "stdout",
     "output_type": "stream",
     "text": [
      "Stored 'df_bq_history' (DataFrame)\n"
     ]
    }
   ],
   "source": [
    "%store df_bq_history"
   ]
  },
  {
   "cell_type": "raw",
   "metadata": {},
   "source": [
    "df_bq_history.dtypes"
   ]
  },
  {
   "cell_type": "code",
   "execution_count": 14,
   "metadata": {},
   "outputs": [],
   "source": [
    "df_bq_history.to_csv(results_dir + config.sep + \"bq_query_history.csv\")"
   ]
  }
 ],
 "metadata": {
  "kernelspec": {
   "display_name": "Python 3",
   "language": "python",
   "name": "python3"
  },
  "language_info": {
   "codemirror_mode": {
    "name": "ipython",
    "version": 3
   },
   "file_extension": ".py",
   "mimetype": "text/x-python",
   "name": "python",
   "nbconvert_exporter": "python",
   "pygments_lexer": "ipython3",
   "version": "3.7.7"
  }
 },
 "nbformat": 4,
 "nbformat_minor": 4
}
