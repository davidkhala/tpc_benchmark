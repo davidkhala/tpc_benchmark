{
 "cells": [
  {
   "cell_type": "markdown",
   "metadata": {},
   "source": [
    "## TPC-H Schema & Template Generation    \n",
    "Create the DDL Schema files for creating tables in BigQuery and Snowflake"
   ]
  },
  {
   "cell_type": "code",
   "execution_count": 1,
   "metadata": {},
   "outputs": [],
   "source": [
    "import config, schema, h_setup, tools"
   ]
  },
  {
   "cell_type": "markdown",
   "metadata": {},
   "source": [
    "### I. Create Default Schema  \n",
    "This schema only changes from the ANSI the type definitions and removes the `primary key` definitions."
   ]
  },
  {
   "cell_type": "code",
   "execution_count": 2,
   "metadata": {},
   "outputs": [],
   "source": [
    "schema_name = 'bq_h_0'"
   ]
  },
  {
   "cell_type": "code",
   "execution_count": 3,
   "metadata": {},
   "outputs": [],
   "source": [
    "schema.rewrite_h_basic(filepath_out=config.fp_schema + config.sep + schema_name + \".ddl\",\n",
    "                        dataset_name=None, prefix=False)"
   ]
  },
  {
   "cell_type": "code",
   "execution_count": 4,
   "metadata": {},
   "outputs": [],
   "source": [
    "schema_name = 'bq_h_1GB_qual'"
   ]
  },
  {
   "cell_type": "code",
   "execution_count": 5,
   "metadata": {},
   "outputs": [],
   "source": [
    "schema.rewrite_h_basic(filepath_out=config.fp_schema + config.sep + schema_name + \".ddl\",\n",
    "                        dataset_name=None, prefix=False)"
   ]
  },
  {
   "cell_type": "markdown",
   "metadata": {},
   "source": [
    "## II. Copy and Modify Query Templates  "
   ]
  },
  {
   "cell_type": "markdown",
   "metadata": {},
   "source": [
    "Make folders for the new template copies IF they don't already exist."
   ]
  },
  {
   "cell_type": "code",
   "execution_count": 6,
   "metadata": {},
   "outputs": [],
   "source": [
    "tools.make_directories()"
   ]
  },
  {
   "cell_type": "markdown",
   "metadata": {},
   "source": [
    "Copy templates to the following folders IF they don't already exist."
   ]
  },
  {
   "cell_type": "code",
   "execution_count": 7,
   "metadata": {},
   "outputs": [
    {
     "name": "stdout",
     "output_type": "stream",
     "text": [
      "Source directory: /home/colin/code/bq_snowflake_benchmark/h/2.18.0_rc2/dbgen/queries\n",
      "Moved all files to: /home/colin/code/bq_snowflake_benchmark/tpl/bq_h_gen\n",
      "Moved all files to: /home/colin/code/bq_snowflake_benchmark/tpl/sf_h_gen\n",
      "Moved all files to: /home/colin/code/bq_snowflake_benchmark/tpl/bq_h\n",
      "Moved all files to: /home/colin/code/bq_snowflake_benchmark/tpl/sf_h\n",
      "Done.  Note: If none printed above, there were no new templates to write.\n"
     ]
    }
   ],
   "source": [
    "# this will only copy template files to the destination if the directory doesn't exist\n",
    "h_setup.copy_tpl(verbose=True)"
   ]
  },
  {
   "cell_type": "markdown",
   "metadata": {},
   "source": [
    "## III. Modify templates for BQ and SF  \n",
    "The following templates folders:  \n",
    "`/tpl/bq_ds`  \n",
    "`/tpl/sf_ds`  \n",
    "need to be edited from the default ANSI output to make them executable.  Some edits can be automated, the final work must be done manually.  \n",
    "\n",
    "As well, the file `sqlserver.tpl` must be modified for dsqgen to successfully compile the template file."
   ]
  },
  {
   "cell_type": "markdown",
   "metadata": {},
   "source": [
    "### III.A Rewrite the templates\n",
    "Change ANSI SQL statements to ones that BigQuery needs."
   ]
  },
  {
   "cell_type": "code",
   "execution_count": 8,
   "metadata": {},
   "outputs": [
    {
     "data": {
      "text/plain": [
       "'/home/colin/code/bq_snowflake_benchmark/tpl/bq_h'"
      ]
     },
     "execution_count": 8,
     "metadata": {},
     "output_type": "execute_result"
    }
   ],
   "source": [
    "input_templates_bq = config.fp_h_bq_template_dir\n",
    "input_templates_bq"
   ]
  },
  {
   "cell_type": "code",
   "execution_count": 9,
   "metadata": {},
   "outputs": [
    {
     "ename": "SyntaxError",
     "evalue": "'break' outside loop (<ipython-input-9-6aaf1f276005>, line 1)",
     "output_type": "error",
     "traceback": [
      "\u001b[0;36m  File \u001b[0;32m\"<ipython-input-9-6aaf1f276005>\"\u001b[0;36m, line \u001b[0;32m1\u001b[0m\n\u001b[0;31m    break\u001b[0m\n\u001b[0m    ^\u001b[0m\n\u001b[0;31mSyntaxError\u001b[0m\u001b[0;31m:\u001b[0m 'break' outside loop\n"
     ]
    }
   ],
   "source": [
    "break"
   ]
  },
  {
   "cell_type": "code",
   "execution_count": null,
   "metadata": {},
   "outputs": [],
   "source": [
    "ds_setup.tpl_bq_regex(tpl_dir=input_templates_bq, verbose=False)"
   ]
  },
  {
   "cell_type": "markdown",
   "metadata": {},
   "source": [
    "### III.B Alter the dsqgen configuration  \n",
    "This changes tp the use of \"LIMIT\" instead of \"TOP\" and suppress ending statements."
   ]
  },
  {
   "cell_type": "code",
   "execution_count": null,
   "metadata": {},
   "outputs": [],
   "source": [
    "dialect = h_setup.sqlserver_bq_defines(input_templates_bq)\n",
    "dialect"
   ]
  },
  {
   "cell_type": "markdown",
   "metadata": {},
   "source": [
    "Note that the dialect must be specified later when generating the query text."
   ]
  }
 ],
 "metadata": {
  "kernelspec": {
   "display_name": "Python 3",
   "language": "python",
   "name": "python3"
  },
  "language_info": {
   "codemirror_mode": {
    "name": "ipython",
    "version": 3
   },
   "file_extension": ".py",
   "mimetype": "text/x-python",
   "name": "python",
   "nbconvert_exporter": "python",
   "pygments_lexer": "ipython3",
   "version": "3.8.2"
  }
 },
 "nbformat": 4,
 "nbformat_minor": 4
}
