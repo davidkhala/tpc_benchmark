{
 "cells": [
  {
   "cell_type": "markdown",
   "metadata": {},
   "source": [
    "### BigQuery Dataset Replication  \n",
    "Use predefined SQL table copies to partion and cluster new tables"
   ]
  },
  {
   "cell_type": "code",
   "execution_count": null,
   "metadata": {},
   "outputs": [],
   "source": [
    "from google.cloud import bigquery\n",
    "\n",
    "import config, bq_tpc"
   ]
  },
  {
   "cell_type": "code",
   "execution_count": null,
   "metadata": {},
   "outputs": [],
   "source": [
    "source_dataset      = \"\"\n",
    "destination_dataset = \"\""
   ]
  },
  {
   "cell_type": "code",
   "execution_count": null,
   "metadata": {},
   "outputs": [],
   "source": [
    "# schema definition copies AND applies clustering/partitioning\n",
    "if \"ds\" in source_dataset:\n",
    "    schema_name = \"bq_ds_01_clone.sql\"\n",
    "    #schema_name = \"bq_ds_02_p.sql\"\n",
    "    #schema_name = \"bq_ds_02_pc.sql\"\n",
    "else:\n",
    "    schema_name = \"bq_h_01_clone.sql\"\n",
    "    #schema_name = \"bq_h_02_p.sql\"\n",
    "    #schema_name = \"bq_h_02_pc.sql\""
   ]
  },
  {
   "cell_type": "code",
   "execution_count": null,
   "metadata": {},
   "outputs": [],
   "source": [
    "query_text = bq_tpc.create_table_remix(schema_name=schema_name,\n",
    "                                       source=source_dataset,\n",
    "                                       destination=destination_dataset,\n",
    "                                       dot=True)"
   ]
  },
  {
   "cell_type": "code",
   "execution_count": null,
   "metadata": {},
   "outputs": [],
   "source": [
    "bq_tpc.create_dataset(destination_dataset)"
   ]
  },
  {
   "cell_type": "code",
   "execution_count": null,
   "metadata": {},
   "outputs": [],
   "source": [
    "%%time\n",
    "query_job = bq_tpc.query(query_text=query_text,\n",
    "                         project=config.gcp_project.lower(),\n",
    "                         dataset=destination_dataset,\n",
    "                         dry_run=False,\n",
    "                         use_cache=False)\n",
    "query_job.result()\n",
    "print(config.gcp_project.lower())\n",
    "print(destination_dataset)"
   ]
  }
 ],
 "metadata": {
  "kernelspec": {
   "display_name": "Python 3",
   "language": "python",
   "name": "python3"
  },
  "language_info": {
   "codemirror_mode": {
    "name": "ipython",
    "version": 3
   },
   "file_extension": ".py",
   "mimetype": "text/x-python",
   "name": "python",
   "nbconvert_exporter": "python",
   "pygments_lexer": "ipython3",
   "version": "3.8.2"
  }
 },
 "nbformat": 4,
 "nbformat_minor": 4
}
