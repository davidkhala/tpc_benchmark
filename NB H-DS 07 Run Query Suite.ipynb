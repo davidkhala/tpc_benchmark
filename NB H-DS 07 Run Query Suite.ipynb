{
 "cells": [
  {
   "cell_type": "markdown",
   "metadata": {},
   "source": [
    "## TPC-DS Query Execution"
   ]
  },
  {
   "cell_type": "code",
   "execution_count": null,
   "metadata": {},
   "outputs": [],
   "source": [
    "import pandas as pd"
   ]
  },
  {
   "cell_type": "code",
   "execution_count": null,
   "metadata": {},
   "outputs": [],
   "source": [
    "import config, bq"
   ]
  },
  {
   "cell_type": "markdown",
   "metadata": {},
   "source": [
    "#### 1. Single Query Generation and Evaluation"
   ]
  },
  {
   "cell_type": "code",
   "execution_count": null,
   "metadata": {},
   "outputs": [],
   "source": [
    "name = \"default\"\n",
    "test = \"h\"\n",
    "scale = 100\n",
    "tpl_dir = config.fp_query_templates + config.sep + \"bq_h\"\n",
    "qual = None\n",
    "\n",
    "project = \"tpc-benchmarking-9432\"\n",
    "dataset = \"h_100GB_01\""
   ]
  },
  {
   "cell_type": "code",
   "execution_count": null,
   "metadata": {},
   "outputs": [],
   "source": [
    "query_sequence = list(range(1,23))\n",
    "print(query_sequence[:5])\n",
    "print(query_sequence[-5:])"
   ]
  },
  {
   "cell_type": "code",
   "execution_count": null,
   "metadata": {},
   "outputs": [],
   "source": [
    "seq_done = bq.query_seq(name=name,\n",
    "                        test=test,\n",
    "                        seq=query_sequence,\n",
    "                        templates_dir=tpl_dir,\n",
    "                        scale=scale,\n",
    "                        project=project,\n",
    "                        dataset=dataset,\n",
    "                        qual=qual,\n",
    "                        dry_run=False,\n",
    "                        use_cache=False,\n",
    "                        verbose=False,\n",
    "                        verbose_iter=True\n",
    "                        )\n",
    "print(\"Sequence Done:\", seq_done)\n",
    "print(\"=======================\")"
   ]
  },
  {
   "cell_type": "markdown",
   "metadata": {},
   "source": [
    "#### 2. Run stream permutation order of querys in BQ Syntax"
   ]
  },
  {
   "cell_type": "code",
   "execution_count": null,
   "metadata": {},
   "outputs": [],
   "source": [
    "stream_sequence = list(range(1,16))\n",
    "#stream_sequence = [4]\n",
    "stream_sequence"
   ]
  },
  {
   "cell_type": "code",
   "execution_count": null,
   "metadata": {},
   "outputs": [],
   "source": [
    "seq_done = bq.stream_seq(name=name,\n",
    "                         test=test,\n",
    "                         seq=stream_sequence,\n",
    "                         templates_dir=tpl_dir,\n",
    "                         scale=scale,\n",
    "                         project=project,\n",
    "                         dataset=dataset,\n",
    "                         qual=qual,\n",
    "                         dry_run=False,\n",
    "                         use_cache=False,\n",
    "                         verbose=False,\n",
    "                         verbose_iter=True\n",
    "                         )\n",
    "print(\"Sequence Done:\", seq_done)"
   ]
  },
  {
   "cell_type": "code",
   "execution_count": null,
   "metadata": {},
   "outputs": [],
   "source": []
  }
 ],
 "metadata": {
  "kernelspec": {
   "display_name": "Python 3",
   "language": "python",
   "name": "python3"
  },
  "language_info": {
   "codemirror_mode": {
    "name": "ipython",
    "version": 3
   },
   "file_extension": ".py",
   "mimetype": "text/x-python",
   "name": "python",
   "nbconvert_exporter": "python",
   "pygments_lexer": "ipython3",
   "version": "3.8.2"
  }
 },
 "nbformat": 4,
 "nbformat_minor": 4
}
