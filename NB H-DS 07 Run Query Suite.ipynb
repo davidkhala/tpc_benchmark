{
 "cells": [
  {
   "cell_type": "markdown",
   "metadata": {},
   "source": [
    "## TPC-DS Query Execution"
   ]
  },
  {
   "cell_type": "code",
   "execution_count": 1,
   "metadata": {},
   "outputs": [],
   "source": [
    "import pandas as pd"
   ]
  },
  {
   "cell_type": "code",
   "execution_count": 2,
   "metadata": {},
   "outputs": [],
   "source": [
    "import config, bq"
   ]
  },
  {
   "cell_type": "markdown",
   "metadata": {},
   "source": [
    "#### 1. Single Query Generation and Evaluation"
   ]
  },
  {
   "cell_type": "raw",
   "metadata": {},
   "source": [
    "description = \"default\"\n",
    "dataset = \"h_100GB_01\""
   ]
  },
  {
   "cell_type": "code",
   "execution_count": 3,
   "metadata": {},
   "outputs": [],
   "source": [
    "description = \"part & cluster A\"\n",
    "dataset = \"h_100GB_02\""
   ]
  },
  {
   "cell_type": "code",
   "execution_count": 4,
   "metadata": {},
   "outputs": [],
   "source": [
    "test = \"h\"\n",
    "scale = 100\n",
    "tpl_dir = config.fp_query_templates + config.sep + \"bq_h\"\n",
    "qual = None\n",
    "\n",
    "project = \"tpc-benchmarking-9432\""
   ]
  },
  {
   "cell_type": "code",
   "execution_count": 5,
   "metadata": {},
   "outputs": [
    {
     "name": "stdout",
     "output_type": "stream",
     "text": [
      "[1, 2, 3, 4, 5]\n",
      "[18, 19, 20, 21, 22]\n"
     ]
    }
   ],
   "source": [
    "query_sequence = list(range(1,23))\n",
    "print(query_sequence[:5])\n",
    "print(query_sequence[-5:])"
   ]
  },
  {
   "cell_type": "code",
   "execution_count": 6,
   "metadata": {},
   "outputs": [
    {
     "name": "stdout",
     "output_type": "stream",
     "text": [
      "QUERY: 1\n",
      "=========\n",
      "Total Time Elapsed: 0:00:03.486000\n",
      "Bytes Processed: 27093922996\n",
      "Bytes Billed: 27094155264\n",
      "----------------------------------------\n",
      "\n",
      "QUERY: 2\n",
      "=========\n",
      "Total Time Elapsed: 0:00:04.263000\n",
      "Bytes Processed: 2094339163\n",
      "Bytes Billed: 2095054848\n",
      "----------------------------------------\n",
      "\n",
      "QUERY: 3\n",
      "=========\n",
      "Total Time Elapsed: 0:00:10.149000\n",
      "Bytes Processed: 12884999470\n",
      "Bytes Billed: 12885950464\n",
      "----------------------------------------\n",
      "\n",
      "QUERY: 4\n",
      "=========\n",
      "Total Time Elapsed: 0:00:06.171000\n",
      "Bytes Processed: 14552385485\n",
      "Bytes Billed: 14553186304\n",
      "----------------------------------------\n",
      "\n",
      "QUERY: 5\n",
      "=========\n",
      "Total Time Elapsed: 0:00:18.753000\n",
      "Bytes Processed: 20004885199\n",
      "Bytes Billed: 20005781504\n",
      "----------------------------------------\n",
      "\n",
      "QUERY: 6\n",
      "=========\n",
      "Total Time Elapsed: 0:00:00.909000\n",
      "Bytes Processed: 2920765536\n",
      "Bytes Billed: 2921332736\n",
      "----------------------------------------\n",
      "\n",
      "QUERY: 7\n",
      "=========\n",
      "Total Time Elapsed: 0:00:12.012000\n",
      "Bytes Processed: 9948048027\n",
      "Bytes Billed: 9948889088\n",
      "----------------------------------------\n",
      "\n",
      "QUERY: 8\n",
      "=========\n",
      "Total Time Elapsed: 0:00:14.381000\n",
      "Bytes Processed: 25963306921\n",
      "Bytes Billed: 25963790336\n",
      "----------------------------------------\n",
      "\n",
      "QUERY: 9\n",
      "=========\n",
      "Total Time Elapsed: 0:00:14.646000\n",
      "Bytes Processed: 33992803608\n",
      "Bytes Billed: 33993785344\n",
      "----------------------------------------\n",
      "\n",
      "QUERY: 10\n",
      "=========\n",
      "Total Time Elapsed: 0:00:11.509000\n",
      "Bytes Processed: 10659800706\n",
      "Bytes Billed: 10659823616\n",
      "----------------------------------------\n",
      "\n",
      "QUERY: 11\n",
      "=========\n",
      "Total Time Elapsed: 0:00:03.794000\n",
      "Bytes Processed: 2576000427\n",
      "Bytes Billed: 2576351232\n",
      "----------------------------------------\n",
      "\n",
      "QUERY: 12\n",
      "=========\n",
      "Total Time Elapsed: 0:00:08.838000\n",
      "Bytes Processed: 6527422016\n",
      "Bytes Billed: 6528434176\n",
      "----------------------------------------\n",
      "\n",
      "QUERY: 13\n",
      "=========\n",
      "Total Time Elapsed: 0:00:06.185000\n",
      "Bytes Processed: 10095038709\n",
      "Bytes Billed: 10095689728\n",
      "----------------------------------------\n",
      "\n",
      "QUERY: 14\n",
      "=========\n",
      "Total Time Elapsed: 0:00:01.661000\n",
      "Bytes Processed: 851413938\n",
      "Bytes Billed: 851443712\n",
      "----------------------------------------\n",
      "\n",
      "QUERY: 15\n",
      "=========\n",
      "Total Time Elapsed: 0:00:06.631000\n",
      "Bytes Processed: 798448416\n",
      "Bytes Billed: 799014912\n",
      "----------------------------------------\n",
      "\n",
      "QUERY: 16\n",
      "=========\n",
      "Total Time Elapsed: 0:00:10.461000\n",
      "Bytes Processed: 1508027415\n",
      "Bytes Billed: 1508900864\n",
      "----------------------------------------\n",
      "\n",
      "QUERY: 17\n",
      "=========\n",
      "Total Time Elapsed: 0:00:09.564000\n",
      "Bytes Processed: 14952402633\n",
      "Bytes Billed: 14952693760\n",
      "----------------------------------------\n",
      "\n",
      "QUERY: 18\n",
      "=========\n",
      "Total Time Elapsed: 0:00:20.777000\n",
      "Bytes Processed: 14820606432\n",
      "Bytes Billed: 14821621760\n",
      "----------------------------------------\n",
      "\n",
      "QUERY: 19\n",
      "=========\n",
      "Total Time Elapsed: 0:00:03.411000\n",
      "Bytes Processed: 31586766014\n",
      "Bytes Billed: 31587303424\n",
      "----------------------------------------\n",
      "\n",
      "QUERY: 20\n",
      "=========\n",
      "Total Time Elapsed: 0:00:04.931000\n",
      "Bytes Processed: 5752065272\n",
      "Bytes Billed: 5752487936\n",
      "----------------------------------------\n",
      "\n",
      "QUERY: 21\n",
      "=========\n",
      "Total Time Elapsed: 0:00:23.933000\n",
      "Bytes Processed: 20887213291\n",
      "Bytes Billed: 20887633920\n",
      "----------------------------------------\n",
      "\n",
      "QUERY: 22\n",
      "=========\n",
      "Total Time Elapsed: 0:00:06.569000\n",
      "Bytes Processed: 1695000000\n",
      "Bytes Billed: 1695547392\n",
      "----------------------------------------\n",
      "\n",
      "Sequence Done: True\n",
      "=======================\n"
     ]
    }
   ],
   "source": [
    "seq_done = bq.query_seq(desc=description,\n",
    "                        test=test,\n",
    "                        seq=query_sequence,\n",
    "                        templates_dir=tpl_dir,\n",
    "                        scale=scale,\n",
    "                        project=project,\n",
    "                        dataset=dataset,\n",
    "                        qual=qual,\n",
    "                        dry_run=False,\n",
    "                        use_cache=False,\n",
    "                        verbose=False,\n",
    "                        verbose_iter=True\n",
    "                        )\n",
    "print(\"Sequence Done:\", seq_done)\n",
    "print(\"=======================\")"
   ]
  },
  {
   "cell_type": "markdown",
   "metadata": {},
   "source": [
    "#### 2. Run stream permutation order of querys in BQ Syntax"
   ]
  },
  {
   "cell_type": "code",
   "execution_count": 7,
   "metadata": {},
   "outputs": [
    {
     "data": {
      "text/plain": [
       "[1, 2, 3, 4, 5]"
      ]
     },
     "execution_count": 7,
     "metadata": {},
     "output_type": "execute_result"
    }
   ],
   "source": [
    "stream_sequence = list(range(1,6))\n",
    "#stream_sequence = [4]\n",
    "stream_sequence"
   ]
  },
  {
   "cell_type": "code",
   "execution_count": 8,
   "metadata": {},
   "outputs": [
    {
     "name": "stdout",
     "output_type": "stream",
     "text": [
      "STREAM: 1\n",
      "============\n",
      "Total Time Elapsed: 0:03:44.111000\n",
      "Bytes Processed: 272165661674\n",
      "Bytes Billed: 272178872320\n",
      "----------------------------------------\n",
      "\n",
      "STREAM: 2\n",
      "============\n",
      "Total Time Elapsed: 0:03:32.812000\n",
      "Bytes Processed: 272165661674\n",
      "Bytes Billed: 272178872320\n",
      "----------------------------------------\n",
      "\n",
      "STREAM: 3\n",
      "============\n",
      "Total Time Elapsed: 0:03:32.901000\n",
      "Bytes Processed: 272165661674\n",
      "Bytes Billed: 272178872320\n",
      "----------------------------------------\n",
      "\n",
      "STREAM: 4\n",
      "============\n",
      "Total Time Elapsed: 0:03:34.664000\n",
      "Bytes Processed: 272165661674\n",
      "Bytes Billed: 272178872320\n",
      "----------------------------------------\n",
      "\n",
      "STREAM: 5\n",
      "============\n",
      "Total Time Elapsed: 0:03:27.257000\n",
      "Bytes Processed: 272165661674\n",
      "Bytes Billed: 272178872320\n",
      "----------------------------------------\n",
      "\n",
      "Sequence Done: True\n"
     ]
    }
   ],
   "source": [
    "seq_done = bq.stream_seq(desc=description,\n",
    "                         test=test,\n",
    "                         seq=stream_sequence,\n",
    "                         templates_dir=tpl_dir,\n",
    "                         scale=scale,\n",
    "                         project=project,\n",
    "                         dataset=dataset,\n",
    "                         qual=qual,\n",
    "                         dry_run=False,\n",
    "                         use_cache=False,\n",
    "                         verbose=False,\n",
    "                         verbose_iter=True\n",
    "                         )\n",
    "print(\"Sequence Done:\", seq_done)"
   ]
  },
  {
   "cell_type": "code",
   "execution_count": null,
   "metadata": {},
   "outputs": [],
   "source": []
  }
 ],
 "metadata": {
  "kernelspec": {
   "display_name": "Python 3",
   "language": "python",
   "name": "python3"
  },
  "language_info": {
   "codemirror_mode": {
    "name": "ipython",
    "version": 3
   },
   "file_extension": ".py",
   "mimetype": "text/x-python",
   "name": "python",
   "nbconvert_exporter": "python",
   "pygments_lexer": "ipython3",
   "version": "3.8.2"
  }
 },
 "nbformat": 4,
 "nbformat_minor": 4
}
