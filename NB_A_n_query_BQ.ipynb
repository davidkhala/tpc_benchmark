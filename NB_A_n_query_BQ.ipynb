{
 "cells": [
  {
   "cell_type": "code",
   "execution_count": 1,
   "metadata": {},
   "outputs": [],
   "source": [
    "import pandas as pd\n",
    "\n",
    "pd.options.display.max_rows = 999\n",
    "pd.options.display.max_columns = 999"
   ]
  },
  {
   "cell_type": "code",
   "execution_count": 2,
   "metadata": {},
   "outputs": [],
   "source": [
    "import config, bqa, poor_security"
   ]
  },
  {
   "cell_type": "code",
   "execution_count": 3,
   "metadata": {},
   "outputs": [],
   "source": [
    "from importlib import reload"
   ]
  },
  {
   "cell_type": "code",
   "execution_count": 13,
   "metadata": {
    "pycharm": {
     "name": "#%%\n"
    }
   },
   "outputs": [
    {
     "name": "stdout",
     "output_type": "stream",
     "text": [
      "BigQuery configuration\n",
      "=======================\n",
      "Service Account:  bq-476262002685@bigquery-encryption.iam.gserviceaccount.com\n",
      "\n",
      "TPC-DS dsqgen parameters\n",
      "========================\n",
      "command & kwargs: ['./dsqgen', '-VERBOSE', '-SCALE', '1', '-RNGSEED', '13', '-TEMPLATE', 'query7.tpl', '-FILTER', '-DIALECT', 'sqlserver_tpc', '-DIRECTORY', '/home/colin/code/bq_snowflake_benchmark/tpl/bq_ds']\n",
      "cwd: /home/colin/code/bq_snowflake_benchmark/ds/v2.11.0rc2/tools\n",
      "\n"
     ]
    }
   ],
   "source": [
    "bq = bqa.BQTPC(test=\"ds\",\n",
    "               scale=1,\n",
    "               cid=\"01\",\n",
    "               desc=\"dev-test-01\",\n",
    "               verbose=True,\n",
    "               verbose_query=False)\n",
    "\n",
    "t0, t1, query_result, query_text = bq.query_n(n=7, std_out=False)\n",
    "df = query_result.result().to_dataframe()"
   ]
  },
  {
   "cell_type": "code",
   "execution_count": 14,
   "metadata": {},
   "outputs": [],
   "source": [
    "dfbq7 = df.copy()"
   ]
  },
  {
   "cell_type": "code",
   "execution_count": 15,
   "metadata": {},
   "outputs": [
    {
     "name": "stdout",
     "output_type": "stream",
     "text": [
      "Stored 'dfbq7' (DataFrame)\n"
     ]
    }
   ],
   "source": [
    "%store dfbq7"
   ]
  },
  {
   "cell_type": "code",
   "execution_count": 7,
   "metadata": {},
   "outputs": [
    {
     "ename": "SyntaxError",
     "evalue": "'break' outside loop (<ipython-input-7-6aaf1f276005>, line 4)",
     "output_type": "error",
     "traceback": [
      "\u001b[0;36m  File \u001b[0;32m\"<ipython-input-7-6aaf1f276005>\"\u001b[0;36m, line \u001b[0;32m4\u001b[0m\n\u001b[0;31mSyntaxError\u001b[0m\u001b[0;31m:\u001b[0m 'break' outside loop\n"
     ]
    }
   ],
   "source": [
    "break"
   ]
  },
  {
   "cell_type": "code",
   "execution_count": null,
   "metadata": {},
   "outputs": [],
   "source": [
    "bq = bqa.BQTPC(test=\"ds\",\n",
    "               scale=1,\n",
    "               cid=\"01\",\n",
    "               desc=\"dev-test-01\",\n",
    "               verbose_query=False, verbose=True)\n",
    "\n",
    "bq.query_seq([7],\n",
    "             seq_id=\"t1\", qual=None, save=True, verbose_iter=True)"
   ]
  },
  {
   "cell_type": "code",
   "execution_count": null,
   "metadata": {},
   "outputs": [],
   "source": []
  }
 ],
 "metadata": {
  "kernelspec": {
   "display_name": "Python 3",
   "language": "python",
   "name": "python3"
  },
  "language_info": {
   "codemirror_mode": {
    "name": "ipython",
    "version": 3
   },
   "file_extension": ".py",
   "mimetype": "text/x-python",
   "name": "python",
   "nbconvert_exporter": "python",
   "pygments_lexer": "ipython3",
   "version": "3.7.7"
  }
 },
 "nbformat": 4,
 "nbformat_minor": 4
}
