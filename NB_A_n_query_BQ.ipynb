{
 "cells": [
  {
   "cell_type": "code",
   "execution_count": null,
   "metadata": {},
   "outputs": [],
   "source": [
    "import pandas as pd\n",
    "\n",
    "pd.options.display.max_rows = 999\n",
    "pd.options.display.max_columns = 999"
   ]
  },
  {
   "cell_type": "code",
   "execution_count": null,
   "metadata": {},
   "outputs": [],
   "source": [
    "import config, tools, poor_security, bqa"
   ]
  },
  {
   "cell_type": "markdown",
   "metadata": {},
   "source": [
    "### Execute a SQL Query Text"
   ]
  },
  {
   "cell_type": "raw",
   "metadata": {},
   "source": [
    "query_text = \"\""
   ]
  },
  {
   "cell_type": "raw",
   "metadata": {
    "pycharm": {
     "name": "#%%\n"
    }
   },
   "source": [
    "bq = bqa.BQTPC(test=\"ds\",\n",
    "               scale=100,\n",
    "               cid=\"01A\",\n",
    "               desc=\"dev-debug-01\",\n",
    "               verbose=True,\n",
    "               verbose_query=False)\n",
    "\n",
    "query_result = bq.query_n(n=query_text)"
   ]
  },
  {
   "cell_type": "raw",
   "metadata": {},
   "source": [
    "query_result"
   ]
  },
  {
   "cell_type": "markdown",
   "metadata": {},
   "source": [
    "### Execute a Single Query"
   ]
  },
  {
   "cell_type": "code",
   "execution_count": null,
   "metadata": {},
   "outputs": [],
   "source": [
    "query_n = "
   ]
  },
  {
   "cell_type": "code",
   "execution_count": null,
   "metadata": {
    "pycharm": {
     "name": "#%%\n"
    }
   },
   "outputs": [],
   "source": [
    "bq = bqa.BQTPC(test=\"ds\",\n",
    "               scale=100,\n",
    "               cid=\"01A\",\n",
    "               desc=\"dev-debug-01\",\n",
    "               verbose=True,\n",
    "               verbose_query=False)\n",
    "\n",
    "t0, t1, df_result, query_text, qid = bq.query_n(n=query_n, std_out=False)"
   ]
  },
  {
   "cell_type": "code",
   "execution_count": null,
   "metadata": {},
   "outputs": [],
   "source": [
    "df_result"
   ]
  },
  {
   "cell_type": "markdown",
   "metadata": {},
   "source": [
    "### Execute a Query Stream"
   ]
  },
  {
   "cell_type": "raw",
   "metadata": {
    "pycharm": {
     "name": "#%%\n"
    }
   },
   "source": [
    "bq = bqa.BQTPC(test=\"ds\",\n",
    "               scale=100,\n",
    "               cid=\"01A\",\n",
    "               desc=\"dev-debug-01\",\n",
    "               verbose=True,\n",
    "               verbose_query=False)"
   ]
  },
  {
   "cell_type": "raw",
   "metadata": {},
   "source": [
    "# create the tpc query sequence for the stream\n",
    "seq = tools.tpc_stream(test=\"ds\", n=0)"
   ]
  },
  {
   "cell_type": "raw",
   "metadata": {},
   "source": [
    "%%time\n",
    "# run stream sequence\n",
    "df_query_time = bq.query_seq(seq=seq, seq_n=0, save=True, verbose_iter=True)"
   ]
  },
  {
   "cell_type": "raw",
   "metadata": {},
   "source": [
    "df_query_time"
   ]
  },
  {
   "cell_type": "code",
   "execution_count": null,
   "metadata": {},
   "outputs": [],
   "source": []
  }
 ],
 "metadata": {
  "kernelspec": {
   "display_name": "Python 3",
   "language": "python",
   "name": "python3"
  },
  "language_info": {
   "codemirror_mode": {
    "name": "ipython",
    "version": 3
   },
   "file_extension": ".py",
   "mimetype": "text/x-python",
   "name": "python",
   "nbconvert_exporter": "python",
   "pygments_lexer": "ipython3",
   "version": "3.7.7"
  }
 },
 "nbformat": 4,
 "nbformat_minor": 4
}
