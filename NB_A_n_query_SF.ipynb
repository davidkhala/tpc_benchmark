{
 "cells": [
  {
   "cell_type": "code",
   "execution_count": null,
   "metadata": {},
   "outputs": [],
   "source": [
    "import pandas as pd\n",
    "\n",
    "pd.options.display.max_rows = 999\n",
    "pd.options.display.max_columns = 999"
   ]
  },
  {
   "cell_type": "code",
   "execution_count": null,
   "metadata": {},
   "outputs": [],
   "source": [
    "import config, tools, poor_security, sfa"
   ]
  },
  {
   "cell_type": "markdown",
   "metadata": {},
   "source": [
    "### Execute a SQL Query Text"
   ]
  },
  {
   "cell_type": "raw",
   "metadata": {},
   "source": [
    "query_text = \"\""
   ]
  },
  {
   "cell_type": "raw",
   "metadata": {
    "pycharm": {
     "name": "#%%\n"
    }
   },
   "source": [
    "# just run query text\n",
    "sf = sfa.SFTPC(test=\"ds\",\n",
    "               scale=100,\n",
    "               cid=\"01A\",\n",
    "               warehouse=\"TEST9000\", \n",
    "               desc=\"dev-debug-01\",\n",
    "               verbose=True,\n",
    "               verbose_query=True)\n",
    "\n",
    "sf.connect()\n",
    "query_result = sf.sfc.query(query_text)\n",
    "sf.close()"
   ]
  },
  {
   "cell_type": "raw",
   "metadata": {},
   "source": [
    "query_result.fetch_all()"
   ]
  },
  {
   "cell_type": "markdown",
   "metadata": {},
   "source": [
    "### Execute a Single Query"
   ]
  },
  {
   "cell_type": "code",
   "execution_count": null,
   "metadata": {},
   "outputs": [],
   "source": [
    "query_n = "
   ]
  },
  {
   "cell_type": "code",
   "execution_count": null,
   "metadata": {
    "pycharm": {
     "name": "#%%\n"
    }
   },
   "outputs": [],
   "source": [
    "sf = sfa.SFTPC(test=\"ds\",\n",
    "               scale=100,\n",
    "               cid=\"01A\",\n",
    "               warehouse=\"TEST9000\",\n",
    "               desc=\"dev-debug-01\",\n",
    "               verbose=True,\n",
    "               verbose_query=True)\n",
    "\n",
    "sf.connect()\n",
    "t0, t1, df_result, query_text, qid = sf.query_n(n=query_n, std_out=True)\n",
    "sf.close()"
   ]
  },
  {
   "cell_type": "code",
   "execution_count": null,
   "metadata": {},
   "outputs": [],
   "source": [
    "df_result"
   ]
  },
  {
   "cell_type": "markdown",
   "metadata": {},
   "source": [
    "### Execute a Query Stream"
   ]
  },
  {
   "cell_type": "raw",
   "metadata": {
    "pycharm": {
     "name": "#%%\n"
    }
   },
   "source": [
    "sf = sfa.SFTPC(test=\"ds\",\n",
    "               scale=100,\n",
    "               cid=\"01A\",\n",
    "               warehouse=\"TEST9000\", \n",
    "               desc=\"dev-debug-01\",\n",
    "               verbose=True,\n",
    "               verbose_query=False)\n",
    "\n",
    "sf.connect()\n",
    "t0, t1, df_result, query_text, qid = sf.query_n(n=query_n, std_out=True)\n",
    "sf.close()"
   ]
  },
  {
   "cell_type": "raw",
   "metadata": {},
   "source": [
    "# create the tpc query sequence for the stream\n",
    "seq = tools.tpc_stream(test=\"ds\", n=0)"
   ]
  },
  {
   "cell_type": "raw",
   "metadata": {},
   "source": [
    "%%time\n",
    "# run stream sequence\n",
    "df_query_time = sf.query_seq(seq=seq, seq_n=0, save=True, verbose_iter=True)"
   ]
  },
  {
   "cell_type": "raw",
   "metadata": {},
   "source": [
    "df_query_time"
   ]
  },
  {
   "cell_type": "code",
   "execution_count": null,
   "metadata": {},
   "outputs": [],
   "source": []
  }
 ],
 "metadata": {
  "kernelspec": {
   "display_name": "Python 3",
   "language": "python",
   "name": "python3"
  },
  "language_info": {
   "codemirror_mode": {
    "name": "ipython",
    "version": 3
   },
   "file_extension": ".py",
   "mimetype": "text/x-python",
   "name": "python",
   "nbconvert_exporter": "python",
   "pygments_lexer": "ipython3",
   "version": "3.7.7"
  }
 },
 "nbformat": 4,
 "nbformat_minor": 4
}
