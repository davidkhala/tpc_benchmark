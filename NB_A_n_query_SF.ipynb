{
 "cells": [
  {
   "cell_type": "code",
   "execution_count": null,
   "metadata": {},
   "outputs": [],
   "source": [
    "import pandas as pd\n",
    "\n",
    "pd.options.display.max_rows = 999\n",
    "pd.options.display.max_columns = 999"
   ]
  },
  {
   "cell_type": "code",
   "execution_count": null,
   "metadata": {},
   "outputs": [],
   "source": [
    "import config, tools, poor_security, sf_tpc"
   ]
  },
  {
   "cell_type": "markdown",
   "metadata": {},
   "source": [
    "### Execute a SQL Query Text"
   ]
  },
  {
   "cell_type": "raw",
   "metadata": {},
   "source": [
    "query_text = \"\""
   ]
  },
  {
   "cell_type": "raw",
   "metadata": {
    "pycharm": {
     "name": "#%%\n"
    }
   },
   "source": [
    "# just run query text\n",
    "sf = sf_tpc.SFTPC(test=\"ds\",\n",
    "                  scale=100,\n",
    "                  cid=\"01A\",\n",
    "                  warehouse=\"TEST9000\", \n",
    "                  desc=\"dev-debug-01\",\n",
    "                  verbose=True,\n",
    "                  verbose_query=True)\n",
    "\n",
    "sf.connect()\n",
    "query_result = sf.sfc.query(query_text)\n",
    "sf.close()"
   ]
  },
  {
   "cell_type": "raw",
   "metadata": {},
   "source": [
    "query_result.fetch_all()"
   ]
  },
  {
   "cell_type": "markdown",
   "metadata": {},
   "source": [
    "### Execute a Single Query"
   ]
  },
  {
   "cell_type": "raw",
   "metadata": {},
   "source": [
    "query_n = "
   ]
  },
  {
   "cell_type": "raw",
   "metadata": {
    "pycharm": {
     "name": "#%%\n"
    }
   },
   "source": [
    "sf = sf_tpc.SFTPC(test=\"ds\",\n",
    "                  scale=100,\n",
    "                  cid=\"01A\",\n",
    "                  warehouse=\"TEST9000\",\n",
    "                  desc=\"dev-debug-01\",\n",
    "                  verbose=True,\n",
    "                  verbose_query=True)\n",
    "\n",
    "sf.connect()\n",
    "t0, t1, df_result, query_text, qid = sf.query_n(n=query_n, std_out=True)\n",
    "sf.close()"
   ]
  },
  {
   "cell_type": "raw",
   "metadata": {},
   "source": [
    "df_result"
   ]
  },
  {
   "cell_type": "markdown",
   "metadata": {},
   "source": [
    "### Execute a Query Stream"
   ]
  },
  {
   "cell_type": "code",
   "execution_count": null,
   "metadata": {
    "pycharm": {
     "name": "#%%\n"
    }
   },
   "outputs": [],
   "source": [
    "sf = sf_tpc.SFTPC(test=\"h\",\n",
    "                  scale=1,\n",
    "                  cid=\"01A\",\n",
    "                  warehouse=\"TEST9000_XSMALL\", \n",
    "                  desc=\"agg-test-05\",\n",
    "                  verbose=True,\n",
    "                  verbose_query=False)\n",
    "\n",
    "sf.connect()"
   ]
  },
  {
   "cell_type": "markdown",
   "metadata": {},
   "source": [
    "Confirm cache is set to OFF (== False)"
   ]
  },
  {
   "cell_type": "code",
   "execution_count": null,
   "metadata": {},
   "outputs": [],
   "source": [
    "sf.cache"
   ]
  },
  {
   "cell_type": "code",
   "execution_count": null,
   "metadata": {},
   "outputs": [],
   "source": [
    "# create the tpc query sequence for the stream\n",
    "seq = tools.tpc_stream(test=\"h\", n=1)"
   ]
  },
  {
   "cell_type": "code",
   "execution_count": null,
   "metadata": {},
   "outputs": [],
   "source": [
    "%%time\n",
    "# run stream sequence\n",
    "df_query_time = sf.query_seq(seq=seq, seq_n=0, save=True, verbose_iter=True)\n",
    "sf.close()"
   ]
  },
  {
   "cell_type": "raw",
   "metadata": {},
   "source": [
    "df_query_time"
   ]
  },
  {
   "cell_type": "code",
   "execution_count": null,
   "metadata": {},
   "outputs": [],
   "source": []
  }
 ],
 "metadata": {
  "kernelspec": {
   "display_name": "Python 3",
   "language": "python",
   "name": "python3"
  },
  "language_info": {
   "codemirror_mode": {
    "name": "ipython",
    "version": 3
   },
   "file_extension": ".py",
   "mimetype": "text/x-python",
   "name": "python",
   "nbconvert_exporter": "python",
   "pygments_lexer": "ipython3",
   "version": "3.8.2"
  }
 },
 "nbformat": 4,
 "nbformat_minor": 4
}
