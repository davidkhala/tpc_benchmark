{
 "cells": [
  {
   "cell_type": "markdown",
   "metadata": {},
   "source": [
    "# TPC-DS Pipeline  "
   ]
  },
  {
   "cell_type": "code",
   "execution_count": 1,
   "metadata": {},
   "outputs": [],
   "source": [
    "import tpcds_setup, tpcds_bq, gcp_storage, config"
   ]
  },
  {
   "cell_type": "code",
   "execution_count": 2,
   "metadata": {},
   "outputs": [],
   "source": [
    "from importlib import reload"
   ]
  },
  {
   "cell_type": "markdown",
   "metadata": {},
   "source": [
    "#### I. Make Project Files"
   ]
  },
  {
   "cell_type": "code",
   "execution_count": 3,
   "metadata": {},
   "outputs": [],
   "source": [
    "tpcds_setup.make_directories()"
   ]
  },
  {
   "cell_type": "markdown",
   "metadata": {},
   "source": [
    "#### II. Download TPC-DS Binaries from GCS  "
   ]
  },
  {
   "cell_type": "code",
   "execution_count": 4,
   "metadata": {},
   "outputs": [
    {
     "name": "stdout",
     "output_type": "stream",
     "text": [
      "Client created using default project: sada-colin-dietrich\n"
     ]
    },
    {
     "data": {
      "text/plain": [
       "'/home/colin/code/bq_snowflake_benchmark/download/tpc-ds_v2.11.0rc2.zip'"
      ]
     },
     "execution_count": 4,
     "metadata": {},
     "output_type": "execute_result"
    }
   ],
   "source": [
    "tpcds_setup.download_zip()"
   ]
  },
  {
   "cell_type": "markdown",
   "metadata": {},
   "source": [
    "#### III. Unzip and Rename Source Files"
   ]
  },
  {
   "cell_type": "code",
   "execution_count": 5,
   "metadata": {},
   "outputs": [],
   "source": [
    "#fp_zip = config.fp_download + config.sep + \"tpc-ds_v2.11.0rc2.zip\"\n",
    "tpcds_setup.extract_tpcds_zip(zip_filepath=config.fp_ds_zip,\n",
    "                              version=config.fp_ds_src_version)"
   ]
  },
  {
   "cell_type": "markdown",
   "metadata": {},
   "source": [
    "#### IV. Make tpcds"
   ]
  },
  {
   "cell_type": "code",
   "execution_count": 6,
   "metadata": {},
   "outputs": [],
   "source": [
    "tpcds_setup.make_tpcds()"
   ]
  },
  {
   "cell_type": "markdown",
   "metadata": {},
   "source": [
    "#### V. Generate the table schema for BigQuery"
   ]
  },
  {
   "cell_type": "code",
   "execution_count": 7,
   "metadata": {},
   "outputs": [],
   "source": [
    "tpcds_bq.schema(filepath_in=config.tpcds_schema_ansi_sql_filepath, \n",
    "                filepath_out=config.tpcds_schema_bq_filepath, \n",
    "                dataset_name=config.gcp_dataset)"
   ]
  },
  {
   "cell_type": "code",
   "execution_count": 8,
   "metadata": {},
   "outputs": [],
   "source": [
    "tpcds_setup.dsdgen_bash_scripts()"
   ]
  },
  {
   "cell_type": "code",
   "execution_count": 9,
   "metadata": {},
   "outputs": [],
   "source": [
    "tpcds_setup.dsdgen_move_bash_scripts()"
   ]
  },
  {
   "cell_type": "markdown",
   "metadata": {},
   "source": [
    "#### VI. Generate Data  "
   ]
  },
  {
   "cell_type": "markdown",
   "metadata": {},
   "source": [
    "From the command line, execute appropriate script for CPU size and desired data size.\n",
    "\n",
    "Note that the config.fp_ds_output, config.fp_ds_output_mnt will dictate where the data is stored.  \n",
    "\n",
    "config.fp_ds_output = store within the source code directory, and thus on the local disk.  \n",
    "config.fp_ds_output_mnt = store another disk, either additional disk, Google Compute Engine persistent disk or FUSE mounted Google Cloud Storage.\n"
   ]
  },
  {
   "cell_type": "markdown",
   "metadata": {},
   "source": [
    "#### VII. Create BQ Table Schema  "
   ]
  },
  {
   "cell_type": "code",
   "execution_count": 10,
   "metadata": {},
   "outputs": [
    {
     "data": {
      "text/plain": [
       "Dataset(DatasetReference('sada-colin-dietrich', 'gcprabbit'))"
      ]
     },
     "execution_count": 10,
     "metadata": {},
     "output_type": "execute_result"
    }
   ],
   "source": [
    "tpcds_bq.create_dataset()"
   ]
  },
  {
   "cell_type": "code",
   "execution_count": 11,
   "metadata": {},
   "outputs": [],
   "source": [
    "tpcds_bq.create_schema()"
   ]
  },
  {
   "cell_type": "raw",
   "metadata": {},
   "source": [
    "from google.cloud import bigquery"
   ]
  },
  {
   "cell_type": "raw",
   "metadata": {},
   "source": [
    "client = bigquery.Client.from_service_account_json(config.gcp_cred_file)"
   ]
  },
  {
   "cell_type": "raw",
   "metadata": {},
   "source": [
    "with open(config.tpcds_schema_bq_filepath, 'r') as f:\n",
    "    query_txt = f.read()"
   ]
  },
  {
   "cell_type": "raw",
   "metadata": {},
   "source": [
    "print(query_txt)"
   ]
  },
  {
   "cell_type": "raw",
   "metadata": {},
   "source": [
    "query_job = client.query(query_txt)  # API request\n",
    "rows = query_job.result()  # Waits for query to finish\n",
    "for r in rows:\n",
    "    print(r.name)"
   ]
  },
  {
   "cell_type": "markdown",
   "metadata": {},
   "source": [
    "#### VIII. Upload Data Files to Cloud Storage"
   ]
  },
  {
   "cell_type": "code",
   "execution_count": 12,
   "metadata": {},
   "outputs": [
    {
     "data": {
      "text/plain": [
       "'/home/colin/code/bq_snowflake_benchmark/ds/output/1GB/**.dat'"
      ]
     },
     "execution_count": 12,
     "metadata": {},
     "output_type": "execute_result"
    }
   ],
   "source": [
    "folder = config.fp_ds_output + config.sep + \"1GB\" + config.sep + \"**.dat\"\n",
    "folder"
   ]
  },
  {
   "cell_type": "code",
   "execution_count": 13,
   "metadata": {},
   "outputs": [
    {
     "name": "stdout",
     "output_type": "stream",
     "text": [
      "Uploading customer_address_1_8.dat @ 5.451571 MB\n",
      "...done!\n",
      "Uploading web_page_1_8.dat @ 0.005657 MB\n",
      "...done!\n",
      "Uploading web_returns_1_8.dat @ 9.793638 MB\n",
      "...done!\n",
      "Skipping inventory_6_8.dat @ 28.084882 MB\n",
      "Skipping web_sales_1_8.dat @ 146.197191 MB\n",
      "Uploading household_demographics_1_8.dat @ 0.144453 MB\n",
      "...done!\n",
      "Uploading catalog_page_1_8.dat @ 1.619498 MB\n",
      "...done!\n",
      "Uploading customer_demographics_3_8.dat @ 9.73973 MB\n",
      "...done!\n",
      "Uploading customer_demographics_8_8.dat @ 9.98347 MB\n",
      "...done!\n",
      "Uploading customer_demographics_5_8.dat @ 9.940931 MB\n",
      "...done!\n",
      "Skipping catalog_sales_1_8.dat @ 294.323762 MB\n",
      "Skipping catalog_returns_1_8.dat @ 21.191034 MB\n",
      "Uploading ship_mode_1_8.dat @ 0.001062 MB\n",
      "...done!\n",
      "Uploading customer_1_8.dat @ 13.104567 MB\n",
      "...done!\n",
      "Skipping store_sales_1_8.dat @ 385.804932 MB\n",
      "Uploading promotion_1_8.dat @ 0.036812 MB\n",
      "...done!\n",
      "Uploading call_center_1_8.dat @ 0.001828 MB\n",
      "...done!\n",
      "Skipping inventory_8_8.dat @ 28.084647 MB\n",
      "Uploading income_band_1_8.dat @ 0.000308 MB\n",
      "...done!\n",
      "Skipping inventory_2_8.dat @ 28.082457 MB\n",
      "Skipping inventory_7_8.dat @ 28.085547 MB\n",
      "Uploading item_1_8.dat @ 5.029381 MB\n",
      "...done!\n",
      "Uploading store_1_8.dat @ 0.003009 MB\n",
      "...done!\n",
      "Skipping inventory_3_8.dat @ 28.08344 MB\n",
      "Uploading customer_demographics_2_8.dat @ 9.74127 MB\n",
      "...done!\n",
      "Uploading customer_demographics_7_8.dat @ 9.98333 MB\n",
      "...done!\n",
      "Uploading customer_demographics_6_8.dat @ 9.98067 MB\n",
      "...done!\n",
      "Uploading dbgen_version_1_8.dat @ 0.000155 MB\n",
      "...done!\n",
      "Skipping inventory_1_8.dat @ 28.082651 MB\n",
      "Uploading reason_1_8.dat @ 0.001304 MB\n",
      "...done!\n",
      "Uploading customer_demographics_1_8.dat @ 9.630025 MB\n",
      "...done!\n",
      "Skipping inventory_5_8.dat @ 28.084024 MB\n",
      "Uploading web_site_1_8.dat @ 0.008467 MB\n",
      "...done!\n",
      "Uploading date_dim_1_8.dat @ 10.244389 MB\n",
      "...done!\n",
      "Skipping inventory_4_8.dat @ 28.082546 MB\n",
      "Uploading customer_demographics_4_8.dat @ 9.73987 MB\n",
      "...done!\n",
      "Skipping store_returns_1_8.dat @ 32.595949 MB\n",
      "Uploading warehouse_1_8.dat @ 0.000584 MB\n",
      "...done!\n",
      "Uploading time_dim_1_8.dat @ 5.02138 MB\n",
      "...done!\n"
     ]
    }
   ],
   "source": [
    "inventory_list = tpcds_setup.upload_tpc_data(folder=folder,\n",
    "                                 bucket_name=config.gcs_1gb,\n",
    "                                 limit=20,\n",
    "                                 verbose=True)"
   ]
  },
  {
   "cell_type": "code",
   "execution_count": null,
   "metadata": {},
   "outputs": [],
   "source": []
  }
 ],
 "metadata": {
  "kernelspec": {
   "display_name": "Python 3",
   "language": "python",
   "name": "python3"
  },
  "language_info": {
   "codemirror_mode": {
    "name": "ipython",
    "version": 3
   },
   "file_extension": ".py",
   "mimetype": "text/x-python",
   "name": "python",
   "nbconvert_exporter": "python",
   "pygments_lexer": "ipython3",
   "version": "3.6.10"
  }
 },
 "nbformat": 4,
 "nbformat_minor": 4
}
