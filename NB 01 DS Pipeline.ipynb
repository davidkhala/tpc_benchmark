{
 "cells": [
  {
   "cell_type": "markdown",
   "metadata": {},
   "source": [
    "# TPC-DS Pipeline  "
   ]
  },
  {
   "cell_type": "code",
   "execution_count": 1,
   "metadata": {},
   "outputs": [],
   "source": [
    "import tpcds_setup, tpcds_bq, gcp_storage, config"
   ]
  },
  {
   "cell_type": "code",
   "execution_count": 2,
   "metadata": {},
   "outputs": [],
   "source": [
    "from importlib import reload"
   ]
  },
  {
   "cell_type": "markdown",
   "metadata": {},
   "source": [
    "#### I. Make Project Files"
   ]
  },
  {
   "cell_type": "code",
   "execution_count": 3,
   "metadata": {},
   "outputs": [],
   "source": [
    "import os"
   ]
  },
  {
   "cell_type": "code",
   "execution_count": 4,
   "metadata": {},
   "outputs": [],
   "source": [
    "tpcds_setup.make_directories()"
   ]
  },
  {
   "cell_type": "markdown",
   "metadata": {},
   "source": [
    "#### II. Download TPC-DS Binaries from GCS  "
   ]
  },
  {
   "cell_type": "code",
   "execution_count": 5,
   "metadata": {},
   "outputs": [
    {
     "name": "stdout",
     "output_type": "stream",
     "text": [
      "Client created using default project: sada-colin-dietrich\n"
     ]
    },
    {
     "data": {
      "text/plain": [
       "'/home/colin/code/bq_snowflake_benchmark/download/tpc-ds_v2.11.0rc2.zip'"
      ]
     },
     "execution_count": 5,
     "metadata": {},
     "output_type": "execute_result"
    }
   ],
   "source": [
    "tpcds_setup.download_zip()"
   ]
  },
  {
   "cell_type": "markdown",
   "metadata": {},
   "source": [
    "#### III. Unzip and Rename Source Files"
   ]
  },
  {
   "cell_type": "code",
   "execution_count": 6,
   "metadata": {},
   "outputs": [],
   "source": [
    "#fp_zip = config.fp_download + config.sep + \"tpc-ds_v2.11.0rc2.zip\"\n",
    "tpcds_setup.extract_tpcds_zip(zip_filepath=config.fp_ds_zip,\n",
    "                              version=config.fp_ds_src_version)"
   ]
  },
  {
   "cell_type": "markdown",
   "metadata": {},
   "source": [
    "#### IV. Make tpcds"
   ]
  },
  {
   "cell_type": "code",
   "execution_count": 7,
   "metadata": {},
   "outputs": [],
   "source": [
    "tpcds_setup.make_tpcds()"
   ]
  },
  {
   "cell_type": "markdown",
   "metadata": {},
   "source": [
    "#### V. Rewrite the ANSI SQL table schema for BigQuery"
   ]
  },
  {
   "cell_type": "code",
   "execution_count": 8,
   "metadata": {},
   "outputs": [],
   "source": [
    "tpcds_bq.rewrite_schema(filepath_in=config.tpcds_schema_ansi_sql_filepath, \n",
    "                        filepath_out=config.tpcds_schema_bq_filepath, \n",
    "                        dataset_name=config.gcp_dataset)"
   ]
  },
  {
   "cell_type": "raw",
   "metadata": {},
   "source": [
    "tpcds_setup.dsdgen_bash_scripts()"
   ]
  },
  {
   "cell_type": "raw",
   "metadata": {},
   "source": [
    "tpcds_setup.dsdgen_move_bash_scripts()"
   ]
  },
  {
   "cell_type": "markdown",
   "metadata": {},
   "source": [
    "#### VI. Generate Data  "
   ]
  },
  {
   "cell_type": "markdown",
   "metadata": {},
   "source": [
    "From the command line, execute appropriate script for CPU size and desired data size.\n",
    "\n",
    "Note that the config.fp_ds_output, config.fp_ds_output_mnt will dictate where the data is stored.  \n",
    "\n",
    "config.fp_ds_output = store within the source code directory, and thus on the local disk.  \n",
    "config.fp_ds_output_mnt = store another disk, either additional disk, Google Compute Engine persistent disk or FUSE mounted Google Cloud Storage.\n"
   ]
  },
  {
   "cell_type": "code",
   "execution_count": 9,
   "metadata": {},
   "outputs": [
    {
     "name": "stdout",
     "output_type": "stream",
     "text": [
      "dsdgen Population Generator (Version 2.11.0)\n",
      "Copyright Transaction Processing Performance Council (TPC) 2001 - 2019\n",
      "Warning: This scale factor is valid for QUALIFICATION ONLY\n",
      "\n",
      "dsdgen Population Generator (Version 2.11.0)\n",
      "Copyright Transaction Processing Performance Council (TPC) 2001 - 2019\n",
      "Warning: This scale factor is valid for QUALIFICATION ONLY\n",
      "\n",
      "dsdgen Population Generator (Version 2.11.0)\n",
      "Copyright Transaction Processing Performance Council (TPC) 2001 - 2019\n",
      "Warning: This scale factor is valid for QUALIFICATION ONLY\n",
      "\n",
      "dsdgen Population Generator (Version 2.11.0)\n",
      "Copyright Transaction Processing Performance Council (TPC) 2001 - 2019\n",
      "Warning: This scale factor is valid for QUALIFICATION ONLY\n",
      "\n",
      "dsdgen Population Generator (Version 2.11.0)\n",
      "Copyright Transaction Processing Performance Council (TPC) 2001 - 2019\n",
      "Warning: This scale factor is valid for QUALIFICATION ONLY\n",
      "\n",
      "dsdgen Population Generator (Version 2.11.0)\n",
      "Copyright Transaction Processing Performance Council (TPC) 2001 - 2019\n",
      "Warning: This scale factor is valid for QUALIFICATION ONLY\n",
      "\n",
      "dsdgen Population Generator (Version 2.11.0)\n",
      "Copyright Transaction Processing Performance Council (TPC) 2001 - 2019\n",
      "Warning: This scale factor is valid for QUALIFICATION ONLY\n",
      "\n",
      "dsdgen Population Generator (Version 2.11.0)\n",
      "Copyright Transaction Processing Performance Council (TPC) 2001 - 2019\n",
      "Warning: This scale factor is valid for QUALIFICATION ONLY\n",
      "\n",
      "dsdgen Population Generator (Version 2.11.0)\n",
      "Copyright Transaction Processing Performance Council (TPC) 2001 - 2019\n",
      "Warning: This scale factor is valid for QUALIFICATION ONLY\n",
      "\n",
      "dsdgen Population Generator (Version 2.11.0)\n",
      "Copyright Transaction Processing Performance Council (TPC) 2001 - 2019\n",
      "Warning: This scale factor is valid for QUALIFICATION ONLY\n",
      "\n",
      "dsdgen Population Generator (Version 2.11.0)\n",
      "Copyright Transaction Processing Performance Council (TPC) 2001 - 2019\n",
      "Warning: This scale factor is valid for QUALIFICATION ONLY\n",
      "\n",
      "dsdgen Population Generator (Version 2.11.0)\n",
      "Copyright Transaction Processing Performance Council (TPC) 2001 - 2019\n",
      "Warning: This scale factor is valid for QUALIFICATION ONLY\n",
      "\n"
     ]
    }
   ],
   "source": [
    "tpcds_setup.run_dsdgen(cpu=config.cpu_count,\n",
    "                       scale=1)"
   ]
  },
  {
   "cell_type": "markdown",
   "metadata": {},
   "source": [
    "#### VII. Create BQ Table Schema  "
   ]
  },
  {
   "cell_type": "code",
   "execution_count": 10,
   "metadata": {},
   "outputs": [
    {
     "data": {
      "text/plain": [
       "Dataset(DatasetReference('sada-colin-dietrich', 'gcprabbit'))"
      ]
     },
     "execution_count": 10,
     "metadata": {},
     "output_type": "execute_result"
    }
   ],
   "source": [
    "tpcds_bq.create_dataset()"
   ]
  },
  {
   "cell_type": "code",
   "execution_count": 11,
   "metadata": {},
   "outputs": [],
   "source": [
    "tpcds_bq.create_schema()"
   ]
  },
  {
   "cell_type": "markdown",
   "metadata": {},
   "source": [
    "#### VIII. Upload Data Files to BigQuery"
   ]
  },
  {
   "cell_type": "code",
   "execution_count": 12,
   "metadata": {},
   "outputs": [
    {
     "data": {
      "text/plain": [
       "'/home/colin/code/bq_snowflake_benchmark/ds/output/1GB'"
      ]
     },
     "execution_count": 12,
     "metadata": {},
     "output_type": "execute_result"
    }
   ],
   "source": [
    "folder = config.fp_ds_data_out + config.sep + \"1GB\"\n",
    "folder"
   ]
  },
  {
   "cell_type": "code",
   "execution_count": 13,
   "metadata": {},
   "outputs": [
    {
     "name": "stdout",
     "output_type": "stream",
     "text": [
      "Starting Upload...\n",
      "From: /home/colin/code/bq_snowflake_benchmark/ds/output/1GB/customer_demographics_8_12.dat\n",
      "To: sada-colin-dietrich.gcprabbit.customer_demographics\n",
      "Job Started: bffe8f2d-91d8-4fa7-bbd9-e03f35881321\n",
      "Job finished: True\n",
      "Starting Upload...\n",
      "From: /home/colin/code/bq_snowflake_benchmark/ds/output/1GB/customer_1_12.dat\n",
      "To: sada-colin-dietrich.gcprabbit.customer\n",
      "Job Started: 73d05f16-38a2-4963-8d94-ba234a6ac581\n",
      "Job finished: True\n",
      "Starting Upload...\n",
      "From: /home/colin/code/bq_snowflake_benchmark/ds/output/1GB/inventory_4_12.dat\n",
      "To: sada-colin-dietrich.gcprabbit.inventory\n",
      "Job Started: 0fe44d82-3a74-483e-b578-b171be2a481e\n",
      "Job finished: True\n",
      "Starting Upload...\n",
      "From: /home/colin/code/bq_snowflake_benchmark/ds/output/1GB/customer_demographics_5_12.dat\n",
      "To: sada-colin-dietrich.gcprabbit.customer_demographics\n",
      "Job Started: edd193c0-d34a-4356-aa44-53e73dcba205\n",
      "Job finished: True\n",
      "Starting Upload...\n",
      "From: /home/colin/code/bq_snowflake_benchmark/ds/output/1GB/web_site_1_12.dat\n",
      "To: sada-colin-dietrich.gcprabbit.web_site\n",
      "Job Started: af013e9e-374e-4b0e-bb73-444320ce187f\n",
      "Job finished: True\n",
      "Starting Upload...\n",
      "From: /home/colin/code/bq_snowflake_benchmark/ds/output/1GB/inventory_8_12.dat\n",
      "To: sada-colin-dietrich.gcprabbit.inventory\n",
      "Job Started: a7b6a8d7-22d7-4aa7-b033-09a2d02537cb\n",
      "Job finished: True\n",
      "Starting Upload...\n",
      "From: /home/colin/code/bq_snowflake_benchmark/ds/output/1GB/inventory_5_12.dat\n",
      "To: sada-colin-dietrich.gcprabbit.inventory\n",
      "Job Started: c2f30a83-524b-4f8e-883a-d3b846756fff\n",
      "Job finished: True\n",
      "Starting Upload...\n",
      "From: /home/colin/code/bq_snowflake_benchmark/ds/output/1GB/promotion_1_12.dat\n",
      "To: sada-colin-dietrich.gcprabbit.promotion\n",
      "Job Started: 6b79002e-adec-4b05-9d1c-d06cb2c0b528\n",
      "Job finished: True\n",
      "Starting Upload...\n",
      "From: /home/colin/code/bq_snowflake_benchmark/ds/output/1GB/customer_demographics_10_12.dat\n",
      "To: sada-colin-dietrich.gcprabbit.customer_demographics\n",
      "Job Started: 380bf63e-b10a-451e-bbb9-6bdc3ff01533\n",
      "Job finished: True\n",
      "Starting Upload...\n",
      "From: /home/colin/code/bq_snowflake_benchmark/ds/output/1GB/web_returns_1_12.dat\n",
      "To: sada-colin-dietrich.gcprabbit.web_returns\n",
      "Job Started: 8f32023b-73c5-4672-8013-73cb8b1ae4c9\n",
      "Job finished: True\n",
      "Starting Upload...\n",
      "From: /home/colin/code/bq_snowflake_benchmark/ds/output/1GB/web_page_1_12.dat\n",
      "To: sada-colin-dietrich.gcprabbit.web_page\n",
      "Job Started: 7d97ddba-d090-480c-bf8a-3269831da0af\n",
      "Job finished: True\n",
      "Starting Upload...\n",
      "From: /home/colin/code/bq_snowflake_benchmark/ds/output/1GB/inventory_11_12.dat\n",
      "To: sada-colin-dietrich.gcprabbit.inventory\n",
      "Job Started: 3693e56f-a561-4d6b-92cc-b98c3671bca2\n",
      "Job finished: True\n",
      "Starting Upload...\n",
      "From: /home/colin/code/bq_snowflake_benchmark/ds/output/1GB/catalog_page_1_12.dat\n",
      "To: sada-colin-dietrich.gcprabbit.catalog_page\n",
      "Job Started: d7663647-0735-4cf8-b0b8-49d890226e28\n",
      "Job finished: True\n",
      "Starting Upload...\n",
      "From: /home/colin/code/bq_snowflake_benchmark/ds/output/1GB/inventory_10_12.dat\n",
      "To: sada-colin-dietrich.gcprabbit.inventory\n",
      "Job Started: 20727a99-0901-41cc-8767-33f6d14ae023\n",
      "Job finished: True\n",
      "Starting Upload...\n",
      "From: /home/colin/code/bq_snowflake_benchmark/ds/output/1GB/customer_demographics_6_12.dat\n",
      "To: sada-colin-dietrich.gcprabbit.customer_demographics\n",
      "Job Started: f631ab83-1a07-432e-bec2-aaa8d6ec976f\n",
      "Job finished: True\n",
      "Starting Upload...\n",
      "From: /home/colin/code/bq_snowflake_benchmark/ds/output/1GB/call_center_1_12.dat\n",
      "To: sada-colin-dietrich.gcprabbit.call_center\n",
      "Job Started: 031d9726-d142-4eb7-85c2-3eb51d348c41\n",
      "Job finished: True\n",
      "Starting Upload...\n",
      "From: /home/colin/code/bq_snowflake_benchmark/ds/output/1GB/customer_address_1_12.dat\n",
      "To: sada-colin-dietrich.gcprabbit.customer_address\n",
      "Job Started: 769c059d-5419-4f0e-8f9c-90866f106d19\n",
      "Job finished: True\n",
      "Starting Upload...\n",
      "From: /home/colin/code/bq_snowflake_benchmark/ds/output/1GB/customer_demographics_9_12.dat\n",
      "To: sada-colin-dietrich.gcprabbit.customer_demographics\n",
      "Job Started: 85d5ffbf-1df0-4ff6-8967-e0adb9cfbfb1\n",
      "Job finished: True\n",
      "Starting Upload...\n",
      "From: /home/colin/code/bq_snowflake_benchmark/ds/output/1GB/inventory_1_12.dat\n",
      "To: sada-colin-dietrich.gcprabbit.inventory\n",
      "Job Started: 8a3b3acb-4ba5-4791-9d4c-aa8bb183c7a5\n",
      "Job finished: True\n",
      "Starting Upload...\n",
      "From: /home/colin/code/bq_snowflake_benchmark/ds/output/1GB/inventory_9_12.dat\n",
      "To: sada-colin-dietrich.gcprabbit.inventory\n",
      "Job Started: 12f900b7-3a4b-42b7-b214-786ce1d2d7f7\n",
      "Job finished: True\n",
      "Starting Upload...\n",
      "From: /home/colin/code/bq_snowflake_benchmark/ds/output/1GB/inventory_2_12.dat\n",
      "To: sada-colin-dietrich.gcprabbit.inventory\n",
      "Job Started: d3b18aeb-73b7-41e6-80b8-6401ef26acf3\n",
      "Job finished: True\n",
      "Starting Upload...\n",
      "From: /home/colin/code/bq_snowflake_benchmark/ds/output/1GB/ship_mode_1_12.dat\n",
      "To: sada-colin-dietrich.gcprabbit.ship_mode\n",
      "Job Started: 62194c67-233d-4705-a2bd-49b76269dbe3\n",
      "Job finished: True\n",
      "Starting Upload...\n",
      "From: /home/colin/code/bq_snowflake_benchmark/ds/output/1GB/customer_demographics_2_12.dat\n",
      "To: sada-colin-dietrich.gcprabbit.customer_demographics\n",
      "Job Started: 453094e5-b4ef-4ef5-ab82-6483852e1548\n",
      "Job finished: True\n",
      "Starting Upload...\n",
      "From: /home/colin/code/bq_snowflake_benchmark/ds/output/1GB/customer_demographics_11_12.dat\n",
      "To: sada-colin-dietrich.gcprabbit.customer_demographics\n",
      "Job Started: faddb2be-661e-4bd8-ad5e-5e3b4d13922c\n",
      "Job finished: True\n",
      "Starting Upload...\n",
      "From: /home/colin/code/bq_snowflake_benchmark/ds/output/1GB/inventory_7_12.dat\n",
      "To: sada-colin-dietrich.gcprabbit.inventory\n",
      "Job Started: add4c999-f363-4fe1-8f83-bbac0077fd06\n",
      "Job finished: True\n",
      "Starting Upload...\n",
      "From: /home/colin/code/bq_snowflake_benchmark/ds/output/1GB/reason_1_12.dat\n",
      "To: sada-colin-dietrich.gcprabbit.reason\n",
      "Job Started: 5f078d73-11cb-471b-bbd1-61583e776676\n",
      "Job finished: True\n",
      "Starting Upload...\n",
      "From: /home/colin/code/bq_snowflake_benchmark/ds/output/1GB/catalog_returns_1_12.dat\n",
      "To: sada-colin-dietrich.gcprabbit.catalog_returns\n",
      "Job Started: 7d932ff2-52a6-4f64-bd3c-dddc4bc9d436\n",
      "Job finished: True\n",
      "Starting Upload...\n",
      "From: /home/colin/code/bq_snowflake_benchmark/ds/output/1GB/customer_demographics_4_12.dat\n",
      "To: sada-colin-dietrich.gcprabbit.customer_demographics\n",
      "Job Started: 34ecd5c7-ef17-4340-b024-864924e4f748\n",
      "Job finished: True\n",
      "Starting Upload...\n",
      "From: /home/colin/code/bq_snowflake_benchmark/ds/output/1GB/inventory_3_12.dat\n",
      "To: sada-colin-dietrich.gcprabbit.inventory\n",
      "Job Started: 8656852a-2a75-4010-a643-3eb60e29e203\n",
      "Job finished: True\n",
      "Starting Upload...\n",
      "From: /home/colin/code/bq_snowflake_benchmark/ds/output/1GB/item_1_12.dat\n",
      "To: sada-colin-dietrich.gcprabbit.item\n",
      "Job Started: 38e1a36b-6e35-4507-8047-e6ac371dd537\n",
      "Job finished: True\n",
      "Starting Upload...\n",
      "From: /home/colin/code/bq_snowflake_benchmark/ds/output/1GB/store_1_12.dat\n",
      "To: sada-colin-dietrich.gcprabbit.store\n",
      "Job Started: b1b2125e-72f4-42d9-875d-fc8f9463dd4e\n",
      "Job finished: True\n",
      "Starting Upload...\n",
      "From: /home/colin/code/bq_snowflake_benchmark/ds/output/1GB/customer_demographics_7_12.dat\n",
      "To: sada-colin-dietrich.gcprabbit.customer_demographics\n",
      "Job Started: 1b125822-9bed-40c1-8d72-fd6eb4264f7e\n",
      "Job finished: True\n",
      "Starting Upload...\n",
      "From: /home/colin/code/bq_snowflake_benchmark/ds/output/1GB/income_band_1_12.dat\n",
      "To: sada-colin-dietrich.gcprabbit.income_band\n",
      "Job Started: bed1c003-5a2d-4e51-9525-d8fc396d66b4\n",
      "Job finished: True\n",
      "Starting Upload...\n",
      "From: /home/colin/code/bq_snowflake_benchmark/ds/output/1GB/catalog_sales_1_12.dat\n",
      "To: sada-colin-dietrich.gcprabbit.catalog_sales\n",
      "Job Started: d5c1fc52-bc0f-484c-85a2-8471c81ae8fb\n",
      "Job finished: True\n",
      "Starting Upload...\n",
      "From: /home/colin/code/bq_snowflake_benchmark/ds/output/1GB/inventory_6_12.dat\n",
      "To: sada-colin-dietrich.gcprabbit.inventory\n",
      "Job Started: edd23bbd-2a32-4896-9f98-ff34a9085ff0\n",
      "Job finished: True\n",
      "Starting Upload...\n",
      "From: /home/colin/code/bq_snowflake_benchmark/ds/output/1GB/customer_demographics_12_12.dat\n",
      "To: sada-colin-dietrich.gcprabbit.customer_demographics\n",
      "Job Started: 355c3bee-8a82-4a9e-b1bd-cfd750848a2b\n",
      "Job finished: True\n",
      "Starting Upload...\n",
      "From: /home/colin/code/bq_snowflake_benchmark/ds/output/1GB/date_dim_1_12.dat\n",
      "To: sada-colin-dietrich.gcprabbit.date_dim\n",
      "Job Started: ae875a88-374c-4149-b0a4-12746e66f75f\n",
      "Job finished: True\n",
      "Starting Upload...\n",
      "From: /home/colin/code/bq_snowflake_benchmark/ds/output/1GB/web_sales_1_12.dat\n",
      "To: sada-colin-dietrich.gcprabbit.web_sales\n",
      "Job Started: d2888abd-40c6-4a57-a6d3-ba61500a25b8\n",
      "Job finished: True\n",
      "Starting Upload...\n",
      "From: /home/colin/code/bq_snowflake_benchmark/ds/output/1GB/customer_demographics_1_12.dat\n",
      "To: sada-colin-dietrich.gcprabbit.customer_demographics\n",
      "Job Started: 665d160c-cf59-4206-bcfb-4ccd0356f7d4\n",
      "Job finished: True\n",
      "Starting Upload...\n",
      "From: /home/colin/code/bq_snowflake_benchmark/ds/output/1GB/warehouse_1_12.dat\n",
      "To: sada-colin-dietrich.gcprabbit.warehouse\n",
      "Job Started: c464f4ce-6db6-4c26-aec9-c11b70ff966c\n",
      "Job finished: True\n",
      "Starting Upload...\n",
      "From: /home/colin/code/bq_snowflake_benchmark/ds/output/1GB/household_demographics_1_12.dat\n",
      "To: sada-colin-dietrich.gcprabbit.household_demographics\n",
      "Job Started: 88ffaae3-f982-4382-a59e-b3a9b81c0aa3\n",
      "Job finished: True\n",
      "Starting Upload...\n",
      "From: /home/colin/code/bq_snowflake_benchmark/ds/output/1GB/customer_demographics_3_12.dat\n",
      "To: sada-colin-dietrich.gcprabbit.customer_demographics\n",
      "Job Started: a74d8083-9dff-410f-82e7-ae4715be15bb\n",
      "Job finished: True\n",
      "Starting Upload...\n",
      "From: /home/colin/code/bq_snowflake_benchmark/ds/output/1GB/inventory_12_12.dat\n",
      "To: sada-colin-dietrich.gcprabbit.inventory\n",
      "Job Started: fd33d822-3069-4286-97bb-9a88aead74d1\n",
      "Job finished: True\n",
      "Starting Upload...\n",
      "From: /home/colin/code/bq_snowflake_benchmark/ds/output/1GB/store_sales_1_12.dat\n",
      "To: sada-colin-dietrich.gcprabbit.store_sales\n",
      "Job Started: 5438d58e-91f3-4ee7-98be-5a8896c35d98\n",
      "Job finished: True\n",
      "Starting Upload...\n",
      "From: /home/colin/code/bq_snowflake_benchmark/ds/output/1GB/time_dim_1_12.dat\n",
      "To: sada-colin-dietrich.gcprabbit.time_dim\n",
      "Job Started: 11a0fe91-37ce-4ac2-b9e4-49a4987c10e2\n",
      "Job finished: True\n",
      "Starting Upload...\n",
      "From: /home/colin/code/bq_snowflake_benchmark/ds/output/1GB/store_returns_1_12.dat\n",
      "To: sada-colin-dietrich.gcprabbit.store_returns\n",
      "Job Started: 49674c49-5197-4e1a-9aba-a373a7e5ce4e\n",
      "Job finished: True\n"
     ]
    },
    {
     "ename": "NameError",
     "evalue": "name 'tpcds_bq' is not defined",
     "output_type": "error",
     "traceback": [
      "\u001b[0;31m---------------------------------------------------------------------------\u001b[0m",
      "\u001b[0;31mNameError\u001b[0m                                 Traceback (most recent call last)",
      "\u001b[0;32m<ipython-input-13-cd3072c344bf>\u001b[0m in \u001b[0;36m<module>\u001b[0;34m\u001b[0m\n\u001b[1;32m      1\u001b[0m df = tpcds_bq.upload_all_local(directory=folder,\n\u001b[0;32m----> 2\u001b[0;31m                                dataset=config.gcp_dataset, verbose=True)\n\u001b[0m",
      "\u001b[0;32m~/code/bq_snowflake_benchmark/tpcds_bq.py\u001b[0m in \u001b[0;36mupload_all_local\u001b[0;34m(directory, dataset, validate, verbose)\u001b[0m\n\u001b[1;32m    222\u001b[0m         \u001b[0mload_job\u001b[0m \u001b[0;34m=\u001b[0m \u001b[0mb\u001b[0m\u001b[0;34m.\u001b[0m\u001b[0mupload_local_csv\u001b[0m\u001b[0;34m(\u001b[0m\u001b[0mtable\u001b[0m\u001b[0;34m=\u001b[0m\u001b[0mtable\u001b[0m\u001b[0;34m,\u001b[0m \u001b[0mfilepath\u001b[0m\u001b[0;34m=\u001b[0m\u001b[0mfilepath\u001b[0m\u001b[0;34m,\u001b[0m \u001b[0mverbose\u001b[0m\u001b[0;34m=\u001b[0m\u001b[0mverbose\u001b[0m\u001b[0;34m)\u001b[0m\u001b[0;34m\u001b[0m\u001b[0;34m\u001b[0m\u001b[0m\n\u001b[1;32m    223\u001b[0m \u001b[0;34m\u001b[0m\u001b[0m\n\u001b[0;32m--> 224\u001b[0;31m     validation = tpcds_bq.validate(directory=folder,\n\u001b[0m\u001b[1;32m    225\u001b[0m                                    dataset=dataset)\n\u001b[1;32m    226\u001b[0m \u001b[0;34m\u001b[0m\u001b[0m\n",
      "\u001b[0;31mNameError\u001b[0m: name 'tpcds_bq' is not defined"
     ]
    }
   ],
   "source": [
    "df = tpcds_bq.upload_all_local(directory=folder,\n",
    "                               dataset=config.gcp_dataset, verbose=True)"
   ]
  },
  {
   "cell_type": "code",
   "execution_count": null,
   "metadata": {},
   "outputs": [],
   "source": [
    "df"
   ]
  }
 ],
 "metadata": {
  "kernelspec": {
   "display_name": "Python 3",
   "language": "python",
   "name": "python3"
  },
  "language_info": {
   "codemirror_mode": {
    "name": "ipython",
    "version": 3
   },
   "file_extension": ".py",
   "mimetype": "text/x-python",
   "name": "python",
   "nbconvert_exporter": "python",
   "pygments_lexer": "ipython3",
   "version": "3.6.10"
  }
 },
 "nbformat": 4,
 "nbformat_minor": 4
}
