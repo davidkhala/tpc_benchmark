{
 "cells": [
  {
   "cell_type": "code",
   "execution_count": 174,
   "metadata": {},
   "outputs": [],
   "source": [
    "import pandas as pd\n",
    "import matplotlib.pyplot as plt\n",
    "\n",
    "import seaborn as sns\n",
    "sns.set_context(\"notebook\", font_scale=1.0, rc={\"lines.linewidth\": 1.0})\n",
    "\n",
    "pd.options.display.max_rows = 999\n",
    "pd.options.display.max_columns = 999\n",
    "\n",
    "import config"
   ]
  },
  {
   "cell_type": "code",
   "execution_count": 2,
   "metadata": {},
   "outputs": [],
   "source": [
    "%store -r sf_results_csv_fp\n",
    "%store -r bq_results_csv_fp\n",
    "%store -r results_dir"
   ]
  },
  {
   "cell_type": "code",
   "execution_count": 20,
   "metadata": {},
   "outputs": [],
   "source": [
    "%store -r df_sf_history_sq\n",
    "%store -r df_sf_history_av\n",
    "%store -r df_bq_history"
   ]
  },
  {
   "cell_type": "code",
   "execution_count": 5,
   "metadata": {},
   "outputs": [],
   "source": [
    "dfsf = pd.read_csv(sf_results_csv_fp)\n",
    "dfbq = pd.read_csv(bq_results_csv_fp)"
   ]
  },
  {
   "cell_type": "code",
   "execution_count": 25,
   "metadata": {},
   "outputs": [],
   "source": [
    "def row_extract_sf(row, value):\n",
    "    \"\"\"Extract Arbitrary row value from\n",
    "    Snowflake Account Usage table\n",
    "    \n",
    "    Parameters\n",
    "    ----------\n",
    "    row : Pandas Series, from Snowflake history account view\n",
    "    value : str, name of column in row\n",
    "    \n",
    "    Returns\n",
    "    -------\n",
    "    single value or None if nothing found\n",
    "    \"\"\"\n",
    "    mask = df_sf_history_av.QUERY_ID == row[\"qid\"]\n",
    "    out = df_sf_history_av.loc[mask, value]\n",
    "    if out.values.shape == (1,):\n",
    "        return out.values[0]\n",
    "    else:\n",
    "        return None"
   ]
  },
  {
   "cell_type": "code",
   "execution_count": 32,
   "metadata": {},
   "outputs": [],
   "source": [
    "def row_extract_bq(row, value):\n",
    "    \"\"\"Extract Arbitrary row value from\n",
    "    BigQuery Account Usage table\n",
    "    \n",
    "    Parameters\n",
    "    ----------\n",
    "    row : Pandas Series, from BigQuery history account view\n",
    "    value : str, name of column in row\n",
    "    \n",
    "    Returns\n",
    "    -------\n",
    "    single value or None if nothing found\n",
    "    \"\"\"\n",
    "    mask = df_bq_history.job_id == row[\"qid\"]\n",
    "    out = df_bq_history.loc[mask, value]\n",
    "    if out.values.shape == (1,):\n",
    "        return out.values[0]\n",
    "    else:\n",
    "        return None"
   ]
  },
  {
   "cell_type": "code",
   "execution_count": 45,
   "metadata": {},
   "outputs": [],
   "source": [
    "def bytes_to_TebiByte(b):\n",
    "    return b / 1099511627776"
   ]
  },
  {
   "cell_type": "markdown",
   "metadata": {},
   "source": [
    "#### Snowflake"
   ]
  },
  {
   "cell_type": "code",
   "execution_count": 11,
   "metadata": {},
   "outputs": [],
   "source": [
    "sf_keep = [\"QUERY_ID\", \"QUERY_TEXT\", \"DATABASE_NAME\", \"WAREHOUSE_SIZE\", \"WAREHOUSE_TYPE\",\n",
    "             \"QUERY_TAG\", \"START_TIME\", \"END_TIME\", \"TOTAL_ELAPSED_TIME\", \"BYTES_SCANNED\",\n",
    "             \"CREDITS_USED_CLOUD_SERVICES\"]"
   ]
  },
  {
   "cell_type": "code",
   "execution_count": 12,
   "metadata": {},
   "outputs": [],
   "source": [
    "sf_extended_keep = sf_keep + [\"PERCENTAGE_SCANNED_FROM_CACHE\", \n",
    "                             \"PARTITIONS_SCANNED\", \"PARTITIONS_TOTAL\", \n",
    "                             \"BYTES_SPILLED_TO_LOCAL_STORAGE\", \"BYTES_SPILLED_TO_REMOTE_STORAGE\"]"
   ]
  },
  {
   "cell_type": "code",
   "execution_count": 13,
   "metadata": {},
   "outputs": [],
   "source": [
    "for col in sf_extended_keep:\n",
    "    dfsf[col.lower()] = None\n",
    "    \n",
    "for col in sf_extended_keep:\n",
    "    dfsf[col.lower()] = dfsf.apply(lambda x: row_extract(row=x, value=col), axis=1)"
   ]
  },
  {
   "cell_type": "code",
   "execution_count": 51,
   "metadata": {},
   "outputs": [],
   "source": [
    "def to_int(x):\n",
    "    try:\n",
    "        return int(x)\n",
    "    except:\n",
    "        return None"
   ]
  },
  {
   "cell_type": "code",
   "execution_count": 63,
   "metadata": {},
   "outputs": [],
   "source": [
    "def bytes_to_TebiByte(b):\n",
    "    if pd.isnull(b):\n",
    "        return None\n",
    "    else:\n",
    "        return b / 1099511627776"
   ]
  },
  {
   "cell_type": "code",
   "execution_count": 86,
   "metadata": {},
   "outputs": [],
   "source": [
    "def bytes_to_TeraByte(b):\n",
    "    if pd.isnull(b):\n",
    "        return None\n",
    "    else:\n",
    "        return float(b) / 1e12"
   ]
  },
  {
   "cell_type": "code",
   "execution_count": 87,
   "metadata": {},
   "outputs": [],
   "source": [
    "def TebiBytes_to_dollars(tib):\n",
    "    if pd.isnull(tib):\n",
    "        return None\n",
    "    else:\n",
    "        return tib * 5.00"
   ]
  },
  {
   "cell_type": "markdown",
   "metadata": {},
   "source": [
    "Calculating Costs  \n",
    "https://www.snowflake.com/blog/how-usage-based-pricing-delivers-a-budget-friendly-cloud-data-warehouse/\n",
    "https://www.snowflake.com/pricing/\n",
    "\n"
   ]
  },
  {
   "cell_type": "code",
   "execution_count": 88,
   "metadata": {},
   "outputs": [],
   "source": [
    "dfsf[\"dt\"] = dfsf.end_time - dfsf.start_time\n",
    "dfsf[\"dt_s\"] = dfsf.dt.dt.total_seconds()\n",
    "dfsf[\"Tib\"] = dfsf.bytes_scanned.apply(to_int)\n",
    "dfsf[\"TB\"] = dfsf.bytes_scanned.apply(bytes_to_TeraByte)"
   ]
  },
  {
   "cell_type": "code",
   "execution_count": 89,
   "metadata": {},
   "outputs": [],
   "source": [
    "# on demand billing\n",
    "dfsf[\"cost_store_od\"] = (dfsf.scale / 1000) * 40\n",
    "\n",
    "dfsf[\"cost_comp_od_std\"] = dfsf.credits_used_cloud_services * 2\n",
    "dfsf[\"cost_comp_od_ent\"] = dfsf.credits_used_cloud_services * 3\n",
    "dfsf[\"cost_comp_od_bus\"] = dfsf.credits_used_cloud_services * 4"
   ]
  },
  {
   "cell_type": "markdown",
   "metadata": {},
   "source": [
    "#### BigQuery"
   ]
  },
  {
   "cell_type": "code",
   "execution_count": 90,
   "metadata": {},
   "outputs": [],
   "source": [
    "bq_keep = [\"statement_type\", \"start_time\", \"end_time\", \"total_bytes_processed\", \n",
    "           \"total_slot_ms\",  \"cache_hit\", \"labels\"]"
   ]
  },
  {
   "cell_type": "code",
   "execution_count": 91,
   "metadata": {},
   "outputs": [],
   "source": [
    "for col in bq_keep:\n",
    "    dfbq[col.lower()] = None\n",
    "    \n",
    "for col in bq_keep:\n",
    "    dfbq[col.lower()] = dfbq.apply(lambda x: row_extract_bq(row=x, value=col), axis=1)"
   ]
  },
  {
   "cell_type": "code",
   "execution_count": 92,
   "metadata": {},
   "outputs": [],
   "source": [
    "dfbq[\"dt\"] = dfbq.end_time - dfbq.start_time\n",
    "dfbq[\"dt_s\"] = dfbq.dt.dt.total_seconds()\n",
    "dfbq[\"Tib\"] = dfbq.total_bytes_processed.apply(bytes_to_TebiByte)\n",
    "dfbq[\"TB\"] = dfbq.total_bytes_processed.apply(bytes_to_TeraByte)"
   ]
  },
  {
   "cell_type": "markdown",
   "metadata": {},
   "source": [
    "Calculating Costs  \n",
    "https://cloud.google.com/bigquery/pricing  \n"
   ]
  },
  {
   "cell_type": "code",
   "execution_count": 93,
   "metadata": {},
   "outputs": [],
   "source": [
    "dfbq[\"cost_comp\"] = dfbq.TB * 5.00"
   ]
  },
  {
   "cell_type": "markdown",
   "metadata": {},
   "source": [
    "#### Combine"
   ]
  },
  {
   "cell_type": "code",
   "execution_count": 148,
   "metadata": {},
   "outputs": [],
   "source": [
    "common = [\"db\", \"test\", \"scale\", \"source\", \"cid\", \"desc\", \"query_n\", \"seq_id\", \"dt\", \"dt_s\", \"TB\"]"
   ]
  },
  {
   "cell_type": "code",
   "execution_count": 153,
   "metadata": {},
   "outputs": [],
   "source": [
    "dfsf_short = dfsf[common] # + [\"percentage_scanned_from_cache\"]]"
   ]
  },
  {
   "cell_type": "code",
   "execution_count": 154,
   "metadata": {},
   "outputs": [],
   "source": [
    "dfbq_short = dfbq[common]"
   ]
  },
  {
   "cell_type": "code",
   "execution_count": 157,
   "metadata": {},
   "outputs": [],
   "source": [
    "df = pd.concat([dfsf_short, dfbq_short])"
   ]
  },
  {
   "cell_type": "code",
   "execution_count": 158,
   "metadata": {},
   "outputs": [],
   "source": [
    "df = df[df.query_n != 61]"
   ]
  },
  {
   "cell_type": "code",
   "execution_count": 165,
   "metadata": {},
   "outputs": [],
   "source": [
    "dfp_dt = df.pivot(index=\"query_n\", columns=\"db\", values=\"dt_s\")\n",
    "dfp_bp = df.pivot(index=\"query_n\", columns=\"db\", values=\"TB\")"
   ]
  },
  {
   "cell_type": "markdown",
   "metadata": {},
   "source": [
    "### Plot Results"
   ]
  },
  {
   "cell_type": "code",
   "execution_count": 175,
   "metadata": {},
   "outputs": [],
   "source": [
    "sns.set_style(\"darkgrid\", {\"xtick.bottom\":True})"
   ]
  },
  {
   "cell_type": "code",
   "execution_count": 176,
   "metadata": {},
   "outputs": [],
   "source": [
    "flatui = [\"#9b59b6\", \"#3498db\", \"#95a5a6\", \"#e74c3c\", \"#34495e\", \"#2ecc71\"]\n",
    "set2 = sns.color_palette(\"Set2\", 8)\n",
    "hls = sns.hls_palette(n_colors=12)"
   ]
  },
  {
   "cell_type": "code",
   "execution_count": 196,
   "metadata": {},
   "outputs": [
    {
     "name": "stdout",
     "output_type": "stream",
     "text": [
      "\n"
     ]
    },
    {
     "data": {
      "image/png": "[encoded data removed]",
      "text/plain": [
       "<Figure size 2160x576 with 2 Axes>"
      ]
     },
     "metadata": {},
     "output_type": "display_data"
    }
   ],
   "source": [
    "#plot_name = \"{}_{}GB_{}_comparison.png\".format(test, scale_factor, x_type)\n",
    "plot_name = \"Test Bar\"\n",
    "\n",
    "color_palette = hls\n",
    "fig, (ax1, ax2) = plt.subplots(2, 1)\n",
    "ax1 = dfp_dt.plot.bar(ax=ax1, legend=False, color=color_palette)\n",
    "\n",
    "# invert bytes processed for plotting\n",
    "_dfp_bp = dfp_bp.copy() * -1\n",
    "ax2 = _dfp_bp.plot.bar(ax=ax2, legend=False, color=color_palette);\n",
    "\n",
    "# set the figure size BEFORE adjusting ticks\n",
    "fig.set_size_inches(30, 8, forward=True)\n",
    "\n",
    "handles, labels = ax1.get_legend_handles_labels()\n",
    "\n",
    "ax1.set_ylabel(\"Time in Seconds\")\n",
    "ax1.set_xlabel(None)\n",
    "ax1_xticklabels = ax1.get_xticklabels()\n",
    "ax1.set_xticklabels(labels=[])\n",
    "\n",
    "ax2.set_ylabel(\"TiB Processed\")\n",
    "ax2.set_xlabel(\"Query Number\")\n",
    "ticks =  ax2.get_yticks()\n",
    "ticks = [\"{:01.4f}\".format(abs(tick)) for tick in ticks]\n",
    "ax2.set_yticklabels(ticks);\n",
    "ax2.xaxis.tick_top()\n",
    "\n",
    "plt.subplots_adjust(hspace=0.15)\n",
    "plt.subplots_adjust(right=0.97)\n",
    "\n",
    "fig.legend(handles, labels, loc=\"right\")\n",
    "#fig.legend(handles, labels, loc=\"lower center\")\n",
    "plt.savefig(config.fp_plots + config.sep + plot_name, bbox_to_anchor='tight')\n",
    "print();"
   ]
  },
  {
   "cell_type": "code",
   "execution_count": null,
   "metadata": {},
   "outputs": [],
   "source": []
  }
 ],
 "metadata": {
  "kernelspec": {
   "display_name": "Python 3",
   "language": "python",
   "name": "python3"
  },
  "language_info": {
   "codemirror_mode": {
    "name": "ipython",
    "version": 3
   },
   "file_extension": ".py",
   "mimetype": "text/x-python",
   "name": "python",
   "nbconvert_exporter": "python",
   "pygments_lexer": "ipython3",
   "version": "3.7.7"
  }
 },
 "nbformat": 4,
 "nbformat_minor": 4
}
