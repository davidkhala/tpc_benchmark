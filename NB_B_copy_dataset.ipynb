{
 "cells": [
  {
   "cell_type": "markdown",
   "metadata": {},
   "source": [
    "#### Dataset Replication  \n",
    "Use predefined SQL table copies to partion and cluster new tables"
   ]
  },
  {
   "cell_type": "code",
   "execution_count": null,
   "metadata": {},
   "outputs": [],
   "source": [
    "from google.cloud import bigquery\n",
    "\n",
    "import config, bq_tpc, sf_tpc"
   ]
  },
  {
   "cell_type": "markdown",
   "metadata": {},
   "source": [
    "#### Set Source and Destination"
   ]
  },
  {
   "cell_type": "code",
   "execution_count": null,
   "metadata": {},
   "outputs": [],
   "source": [
    "source_dataset      = \"ds_100GB_01\"\n",
    "destination_dataset = \"ds_100GB_01C\""
   ]
  },
  {
   "cell_type": "markdown",
   "metadata": {},
   "source": [
    "#### Snowflake Database Copy"
   ]
  },
  {
   "cell_type": "code",
   "execution_count": null,
   "metadata": {},
   "outputs": [],
   "source": [
    "source_dataset.upper()"
   ]
  },
  {
   "cell_type": "code",
   "execution_count": null,
   "metadata": {},
   "outputs": [],
   "source": [
    "# warehouse name\n",
    "warehouse = config.sf_warehouse[1]\n",
    "warehouse"
   ]
  },
  {
   "cell_type": "code",
   "execution_count": null,
   "metadata": {},
   "outputs": [],
   "source": [
    "%%time\n",
    "sf = sf_tpc.SFTPC(test=\"ds\",  # class attributes are placeholders\n",
    "                  scale=1,\n",
    "                  cid=\"A\",\n",
    "                  warehouse=warehouse, \n",
    "                  desc=\"copy-database\",\n",
    "                  verbose=True,\n",
    "                  verbose_query=True)\n",
    "sf.database = source_dataset.upper()\n",
    "sf.connect()\n",
    "\n",
    "query_result = sf.copy(destination_dataset.upper())\n",
    "print(query_result.sfqid)\n",
    "\n",
    "sf.close()"
   ]
  },
  {
   "cell_type": "code",
   "execution_count": null,
   "metadata": {},
   "outputs": [],
   "source": [
    "query_result"
   ]
  },
  {
   "cell_type": "code",
   "execution_count": null,
   "metadata": {},
   "outputs": [],
   "source": [
    "query_result.sfqid"
   ]
  },
  {
   "cell_type": "markdown",
   "metadata": {},
   "source": [
    "#### BigQuery Dataset Copy"
   ]
  },
  {
   "cell_type": "code",
   "execution_count": null,
   "metadata": {},
   "outputs": [],
   "source": [
    "# schema definition copies AND applies clustering/partitioning\n",
    "if \"ds\" in source_dataset:\n",
    "    schema_name = \"bq_ds_01_clone.sql\"\n",
    "else:\n",
    "    schema_name = \"bq_h_01_clone.sql\""
   ]
  },
  {
   "cell_type": "code",
   "execution_count": null,
   "metadata": {},
   "outputs": [],
   "source": [
    "query_text = bq_tpc.create_table_remix(schema_name=schema_name,\n",
    "                                       source=source_dataset,\n",
    "                                       destination=destination_dataset,\n",
    "                                       dot=True)"
   ]
  },
  {
   "cell_type": "code",
   "execution_count": null,
   "metadata": {},
   "outputs": [],
   "source": [
    "[print(line) for line in query_text.split(\"\\n\")[0:10]];"
   ]
  },
  {
   "cell_type": "code",
   "execution_count": null,
   "metadata": {},
   "outputs": [],
   "source": [
    "bq_tpc.create_dataset(destination_dataset)"
   ]
  },
  {
   "cell_type": "code",
   "execution_count": null,
   "metadata": {},
   "outputs": [],
   "source": [
    "%%time\n",
    "query_job = bq_tpc.query(query_text=query_text,\n",
    "                         project=config.gcp_project.lower(),\n",
    "                         dataset=destination_dataset,\n",
    "                         dry_run=False,\n",
    "                         use_cache=False)\n",
    "query_job.result()"
   ]
  },
  {
   "cell_type": "code",
   "execution_count": null,
   "metadata": {},
   "outputs": [],
   "source": []
  }
 ],
 "metadata": {
  "kernelspec": {
   "display_name": "Python 3",
   "language": "python",
   "name": "python3"
  },
  "language_info": {
   "codemirror_mode": {
    "name": "ipython",
    "version": 3
   },
   "file_extension": ".py",
   "mimetype": "text/x-python",
   "name": "python",
   "nbconvert_exporter": "python",
   "pygments_lexer": "ipython3",
   "version": "3.7.7"
  }
 },
 "nbformat": 4,
 "nbformat_minor": 4
}
