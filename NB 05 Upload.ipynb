{
 "cells": [
  {
   "cell_type": "code",
   "execution_count": 1,
   "metadata": {},
   "outputs": [],
   "source": [
    "from google.cloud import storage"
   ]
  },
  {
   "cell_type": "code",
   "execution_count": 2,
   "metadata": {},
   "outputs": [],
   "source": [
    "import config, tools, gcp_storage"
   ]
  },
  {
   "cell_type": "code",
   "execution_count": 3,
   "metadata": {},
   "outputs": [],
   "source": [
    "from importlib import reload"
   ]
  },
  {
   "cell_type": "code",
   "execution_count": 4,
   "metadata": {},
   "outputs": [
    {
     "data": {
      "text/plain": [
       "'tpc-benchmark-9432'"
      ]
     },
     "execution_count": 4,
     "metadata": {},
     "output_type": "execute_result"
    }
   ],
   "source": [
    "bucket = config.gcs_data_bucket\n",
    "bucket"
   ]
  },
  {
   "cell_type": "code",
   "execution_count": 5,
   "metadata": {},
   "outputs": [],
   "source": [
    "gcs_client = storage.Client.from_service_account_json(config.gcp_cred_file)"
   ]
  },
  {
   "cell_type": "code",
   "execution_count": 36,
   "metadata": {},
   "outputs": [],
   "source": [
    "reload(gcp_storage)\n",
    "\n",
    "fp = \"/home/colin/code/bq_snowflake_benchmark/h/output/1GB/part.tbl.8\"\n",
    "fp = \"/home/colin/data/test_uploads/1AGB/catalog_returns_1_12.dat\"\n",
    "#fp = \"/home/colin/data/test_uploads/1AGB/web_sales_1_12.dat\"\n",
    "\n",
    "x = gcp_storage.BlobSync(client=gcs_client,\n",
    "                           bucket_name=bucket,\n",
    "                           local_filepath=fp)"
   ]
  },
  {
   "cell_type": "code",
   "execution_count": 37,
   "metadata": {},
   "outputs": [
    {
     "name": "stdout",
     "output_type": "stream",
     "text": [
      "2020-03-23T19:26:21.554592 upload_start catalog_returns_1_12.dat 21.234304 tpc-benchmark-9432\n",
      "2020-03-23T19:26:22.015137 upload_chunk catalog_returns_1_12.dat 262144 308\n",
      "2020-03-23T19:26:22.421283 upload_chunk catalog_returns_1_12.dat 262144 308\n",
      "2020-03-23T19:26:22.854870 upload_chunk catalog_returns_1_12.dat 262144 308\n",
      "2020-03-23T19:26:23.294625 upload_chunk catalog_returns_1_12.dat 262144 308\n",
      "2020-03-23T19:26:23.741931 upload_chunk catalog_returns_1_12.dat 262144 308\n",
      "2020-03-23T19:26:24.132991 upload_chunk catalog_returns_1_12.dat 262144 308\n",
      "2020-03-23T19:26:24.532474 upload_chunk catalog_returns_1_12.dat 262144 308\n",
      "2020-03-23T19:26:24.980464 upload_chunk catalog_returns_1_12.dat 262144 308\n",
      "2020-03-23T19:26:25.391078 upload_chunk catalog_returns_1_12.dat 262144 308\n",
      "2020-03-23T19:26:25.831566 upload_chunk catalog_returns_1_12.dat 262144 308\n",
      "2020-03-23T19:26:26.226753 upload_chunk catalog_returns_1_12.dat 262144 308\n",
      "2020-03-23T19:26:26.622713 upload_chunk catalog_returns_1_12.dat 262144 308\n",
      "2020-03-23T19:26:27.014561 upload_chunk catalog_returns_1_12.dat 262144 308\n",
      "2020-03-23T19:26:27.483795 upload_chunk catalog_returns_1_12.dat 262144 308\n",
      "2020-03-23T19:26:27.872559 upload_chunk catalog_returns_1_12.dat 262144 308\n",
      "2020-03-23T19:26:28.273473 upload_chunk catalog_returns_1_12.dat 262144 308\n",
      "2020-03-23T19:26:28.739703 upload_chunk catalog_returns_1_12.dat 262144 308\n",
      "2020-03-23T19:26:29.216304 upload_chunk catalog_returns_1_12.dat 262144 308\n",
      "2020-03-23T19:26:29.835313 upload_chunk catalog_returns_1_12.dat 262144 308\n",
      "2020-03-23T19:26:30.452765 upload_chunk catalog_returns_1_12.dat 262144 308\n",
      "2020-03-23T19:26:30.857788 upload_chunk catalog_returns_1_12.dat 262144 308\n",
      "2020-03-23T19:26:31.254378 upload_chunk catalog_returns_1_12.dat 262144 308\n",
      "2020-03-23T19:26:32.088300 upload_chunk catalog_returns_1_12.dat 262144 308\n",
      "2020-03-23T19:26:32.560938 upload_chunk catalog_returns_1_12.dat 262144 308\n",
      "2020-03-23T19:26:32.967615 upload_chunk catalog_returns_1_12.dat 262144 308\n",
      "2020-03-23T19:26:33.521817 upload_chunk catalog_returns_1_12.dat 262144 308\n",
      "2020-03-23T19:26:33.922365 upload_chunk catalog_returns_1_12.dat 262144 308\n",
      "2020-03-23T19:26:34.321226 upload_chunk catalog_returns_1_12.dat 262144 308\n",
      "2020-03-23T19:26:34.763248 upload_chunk catalog_returns_1_12.dat 262144 308\n",
      "2020-03-23T19:26:35.201312 upload_chunk catalog_returns_1_12.dat 262144 308\n",
      "2020-03-23T19:26:35.622403 upload_chunk catalog_returns_1_12.dat 262144 308\n",
      "2020-03-23T19:26:36.045712 upload_chunk catalog_returns_1_12.dat 262144 308\n",
      "2020-03-23T19:26:36.440786 upload_chunk catalog_returns_1_12.dat 262144 308\n",
      "2020-03-23T19:26:36.837787 upload_chunk catalog_returns_1_12.dat 262144 308\n",
      "2020-03-23T19:26:37.276397 upload_chunk catalog_returns_1_12.dat 262144 308\n",
      "2020-03-23T19:26:37.781742 upload_chunk catalog_returns_1_12.dat 262144 308\n",
      "2020-03-23T19:26:38.178334 upload_chunk catalog_returns_1_12.dat 262144 308\n",
      "2020-03-23T19:26:38.628276 upload_chunk catalog_returns_1_12.dat 262144 308\n",
      "2020-03-23T19:26:39.024928 upload_chunk catalog_returns_1_12.dat 262144 308\n",
      "2020-03-23T19:26:39.475450 upload_chunk catalog_returns_1_12.dat 262144 308\n",
      "2020-03-23T19:26:39.872479 upload_chunk catalog_returns_1_12.dat 262144 308\n",
      "2020-03-23T19:26:40.273486 upload_chunk catalog_returns_1_12.dat 262144 308\n",
      "2020-03-23T19:26:40.669066 upload_chunk catalog_returns_1_12.dat 262144 308\n",
      "2020-03-23T19:26:41.464269 upload_chunk catalog_returns_1_12.dat 262144 308\n",
      "2020-03-23T19:26:41.889528 upload_chunk catalog_returns_1_12.dat 262144 308\n",
      "2020-03-23T19:26:42.284913 upload_chunk catalog_returns_1_12.dat 262144 308\n",
      "2020-03-23T19:26:42.721405 upload_chunk catalog_returns_1_12.dat 262144 308\n",
      "2020-03-23T19:26:43.116318 upload_chunk catalog_returns_1_12.dat 262144 308\n",
      "2020-03-23T19:26:43.585163 upload_chunk catalog_returns_1_12.dat 262144 308\n",
      "2020-03-23T19:26:43.990435 upload_chunk catalog_returns_1_12.dat 262144 308\n",
      "2020-03-23T19:26:44.392897 upload_chunk catalog_returns_1_12.dat 262144 308\n",
      "2020-03-23T19:26:44.849871 upload_chunk catalog_returns_1_12.dat 262144 308\n",
      "2020-03-23T19:26:45.309554 upload_chunk catalog_returns_1_12.dat 262144 308\n",
      "2020-03-23T19:26:45.705555 upload_chunk catalog_returns_1_12.dat 262144 308\n",
      "2020-03-23T19:26:46.118017 upload_chunk catalog_returns_1_12.dat 262144 308\n",
      "2020-03-23T19:26:46.521615 upload_chunk catalog_returns_1_12.dat 262144 308\n",
      "2020-03-23T19:26:46.918390 upload_chunk catalog_returns_1_12.dat 262144 308\n",
      "2020-03-23T19:26:47.657933 upload_chunk catalog_returns_1_12.dat 262144 308\n",
      "2020-03-23T19:26:48.048420 upload_chunk catalog_returns_1_12.dat 262144 308\n",
      "2020-03-23T19:26:48.448335 upload_chunk catalog_returns_1_12.dat 262144 308\n",
      "2020-03-23T19:26:48.847703 upload_chunk catalog_returns_1_12.dat 262144 308\n",
      "2020-03-23T19:26:49.242038 upload_chunk catalog_returns_1_12.dat 262144 308\n",
      "2020-03-23T19:26:49.650114 upload_chunk catalog_returns_1_12.dat 262144 308\n",
      "2020-03-23T19:26:50.073792 upload_chunk catalog_returns_1_12.dat 262144 308\n",
      "2020-03-23T19:26:50.507171 upload_chunk catalog_returns_1_12.dat 262144 308\n",
      "2020-03-23T19:26:50.949181 upload_chunk catalog_returns_1_12.dat 262144 308\n",
      "2020-03-23T19:26:51.363738 upload_chunk catalog_returns_1_12.dat 262144 308\n",
      "2020-03-23T19:26:51.801119 upload_chunk catalog_returns_1_12.dat 262144 308\n",
      "2020-03-23T19:26:52.211075 upload_chunk catalog_returns_1_12.dat 262144 308\n",
      "2020-03-23T19:26:52.634881 upload_chunk catalog_returns_1_12.dat 262144 308\n",
      "2020-03-23T19:26:53.030903 upload_chunk catalog_returns_1_12.dat 262144 308\n",
      "2020-03-23T19:26:53.471811 upload_chunk catalog_returns_1_12.dat 262144 308\n",
      "2020-03-23T19:26:53.872761 upload_chunk catalog_returns_1_12.dat 262144 308\n",
      "2020-03-23T19:26:54.265989 upload_chunk catalog_returns_1_12.dat 262144 308\n",
      "2020-03-23T19:26:54.663845 upload_chunk catalog_returns_1_12.dat 262144 308\n",
      "2020-03-23T19:26:55.136421 upload_chunk catalog_returns_1_12.dat 262144 308\n",
      "2020-03-23T19:26:55.573536 upload_chunk catalog_returns_1_12.dat 262144 308\n",
      "2020-03-23T19:26:56.012140 upload_chunk catalog_returns_1_12.dat 262144 308\n",
      "2020-03-23T19:26:56.457513 upload_chunk catalog_returns_1_12.dat 262144 308\n",
      "2020-03-23T19:26:56.902187 upload_chunk catalog_returns_1_12.dat 262144 308\n",
      "2020-03-23T19:26:57.334881 upload_chunk catalog_returns_1_12.dat 262144 308\n",
      "2020-03-23T19:26:57.583364 upload_chunk catalog_returns_1_12.dat 262144 200\n",
      "2020-03-23T19:26:57.583596 upload_done catalog_returns_1_12.dat 21234304 21234304\n"
     ]
    }
   ],
   "source": [
    "upload = x.upload_resumable(verbose=True)"
   ]
  },
  {
   "cell_type": "code",
   "execution_count": 38,
   "metadata": {},
   "outputs": [
    {
     "data": {
      "text/plain": [
       "True"
      ]
     },
     "execution_count": 38,
     "metadata": {},
     "output_type": "execute_result"
    }
   ],
   "source": [
    "upload.bytes_uploaded == upload.total_bytes"
   ]
  },
  {
   "cell_type": "code",
   "execution_count": 40,
   "metadata": {},
   "outputs": [],
   "source": [
    "import pandas as pd"
   ]
  },
  {
   "cell_type": "code",
   "execution_count": 44,
   "metadata": {},
   "outputs": [],
   "source": [
    "df = pd.DataFrame(x.log, columns=[\"dt\", \"op\", \"file\", \"m1\", \"m2\"])"
   ]
  },
  {
   "cell_type": "code",
   "execution_count": 45,
   "metadata": {},
   "outputs": [
    {
     "data": {
      "text/html": [
       "<div>\n",
       "<style scoped>\n",
       "    .dataframe tbody tr th:only-of-type {\n",
       "        vertical-align: middle;\n",
       "    }\n",
       "\n",
       "    .dataframe tbody tr th {\n",
       "        vertical-align: top;\n",
       "    }\n",
       "\n",
       "    .dataframe thead th {\n",
       "        text-align: right;\n",
       "    }\n",
       "</style>\n",
       "<table border=\"1\" class=\"dataframe\">\n",
       "  <thead>\n",
       "    <tr style=\"text-align: right;\">\n",
       "      <th></th>\n",
       "      <th>dt</th>\n",
       "      <th>op</th>\n",
       "      <th>file</th>\n",
       "      <th>m1</th>\n",
       "      <th>m2</th>\n",
       "    </tr>\n",
       "  </thead>\n",
       "  <tbody>\n",
       "    <tr>\n",
       "      <th>0</th>\n",
       "      <td>2020-03-23T19:26:21.554592</td>\n",
       "      <td>upload_start</td>\n",
       "      <td>catalog_returns_1_12.dat</td>\n",
       "      <td>2.123430e+01</td>\n",
       "      <td>tpc-benchmark-9432</td>\n",
       "    </tr>\n",
       "    <tr>\n",
       "      <th>1</th>\n",
       "      <td>2020-03-23T19:26:22.015137</td>\n",
       "      <td>upload_chunk</td>\n",
       "      <td>catalog_returns_1_12.dat</td>\n",
       "      <td>2.621440e+05</td>\n",
       "      <td>308</td>\n",
       "    </tr>\n",
       "    <tr>\n",
       "      <th>2</th>\n",
       "      <td>2020-03-23T19:26:22.421283</td>\n",
       "      <td>upload_chunk</td>\n",
       "      <td>catalog_returns_1_12.dat</td>\n",
       "      <td>2.621440e+05</td>\n",
       "      <td>308</td>\n",
       "    </tr>\n",
       "    <tr>\n",
       "      <th>3</th>\n",
       "      <td>2020-03-23T19:26:22.854870</td>\n",
       "      <td>upload_chunk</td>\n",
       "      <td>catalog_returns_1_12.dat</td>\n",
       "      <td>2.621440e+05</td>\n",
       "      <td>308</td>\n",
       "    </tr>\n",
       "    <tr>\n",
       "      <th>4</th>\n",
       "      <td>2020-03-23T19:26:23.294625</td>\n",
       "      <td>upload_chunk</td>\n",
       "      <td>catalog_returns_1_12.dat</td>\n",
       "      <td>2.621440e+05</td>\n",
       "      <td>308</td>\n",
       "    </tr>\n",
       "    <tr>\n",
       "      <th>...</th>\n",
       "      <td>...</td>\n",
       "      <td>...</td>\n",
       "      <td>...</td>\n",
       "      <td>...</td>\n",
       "      <td>...</td>\n",
       "    </tr>\n",
       "    <tr>\n",
       "      <th>79</th>\n",
       "      <td>2020-03-23T19:26:56.457513</td>\n",
       "      <td>upload_chunk</td>\n",
       "      <td>catalog_returns_1_12.dat</td>\n",
       "      <td>2.621440e+05</td>\n",
       "      <td>308</td>\n",
       "    </tr>\n",
       "    <tr>\n",
       "      <th>80</th>\n",
       "      <td>2020-03-23T19:26:56.902187</td>\n",
       "      <td>upload_chunk</td>\n",
       "      <td>catalog_returns_1_12.dat</td>\n",
       "      <td>2.621440e+05</td>\n",
       "      <td>308</td>\n",
       "    </tr>\n",
       "    <tr>\n",
       "      <th>81</th>\n",
       "      <td>2020-03-23T19:26:57.334881</td>\n",
       "      <td>upload_chunk</td>\n",
       "      <td>catalog_returns_1_12.dat</td>\n",
       "      <td>2.621440e+05</td>\n",
       "      <td>308</td>\n",
       "    </tr>\n",
       "    <tr>\n",
       "      <th>82</th>\n",
       "      <td>2020-03-23T19:26:57.583364</td>\n",
       "      <td>upload_chunk</td>\n",
       "      <td>catalog_returns_1_12.dat</td>\n",
       "      <td>2.621440e+05</td>\n",
       "      <td>200</td>\n",
       "    </tr>\n",
       "    <tr>\n",
       "      <th>83</th>\n",
       "      <td>2020-03-23T19:26:57.583596</td>\n",
       "      <td>upload_done</td>\n",
       "      <td>catalog_returns_1_12.dat</td>\n",
       "      <td>2.123430e+07</td>\n",
       "      <td>21234304</td>\n",
       "    </tr>\n",
       "  </tbody>\n",
       "</table>\n",
       "<p>84 rows × 5 columns</p>\n",
       "</div>"
      ],
      "text/plain": [
       "                            dt            op                      file  \\\n",
       "0   2020-03-23T19:26:21.554592  upload_start  catalog_returns_1_12.dat   \n",
       "1   2020-03-23T19:26:22.015137  upload_chunk  catalog_returns_1_12.dat   \n",
       "2   2020-03-23T19:26:22.421283  upload_chunk  catalog_returns_1_12.dat   \n",
       "3   2020-03-23T19:26:22.854870  upload_chunk  catalog_returns_1_12.dat   \n",
       "4   2020-03-23T19:26:23.294625  upload_chunk  catalog_returns_1_12.dat   \n",
       "..                         ...           ...                       ...   \n",
       "79  2020-03-23T19:26:56.457513  upload_chunk  catalog_returns_1_12.dat   \n",
       "80  2020-03-23T19:26:56.902187  upload_chunk  catalog_returns_1_12.dat   \n",
       "81  2020-03-23T19:26:57.334881  upload_chunk  catalog_returns_1_12.dat   \n",
       "82  2020-03-23T19:26:57.583364  upload_chunk  catalog_returns_1_12.dat   \n",
       "83  2020-03-23T19:26:57.583596   upload_done  catalog_returns_1_12.dat   \n",
       "\n",
       "              m1                  m2  \n",
       "0   2.123430e+01  tpc-benchmark-9432  \n",
       "1   2.621440e+05                 308  \n",
       "2   2.621440e+05                 308  \n",
       "3   2.621440e+05                 308  \n",
       "4   2.621440e+05                 308  \n",
       "..           ...                 ...  \n",
       "79  2.621440e+05                 308  \n",
       "80  2.621440e+05                 308  \n",
       "81  2.621440e+05                 308  \n",
       "82  2.621440e+05                 200  \n",
       "83  2.123430e+07            21234304  \n",
       "\n",
       "[84 rows x 5 columns]"
      ]
     },
     "execution_count": 45,
     "metadata": {},
     "output_type": "execute_result"
    }
   ],
   "source": [
    "df"
   ]
  },
  {
   "cell_type": "code",
   "execution_count": null,
   "metadata": {},
   "outputs": [],
   "source": []
  }
 ],
 "metadata": {
  "kernelspec": {
   "display_name": "Python 3",
   "language": "python",
   "name": "python3"
  },
  "language_info": {
   "codemirror_mode": {
    "name": "ipython",
    "version": 3
   },
   "file_extension": ".py",
   "mimetype": "text/x-python",
   "name": "python",
   "nbconvert_exporter": "python",
   "pygments_lexer": "ipython3",
   "version": "3.6.10"
  }
 },
 "nbformat": 4,
 "nbformat_minor": 4
}
