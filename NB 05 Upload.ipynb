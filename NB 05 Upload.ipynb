{
 "cells": [
  {
   "cell_type": "code",
   "execution_count": 1,
   "metadata": {},
   "outputs": [],
   "source": [
    "from google.cloud import storage"
   ]
  },
  {
   "cell_type": "code",
   "execution_count": 2,
   "metadata": {},
   "outputs": [],
   "source": [
    "import config, tools, gcp_storage"
   ]
  },
  {
   "cell_type": "code",
   "execution_count": 3,
   "metadata": {},
   "outputs": [],
   "source": [
    "from importlib import reload"
   ]
  },
  {
   "cell_type": "code",
   "execution_count": 4,
   "metadata": {},
   "outputs": [
    {
     "data": {
      "text/plain": [
       "'tpc-benchmark-9432'"
      ]
     },
     "execution_count": 4,
     "metadata": {},
     "output_type": "execute_result"
    }
   ],
   "source": [
    "bucket = config.gcs_data_bucket\n",
    "bucket"
   ]
  },
  {
   "cell_type": "code",
   "execution_count": 5,
   "metadata": {},
   "outputs": [],
   "source": [
    "gcs_client = storage.Client.from_service_account_json(config.gcp_cred_file)"
   ]
  },
  {
   "cell_type": "code",
   "execution_count": 396,
   "metadata": {},
   "outputs": [],
   "source": [
    "fd = \"/home/colin/data/test_uploads/1BGB/\""
   ]
  },
  {
   "cell_type": "code",
   "execution_count": 397,
   "metadata": {},
   "outputs": [],
   "source": [
    "reload(gcp_storage)\n",
    "\n",
    "d = gcp_storage.PooledSync(client=gcs_client,\n",
    "                           bucket_name=bucket,\n",
    "                           local_directory=fd)"
   ]
  },
  {
   "cell_type": "code",
   "execution_count": 398,
   "metadata": {},
   "outputs": [
    {
     "data": {
      "text/plain": [
       "array(['/home/colin/data/test_uploads/1BGB/h',\n",
       "       '/home/colin/data/test_uploads/1BGB/ds',\n",
       "       '/home/colin/data/test_uploads/1BGB/h/1000GB',\n",
       "       '/home/colin/data/test_uploads/1BGB/h/1000GB/customer_demographics_5_12.dat',\n",
       "       '/home/colin/data/test_uploads/1BGB/h/1000GB/customer_demographics_6_12.dat',\n",
       "       '/home/colin/data/test_uploads/1BGB/h/1000GB/customer_demographics_4_12.dat',\n",
       "       '/home/colin/data/test_uploads/1BGB/h/1000GB/customer_demographics_7_12.dat',\n",
       "       '/home/colin/data/test_uploads/1BGB/ds/10GB',\n",
       "       '/home/colin/data/test_uploads/1BGB/ds/1GB',\n",
       "       '/home/colin/data/test_uploads/1BGB/ds/10GB/customer.tbl.5',\n",
       "       '/home/colin/data/test_uploads/1BGB/ds/10GB/customer.tbl.4',\n",
       "       '/home/colin/data/test_uploads/1BGB/ds/1GB/customer.tbl.2',\n",
       "       '/home/colin/data/test_uploads/1BGB/ds/1GB/customer.tbl.3',\n",
       "       '/home/colin/data/test_uploads/1BGB/ds/1GB/customer.tbl.1'],\n",
       "      dtype='<U74')"
      ]
     },
     "execution_count": 398,
     "metadata": {},
     "output_type": "execute_result"
    }
   ],
   "source": [
    "d.local_files"
   ]
  },
  {
   "cell_type": "code",
   "execution_count": 399,
   "metadata": {},
   "outputs": [],
   "source": [
    "d.pipeline()"
   ]
  },
  {
   "cell_type": "code",
   "execution_count": 401,
   "metadata": {},
   "outputs": [],
   "source": [
    "reload(gcp_storage)\n",
    "df = gcp_storage.parser(d.log)"
   ]
  },
  {
   "cell_type": "code",
   "execution_count": 402,
   "metadata": {},
   "outputs": [
    {
     "data": {
      "text/html": [
       "<div>\n",
       "<style scoped>\n",
       "    .dataframe tbody tr th:only-of-type {\n",
       "        vertical-align: middle;\n",
       "    }\n",
       "\n",
       "    .dataframe tbody tr th {\n",
       "        vertical-align: top;\n",
       "    }\n",
       "\n",
       "    .dataframe thead th {\n",
       "        text-align: right;\n",
       "    }\n",
       "</style>\n",
       "<table border=\"1\" class=\"dataframe\">\n",
       "  <thead>\n",
       "    <tr style=\"text-align: right;\">\n",
       "      <th></th>\n",
       "      <th>dt</th>\n",
       "      <th>action</th>\n",
       "      <th>file</th>\n",
       "      <th>chunk_size</th>\n",
       "      <th>http_code</th>\n",
       "      <th>bytes_uploaded</th>\n",
       "      <th>total_bytes</th>\n",
       "      <th>f_size</th>\n",
       "      <th>exception</th>\n",
       "      <th>bucket</th>\n",
       "    </tr>\n",
       "  </thead>\n",
       "  <tbody>\n",
       "    <tr>\n",
       "      <th>0</th>\n",
       "      <td>2020-03-24T17:54:09.522996</td>\n",
       "      <td>start</td>\n",
       "      <td>customer.tbl.2</td>\n",
       "      <td></td>\n",
       "      <td></td>\n",
       "      <td></td>\n",
       "      <td></td>\n",
       "      <td>2028688</td>\n",
       "      <td></td>\n",
       "      <td>tpc-benchmark-9432</td>\n",
       "    </tr>\n",
       "    <tr>\n",
       "      <th>1</th>\n",
       "      <td>2020-03-24T17:54:14.123103</td>\n",
       "      <td>chunk</td>\n",
       "      <td>customer.tbl.2</td>\n",
       "      <td>262144</td>\n",
       "      <td>308</td>\n",
       "      <td></td>\n",
       "      <td></td>\n",
       "      <td></td>\n",
       "      <td></td>\n",
       "      <td></td>\n",
       "    </tr>\n",
       "    <tr>\n",
       "      <th>2</th>\n",
       "      <td>2020-03-24T17:54:16.977025</td>\n",
       "      <td>chunk</td>\n",
       "      <td>customer.tbl.2</td>\n",
       "      <td>262144</td>\n",
       "      <td>308</td>\n",
       "      <td></td>\n",
       "      <td></td>\n",
       "      <td></td>\n",
       "      <td></td>\n",
       "      <td></td>\n",
       "    </tr>\n",
       "    <tr>\n",
       "      <th>3</th>\n",
       "      <td>2020-03-24T17:54:20.264281</td>\n",
       "      <td>chunk</td>\n",
       "      <td>customer.tbl.2</td>\n",
       "      <td>262144</td>\n",
       "      <td>308</td>\n",
       "      <td></td>\n",
       "      <td></td>\n",
       "      <td></td>\n",
       "      <td></td>\n",
       "      <td></td>\n",
       "    </tr>\n",
       "    <tr>\n",
       "      <th>4</th>\n",
       "      <td>2020-03-24T17:54:22.397526</td>\n",
       "      <td>chunk</td>\n",
       "      <td>customer.tbl.2</td>\n",
       "      <td>262144</td>\n",
       "      <td>308</td>\n",
       "      <td></td>\n",
       "      <td></td>\n",
       "      <td></td>\n",
       "      <td></td>\n",
       "      <td></td>\n",
       "    </tr>\n",
       "    <tr>\n",
       "      <th>...</th>\n",
       "      <td>...</td>\n",
       "      <td>...</td>\n",
       "      <td>...</td>\n",
       "      <td>...</td>\n",
       "      <td>...</td>\n",
       "      <td>...</td>\n",
       "      <td>...</td>\n",
       "      <td>...</td>\n",
       "      <td>...</td>\n",
       "      <td>...</td>\n",
       "    </tr>\n",
       "    <tr>\n",
       "      <th>154</th>\n",
       "      <td>2020-03-24T17:54:57.955861</td>\n",
       "      <td>chunk</td>\n",
       "      <td>customer_demographics_7_12.dat</td>\n",
       "      <td>262144</td>\n",
       "      <td>308</td>\n",
       "      <td></td>\n",
       "      <td></td>\n",
       "      <td></td>\n",
       "      <td></td>\n",
       "      <td></td>\n",
       "    </tr>\n",
       "    <tr>\n",
       "      <th>155</th>\n",
       "      <td>2020-03-24T17:54:58.412778</td>\n",
       "      <td>chunk</td>\n",
       "      <td>customer_demographics_7_12.dat</td>\n",
       "      <td>262144</td>\n",
       "      <td>308</td>\n",
       "      <td></td>\n",
       "      <td></td>\n",
       "      <td></td>\n",
       "      <td></td>\n",
       "      <td></td>\n",
       "    </tr>\n",
       "    <tr>\n",
       "      <th>156</th>\n",
       "      <td>2020-03-24T17:54:58.832847</td>\n",
       "      <td>chunk</td>\n",
       "      <td>customer_demographics_7_12.dat</td>\n",
       "      <td>262144</td>\n",
       "      <td>308</td>\n",
       "      <td></td>\n",
       "      <td></td>\n",
       "      <td></td>\n",
       "      <td></td>\n",
       "      <td></td>\n",
       "    </tr>\n",
       "    <tr>\n",
       "      <th>157</th>\n",
       "      <td>2020-03-24T17:54:59.001199</td>\n",
       "      <td>chunk</td>\n",
       "      <td>customer_demographics_7_12.dat</td>\n",
       "      <td>262144</td>\n",
       "      <td>200</td>\n",
       "      <td></td>\n",
       "      <td></td>\n",
       "      <td></td>\n",
       "      <td></td>\n",
       "      <td></td>\n",
       "    </tr>\n",
       "    <tr>\n",
       "      <th>158</th>\n",
       "      <td>2020-03-24T17:54:59.001227</td>\n",
       "      <td>done</td>\n",
       "      <td>customer_demographics_7_12.dat</td>\n",
       "      <td></td>\n",
       "      <td></td>\n",
       "      <td>6615913</td>\n",
       "      <td>6615913</td>\n",
       "      <td></td>\n",
       "      <td></td>\n",
       "      <td></td>\n",
       "    </tr>\n",
       "  </tbody>\n",
       "</table>\n",
       "<p>159 rows × 10 columns</p>\n",
       "</div>"
      ],
      "text/plain": [
       "                             dt action                            file  \\\n",
       "0    2020-03-24T17:54:09.522996  start                  customer.tbl.2   \n",
       "1    2020-03-24T17:54:14.123103  chunk                  customer.tbl.2   \n",
       "2    2020-03-24T17:54:16.977025  chunk                  customer.tbl.2   \n",
       "3    2020-03-24T17:54:20.264281  chunk                  customer.tbl.2   \n",
       "4    2020-03-24T17:54:22.397526  chunk                  customer.tbl.2   \n",
       "..                          ...    ...                             ...   \n",
       "154  2020-03-24T17:54:57.955861  chunk  customer_demographics_7_12.dat   \n",
       "155  2020-03-24T17:54:58.412778  chunk  customer_demographics_7_12.dat   \n",
       "156  2020-03-24T17:54:58.832847  chunk  customer_demographics_7_12.dat   \n",
       "157  2020-03-24T17:54:59.001199  chunk  customer_demographics_7_12.dat   \n",
       "158  2020-03-24T17:54:59.001227   done  customer_demographics_7_12.dat   \n",
       "\n",
       "    chunk_size http_code bytes_uploaded total_bytes   f_size exception  \\\n",
       "0                                                    2028688             \n",
       "1       262144       308                                                 \n",
       "2       262144       308                                                 \n",
       "3       262144       308                                                 \n",
       "4       262144       308                                                 \n",
       "..         ...       ...            ...         ...      ...       ...   \n",
       "154     262144       308                                                 \n",
       "155     262144       308                                                 \n",
       "156     262144       308                                                 \n",
       "157     262144       200                                                 \n",
       "158                             6615913     6615913                      \n",
       "\n",
       "                 bucket  \n",
       "0    tpc-benchmark-9432  \n",
       "1                        \n",
       "2                        \n",
       "3                        \n",
       "4                        \n",
       "..                  ...  \n",
       "154                      \n",
       "155                      \n",
       "156                      \n",
       "157                      \n",
       "158                      \n",
       "\n",
       "[159 rows x 10 columns]"
      ]
     },
     "execution_count": 402,
     "metadata": {},
     "output_type": "execute_result"
    }
   ],
   "source": [
    "df"
   ]
  }
 ],
 "metadata": {
  "kernelspec": {
   "display_name": "Python 3",
   "language": "python",
   "name": "python3"
  },
  "language_info": {
   "codemirror_mode": {
    "name": "ipython",
    "version": 3
   },
   "file_extension": ".py",
   "mimetype": "text/x-python",
   "name": "python",
   "nbconvert_exporter": "python",
   "pygments_lexer": "ipython3",
   "version": "3.6.10"
  }
 },
 "nbformat": 4,
 "nbformat_minor": 4
}
