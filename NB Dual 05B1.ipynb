{
 "cells": [
  {
   "cell_type": "code",
   "execution_count": 1,
   "metadata": {},
   "outputs": [],
   "source": [
    "import pandas as pd\n",
    "import numpy as np\n",
    "import matplotlib.pyplot as plt\n",
    "\n",
    "import qc, config, tools\n",
    "\n",
    "from importlib import reload\n",
    "\n",
    "pd.options.display.max_rows = 9999\n",
    "pd.options.display.max_columns = 9999\n",
    "pd.set_option('precision', 7)"
   ]
  },
  {
   "cell_type": "raw",
   "metadata": {},
   "source": [
    "\tq_bq\tequal_percent\n",
    "6\t6\t0.0000000\n",
    "9\t9\t0.9961905\n",
    "18\t18\t0.7142857"
   ]
  },
  {
   "cell_type": "code",
   "execution_count": 2,
   "metadata": {},
   "outputs": [
    {
     "name": "stdout",
     "output_type": "stream",
     "text": [
      "Result Folder Name:\n",
      "/home/colin/code/bq_snowflake_benchmark/results/bqsf_h_01_results--qc_query-2020-06-19_15:17:56.360693\n",
      "SNOWFLAKE QUERY TEXT\n",
      "====================\n",
      "ALTER SESSION SET TIMEZONE = 'UTC'\n",
      "\n",
      "SNOWFLAKE QUERY TEXT\n",
      "====================\n",
      "ALTER SESSION SET QUERY_TAG = 'h_1gb_01-xx-qc_query'\n",
      "\n",
      "SNOWFLAKE QUERY TEXT\n",
      "====================\n",
      "ALTER SESSION SET USE_CACHED_RESULT=false\n",
      "\n",
      "SNOWFLAKE QUERY TEXT\n",
      "====================\n",
      "USE WAREHOUSE TEST9000\n",
      "\n",
      "SNOWFLAKE QUERY TEXT\n",
      "====================\n",
      "USE DATABASE h_1GB_01\n",
      "\n",
      "SNOWFLAKE QUERY TEXT\n",
      "====================\n",
      "ALTER SESSION SET QUERY_TAG = 'h_1gb_01-q6-na-qc_query'\n",
      "\n",
      "SNOWFLAKE QUERY TEXT\n",
      "====================\n",
      "select\n",
      "\tsum(l_extendedprice * l_discount) as revenue\n",
      "from\n",
      "\tlineitem\n",
      "where\n",
      "\tl_shipdate >= to_date('1994-01-01')\n",
      "\tand l_shipdate < dateadd(year, 1, to_date('1994-01-01'))\n",
      "\tand l_discount between 0.04 - 0.01 and 0.04 + 0.01\n",
      "\tand l_quantity < 24\n",
      ";\n",
      "\n",
      "\n",
      "\n",
      "========================================\n",
      "Snowflake Query Stream Done!\n",
      "Total Time Elapsed: 0 days 00:00:00.785228\n",
      "\n",
      "BIGQUERY QUERY TEXT\n",
      "===================\n",
      "select\n",
      "\tsum(l_extendedprice * l_discount) as revenue\n",
      "from\n",
      "\tlineitem\n",
      "where\n",
      "\tl_shipdate >= cast('1994-01-01' as date)\n",
      "\tand l_shipdate < date_add(cast('1994-01-01' as date), interval '1' year)\n",
      "\tand l_discount between 0.04 - 0.01 and 0.04 + 0.01\n",
      "\tand l_quantity < 24\n",
      ";\n",
      "\n",
      "\n",
      "\n",
      "========================================\n",
      "BigQuery Query Stream Done!\n",
      "Total Time Elapsed: 0 days 00:00:02.394611\n",
      "\n",
      "BQ:\n",
      "       revenue\n",
      "0  82433974.48\n",
      "----------------------------------------\n",
      "SF:\n",
      "       revenue\n",
      "0  82433974.48\n",
      "\n",
      "========================================\n",
      "\n",
      "BQ:\n",
      "       revenue\n",
      "0  82433974.48\n",
      "----------------------------------------\n",
      "SF:\n",
      "       revenue\n",
      "0  82433974.48\n",
      "\n",
      "========================================\n",
      "\n",
      "BQ:\n",
      "       revenue\n",
      "0  82433974.48\n",
      "----------------------------------------\n",
      "SF:\n",
      "       revenue\n",
      "0  82433974.48\n",
      "\n",
      "========================================\n",
      "\n",
      "\n",
      "Result:\n",
      "-------\n",
      "   revenue\n",
      "0     True\n",
      "\n",
      "\n",
      "Columns\n",
      "-------\n",
      "BQ:\n",
      "revenue\n",
      "SF:\n",
      "revenue\n",
      "\n"
     ]
    }
   ],
   "source": [
    "reload(qc)\n",
    "\n",
    "a = qc.QueryQC()\n",
    "a.test = \"h\"\n",
    "a.scale = 1\n",
    "a.cid = \"01\"\n",
    "a.stream_n = 1\n",
    "a.desc =  f\"qc_query\"\n",
    "a.seq_id = \"NA\"\n",
    "\n",
    "a.verbose = False\n",
    "a.verbose_query = True\n",
    "a.verbose_query_n = False\n",
    "a.qual = False\n",
    "a.save = True\n",
    "a.verbose_iter = False\n",
    "\n",
    "a.set_timestamp_dir()\n",
    "\n",
    "query_n = 6\n",
    "\n",
    "a.run_single(query_n = query_n)\n",
    "\n",
    "#seq = tools.tpc_stream(test=\"ds\", n=1)\n",
    "#seq = [26]\n",
    "#a.run(seq=seq)\n",
    "\n",
    "df_results = a.compare()"
   ]
  },
  {
   "cell_type": "code",
   "execution_count": 3,
   "metadata": {},
   "outputs": [
    {
     "data": {
      "text/html": [
       "<div>\n",
       "<style scoped>\n",
       "    .dataframe tbody tr th:only-of-type {\n",
       "        vertical-align: middle;\n",
       "    }\n",
       "\n",
       "    .dataframe tbody tr th {\n",
       "        vertical-align: top;\n",
       "    }\n",
       "\n",
       "    .dataframe thead th {\n",
       "        text-align: right;\n",
       "    }\n",
       "</style>\n",
       "<table border=\"1\" class=\"dataframe\">\n",
       "  <thead>\n",
       "    <tr style=\"text-align: right;\">\n",
       "      <th></th>\n",
       "      <th>fp_bq</th>\n",
       "      <th>q_bq</th>\n",
       "      <th>fp_sf</th>\n",
       "      <th>q_sf</th>\n",
       "      <th>equal</th>\n",
       "      <th>equal_percent</th>\n",
       "    </tr>\n",
       "  </thead>\n",
       "  <tbody>\n",
       "    <tr>\n",
       "      <th>1</th>\n",
       "      <td>/home/colin/code/bq_snowflake_benchmark/result...</td>\n",
       "      <td>6</td>\n",
       "      <td>/home/colin/code/bq_snowflake_benchmark/result...</td>\n",
       "      <td>6</td>\n",
       "      <td>True</td>\n",
       "      <td>1.0</td>\n",
       "    </tr>\n",
       "  </tbody>\n",
       "</table>\n",
       "</div>"
      ],
      "text/plain": [
       "                                               fp_bq  q_bq  \\\n",
       "1  /home/colin/code/bq_snowflake_benchmark/result...     6   \n",
       "\n",
       "                                               fp_sf  q_sf  equal  \\\n",
       "1  /home/colin/code/bq_snowflake_benchmark/result...     6   True   \n",
       "\n",
       "   equal_percent  \n",
       "1            1.0  "
      ]
     },
     "execution_count": 3,
     "metadata": {},
     "output_type": "execute_result"
    }
   ],
   "source": [
    "df_results"
   ]
  },
  {
   "cell_type": "markdown",
   "metadata": {},
   "source": [
    "## Query Result Comparison"
   ]
  },
  {
   "cell_type": "code",
   "execution_count": 4,
   "metadata": {},
   "outputs": [],
   "source": [
    "df_sf = a.result_sf\n",
    "df_bq = a.result_bq"
   ]
  },
  {
   "cell_type": "code",
   "execution_count": 5,
   "metadata": {},
   "outputs": [
    {
     "data": {
      "text/html": [
       "<div>\n",
       "<style scoped>\n",
       "    .dataframe tbody tr th:only-of-type {\n",
       "        vertical-align: middle;\n",
       "    }\n",
       "\n",
       "    .dataframe tbody tr th {\n",
       "        vertical-align: top;\n",
       "    }\n",
       "\n",
       "    .dataframe thead th {\n",
       "        text-align: right;\n",
       "    }\n",
       "</style>\n",
       "<table border=\"1\" class=\"dataframe\">\n",
       "  <thead>\n",
       "    <tr style=\"text-align: right;\">\n",
       "      <th></th>\n",
       "      <th>revenue</th>\n",
       "    </tr>\n",
       "  </thead>\n",
       "  <tbody>\n",
       "    <tr>\n",
       "      <th>0</th>\n",
       "      <td>82433974.4840</td>\n",
       "    </tr>\n",
       "  </tbody>\n",
       "</table>\n",
       "</div>"
      ],
      "text/plain": [
       "         revenue\n",
       "0  82433974.4840"
      ]
     },
     "execution_count": 5,
     "metadata": {},
     "output_type": "execute_result"
    }
   ],
   "source": [
    "df_sf.head()"
   ]
  },
  {
   "cell_type": "code",
   "execution_count": 6,
   "metadata": {},
   "outputs": [
    {
     "data": {
      "text/html": [
       "<div>\n",
       "<style scoped>\n",
       "    .dataframe tbody tr th:only-of-type {\n",
       "        vertical-align: middle;\n",
       "    }\n",
       "\n",
       "    .dataframe tbody tr th {\n",
       "        vertical-align: top;\n",
       "    }\n",
       "\n",
       "    .dataframe thead th {\n",
       "        text-align: right;\n",
       "    }\n",
       "</style>\n",
       "<table border=\"1\" class=\"dataframe\">\n",
       "  <thead>\n",
       "    <tr style=\"text-align: right;\">\n",
       "      <th></th>\n",
       "      <th>revenue</th>\n",
       "    </tr>\n",
       "  </thead>\n",
       "  <tbody>\n",
       "    <tr>\n",
       "      <th>0</th>\n",
       "      <td>8.2433974e+07</td>\n",
       "    </tr>\n",
       "  </tbody>\n",
       "</table>\n",
       "</div>"
      ],
      "text/plain": [
       "         revenue\n",
       "0  8.2433974e+07"
      ]
     },
     "execution_count": 6,
     "metadata": {},
     "output_type": "execute_result"
    }
   ],
   "source": [
    "df_bq.head()"
   ]
  },
  {
   "cell_type": "code",
   "execution_count": 7,
   "metadata": {},
   "outputs": [
    {
     "data": {
      "text/plain": [
       "(1, 1)"
      ]
     },
     "execution_count": 7,
     "metadata": {},
     "output_type": "execute_result"
    }
   ],
   "source": [
    "len(df_sf), len(df_bq)"
   ]
  },
  {
   "cell_type": "raw",
   "metadata": {},
   "source": [
    "df_sf.dtypes"
   ]
  },
  {
   "cell_type": "raw",
   "metadata": {},
   "source": [
    "df_bq.dtypes"
   ]
  },
  {
   "cell_type": "code",
   "execution_count": 8,
   "metadata": {},
   "outputs": [],
   "source": [
    "df_sf = tools.to_consistent(df_sf, n=1)\n",
    "df_bq = tools.to_consistent(df_bq, n=1)"
   ]
  },
  {
   "cell_type": "raw",
   "metadata": {},
   "source": [
    "df_sf"
   ]
  },
  {
   "cell_type": "raw",
   "metadata": {},
   "source": [
    "df_bq"
   ]
  },
  {
   "cell_type": "code",
   "execution_count": 9,
   "metadata": {},
   "outputs": [
    {
     "data": {
      "text/plain": [
       "revenue    object\n",
       "dtype: object"
      ]
     },
     "execution_count": 9,
     "metadata": {},
     "output_type": "execute_result"
    }
   ],
   "source": [
    "df_sf.dtypes"
   ]
  },
  {
   "cell_type": "code",
   "execution_count": 10,
   "metadata": {},
   "outputs": [
    {
     "data": {
      "text/plain": [
       "True"
      ]
     },
     "execution_count": 10,
     "metadata": {},
     "output_type": "execute_result"
    }
   ],
   "source": [
    "qc.assert_equal(df_sf, df_bq)"
   ]
  },
  {
   "cell_type": "code",
   "execution_count": 11,
   "metadata": {},
   "outputs": [],
   "source": [
    "def color_false(val):\n",
    "    mapper = {True: 'white', False: 'red'}\n",
    "    return 'color: %s' % mapper[val]"
   ]
  },
  {
   "cell_type": "code",
   "execution_count": 12,
   "metadata": {},
   "outputs": [
    {
     "data": {
      "text/html": [
       "<style  type=\"text/css\" >\n",
       "    #T_bcb4b5d8_b27a_11ea_96d0_9cb6d0c46813row0_col0 {\n",
       "            color:  white;\n",
       "        }</style><table id=\"T_bcb4b5d8_b27a_11ea_96d0_9cb6d0c46813\" ><thead>    <tr>        <th class=\"blank level0\" ></th>        <th class=\"col_heading level0 col0\" >revenue</th>    </tr></thead><tbody>\n",
       "                <tr>\n",
       "                        <th id=\"T_bcb4b5d8_b27a_11ea_96d0_9cb6d0c46813level0_row0\" class=\"row_heading level0 row0\" >0</th>\n",
       "                        <td id=\"T_bcb4b5d8_b27a_11ea_96d0_9cb6d0c46813row0_col0\" class=\"data row0 col0\" >True</td>\n",
       "            </tr>\n",
       "    </tbody></table>"
      ],
      "text/plain": [
       "<pandas.io.formats.style.Styler at 0x7fde99b08050>"
      ]
     },
     "execution_count": 12,
     "metadata": {},
     "output_type": "execute_result"
    }
   ],
   "source": [
    "diff = df_sf.eq(df_bq)\n",
    "diff.loc[0:5].style.applymap(color_false)"
   ]
  },
  {
   "cell_type": "code",
   "execution_count": 13,
   "metadata": {},
   "outputs": [
    {
     "name": "stdout",
     "output_type": "stream",
     "text": [
      "Percent Data Match: 1.0\n"
     ]
    }
   ],
   "source": [
    "df_diff = diff.sum().sum() / (diff.shape[0] * diff.shape[1])\n",
    "print(\"Percent Data Match:\", df_diff)"
   ]
  },
  {
   "cell_type": "code",
   "execution_count": 14,
   "metadata": {},
   "outputs": [
    {
     "data": {
      "text/plain": [
       "revenue    1.0\n",
       "dtype: float64"
      ]
     },
     "execution_count": 14,
     "metadata": {},
     "output_type": "execute_result"
    }
   ],
   "source": [
    "diff.sum()/diff.shape[0]"
   ]
  },
  {
   "cell_type": "code",
   "execution_count": 15,
   "metadata": {},
   "outputs": [
    {
     "data": {
      "text/html": [
       "<style  type=\"text/css\" >\n",
       "    #T_bcb7ffea_b27a_11ea_96d0_9cb6d0c46813row0_col0 {\n",
       "            color:  white;\n",
       "        }</style><table id=\"T_bcb7ffea_b27a_11ea_96d0_9cb6d0c46813\" ><thead>    <tr>        <th class=\"blank level0\" ></th>        <th class=\"col_heading level0 col0\" >revenue</th>    </tr></thead><tbody>\n",
       "                <tr>\n",
       "                        <th id=\"T_bcb7ffea_b27a_11ea_96d0_9cb6d0c46813level0_row0\" class=\"row_heading level0 row0\" >0</th>\n",
       "                        <td id=\"T_bcb7ffea_b27a_11ea_96d0_9cb6d0c46813row0_col0\" class=\"data row0 col0\" >True</td>\n",
       "            </tr>\n",
       "    </tbody></table>"
      ],
      "text/plain": [
       "<pandas.io.formats.style.Styler at 0x7fde8f6e1310>"
      ]
     },
     "execution_count": 15,
     "metadata": {},
     "output_type": "execute_result"
    }
   ],
   "source": [
    "diff.style.applymap(color_false)"
   ]
  },
  {
   "cell_type": "code",
   "execution_count": null,
   "metadata": {},
   "outputs": [],
   "source": []
  }
 ],
 "metadata": {
  "kernelspec": {
   "display_name": "Python 3",
   "language": "python",
   "name": "python3"
  },
  "language_info": {
   "codemirror_mode": {
    "name": "ipython",
    "version": 3
   },
   "file_extension": ".py",
   "mimetype": "text/x-python",
   "name": "python",
   "nbconvert_exporter": "python",
   "pygments_lexer": "ipython3",
   "version": "3.7.7"
  }
 },
 "nbformat": 4,
 "nbformat_minor": 4
}
