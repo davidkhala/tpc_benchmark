{
 "cells": [
  {
   "cell_type": "code",
   "execution_count": 5,
   "metadata": {},
   "outputs": [],
   "source": [
    "import config, h_bq"
   ]
  },
  {
   "cell_type": "code",
   "execution_count": 6,
   "metadata": {},
   "outputs": [],
   "source": [
    "from importlib import reload"
   ]
  },
  {
   "cell_type": "code",
   "execution_count": 9,
   "metadata": {},
   "outputs": [
    {
     "data": {
      "text/plain": [
       "'/home/colin/code/bq_snowflake_benchmark/h/2.18.0_rc2/dbgen/dss.ddl'"
      ]
     },
     "execution_count": 9,
     "metadata": {},
     "output_type": "execute_result"
    }
   ],
   "source": [
    "fp = config.fp_h_src + config.sep + \"dbgen\" + config.sep + \"dss.ddl\"\n",
    "fp"
   ]
  },
  {
   "cell_type": "code",
   "execution_count": 24,
   "metadata": {},
   "outputs": [
    {
     "name": "stdout",
     "output_type": "stream",
     "text": [
      "-- Sccsid:     @(#)dss.ddl\t2.1.8.1\n",
      "CREATE TABLE testdata.NATION ( N_NATIONKEY INT64 NOT NULL,\n",
      "                            N_NAME       STRING NOT NULL,\n",
      "                            N_REGIONKEY  INT64 NOT NULL,\n",
      "                            N_COMMENT    STRING);\n",
      "\n",
      "CREATE TABLE testdata.REGION ( R_REGIONKEY INT64 NOT NULL,\n",
      "                            R_NAME       STRING NOT NULL,\n",
      "                            R_COMMENT    STRING);\n",
      "\n",
      "CREATE TABLE testdata.PART ( P_PARTKEY INT64 NOT NULL,\n",
      "                          P_NAME        STRING NOT NULL,\n",
      "                          P_MFGR        STRING NOT NULL,\n",
      "                          P_BRAND       STRING NOT NULL,\n",
      "                          P_TYPE        STRING NOT NULL,\n",
      "                          P_SIZE        INT64 NOT NULL,\n",
      "                          P_CONTAINER   STRING NOT NULL,\n",
      "                          P_RETAILPRICE FLOAT64 NOT NULL,\n",
      "                          P_COMMENT     STRING NOT NULL );\n",
      "\n",
      "CREATE TABLE testdata.SUPPLIER ( S_SUPPKEY INT64 NOT NULL,\n",
      "                             S_NAME        STRING NOT NULL,\n",
      "                             S_ADDRESS     STRING NOT NULL,\n",
      "                             S_NATIONKEY   INT64 NOT NULL,\n",
      "                             S_PHONE       STRING NOT NULL,\n",
      "                             S_ACCTBAL     FLOAT64 NOT NULL,\n",
      "                             S_COMMENT     STRING NOT NULL);\n",
      "\n",
      "CREATE TABLE testdata.PARTSUPP ( PS_PARTKEY INT64 NOT NULL,\n",
      "                             PS_SUPPKEY     INT64 NOT NULL,\n",
      "                             PS_AVAILQTY    INT64 NOT NULL,\n",
      "                             PS_SUPPLYCOST  FLOAT64  NOT NULL,\n",
      "                             PS_COMMENT     STRING NOT NULL );\n",
      "\n",
      "CREATE TABLE testdata.CUSTOMER ( C_CUSTKEY INT64 NOT NULL,\n",
      "                             C_NAME        STRING NOT NULL,\n",
      "                             C_ADDRESS     STRING NOT NULL,\n",
      "                             C_NATIONKEY   INT64 NOT NULL,\n",
      "                             C_PHONE       STRING NOT NULL,\n",
      "                             C_ACCTBAL     FLOAT64   NOT NULL,\n",
      "                             C_MKTSEGMENT  STRING NOT NULL,\n",
      "                             C_COMMENT     STRING NOT NULL);\n",
      "\n",
      "CREATE TABLE testdata.ORDERS ( O_ORDERKEY INT64 NOT NULL,\n",
      "                           O_CUSTKEY        INT64 NOT NULL,\n",
      "                           O_ORDERSTATUS    STRING NOT NULL,\n",
      "                           O_TOTALPRICE     FLOAT64 NOT NULL,\n",
      "                           O_ORDERDATE      DATE NOT NULL,\n",
      "                           O_ORDERPRIORITY  STRING NOT NULL,  \n",
      "                           O_CLERK          STRING NOT NULL, \n",
      "                           O_SHIPPRIORITY   INT64 NOT NULL,\n",
      "                           O_COMMENT        STRING NOT NULL);\n",
      "\n",
      "CREATE TABLE testdata.LINEITEM ( L_ORDERKEY INT64 NOT NULL,\n",
      "                             L_PARTKEY     INT64 NOT NULL,\n",
      "                             L_SUPPKEY     INT64 NOT NULL,\n",
      "                             L_LINENUMBER  INT64 NOT NULL,\n",
      "                             L_QUANTITY    FLOAT64 NOT NULL,\n",
      "                             L_EXTENDEDPRICE  FLOAT64 NOT NULL,\n",
      "                             L_DISCOUNT    FLOAT64 NOT NULL,\n",
      "                             L_TAX         FLOAT64 NOT NULL,\n",
      "                             L_RETURNFLAG  STRING NOT NULL,\n",
      "                             L_LINESTATUS  STRING NOT NULL,\n",
      "                             L_SHIPDATE    DATE NOT NULL,\n",
      "                             L_COMMITDATE  DATE NOT NULL,\n",
      "                             L_RECEIPTDATE DATE NOT NULL,\n",
      "                             L_SHIPINSTRUCT STRING NOT NULL,\n",
      "                             L_SHIPMODE     STRING NOT NULL,\n",
      "                             L_COMMENT      STRING NOT NULL);\n",
      "\n",
      "\n"
     ]
    }
   ],
   "source": [
    "reload(h_bq)\n",
    "reload(config)\n",
    "text = h_bq.rewrite_schema(filepath_in=config.h_schema_ddl_filepath, \n",
    "                           filepath_out=config.h_schema_bq_filepath, \n",
    "                           dataset_name=\"testdata\")\n",
    "print(text)"
   ]
  },
  {
   "cell_type": "code",
   "execution_count": null,
   "metadata": {},
   "outputs": [],
   "source": []
  }
 ],
 "metadata": {
  "kernelspec": {
   "display_name": "Python 3",
   "language": "python",
   "name": "python3"
  },
  "language_info": {
   "codemirror_mode": {
    "name": "ipython",
    "version": 3
   },
   "file_extension": ".py",
   "mimetype": "text/x-python",
   "name": "python",
   "nbconvert_exporter": "python",
   "pygments_lexer": "ipython3",
   "version": "3.6.10"
  }
 },
 "nbformat": 4,
 "nbformat_minor": 4
}
