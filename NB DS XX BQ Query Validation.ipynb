{
 "cells": [
  {
   "cell_type": "markdown",
   "metadata": {},
   "source": [
    "## TPC-DS BQ Query Validation"
   ]
  },
  {
   "cell_type": "code",
   "execution_count": 21,
   "metadata": {},
   "outputs": [],
   "source": [
    "from google.cloud import bigquery"
   ]
  },
  {
   "cell_type": "code",
   "execution_count": 1,
   "metadata": {},
   "outputs": [],
   "source": [
    "import ds_setup, config, tools"
   ]
  },
  {
   "cell_type": "code",
   "execution_count": 2,
   "metadata": {},
   "outputs": [],
   "source": [
    "from importlib import reload"
   ]
  },
  {
   "cell_type": "raw",
   "metadata": {},
   "source": [
    "reload(config)\n",
    "reload(ds_setup)\n",
    "reload(tools);"
   ]
  },
  {
   "cell_type": "code",
   "execution_count": 173,
   "metadata": {},
   "outputs": [],
   "source": [
    "client = bigquery.Client.from_service_account_json(config.gcp_cred_file)\n",
    "job_config = bigquery.QueryJobConfig()\n",
    "job_config.default_dataset = \"tpc-benchmarking-9432.ds_2GB_1_basic\""
   ]
  },
  {
   "cell_type": "markdown",
   "metadata": {},
   "source": [
    "## ====="
   ]
  },
  {
   "cell_type": "code",
   "execution_count": 175,
   "metadata": {},
   "outputs": [],
   "source": [
    "# this should have been done elsewhere\n",
    "# ds_setup.tpl_bq_regex(tpl_dir=input_templates_bq, verbose=False)"
   ]
  },
  {
   "cell_type": "code",
   "execution_count": 176,
   "metadata": {},
   "outputs": [],
   "source": [
    "test_name = \"ds_01_1GB_bq_default_dev\"\n",
    "\n",
    "input_templates_bq = config.fp_ds_bq_template_dir\n",
    "\n",
    "dialect = ds_setup.sqlserver_bq_defines(input_templates_bq)"
   ]
  },
  {
   "cell_type": "code",
   "execution_count": 168,
   "metadata": {},
   "outputs": [],
   "source": [
    "def ds_qgen_tpl_number(n, directory, verbose=False):\n",
    "    \"\"\"Generate DS query text for query number n\n",
    "    \n",
    "    Parameters\n",
    "    ----------|\n",
    "    n : int, query number to generate BigQuery SQL\n",
    "    directory : str, absolute path to directory of query templates\n",
    "        to draw from for n.\n",
    "        \n",
    "    Returns\n",
    "    -------\n",
    "    str : BigQuery SQL query\n",
    "    \"\"\"\n",
    "    std_out, err_out = ds_setup.dsqgen(directory=directory,\n",
    "                                       dialect=\"sqlserver_bq\",\n",
    "                                       scale=1,\n",
    "                                       template=\"query{}.tpl\".format(n),\n",
    "                                       filter=\"Y\",\n",
    "                                       qualify=\"Y\")\n",
    "    return std_out"
   ]
  },
  {
   "cell_type": "code",
   "execution_count": 244,
   "metadata": {},
   "outputs": [
    {
     "name": "stdout",
     "output_type": "stream",
     "text": [
      "QUERY 99 : query99.tpl\n",
      "\n",
      "select  \n",
      "   substr(w_warehouse_name,1,20)\n",
      "  ,sm_type\n",
      "  ,cc_name\n",
      "  ,sum(case when (cs_ship_date_sk - cs_sold_date_sk <= 30 ) then 1 else 0 end)  as _30_days \n",
      "  ,sum(case when (cs_ship_date_sk - cs_sold_date_sk > 30) and \n",
      "                 (cs_ship_date_sk - cs_sold_date_sk <= 60) then 1 else 0 end )  as _31_60_days \n",
      "  ,sum(case when (cs_ship_date_sk - cs_sold_date_sk > 60) and \n",
      "                 (cs_ship_date_sk - cs_sold_date_sk <= 90) then 1 else 0 end)  as _61_90_days \n",
      "  ,sum(case when (cs_ship_date_sk - cs_sold_date_sk > 90) and\n",
      "                 (cs_ship_date_sk - cs_sold_date_sk <= 120) then 1 else 0 end)  as _91_120_days \n",
      "  ,sum(case when (cs_ship_date_sk - cs_sold_date_sk  > 120) then 1 else 0 end)  as _greater_than_120_days \n",
      "from\n",
      "   catalog_sales\n",
      "  ,warehouse\n",
      "  ,ship_mode\n",
      "  ,call_center\n",
      "  ,date_dim\n",
      "where\n",
      "    d_month_seq between 1212 and 1212 + 11\n",
      "and cs_ship_date_sk   = d_date_sk\n",
      "and cs_warehouse_sk   = w_warehouse_sk\n",
      "and cs_ship_mode_sk   = sm_ship_mode_sk\n",
      "and cs_call_center_sk = cc_call_center_sk\n",
      "group by\n",
      "   1\n",
      "  ,sm_type\n",
      "  ,cc_name\n",
      "order by 1\n",
      "        ,sm_type\n",
      "        ,cc_name\n",
      "limit 100;\n",
      "\n",
      "\n",
      "\n",
      "--------------------------------------------------\n",
      "QUERY 99 : query99.tpl\n",
      "==================== RESULTS ====================\n"
     ]
    },
    {
     "data": {
      "text/plain": [
       "[Row((None, 'EXPRESS', 'California', 3006, 3136, 3136, 0, 0), {'f0_': 0, 'sm_type': 1, 'cc_name': 2, '_30_days': 3, '_31_60_days': 4, '_61_90_days': 5, '_91_120_days': 6, '_greater_than_120_days': 7}),\n",
       " Row((None, 'EXPRESS', 'Mid Atlantic', 2934, 2982, 2982, 0, 0), {'f0_': 0, 'sm_type': 1, 'cc_name': 2, '_30_days': 3, '_31_60_days': 4, '_61_90_days': 5, '_91_120_days': 6, '_greater_than_120_days': 7}),\n",
       " Row((None, 'EXPRESS', 'NY Metro', 2848, 2864, 3110, 0, 0), {'f0_': 0, 'sm_type': 1, 'cc_name': 2, '_30_days': 3, '_31_60_days': 4, '_61_90_days': 5, '_91_120_days': 6, '_greater_than_120_days': 7}),\n",
       " Row((None, 'EXPRESS', 'North Midwest', 3000, 2962, 2932, 0, 0), {'f0_': 0, 'sm_type': 1, 'cc_name': 2, '_30_days': 3, '_31_60_days': 4, '_61_90_days': 5, '_91_120_days': 6, '_greater_than_120_days': 7}),\n",
       " Row((None, 'EXPRESS', 'Pacific Northwest', 3018, 3082, 2998, 0, 0), {'f0_': 0, 'sm_type': 1, 'cc_name': 2, '_30_days': 3, '_31_60_days': 4, '_61_90_days': 5, '_91_120_days': 6, '_greater_than_120_days': 7}),\n",
       " Row((None, 'LIBRARY', 'California', 2290, 2356, 2268, 0, 0), {'f0_': 0, 'sm_type': 1, 'cc_name': 2, '_30_days': 3, '_31_60_days': 4, '_61_90_days': 5, '_91_120_days': 6, '_greater_than_120_days': 7}),\n",
       " Row((None, 'LIBRARY', 'Mid Atlantic', 2180, 2330, 2444, 0, 0), {'f0_': 0, 'sm_type': 1, 'cc_name': 2, '_30_days': 3, '_31_60_days': 4, '_61_90_days': 5, '_91_120_days': 6, '_greater_than_120_days': 7}),\n",
       " Row((None, 'LIBRARY', 'NY Metro', 2296, 2416, 2206, 0, 0), {'f0_': 0, 'sm_type': 1, 'cc_name': 2, '_30_days': 3, '_31_60_days': 4, '_61_90_days': 5, '_91_120_days': 6, '_greater_than_120_days': 7}),\n",
       " Row((None, 'LIBRARY', 'North Midwest', 2142, 2132, 2306, 0, 0), {'f0_': 0, 'sm_type': 1, 'cc_name': 2, '_30_days': 3, '_31_60_days': 4, '_61_90_days': 5, '_91_120_days': 6, '_greater_than_120_days': 7}),\n",
       " Row((None, 'LIBRARY', 'Pacific Northwest', 2202, 2314, 2156, 0, 0), {'f0_': 0, 'sm_type': 1, 'cc_name': 2, '_30_days': 3, '_31_60_days': 4, '_61_90_days': 5, '_91_120_days': 6, '_greater_than_120_days': 7}),\n",
       " Row((None, 'NEXT DAY', 'California', 3058, 3228, 3020, 0, 0), {'f0_': 0, 'sm_type': 1, 'cc_name': 2, '_30_days': 3, '_31_60_days': 4, '_61_90_days': 5, '_91_120_days': 6, '_greater_than_120_days': 7}),\n",
       " Row((None, 'NEXT DAY', 'Mid Atlantic', 3084, 3062, 2972, 0, 0), {'f0_': 0, 'sm_type': 1, 'cc_name': 2, '_30_days': 3, '_31_60_days': 4, '_61_90_days': 5, '_91_120_days': 6, '_greater_than_120_days': 7}),\n",
       " Row((None, 'NEXT DAY', 'NY Metro', 2822, 3144, 3084, 0, 0), {'f0_': 0, 'sm_type': 1, 'cc_name': 2, '_30_days': 3, '_31_60_days': 4, '_61_90_days': 5, '_91_120_days': 6, '_greater_than_120_days': 7}),\n",
       " Row((None, 'NEXT DAY', 'North Midwest', 2940, 2988, 3028, 0, 0), {'f0_': 0, 'sm_type': 1, 'cc_name': 2, '_30_days': 3, '_31_60_days': 4, '_61_90_days': 5, '_91_120_days': 6, '_greater_than_120_days': 7}),\n",
       " Row((None, 'NEXT DAY', 'Pacific Northwest', 2968, 3216, 3016, 0, 0), {'f0_': 0, 'sm_type': 1, 'cc_name': 2, '_30_days': 3, '_31_60_days': 4, '_61_90_days': 5, '_91_120_days': 6, '_greater_than_120_days': 7}),\n",
       " Row((None, 'OVERNIGHT', 'California', 2182, 2258, 2320, 0, 0), {'f0_': 0, 'sm_type': 1, 'cc_name': 2, '_30_days': 3, '_31_60_days': 4, '_61_90_days': 5, '_91_120_days': 6, '_greater_than_120_days': 7}),\n",
       " Row((None, 'OVERNIGHT', 'Mid Atlantic', 2316, 2256, 2378, 0, 0), {'f0_': 0, 'sm_type': 1, 'cc_name': 2, '_30_days': 3, '_31_60_days': 4, '_61_90_days': 5, '_91_120_days': 6, '_greater_than_120_days': 7}),\n",
       " Row((None, 'OVERNIGHT', 'NY Metro', 2212, 2234, 2282, 0, 0), {'f0_': 0, 'sm_type': 1, 'cc_name': 2, '_30_days': 3, '_31_60_days': 4, '_61_90_days': 5, '_91_120_days': 6, '_greater_than_120_days': 7}),\n",
       " Row((None, 'OVERNIGHT', 'North Midwest', 2124, 2320, 2314, 0, 0), {'f0_': 0, 'sm_type': 1, 'cc_name': 2, '_30_days': 3, '_31_60_days': 4, '_61_90_days': 5, '_91_120_days': 6, '_greater_than_120_days': 7}),\n",
       " Row((None, 'OVERNIGHT', 'Pacific Northwest', 2254, 2168, 2196, 0, 0), {'f0_': 0, 'sm_type': 1, 'cc_name': 2, '_30_days': 3, '_31_60_days': 4, '_61_90_days': 5, '_91_120_days': 6, '_greater_than_120_days': 7}),\n",
       " Row((None, 'REGULAR', 'California', 2226, 2412, 2292, 0, 0), {'f0_': 0, 'sm_type': 1, 'cc_name': 2, '_30_days': 3, '_31_60_days': 4, '_61_90_days': 5, '_91_120_days': 6, '_greater_than_120_days': 7}),\n",
       " Row((None, 'REGULAR', 'Mid Atlantic', 2062, 2130, 2330, 0, 0), {'f0_': 0, 'sm_type': 1, 'cc_name': 2, '_30_days': 3, '_31_60_days': 4, '_61_90_days': 5, '_91_120_days': 6, '_greater_than_120_days': 7}),\n",
       " Row((None, 'REGULAR', 'NY Metro', 2222, 2288, 2312, 0, 0), {'f0_': 0, 'sm_type': 1, 'cc_name': 2, '_30_days': 3, '_31_60_days': 4, '_61_90_days': 5, '_91_120_days': 6, '_greater_than_120_days': 7}),\n",
       " Row((None, 'REGULAR', 'North Midwest', 2292, 2308, 2180, 0, 0), {'f0_': 0, 'sm_type': 1, 'cc_name': 2, '_30_days': 3, '_31_60_days': 4, '_61_90_days': 5, '_91_120_days': 6, '_greater_than_120_days': 7}),\n",
       " Row((None, 'REGULAR', 'Pacific Northwest', 2120, 2254, 2286, 0, 0), {'f0_': 0, 'sm_type': 1, 'cc_name': 2, '_30_days': 3, '_31_60_days': 4, '_61_90_days': 5, '_91_120_days': 6, '_greater_than_120_days': 7}),\n",
       " Row((None, 'TWO DAY', 'California', 2380, 2278, 2288, 0, 0), {'f0_': 0, 'sm_type': 1, 'cc_name': 2, '_30_days': 3, '_31_60_days': 4, '_61_90_days': 5, '_91_120_days': 6, '_greater_than_120_days': 7}),\n",
       " Row((None, 'TWO DAY', 'Mid Atlantic', 2206, 2400, 2248, 0, 0), {'f0_': 0, 'sm_type': 1, 'cc_name': 2, '_30_days': 3, '_31_60_days': 4, '_61_90_days': 5, '_91_120_days': 6, '_greater_than_120_days': 7}),\n",
       " Row((None, 'TWO DAY', 'NY Metro', 2220, 2374, 2350, 0, 0), {'f0_': 0, 'sm_type': 1, 'cc_name': 2, '_30_days': 3, '_31_60_days': 4, '_61_90_days': 5, '_91_120_days': 6, '_greater_than_120_days': 7}),\n",
       " Row((None, 'TWO DAY', 'North Midwest', 2162, 2354, 2276, 0, 0), {'f0_': 0, 'sm_type': 1, 'cc_name': 2, '_30_days': 3, '_31_60_days': 4, '_61_90_days': 5, '_91_120_days': 6, '_greater_than_120_days': 7}),\n",
       " Row((None, 'TWO DAY', 'Pacific Northwest', 2158, 2298, 2226, 0, 0), {'f0_': 0, 'sm_type': 1, 'cc_name': 2, '_30_days': 3, '_31_60_days': 4, '_61_90_days': 5, '_91_120_days': 6, '_greater_than_120_days': 7}),\n",
       " Row(('Bad cards must make.', 'EXPRESS', 'California', 3000, 3174, 3106, 0, 0), {'f0_': 0, 'sm_type': 1, 'cc_name': 2, '_30_days': 3, '_31_60_days': 4, '_61_90_days': 5, '_91_120_days': 6, '_greater_than_120_days': 7}),\n",
       " Row(('Bad cards must make.', 'EXPRESS', 'Mid Atlantic', 2922, 2940, 3130, 0, 0), {'f0_': 0, 'sm_type': 1, 'cc_name': 2, '_30_days': 3, '_31_60_days': 4, '_61_90_days': 5, '_91_120_days': 6, '_greater_than_120_days': 7}),\n",
       " Row(('Bad cards must make.', 'EXPRESS', 'NY Metro', 2912, 3046, 2978, 0, 0), {'f0_': 0, 'sm_type': 1, 'cc_name': 2, '_30_days': 3, '_31_60_days': 4, '_61_90_days': 5, '_91_120_days': 6, '_greater_than_120_days': 7}),\n",
       " Row(('Bad cards must make.', 'EXPRESS', 'North Midwest', 2820, 3096, 3088, 0, 0), {'f0_': 0, 'sm_type': 1, 'cc_name': 2, '_30_days': 3, '_31_60_days': 4, '_61_90_days': 5, '_91_120_days': 6, '_greater_than_120_days': 7}),\n",
       " Row(('Bad cards must make.', 'EXPRESS', 'Pacific Northwest', 2980, 3074, 2932, 0, 0), {'f0_': 0, 'sm_type': 1, 'cc_name': 2, '_30_days': 3, '_31_60_days': 4, '_61_90_days': 5, '_91_120_days': 6, '_greater_than_120_days': 7}),\n",
       " Row(('Bad cards must make.', 'LIBRARY', 'California', 2222, 2196, 2382, 0, 0), {'f0_': 0, 'sm_type': 1, 'cc_name': 2, '_30_days': 3, '_31_60_days': 4, '_61_90_days': 5, '_91_120_days': 6, '_greater_than_120_days': 7}),\n",
       " Row(('Bad cards must make.', 'LIBRARY', 'Mid Atlantic', 2252, 2372, 2262, 0, 0), {'f0_': 0, 'sm_type': 1, 'cc_name': 2, '_30_days': 3, '_31_60_days': 4, '_61_90_days': 5, '_91_120_days': 6, '_greater_than_120_days': 7}),\n",
       " Row(('Bad cards must make.', 'LIBRARY', 'NY Metro', 2226, 2370, 2254, 0, 0), {'f0_': 0, 'sm_type': 1, 'cc_name': 2, '_30_days': 3, '_31_60_days': 4, '_61_90_days': 5, '_91_120_days': 6, '_greater_than_120_days': 7}),\n",
       " Row(('Bad cards must make.', 'LIBRARY', 'North Midwest', 2082, 2220, 2204, 0, 0), {'f0_': 0, 'sm_type': 1, 'cc_name': 2, '_30_days': 3, '_31_60_days': 4, '_61_90_days': 5, '_91_120_days': 6, '_greater_than_120_days': 7}),\n",
       " Row(('Bad cards must make.', 'LIBRARY', 'Pacific Northwest', 2186, 2330, 2246, 0, 0), {'f0_': 0, 'sm_type': 1, 'cc_name': 2, '_30_days': 3, '_31_60_days': 4, '_61_90_days': 5, '_91_120_days': 6, '_greater_than_120_days': 7}),\n",
       " Row(('Bad cards must make.', 'NEXT DAY', 'California', 2992, 3070, 3054, 0, 0), {'f0_': 0, 'sm_type': 1, 'cc_name': 2, '_30_days': 3, '_31_60_days': 4, '_61_90_days': 5, '_91_120_days': 6, '_greater_than_120_days': 7}),\n",
       " Row(('Bad cards must make.', 'NEXT DAY', 'Mid Atlantic', 3038, 3052, 3074, 0, 0), {'f0_': 0, 'sm_type': 1, 'cc_name': 2, '_30_days': 3, '_31_60_days': 4, '_61_90_days': 5, '_91_120_days': 6, '_greater_than_120_days': 7}),\n",
       " Row(('Bad cards must make.', 'NEXT DAY', 'NY Metro', 2984, 3038, 3078, 0, 0), {'f0_': 0, 'sm_type': 1, 'cc_name': 2, '_30_days': 3, '_31_60_days': 4, '_61_90_days': 5, '_91_120_days': 6, '_greater_than_120_days': 7}),\n",
       " Row(('Bad cards must make.', 'NEXT DAY', 'North Midwest', 2814, 2922, 3204, 0, 0), {'f0_': 0, 'sm_type': 1, 'cc_name': 2, '_30_days': 3, '_31_60_days': 4, '_61_90_days': 5, '_91_120_days': 6, '_greater_than_120_days': 7}),\n",
       " Row(('Bad cards must make.', 'NEXT DAY', 'Pacific Northwest', 2824, 3010, 3134, 0, 0), {'f0_': 0, 'sm_type': 1, 'cc_name': 2, '_30_days': 3, '_31_60_days': 4, '_61_90_days': 5, '_91_120_days': 6, '_greater_than_120_days': 7}),\n",
       " Row(('Bad cards must make.', 'OVERNIGHT', 'California', 2190, 2388, 2222, 0, 0), {'f0_': 0, 'sm_type': 1, 'cc_name': 2, '_30_days': 3, '_31_60_days': 4, '_61_90_days': 5, '_91_120_days': 6, '_greater_than_120_days': 7}),\n",
       " Row(('Bad cards must make.', 'OVERNIGHT', 'Mid Atlantic', 2176, 2338, 2242, 0, 0), {'f0_': 0, 'sm_type': 1, 'cc_name': 2, '_30_days': 3, '_31_60_days': 4, '_61_90_days': 5, '_91_120_days': 6, '_greater_than_120_days': 7}),\n",
       " Row(('Bad cards must make.', 'OVERNIGHT', 'NY Metro', 2274, 2384, 2378, 0, 0), {'f0_': 0, 'sm_type': 1, 'cc_name': 2, '_30_days': 3, '_31_60_days': 4, '_61_90_days': 5, '_91_120_days': 6, '_greater_than_120_days': 7}),\n",
       " Row(('Bad cards must make.', 'OVERNIGHT', 'North Midwest', 2128, 2240, 2234, 0, 0), {'f0_': 0, 'sm_type': 1, 'cc_name': 2, '_30_days': 3, '_31_60_days': 4, '_61_90_days': 5, '_91_120_days': 6, '_greater_than_120_days': 7}),\n",
       " Row(('Bad cards must make.', 'OVERNIGHT', 'Pacific Northwest', 2196, 2314, 2408, 0, 0), {'f0_': 0, 'sm_type': 1, 'cc_name': 2, '_30_days': 3, '_31_60_days': 4, '_61_90_days': 5, '_91_120_days': 6, '_greater_than_120_days': 7}),\n",
       " Row(('Bad cards must make.', 'REGULAR', 'California', 2154, 2268, 2276, 0, 0), {'f0_': 0, 'sm_type': 1, 'cc_name': 2, '_30_days': 3, '_31_60_days': 4, '_61_90_days': 5, '_91_120_days': 6, '_greater_than_120_days': 7}),\n",
       " Row(('Bad cards must make.', 'REGULAR', 'Mid Atlantic', 2160, 2332, 2296, 0, 0), {'f0_': 0, 'sm_type': 1, 'cc_name': 2, '_30_days': 3, '_31_60_days': 4, '_61_90_days': 5, '_91_120_days': 6, '_greater_than_120_days': 7}),\n",
       " Row(('Bad cards must make.', 'REGULAR', 'NY Metro', 2204, 2404, 2232, 0, 0), {'f0_': 0, 'sm_type': 1, 'cc_name': 2, '_30_days': 3, '_31_60_days': 4, '_61_90_days': 5, '_91_120_days': 6, '_greater_than_120_days': 7}),\n",
       " Row(('Bad cards must make.', 'REGULAR', 'North Midwest', 2240, 2312, 2300, 0, 0), {'f0_': 0, 'sm_type': 1, 'cc_name': 2, '_30_days': 3, '_31_60_days': 4, '_61_90_days': 5, '_91_120_days': 6, '_greater_than_120_days': 7}),\n",
       " Row(('Bad cards must make.', 'REGULAR', 'Pacific Northwest', 2208, 2250, 2292, 0, 0), {'f0_': 0, 'sm_type': 1, 'cc_name': 2, '_30_days': 3, '_31_60_days': 4, '_61_90_days': 5, '_91_120_days': 6, '_greater_than_120_days': 7}),\n",
       " Row(('Bad cards must make.', 'TWO DAY', 'California', 2238, 2188, 2416, 0, 0), {'f0_': 0, 'sm_type': 1, 'cc_name': 2, '_30_days': 3, '_31_60_days': 4, '_61_90_days': 5, '_91_120_days': 6, '_greater_than_120_days': 7}),\n",
       " Row(('Bad cards must make.', 'TWO DAY', 'Mid Atlantic', 2334, 2376, 2334, 0, 0), {'f0_': 0, 'sm_type': 1, 'cc_name': 2, '_30_days': 3, '_31_60_days': 4, '_61_90_days': 5, '_91_120_days': 6, '_greater_than_120_days': 7}),\n",
       " Row(('Bad cards must make.', 'TWO DAY', 'NY Metro', 2154, 2310, 2328, 0, 0), {'f0_': 0, 'sm_type': 1, 'cc_name': 2, '_30_days': 3, '_31_60_days': 4, '_61_90_days': 5, '_91_120_days': 6, '_greater_than_120_days': 7}),\n",
       " Row(('Bad cards must make.', 'TWO DAY', 'North Midwest', 2262, 2206, 2314, 0, 0), {'f0_': 0, 'sm_type': 1, 'cc_name': 2, '_30_days': 3, '_31_60_days': 4, '_61_90_days': 5, '_91_120_days': 6, '_greater_than_120_days': 7}),\n",
       " Row(('Bad cards must make.', 'TWO DAY', 'Pacific Northwest', 2126, 2320, 2296, 0, 0), {'f0_': 0, 'sm_type': 1, 'cc_name': 2, '_30_days': 3, '_31_60_days': 4, '_61_90_days': 5, '_91_120_days': 6, '_greater_than_120_days': 7}),\n",
       " Row(('Conventional childr', 'EXPRESS', 'California', 2954, 3080, 2976, 0, 0), {'f0_': 0, 'sm_type': 1, 'cc_name': 2, '_30_days': 3, '_31_60_days': 4, '_61_90_days': 5, '_91_120_days': 6, '_greater_than_120_days': 7}),\n",
       " Row(('Conventional childr', 'EXPRESS', 'Mid Atlantic', 2950, 3152, 3018, 0, 0), {'f0_': 0, 'sm_type': 1, 'cc_name': 2, '_30_days': 3, '_31_60_days': 4, '_61_90_days': 5, '_91_120_days': 6, '_greater_than_120_days': 7}),\n",
       " Row(('Conventional childr', 'EXPRESS', 'NY Metro', 2944, 2994, 2912, 0, 0), {'f0_': 0, 'sm_type': 1, 'cc_name': 2, '_30_days': 3, '_31_60_days': 4, '_61_90_days': 5, '_91_120_days': 6, '_greater_than_120_days': 7}),\n",
       " Row(('Conventional childr', 'EXPRESS', 'North Midwest', 2934, 3080, 3046, 0, 0), {'f0_': 0, 'sm_type': 1, 'cc_name': 2, '_30_days': 3, '_31_60_days': 4, '_61_90_days': 5, '_91_120_days': 6, '_greater_than_120_days': 7}),\n",
       " Row(('Conventional childr', 'EXPRESS', 'Pacific Northwest', 3008, 2986, 3072, 0, 0), {'f0_': 0, 'sm_type': 1, 'cc_name': 2, '_30_days': 3, '_31_60_days': 4, '_61_90_days': 5, '_91_120_days': 6, '_greater_than_120_days': 7}),\n",
       " Row(('Conventional childr', 'LIBRARY', 'California', 2296, 2374, 2226, 0, 0), {'f0_': 0, 'sm_type': 1, 'cc_name': 2, '_30_days': 3, '_31_60_days': 4, '_61_90_days': 5, '_91_120_days': 6, '_greater_than_120_days': 7}),\n",
       " Row(('Conventional childr', 'LIBRARY', 'Mid Atlantic', 2360, 2348, 2154, 0, 0), {'f0_': 0, 'sm_type': 1, 'cc_name': 2, '_30_days': 3, '_31_60_days': 4, '_61_90_days': 5, '_91_120_days': 6, '_greater_than_120_days': 7}),\n",
       " Row(('Conventional childr', 'LIBRARY', 'NY Metro', 2068, 2254, 2272, 0, 0), {'f0_': 0, 'sm_type': 1, 'cc_name': 2, '_30_days': 3, '_31_60_days': 4, '_61_90_days': 5, '_91_120_days': 6, '_greater_than_120_days': 7}),\n",
       " Row(('Conventional childr', 'LIBRARY', 'North Midwest', 2270, 2316, 2170, 0, 0), {'f0_': 0, 'sm_type': 1, 'cc_name': 2, '_30_days': 3, '_31_60_days': 4, '_61_90_days': 5, '_91_120_days': 6, '_greater_than_120_days': 7}),\n",
       " Row(('Conventional childr', 'LIBRARY', 'Pacific Northwest', 2244, 2192, 2368, 0, 0), {'f0_': 0, 'sm_type': 1, 'cc_name': 2, '_30_days': 3, '_31_60_days': 4, '_61_90_days': 5, '_91_120_days': 6, '_greater_than_120_days': 7}),\n",
       " Row(('Conventional childr', 'NEXT DAY', 'California', 2862, 3096, 2954, 0, 0), {'f0_': 0, 'sm_type': 1, 'cc_name': 2, '_30_days': 3, '_31_60_days': 4, '_61_90_days': 5, '_91_120_days': 6, '_greater_than_120_days': 7}),\n",
       " Row(('Conventional childr', 'NEXT DAY', 'Mid Atlantic', 2906, 3246, 3074, 0, 0), {'f0_': 0, 'sm_type': 1, 'cc_name': 2, '_30_days': 3, '_31_60_days': 4, '_61_90_days': 5, '_91_120_days': 6, '_greater_than_120_days': 7}),\n",
       " Row(('Conventional childr', 'NEXT DAY', 'NY Metro', 2934, 3048, 3212, 0, 0), {'f0_': 0, 'sm_type': 1, 'cc_name': 2, '_30_days': 3, '_31_60_days': 4, '_61_90_days': 5, '_91_120_days': 6, '_greater_than_120_days': 7}),\n",
       " Row(('Conventional childr', 'NEXT DAY', 'North Midwest', 2916, 2898, 3174, 0, 0), {'f0_': 0, 'sm_type': 1, 'cc_name': 2, '_30_days': 3, '_31_60_days': 4, '_61_90_days': 5, '_91_120_days': 6, '_greater_than_120_days': 7}),\n",
       " Row(('Conventional childr', 'NEXT DAY', 'Pacific Northwest', 3006, 3012, 2984, 0, 0), {'f0_': 0, 'sm_type': 1, 'cc_name': 2, '_30_days': 3, '_31_60_days': 4, '_61_90_days': 5, '_91_120_days': 6, '_greater_than_120_days': 7}),\n",
       " Row(('Conventional childr', 'OVERNIGHT', 'California', 2212, 2298, 2350, 0, 0), {'f0_': 0, 'sm_type': 1, 'cc_name': 2, '_30_days': 3, '_31_60_days': 4, '_61_90_days': 5, '_91_120_days': 6, '_greater_than_120_days': 7}),\n",
       " Row(('Conventional childr', 'OVERNIGHT', 'Mid Atlantic', 2228, 2372, 2246, 0, 0), {'f0_': 0, 'sm_type': 1, 'cc_name': 2, '_30_days': 3, '_31_60_days': 4, '_61_90_days': 5, '_91_120_days': 6, '_greater_than_120_days': 7}),\n",
       " Row(('Conventional childr', 'OVERNIGHT', 'NY Metro', 2280, 2396, 2344, 0, 0), {'f0_': 0, 'sm_type': 1, 'cc_name': 2, '_30_days': 3, '_31_60_days': 4, '_61_90_days': 5, '_91_120_days': 6, '_greater_than_120_days': 7}),\n",
       " Row(('Conventional childr', 'OVERNIGHT', 'North Midwest', 2180, 2276, 2204, 0, 0), {'f0_': 0, 'sm_type': 1, 'cc_name': 2, '_30_days': 3, '_31_60_days': 4, '_61_90_days': 5, '_91_120_days': 6, '_greater_than_120_days': 7}),\n",
       " Row(('Conventional childr', 'OVERNIGHT', 'Pacific Northwest', 2328, 2252, 2394, 0, 0), {'f0_': 0, 'sm_type': 1, 'cc_name': 2, '_30_days': 3, '_31_60_days': 4, '_61_90_days': 5, '_91_120_days': 6, '_greater_than_120_days': 7}),\n",
       " Row(('Conventional childr', 'REGULAR', 'California', 2326, 2290, 2314, 0, 0), {'f0_': 0, 'sm_type': 1, 'cc_name': 2, '_30_days': 3, '_31_60_days': 4, '_61_90_days': 5, '_91_120_days': 6, '_greater_than_120_days': 7}),\n",
       " Row(('Conventional childr', 'REGULAR', 'Mid Atlantic', 2202, 2492, 2332, 0, 0), {'f0_': 0, 'sm_type': 1, 'cc_name': 2, '_30_days': 3, '_31_60_days': 4, '_61_90_days': 5, '_91_120_days': 6, '_greater_than_120_days': 7}),\n",
       " Row(('Conventional childr', 'REGULAR', 'NY Metro', 2300, 2202, 2244, 0, 0), {'f0_': 0, 'sm_type': 1, 'cc_name': 2, '_30_days': 3, '_31_60_days': 4, '_61_90_days': 5, '_91_120_days': 6, '_greater_than_120_days': 7}),\n",
       " Row(('Conventional childr', 'REGULAR', 'North Midwest', 2176, 2276, 2254, 0, 0), {'f0_': 0, 'sm_type': 1, 'cc_name': 2, '_30_days': 3, '_31_60_days': 4, '_61_90_days': 5, '_91_120_days': 6, '_greater_than_120_days': 7}),\n",
       " Row(('Conventional childr', 'REGULAR', 'Pacific Northwest', 2202, 2318, 2242, 0, 0), {'f0_': 0, 'sm_type': 1, 'cc_name': 2, '_30_days': 3, '_31_60_days': 4, '_61_90_days': 5, '_91_120_days': 6, '_greater_than_120_days': 7}),\n",
       " Row(('Conventional childr', 'TWO DAY', 'California', 2240, 2334, 2320, 0, 0), {'f0_': 0, 'sm_type': 1, 'cc_name': 2, '_30_days': 3, '_31_60_days': 4, '_61_90_days': 5, '_91_120_days': 6, '_greater_than_120_days': 7}),\n",
       " Row(('Conventional childr', 'TWO DAY', 'Mid Atlantic', 2292, 2310, 2276, 0, 0), {'f0_': 0, 'sm_type': 1, 'cc_name': 2, '_30_days': 3, '_31_60_days': 4, '_61_90_days': 5, '_91_120_days': 6, '_greater_than_120_days': 7}),\n",
       " Row(('Conventional childr', 'TWO DAY', 'NY Metro', 2170, 2326, 2284, 0, 0), {'f0_': 0, 'sm_type': 1, 'cc_name': 2, '_30_days': 3, '_31_60_days': 4, '_61_90_days': 5, '_91_120_days': 6, '_greater_than_120_days': 7}),\n",
       " Row(('Conventional childr', 'TWO DAY', 'North Midwest', 2176, 2254, 2144, 0, 0), {'f0_': 0, 'sm_type': 1, 'cc_name': 2, '_30_days': 3, '_31_60_days': 4, '_61_90_days': 5, '_91_120_days': 6, '_greater_than_120_days': 7}),\n",
       " Row(('Conventional childr', 'TWO DAY', 'Pacific Northwest', 2252, 2250, 2228, 0, 0), {'f0_': 0, 'sm_type': 1, 'cc_name': 2, '_30_days': 3, '_31_60_days': 4, '_61_90_days': 5, '_91_120_days': 6, '_greater_than_120_days': 7}),\n",
       " Row(('Doors canno', 'EXPRESS', 'California', 3122, 3064, 2998, 0, 0), {'f0_': 0, 'sm_type': 1, 'cc_name': 2, '_30_days': 3, '_31_60_days': 4, '_61_90_days': 5, '_91_120_days': 6, '_greater_than_120_days': 7}),\n",
       " Row(('Doors canno', 'EXPRESS', 'Mid Atlantic', 2990, 3046, 3002, 0, 0), {'f0_': 0, 'sm_type': 1, 'cc_name': 2, '_30_days': 3, '_31_60_days': 4, '_61_90_days': 5, '_91_120_days': 6, '_greater_than_120_days': 7}),\n",
       " Row(('Doors canno', 'EXPRESS', 'NY Metro', 3082, 3076, 2992, 0, 0), {'f0_': 0, 'sm_type': 1, 'cc_name': 2, '_30_days': 3, '_31_60_days': 4, '_61_90_days': 5, '_91_120_days': 6, '_greater_than_120_days': 7}),\n",
       " Row(('Doors canno', 'EXPRESS', 'North Midwest', 3006, 3020, 3142, 0, 0), {'f0_': 0, 'sm_type': 1, 'cc_name': 2, '_30_days': 3, '_31_60_days': 4, '_61_90_days': 5, '_91_120_days': 6, '_greater_than_120_days': 7}),\n",
       " Row(('Doors canno', 'EXPRESS', 'Pacific Northwest', 2900, 3002, 3156, 0, 0), {'f0_': 0, 'sm_type': 1, 'cc_name': 2, '_30_days': 3, '_31_60_days': 4, '_61_90_days': 5, '_91_120_days': 6, '_greater_than_120_days': 7}),\n",
       " Row(('Doors canno', 'LIBRARY', 'California', 2166, 2218, 2344, 0, 0), {'f0_': 0, 'sm_type': 1, 'cc_name': 2, '_30_days': 3, '_31_60_days': 4, '_61_90_days': 5, '_91_120_days': 6, '_greater_than_120_days': 7}),\n",
       " Row(('Doors canno', 'LIBRARY', 'Mid Atlantic', 2184, 2384, 2388, 0, 0), {'f0_': 0, 'sm_type': 1, 'cc_name': 2, '_30_days': 3, '_31_60_days': 4, '_61_90_days': 5, '_91_120_days': 6, '_greater_than_120_days': 7}),\n",
       " Row(('Doors canno', 'LIBRARY', 'NY Metro', 2158, 2336, 2380, 0, 0), {'f0_': 0, 'sm_type': 1, 'cc_name': 2, '_30_days': 3, '_31_60_days': 4, '_61_90_days': 5, '_91_120_days': 6, '_greater_than_120_days': 7}),\n",
       " Row(('Doors canno', 'LIBRARY', 'North Midwest', 2212, 2334, 2374, 0, 0), {'f0_': 0, 'sm_type': 1, 'cc_name': 2, '_30_days': 3, '_31_60_days': 4, '_61_90_days': 5, '_91_120_days': 6, '_greater_than_120_days': 7}),\n",
       " Row(('Doors canno', 'LIBRARY', 'Pacific Northwest', 2282, 2234, 2308, 0, 0), {'f0_': 0, 'sm_type': 1, 'cc_name': 2, '_30_days': 3, '_31_60_days': 4, '_61_90_days': 5, '_91_120_days': 6, '_greater_than_120_days': 7})]"
      ]
     },
     "execution_count": 244,
     "metadata": {},
     "output_type": "execute_result"
    }
   ],
   "source": [
    "n = 99\n",
    "\n",
    "query_text = ds_qgen_tpl_number(n, config.fp_ds_bq_template_dir)\n",
    "\n",
    "query_job = client.query(query_text, job_config=job_config)\n",
    "\n",
    "result = query_job.result()\n",
    "\n",
    "print(\"QUERY {} : query{}.tpl\".format(n,n))\n",
    "print(query_text)\n",
    "print(\"-\"*50)\n",
    "print(\"QUERY {} : query{}.tpl\".format(n,n))\n",
    "print(\"=\"*20, \"RESULTS\", \"=\"*20)\n",
    "list(result)"
   ]
  },
  {
   "cell_type": "code",
   "execution_count": 177,
   "metadata": {},
   "outputs": [
    {
     "ename": "SyntaxError",
     "evalue": "'break' outside loop (<ipython-input-177-6aaf1f276005>, line 1)",
     "output_type": "error",
     "traceback": [
      "\u001b[0;36m  File \u001b[0;32m\"<ipython-input-177-6aaf1f276005>\"\u001b[0;36m, line \u001b[0;32m1\u001b[0m\n\u001b[0;31m    break\u001b[0m\n\u001b[0m    ^\u001b[0m\n\u001b[0;31mSyntaxError\u001b[0m\u001b[0;31m:\u001b[0m 'break' outside loop\n"
     ]
    }
   ],
   "source": [
    "break"
   ]
  },
  {
   "cell_type": "raw",
   "metadata": {},
   "source": [
    "test_name = \"ds_01_1GB_bq_default_dev\"\n",
    "input_templates_bq = config.fp_ds_bq_template_dir\n",
    "ds_setup.tpl_bq_regex(tpl_dir=input_templates_bq, verbose=False)\n",
    "dialect = ds_setup.sqlserver_bq_defines(input_templates_bq)\n",
    "output_queries_01 = config.fp_query + config.sep + test_name\n",
    "tools.mkdir_safe(output_queries_01)\n",
    "\n",
    "std_out, err_out = ds_setup.dsqgen(directory=input_templates_bq,\n",
    "                                   output_dir=output_queries_01,\n",
    "                                   #input=input_templates_bq + config.sep + \"templates.lst\",\n",
    "                                   input=config.cwd + config.sep + \"templates.lst\",\n",
    "                                   dialect=dialect,\n",
    "                                   scale=1,\n",
    "                                   streams=1,\n",
    "                                   qualify=\"Y\")\n",
    "print(std_out)\n",
    "print(err_out)\n",
    "\n",
    "client = bigquery.Client.from_service_account_json(config.gcp_cred_file)\n",
    "job_config = bigquery.QueryJobConfig()\n",
    "job_config.default_dataset = \"tpc-benchmarking-9432.ds_2GB_1_basic\"\n",
    "\n",
    "fp = '/home/colin/code/bq_snowflake_benchmark/q/ds_01_1GB_bq_default_dev/query_0.sql'\n",
    "text = open(fp, 'r').read()\n",
    "query_job = client.query(text, job_config=job_config)\n",
    "result = query_job.result()\n",
    "\n",
    "result = query_job.result()\n",
    "\n",
    "list(result)"
   ]
  },
  {
   "cell_type": "code",
   "execution_count": null,
   "metadata": {},
   "outputs": [],
   "source": []
  }
 ],
 "metadata": {
  "kernelspec": {
   "display_name": "Python 3",
   "language": "python",
   "name": "python3"
  },
  "language_info": {
   "codemirror_mode": {
    "name": "ipython",
    "version": 3
   },
   "file_extension": ".py",
   "mimetype": "text/x-python",
   "name": "python",
   "nbconvert_exporter": "python",
   "pygments_lexer": "ipython3",
   "version": "3.8.2"
  }
 },
 "nbformat": 4,
 "nbformat_minor": 4
}
