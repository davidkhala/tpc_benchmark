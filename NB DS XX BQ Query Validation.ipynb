{
 "cells": [
  {
   "cell_type": "markdown",
   "metadata": {},
   "source": [
    "## TPC-DS BQ Query Validation"
   ]
  },
  {
   "cell_type": "code",
   "execution_count": 1,
   "metadata": {},
   "outputs": [],
   "source": [
    "from google.cloud import bigquery"
   ]
  },
  {
   "cell_type": "code",
   "execution_count": 2,
   "metadata": {},
   "outputs": [],
   "source": [
    "import ds_setup, config, tools"
   ]
  },
  {
   "cell_type": "code",
   "execution_count": 3,
   "metadata": {},
   "outputs": [],
   "source": [
    "from importlib import reload"
   ]
  },
  {
   "cell_type": "raw",
   "metadata": {},
   "source": [
    "reload(config)\n",
    "reload(ds_setup)\n",
    "reload(tools);"
   ]
  },
  {
   "cell_type": "code",
   "execution_count": 4,
   "metadata": {},
   "outputs": [],
   "source": [
    "client = bigquery.Client.from_service_account_json(config.gcp_cred_file)\n",
    "job_config = bigquery.QueryJobConfig()\n",
    "job_config.default_dataset = \"tpc-benchmarking-9432.ds_1GB_qual\"\n",
    "\n",
    "job_config.dry_run = False         # only approximate the time and cost\n",
    "job_config.use_query_cache = False  # default is True, (try to used cached results)"
   ]
  },
  {
   "cell_type": "code",
   "execution_count": 5,
   "metadata": {},
   "outputs": [],
   "source": [
    "def ds_qgen_template(n, directory, scale=1, qual=False, verbose=False):\n",
    "    \"\"\"Generate DS query text for query number n\n",
    "    \n",
    "    Parameters\n",
    "    ----------|\n",
    "    n : int, query number to generate BigQuery SQL\n",
    "    directory : str, absolute path to directory of query templates\n",
    "        to draw from for n.\n",
    "    scale : int, scale factor of db being queried\n",
    "    qual : bool, generate qualification queries in ascending order\n",
    "        \n",
    "    Returns\n",
    "    -------\n",
    "    str : BigQuery SQL query\n",
    "    \"\"\"\n",
    "    \n",
    "    if qual:\n",
    "        qual = \"Y\"\n",
    "    else:\n",
    "        qual = \"N\"\n",
    "        \n",
    "    std_out, err_out = ds_setup.dsqgen(directory=directory,\n",
    "                                       dialect=\"sqlserver_bq\",\n",
    "                                       scale=scale,\n",
    "                                       template=\"query{}.tpl\".format(n),\n",
    "                                       filter=\"Y\",  # write to std_out\n",
    "                                       qualify=qual\n",
    "                                      )\n",
    "    return std_out"
   ]
  },
  {
   "cell_type": "code",
   "execution_count": 6,
   "metadata": {},
   "outputs": [
    {
     "name": "stdout",
     "output_type": "stream",
     "text": [
      "Total Time Elapsed: 0:00:01.522000\n",
      "Bytes Processed: 70982699\n",
      "Bytes Billed: 71303168\n",
      "Head of Result:\n",
      "          i_item_id                                        i_item_desc  \\\n",
      "0  AAAAAAAAGFLDAAAA                                               None   \n",
      "1  AAAAAAAAABEDAAAA  No longer soft cameras mean select, small poli...   \n",
      "2  AAAAAAAAAFOAAAAA  National, upper principles fill relatives. Com...   \n",
      "3  AAAAAAAAAGABAAAA  Badly difficult intervals should not get today...   \n",
      "4  AAAAAAAAAKLCAAAA  Regulations go almost. Complex operations may ...   \n",
      "\n",
      "  i_category i_class  i_current_price  itemrevenue  revenueratio  \n",
      "0      Books    None            82.97      8398.00     66.798174  \n",
      "1      Books    arts             1.52      5267.75      2.635621  \n",
      "2      Books    arts             7.27      5731.18      2.867489  \n",
      "3      Books    arts             0.29     10839.39      5.423287  \n",
      "4      Books    arts            76.12      7404.76      3.704834  \n"
     ]
    }
   ],
   "source": [
    "n = 98\n",
    "\n",
    "query_text = ds_qgen_template(n, config.fp_ds_bq_template_dir, scale=1, qual=False)\n",
    "\n",
    "query_job = client.query(query_text, job_config=job_config)\n",
    "\n",
    "result = query_job.result()\n",
    "df = result.to_dataframe()\n",
    "\n",
    "t0 = query_job.started\n",
    "t1 = query_job.ended\n",
    "dt = t1 - t0\n",
    "bytes_processed = query_job.total_bytes_processed\n",
    "bytes_billed = query_job.total_bytes_billed\n",
    "\n",
    "print(\"Total Time Elapsed: {}\".format(dt))\n",
    "print(\"Bytes Processed: {}\".format(bytes_processed))\n",
    "print(\"Bytes Billed: {}\".format(bytes_billed))\n",
    "print(\"Head of Result:\")\n",
    "print(df.head())"
   ]
  },
  {
   "cell_type": "code",
   "execution_count": null,
   "metadata": {},
   "outputs": [],
   "source": []
  },
  {
   "cell_type": "code",
   "execution_count": 7,
   "metadata": {},
   "outputs": [
    {
     "ename": "SyntaxError",
     "evalue": "'break' outside loop (<ipython-input-7-6aaf1f276005>, line 1)",
     "output_type": "error",
     "traceback": [
      "\u001b[0;36m  File \u001b[0;32m\"<ipython-input-7-6aaf1f276005>\"\u001b[0;36m, line \u001b[0;32m1\u001b[0m\n\u001b[0;31m    break\u001b[0m\n\u001b[0m    ^\u001b[0m\n\u001b[0;31mSyntaxError\u001b[0m\u001b[0;31m:\u001b[0m 'break' outside loop\n"
     ]
    }
   ],
   "source": [
    "break"
   ]
  },
  {
   "cell_type": "code",
   "execution_count": null,
   "metadata": {},
   "outputs": [],
   "source": [
    "def ds_qgen_stream(tpl_directory, out_directory, scale=1, streams=10):\n",
    "    \"\"\"Generate DS query streams\n",
    "    \n",
    "    Parameters\n",
    "    ----------\n",
    "    tpl_directory : str, absolute path to directory of query templates\n",
    "    out_directory : str, absolute path to directory to output query streams\n",
    "    scale : int, scale factor of db being queried. Defaults to 1.\n",
    "    streams : int, number of query streams to generate. Defaults to 10.\n",
    "    \n",
    "    Returns\n",
    "    -------\n",
    "    str : BigQuery SQL query\n",
    "    \"\"\"\n",
    "    std_out, err_out = ds_setup.dsqgen(directory=tpl_directory,  # the whole directory will be used\n",
    "                                       input=tpl_directory + config.sep + \"templates.lst\",\n",
    "                                       output_dir=out_directory,\n",
    "                                       dialect=\"sqlserver_bq\",\n",
    "                                       scale=scale,\n",
    "                                       streams=streams)\n",
    "    return std_out, err_out"
   ]
  },
  {
   "cell_type": "code",
   "execution_count": null,
   "metadata": {},
   "outputs": [],
   "source": [
    "test_name = \"bq_ds_1GB_01_default\""
   ]
  },
  {
   "cell_type": "code",
   "execution_count": null,
   "metadata": {},
   "outputs": [],
   "source": [
    "tpl_dir = config.fp_ds_bq_template_dir\n",
    "tpl_dir"
   ]
  },
  {
   "cell_type": "code",
   "execution_count": null,
   "metadata": {},
   "outputs": [],
   "source": [
    "out_dir = config.fp_query + config.sep + test_name\n",
    "tools.mkdir_safe(out_dir)\n",
    "out_dir"
   ]
  },
  {
   "cell_type": "code",
   "execution_count": null,
   "metadata": {},
   "outputs": [],
   "source": [
    "std_out, err_out = ds_qgen_stream(tpl_directory=tpl_dir,\n",
    "                                  out_directory=out_dir,\n",
    "                                  scale=1,\n",
    "                                  streams=10)"
   ]
  },
  {
   "cell_type": "code",
   "execution_count": null,
   "metadata": {},
   "outputs": [],
   "source": [
    "std_out"
   ]
  },
  {
   "cell_type": "code",
   "execution_count": null,
   "metadata": {},
   "outputs": [],
   "source": [
    "print(err_out)"
   ]
  },
  {
   "cell_type": "code",
   "execution_count": null,
   "metadata": {},
   "outputs": [],
   "source": [
    "client = bigquery.Client.from_service_account_json(config.gcp_cred_file)\n",
    "job_config = bigquery.QueryJobConfig()\n",
    "job_config.default_dataset = \"tpc-benchmarking-9432.ds_1GB_qual\""
   ]
  },
  {
   "cell_type": "code",
   "execution_count": null,
   "metadata": {},
   "outputs": [],
   "source": [
    "fp = '/home/colin/code/bq_snowflake_benchmark/q/bq_ds_1GB_01_default/query_0.sql'\n",
    "text = open(fp, 'r').read()\n",
    "query_job = client.query(text, job_config=job_config)\n",
    "result = query_job.result()\n",
    "\n",
    "result = query_job.result()\n",
    "\n",
    "list(result)"
   ]
  },
  {
   "cell_type": "code",
   "execution_count": null,
   "metadata": {},
   "outputs": [],
   "source": []
  }
 ],
 "metadata": {
  "kernelspec": {
   "display_name": "Python 3",
   "language": "python",
   "name": "python3"
  },
  "language_info": {
   "codemirror_mode": {
    "name": "ipython",
    "version": 3
   },
   "file_extension": ".py",
   "mimetype": "text/x-python",
   "name": "python",
   "nbconvert_exporter": "python",
   "pygments_lexer": "ipython3",
   "version": "3.8.2"
  }
 },
 "nbformat": 4,
 "nbformat_minor": 4
}
