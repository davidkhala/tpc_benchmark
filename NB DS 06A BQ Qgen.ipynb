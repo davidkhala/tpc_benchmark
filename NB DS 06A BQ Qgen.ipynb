{
 "cells": [
  {
   "cell_type": "markdown",
   "metadata": {},
   "source": [
    "## TPC-DS Query Generation  "
   ]
  },
  {
   "cell_type": "markdown",
   "metadata": {},
   "source": [
    "TPC-DS generates queries from template SQL files.  These files are compiled by the `dsqgen` program into executable SQL for the system under test (SUT) based on files in `/query_templates/`, specfically, `sqlserver.tpl` for sql configuration and `queryX.tpl` where X is 1-99 for the format of each query.  The SQL output is ANSI compliant SQL.  The manual steps are as follows:  \n",
    "1. NB DS 01 Setup also copies all template files into `/tpl` where three copies are made: `/tpl/ansi_gen/`, `/tpl/bq_gen` and `/tpl/sf_gen`\n",
    "1. Using the default SQL templates, `ansi_gen`, queries are compiled into `/q/ansi_ds`\n",
    "1. The default `/tpl/bq_gen/sqlserver.tpl` is rewritten to `/tpl/bq_gen/sqlserver_bq.tpl`\n",
    "1. The templates in `/tpl/bq_gen/` are modified with regex to make them BigQuery syntax\n",
    "1. MANUAL: The directory `/tpl/bq_gen` is copied and renamed to `/tpl/bq_ds`\n",
    "1. MANUAL: The contents of query1.tpl through query99.tpl are edited by hand, compiled with `dsqgen` (see NB DS XX BQ Query Validation) and verified to run on BigQuery.\n",
    "1. `dsqgen` is run on the entire set of 1-99 queries to create a benchmark stream (i.e. 1-10, see spec Appendix D for query order of each stream)."
   ]
  },
  {
   "cell_type": "code",
   "execution_count": 1,
   "metadata": {},
   "outputs": [],
   "source": [
    "import ds_setup, config, tools"
   ]
  },
  {
   "cell_type": "markdown",
   "metadata": {},
   "source": [
    "### 00. ANSI Default Queries  \n",
    "This is the default output and will not run correctly on BigQuery or Snowflake.  The reason we generate this output is for future reference when comparing SQL edits and performance.\n",
    "\n",
    "scale factor: 1  \n",
    "dialect: ANSI SQL  \n",
    "templates: /tpl/ds_ansi  \n",
    "output: /q/ds_00_1GB_default_ansi"
   ]
  },
  {
   "cell_type": "code",
   "execution_count": 2,
   "metadata": {},
   "outputs": [
    {
     "data": {
      "text/plain": [
       "'/home/colin/code/bq_snowflake_benchmark/tpl/ansi_ds_gen'"
      ]
     },
     "execution_count": 2,
     "metadata": {},
     "output_type": "execute_result"
    }
   ],
   "source": [
    "test_name = \"ansi_ds\"\n",
    "input_templates = config.fp_ds_ansi_gen_template_dir\n",
    "input_templates"
   ]
  },
  {
   "cell_type": "code",
   "execution_count": 3,
   "metadata": {},
   "outputs": [
    {
     "data": {
      "text/plain": [
       "'/home/colin/code/bq_snowflake_benchmark/q/ansi_ds'"
      ]
     },
     "execution_count": 3,
     "metadata": {},
     "output_type": "execute_result"
    }
   ],
   "source": [
    "output_queries = config.fp_query + config.sep + test_name\n",
    "tools.mkdir_safe(output_queries)\n",
    "output_queries"
   ]
  },
  {
   "cell_type": "code",
   "execution_count": 4,
   "metadata": {},
   "outputs": [
    {
     "name": "stdout",
     "output_type": "stream",
     "text": [
      "\n",
      "qgen2 Query Generator (Version 2.11.0)\n",
      "Copyright Transaction Processing Performance Council (TPC) 2001 - 2019\n",
      "Warning: This scale factor is valid for QUALIFICATION ONLY\n",
      "\n"
     ]
    }
   ],
   "source": [
    "std_out, err_out = ds_setup.dsqgen(directory=input_templates,\n",
    "                                   output_dir=output_queries,\n",
    "                                   input=input_templates + config.sep + \"templates.lst\",\n",
    "                                   dialect=\"sqlserver\",\n",
    "                                   scale=1,\n",
    "                                   streams=10,\n",
    "                                   qualify='Y')\n",
    "print(std_out)\n",
    "print(err_out)"
   ]
  },
  {
   "cell_type": "markdown",
   "metadata": {},
   "source": [
    "### 01. BigQuery Qualification Queries  \n",
    "Output a copy of the queries that should run on BigQuery.  These queries come from the template files in `/tpl/bq_ds` which have been manually edited to compile to BigQuery SQL.  No optimization is done, the intention of these queries is to naively convert the source TPC-DS queries as faithfully as possible.\n",
    "\n",
    "As the `qualify` flag is set, these queries will be populated with values that should produce known output on the 1GB scale factore dataset.  The answers are in `/answer_sets/` and are used to evaluate if the database has been loaded correctly.\n",
    "\n",
    "scale factor: 1  \n",
    "dialect: BigQuery SQL  \n",
    "templates: /tpl/bq_ds  \n",
    "output: /q/bq_ds_1GB_qual  "
   ]
  },
  {
   "cell_type": "code",
   "execution_count": 5,
   "metadata": {},
   "outputs": [],
   "source": [
    "test_name = \"bq_ds_1GB_00_qual\""
   ]
  },
  {
   "cell_type": "code",
   "execution_count": 6,
   "metadata": {},
   "outputs": [],
   "source": [
    "dialect = \"sqlserver_bq\""
   ]
  },
  {
   "cell_type": "code",
   "execution_count": 7,
   "metadata": {},
   "outputs": [
    {
     "data": {
      "text/plain": [
       "'/home/colin/code/bq_snowflake_benchmark/tpl/bq_ds'"
      ]
     },
     "execution_count": 7,
     "metadata": {},
     "output_type": "execute_result"
    }
   ],
   "source": [
    "input_templates_bq = config.fp_ds_bq_template_dir\n",
    "input_templates_bq"
   ]
  },
  {
   "cell_type": "code",
   "execution_count": 8,
   "metadata": {},
   "outputs": [
    {
     "data": {
      "text/plain": [
       "'/home/colin/code/bq_snowflake_benchmark/q/bq_ds_1GB_00_qual'"
      ]
     },
     "execution_count": 8,
     "metadata": {},
     "output_type": "execute_result"
    }
   ],
   "source": [
    "output_queries = config.fp_query + config.sep + test_name\n",
    "tools.mkdir_safe(output_queries)\n",
    "output_queries"
   ]
  },
  {
   "cell_type": "code",
   "execution_count": 9,
   "metadata": {},
   "outputs": [
    {
     "name": "stdout",
     "output_type": "stream",
     "text": [
      "\n",
      "qgen2 Query Generator (Version 2.11.0)\n",
      "Copyright Transaction Processing Performance Council (TPC) 2001 - 2019\n",
      "Warning: This scale factor is valid for QUALIFICATION ONLY\n",
      "\n"
     ]
    }
   ],
   "source": [
    "std_out, err_out = ds_setup.dsqgen(directory=input_templates_bq,\n",
    "                                   output_dir=output_queries,\n",
    "                                   input=input_templates + config.sep + \"templates.lst\",\n",
    "                                   dialect=dialect,\n",
    "                                   scale=1,\n",
    "                                   streams=10,\n",
    "                                   qualify=\"Y\"  # qualify only for 1GB\n",
    "                                  )\n",
    "print(std_out)\n",
    "print(err_out)"
   ]
  },
  {
   "cell_type": "markdown",
   "metadata": {},
   "source": [
    "### 02. BigQuery 100GB Default Queries \n",
    "Output copy of the queries that should run on BigQuery.  These queries come from the template files in `/tpl/bq_ds` which have been manually edited to compile to BigQuery SQL.  No optimization is done, the intention of these queries is to naively convert the source TPC-DS queries to run on BigQuery as faithfully as possible.\n",
    "\n",
    "scale factor: 100  \n",
    "dialect: BigQuery SQL  \n",
    "templates: /tpl/bq_ds  \n",
    "output: /q/bq_ds_100GB_01_default"
   ]
  },
  {
   "cell_type": "code",
   "execution_count": 10,
   "metadata": {},
   "outputs": [],
   "source": [
    "test_name = \"bq_ds_100GB_01_default\""
   ]
  },
  {
   "cell_type": "code",
   "execution_count": 11,
   "metadata": {},
   "outputs": [],
   "source": [
    "dialect = \"sqlserver_bq\""
   ]
  },
  {
   "cell_type": "code",
   "execution_count": 12,
   "metadata": {},
   "outputs": [
    {
     "data": {
      "text/plain": [
       "'/home/colin/code/bq_snowflake_benchmark/tpl/bq_ds'"
      ]
     },
     "execution_count": 12,
     "metadata": {},
     "output_type": "execute_result"
    }
   ],
   "source": [
    "input_templates_bq = config.fp_ds_bq_template_dir\n",
    "input_templates_bq"
   ]
  },
  {
   "cell_type": "code",
   "execution_count": 13,
   "metadata": {},
   "outputs": [
    {
     "data": {
      "text/plain": [
       "'/home/colin/code/bq_snowflake_benchmark/q/bq_ds_100GB_01_default'"
      ]
     },
     "execution_count": 13,
     "metadata": {},
     "output_type": "execute_result"
    }
   ],
   "source": [
    "output_queries = config.fp_query + config.sep + test_name\n",
    "tools.mkdir_safe(output_queries)\n",
    "output_queries"
   ]
  },
  {
   "cell_type": "code",
   "execution_count": 14,
   "metadata": {},
   "outputs": [
    {
     "name": "stdout",
     "output_type": "stream",
     "text": [
      "\n",
      "qgen2 Query Generator (Version 2.11.0)\n",
      "Copyright Transaction Processing Performance Council (TPC) 2001 - 2019\n",
      "Warning: Selected scale factor is NOT valid for result publication\n",
      "\n"
     ]
    }
   ],
   "source": [
    "std_out, err_out = ds_setup.dsqgen(directory=input_templates_bq,\n",
    "                                   output_dir=output_queries,\n",
    "                                   input=input_templates + config.sep + \"templates.lst\",\n",
    "                                   dialect=dialect,\n",
    "                                   scale=100,\n",
    "                                   streams=10)\n",
    "print(std_out)\n",
    "print(err_out)"
   ]
  },
  {
   "cell_type": "markdown",
   "metadata": {},
   "source": [
    "### 03. BigQuery 1000GB/1TB Default Queries \n",
    "Output copy of the queries that should run on BigQuery.  These queries come from the template files in `/tpl/bq_ds` which have been manually edited to compile to BigQuery SQL.  No optimization is done, the intention of these queries is to naively convert the source TPC-DS queries to run on BigQuery as faithfully as possible.\n",
    "\n",
    "scale factor: 1000  \n",
    "dialect: BigQuery SQL  \n",
    "templates: /tpl/bq_ds  \n",
    "output: /q/bq_ds_1000GB_01_default"
   ]
  },
  {
   "cell_type": "code",
   "execution_count": 15,
   "metadata": {},
   "outputs": [],
   "source": [
    "test_name = \"bq_ds_1000GB_01_default\""
   ]
  },
  {
   "cell_type": "code",
   "execution_count": 16,
   "metadata": {},
   "outputs": [],
   "source": [
    "dialect = \"sqlserver_bq\""
   ]
  },
  {
   "cell_type": "code",
   "execution_count": 17,
   "metadata": {},
   "outputs": [
    {
     "data": {
      "text/plain": [
       "'/home/colin/code/bq_snowflake_benchmark/tpl/bq_ds'"
      ]
     },
     "execution_count": 17,
     "metadata": {},
     "output_type": "execute_result"
    }
   ],
   "source": [
    "input_templates_bq = config.fp_ds_bq_template_dir\n",
    "input_templates_bq"
   ]
  },
  {
   "cell_type": "code",
   "execution_count": 18,
   "metadata": {},
   "outputs": [
    {
     "data": {
      "text/plain": [
       "'/home/colin/code/bq_snowflake_benchmark/q/bq_ds_1000GB_01_default'"
      ]
     },
     "execution_count": 18,
     "metadata": {},
     "output_type": "execute_result"
    }
   ],
   "source": [
    "output_queries = config.fp_query + config.sep + test_name\n",
    "tools.mkdir_safe(output_queries)\n",
    "output_queries"
   ]
  },
  {
   "cell_type": "code",
   "execution_count": 19,
   "metadata": {},
   "outputs": [
    {
     "name": "stdout",
     "output_type": "stream",
     "text": [
      "\n",
      "qgen2 Query Generator (Version 2.11.0)\n",
      "Copyright Transaction Processing Performance Council (TPC) 2001 - 2019\n",
      "Warning: Selected scale factor is NOT valid for result publication\n",
      "\n"
     ]
    }
   ],
   "source": [
    "std_out, err_out = ds_setup.dsqgen(directory=input_templates_bq,\n",
    "                                   output_dir=output_queries,\n",
    "                                   input=input_templates + config.sep + \"templates.lst\",\n",
    "                                   dialect=dialect,\n",
    "                                   scale=100,\n",
    "                                   streams=10)\n",
    "print(std_out)\n",
    "print(err_out)"
   ]
  },
  {
   "cell_type": "markdown",
   "metadata": {},
   "source": [
    "### 04. BigQuery 10000GB/10TB Default Queries \n",
    "Output copy of the queries that should run on BigQuery.  These queries come from the template files in `/tpl/bq_ds` which have been manually edited to compile to BigQuery SQL.  No optimization is done, the intention of these queries is to naively convert the source TPC-DS queries to run on BigQuery as faithfully as possible.\n",
    "\n",
    "scale factor: 10000  \n",
    "dialect: BigQuery SQL  \n",
    "templates: /tpl/bq_ds  \n",
    "output: /q/bq_ds_10000GB_01_default"
   ]
  },
  {
   "cell_type": "code",
   "execution_count": 20,
   "metadata": {},
   "outputs": [],
   "source": [
    "test_name = \"bq_ds_10000GB_01_default\""
   ]
  },
  {
   "cell_type": "code",
   "execution_count": 21,
   "metadata": {},
   "outputs": [],
   "source": [
    "dialect = \"sqlserver_bq\""
   ]
  },
  {
   "cell_type": "code",
   "execution_count": 22,
   "metadata": {},
   "outputs": [
    {
     "data": {
      "text/plain": [
       "'/home/colin/code/bq_snowflake_benchmark/tpl/bq_ds'"
      ]
     },
     "execution_count": 22,
     "metadata": {},
     "output_type": "execute_result"
    }
   ],
   "source": [
    "input_templates_bq = config.fp_ds_bq_template_dir\n",
    "input_templates_bq"
   ]
  },
  {
   "cell_type": "code",
   "execution_count": 23,
   "metadata": {},
   "outputs": [
    {
     "data": {
      "text/plain": [
       "'/home/colin/code/bq_snowflake_benchmark/q/bq_ds_10000GB_01_default'"
      ]
     },
     "execution_count": 23,
     "metadata": {},
     "output_type": "execute_result"
    }
   ],
   "source": [
    "output_queries = config.fp_query + config.sep + test_name\n",
    "tools.mkdir_safe(output_queries)\n",
    "output_queries"
   ]
  },
  {
   "cell_type": "code",
   "execution_count": 24,
   "metadata": {},
   "outputs": [
    {
     "name": "stdout",
     "output_type": "stream",
     "text": [
      "\n",
      "qgen2 Query Generator (Version 2.11.0)\n",
      "Copyright Transaction Processing Performance Council (TPC) 2001 - 2019\n",
      "Warning: Selected scale factor is NOT valid for result publication\n",
      "\n"
     ]
    }
   ],
   "source": [
    "std_out, err_out = ds_setup.dsqgen(directory=input_templates_bq,\n",
    "                                   output_dir=output_queries,\n",
    "                                   input=input_templates + config.sep + \"templates.lst\",\n",
    "                                   dialect=dialect,\n",
    "                                   scale=100,\n",
    "                                   streams=10)\n",
    "print(std_out)\n",
    "print(err_out)"
   ]
  },
  {
   "cell_type": "code",
   "execution_count": null,
   "metadata": {},
   "outputs": [],
   "source": []
  }
 ],
 "metadata": {
  "kernelspec": {
   "display_name": "Python 3",
   "language": "python",
   "name": "python3"
  },
  "language_info": {
   "codemirror_mode": {
    "name": "ipython",
    "version": 3
   },
   "file_extension": ".py",
   "mimetype": "text/x-python",
   "name": "python",
   "nbconvert_exporter": "python",
   "pygments_lexer": "ipython3",
   "version": "3.8.2"
  }
 },
 "nbformat": 4,
 "nbformat_minor": 4
}
