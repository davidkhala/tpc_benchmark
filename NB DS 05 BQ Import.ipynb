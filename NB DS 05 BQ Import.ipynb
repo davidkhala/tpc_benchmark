{
 "cells": [
  {
   "cell_type": "markdown",
   "metadata": {},
   "source": [
    "## TPC-DS BigQuery Import  \n",
    "Import data from GCS to a previously created BigQuery dataset"
   ]
  },
  {
   "cell_type": "code",
   "execution_count": 1,
   "metadata": {},
   "outputs": [],
   "source": [
    "import config, schema, bq, load"
   ]
  },
  {
   "cell_type": "code",
   "execution_count": 2,
   "metadata": {},
   "outputs": [],
   "source": [
    "import pandas as pd\n",
    "import matplotlib.pyplot as plt"
   ]
  },
  {
   "cell_type": "code",
   "execution_count": 3,
   "metadata": {},
   "outputs": [],
   "source": [
    "pd.set_option(\"display.max_rows\", 1000)"
   ]
  },
  {
   "cell_type": "markdown",
   "metadata": {},
   "source": [
    "## 00. Qualification 1GB"
   ]
  },
  {
   "cell_type": "markdown",
   "metadata": {},
   "source": [
    "### 00.A Create Dataset for Upload"
   ]
  },
  {
   "cell_type": "code",
   "execution_count": 4,
   "metadata": {},
   "outputs": [],
   "source": [
    "dataset_name = 'ds_1GB_qual'"
   ]
  },
  {
   "cell_type": "code",
   "execution_count": 5,
   "metadata": {},
   "outputs": [
    {
     "data": {
      "text/plain": [
       "Dataset(DatasetReference('tpc-benchmarking-9432', 'ds_1GB_qual'))"
      ]
     },
     "execution_count": 5,
     "metadata": {},
     "output_type": "execute_result"
    }
   ],
   "source": [
    "bq.create_dataset(dataset_name=dataset_name)"
   ]
  },
  {
   "cell_type": "markdown",
   "metadata": {},
   "source": [
    "### 00.B Create BigQuery Schema to Upload To"
   ]
  },
  {
   "cell_type": "code",
   "execution_count": 6,
   "metadata": {},
   "outputs": [],
   "source": [
    "schema_name = \"bq_ds_0\""
   ]
  },
  {
   "cell_type": "code",
   "execution_count": 7,
   "metadata": {},
   "outputs": [],
   "source": [
    "bq.create_schema(schema_file=config.fp_schema + config.sep + schema_name + \".ddl\",\n",
    "                 dataset=dataset_name)"
   ]
  },
  {
   "cell_type": "code",
   "execution_count": 8,
   "metadata": {},
   "outputs": [],
   "source": [
    "# set n to about 5, high numbers run afoul of BQ's upload limits\n",
    "# i.e. 403 - rateLimitExceeded\n",
    "# https://cloud.google.com/bigquery/docs/error-messages\n",
    "u = load.BQPooledUpload(dataset_name=dataset_name,\n",
    "                        test=\"ds\", scale=1, n=5)\n"
   ]
  },
  {
   "cell_type": "markdown",
   "metadata": {},
   "source": [
    "### 00.C Upload from GCS to BigQuery"
   ]
  },
  {
   "cell_type": "code",
   "execution_count": 9,
   "metadata": {},
   "outputs": [],
   "source": [
    "# Setting this to True will print out status during parallel pipeline loading\n",
    "u.verbose = False"
   ]
  },
  {
   "cell_type": "code",
   "execution_count": 10,
   "metadata": {},
   "outputs": [],
   "source": [
    "results = u.pipeline()"
   ]
  },
  {
   "cell_type": "code",
   "execution_count": 11,
   "metadata": {},
   "outputs": [
    {
     "data": {
      "text/plain": [
       "[None, None, None, None, None]"
      ]
     },
     "execution_count": 11,
     "metadata": {},
     "output_type": "execute_result"
    }
   ],
   "source": [
    "a = list(results)\n",
    "a"
   ]
  },
  {
   "cell_type": "code",
   "execution_count": 12,
   "metadata": {},
   "outputs": [],
   "source": [
    "dfx = pd.concat(u.up_data)\n",
    "dfx.sort_index(inplace=True)"
   ]
  },
  {
   "cell_type": "code",
   "execution_count": 13,
   "metadata": {},
   "outputs": [
    {
     "data": {
      "image/png": "[encoded data removed]",
      "text/plain": [
       "<Figure size 432x288 with 1 Axes>"
      ]
     },
     "metadata": {
      "needs_background": "light"
     },
     "output_type": "display_data"
    }
   ],
   "source": [
    "plt.plot(u.df.index, '+',\n",
    "         markersize=10, \n",
    "         markerfacecolor=None,\n",
    "         markeredgecolor='blue', label=\"queued\");\n",
    "plt.plot(dfx.index, 'x',\n",
    "         markersize=10, \n",
    "         markerfacecolor=None,\n",
    "         markeredgecolor='green', label=\"uploaded\");\n",
    "plt.legend();"
   ]
  },
  {
   "cell_type": "code",
   "execution_count": 14,
   "metadata": {},
   "outputs": [
    {
     "data": {
      "text/html": [
       "<div>\n",
       "<style scoped>\n",
       "    .dataframe tbody tr th:only-of-type {\n",
       "        vertical-align: middle;\n",
       "    }\n",
       "\n",
       "    .dataframe tbody tr th {\n",
       "        vertical-align: top;\n",
       "    }\n",
       "\n",
       "    .dataframe thead th {\n",
       "        text-align: right;\n",
       "    }\n",
       "</style>\n",
       "<table border=\"1\" class=\"dataframe\">\n",
       "  <thead>\n",
       "    <tr style=\"text-align: right;\">\n",
       "      <th></th>\n",
       "      <th>chunk_name</th>\n",
       "      <th>url</th>\n",
       "      <th>size_bytes</th>\n",
       "      <th>uri</th>\n",
       "      <th>test</th>\n",
       "      <th>scale</th>\n",
       "      <th>table</th>\n",
       "      <th>n</th>\n",
       "      <th>t0</th>\n",
       "      <th>t1</th>\n",
       "      <th>done</th>\n",
       "      <th>file_n</th>\n",
       "      <th>dt</th>\n",
       "      <th>dt_s</th>\n",
       "      <th>size_megabytes</th>\n",
       "      <th>size_gigabytes</th>\n",
       "      <th>MB/s</th>\n",
       "      <th>GB/s</th>\n",
       "    </tr>\n",
       "  </thead>\n",
       "  <tbody>\n",
       "    <tr>\n",
       "      <th>0</th>\n",
       "      <td>ds_1GB_call_center_1_12.dat</td>\n",
       "      <td>https://storage.googleapis.com/tpc-benchmark-5...</td>\n",
       "      <td>1885</td>\n",
       "      <td>gs://tpc-benchmark-5947/ds_1GB_call_center_1_1...</td>\n",
       "      <td>ds</td>\n",
       "      <td>1GB</td>\n",
       "      <td>call_center</td>\n",
       "      <td>1</td>\n",
       "      <td>2020-04-19 22:20:19.215834</td>\n",
       "      <td>2020-04-19 22:20:22.838354</td>\n",
       "      <td>True</td>\n",
       "      <td>0</td>\n",
       "      <td>00:00:03.622520</td>\n",
       "      <td>3.622520</td>\n",
       "      <td>0.001798</td>\n",
       "      <td>0.000002</td>\n",
       "      <td>0.000496</td>\n",
       "      <td>5.203560e-07</td>\n",
       "    </tr>\n",
       "    <tr>\n",
       "      <th>1</th>\n",
       "      <td>ds_1GB_catalog_page_1_12.dat</td>\n",
       "      <td>https://storage.googleapis.com/tpc-benchmark-5...</td>\n",
       "      <td>1620074</td>\n",
       "      <td>gs://tpc-benchmark-5947/ds_1GB_catalog_page_1_...</td>\n",
       "      <td>ds</td>\n",
       "      <td>1GB</td>\n",
       "      <td>catalog_page</td>\n",
       "      <td>1</td>\n",
       "      <td>2020-04-19 22:20:22.839672</td>\n",
       "      <td>2020-04-19 22:20:25.331656</td>\n",
       "      <td>True</td>\n",
       "      <td>1</td>\n",
       "      <td>00:00:02.491984</td>\n",
       "      <td>2.491984</td>\n",
       "      <td>1.545023</td>\n",
       "      <td>0.001620</td>\n",
       "      <td>0.619997</td>\n",
       "      <td>6.501141e-04</td>\n",
       "    </tr>\n",
       "    <tr>\n",
       "      <th>2</th>\n",
       "      <td>ds_1GB_catalog_returns_1_12.dat</td>\n",
       "      <td>https://storage.googleapis.com/tpc-benchmark-5...</td>\n",
       "      <td>21234304</td>\n",
       "      <td>gs://tpc-benchmark-5947/ds_1GB_catalog_returns...</td>\n",
       "      <td>ds</td>\n",
       "      <td>1GB</td>\n",
       "      <td>catalog_returns</td>\n",
       "      <td>1</td>\n",
       "      <td>2020-04-19 22:20:25.332898</td>\n",
       "      <td>2020-04-19 22:20:35.727194</td>\n",
       "      <td>True</td>\n",
       "      <td>2</td>\n",
       "      <td>00:00:10.394296</td>\n",
       "      <td>10.394296</td>\n",
       "      <td>20.250610</td>\n",
       "      <td>0.021234</td>\n",
       "      <td>1.948243</td>\n",
       "      <td>2.042880e-03</td>\n",
       "    </tr>\n",
       "    <tr>\n",
       "      <th>3</th>\n",
       "      <td>ds_1GB_catalog_sales_1_12.dat</td>\n",
       "      <td>https://storage.googleapis.com/tpc-benchmark-5...</td>\n",
       "      <td>294468836</td>\n",
       "      <td>gs://tpc-benchmark-5947/ds_1GB_catalog_sales_1...</td>\n",
       "      <td>ds</td>\n",
       "      <td>1GB</td>\n",
       "      <td>catalog_sales</td>\n",
       "      <td>1</td>\n",
       "      <td>2020-04-19 22:20:35.728456</td>\n",
       "      <td>2020-04-19 22:21:34.683379</td>\n",
       "      <td>True</td>\n",
       "      <td>3</td>\n",
       "      <td>00:00:58.954923</td>\n",
       "      <td>58.954923</td>\n",
       "      <td>280.827366</td>\n",
       "      <td>0.294469</td>\n",
       "      <td>4.763425</td>\n",
       "      <td>4.994813e-03</td>\n",
       "    </tr>\n",
       "    <tr>\n",
       "      <th>4</th>\n",
       "      <td>ds_1GB_customer_1_12.dat</td>\n",
       "      <td>https://storage.googleapis.com/tpc-benchmark-5...</td>\n",
       "      <td>13109372</td>\n",
       "      <td>gs://tpc-benchmark-5947/ds_1GB_customer_1_12.dat</td>\n",
       "      <td>ds</td>\n",
       "      <td>1GB</td>\n",
       "      <td>customer</td>\n",
       "      <td>1</td>\n",
       "      <td>2020-04-19 22:21:34.684728</td>\n",
       "      <td>2020-04-19 22:21:41.773799</td>\n",
       "      <td>True</td>\n",
       "      <td>4</td>\n",
       "      <td>00:00:07.089071</td>\n",
       "      <td>7.089071</td>\n",
       "      <td>12.502071</td>\n",
       "      <td>0.013109</td>\n",
       "      <td>1.763570</td>\n",
       "      <td>1.849237e-03</td>\n",
       "    </tr>\n",
       "  </tbody>\n",
       "</table>\n",
       "</div>"
      ],
      "text/plain": [
       "                        chunk_name  \\\n",
       "0      ds_1GB_call_center_1_12.dat   \n",
       "1     ds_1GB_catalog_page_1_12.dat   \n",
       "2  ds_1GB_catalog_returns_1_12.dat   \n",
       "3    ds_1GB_catalog_sales_1_12.dat   \n",
       "4         ds_1GB_customer_1_12.dat   \n",
       "\n",
       "                                                 url  size_bytes  \\\n",
       "0  https://storage.googleapis.com/tpc-benchmark-5...        1885   \n",
       "1  https://storage.googleapis.com/tpc-benchmark-5...     1620074   \n",
       "2  https://storage.googleapis.com/tpc-benchmark-5...    21234304   \n",
       "3  https://storage.googleapis.com/tpc-benchmark-5...   294468836   \n",
       "4  https://storage.googleapis.com/tpc-benchmark-5...    13109372   \n",
       "\n",
       "                                                 uri test scale  \\\n",
       "0  gs://tpc-benchmark-5947/ds_1GB_call_center_1_1...   ds   1GB   \n",
       "1  gs://tpc-benchmark-5947/ds_1GB_catalog_page_1_...   ds   1GB   \n",
       "2  gs://tpc-benchmark-5947/ds_1GB_catalog_returns...   ds   1GB   \n",
       "3  gs://tpc-benchmark-5947/ds_1GB_catalog_sales_1...   ds   1GB   \n",
       "4   gs://tpc-benchmark-5947/ds_1GB_customer_1_12.dat   ds   1GB   \n",
       "\n",
       "             table  n                         t0                         t1  \\\n",
       "0      call_center  1 2020-04-19 22:20:19.215834 2020-04-19 22:20:22.838354   \n",
       "1     catalog_page  1 2020-04-19 22:20:22.839672 2020-04-19 22:20:25.331656   \n",
       "2  catalog_returns  1 2020-04-19 22:20:25.332898 2020-04-19 22:20:35.727194   \n",
       "3    catalog_sales  1 2020-04-19 22:20:35.728456 2020-04-19 22:21:34.683379   \n",
       "4         customer  1 2020-04-19 22:21:34.684728 2020-04-19 22:21:41.773799   \n",
       "\n",
       "   done  file_n              dt       dt_s  size_megabytes  size_gigabytes  \\\n",
       "0  True       0 00:00:03.622520   3.622520        0.001798        0.000002   \n",
       "1  True       1 00:00:02.491984   2.491984        1.545023        0.001620   \n",
       "2  True       2 00:00:10.394296  10.394296       20.250610        0.021234   \n",
       "3  True       3 00:00:58.954923  58.954923      280.827366        0.294469   \n",
       "4  True       4 00:00:07.089071   7.089071       12.502071        0.013109   \n",
       "\n",
       "       MB/s          GB/s  \n",
       "0  0.000496  5.203560e-07  \n",
       "1  0.619997  6.501141e-04  \n",
       "2  1.948243  2.042880e-03  \n",
       "3  4.763425  4.994813e-03  \n",
       "4  1.763570  1.849237e-03  "
      ]
     },
     "execution_count": 14,
     "metadata": {},
     "output_type": "execute_result"
    }
   ],
   "source": [
    "dfx.head()"
   ]
  },
  {
   "cell_type": "code",
   "execution_count": null,
   "metadata": {},
   "outputs": [],
   "source": []
  }
 ],
 "metadata": {
  "kernelspec": {
   "display_name": "Python 3",
   "language": "python",
   "name": "python3"
  },
  "language_info": {
   "codemirror_mode": {
    "name": "ipython",
    "version": 3
   },
   "file_extension": ".py",
   "mimetype": "text/x-python",
   "name": "python",
   "nbconvert_exporter": "python",
   "pygments_lexer": "ipython3",
   "version": "3.8.2"
  }
 },
 "nbformat": 4,
 "nbformat_minor": 4
}
