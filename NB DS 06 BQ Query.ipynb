{
 "cells": [
  {
   "cell_type": "markdown",
   "metadata": {},
   "source": [
    "## TPC-DS Query Execution"
   ]
  },
  {
   "cell_type": "code",
   "execution_count": null,
   "metadata": {},
   "outputs": [],
   "source": [
    "import config, ds_bq"
   ]
  },
  {
   "cell_type": "code",
   "execution_count": null,
   "metadata": {},
   "outputs": [],
   "source": [
    "from importlib import reload"
   ]
  },
  {
   "cell_type": "markdown",
   "metadata": {},
   "source": [
    "#### 1. Single Query Generation and Evaluation"
   ]
  },
  {
   "cell_type": "code",
   "execution_count": null,
   "metadata": {},
   "outputs": [],
   "source": [
    "n = 1\n",
    "scale = 100\n",
    "tpl_dir = config.fp_query_templates + config.sep + \"bq_ds\"\n",
    "qual = None\n",
    "\n",
    "project = \"tpc-benchmarking-9432\"\n",
    "dataset = \"ds_100GB_01\"\n",
    "\n",
    "(n, t0, t1, \n",
    " bytes_processed, \n",
    " bytes_billed, \n",
    " query_text, df) = ds_bq.query_n(n=n,\n",
    "                                 template_dir=tpl_dir,\n",
    "                                 scale=scale,\n",
    "                                 qual=qual,\n",
    "                                 project=project,\n",
    "                                 dataset=dataset,\n",
    "                                 verbose=True\n",
    "                                 )"
   ]
  },
  {
   "cell_type": "markdown",
   "metadata": {},
   "source": [
    "#### 2. Run stream permutation order of querys in BQ Syntax"
   ]
  },
  {
   "cell_type": "code",
   "execution_count": null,
   "metadata": {},
   "outputs": [],
   "source": [
    "p = 1\n",
    "scale = 100\n",
    "tpl_dir = config.fp_query_templates + config.sep + \"bq_ds\"\n",
    "\n",
    "project = \"tpc-benchmarking-9432\"\n",
    "dataset = \"ds_100GB_01\"\n",
    "\n",
    "(p, t0, t1, \n",
    " bytes_processed, bytes_billed, \n",
    " query_text, df) = ds_bq.stream_p(p=p,\n",
    "                                  template_dir=tpl_dir,\n",
    "                                  scale=scale,\n",
    "                                  qual=True,\n",
    "                                  project=project,\n",
    "                                  dataset=dataset,\n",
    "                                  verbose=True\n",
    "                                  )"
   ]
  },
  {
   "cell_type": "code",
   "execution_count": null,
   "metadata": {},
   "outputs": [],
   "source": []
  }
 ],
 "metadata": {
  "kernelspec": {
   "display_name": "Python 3",
   "language": "python",
   "name": "python3"
  },
  "language_info": {
   "codemirror_mode": {
    "name": "ipython",
    "version": 3
   },
   "file_extension": ".py",
   "mimetype": "text/x-python",
   "name": "python",
   "nbconvert_exporter": "python",
   "pygments_lexer": "ipython3",
   "version": "3.8.2"
  }
 },
 "nbformat": 4,
 "nbformat_minor": 4
}
