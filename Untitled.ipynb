{
 "cells": [
  {
   "cell_type": "code",
   "execution_count": 1,
   "metadata": {},
   "outputs": [],
   "source": [
    "import string\n",
    "import re"
   ]
  },
  {
   "cell_type": "code",
   "execution_count": 3,
   "metadata": {},
   "outputs": [],
   "source": [
    "x = \"\"\"\n",
    "and d_date between (cast ('[SALES_DATE]' as date) - 30 days)\n",
    "                    and (cast ('[SALES_DATE]' as date) + 30 days)\n",
    "   group by w_warehouse_name, i_item_id) x\n",
    "\"\"\""
   ]
  },
  {
   "cell_type": "code",
   "execution_count": 10,
   "metadata": {},
   "outputs": [
    {
     "name": "stdout",
     "output_type": "stream",
     "text": [
      "  \n",
      "  and d_date between (cast ('[SALES_DATE]' as date) - 30 days)\n",
      "X\n",
      "['and d_date between (', \" ('[SALES_DATE]' as date) - 30 days)\"]\n",
      "[\"and d_date between (cast ('[SALES_DATE]' as date) - 30 \", ')']\n",
      "                      and (cast ('[SALES_DATE]' as date) + 30 days)\n",
      "X\n",
      "['                    and (', \" ('[SALES_DATE]' as date) + 30 days)\"]\n",
      "[\"                    and (cast ('[SALES_DATE]' as date) + 30 \", ')']\n",
      "     group by w_warehouse_name, i_item_id) x\n",
      "  \n"
     ]
    }
   ],
   "source": [
    "for line in x.split(\"\\n\"):\n",
    "    print(\" \", line)\n",
    "    if (\"cast\" in line) and (\"days\" in line):\n",
    "        print(\"X\")\n",
    "        a = line.split(\"cast\")\n",
    "        b = line.split(\"days\")\n",
    "        print(a)\n",
    "        print(b)"
   ]
  },
  {
   "cell_type": "code",
   "execution_count": null,
   "metadata": {},
   "outputs": [],
   "source": []
  }
 ],
 "metadata": {
  "kernelspec": {
   "display_name": "Python 3",
   "language": "python",
   "name": "python3"
  },
  "language_info": {
   "codemirror_mode": {
    "name": "ipython",
    "version": 3
   },
   "file_extension": ".py",
   "mimetype": "text/x-python",
   "name": "python",
   "nbconvert_exporter": "python",
   "pygments_lexer": "ipython3",
   "version": "3.8.2"
  }
 },
 "nbformat": 4,
 "nbformat_minor": 4
}
