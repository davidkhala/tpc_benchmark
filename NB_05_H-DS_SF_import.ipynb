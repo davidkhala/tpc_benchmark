{
 "cells": [
  {
   "cell_type": "markdown",
   "metadata": {},
   "source": [
    "## TPC Dataset Import\n",
    "Import data for TPC test from GCS into Snowflake database"
   ]
  },
  {
   "cell_type": "markdown",
   "metadata": {},
   "source": [
    "### Set Configs"
   ]
  },
  {
   "cell_type": "code",
   "execution_count": 1,
   "metadata": {
    "pycharm": {
     "name": "#%%\n"
    }
   },
   "outputs": [],
   "source": [
    "import config, sf, datetime\n",
    "\n",
    "# In \"Dry Run\" mode we generate and print SQL queries but not run them.\n",
    "# You can manually run them in \"workbench\" if you want\n",
    "DRY_RUN = False\n",
    "TEST = 'ds'  # we want to run TPC-H\n",
    "SIZE = '10000GB'  # dataset size to use in test"
   ]
  },
  {
   "cell_type": "markdown",
   "metadata": {
    "pycharm": {
     "name": "#%% md\n"
    }
   },
   "source": [
    "`Note: that we use configuration data from config.py`"
   ]
  },
  {
   "cell_type": "markdown",
   "metadata": {},
   "source": [
    "### Start Snowflake WAREHOUSE"
   ]
  },
  {
   "cell_type": "code",
   "execution_count": 2,
   "metadata": {
    "pycharm": {
     "name": "#%%\n"
    }
   },
   "outputs": [
    {
     "name": "stdout",
     "output_type": "stream",
     "text": [
      "Preparing to open connection to Snowflake...\n",
      "Connection opened.\n",
      "['customer_address', 'customer_demographics', 'ship_mode', 'time_dim', 'reason', 'income_band', 'item', 'store', 'call_center', 'customer', 'web_site', 'store_returns', 'household_demographics', 'web_page', 'promotion', 'catalog_page', 'inventory', 'catalog_returns', 'web_returns', 'web_sales', 'catalog_sales', 'store_sales']\n",
      "running query: USE ROLE ACCOUNTADMIN\n",
      "running query: ALTER WAREHOUSE TEST1 RESUME;\n",
      "running query: USE WAREHOUSE TEST1\n",
      "running query: CREATE DATABASE IF NOT EXISTS test_concurrent_ds_10000GB\n",
      "running query: USE DATABASE test_concurrent_ds_10000GB\n"
     ]
    }
   ],
   "source": [
    "# initiate SnowflakeHelper with Test type and dataset size specified\n",
    "sf_helper = sf.SnowflakeHelper(TEST, SIZE, config)\n",
    "\n",
    "# start Warehouse\n",
    "sf_helper.warehouse_start(verbose=True)"
   ]
  },
  {
   "cell_type": "markdown",
   "metadata": {},
   "source": [
    "### Setup STAGE: Link to GCS data source and stages files for uploading"
   ]
  },
  {
   "cell_type": "code",
   "execution_count": null,
   "metadata": {
    "pycharm": {
     "name": "#%%\n"
    }
   },
   "outputs": [],
   "source": [
    "# if not sf_helper.is_integrated:\n",
    "#     # integrate Snoflake with GCS.\n",
    "integration_id = sf_helper.create_integration(is_dry_run=DRY_RUN)\n",
    "print(f'integrated with gcs: {integration_id}')"
   ]
  },
  {
   "cell_type": "markdown",
   "metadata": {},
   "source": [
    "### Test STAGE"
   ]
  },
  {
   "cell_type": "code",
   "execution_count": null,
   "metadata": {
    "pycharm": {
     "name": "#%%\n"
    }
   },
   "outputs": [],
   "source": [
    "db_files = sf_helper.list_integration(integration_id)\n",
    "for table, files in db_files.items():\n",
    "    print(f'{table}:')\n",
    "    for file in files:\n",
    "        print(f'\\t{file}')\n",
    "    print(f'\\tmissing {sf_helper.gcs_file_range - len(files)} files\\n\\n')"
   ]
  },
  {
   "cell_type": "markdown",
   "metadata": {},
   "source": [
    "### Create tables in Snowflake if needed"
   ]
  },
  {
   "cell_type": "code",
   "execution_count": null,
   "metadata": {
    "pycharm": {
     "name": "#%%\n"
    }
   },
   "outputs": [],
   "source": [
    "#if not sf_helper.is_integrated():\n",
    "sf_helper.create_schema(is_dry_run=DRY_RUN)"
   ]
  },
  {
   "cell_type": "markdown",
   "metadata": {
    "pycharm": {
     "name": "#%% md\n"
    }
   },
   "source": [
    "### Import Data from STAGE to target table"
   ]
  },
  {
   "cell_type": "code",
   "execution_count": null,
   "metadata": {
    "pycharm": {
     "name": "#%%\n"
    }
   },
   "outputs": [],
   "source": [
    "for table, files in db_files.items():\n",
    "    print(f'Starting to import table: {table}')\n",
    "    for file in sorted(files):\n",
    "        print(f'\\timporting file: {file}')\n",
    "        sf_helper.import_data(table, file, integration_id)\n",
    "        print(f'\\tfinished @ {datetime.datetime.now().time()}')"
   ]
  },
  {
   "cell_type": "markdown",
   "metadata": {
    "pycharm": {
     "name": "#%% md\n"
    }
   },
   "source": [
    "### Suspend WAREHOUSE"
   ]
  },
  {
   "cell_type": "code",
   "execution_count": null,
   "metadata": {
    "pycharm": {
     "name": "#%%\n"
    }
   },
   "outputs": [],
   "source": [
    "sf_helper.warehouse_suspend()"
   ]
  },
  {
   "cell_type": "markdown",
   "metadata": {
    "pycharm": {
     "name": "#%% md\n"
    }
   },
   "source": []
  }
 ],
 "metadata": {
  "kernelspec": {
   "display_name": "Python 3",
   "language": "python",
   "name": "python3"
  },
  "language_info": {
   "codemirror_mode": {
    "name": "ipython",
    "version": 3
   },
   "file_extension": ".py",
   "mimetype": "text/x-python",
   "name": "python",
   "nbconvert_exporter": "python",
   "pygments_lexer": "ipython3",
   "version": "3.7.7"
  }
 },
 "nbformat": 4,
 "nbformat_minor": 4
}
