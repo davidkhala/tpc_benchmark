{
 "cells": [
  {
   "cell_type": "code",
   "execution_count": 1,
   "metadata": {},
   "outputs": [],
   "source": [
    "import sfa, bqa, tools, config"
   ]
  },
  {
   "cell_type": "raw",
   "metadata": {},
   "source": [
    "from importlib import reload"
   ]
  },
  {
   "cell_type": "code",
   "execution_count": 2,
   "metadata": {},
   "outputs": [],
   "source": [
    "test = \"ds\"\n",
    "scale = 100\n",
    "cid = \"01\"\n",
    "stream_n = 1\n",
    "desc = \"import_test_01\"\n",
    "seq_id = \"i01\"\n",
    "verbose = True\n",
    "verbose_query = False\n",
    "qual = None\n",
    "save = False\n",
    "verbose_iter = True"
   ]
  },
  {
   "cell_type": "code",
   "execution_count": 3,
   "metadata": {
    "pycharm": {
     "name": "#%%\n"
    }
   },
   "outputs": [
    {
     "name": "stdout",
     "output_type": "stream",
     "text": [
      "Using database: ds_100GB_01\n"
     ]
    }
   ],
   "source": [
    "#reload(sfa)\n",
    "#reload(config)\n",
    "sf = sfa.SFTPC(test=test,\n",
    "               scale=scale,\n",
    "               cid=cid,\n",
    "               warehouse=\"TEST9000\",\n",
    "               desc=desc,\n",
    "               verbose=verbose,\n",
    "               verbose_query=verbose_query)\n",
    "\n",
    "print('Using database:', sf.database)\n"
   ]
  },
  {
   "cell_type": "code",
   "execution_count": 4,
   "metadata": {},
   "outputs": [
    {
     "name": "stdout",
     "output_type": "stream",
     "text": [
      "Snowflake configuration\n",
      "=======================\n",
      "Username: colin\n",
      "Account:  wja13212\n",
      "\n"
     ]
    }
   ],
   "source": [
    "sf._connect()"
   ]
  },
  {
   "cell_type": "code",
   "execution_count": 5,
   "metadata": {},
   "outputs": [],
   "source": [
    "sf.role(\"SYSADMIN\")"
   ]
  },
  {
   "cell_type": "code",
   "execution_count": 6,
   "metadata": {},
   "outputs": [],
   "source": [
    "sf.database_create()"
   ]
  },
  {
   "cell_type": "code",
   "execution_count": 7,
   "metadata": {},
   "outputs": [],
   "source": [
    "sf.create_schema(config.fp_sf_ds_schema)"
   ]
  },
  {
   "cell_type": "code",
   "execution_count": 8,
   "metadata": {},
   "outputs": [],
   "source": [
    "sf.gcs_integration_drop()\n",
    "sf.gcs_integration_create()"
   ]
  },
  {
   "cell_type": "code",
   "execution_count": 9,
   "metadata": {},
   "outputs": [],
   "source": [
    "sf.grant_storage_integration_access()"
   ]
  },
  {
   "cell_type": "code",
   "execution_count": 10,
   "metadata": {},
   "outputs": [],
   "source": [
    "sf.gcs_inventory()"
   ]
  },
  {
   "cell_type": "code",
   "execution_count": 11,
   "metadata": {},
   "outputs": [],
   "source": [
    "sf.create_named_file_format()"
   ]
  },
  {
   "cell_type": "code",
   "execution_count": 12,
   "metadata": {},
   "outputs": [],
   "source": [
    "sf.warehouse_use()"
   ]
  },
  {
   "cell_type": "code",
   "execution_count": 13,
   "metadata": {},
   "outputs": [
    {
     "name": "stdout",
     "output_type": "stream",
     "text": [
      "Loading table: call_center\n",
      "Done!\n",
      "\n",
      "Loading table: catalog_page\n",
      "Done!\n",
      "\n",
      "Loading table: catalog_returns\n",
      "Done!\n",
      "\n",
      "Loading table: catalog_sales\n",
      "Done!\n",
      "\n",
      "Loading table: customer\n",
      "Done!\n",
      "\n",
      "Loading table: customer_address\n",
      "Done!\n",
      "\n",
      "Loading table: customer_demographics\n",
      "Done!\n",
      "\n",
      "Loading table: date_dim\n",
      "Done!\n",
      "\n",
      "Loading table: household_demographics\n",
      "Done!\n",
      "\n",
      "Loading table: income_band\n",
      "Done!\n",
      "\n",
      "Loading table: inventory\n",
      "Done!\n",
      "\n",
      "Loading table: item\n",
      "Done!\n",
      "\n",
      "Loading table: promotion\n",
      "Done!\n",
      "\n",
      "Loading table: reason\n",
      "Done!\n",
      "\n",
      "Loading table: ship_mode\n",
      "Done!\n",
      "\n",
      "Loading table: store\n",
      "Done!\n",
      "\n",
      "Loading table: store_returns\n",
      "Done!\n",
      "\n",
      "Loading table: store_sales\n",
      "Done!\n",
      "\n",
      "Loading table: time_dim\n",
      "Done!\n",
      "\n",
      "Loading table: warehouse\n",
      "Done!\n",
      "\n",
      "Loading table: web_page\n",
      "Done!\n",
      "\n",
      "Loading table: web_returns\n",
      "Done!\n",
      "\n",
      "Loading table: web_sales\n",
      "Done!\n",
      "\n",
      "Loading table: web_site\n",
      "Done!\n",
      "\n"
     ]
    }
   ],
   "source": [
    "sf.import_data()"
   ]
  },
  {
   "cell_type": "code",
   "execution_count": null,
   "metadata": {},
   "outputs": [],
   "source": []
  },
  {
   "cell_type": "code",
   "execution_count": null,
   "metadata": {},
   "outputs": [],
   "source": []
  }
 ],
 "metadata": {
  "kernelspec": {
   "display_name": "Python 3",
   "language": "python",
   "name": "python3"
  },
  "language_info": {
   "codemirror_mode": {
    "name": "ipython",
    "version": 3
   },
   "file_extension": ".py",
   "mimetype": "text/x-python",
   "name": "python",
   "nbconvert_exporter": "python",
   "pygments_lexer": "ipython3",
   "version": "3.7.7"
  }
 },
 "nbformat": 4,
 "nbformat_minor": 4
}
