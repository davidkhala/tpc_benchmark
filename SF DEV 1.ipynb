{
 "cells": [
  {
   "cell_type": "code",
   "execution_count": 12,
   "metadata": {},
   "outputs": [],
   "source": [
    "import config, sfa, poor_security"
   ]
  },
  {
   "cell_type": "code",
   "execution_count": 13,
   "metadata": {},
   "outputs": [],
   "source": [
    "from importlib import reload"
   ]
  },
  {
   "cell_type": "markdown",
   "metadata": {},
   "source": [
    "### Load a Database"
   ]
  },
  {
   "cell_type": "code",
   "execution_count": 84,
   "metadata": {
    "pycharm": {
     "name": "#%%\n"
    }
   },
   "outputs": [
    {
     "name": "stdout",
     "output_type": "stream",
     "text": [
      "Using configuration: user:colin\n",
      "Password: jfguye229ekkeQA\n",
      "Account: wja13212\n",
      "Connector cursor created.\n",
      "Loading table: call_center\n",
      "Done!\n",
      "\n",
      "Loading table: catalog_page\n",
      "Done!\n",
      "\n",
      "Loading table: catalog_returns\n",
      "Done!\n",
      "\n",
      "Loading table: catalog_sales\n",
      "Done!\n",
      "\n",
      "Loading table: customer\n",
      "Done!\n",
      "\n",
      "Loading table: customer_address\n",
      "Done!\n",
      "\n",
      "Loading table: customer_demographics\n",
      "Done!\n",
      "\n",
      "Loading table: date_dim\n",
      "Done!\n",
      "\n",
      "Loading table: household_demographics\n",
      "Done!\n",
      "\n",
      "Loading table: income_band\n",
      "Done!\n",
      "\n",
      "Loading table: inventory\n",
      "Done!\n",
      "\n",
      "Loading table: item\n",
      "Done!\n",
      "\n",
      "Loading table: promotion\n",
      "Done!\n",
      "\n",
      "Loading table: reason\n",
      "Done!\n",
      "\n",
      "Loading table: ship_mode\n",
      "Done!\n",
      "\n",
      "Loading table: store\n",
      "Done!\n",
      "\n",
      "Loading table: store_returns\n",
      "Done!\n",
      "\n",
      "Loading table: store_sales\n",
      "Done!\n",
      "\n",
      "Loading table: time_dim\n",
      "Done!\n",
      "\n",
      "Loading table: warehouse\n",
      "Done!\n",
      "\n",
      "Loading table: web_page\n",
      "Done!\n",
      "\n",
      "Loading table: web_returns\n",
      "Done!\n",
      "\n",
      "Loading table: web_sales\n",
      "Done!\n",
      "\n",
      "Loading table: web_site\n",
      "Done!\n",
      "\n"
     ]
    }
   ],
   "source": [
    "reload(sfa)\n",
    "reload(config)\n",
    "# initiate SnowflakeHelper with test type and dataset scale specified\n",
    "x = sfa.SFTPC(warehouse=\"TEST9000\", \n",
    "                test=\"ds\",\n",
    "                scale=1,\n",
    "                n=\"01\",\n",
    "                verbose_query=False, verbose=True)\n",
    "\n",
    "x.connect()\n",
    "\n",
    "x.role(\"SYSADMIN\")\n",
    "\n",
    "r1 = x.show_warehouses()\n",
    "\n",
    "x.warehouse_create()\n",
    "\n",
    "x.database_drop()\n",
    "x.gcs_integration_drop()\n",
    "\n",
    "x.database_create()\n",
    "x.database_setup_role(\"SYSADMIN\")\n",
    "x.database_use()\n",
    "x.create_schema(schema_file=config.fp_schema + config.sep + \"ansi_ds.sql\")\n",
    "x.create_named_file_format()\n",
    "x.gcs_integration_create()\n",
    "x.grant_storage_integration_access()\n",
    "x.create_stage()\n",
    "\n",
    "x.gcs_inventory()\n",
    "x.import_data()\n",
    "\n",
    "i2 = x.gcs_integration_list()\n",
    "r2 = x.show_warehouses()\n",
    "\n",
    "r3 = x.query_n(n=1)\n",
    "\n",
    "sfc.close()"
   ]
  },
  {
   "cell_type": "markdown",
   "metadata": {},
   "source": [
    "### Query a Database"
   ]
  },
  {
   "cell_type": "code",
   "execution_count": 134,
   "metadata": {
    "pycharm": {
     "name": "#%%\n"
    }
   },
   "outputs": [
    {
     "name": "stdout",
     "output_type": "stream",
     "text": [
      "Using configuration: user:colin\n",
      "Password: jfguye229ekkeQA\n",
      "Account: wja13212\n",
      "Connector cursor created.\n",
      "TPC-DS dsqgen parameters\n",
      "========================\n",
      "command & kwargs: ['./dsqgen', '-VERBOSE', '-SCALE', '1', '-RNGSEED', '13', '-TEMPLATE', 'query97.tpl', '-FILTER', '-DIALECT', 'sqlserver_tpc', '-DIRECTORY', '/home/colin/code/bq_snowflake_benchmark/tpl/sf_ds']\n",
      "cwd: /home/colin/code/bq_snowflake_benchmark/ds/v2.11.0rc2/tools\n",
      "\n"
     ]
    }
   ],
   "source": [
    "reload(sfa)\n",
    "reload(config)\n",
    "# initiate SnowflakeHelper with test type and dataset scale specified\n",
    "x = sfa.SFTPC(warehouse=\"TEST9000\", \n",
    "                test=\"ds\",\n",
    "                scale=1,\n",
    "                n=\"01\",\n",
    "                verbose_query=False, verbose=True)\n",
    "\n",
    "x.connect()\n",
    "x.role(\"SYSADMIN\")\n",
    "x.warehouse_use()\n",
    "x.database_use()\n",
    "\n",
    "r = x.query_n(n=97, verbose=True, verbose_out=False)\n",
    "dfr = r.fetch_pandas_all()\n",
    "df, qid = x.query_history()\n",
    "\n",
    "x.close()"
   ]
  },
  {
   "cell_type": "code",
   "execution_count": 135,
   "metadata": {},
   "outputs": [
    {
     "data": {
      "text/html": [
       "<div>\n",
       "<style scoped>\n",
       "    .dataframe tbody tr th:only-of-type {\n",
       "        vertical-align: middle;\n",
       "    }\n",
       "\n",
       "    .dataframe tbody tr th {\n",
       "        vertical-align: top;\n",
       "    }\n",
       "\n",
       "    .dataframe thead th {\n",
       "        text-align: right;\n",
       "    }\n",
       "</style>\n",
       "<table border=\"1\" class=\"dataframe\">\n",
       "  <thead>\n",
       "    <tr style=\"text-align: right;\">\n",
       "      <th></th>\n",
       "      <th>STORE_ONLY</th>\n",
       "      <th>CATALOG_ONLY</th>\n",
       "      <th>STORE_AND_CATALOG</th>\n",
       "    </tr>\n",
       "  </thead>\n",
       "  <tbody>\n",
       "    <tr>\n",
       "      <th>0</th>\n",
       "      <td>533288</td>\n",
       "      <td>284218</td>\n",
       "      <td>168</td>\n",
       "    </tr>\n",
       "  </tbody>\n",
       "</table>\n",
       "</div>"
      ],
      "text/plain": [
       "   STORE_ONLY  CATALOG_ONLY  STORE_AND_CATALOG\n",
       "0      533288        284218                168"
      ]
     },
     "execution_count": 135,
     "metadata": {},
     "output_type": "execute_result"
    }
   ],
   "source": [
    "dfr"
   ]
  },
  {
   "cell_type": "code",
   "execution_count": null,
   "metadata": {},
   "outputs": [],
   "source": []
  }
 ],
 "metadata": {
  "kernelspec": {
   "display_name": "Python 3",
   "language": "python",
   "name": "python3"
  },
  "language_info": {
   "codemirror_mode": {
    "name": "ipython",
    "version": 3
   },
   "file_extension": ".py",
   "mimetype": "text/x-python",
   "name": "python",
   "nbconvert_exporter": "python",
   "pygments_lexer": "ipython3",
   "version": "3.8.2"
  }
 },
 "nbformat": 4,
 "nbformat_minor": 4
}
