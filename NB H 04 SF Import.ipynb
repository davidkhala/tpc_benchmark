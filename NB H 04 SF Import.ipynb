{
 "cells": [
  {
   "cell_type": "markdown",
   "source": [
    "## TPC-H Snowflake Import\n",
    "Import data from GCS into Snowflake dataset"
   ],
   "metadata": {
    "collapsed": false
   }
  },
  {
   "cell_type": "code",
   "execution_count": null,
   "outputs": [],
   "source": [
    "import config, schema, sf, load"
   ],
   "metadata": {
    "collapsed": false,
    "pycharm": {
     "name": "#%%\n"
    }
   }
  },
  {
   "cell_type": "markdown",
   "source": [
    "### Start Snowflake WAREHOUSE"
   ],
   "metadata": {
    "collapsed": false,
    "pycharm": {
     "name": "#%% md\n"
    }
   }
  },
  {
   "cell_type": "code",
   "execution_count": null,
   "outputs": [],
   "source": [
    "# initiate SnowflakeHelper\n",
    "sf_helper = sf.SnowflakeHelper(config)\n",
    "\n",
    "# start Warehouse\n",
    "sf_helper.start_warehouse()"
   ],
   "metadata": {
    "collapsed": false,
    "pycharm": {
     "name": "#%%\n"
    }
   }
  },
  {
   "cell_type": "markdown",
   "source": [
    "## Setup STAGE: Link GCS data source in Snowflake:"
   ],
   "metadata": {
    "collapsed": false
   }
  },
  {
   "cell_type": "code",
   "source": [
    "integration_id = sf_helper.create_integration(table_name, gcs_location)"
   ],
   "metadata": {
    "collapsed": false,
    "pycharm": {
     "name": "#%%\n"
    }
   },
   "execution_count": null,
   "outputs": []
  },
  {
   "cell_type": "markdown",
   "source": [
    "#### Create NAMED FILE FORMAT"
   ],
   "metadata": {
    "collapsed": false
   }
  },
  {
   "cell_type": "code",
   "execution_count": null,
   "outputs": [],
   "source": [
    "\"\"\"\n",
    "corresponding query example:\n",
    "\n",
    "create or replace file format h_1gb_csv_format\n",
    "  type = csv\n",
    "  field_delimiter = '|'\n",
    "  skip_header = 1\n",
    "  null_if = ('NULL', 'null')\n",
    "  empty_field_as_null = true\n",
    "  compression = none;\n",
    "\"\"\""
   ],
   "metadata": {
    "collapsed": false,
    "pycharm": {
     "name": "#%%\n"
    }
   }
  },
  {
   "cell_type": "markdown",
   "source": [
    "#### Create STORAGE INTEGRATION"
   ],
   "metadata": {
    "collapsed": false
   }
  },
  {
   "cell_type": "code",
   "execution_count": null,
   "outputs": [],
   "source": [
    "\"\"\"\n",
    "corresponding query example:\n",
    "\n",
    " CREATE STORAGE INTEGRATION h_1gb\n",
    "  TYPE = EXTERNAL_STAGE\n",
    "  STORAGE_PROVIDER = GCS\n",
    "  ENABLED = TRUE\n",
    "  STORAGE_ALLOWED_LOCATIONS = ('gcs://tpc-benchmark-5947/');\n",
    "\"\"\""
   ],
   "metadata": {
    "collapsed": false,
    "pycharm": {
     "name": "#%%\n"
    }
   }
  },
  {
   "cell_type": "markdown",
   "source": [
    "#### Grant USAGE privileges on new integration"
   ],
   "metadata": {
    "collapsed": false
   }
  },
  {
   "cell_type": "code",
   "execution_count": null,
   "outputs": [],
   "source": [
    "\"\"\"\n",
    "corresponding query example:\n",
    "\n",
    "  grant create stage on schema public to role ACCOUNTADMIN;;\n",
    "  grant usage on integration h_1gb to role ACCOUNTADMIN;\n",
    "\"\"\""
   ],
   "metadata": {
    "collapsed": false,
    "pycharm": {
     "name": "#%%\n"
    }
   }
  },
  {
   "cell_type": "markdown",
   "source": [
    "#### Create Data STAGE"
   ],
   "metadata": {
    "collapsed": false
   }
  },
  {
   "cell_type": "code",
   "execution_count": null,
   "outputs": [],
   "source": [
    "\"\"\"\n",
    "corresponding query example:\n",
    "\n",
    "create stage h_1gb_stage\n",
    "  url = 'gcs://tpc-benchmark-5947/h_1GB_part.tbl'\n",
    "  storage_integration = h_1gb\n",
    "  file_format = h_1gb_csv_format;\n",
    "\"\"\""
   ],
   "metadata": {
    "collapsed": false,
    "pycharm": {
     "name": "#%%\n"
    }
   }
  },
  {
   "cell_type": "markdown",
   "source": [
    "#### Test STAGE"
   ],
   "metadata": {
    "collapsed": false
   }
  },
  {
   "cell_type": "code",
   "execution_count": null,
   "outputs": [],
   "source": [
    "\"\"\"\n",
    "corresponding query example:\n",
    "\n",
    "DESC STORAGE INTEGRATION h_1gb;\n",
    "list @h_1gb_stage;\n",
    "\"\"\""
   ],
   "metadata": {
    "collapsed": false,
    "pycharm": {
     "name": "#%%\n"
    }
   }
  },
  {
   "cell_type": "markdown",
   "source": [
    "### Import Data from STAGE to target table"
   ],
   "metadata": {
    "collapsed": false
   }
  },
  {
   "cell_type": "code",
   "execution_count": null,
   "outputs": [],
   "source": [
    "sf.import_data(integration_id, table_name)\n",
    "\"\"\"\n",
    "corresponding query example:\n",
    "\n",
    "copy into part from @h_1gb_stage;\n",
    "\"\"\""
   ],
   "metadata": {
    "collapsed": false,
    "pycharm": {
     "name": "#%%\n"
    }
   }
  },
  {
   "cell_type": "markdown",
   "source": [
    "### Suspend WAREHOUSE"
   ],
   "metadata": {
    "collapsed": false,
    "pycharm": {
     "name": "#%% md\n"
    }
   }
  },
  {
   "cell_type": "code",
   "execution_count": null,
   "outputs": [],
   "source": [
    "sf.suspend_warehouse(config.warehouse_name)\n",
    "\n",
    "\"\"\"\n",
    "corresponding query example:\n",
    "\n",
    "alter WAREHOUSE test1 suspend;\n",
    "\"\"\""
   ],
   "metadata": {
    "collapsed": false,
    "pycharm": {
     "name": "#%%\n"
    }
   }
  },
  {
   "cell_type": "markdown",
   "source": [],
   "metadata": {
    "collapsed": false,
    "pycharm": {
     "name": "#%% md\n"
    }
   }
  }
 ],
 "metadata": {
  "kernelspec": {
   "display_name": "Python 3",
   "language": "python",
   "name": "python3"
  },
  "language_info": {
   "codemirror_mode": {
    "name": "ipython",
    "version": 3
   },
   "file_extension": ".py",
   "mimetype": "text/x-python",
   "name": "python",
   "nbconvert_exporter": "python",
   "pygments_lexer": "ipython3",
   "version": "3.7.7"
  }
 },
 "nbformat": 4,
 "nbformat_minor": 4
}