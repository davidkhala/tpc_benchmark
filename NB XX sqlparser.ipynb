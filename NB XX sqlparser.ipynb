{
 "cells": [
  {
   "cell_type": "code",
   "execution_count": 43,
   "metadata": {},
   "outputs": [],
   "source": [
    "import sqlparse\n",
    "\n",
    "import sql_dev\n",
    "\n",
    "import config, h_setup"
   ]
  },
  {
   "cell_type": "code",
   "execution_count": 12,
   "metadata": {},
   "outputs": [
    {
     "data": {
      "text/plain": [
       "'/home/colin/code/bq_snowflake_benchmark/tpl/bq_h'"
      ]
     },
     "execution_count": 12,
     "metadata": {},
     "output_type": "execute_result"
    }
   ],
   "source": [
    "tpl_dir = config.fp_query_templates + config.sep + \"bq_h\"\n",
    "tpl_dir"
   ]
  },
  {
   "cell_type": "code",
   "execution_count": 13,
   "metadata": {},
   "outputs": [
    {
     "name": "stdout",
     "output_type": "stream",
     "text": [
      "select\n",
      "\tl_returnflag,\n",
      "\tl_linestatus,\n",
      "\tsum(l_quantity) as sum_qty,\n",
      "\tsum(l_extendedprice) as sum_base_price,\n",
      "\tsum(l_extendedprice * (1 - l_discount)) as sum_disc_price,\n",
      "\tsum(l_extendedprice * (1 - l_discount) * (1 + l_tax)) as sum_charge,\n",
      "\tavg(l_quantity) as avg_qty,\n",
      "\tavg(l_extendedprice) as avg_price,\n",
      "\tavg(l_discount) as avg_disc,\n",
      "\tcount(*) as count_order\n",
      "from\n",
      "\tlineitem\n",
      "where\n",
      "\tl_shipdate <= date_sub(cast('1998-12-01' as date), interval '103' day)\n",
      "group by\n",
      "\tl_returnflag,\n",
      "\tl_linestatus\n",
      "order by\n",
      "\tl_returnflag,\n",
      "\tl_linestatus;\n",
      "\n"
     ]
    }
   ],
   "source": [
    "query_text = h_setup.qgen_template(n=1, \n",
    "                                   templates_dir=tpl_dir,\n",
    "                                   scale=100)\n",
    "print(query_text)"
   ]
  },
  {
   "cell_type": "code",
   "execution_count": 16,
   "metadata": {},
   "outputs": [
    {
     "name": "stdout",
     "output_type": "stream",
     "text": [
      "select\n",
      "\tl_returnflag,\n",
      "\tl_linestatus,\n",
      "\tsum(l_quantity) as sum_qty,\n",
      "\tsum(l_extendedprice) as sum_base_price,\n",
      "\tsum(l_extendedprice * (1 - l_discount)) as sum_disc_price,\n",
      "\tsum(l_extendedprice * (1 - l_discount) * (1 + l_tax)) as sum_charge,\n",
      "\tavg(l_quantity) as avg_qty,\n",
      "\tavg(l_extendedprice) as avg_price,\n",
      "\tavg(l_discount) as avg_disc,\n",
      "\tcount(*) as count_order\n",
      "from\n",
      "\tlineitem\n",
      "where\n",
      "\tl_shipdate <= date_sub(cast('1998-12-01' as date), interval '103' day)\n",
      "group by\n",
      "\tl_returnflag,\n",
      "\tl_linestatus\n",
      "order by\n",
      "\tl_returnflag,\n",
      "\tl_linestatus;\n",
      "----------------------------------------\n",
      "\n",
      "----------------------------------------\n"
     ]
    }
   ],
   "source": [
    "list_sql = sqlparse.split(query_text)\n",
    "for line in list_sql:\n",
    "    print(line)\n",
    "    print(\"-\"*40)"
   ]
  },
  {
   "cell_type": "code",
   "execution_count": 17,
   "metadata": {},
   "outputs": [],
   "source": [
    "p_list = sqlparse.parse(query_text)"
   ]
  },
  {
   "cell_type": "code",
   "execution_count": 19,
   "metadata": {},
   "outputs": [
    {
     "name": "stdout",
     "output_type": "stream",
     "text": [
      "select\n",
      "\tl_returnflag,\n",
      "\tl_linestatus,\n",
      "\tsum(l_quantity) as sum_qty,\n",
      "\tsum(l_extendedprice) as sum_base_price,\n",
      "\tsum(l_extendedprice * (1 - l_discount)) as sum_disc_price,\n",
      "\tsum(l_extendedprice * (1 - l_discount) * (1 + l_tax)) as sum_charge,\n",
      "\tavg(l_quantity) as avg_qty,\n",
      "\tavg(l_extendedprice) as avg_price,\n",
      "\tavg(l_discount) as avg_disc,\n",
      "\tcount(*) as count_order\n",
      "from\n",
      "\tlineitem\n",
      "where\n",
      "\tl_shipdate <= date_sub(cast('1998-12-01' as date), interval '103' day)\n",
      "group by\n",
      "\tl_returnflag,\n",
      "\tl_linestatus\n",
      "order by\n",
      "\tl_returnflag,\n",
      "\tl_linestatus;\n",
      "----------------------------------------\n",
      "\n",
      "\n",
      "----------------------------------------\n"
     ]
    }
   ],
   "source": [
    "for statement in p_list:\n",
    "    print(statement)\n",
    "    print(\"-\"*40)"
   ]
  },
  {
   "cell_type": "code",
   "execution_count": 22,
   "metadata": {},
   "outputs": [],
   "source": [
    "s = p_list[0]"
   ]
  },
  {
   "cell_type": "code",
   "execution_count": 23,
   "metadata": {},
   "outputs": [
    {
     "data": {
      "text/plain": [
       "<Statement 'select...' at 0x7F2D115F04A0>"
      ]
     },
     "execution_count": 23,
     "metadata": {},
     "output_type": "execute_result"
    }
   ],
   "source": []
  },
  {
   "cell_type": "code",
   "execution_count": 26,
   "metadata": {},
   "outputs": [],
   "source": [
    "t = s.tokens"
   ]
  },
  {
   "cell_type": "code",
   "execution_count": 29,
   "metadata": {},
   "outputs": [
    {
     "name": "stdout",
     "output_type": "stream",
     "text": [
      "select\n"
     ]
    }
   ],
   "source": [
    "print(t[0])"
   ]
  },
  {
   "cell_type": "code",
   "execution_count": 30,
   "metadata": {},
   "outputs": [
    {
     "data": {
      "text/plain": [
       "[<DML 'select' at 0x7F2D115F8A00>,\n",
       " <Newline ' ' at 0x7F2D115F8DC0>,\n",
       " <Whitespace ' ' at 0x7F2D115F8E20>,\n",
       " <IdentifierList 'l_retu...' at 0x7F2D115F66D0>,\n",
       " <Newline ' ' at 0x7F2D115FCD60>,\n",
       " <Keyword 'from' at 0x7F2D115FCDC0>,\n",
       " <Newline ' ' at 0x7F2D115FCE20>,\n",
       " <Whitespace ' ' at 0x7F2D115FCE80>,\n",
       " <Identifier 'lineit...' at 0x7F2D115F4C10>,\n",
       " <Newline ' ' at 0x7F2D115FCF40>,\n",
       " <Where 'where ...' at 0x7F2D115F0D60>,\n",
       " <Keyword 'group ...' at 0x7F2D115FD9A0>,\n",
       " <Newline ' ' at 0x7F2D115FDA00>,\n",
       " <Whitespace ' ' at 0x7F2D115FDA60>,\n",
       " <IdentifierList 'l_retu...' at 0x7F2D115F6740>,\n",
       " <Newline ' ' at 0x7F2D115FDCA0>,\n",
       " <Keyword 'order ...' at 0x7F2D115FDD00>,\n",
       " <Newline ' ' at 0x7F2D115FDD60>,\n",
       " <Whitespace ' ' at 0x7F2D115FDDC0>,\n",
       " <IdentifierList 'l_retu...' at 0x7F2D115F6430>,\n",
       " <Punctuation ';' at 0x7F2D1157F040>]"
      ]
     },
     "execution_count": 30,
     "metadata": {},
     "output_type": "execute_result"
    }
   ],
   "source": [
    "t"
   ]
  },
  {
   "cell_type": "code",
   "execution_count": 31,
   "metadata": {},
   "outputs": [
    {
     "data": {
      "text/plain": [
       "<IdentifierList 'l_retu...' at 0x7F2D115F66D0>"
      ]
     },
     "execution_count": 31,
     "metadata": {},
     "output_type": "execute_result"
    }
   ],
   "source": [
    "t[3]"
   ]
  },
  {
   "cell_type": "code",
   "execution_count": 33,
   "metadata": {},
   "outputs": [
    {
     "name": "stdout",
     "output_type": "stream",
     "text": [
      "l_returnflag,\n",
      "\tl_linestatus,\n",
      "\tsum(l_quantity) as sum_qty,\n",
      "\tsum(l_extendedprice) as sum_base_price,\n",
      "\tsum(l_extendedprice * (1 - l_discount)) as sum_disc_price,\n",
      "\tsum(l_extendedprice * (1 - l_discount) * (1 + l_tax)) as sum_charge,\n",
      "\tavg(l_quantity) as avg_qty,\n",
      "\tavg(l_extendedprice) as avg_price,\n",
      "\tavg(l_discount) as avg_disc,\n",
      "\tcount(*) as count_order\n"
     ]
    }
   ],
   "source": [
    "i = t[3]\n",
    "print(i)"
   ]
  },
  {
   "cell_type": "code",
   "execution_count": 40,
   "metadata": {},
   "outputs": [],
   "source": [
    "for x in i.get_identifiers():\n",
    "    x.__dict__"
   ]
  },
  {
   "cell_type": "code",
   "execution_count": 42,
   "metadata": {},
   "outputs": [
    {
     "data": {
      "text/plain": [
       "[<Identifier 'l_retu...' at 0x7F2D115F0E40>,\n",
       " <Identifier 'l_line...' at 0x7F2D115F4890>,\n",
       " <Identifier 'sum(l_...' at 0x7F2D115F6270>,\n",
       " <Identifier 'sum(l_...' at 0x7F2D115F62E0>,\n",
       " <Identifier 'sum(l_...' at 0x7F2D115F6350>,\n",
       " <Identifier 'sum(l_...' at 0x7F2D115F63C0>,\n",
       " <Identifier 'avg(l_...' at 0x7F2D115F64A0>,\n",
       " <Identifier 'avg(l_...' at 0x7F2D115F6510>,\n",
       " <Identifier 'avg(l_...' at 0x7F2D115F6580>,\n",
       " <Identifier 'count(...' at 0x7F2D115F65F0>]"
      ]
     },
     "execution_count": 42,
     "metadata": {},
     "output_type": "execute_result"
    }
   ],
   "source": [
    "list(i.get_identifiers())"
   ]
  },
  {
   "cell_type": "code",
   "execution_count": 46,
   "metadata": {},
   "outputs": [],
   "source": [
    "import sql_dev"
   ]
  },
  {
   "cell_type": "code",
   "execution_count": 47,
   "metadata": {},
   "outputs": [
    {
     "data": {
      "text/plain": [
       "module"
      ]
     },
     "execution_count": 47,
     "metadata": {},
     "output_type": "execute_result"
    }
   ],
   "source": [
    "type(sql_dev)"
   ]
  },
  {
   "cell_type": "code",
   "execution_count": null,
   "metadata": {},
   "outputs": [],
   "source": [
    "sql_dev.ex"
   ]
  },
  {
   "cell_type": "code",
   "execution_count": 45,
   "metadata": {},
   "outputs": [
    {
     "data": {
      "text/plain": [
       "\"select\\n\\tl_returnflag,\\n\\tl_linestatus,\\n\\tsum(l_quantity) as sum_qty,\\n\\tsum(l_extendedprice) as sum_base_price,\\n\\tsum(l_extendedprice * (1 - l_discount)) as sum_disc_price,\\n\\tsum(l_extendedprice * (1 - l_discount) * (1 + l_tax)) as sum_charge,\\n\\tavg(l_quantity) as avg_qty,\\n\\tavg(l_extendedprice) as avg_price,\\n\\tavg(l_discount) as avg_disc,\\n\\tcount(*) as count_order\\nfrom\\n\\tlineitem\\nwhere\\n\\tl_shipdate <= date_sub(cast('1998-12-01' as date), interval '103' day)\\ngroup by\\n\\tl_returnflag,\\n\\tl_linestatus\\norder by\\n\\tl_returnflag,\\n\\tl_linestatus;\\n\""
      ]
     },
     "execution_count": 45,
     "metadata": {},
     "output_type": "execute_result"
    }
   ],
   "source": [
    "query_text"
   ]
  },
  {
   "cell_type": "code",
   "execution_count": null,
   "metadata": {},
   "outputs": [],
   "source": []
  },
  {
   "cell_type": "code",
   "execution_count": 44,
   "metadata": {},
   "outputs": [
    {
     "ename": "AttributeError",
     "evalue": "module 'sql_dev' has no attribute 'extract_table_identifiers'",
     "output_type": "error",
     "traceback": [
      "\u001b[0;31m---------------------------------------------------------------------------\u001b[0m",
      "\u001b[0;31mAttributeError\u001b[0m                            Traceback (most recent call last)",
      "\u001b[0;32m<ipython-input-44-594ab7ce1539>\u001b[0m in \u001b[0;36m<module>\u001b[0;34m\u001b[0m\n\u001b[0;32m----> 1\u001b[0;31m \u001b[0msql_dev\u001b[0m\u001b[0;34m.\u001b[0m\u001b[0mextract_table_identifiers\u001b[0m\u001b[0;34m(\u001b[0m\u001b[0mquery_text\u001b[0m\u001b[0;34m)\u001b[0m\u001b[0;34m\u001b[0m\u001b[0;34m\u001b[0m\u001b[0m\n\u001b[0m",
      "\u001b[0;31mAttributeError\u001b[0m: module 'sql_dev' has no attribute 'extract_table_identifiers'"
     ]
    }
   ],
   "source": [
    "sql_dev.extract_table_identifiers(query_text)"
   ]
  },
  {
   "cell_type": "code",
   "execution_count": null,
   "metadata": {},
   "outputs": [],
   "source": []
  }
 ],
 "metadata": {
  "kernelspec": {
   "display_name": "Python 3",
   "language": "python",
   "name": "python3"
  },
  "language_info": {
   "codemirror_mode": {
    "name": "ipython",
    "version": 3
   },
   "file_extension": ".py",
   "mimetype": "text/x-python",
   "name": "python",
   "nbconvert_exporter": "python",
   "pygments_lexer": "ipython3",
   "version": "3.8.2"
  }
 },
 "nbformat": 4,
 "nbformat_minor": 4
}
