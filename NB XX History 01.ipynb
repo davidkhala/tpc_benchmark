{
 "cells": [
  {
   "cell_type": "markdown",
   "metadata": {},
   "source": [
    "### TPC Benchmarking  \n",
    "Results Plotting  "
   ]
  },
  {
   "cell_type": "code",
   "execution_count": 19,
   "metadata": {},
   "outputs": [],
   "source": [
    "import glob\n",
    "import numpy as np\n",
    "import pandas as pd\n",
    "import matplotlib.pyplot as plt\n",
    "import seaborn as sns\n",
    "from datetime import datetime\n",
    "\n",
    "sns.set_context(\"notebook\", font_scale=1.0, rc={\"lines.linewidth\": 1.0})\n",
    "\n",
    "pd.options.display.max_rows = 999\n",
    "pd.options.display.max_columns = 999\n",
    "\n",
    "import config, sfa, bqa, tools"
   ]
  },
  {
   "cell_type": "code",
   "execution_count": 2,
   "metadata": {},
   "outputs": [],
   "source": [
    "from importlib import reload"
   ]
  },
  {
   "cell_type": "code",
   "execution_count": 11,
   "metadata": {},
   "outputs": [],
   "source": [
    "dt_str = \"96 hours\""
   ]
  },
  {
   "cell_type": "code",
   "execution_count": 12,
   "metadata": {},
   "outputs": [],
   "source": [
    "reload(sfa)\n",
    "sf = sfa.SFTPC(test=\"ds\",\n",
    "               scale=1,\n",
    "               cid=\"01\",\n",
    "               warehouse=\"TEST9000\",\n",
    "               desc=\"query_history\",\n",
    "               verbose=False,\n",
    "               verbose_query=False)\n",
    "sf.connect()\n",
    "df_sf_history_sq, qid_sf = sf.query_history(t0=pd.Timestamp.now() - pd.Timedelta(dt_str),\n",
    "                                            t1=pd.Timestamp.now())\n",
    "\n",
    "sf.close()"
   ]
  },
  {
   "cell_type": "code",
   "execution_count": 13,
   "metadata": {},
   "outputs": [
    {
     "name": "stdout",
     "output_type": "stream",
     "text": [
      "Stored 'df_sf_history_sq' (DataFrame)\n"
     ]
    }
   ],
   "source": [
    "%store df_sf_history_sq"
   ]
  },
  {
   "cell_type": "code",
   "execution_count": 14,
   "metadata": {},
   "outputs": [],
   "source": [
    "reload(sfa)\n",
    "sf = sfa.AU(warehouse=\"TEST9000\")\n",
    "sf.connect()\n",
    "\n",
    "df_sf_history_av, qid_sf = sf.query_history_view(t0=pd.Timestamp.now() - pd.Timedelta(dt_str),\n",
    "                                                  t1=pd.Timestamp.now())\n",
    "\n",
    "sf.close()"
   ]
  },
  {
   "cell_type": "code",
   "execution_count": 15,
   "metadata": {},
   "outputs": [
    {
     "name": "stdout",
     "output_type": "stream",
     "text": [
      "Stored 'df_sf_history_av' (DataFrame)\n"
     ]
    }
   ],
   "source": [
    "%store df_sf_history_av"
   ]
  },
  {
   "cell_type": "code",
   "execution_count": 33,
   "metadata": {},
   "outputs": [
    {
     "name": "stdout",
     "output_type": "stream",
     "text": [
      "BigQuery configuration\n",
      "=======================\n",
      "Service Account:  bq-476262002685@bigquery-encryption.iam.gserviceaccount.com\n",
      "\n",
      "QUERY TEXT\n",
      "==========\n",
      "select * from `region-us`.INFORMATION_SCHEMA.JOBS_BY_PROJECT where job_type = 'QUERY' and end_time between '2020-05-16 09:21:57' AND '2020-05-20 09:21:57'\n",
      "\n"
     ]
    }
   ],
   "source": [
    "reload(bqa)\n",
    "bq = bqa.BQTPC(test=\"ds\",\n",
    "               scale=1,\n",
    "               cid=\"01\",\n",
    "               desc=\"query_history\",\n",
    "               verbose=True,\n",
    "               verbose_query=True)\n",
    "\n",
    "df_bq_history, qid_bq = bq.query_history(t0=pd.Timestamp.now() - pd.Timedelta(dt_str),\n",
    "                                          t1=pd.Timestamp.now())"
   ]
  },
  {
   "cell_type": "code",
   "execution_count": 34,
   "metadata": {},
   "outputs": [],
   "source": [
    "bq_job_keepers = [\"job_id\", \"project_id\", \"job_type\", \"start_time\", \"end_time\", \n",
    "                  \"query\", \"total_bytes_processed\", \"labels\"]"
   ]
  },
  {
   "cell_type": "code",
   "execution_count": 35,
   "metadata": {},
   "outputs": [
    {
     "name": "stdout",
     "output_type": "stream",
     "text": [
      "Stored 'df_bq_history' (DataFrame)\n"
     ]
    }
   ],
   "source": [
    "%store df_bq_history"
   ]
  },
  {
   "cell_type": "raw",
   "metadata": {},
   "source": [
    "df_bq_history[\"query\"]"
   ]
  },
  {
   "cell_type": "raw",
   "metadata": {},
   "source": [
    "df_bq_history"
   ]
  },
  {
   "cell_type": "code",
   "execution_count": null,
   "metadata": {},
   "outputs": [],
   "source": []
  }
 ],
 "metadata": {
  "kernelspec": {
   "display_name": "Python 3",
   "language": "python",
   "name": "python3"
  },
  "language_info": {
   "codemirror_mode": {
    "name": "ipython",
    "version": 3
   },
   "file_extension": ".py",
   "mimetype": "text/x-python",
   "name": "python",
   "nbconvert_exporter": "python",
   "pygments_lexer": "ipython3",
   "version": "3.7.7"
  }
 },
 "nbformat": 4,
 "nbformat_minor": 4
}
