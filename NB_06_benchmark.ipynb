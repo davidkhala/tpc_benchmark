{
 "cells": [
  {
   "cell_type": "markdown",
   "metadata": {},
   "source": [
    "### TPC Benchmark Comparison  "
   ]
  },
  {
   "cell_type": "code",
   "execution_count": null,
   "metadata": {},
   "outputs": [],
   "source": [
    "import pandas as pd\n",
    "import numpy as np\n",
    "import matplotlib.pyplot as plt\n",
    "\n",
    "import config, tools, compare\n",
    "\n",
    "pd.options.display.max_rows = 9999\n",
    "pd.options.display.max_columns = 9999\n",
    "pd.set_option('precision', 7)"
   ]
  },
  {
   "cell_type": "markdown",
   "metadata": {},
   "source": [
    "### Test Identification and Setup"
   ]
  },
  {
   "cell_type": "code",
   "execution_count": null,
   "metadata": {},
   "outputs": [],
   "source": [
    "benchmark = compare.QueryCompare()\n",
    "\n",
    "# str, TPC test - either 'ds' or 'h'\n",
    "benchmark.test     = \"\"\n",
    "\n",
    "# int, TPC scale factor (in GB)\n",
    "benchmark.scale    = 1\n",
    "\n",
    "# str, configuration identifying number i.e. '01', '02'\n",
    "benchmark.cid      = \"\"\n",
    "\n",
    "# list of str, systems to run benchmark test\n",
    "benchmark.systems = [\"bq\", \"sf\"]\n",
    "\n",
    "# int, TPC query stream number\n",
    "benchmark.stream_n = 0\n",
    "\n",
    "# str, description of test run (no _ characters)\n",
    "benchmark.desc     = \"test-01\"\n",
    "\n",
    "# print general debug statements\n",
    "benchmark.verbose       = False\n",
    "\n",
    "# print query text executed\n",
    "benchmark.verbose_query = False\n",
    "\n",
    "# print status after each query\n",
    "benchmark.verbose_iter  = True\n",
    "\n",
    "# all the database system to cache and used cached results\n",
    "benchmark.cache = False\n",
    "\n",
    "# run qualifying data queries\n",
    "benchmark.qual = False\n",
    "\n",
    "# save data to file\n",
    "benchmark.save = True\n",
    "\n",
    "# auto timestamp generation\n",
    "benchmark.set_timestamp_dir()"
   ]
  },
  {
   "cell_type": "code",
   "execution_count": null,
   "metadata": {},
   "outputs": [],
   "source": [
    "print(\"Saving data to: \", benchmark.results_dir)"
   ]
  },
  {
   "cell_type": "raw",
   "metadata": {},
   "source": [
    "%%time \n",
    "# optional: run a single query for comparison\n",
    "query_n = \n",
    "benchmark.run_single(query_n = query_n)"
   ]
  },
  {
   "cell_type": "code",
   "execution_count": null,
   "metadata": {},
   "outputs": [],
   "source": [
    "# create the tpc query sequence for the stream\n",
    "seq = tools.tpc_stream(test=benchmark.test, n=benchmark.stream_n)\n",
    "print(\"Sequence:\")\n",
    "print(seq)"
   ]
  },
  {
   "cell_type": "code",
   "execution_count": null,
   "metadata": {},
   "outputs": [],
   "source": [
    "%%time\n",
    "# run an query stream sequence\n",
    "benchmark.run(seq=seq, systems=['bq'])"
   ]
  },
  {
   "cell_type": "code",
   "execution_count": null,
   "metadata": {},
   "outputs": [],
   "source": [
    "if len(benchmark.systems) > 1:\n",
    "    df_results = benchmark.compare()\n",
    "    df_results"
   ]
  },
  {
   "cell_type": "markdown",
   "metadata": {},
   "source": [
    "#### Query Result Comparison"
   ]
  },
  {
   "cell_type": "code",
   "execution_count": null,
   "metadata": {},
   "outputs": [],
   "source": [
    "print(f\"TPC Random Seed: {config.random_seed}\")\n",
    "\n",
    "x = df_results.equal.sum()/len(df_results)\n",
    "print(\"Query Stream Results Identical: {:2.2f}%\".format(x*100))\n",
    "print(\"Non-Matching Query Results:\",\n",
    "      list(df_results.loc[df_results.equal == False, \"q_sf\"].values))"
   ]
  },
  {
   "cell_type": "code",
   "execution_count": null,
   "metadata": {},
   "outputs": [],
   "source": [
    "df_results.loc[df_results.equal == False, [\"q_bq\", \"equal_percent\"]]"
   ]
  },
  {
   "cell_type": "code",
   "execution_count": null,
   "metadata": {},
   "outputs": [],
   "source": [
    "results_dir = benchmark.results_dir\n",
    "results_dir"
   ]
  },
  {
   "cell_type": "code",
   "execution_count": null,
   "metadata": {},
   "outputs": [],
   "source": [
    "%store results_dir"
   ]
  }
 ],
 "metadata": {
  "kernelspec": {
   "display_name": "Python 3",
   "language": "python",
   "name": "python3"
  },
  "language_info": {
   "codemirror_mode": {
    "name": "ipython",
    "version": 3
   },
   "file_extension": ".py",
   "mimetype": "text/x-python",
   "name": "python",
   "nbconvert_exporter": "python",
   "pygments_lexer": "ipython3",
   "version": "3.8.2"
  }
 },
 "nbformat": 4,
 "nbformat_minor": 4
}
