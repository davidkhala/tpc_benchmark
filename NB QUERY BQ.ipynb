{
 "cells": [
  {
   "cell_type": "code",
   "execution_count": 1,
   "metadata": {},
   "outputs": [],
   "source": [
    "import config, bqa, poor_security"
   ]
  },
  {
   "cell_type": "code",
   "execution_count": 2,
   "metadata": {
    "pycharm": {
     "name": "#%%\n"
    }
   },
   "outputs": [
    {
     "name": "stdout",
     "output_type": "stream",
     "text": [
      "BigQuery configuration\n",
      "=======================\n",
      "Service Account:  bq-476262002685@bigquery-encryption.iam.gserviceaccount.com\n",
      "\n",
      "TPC-DS dsqgen parameters\n",
      "========================\n",
      "command & kwargs: ['./dsqgen', '-VERBOSE', '-SCALE', '1', '-RNGSEED', '13', '-TEMPLATE', 'query4.tpl', '-FILTER', '-DIALECT', 'sqlserver_tpc', '-DIRECTORY', '/home/colin/code/bq_snowflake_benchmark/tpl/bq_ds']\n",
      "cwd: /home/colin/code/bq_snowflake_benchmark/ds/v2.11.0rc2/tools\n",
      "\n"
     ]
    },
    {
     "data": {
      "text/html": [
       "<div>\n",
       "<style scoped>\n",
       "    .dataframe tbody tr th:only-of-type {\n",
       "        vertical-align: middle;\n",
       "    }\n",
       "\n",
       "    .dataframe tbody tr th {\n",
       "        vertical-align: top;\n",
       "    }\n",
       "\n",
       "    .dataframe thead th {\n",
       "        text-align: right;\n",
       "    }\n",
       "</style>\n",
       "<table border=\"1\" class=\"dataframe\">\n",
       "  <thead>\n",
       "    <tr style=\"text-align: right;\">\n",
       "      <th></th>\n",
       "      <th>customer_id</th>\n",
       "      <th>customer_first_name</th>\n",
       "      <th>customer_last_name</th>\n",
       "      <th>customer_email_address</th>\n",
       "    </tr>\n",
       "  </thead>\n",
       "  <tbody>\n",
       "    <tr>\n",
       "      <th>0</th>\n",
       "      <td>AAAAAAAAHNLKAAAA</td>\n",
       "      <td>Brian</td>\n",
       "      <td>Cruz</td>\n",
       "      <td>Brian.Cruz@i5.edu</td>\n",
       "    </tr>\n",
       "    <tr>\n",
       "      <th>1</th>\n",
       "      <td>AAAAAAAAJOLJAAAA</td>\n",
       "      <td>Debbie</td>\n",
       "      <td>Lawrence</td>\n",
       "      <td>Debbie.Lawrence@G.com</td>\n",
       "    </tr>\n",
       "    <tr>\n",
       "      <th>2</th>\n",
       "      <td>AAAAAAAAODNFAAAA</td>\n",
       "      <td>Kimberly</td>\n",
       "      <td>Paige</td>\n",
       "      <td>Kimberly.Paige@NbfsBa0kRonyegLd.org</td>\n",
       "    </tr>\n",
       "  </tbody>\n",
       "</table>\n",
       "</div>"
      ],
      "text/plain": [
       "        customer_id customer_first_name customer_last_name  \\\n",
       "0  AAAAAAAAHNLKAAAA               Brian               Cruz   \n",
       "1  AAAAAAAAJOLJAAAA              Debbie           Lawrence   \n",
       "2  AAAAAAAAODNFAAAA            Kimberly              Paige   \n",
       "\n",
       "                customer_email_address  \n",
       "0                    Brian.Cruz@i5.edu  \n",
       "1                Debbie.Lawrence@G.com  \n",
       "2  Kimberly.Paige@NbfsBa0kRonyegLd.org  "
      ]
     },
     "execution_count": 2,
     "metadata": {},
     "output_type": "execute_result"
    }
   ],
   "source": [
    "bq = bqa.BQTPC(test=\"ds\",\n",
    "               scale=1,\n",
    "               cid=\"01\",\n",
    "               desc=\"dev-test-01\",\n",
    "               verbose=True,\n",
    "               verbose_query=False)\n",
    "\n",
    "t0, t1, query_result, query_text = bq.query_n(n=4, std_out=False)\n",
    "query_result.result().to_dataframe()"
   ]
  },
  {
   "cell_type": "code",
   "execution_count": 3,
   "metadata": {},
   "outputs": [
    {
     "name": "stdout",
     "output_type": "stream",
     "text": [
      "BigQuery configuration\n",
      "=======================\n",
      "Service Account:  bq-476262002685@bigquery-encryption.iam.gserviceaccount.com\n",
      "\n",
      "===============\n",
      "START QUERY: 1\n",
      "QUERY Label: ds_1gb_01-q1-t1-dev-test-01\n",
      "TPC-DS dsqgen parameters\n",
      "========================\n",
      "command & kwargs: ['./dsqgen', '-VERBOSE', '-SCALE', '1', '-RNGSEED', '13', '-TEMPLATE', 'query1.tpl', '-FILTER', '-DIALECT', 'sqlserver_tpc', '-DIRECTORY', '/home/colin/code/bq_snowflake_benchmark/tpl/bq_ds']\n",
      "cwd: /home/colin/code/bq_snowflake_benchmark/ds/v2.11.0rc2/tools\n",
      "\n",
      "QUERY: 1\n",
      "========================================\n",
      "Query ID: e36f914d-2d5e-4dca-9ee9-76db3f4dcd07\n",
      "Total Time Elapsed: 0 days 00:00:00.595606\n",
      "----------------------------------------\n",
      "\n",
      "Head of Result:\n",
      "===============\n",
      "      c_customer_id\n",
      "0  AAAAAAAAAAADAAAA\n",
      "1  AAAAAAAAAABABAAA\n",
      "2  AAAAAAAAAABABAAA\n",
      "3  AAAAAAAAAABBBAAA\n",
      "4  AAAAAAAAAABLAAAA\n",
      "\n",
      "===============\n",
      "START QUERY: 2\n",
      "QUERY Label: ds_1gb_01-q2-t1-dev-test-01\n",
      "TPC-DS dsqgen parameters\n",
      "========================\n",
      "command & kwargs: ['./dsqgen', '-VERBOSE', '-SCALE', '1', '-RNGSEED', '13', '-TEMPLATE', 'query2.tpl', '-FILTER', '-DIALECT', 'sqlserver_tpc', '-DIRECTORY', '/home/colin/code/bq_snowflake_benchmark/tpl/bq_ds']\n",
      "cwd: /home/colin/code/bq_snowflake_benchmark/ds/v2.11.0rc2/tools\n",
      "\n",
      "QUERY: 2\n",
      "========================================\n",
      "Query ID: 45bb3b75-7ccd-4913-9409-23f1ab634d2a\n",
      "Total Time Elapsed: 0 days 00:00:00.648553\n",
      "----------------------------------------\n",
      "\n",
      "Head of Result:\n",
      "===============\n",
      "   d_week_seq1   f0_   f1_   f2_   f3_  f4_  f5_   f6_\n",
      "0         5270  3.95  1.54  2.04  1.41  3.5  3.5  3.41\n",
      "1         5270  3.95  1.54  2.04  1.41  3.5  3.5  3.41\n",
      "2         5270  3.95  1.54  2.04  1.41  3.5  3.5  3.41\n",
      "3         5270  3.95  1.54  2.04  1.41  3.5  3.5  3.41\n",
      "4         5270  3.95  1.54  2.04  1.41  3.5  3.5  3.41\n",
      "\n",
      "Query Sequence Statistics\n",
      "=========================\n",
      "Total Time Elapsed: 0 days 00:00:05.217706\n",
      "\n"
     ]
    }
   ],
   "source": [
    "bq = bqa.BQTPC(test=\"ds\",\n",
    "               scale=1,\n",
    "               cid=\"01\",\n",
    "               desc=\"dev-test-01\",\n",
    "               verbose_query=False, verbose=True)\n",
    "\n",
    "bq.query_seq([1, 2],\n",
    "             seq_id=\"t1\", qual=None, save=True, verbose_iter=True)"
   ]
  },
  {
   "cell_type": "code",
   "execution_count": null,
   "metadata": {},
   "outputs": [],
   "source": []
  }
 ],
 "metadata": {
  "kernelspec": {
   "display_name": "Python 3",
   "language": "python",
   "name": "python3"
  },
  "language_info": {
   "codemirror_mode": {
    "name": "ipython",
    "version": 3
   },
   "file_extension": ".py",
   "mimetype": "text/x-python",
   "name": "python",
   "nbconvert_exporter": "python",
   "pygments_lexer": "ipython3",
   "version": "3.8.2"
  }
 },
 "nbformat": 4,
 "nbformat_minor": 4
}
